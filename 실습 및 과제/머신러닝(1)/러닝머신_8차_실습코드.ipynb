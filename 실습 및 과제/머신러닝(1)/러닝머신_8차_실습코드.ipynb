{
  "nbformat": 4,
  "nbformat_minor": 0,
  "metadata": {
    "colab": {
      "provenance": [],
      "collapsed_sections": [
        "1EcqH0Ohf0uT"
      ]
    },
    "kernelspec": {
      "name": "python3",
      "display_name": "Python 3"
    },
    "language_info": {
      "name": "python"
    }
  },
  "cells": [
    {
      "cell_type": "markdown",
      "source": [
        "### 불용어\n"
      ],
      "metadata": {
        "id": "1EcqH0Ohf0uT"
      }
    },
    {
      "cell_type": "code",
      "source": [
        "stop_words = ['',\n",
        " '않다',\n",
        " '되어다',\n",
        " '되다',\n",
        " '하다',\n",
        " '어떻다',\n",
        " '이렇다',\n",
        " '이다',\n",
        " '어제',\n",
        " '매일',\n",
        " '아',\n",
        " '휴',\n",
        " '아이구',\n",
        " '아이쿠',\n",
        " '아이고',\n",
        " '어',\n",
        " '나',\n",
        " '우리',\n",
        " '저희',\n",
        " '따라',\n",
        " '의해',\n",
        " '을',\n",
        " '를',\n",
        " '에',\n",
        " '의',\n",
        " '가',\n",
        " '으로',\n",
        " '로',\n",
        " '에게',\n",
        " '뿐이다',\n",
        " '의거하여',\n",
        " '근거하여',\n",
        " '입각하여',\n",
        " '기준으로',\n",
        " '예하면',\n",
        " '예를 들면',\n",
        " '예를 들자면',\n",
        " '저',\n",
        " '소인',\n",
        " '소생',\n",
        " '저희',\n",
        " '지말고',\n",
        " '하지마',\n",
        " '하지마라',\n",
        " '다른',\n",
        " '물론',\n",
        " '또한',\n",
        " '그리고',\n",
        " '비길수 없다',\n",
        " '해서는 안된다',\n",
        " '뿐만 아니라',\n",
        " '만이 아니다',\n",
        " '만은 아니다',\n",
        " '막론하고',\n",
        " '관계없이',\n",
        " '그치지 않다',\n",
        " '그러나',\n",
        " '그런데',\n",
        " '하지만',\n",
        " '든간에',\n",
        " '논하지 않다',\n",
        " '따지지 않다',\n",
        " '설사',\n",
        " '비록',\n",
        " '더라도',\n",
        " '아니면',\n",
        " '만 못하다',\n",
        " '하는 편이 낫다',\n",
        " '불문하고',\n",
        " '향하여',\n",
        " '향해서',\n",
        " '향하다',\n",
        " '쪽으로',\n",
        " '틈타',\n",
        " '이용하여',\n",
        " '타다',\n",
        " '오르다',\n",
        " '제외하고',\n",
        " '이 외에',\n",
        " '이 밖에',\n",
        " '하여야',\n",
        " '비로소',\n",
        " '한다면 몰라도',\n",
        " '외에도',\n",
        " '이곳',\n",
        " '여기',\n",
        " '부터',\n",
        " '기점으로',\n",
        " '따라서',\n",
        " '할 생각이다',\n",
        " '하려고하다',\n",
        " '이리하여',\n",
        " '그리하여',\n",
        " '그렇게 함으로써',\n",
        " '하지만',\n",
        " '일때',\n",
        " '할때',\n",
        " '앞에서',\n",
        " '중에서',\n",
        " '보는데서',\n",
        " '으로써',\n",
        " '로써',\n",
        " '까지',\n",
        " '해야한다',\n",
        " '일것이다',\n",
        " '반드시',\n",
        " '할줄알다',\n",
        " '할수있다',\n",
        " '할수있어',\n",
        " '임에 틀림없다',\n",
        " '한다면',\n",
        " '등',\n",
        " '등등',\n",
        " '제',\n",
        " '겨우',\n",
        " '단지',\n",
        " '다만',\n",
        " '할뿐',\n",
        " '딩동',\n",
        " '댕그',\n",
        " '대해서',\n",
        " '대하여',\n",
        " '대하면',\n",
        " '훨씬',\n",
        " '얼마나',\n",
        " '얼마만큼',\n",
        " '얼마큼',\n",
        " '남짓',\n",
        " '여',\n",
        " '얼마간',\n",
        " '약간',\n",
        " '다소',\n",
        " '좀',\n",
        " '조금',\n",
        " '다수',\n",
        " '몇',\n",
        " '얼마',\n",
        " '지만',\n",
        " '하물며',\n",
        " '또한',\n",
        " '그러나',\n",
        " '그렇지만',\n",
        " '하지만',\n",
        " '이외에도',\n",
        " '대해 말하자면',\n",
        " '뿐이다',\n",
        " '다음에',\n",
        " '반대로',\n",
        " '반대로 말하자면',\n",
        " '이와 반대로',\n",
        " '바꾸어서 말하면',\n",
        " '바꾸어서 한다면',\n",
        " '만약',\n",
        " '그렇지않으면',\n",
        " '까악',\n",
        " '툭',\n",
        " '딱',\n",
        " '삐걱거리다',\n",
        " '보드득',\n",
        " '비걱거리다',\n",
        " '꽈당',\n",
        " '응당',\n",
        " '해야한다',\n",
        " '에 가서',\n",
        " '각',\n",
        " '각각',\n",
        " '여러분',\n",
        " '각종',\n",
        " '각자',\n",
        " '제각기',\n",
        " '하도록하다',\n",
        " '와',\n",
        " '과',\n",
        " '그러므로',\n",
        " '그래서',\n",
        " '고로',\n",
        " '한 까닭에',\n",
        " '하기 때문에',\n",
        " '거니와',\n",
        " '이지만',\n",
        " '대하여',\n",
        " '관하여',\n",
        " '관한',\n",
        " '과연',\n",
        " '실로',\n",
        " '아니나다를가',\n",
        " '생각한대로',\n",
        " '진짜로',\n",
        " '한적이있다',\n",
        " '하곤하였다',\n",
        " '하',\n",
        " '하하',\n",
        " '허허',\n",
        " '아하',\n",
        " '거바',\n",
        " '와',\n",
        " '오',\n",
        " '왜',\n",
        " '어째서',\n",
        " '무엇때문에',\n",
        " '어찌',\n",
        " '하겠는가',\n",
        " '무슨',\n",
        " '어디',\n",
        " '어느곳',\n",
        " '더군다나',\n",
        " '하물며',\n",
        " '더욱이는',\n",
        " '어느때',\n",
        " '언제',\n",
        " '야',\n",
        " '이봐',\n",
        " '어이',\n",
        " '여보시오',\n",
        " '흐흐',\n",
        " '흥',\n",
        " '휴',\n",
        " '헉헉',\n",
        " '헐떡헐떡',\n",
        " '영차',\n",
        " '여차',\n",
        " '어기여차',\n",
        " '끙끙',\n",
        " '아야',\n",
        " '앗',\n",
        " '아야',\n",
        " '콸콸',\n",
        " '졸졸',\n",
        " '좍좍',\n",
        " '뚝뚝',\n",
        " '주룩주룩',\n",
        " '솨',\n",
        " '우르르',\n",
        " '그래도',\n",
        " '또',\n",
        " '그리고',\n",
        " '바꾸어말하면',\n",
        " '바꾸어말하자면',\n",
        " '혹은',\n",
        " '혹시',\n",
        " '답다',\n",
        " '및',\n",
        " '그에 따르는',\n",
        " '때가 되어',\n",
        " '즉',\n",
        " '지든지',\n",
        " '설령',\n",
        " '가령',\n",
        " '하더라도',\n",
        " '할지라도',\n",
        " '일지라도',\n",
        " '지든지',\n",
        " '몇',\n",
        " '거의',\n",
        " '하마터면',\n",
        " '인젠',\n",
        " '이젠',\n",
        " '된바에야',\n",
        " '된이상',\n",
        " '만큼\\t어찌됏든',\n",
        " '그위에',\n",
        " '게다가',\n",
        " '점에서 보아',\n",
        " '비추어 보아',\n",
        " '고려하면',\n",
        " '하게될것이다',\n",
        " '일것이다',\n",
        " '비교적',\n",
        " '좀',\n",
        " '보다더',\n",
        " '비하면',\n",
        " '시키다',\n",
        " '하게하다',\n",
        " '할만하다',\n",
        " '의해서',\n",
        " '연이서',\n",
        " '이어서',\n",
        " '잇따라',\n",
        " '뒤따라',\n",
        " '뒤이어',\n",
        " '결국',\n",
        " '의지하여',\n",
        " '기대여',\n",
        " '통하여',\n",
        " '자마자',\n",
        " '더욱더',\n",
        " '불구하고',\n",
        " '얼마든지',\n",
        " '마음대로',\n",
        " '주저하지 않고',\n",
        " '곧',\n",
        " '즉시',\n",
        " '바로',\n",
        " '당장',\n",
        " '하자마자',\n",
        " '밖에 안된다',\n",
        " '하면된다',\n",
        " '그래',\n",
        " '그렇지',\n",
        " '요컨대',\n",
        " '다시 말하자면',\n",
        " '바꿔 말하면',\n",
        " '즉',\n",
        " '구체적으로',\n",
        " '말하자면',\n",
        " '시작하여',\n",
        " '시초에',\n",
        " '이상',\n",
        " '허',\n",
        " '헉',\n",
        " '허걱',\n",
        " '바와같이',\n",
        " '해도좋다',\n",
        " '해도된다',\n",
        " '게다가',\n",
        " '더구나',\n",
        " '하물며',\n",
        " '와르르',\n",
        " '팍',\n",
        " '퍽',\n",
        " '펄렁',\n",
        " '동안',\n",
        " '이래',\n",
        " '하고있었다',\n",
        " '이었다',\n",
        " '에서',\n",
        " '로부터',\n",
        " '까지',\n",
        " '예하면',\n",
        " '했어요',\n",
        " '해요',\n",
        " '함께',\n",
        " '같이',\n",
        " '더불어',\n",
        " '마저',\n",
        " '마저도',\n",
        " '양자',\n",
        " '모두',\n",
        " '습니다',\n",
        " '가까스로',\n",
        " '하려고하다',\n",
        " '즈음하여',\n",
        " '다른',\n",
        " '다른 방면으로',\n",
        " '해봐요',\n",
        " '습니까',\n",
        " '했어요',\n",
        " '말할것도 없고',\n",
        " '무릎쓰고',\n",
        " '개의치않고',\n",
        " '하는것만 못하다',\n",
        " '하는것이 낫다',\n",
        " '매',\n",
        " '매번',\n",
        " '들',\n",
        " '모',\n",
        " '어느것',\n",
        " '어느',\n",
        " '로써',\n",
        " '갖고말하자면',\n",
        " '어디',\n",
        " '어느쪽',\n",
        " '어느것',\n",
        " '어느해',\n",
        " '어느 년도',\n",
        " '라 해도',\n",
        " '언젠가',\n",
        " '어떤것',\n",
        " '어느것',\n",
        " '저기',\n",
        " '저쪽',\n",
        " '저것',\n",
        " '그때',\n",
        " '그럼',\n",
        " '그러면',\n",
        " '요만한걸',\n",
        " '그래',\n",
        " '그때',\n",
        " '저것만큼',\n",
        " '그저',\n",
        " '이르기까지',\n",
        " '할 줄 안다',\n",
        " '할 힘이 있다',\n",
        " '너',\n",
        " '너희',\n",
        " '당신',\n",
        " '어찌',\n",
        " '설마',\n",
        " '차라리',\n",
        " '할지언정',\n",
        " '할지라도',\n",
        " '할망정',\n",
        " '할지언정',\n",
        " '구토하다',\n",
        " '게우다',\n",
        " '토하다',\n",
        " '메쓰겁다',\n",
        " '옆사람',\n",
        " '퉤',\n",
        " '쳇',\n",
        " '의거하여',\n",
        " '근거하여',\n",
        " '의해',\n",
        " '따라',\n",
        " '힘입어',\n",
        " '그',\n",
        " '다음',\n",
        " '버금',\n",
        " '두번째로',\n",
        " '기타',\n",
        " '첫번째로',\n",
        " '나머지는',\n",
        " '그중에서',\n",
        " '견지에서',\n",
        " '형식으로 쓰여',\n",
        " '입장에서',\n",
        " '위해서',\n",
        " '단지',\n",
        " '의해되다',\n",
        " '하도록시키다',\n",
        " '뿐만아니라',\n",
        " '반대로',\n",
        " '전후',\n",
        " '전자',\n",
        " '앞의것',\n",
        " '잠시',\n",
        " '잠깐',\n",
        " '하면서',\n",
        " '그렇지만',\n",
        " '다음에',\n",
        " '그러한즉',\n",
        " '그런즉',\n",
        " '남들',\n",
        " '아무거나',\n",
        " '어찌하든지',\n",
        " '같다',\n",
        " '비슷하다',\n",
        " '예컨대',\n",
        " '이럴정도로',\n",
        " '어떻게',\n",
        " '만약',\n",
        " '만일',\n",
        " '위에서 서술한바와같이',\n",
        " '인 듯하다',\n",
        " '하지 않는다면',\n",
        " '만약에',\n",
        " '무엇',\n",
        " '무슨',\n",
        " '어느',\n",
        " '어떤',\n",
        " '아래윗',\n",
        " '조차',\n",
        " '한데',\n",
        " '그럼에도 불구하고',\n",
        " '여전히',\n",
        " '심지어',\n",
        " '까지도',\n",
        " '조차도',\n",
        " '하지 않도록',\n",
        " '않기 위하여',\n",
        " '때',\n",
        " '시각',\n",
        " '무렵',\n",
        " '시간',\n",
        " '동안',\n",
        " '어때',\n",
        " '어떠한',\n",
        " '하여금',\n",
        " '네',\n",
        " '예',\n",
        " '우선',\n",
        " '누구',\n",
        " '누가 알겠는가',\n",
        " '아무도',\n",
        " '줄은모른다',\n",
        " '줄은 몰랏다',\n",
        " '하는 김에',\n",
        " '겸사겸사',\n",
        " '하는바',\n",
        " '그런 까닭에',\n",
        " '한 이유는',\n",
        " '그러니',\n",
        " '그러니까',\n",
        " '때문에',\n",
        " '그',\n",
        " '너희',\n",
        " '그들',\n",
        " '너희들',\n",
        " '타인',\n",
        " '것',\n",
        " '것들',\n",
        " '너',\n",
        " '위하여',\n",
        " '공동으로',\n",
        " '동시에',\n",
        " '하기 위하여',\n",
        " '어찌하여',\n",
        " '무엇때문에',\n",
        " '붕붕',\n",
        " '윙윙',\n",
        " '나',\n",
        " '우리',\n",
        " '엉엉',\n",
        " '휘익',\n",
        " '윙윙',\n",
        " '오호',\n",
        " '아하',\n",
        " '어쨋든',\n",
        " '만 못하다\\t하기보다는',\n",
        " '차라리',\n",
        " '하는 편이 낫다',\n",
        " '흐흐',\n",
        " '놀라다',\n",
        " '상대적으로 말하자면',\n",
        " '마치',\n",
        " '아니라면',\n",
        " '쉿',\n",
        " '그렇지 않으면',\n",
        " '그렇지 않다면',\n",
        " '안 그러면',\n",
        " '아니었다면',\n",
        " '하든지',\n",
        " '아니면',\n",
        " '이라면',\n",
        " '좋아',\n",
        " '알았어',\n",
        " '하는것도',\n",
        " '그만이다',\n",
        " '어쩔수 없다',\n",
        " '하나',\n",
        " '일',\n",
        " '일반적으로',\n",
        " '일단',\n",
        " '한켠으로는',\n",
        " '오자마자',\n",
        " '이렇게되면',\n",
        " '이와같다면',\n",
        " '전부',\n",
        " '한마디',\n",
        " '한항목',\n",
        " '근거로',\n",
        " '하기에',\n",
        " '아울러',\n",
        " '하지 않도록',\n",
        " '않기 위해서',\n",
        " '이르기까지',\n",
        " '이 되다',\n",
        " '로 인하여',\n",
        " '까닭으로',\n",
        " '이유만으로',\n",
        " '이로 인하여',\n",
        " '그래서',\n",
        " '이 때문에',\n",
        " '그러므로',\n",
        " '그런 까닭에',\n",
        " '알 수 있다',\n",
        " '결론을 낼 수 있다',\n",
        " '으로 인하여',\n",
        " '있다',\n",
        " '어떤것',\n",
        " '관계가 있다',\n",
        " '관련이 있다',\n",
        " '연관되다',\n",
        " '어떤것들',\n",
        " '에 대해',\n",
        " '이리하여',\n",
        " '그리하여',\n",
        " '여부',\n",
        " '하기보다는',\n",
        " '하느니',\n",
        " '하면 할수록',\n",
        " '운운',\n",
        " '이러이러하다',\n",
        " '하구나',\n",
        " '하도다',\n",
        " '다시말하면',\n",
        " '다음으로',\n",
        " '에 있다',\n",
        " '에 달려 있다',\n",
        " '우리',\n",
        " '우리들',\n",
        " '오히려',\n",
        " '하기는한데',\n",
        " '어떻게',\n",
        " '어떻해',\n",
        " '어찌됏어',\n",
        " '어때',\n",
        " '어째서',\n",
        " '본대로',\n",
        " '자',\n",
        " '이',\n",
        " '이쪽',\n",
        " '여기',\n",
        " '이것',\n",
        " '이번',\n",
        " '이렇게말하자면',\n",
        " '이런',\n",
        " '이러한',\n",
        " '이와 같은',\n",
        " '요만큼',\n",
        " '요만한 것',\n",
        " '얼마 안 되는 것',\n",
        " '이만큼',\n",
        " '이 정도의',\n",
        " '이렇게 많은 것',\n",
        " '이와 같다',\n",
        " '이때',\n",
        " '이렇구나',\n",
        " '것과 같이',\n",
        " '끼익',\n",
        " '삐걱',\n",
        " '따위',\n",
        " '와 같은 사람들',\n",
        " '부류의 사람들',\n",
        " '왜냐하면',\n",
        " '중의하나',\n",
        " '오직',\n",
        " '오로지',\n",
        " '에 한하다',\n",
        " '하기만 하면',\n",
        " '도착하다',\n",
        " '까지 미치다',\n",
        " '도달하다',\n",
        " '정도에 이르다',\n",
        " '할 지경이다',\n",
        " '결과에 이르다',\n",
        " '관해서는',\n",
        " '여러분',\n",
        " '하고 있다',\n",
        " '한 후',\n",
        " '혼자',\n",
        " '자기',\n",
        " '자기집',\n",
        " '자신',\n",
        " '우에 종합한것과같이',\n",
        " '총적으로 보면',\n",
        " '총적으로 말하면',\n",
        " '총적으로',\n",
        " '대로 하다',\n",
        " '으로서',\n",
        " '참',\n",
        " '그만이다',\n",
        " '할 따름이다',\n",
        " '쿵',\n",
        " '탕탕',\n",
        " '쾅쾅',\n",
        " '둥둥',\n",
        " '봐',\n",
        " '봐라',\n",
        " '아이야',\n",
        " '아니',\n",
        " '와아',\n",
        " '응',\n",
        " '아이',\n",
        " '참나',\n",
        " '년',\n",
        " '월',\n",
        " '일',\n",
        " '령',\n",
        " '영',\n",
        " '일',\n",
        " '이',\n",
        " '삼',\n",
        " '사',\n",
        " '오',\n",
        " '육',\n",
        " '륙',\n",
        " '칠',\n",
        " '팔',\n",
        " '구',\n",
        " '이천육',\n",
        " '이천칠',\n",
        " '이천팔',\n",
        " '이천구',\n",
        " '하나',\n",
        " '둘',\n",
        " '셋',\n",
        " '넷',\n",
        " '다섯',\n",
        " '여섯',\n",
        " '일곱',\n",
        " '여덟',\n",
        " '아홉',\n",
        " '령',\n",
        " '영',\n",
        " '']\n",
        "\n"
      ],
      "metadata": {
        "id": "QdNWftk5fzMm"
      },
      "execution_count": 4,
      "outputs": []
    },
    {
      "cell_type": "markdown",
      "source": [
        "### import\n"
      ],
      "metadata": {
        "id": "h2EOaBuXf9mQ"
      }
    },
    {
      "cell_type": "code",
      "source": [
        "import pandas as pd\n",
        "import numpy as np"
      ],
      "metadata": {
        "id": "LH6-Klbkf_Cp"
      },
      "execution_count": 5,
      "outputs": []
    },
    {
      "cell_type": "code",
      "source": [
        "workshop = pd.read_csv('./workshop_cleaning_py_result.csv')\n",
        "career = pd.read_csv('./career_cleaning_py_result.csv')"
      ],
      "metadata": {
        "id": "4Oqh1yC-gDj_"
      },
      "execution_count": 6,
      "outputs": []
    },
    {
      "cell_type": "code",
      "source": [
        "workshop.columns"
      ],
      "metadata": {
        "colab": {
          "base_uri": "https://localhost:8080/"
        },
        "id": "nOcZS4urZQCb",
        "outputId": "956ce5dc-5e35-46e0-c8c1-b06753c523ca"
      },
      "execution_count": 7,
      "outputs": [
        {
          "output_type": "execute_result",
          "data": {
            "text/plain": [
              "Index(['프로그램명', '프로그램 분류', '신청대상', '프로그램 목표', '프로그램 주요내용', '학부', '학적', '학년',\n",
              "       '지식·정보·기술 활용역량', '자기주도적 학습역량', '창의·혁신역량', '의사소통 역량', '대인관계역량', '세계시민역량',\n",
              "       '프로그램 목표_키워드', '프로그램 주요내용_키워드'],\n",
              "      dtype='object')"
            ]
          },
          "metadata": {},
          "execution_count": 7
        }
      ]
    },
    {
      "cell_type": "code",
      "source": [
        "career = career[workshop.columns]"
      ],
      "metadata": {
        "id": "c-8xYcnxz0DT"
      },
      "execution_count": 8,
      "outputs": []
    },
    {
      "cell_type": "code",
      "source": [
        "career.columns"
      ],
      "metadata": {
        "colab": {
          "base_uri": "https://localhost:8080/"
        },
        "id": "2iOyiflG0poy",
        "outputId": "2c567698-cce7-41d2-9ea7-7cd469131204"
      },
      "execution_count": 9,
      "outputs": [
        {
          "output_type": "execute_result",
          "data": {
            "text/plain": [
              "Index(['프로그램명', '프로그램 분류', '신청대상', '프로그램 목표', '프로그램 주요내용', '학부', '학적', '학년',\n",
              "       '지식·정보·기술 활용역량', '자기주도적 학습역량', '창의·혁신역량', '의사소통 역량', '대인관계역량', '세계시민역량',\n",
              "       '프로그램 목표_키워드', '프로그램 주요내용_키워드'],\n",
              "      dtype='object')"
            ]
          },
          "metadata": {},
          "execution_count": 9
        }
      ]
    },
    {
      "cell_type": "code",
      "source": [
        "workshop = pd.concat([workshop, career], axis = 0)"
      ],
      "metadata": {
        "id": "rMifRNKfz5Z8"
      },
      "execution_count": 10,
      "outputs": []
    },
    {
      "cell_type": "code",
      "source": [
        "workshop = workshop.reset_index()"
      ],
      "metadata": {
        "id": "HoKTqDwb0-pi"
      },
      "execution_count": 11,
      "outputs": []
    },
    {
      "cell_type": "code",
      "source": [
        "workshop['지식·정보·기술 활용역량'].unique()"
      ],
      "metadata": {
        "colab": {
          "base_uri": "https://localhost:8080/"
        },
        "id": "hmpzZceFVEFR",
        "outputId": "173dc53c-0e94-4475-8447-a8b25f5b9f2c"
      },
      "execution_count": 12,
      "outputs": [
        {
          "output_type": "execute_result",
          "data": {
            "text/plain": [
              "array([ 50,   0,  25, 100,  75])"
            ]
          },
          "metadata": {},
          "execution_count": 12
        }
      ]
    },
    {
      "cell_type": "code",
      "source": [
        "col =  ['지식·정보·기술 활용역량',\t'자기주도적 학습역량',\t'창의·혁신역량',\t'의사소통 역량',\t'대인관계역량',\t'세계시민역량']\n",
        "\n",
        "for c in col:\n",
        "    print(workshop[c].unique())"
      ],
      "metadata": {
        "colab": {
          "base_uri": "https://localhost:8080/"
        },
        "id": "RuUx7_yyXBr9",
        "outputId": "04f52a77-080d-4b22-9ddb-6b5e78ee56b4"
      },
      "execution_count": 13,
      "outputs": [
        {
          "output_type": "stream",
          "name": "stdout",
          "text": [
            "[ 50   0  25 100  75]\n",
            "[ 50   0  25  75 100]\n",
            "[ 0 50 25 75]\n",
            "[ 0 50 25 75]\n",
            "[ 0 75 25 50]\n",
            "[ 0 50 25 75]\n"
          ]
        }
      ]
    },
    {
      "cell_type": "markdown",
      "source": [
        "### 추천시스템 함수"
      ],
      "metadata": {
        "id": "tuMq-g-_Y7z5"
      }
    },
    {
      "cell_type": "code",
      "source": [
        "# Function that takes in movie title as input and outputs most similar movies\n",
        "def get_recommendations(df, indices,title, cosine_sim):\n",
        "    # Get the index of the movie that matches the title\n",
        "    idx = indices[title]\n",
        "\n",
        "    # Get the pairwsie similarity scores of all movies with that movie\n",
        "    sim_scores = list(enumerate(cosine_sim[idx]))\n",
        "\n",
        "    # Sort the movies based on the similarity scores\n",
        "    sim_scores = sorted(sim_scores, key=lambda x: x[1], reverse=True)\n",
        "\n",
        "    # Get the scores of the 10 most similar movies - 처음은 자기 자신이므로 제외\n",
        "    sim_scores = sim_scores[1:11]\n",
        "\n",
        "    # Get the movie indices\n",
        "    program_indices = [i[0] for i in sim_scores]\n",
        "\n",
        "    # Return the top 10 most similar movies\n",
        "    return df['프로그램명'].iloc[program_indices]"
      ],
      "metadata": {
        "id": "2L9rMeZhY6_i"
      },
      "execution_count": 14,
      "outputs": []
    },
    {
      "cell_type": "code",
      "source": [
        "workshop['프로그램 목표'].head()"
      ],
      "metadata": {
        "colab": {
          "base_uri": "https://localhost:8080/"
        },
        "id": "L889zIGNZyG2",
        "outputId": "e4fa5a1c-a1a4-4ff2-c893-a218590dcfd7"
      },
      "execution_count": 15,
      "outputs": [
        {
          "output_type": "execute_result",
          "data": {
            "text/plain": [
              "0    글로벌기업 현직자의 특강으로 직무 중심 취업준비 완성\n",
              "1    글로벌기업 현직자의 특강으로 직무 중심 취업준비 완성\n",
              "2    글로벌기업 현직자의 특강으로 직무 중심 취업준비 완성\n",
              "3                  Y생명지기로서의 역할을 이해\n",
              "4    글로벌기업 현직자의 특강으로 직무 중심 취업준비 완성\n",
              "Name: 프로그램 목표, dtype: object"
            ]
          },
          "metadata": {},
          "execution_count": 15
        }
      ]
    },
    {
      "cell_type": "code",
      "source": [
        "#Import TfIdfVectorizer from scikit-learn\n",
        "from sklearn.feature_extraction.text import TfidfVectorizer\n",
        "\n",
        "#Define a TF-IDF Vectorizer Object. Remove all english stop words such as 'the', 'a'\n",
        "tfidf = TfidfVectorizer()\n",
        "\n",
        "#Replace NaN with an empty string\n",
        "workshop['프로그램 주요내용'] = workshop['프로그램 주요내용'].fillna('')\n",
        "\n",
        "#Construct the required TF-IDF matrix by fitting and transforming the data\n",
        "tfidf_matrix = tfidf.fit_transform(workshop['프로그램 주요내용'])\n",
        "\n",
        "#Output the shape of tfidf_matrix\n",
        "tfidf_matrix.shape"
      ],
      "metadata": {
        "colab": {
          "base_uri": "https://localhost:8080/"
        },
        "id": "5uAYZHULaVcp",
        "outputId": "1347d968-0785-4c64-ddff-721025059998"
      },
      "execution_count": 16,
      "outputs": [
        {
          "output_type": "execute_result",
          "data": {
            "text/plain": [
              "(1383, 13593)"
            ]
          },
          "metadata": {},
          "execution_count": 16
        }
      ]
    },
    {
      "cell_type": "code",
      "source": [
        "# Import linear_kernel\n",
        "from sklearn.metrics.pairwise import linear_kernel\n",
        "\n",
        "# Compute the cosine similarity matrix\n",
        "cosine_sim = linear_kernel(tfidf_matrix, tfidf_matrix)"
      ],
      "metadata": {
        "id": "hlkPsxq4dH44"
      },
      "execution_count": 17,
      "outputs": []
    },
    {
      "cell_type": "code",
      "source": [
        "#Construct a reverse map of indices and movie titles\n",
        "indices = pd.Series(workshop.index, index=workshop['프로그램명']).drop_duplicates()\n",
        "indices"
      ],
      "metadata": {
        "colab": {
          "base_uri": "https://localhost:8080/"
        },
        "id": "iEdVPY_8dJaX",
        "outputId": "45d39349-233d-4969-8031-4d3be3484ac1"
      },
      "execution_count": 18,
      "outputs": [
        {
          "output_type": "execute_result",
          "data": {
            "text/plain": [
              "프로그램명\n",
              "구매신세계인터내셔널 글로벌기업 현직자 직무특강         0\n",
              "인사딜로이트컨설팅 글로벌기업 현직자 직무특강          1\n",
              "데이터분석쿠팡 글로벌기업 현직자 직무특강            2\n",
              "자살예방교육Y생명지기                       3\n",
              "경영관리지멘스 가메사 글로벌기업 현직자 직무특강        4\n",
              "                               ... \n",
              "21학년도 기업 직무역량 교육 8회차  MDVMD    1378\n",
              "21학년도 기업 직무역량 교육 7회차  무역       1379\n",
              "21학년도 기업 직무역량 교육 6회차  해외영업     1380\n",
              "21학년도 기업 직무역량 교육 5회차  마케팅      1381\n",
              "21학년도 기업 직무역량 교육 4회차  금융       1382\n",
              "Length: 1383, dtype: int64"
            ]
          },
          "metadata": {},
          "execution_count": 18
        }
      ]
    },
    {
      "cell_type": "code",
      "source": [
        "print(workshop['프로그램명'][0])\n",
        "get_recommendations(workshop,indices, workshop['프로그램명'][0], cosine_sim)"
      ],
      "metadata": {
        "colab": {
          "base_uri": "https://localhost:8080/"
        },
        "id": "MFJbOgKpePkk",
        "outputId": "41eaa0ab-fb92-43b5-e7b7-7906feff159c"
      },
      "execution_count": 19,
      "outputs": [
        {
          "output_type": "stream",
          "name": "stdout",
          "text": [
            "구매신세계인터내셔널 글로벌기업 현직자 직무특강\n"
          ]
        },
        {
          "output_type": "execute_result",
          "data": {
            "text/plain": [
              "1            인사딜로이트컨설팅 글로벌기업 현직자 직무특강\n",
              "2              데이터분석쿠팡 글로벌기업 현직자 직무특강\n",
              "4          경영관리지멘스 가메사 글로벌기업 현직자 직무특강\n",
              "61        마케팅MD 니베아코리아 글로벌기업 현직자 직무특강\n",
              "62    Sales마이크로소프트 코리아 글로벌기업 현직자 직무특강\n",
              "63         마케팅MD필립스코리아 글로벌기업 현직자 직무특강\n",
              "64        영업영업관리IBM코리아 글로벌기업 현직자 직무특강\n",
              "65           인사총무존슨앤존슨 글로벌기업 현직자 직무특강\n",
              "66        영업영업관리SAP코리아 글로벌기업 현직자 직무특강\n",
              "67              해외영업퀄컴 글로벌기업 현직자 직무특강\n",
              "Name: 프로그램명, dtype: object"
            ]
          },
          "metadata": {},
          "execution_count": 19
        }
      ]
    },
    {
      "cell_type": "code",
      "source": [
        "target = workshop['프로그램명'][10]\n",
        "\n",
        "print('프로그램명 : ',target)\n",
        "print('추천 목록: ')\n",
        "get_recommendations(workshop,indices, target, cosine_sim)"
      ],
      "metadata": {
        "colab": {
          "base_uri": "https://localhost:8080/"
        },
        "id": "boJig_NYg_Az",
        "outputId": "b5d65678-0e2f-4ae6-928f-2be4637fd5d9"
      },
      "execution_count": 34,
      "outputs": [
        {
          "output_type": "stream",
          "name": "stdout",
          "text": [
            "프로그램명 :  2023 불가리아학 Cultural Dive In\n",
            "추천 목록: \n"
          ]
        },
        {
          "output_type": "execute_result",
          "data": {
            "text/plain": [
              "69                             2023 불가리아학 귀국보고회\n",
              "82     불가리아 11학번 졸업생 특강  졸업생 선배에게 듣는 공공외교란 무엇인가\n",
              "100       불가리아 정치 제도 및 불가리아한국 간 관계 증진을 위한 미래 전망\n",
              "104             그리스불가리아학과 불가리아 전공 X EU연구소 초청 특강\n",
              "191                       불가리아학 특강 한국인들에게 불가리아란\n",
              "210                      불가리아 소피아 대학교 교수님 특별 강의\n",
              "55                            불가리아학 EU 언어의 날 행사\n",
              "231            불BUL 피크닉 불가리아학 전공 학생과 교수들의 봄 나들이\n",
              "342                            불가리아 정교회와 이콘의 의미\n",
              "178                      불가리아의 문자 교육 및 문화의 날 행사\n",
              "Name: 프로그램명, dtype: object"
            ]
          },
          "metadata": {},
          "execution_count": 34
        }
      ]
    },
    {
      "cell_type": "code",
      "source": [
        "workshop['프로그램 주요내용_키워드'] = workshop['프로그램 주요내용_키워드'].fillna('')\n",
        "workshop['프로그램 목표_키워드'] = workshop['프로그램 목표_키워드'].fillna('')"
      ],
      "metadata": {
        "id": "OQHkdS-kihgM"
      },
      "execution_count": 21,
      "outputs": []
    },
    {
      "cell_type": "code",
      "source": [
        "def create_soup(x):\n",
        "    weight = [1,3,2,0]\n",
        "    cols = ['프로그램 분류', '학년', '학부', '학적'] * weight[0]\n",
        "    col_keywords = [ '프로그램 주요내용_키워드', '프로그램 목표_키워드'] * weight[1]\n",
        "    col_skill = ['지식·정보·기술 활용역량', '자기주도적 학습역량', '창의·혁신역량', '의사소통 역량', '대인관계역량', '세계시민역량'] * weight[2]\n",
        "    col_title = ['프로그램명'] * weight[3]\n",
        "    result = ''\n",
        "\n",
        "    for ct in col_title:\n",
        "        result = result + x[ct] + ' '\n",
        "    for ck in col_keywords:\n",
        "        ck = ck.split(',')\n",
        "        result = result + ' '.join(x[ck]) + ' '\n",
        "    for cs in col_skill:\n",
        "        result = result + str(x[cs]) + ' '\n",
        "    for c in cols:\n",
        "        result = result + x[c] + ' '\n",
        "    return result\n",
        "workshop['soup'] = workshop.apply(create_soup, axis=1)"
      ],
      "metadata": {
        "id": "gSmb19sPhPAB"
      },
      "execution_count": 50,
      "outputs": []
    },
    {
      "cell_type": "code",
      "source": [
        "workshop['soup']"
      ],
      "metadata": {
        "colab": {
          "base_uri": "https://localhost:8080/"
        },
        "id": "A1r2p43Dowdo",
        "outputId": "ee5c6000-46c7-4232-bc10-df7378401020"
      },
      "execution_count": 51,
      "outputs": [
        {
          "output_type": "execute_result",
          "data": {
            "text/plain": [
              "0       지역청년, 교육입니다, 비대면, 문의, 온라인, 참여하는, 진행일, 모든, 학생들도...\n",
              "1       지역청년, 교육입니다, 비대면, 문의, 온라인, 참여하는, 진행일, 모든, 학생들도...\n",
              "2       지역청년, 교육입니다, 비대면, 문의, 온라인, 참여하는, 진행일, 모든, 학생들도...\n",
              "3       수강신청해서, 비정규과목, 생명지기, 신청, 교육현황, 아래의, 강의를, 개설과목,...\n",
              "4       지역청년, 교육입니다, 비대면, 문의, 온라인, 참여하는, 진행일, 모든, 학생들도...\n",
              "                              ...                        \n",
              "1378    vmd, md, 교육일정은, 공고, 확인해주세요, 신청, 전체, 기업, 교육별로, ...\n",
              "1379    신청, 교육일정은, 확인해주세요, 모집, 모집합니다, 교육별로, 무역, 공고, 기업...\n",
              "1380    신청, 교육일정은, 모집합니다, 모집, 기업, 교육별로, 전체, 확인해주세요, 공고...\n",
              "1381    신청, 교육일정은, 확인해주세요, 마케팅, 모집, 교육별로, 모집합니다, 공고, 전...\n",
              "1382    확인해주세요, 교육일정은, 신청, 교육별로, 공고, 모집합니다, 전체, 모집, 기업...\n",
              "Name: soup, Length: 1383, dtype: object"
            ]
          },
          "metadata": {},
          "execution_count": 51
        }
      ]
    },
    {
      "cell_type": "code",
      "source": [
        "from sklearn.feature_extraction.text import CountVectorizer\n",
        "\n",
        "count = CountVectorizer()\n",
        "# tfidf = TfidfVectorizer()\n",
        "count_matrix = count.fit_transform(workshop['soup'])\n",
        "# count_matrix = tfidf.fit_transform(workshop['soup'])"
      ],
      "metadata": {
        "id": "gb5cRdungtxF"
      },
      "execution_count": 52,
      "outputs": []
    },
    {
      "cell_type": "code",
      "source": [
        "from sklearn.metrics.pairwise import cosine_similarity\n",
        "\n",
        "cosine_sim2 = cosine_similarity(count_matrix, count_matrix)"
      ],
      "metadata": {
        "id": "DIKIy4haleXk"
      },
      "execution_count": 53,
      "outputs": []
    },
    {
      "cell_type": "code",
      "source": [
        "#workshop = workshop.reset_index()\n",
        "indices = pd.Series(workshop.index, index=workshop['프로그램명'])"
      ],
      "metadata": {
        "id": "AAtN19r9lgI_"
      },
      "execution_count": 54,
      "outputs": []
    },
    {
      "cell_type": "code",
      "source": [
        "target = workshop['프로그램명'][150]\n",
        "\n",
        "print('프로그램명: ',target)\n",
        "print('추천목록:')\n",
        "get_recommendations(workshop, indices, target, cosine_sim2)"
      ],
      "metadata": {
        "colab": {
          "base_uri": "https://localhost:8080/"
        },
        "id": "1YaRW5FtlvY1",
        "outputId": "c88f4f2d-05c1-41a2-a241-a9d8983f87a5"
      },
      "execution_count": 55,
      "outputs": [
        {
          "output_type": "stream",
          "name": "stdout",
          "text": [
            "프로그램명:  2023 상반기 금융권 취업대비 모의면접\n",
            "추천목록:\n"
          ]
        },
        {
          "output_type": "execute_result",
          "data": {
            "text/plain": [
              "188                 2023 상반기 금융공기업 취업 모의면접\n",
              "190       51부터 접수시작 2023 상반기 금융공기업 취업 모의면접\n",
              "194         51부터 접수시작 2023 상반기 금융권 취업 모의면접\n",
              "1335                            면접을 부탁해930\n",
              "577             하반기 금융취업아카데미 1028 금융권 취업특강\n",
              "580     하반기 금융취업아카데미 111 금융권 자기소개서 및 취업 상담\n",
              "578      하반기 금융취업아카데미 111  112 금융 논술 대비 특강\n",
              "579           하반기 금융취업아카데미 1029 금융공기업 취업특강\n",
              "734            서류와 면접사이 Ai 면접 및 인성검사 대비 특강\n",
              "765               2023 하반기 공채대비 취업컨설팅 공기업반\n",
              "Name: 프로그램명, dtype: object"
            ]
          },
          "metadata": {},
          "execution_count": 55
        }
      ]
    },
    {
      "cell_type": "code",
      "source": [],
      "metadata": {
        "id": "dHO3VfEQwCdw"
      },
      "execution_count": 55,
      "outputs": []
    }
  ]
}