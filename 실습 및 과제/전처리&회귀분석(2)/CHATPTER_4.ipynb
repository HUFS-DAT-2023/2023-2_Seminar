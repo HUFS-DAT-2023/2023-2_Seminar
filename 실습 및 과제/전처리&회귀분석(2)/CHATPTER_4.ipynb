{
 "cells": [
  {
   "cell_type": "markdown",
   "metadata": {
    "id": "qF3y9VeZdtT2"
   },
   "source": [
    "## class"
   ]
  },
  {
   "cell_type": "code",
   "execution_count": 1,
   "metadata": {
    "colab": {
     "base_uri": "https://localhost:8080/"
    },
    "id": "ebHKWH0PdwbU",
    "outputId": "4209e661-84a9-49f9-83b1-af715d4fbad2"
   },
   "outputs": [
    {
     "name": "stdout",
     "output_type": "stream",
     "text": [
      "LG전자 150000\n"
     ]
    }
   ],
   "source": [
    "class Stocks:\n",
    "  \"삼성전자, LG 전자, SK하이닉스\"\n",
    "  def __init__(self, name, price):\n",
    "    self.name=name\n",
    "    self.price=price\n",
    "lg=Stocks(\"LG전자\",150000)\n",
    "print(lg.name, lg.price)"
   ]
  },
  {
   "cell_type": "code",
   "execution_count": 4,
   "metadata": {
    "colab": {
     "base_uri": "https://localhost:8080/"
    },
    "id": "4M1WM-V3epp3",
    "outputId": "b67c5f9e-d112-4754-f3b9-dad60b462549"
   },
   "outputs": [
    {
     "name": "stdout",
     "output_type": "stream",
     "text": [
      "LG전자 150000 0\n"
     ]
    }
   ],
   "source": [
    "class Stocks:\n",
    "  \"삼성전자, LG 전자, SK하이닉스\"\n",
    "  def __init__(self, name, price, count=0):\n",
    "    self.name=name\n",
    "    self.price=price\n",
    "    self.count=count\n",
    "\n",
    "lg=Stocks(\"LG전자\", 150000)\n",
    "print(lg.name,lg.price,lg.count)"
   ]
  },
  {
   "cell_type": "markdown",
   "metadata": {
    "id": "C5zjjqKdfVI9"
   },
   "source": [
    "클래스에 매서드 추가"
   ]
  },
  {
   "cell_type": "code",
   "execution_count": 5,
   "metadata": {
    "colab": {
     "base_uri": "https://localhost:8080/"
    },
    "id": "aI9AuToffGBr",
    "outputId": "3d9aacaf-2230-4d7a-e5cc-9806b7ac9159"
   },
   "outputs": [
    {
     "name": "stdout",
     "output_type": "stream",
     "text": [
      "LG전자 150000 0\n",
      "LG전자 150000 1\n",
      "LG전자 150000 2\n"
     ]
    }
   ],
   "source": [
    "class Stocks:\n",
    "  \"삼성전자, LG 전자, SK하이닉스\"\n",
    "  def __init__(self, name, price, count=0):\n",
    "    self.name=name\n",
    "    self.price=price\n",
    "    self.count=count\n",
    "  def click(self, num_times=1):\n",
    "    \"\"\"클릭 횟수\"\"\"\n",
    "    self.count+= num_times\n",
    "\n",
    "lg=Stocks(\"LG전자\",150000)\n",
    "print(lg.name, lg.price,lg.count)\n",
    "lg.click()\n",
    "print(lg.name,lg.price,lg.count)\n",
    "lg.click()\n",
    "print(lg.name, lg.price, lg.count)"
   ]
  },
  {
   "cell_type": "markdown",
   "metadata": {
    "id": "Xxz1_UR_gYs7"
   },
   "source": [
    "클릭 횟수를 초기화하는 reset, read 메서드를 추가하고 __repr__메서드 추가"
   ]
  },
  {
   "cell_type": "code",
   "execution_count": 6,
   "metadata": {
    "colab": {
     "base_uri": "https://localhost:8080/"
    },
    "id": "zCTZ3HEsghrU",
    "outputId": "e54e2bd2-4f66-4944-c600-9050cdf08b02"
   },
   "outputs": [
    {
     "name": "stdout",
     "output_type": "stream",
     "text": [
      "LG전자 150000 0\n",
      "LG전자 150000 1\n",
      "LG전자 150000 2\n",
      "LG전자 150000 3\n"
     ]
    }
   ],
   "source": [
    "class Stocks:\n",
    "  \"삼성전자, LG 전자, SK하이닉스\"\n",
    "  def __init__(self, name, price, count=0):\n",
    "    self.name=name\n",
    "    self.price=price\n",
    "    self.count=count\n",
    "  def click(self, num_times=1):\n",
    "    \"\"\"클릭 횟수\"\"\"\n",
    "    self.count+= num_times\n",
    "  def read(self):\n",
    "    return self.count\n",
    "  def reset(self):\n",
    "    self.count=0\n",
    "\n",
    "lg=Stocks(\"LG전자\",150000)\n",
    "print(lg.name, lg.price,lg.count)\n",
    "lg.click()\n",
    "print(lg.name,lg.price,lg.count)\n",
    "lg.click()\n",
    "print(lg.name, lg.price, lg.count)\n",
    "lg.click()\n",
    "print(lg.name, lg.price, lg.count)"
   ]
  },
  {
   "cell_type": "markdown",
   "metadata": {
    "id": "Mr_ixlb-g1L1"
   },
   "source": [
    "**상속**"
   ]
  },
  {
   "cell_type": "code",
   "execution_count": 10,
   "metadata": {
    "colab": {
     "base_uri": "https://localhost:8080/"
    },
    "id": "-sHxILmag4BG",
    "outputId": "891aa010-88c7-417b-ab7e-b55fa08e9783"
   },
   "outputs": [
    {
     "name": "stdout",
     "output_type": "stream",
     "text": [
      "LG전자 150000 0\n",
      "LG전자 150000 3\n",
      "LG전자 150000 3\n"
     ]
    }
   ],
   "source": [
    "class subStocks(Stocks):\n",
    "  def reset(self):\n",
    "    pass\n",
    "  def subprice(self, price1):\n",
    "   self.price1=price1\n",
    "   return f'subprice반환', self.price1\n",
    "  def addcountprice(self, count, price):\n",
    "    self.price=price\n",
    "    self.count=count\n",
    "    return f'price+count합', self.price+self.count\n",
    "sublg=subStocks(\"LG전자\",150000)\n",
    "print(sublg.name, sublg.price,sublg.count)  #상위 클래스의 name,print,count 변수값 출력\n",
    "sublg.click()\n",
    "sublg.click()\n",
    "sublg.click()\n",
    "print(sublg.name, sublg.price,sublg.count)  #상위 클래스의 click 매서드 실행 후 변수값 출력\n",
    "sublg.reset()\n",
    "print(sublg.name, sublg.price,sublg.count) #상위 클래스의 reset 매서드 실행 후 변수값 출력"
   ]
  },
  {
   "cell_type": "markdown",
   "metadata": {
    "id": "v4mqJhvYid4z"
   },
   "source": [
    "메서드 오버라이딩"
   ]
  },
  {
   "cell_type": "code",
   "execution_count": 12,
   "metadata": {
    "colab": {
     "base_uri": "https://localhost:8080/"
    },
    "id": "0YuWZLu-ixoq",
    "outputId": "5ff9c421-0ed9-4d95-f75c-12f1938e182f"
   },
   "outputs": [
    {
     "name": "stdout",
     "output_type": "stream",
     "text": [
      "<__main__.subsubStocks object at 0x7ec3d279e950>\n",
      "<__main__.subsubStocks object at 0x7ec3d279e950>\n"
     ]
    }
   ],
   "source": [
    "class subsubStocks(subStocks):\n",
    "  def reset(self):\n",
    "    self.count=100\n",
    "  def click(self, num_times=2):\n",
    "    \"\"\"클릭 2배\"\"\"\n",
    "    self.count += num_times\n",
    "  def subsubprice(self,price1):\n",
    "    return f'subprice반환', self.price1\n",
    "  def addcountprice(self, count, price):\n",
    "    self.price=price\n",
    "    self.count=count\n",
    "    return f'100*count*price',100*self.count+self.price\n",
    "\n",
    "sublg7=subStocks(\"LG전자7\",140000)\n",
    "subsublg7=subsubStocks(\"LG전자7\",140000)\n",
    "print(subsublg7)\n",
    "subsublg7.reset()\n",
    "subsublg7.click()\n",
    "subsublg7.click()\n",
    "subsublg7.click()\n",
    "print(subsublg7)"
   ]
  },
  {
   "cell_type": "markdown",
   "metadata": {
    "id": "yJeRcKoAj8En"
   },
   "source": [
    "모듈 임포트"
   ]
  },
  {
   "cell_type": "code",
   "execution_count": 15,
   "metadata": {
    "colab": {
     "base_uri": "https://localhost:8080/"
    },
    "id": "BCtLZ1lsk0mw",
    "outputId": "b59a278f-8128-4817-eb68-f0717c2a8651"
   },
   "outputs": [
    {
     "data": {
      "text/plain": [
       "3.141592653589793"
      ]
     },
     "execution_count": 15,
     "metadata": {},
     "output_type": "execute_result"
    }
   ],
   "source": [
    "import math\n",
    "math.pi"
   ]
  },
  {
   "cell_type": "code",
   "execution_count": 19,
   "metadata": {
    "colab": {
     "base_uri": "https://localhost:8080/"
    },
    "id": "BD__PESKlLiZ",
    "outputId": "c9a82760-559b-4978-8cc7-94e030ea5f16"
   },
   "outputs": [
    {
     "data": {
      "text/plain": [
       "3.141592653589793"
      ]
     },
     "execution_count": 19,
     "metadata": {},
     "output_type": "execute_result"
    }
   ],
   "source": [
    "from math import pi\n",
    "pi"
   ]
  },
  {
   "cell_type": "code",
   "execution_count": 20,
   "metadata": {
    "colab": {
     "base_uri": "https://localhost:8080/"
    },
    "id": "a4ibUPgwlQfq",
    "outputId": "27755227-3715-4c7f-8376-45ad2e7f5cf8"
   },
   "outputs": [
    {
     "data": {
      "text/plain": [
       "1.4142135623730951"
      ]
     },
     "execution_count": 20,
     "metadata": {},
     "output_type": "execute_result"
    }
   ],
   "source": [
    "from math import sqrt\n",
    "sqrt(2.0)"
   ]
  },
  {
   "cell_type": "code",
   "execution_count": 21,
   "metadata": {
    "colab": {
     "base_uri": "https://localhost:8080/"
    },
    "id": "6OLKd5T1lgcd",
    "outputId": "39ae19ed-0483-4368-ec47-94031d37731c"
   },
   "outputs": [
    {
     "data": {
      "text/plain": [
       "2.0"
      ]
     },
     "execution_count": 21,
     "metadata": {},
     "output_type": "execute_result"
    }
   ],
   "source": [
    "from math import sqrt as root1\n",
    "root1(4.0)"
   ]
  },
  {
   "cell_type": "code",
   "execution_count": 22,
   "metadata": {
    "colab": {
     "base_uri": "https://localhost:8080/"
    },
    "id": "5nfPL4HlloUN",
    "outputId": "259500a2-4ef7-40c3-c62e-37176ea42a54"
   },
   "outputs": [
    {
     "data": {
      "text/plain": [
       "2.0"
      ]
     },
     "execution_count": 22,
     "metadata": {},
     "output_type": "execute_result"
    }
   ],
   "source": [
    "from math import pi as p, sqrt as s\n",
    "p\n",
    "s(4.0)"
   ]
  },
  {
   "cell_type": "code",
   "execution_count": 23,
   "metadata": {
    "colab": {
     "base_uri": "https://localhost:8080/"
    },
    "id": "JyJOu9lpltY3",
    "outputId": "d32f4ca3-8984-483e-c3c6-79d2b4d38dc4"
   },
   "outputs": [
    {
     "data": {
      "text/plain": [
       "['life', 'is', 'too', 'short']"
      ]
     },
     "execution_count": 23,
     "metadata": {},
     "output_type": "execute_result"
    }
   ],
   "source": [
    "import re as regex\n",
    "my_regex=regex.compile(\"[a-z]+\")\n",
    "char=\"life is too short\"\n",
    "my_regex.findall(char)\n"
   ]
  },
  {
   "cell_type": "markdown",
   "metadata": {
    "id": "JhwaaHg2mAAs"
   },
   "source": []
  }
 ],
 "metadata": {
  "colab": {
   "provenance": []
  },
  "kernelspec": {
   "display_name": "Python 3",
   "name": "python3"
  },
  "language_info": {
   "name": "python"
  }
 },
 "nbformat": 4,
 "nbformat_minor": 0
}
