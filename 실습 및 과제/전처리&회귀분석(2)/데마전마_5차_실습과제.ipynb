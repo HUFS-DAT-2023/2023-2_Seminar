{
 "cells": [
  {
   "cell_type": "markdown",
   "metadata": {
    "id": "SEyJibM8eu8z"
   },
   "source": [
    "#Section 01. 상관분석 초 통계를 이용한 상관계수 도출"
   ]
  },
  {
   "cell_type": "code",
   "execution_count": 3,
   "metadata": {
    "executionInfo": {
     "elapsed": 551,
     "status": "ok",
     "timestamp": 1684659699157,
     "user": {
      "displayName": "꾬은주",
      "userId": "05623544279730996499"
     },
     "user_tz": -540
    },
    "id": "Z_a1-799es5y"
   },
   "outputs": [],
   "source": [
    "train=[[25, 100], [52, 256], [38, 152], [32, 140], [25, 150]]"
   ]
  },
  {
   "cell_type": "code",
   "execution_count": 4,
   "metadata": {
    "colab": {
     "base_uri": "https://localhost:8080/"
    },
    "executionInfo": {
     "elapsed": 28,
     "status": "ok",
     "timestamp": 1684659699161,
     "user": {
      "displayName": "꾬은주",
      "userId": "05623544279730996499"
     },
     "user_tz": -540
    },
    "id": "oT97aRpBe0_g",
    "outputId": "13afd201-e3f7-4e6f-e808-038e75f7c70a"
   },
   "outputs": [
    {
     "data": {
      "text/plain": [
       "([25, 52, 38, 32, 25], [100, 256, 152, 140, 150])"
      ]
     },
     "execution_count": 4,
     "metadata": {},
     "output_type": "execute_result"
    }
   ],
   "source": [
    "x=[i[0] for i in train]\n",
    "y=[j[1] for j in train]\n",
    "x,y"
   ]
  },
  {
   "cell_type": "markdown",
   "metadata": {
    "id": "HU7MsuFpe5Ot"
   },
   "source": [
    "## 1. 기초 통계 함수 구현하기\n",
    "###평균"
   ]
  },
  {
   "cell_type": "code",
   "execution_count": 5,
   "metadata": {
    "colab": {
     "base_uri": "https://localhost:8080/"
    },
    "executionInfo": {
     "elapsed": 27,
     "status": "ok",
     "timestamp": 1684659699162,
     "user": {
      "displayName": "꾬은주",
      "userId": "05623544279730996499"
     },
     "user_tz": -540
    },
    "id": "TRbRsQZye8od",
    "outputId": "f0dd7e42-2421-447d-c5e7-044674fa2d96"
   },
   "outputs": [
    {
     "data": {
      "text/plain": [
       "(34.4, 159.6)"
      ]
     },
     "execution_count": 5,
     "metadata": {},
     "output_type": "execute_result"
    }
   ],
   "source": [
    "def mean(x):\n",
    "  return sum(x) / len(x)\n",
    "mean(x), mean(y)"
   ]
  },
  {
   "cell_type": "markdown",
   "metadata": {
    "id": "FfeykLF9e_nk"
   },
   "source": [
    "### 개별 값과 평균의 차"
   ]
  },
  {
   "cell_type": "code",
   "execution_count": 6,
   "metadata": {
    "colab": {
     "base_uri": "https://localhost:8080/"
    },
    "executionInfo": {
     "elapsed": 24,
     "status": "ok",
     "timestamp": 1684659699163,
     "user": {
      "displayName": "꾬은주",
      "userId": "05623544279730996499"
     },
     "user_tz": -540
    },
    "id": "X7R4QllifBoD",
    "outputId": "b6c680d7-183f-44b1-eb03-731eee410b85"
   },
   "outputs": [
    {
     "data": {
      "text/plain": [
       "([-9.399999999999999,\n",
       "  17.6,\n",
       "  3.6000000000000014,\n",
       "  -2.3999999999999986,\n",
       "  -9.399999999999999],\n",
       " [-59.599999999999994,\n",
       "  96.4,\n",
       "  -7.599999999999994,\n",
       "  -19.599999999999994,\n",
       "  -9.599999999999994])"
      ]
     },
     "execution_count": 6,
     "metadata": {},
     "output_type": "execute_result"
    }
   ],
   "source": [
    "def d_mean(x):\n",
    "  x_mean=mean(x)\n",
    "  return [i - x_mean for i in x]\n",
    "  \n",
    "d_mean(x), d_mean(y)"
   ]
  },
  {
   "cell_type": "code",
   "execution_count": 7,
   "metadata": {
    "colab": {
     "base_uri": "https://localhost:8080/"
    },
    "executionInfo": {
     "elapsed": 21,
     "status": "ok",
     "timestamp": 1684659699163,
     "user": {
      "displayName": "꾬은주",
      "userId": "05623544279730996499"
     },
     "user_tz": -540
    },
    "id": "UV-KpDAnfGva",
    "outputId": "3188e3ae-012e-4eca-b317-e0c54d727450"
   },
   "outputs": [
    {
     "data": {
      "text/plain": [
       "1.4210854715202005e-15"
      ]
     },
     "execution_count": 7,
     "metadata": {},
     "output_type": "execute_result"
    }
   ],
   "source": [
    "x1=d_mean(x)\n",
    "mean(x1)"
   ]
  },
  {
   "cell_type": "markdown",
   "metadata": {
    "id": "a5ArH3TsfJCE"
   },
   "source": [
    "### 내적"
   ]
  },
  {
   "cell_type": "code",
   "execution_count": 8,
   "metadata": {
    "colab": {
     "base_uri": "https://localhost:8080/"
    },
    "executionInfo": {
     "elapsed": 19,
     "status": "ok",
     "timestamp": 1684659699164,
     "user": {
      "displayName": "꾬은주",
      "userId": "05623544279730996499"
     },
     "user_tz": -540
    },
    "id": "Y5HZvonmfLIo",
    "outputId": "8aac7691-226c-42ad-da66-c94836d1db15"
   },
   "outputs": [
    {
     "data": {
      "text/plain": [
       "29818"
      ]
     },
     "execution_count": 8,
     "metadata": {},
     "output_type": "execute_result"
    }
   ],
   "source": [
    "def dot(x, y):\n",
    "  return sum([x*y for x, y in zip(x, y)])\n",
    "dot(x, y)"
   ]
  },
  {
   "cell_type": "markdown",
   "metadata": {
    "id": "Yj_byEjcfOUr"
   },
   "source": [
    "### 제곱의 합"
   ]
  },
  {
   "cell_type": "code",
   "execution_count": 9,
   "metadata": {
    "colab": {
     "base_uri": "https://localhost:8080/"
    },
    "executionInfo": {
     "elapsed": 17,
     "status": "ok",
     "timestamp": 1684659699165,
     "user": {
      "displayName": "꾬은주",
      "userId": "05623544279730996499"
     },
     "user_tz": -540
    },
    "id": "V5k_wsfBfQOo",
    "outputId": "c935ea1f-730d-402e-970a-82c254562236"
   },
   "outputs": [
    {
     "data": {
      "text/plain": [
       "(6422, 140740)"
      ]
     },
     "execution_count": 9,
     "metadata": {},
     "output_type": "execute_result"
    }
   ],
   "source": [
    "def sum_of_squares(v):\n",
    "  return dot(v, v)\n",
    "sum_of_squares(x), sum_of_squares(y)"
   ]
  },
  {
   "cell_type": "markdown",
   "metadata": {
    "id": "y1yA0dSDfUcQ"
   },
   "source": [
    "### 분산"
   ]
  },
  {
   "cell_type": "code",
   "execution_count": 10,
   "metadata": {
    "colab": {
     "base_uri": "https://localhost:8080/"
    },
    "executionInfo": {
     "elapsed": 15,
     "status": "ok",
     "timestamp": 1684659699165,
     "user": {
      "displayName": "꾬은주",
      "userId": "05623544279730996499"
     },
     "user_tz": -540
    },
    "id": "-L_tlCM2fWaG",
    "outputId": "82102748-bd04-4264-f9ec-b7d2aefd70b0"
   },
   "outputs": [
    {
     "data": {
      "text/plain": [
       "126.3"
      ]
     },
     "execution_count": 10,
     "metadata": {},
     "output_type": "execute_result"
    }
   ],
   "source": [
    "def variance(x):\n",
    "  n=len(x)\n",
    "  d=d_mean(x)\n",
    "  return sum_of_squares(d) / (n-1)\n",
    "variance(x)"
   ]
  },
  {
   "cell_type": "markdown",
   "metadata": {
    "id": "w4zuB31nfZtW"
   },
   "source": [
    "### 표준편차"
   ]
  },
  {
   "cell_type": "code",
   "execution_count": 11,
   "metadata": {
    "colab": {
     "base_uri": "https://localhost:8080/"
    },
    "executionInfo": {
     "elapsed": 26,
     "status": "ok",
     "timestamp": 1684659699724,
     "user": {
      "displayName": "꾬은주",
      "userId": "05623544279730996499"
     },
     "user_tz": -540
    },
    "id": "PIX6OC9ifbr8",
    "outputId": "61fcb8a7-c8ba-449e-a937-8ee2f399ad2f"
   },
   "outputs": [
    {
     "data": {
      "text/plain": [
       "11.23832727766904"
      ]
     },
     "execution_count": 11,
     "metadata": {},
     "output_type": "execute_result"
    }
   ],
   "source": [
    "def standard_deviation(x):\n",
    "  return variance(x)**0.5\n",
    "  \n",
    "standard_deviation(x)"
   ]
  },
  {
   "cell_type": "markdown",
   "metadata": {
    "id": "I75w1QIfffmk"
   },
   "source": [
    "###<여기서 잠깐> math 라이브러리의 sqrt 함수로 표준편차 함수 구현하기"
   ]
  },
  {
   "cell_type": "code",
   "execution_count": 12,
   "metadata": {
    "colab": {
     "base_uri": "https://localhost:8080/"
    },
    "executionInfo": {
     "elapsed": 25,
     "status": "ok",
     "timestamp": 1684659699725,
     "user": {
      "displayName": "꾬은주",
      "userId": "05623544279730996499"
     },
     "user_tz": -540
    },
    "id": "SyUEUm9qfj6o",
    "outputId": "27992ba0-26b6-4381-cd17-1028b35af29f"
   },
   "outputs": [
    {
     "data": {
      "text/plain": [
       "11.23832727766904"
      ]
     },
     "execution_count": 12,
     "metadata": {},
     "output_type": "execute_result"
    }
   ],
   "source": [
    "import math\n",
    "def standard_deviation(x):\n",
    " return math.sqrt(variance(x))\n",
    "standard_deviation(x)"
   ]
  },
  {
   "cell_type": "markdown",
   "metadata": {
    "id": "SgQU4a6IfmJ4"
   },
   "source": [
    "### 공분산"
   ]
  },
  {
   "cell_type": "code",
   "execution_count": 13,
   "metadata": {
    "colab": {
     "base_uri": "https://localhost:8080/"
    },
    "executionInfo": {
     "elapsed": 23,
     "status": "ok",
     "timestamp": 1684659699725,
     "user": {
      "displayName": "꾬은주",
      "userId": "05623544279730996499"
     },
     "user_tz": -540
    },
    "id": "aJODS3bnfoA5",
    "outputId": "393d97bb-18fd-4d47-f06d-8b52589017a0"
   },
   "outputs": [
    {
     "data": {
      "text/plain": [
       "591.6999999999999"
      ]
     },
     "execution_count": 13,
     "metadata": {},
     "output_type": "execute_result"
    }
   ],
   "source": [
    "def covariance(x, y):\n",
    "  n=len(x)\n",
    "  return dot(d_mean(x), d_mean(y)) / (n-1)\n",
    "  \n",
    "covariance(x, y)\n"
   ]
  },
  {
   "cell_type": "markdown",
   "metadata": {
    "id": "x4Xy-4YLftM3"
   },
   "source": [
    "###상관계수"
   ]
  },
  {
   "cell_type": "code",
   "execution_count": 14,
   "metadata": {
    "colab": {
     "base_uri": "https://localhost:8080/"
    },
    "executionInfo": {
     "elapsed": 21,
     "status": "ok",
     "timestamp": 1684659699725,
     "user": {
      "displayName": "꾬은주",
      "userId": "05623544279730996499"
     },
     "user_tz": -540
    },
    "id": "HlmrQn7sfv2_",
    "outputId": "4d2b03a4-48ff-4560-aadb-1ff5dd85ca1b"
   },
   "outputs": [
    {
     "data": {
      "text/plain": [
       "0.9103634578175528"
      ]
     },
     "execution_count": 14,
     "metadata": {},
     "output_type": "execute_result"
    }
   ],
   "source": [
    "def correlation(x, y):\n",
    "  stdev_x=standard_deviation(x) # 표준편차(x) 할당\n",
    "  stdev_y=standard_deviation(y) # 표준편차(y) 할당\n",
    "  if stdev_x > 0 and stdev_y > 0: # stdev_x와 stdev_y가 0을 초과하면\n",
    "    return covariance(x, y) / (stdev_x * stdev_y) # 상관계수 결과 반환\n",
    "  else:\n",
    "    return 0\n",
    "    \n",
    "correlation(x, y)"
   ]
  },
  {
   "cell_type": "markdown",
   "metadata": {
    "id": "SbL0oEBff4Ox"
   },
   "source": [
    "##2. 넘파이 함수로 기초 통계 구하기"
   ]
  },
  {
   "cell_type": "code",
   "execution_count": 15,
   "metadata": {
    "colab": {
     "base_uri": "https://localhost:8080/"
    },
    "executionInfo": {
     "elapsed": 20,
     "status": "ok",
     "timestamp": 1684659699726,
     "user": {
      "displayName": "꾬은주",
      "userId": "05623544279730996499"
     },
     "user_tz": -540
    },
    "id": "VY-4aZDlf65v",
    "outputId": "bee25d4c-9858-4eb2-ac77-3b2a3920d9b9"
   },
   "outputs": [
    {
     "data": {
      "text/plain": [
       "(34.4, 101.03999999999999, 10.05186549850325)"
      ]
     },
     "execution_count": 15,
     "metadata": {},
     "output_type": "execute_result"
    }
   ],
   "source": [
    "import numpy as np\n",
    "x1=np.array(x)\n",
    "x1.mean(), x1.var(), x1.std()"
   ]
  },
  {
   "cell_type": "code",
   "execution_count": 16,
   "metadata": {
    "colab": {
     "base_uri": "https://localhost:8080/"
    },
    "executionInfo": {
     "elapsed": 18,
     "status": "ok",
     "timestamp": 1684659699726,
     "user": {
      "displayName": "꾬은주",
      "userId": "05623544279730996499"
     },
     "user_tz": -540
    },
    "id": "WWygnmmPf_Lc",
    "outputId": "47efa10e-6115-456e-95e5-89db86778567"
   },
   "outputs": [
    {
     "data": {
      "text/plain": [
       "(array([[ 126.3,  591.7],\n",
       "        [ 591.7, 3344.8]]),\n",
       " array([[1.        , 0.91036346],\n",
       "        [0.91036346, 1.        ]]))"
      ]
     },
     "execution_count": 16,
     "metadata": {},
     "output_type": "execute_result"
    }
   ],
   "source": [
    "np.cov(x1,y), np.corrcoef(x1,y)"
   ]
  },
  {
   "cell_type": "code",
   "execution_count": 17,
   "metadata": {
    "colab": {
     "base_uri": "https://localhost:8080/"
    },
    "executionInfo": {
     "elapsed": 16,
     "status": "ok",
     "timestamp": 1684659699726,
     "user": {
      "displayName": "꾬은주",
      "userId": "05623544279730996499"
     },
     "user_tz": -540
    },
    "id": "fat8wYE4gA8G",
    "outputId": "4f91c2ed-0178-4835-f7c3-dbe014af8844"
   },
   "outputs": [
    {
     "data": {
      "text/plain": [
       "(591.6999999999999, 0.9103634578175529)"
      ]
     },
     "execution_count": 17,
     "metadata": {},
     "output_type": "execute_result"
    }
   ],
   "source": [
    "np.cov(x1,y)[0][1], np.corrcoef(x1,y)[0][1]"
   ]
  },
  {
   "cell_type": "markdown",
   "metadata": {
    "id": "XM_uzLNAgC2n"
   },
   "source": [
    "#Section 02. 회귀분석1 최소자승법을 이용한 회귀계수 도출\n",
    "## 1. 회귀계수 구하기"
   ]
  },
  {
   "cell_type": "code",
   "execution_count": 18,
   "metadata": {
    "colab": {
     "base_uri": "https://localhost:8080/"
    },
    "executionInfo": {
     "elapsed": 13,
     "status": "ok",
     "timestamp": 1684659699727,
     "user": {
      "displayName": "꾬은주",
      "userId": "05623544279730996499"
     },
     "user_tz": -540
    },
    "id": "IIYzl0lBgJg1",
    "outputId": "f90c827b-e436-4ed1-94c7-3eae0262ea85"
   },
   "outputs": [
    {
     "data": {
      "text/plain": [
       "[-1.5597783056215349, 4.684877276326207]"
      ]
     },
     "execution_count": 18,
     "metadata": {},
     "output_type": "execute_result"
    }
   ],
   "source": [
    "def OLS(x,y):\n",
    "  beta=covariance(x, y)/variance(x) # 공분산(x,y)/분산(x)\n",
    "  alpha=mean(y)-beta*mean(x) # 평균(y)–beta*평균(x)\n",
    "  return [alpha, beta]\n",
    "  \n",
    "OLS(x,y)"
   ]
  },
  {
   "cell_type": "code",
   "execution_count": 19,
   "metadata": {
    "colab": {
     "base_uri": "https://localhost:8080/"
    },
    "executionInfo": {
     "elapsed": 11,
     "status": "ok",
     "timestamp": 1684659699727,
     "user": {
      "displayName": "꾬은주",
      "userId": "05623544279730996499"
     },
     "user_tz": -540
    },
    "id": "i6HU35nfgO3C",
    "outputId": "5e5528b1-075b-4db8-8c57-f84eda9fc7f0"
   },
   "outputs": [
    {
     "data": {
      "text/plain": [
       "[-1.5597783056215064, 4.6848772763262065]"
      ]
     },
     "execution_count": 19,
     "metadata": {},
     "output_type": "execute_result"
    }
   ],
   "source": [
    "def OLS_fit(x,y):\n",
    "  beta=(correlation(x, y)*standard_deviation(y))/standard_deviation(x)\n",
    "  # beta=(상관계수(x,y)*표준편차(y))/표준편차(x)\n",
    "  alpha=mean(y)-beta*mean(x)\n",
    "  return [alpha, beta]\n",
    "\n",
    "OLS_fit(x,y)"
   ]
  },
  {
   "cell_type": "markdown",
   "metadata": {
    "id": "VsFst__ig31P"
   },
   "source": [
    "##2. 예측값 구하기"
   ]
  },
  {
   "cell_type": "code",
   "execution_count": 20,
   "metadata": {
    "colab": {
     "base_uri": "https://localhost:8080/"
    },
    "executionInfo": {
     "elapsed": 9,
     "status": "ok",
     "timestamp": 1684659699727,
     "user": {
      "displayName": "꾬은주",
      "userId": "05623544279730996499"
     },
     "user_tz": -540
    },
    "id": "U_usCf_3g7eS",
    "outputId": "0571c201-cfd3-4e8b-a275-c74110eddc66"
   },
   "outputs": [
    {
     "name": "stdout",
     "output_type": "stream",
     "text": [
      "[115.56215360253366, 242.05384006334123, 176.46555819477433, 148.3562945368171, 115.56215360253366]\n"
     ]
    }
   ],
   "source": [
    "def predict(alpha, beta,train, test):\n",
    "  predictions=list() # 예측값 선언\n",
    "  x=[i[0] for i in train] # 변수 x에 train 데이터의 아파트 평수 저장\n",
    "  y=[j[1] for j in train] # 변수 y에 train 데이터의 전력량 저장\n",
    "  alpha, beta=OLS_fit(x,y) # alpha와 beta에 OSL_fit 함수의 반환값 저장\n",
    "  for i in test:\n",
    "    yhat=alpha+beta*i[0]\n",
    "    predictions.append(yhat) # predictions 리스트에 변수 yhat에 입력된 값 추가\n",
    "  return predictions # predictions 리스트 값 반환\n",
    "  \n",
    "train=[[25,100],[52,256],[38,152],[32,140],[25,150]]\n",
    "alpha,beta=OLS_fit(x,y)\n",
    "pr=predict(alpha, beta, train, train) # predict 함수의 반환값을 변수 pr에 할당\n",
    "print(pr) # 변수 pr에 할당된 prediction 값 출력"
   ]
  },
  {
   "cell_type": "markdown",
   "metadata": {
    "id": "YZarcj5zhHy2"
   },
   "source": [
    "###<여기서 잠깐> matplotlib 라이브러리를 이용한 산점도 그래프 표시"
   ]
  },
  {
   "cell_type": "markdown",
   "metadata": {
    "id": "BX5xe91di139"
   },
   "source": [
    "##3. SSE 구하기"
   ]
  },
  {
   "cell_type": "code",
   "execution_count": 21,
   "metadata": {
    "colab": {
     "base_uri": "https://localhost:8080/"
    },
    "executionInfo": {
     "elapsed": 380,
     "status": "ok",
     "timestamp": 1684659759915,
     "user": {
      "displayName": "꾬은주",
      "userId": "05623544279730996499"
     },
     "user_tz": -540
    },
    "id": "-WDj6WQ5i5Ya",
    "outputId": "5eefb675-e0c7-488c-f7fa-497becfda145"
   },
   "outputs": [
    {
     "data": {
      "text/plain": [
       "2291.032462391132"
      ]
     },
     "execution_count": 21,
     "metadata": {},
     "output_type": "execute_result"
    }
   ],
   "source": [
    "def SSE(alpha, beta, train, test):\n",
    "  sse=0\n",
    "  for i in test:\n",
    "    error=(i[1]-(alpha+beta*i[0]))**2 # (실제값-예측값)의 제곱\n",
    "    sse=error+sse\n",
    "  return sse\n",
    "  \n",
    "SSE(alpha, beta, train, train)\n"
   ]
  },
  {
   "cell_type": "markdown",
   "metadata": {
    "id": "8wo3ijYJjArL"
   },
   "source": [
    "##4. SST 구하기"
   ]
  },
  {
   "cell_type": "code",
   "execution_count": 22,
   "metadata": {
    "colab": {
     "base_uri": "https://localhost:8080/"
    },
    "executionInfo": {
     "elapsed": 354,
     "status": "ok",
     "timestamp": 1684659801297,
     "user": {
      "displayName": "꾬은주",
      "userId": "05623544279730996499"
     },
     "user_tz": -540
    },
    "id": "U37xBgG8jDxw",
    "outputId": "fc069791-0847-490a-adc0-5e2cd8ff3847"
   },
   "outputs": [
    {
     "data": {
      "text/plain": [
       "13379.2"
      ]
     },
     "execution_count": 22,
     "metadata": {},
     "output_type": "execute_result"
    }
   ],
   "source": [
    "def SST(alpha, beta, train, test):\n",
    "  sst=0\n",
    "  x=[i[0] for i in train]\n",
    "  y=[j[1] for j in train]\n",
    "  for i in test:\n",
    "    sum_ds=(i[1]-mean(y))**2\n",
    "    sst=sum_ds+sst\n",
    "  return sst\n",
    "  \n",
    "SST(alpha, beta, train, train)"
   ]
  },
  {
   "cell_type": "markdown",
   "metadata": {
    "id": "oIxPzdP-jKit"
   },
   "source": [
    "##5. 결정계수 구하기"
   ]
  },
  {
   "cell_type": "code",
   "execution_count": 23,
   "metadata": {
    "colab": {
     "base_uri": "https://localhost:8080/"
    },
    "executionInfo": {
     "elapsed": 339,
     "status": "ok",
     "timestamp": 1684659830481,
     "user": {
      "displayName": "꾬은주",
      "userId": "05623544279730996499"
     },
     "user_tz": -540
    },
    "id": "DpfouG43jNWp",
    "outputId": "fba368d1-6e67-4531-98b5-3f4b92687704"
   },
   "outputs": [
    {
     "data": {
      "text/plain": [
       "0.8287616253295316"
      ]
     },
     "execution_count": 23,
     "metadata": {},
     "output_type": "execute_result"
    }
   ],
   "source": [
    "def R_squared(alpha, beta, train, test):\n",
    "  return 1.0-(SSE(alpha, beta, train, test)/SST(alpha, beta, train, test))\n",
    "  \n",
    "R_squared(alpha, beta, train, train)"
   ]
  },
  {
   "cell_type": "code",
   "execution_count": 24,
   "metadata": {
    "colab": {
     "base_uri": "https://localhost:8080/"
    },
    "executionInfo": {
     "elapsed": 3606,
     "status": "ok",
     "timestamp": 1684659844004,
     "user": {
      "displayName": "꾬은주",
      "userId": "05623544279730996499"
     },
     "user_tz": -540
    },
    "id": "xVFrU_RpjQ2i",
    "outputId": "814b90cd-31fb-47a4-e3a1-4afa1ea3f2e4"
   },
   "outputs": [
    {
     "name": "stdout",
     "output_type": "stream",
     "text": [
      "                            OLS Regression Results                            \n",
      "==============================================================================\n",
      "Dep. Variable:                      y   R-squared:                       0.829\n",
      "Model:                            OLS   Adj. R-squared:                  0.772\n",
      "Method:                 Least Squares   F-statistic:                     14.52\n",
      "Date:                Mon, 30 Oct 2023   Prob (F-statistic):             0.0318\n",
      "Time:                        15:33:44   Log-Likelihood:                -22.413\n",
      "No. Observations:                   5   AIC:                             48.83\n",
      "Df Residuals:                       3   BIC:                             48.04\n",
      "Df Model:                           1                                         \n",
      "Covariance Type:            nonrobust                                         \n",
      "==============================================================================\n",
      "                 coef    std err          t      P>|t|      [0.025      0.975]\n",
      "------------------------------------------------------------------------------\n",
      "const         -1.5598     44.063     -0.035      0.974    -141.788     138.668\n",
      "x1             4.6849      1.229      3.810      0.032       0.772       8.598\n",
      "==============================================================================\n",
      "Omnibus:                          nan   Durbin-Watson:                   1.937\n",
      "Prob(Omnibus):                    nan   Jarque-Bera (JB):                0.520\n",
      "Skew:                           0.501   Prob(JB):                        0.771\n",
      "Kurtosis:                       1.778   Cond. No.                         128.\n",
      "==============================================================================\n",
      "\n",
      "Notes:\n",
      "[1] Standard Errors assume that the covariance matrix of the errors is correctly specified.\n"
     ]
    },
    {
     "name": "stderr",
     "output_type": "stream",
     "text": [
      "C:\\Users\\DO YEON\\anaconda3\\Lib\\site-packages\\statsmodels\\stats\\stattools.py:74: ValueWarning: omni_normtest is not valid with less than 8 observations; 5 samples were given.\n",
      "  warn(\"omni_normtest is not valid with less than 8 observations; %i \"\n"
     ]
    }
   ],
   "source": [
    "train=[[25, 100], [52, 256], [38, 152], [32, 140], [25, 150]]\n",
    "x=[i[0] for i in train]\n",
    "y=[j[1] for j in train]\n",
    "import statsmodels.api as sms\n",
    "_X=sms.add_constant(x)\n",
    "model=sms.OLS(y, _X).fit()\n",
    "print(model.summary())\n"
   ]
  },
  {
   "cell_type": "markdown",
   "metadata": {
    "id": "zPWy-Q_XjU8F"
   },
   "source": [
    "## 6. 예측력 구하기"
   ]
  },
  {
   "cell_type": "code",
   "execution_count": 25,
   "metadata": {
    "colab": {
     "base_uri": "https://localhost:8080/"
    },
    "executionInfo": {
     "elapsed": 9,
     "status": "ok",
     "timestamp": 1684659868376,
     "user": {
      "displayName": "꾬은주",
      "userId": "05623544279730996499"
     },
     "user_tz": -540
    },
    "id": "QNjnG0gfjXpT",
    "outputId": "dc95f824-8374-455b-ff01-cb28cb95b3f0"
   },
   "outputs": [
    {
     "data": {
      "text/plain": [
       "[[45, 183], [40, 175], [55, 203], [28, 152], [42, 198]]"
      ]
     },
     "execution_count": 25,
     "metadata": {},
     "output_type": "execute_result"
    }
   ],
   "source": [
    "test=[[45,183],[40,175],[55,203],[28,152],[42,198]]\n",
    "test"
   ]
  },
  {
   "cell_type": "markdown",
   "metadata": {
    "id": "RuRNlLsejZyF"
   },
   "source": [
    "###종속변수 값 예측하기"
   ]
  },
  {
   "cell_type": "code",
   "execution_count": 26,
   "metadata": {
    "colab": {
     "base_uri": "https://localhost:8080/"
    },
    "executionInfo": {
     "elapsed": 352,
     "status": "ok",
     "timestamp": 1684659904991,
     "user": {
      "displayName": "꾬은주",
      "userId": "05623544279730996499"
     },
     "user_tz": -540
    },
    "id": "SYjRGqh0jboX",
    "outputId": "1a379a65-0ba8-4c02-d83f-f47ff7e98682"
   },
   "outputs": [
    {
     "data": {
      "text/plain": [
       "[209.2596991290578,\n",
       " 185.83531274742674,\n",
       " 256.1084718923198,\n",
       " 129.61678543151228,\n",
       " 195.20506730007918]"
      ]
     },
     "execution_count": 26,
     "metadata": {},
     "output_type": "execute_result"
    }
   ],
   "source": [
    "def predict(alpha, beta, train, test):\n",
    "  predictions=list()\n",
    "  x=[i[0] for i in train]\n",
    "  y=[j[1] for j in train]\n",
    "  alpha, beta=OLS_fit(x,y)\n",
    "  for i in test:\n",
    "    yhat=alpha+beta*i[0]\n",
    "    predictions.append(yhat)\n",
    "  return predictions\n",
    "  \n",
    "predict(alpha, beta, train, test)"
   ]
  },
  {
   "cell_type": "markdown",
   "metadata": {
    "id": "rBs4R6zejjbP"
   },
   "source": [
    "### 예측 결과 평가하기"
   ]
  },
  {
   "cell_type": "code",
   "execution_count": 27,
   "metadata": {
    "colab": {
     "base_uri": "https://localhost:8080/"
    },
    "executionInfo": {
     "elapsed": 6,
     "status": "ok",
     "timestamp": 1684659922443,
     "user": {
      "displayName": "꾬은주",
      "userId": "05623544279730996499"
     },
     "user_tz": -540
    },
    "id": "s_KO4b8tjlHZ",
    "outputId": "2381b0bb-a39b-49ea-b1c0-d71bca8b4a9a"
   },
   "outputs": [
    {
     "data": {
      "text/plain": [
       "([183, 175, 203, 152, 198],\n",
       " [209.2596991290578,\n",
       "  185.83531274742674,\n",
       "  256.1084718923198,\n",
       "  129.61678543151228,\n",
       "  195.20506730007918])"
      ]
     },
     "execution_count": 27,
     "metadata": {},
     "output_type": "execute_result"
    }
   ],
   "source": [
    "actual=[j[1] for j in test]\n",
    "predicted=predict(alpha, beta, train, test)\n",
    "actual, predicted"
   ]
  },
  {
   "cell_type": "code",
   "execution_count": 28,
   "metadata": {
    "colab": {
     "base_uri": "https://localhost:8080/"
    },
    "executionInfo": {
     "elapsed": 376,
     "status": "ok",
     "timestamp": 1684659946625,
     "user": {
      "displayName": "꾬은주",
      "userId": "05623544279730996499"
     },
     "user_tz": -540
    },
    "id": "OvwIzi9Ujnjj",
    "outputId": "797c3504-f00f-4fe9-97aa-3f8d474cc5de"
   },
   "outputs": [
    {
     "data": {
      "text/plain": [
       "28.762147105654535"
      ]
     },
     "execution_count": 28,
     "metadata": {},
     "output_type": "execute_result"
    }
   ],
   "source": [
    "from math import sqrt\n",
    "def RMSE(actual, predicted): # 변수 RMSE 선언, 인자는 actual, predicted\n",
    "  sum_error=0.0 # 변수 sum_error 값을 0.0으로 초기화\n",
    "  for i in range(len(actual)): # for 문으로 변수 actual에 저장된 값만큼 반복\n",
    "    prediction_error=predicted[i]-actual[i] # 예측값[i]-실제값[i] 반환\n",
    "    sum_error+=(prediction_error**2) # prediction_error 제곱 누적\n",
    "    mean_error=sum_error/float(len(actual)) # sum_error/len(actual) 값 저장\n",
    "  return sqrt(mean_error) # mean_error 제곱근 반환\n",
    "  \n",
    "RMSE(actual, predicted)"
   ]
  },
  {
   "cell_type": "markdown",
   "metadata": {
    "id": "spu76svUjvBc"
   },
   "source": [
    "#Section 03. 회귀분석2 경사하강법을 이용한 회귀계수 도출"
   ]
  },
  {
   "cell_type": "markdown",
   "metadata": {
    "id": "wlIReGzojzGz"
   },
   "source": [
    "##1. 회귀계수 구하기"
   ]
  },
  {
   "cell_type": "code",
   "execution_count": 29,
   "metadata": {
    "colab": {
     "base_uri": "https://localhost:8080/"
    },
    "executionInfo": {
     "elapsed": 505,
     "status": "ok",
     "timestamp": 1684659998186,
     "user": {
      "displayName": "꾬은주",
      "userId": "05623544279730996499"
     },
     "user_tz": -540
    },
    "id": "-L3OQ0Ldj1xj",
    "outputId": "cbd034f8-cda3-4e86-f237-bc5efd9cdd10"
   },
   "outputs": [
    {
     "name": "stdout",
     "output_type": "stream",
     "text": [
      "학습 데이터(train): [[25, 100], [52, 256], [38, 152], [32, 140], [25, 150]], 테스트 데이터(test): [[45, 183], [40, 175], [55, 203], [28, 152], [42, 198]]\n"
     ]
    }
   ],
   "source": [
    "dataset=[[25,100],[52,256],[38,152],[32,140],[25,150],[45,183],[40,175],[55,203],[28,152],[42,198]]\n",
    "train=dataset[:5]\n",
    "test=dataset[5:]\n",
    "print('학습 데이터(train): {}, 테스트 데이터(test): {}'.format(train, test))"
   ]
  },
  {
   "cell_type": "code",
   "execution_count": 30,
   "metadata": {
    "colab": {
     "base_uri": "https://localhost:8080/"
    },
    "executionInfo": {
     "elapsed": 341,
     "status": "ok",
     "timestamp": 1684660005500,
     "user": {
      "displayName": "꾬은주",
      "userId": "05623544279730996499"
     },
     "user_tz": -540
    },
    "id": "UL9SeXZBj5e8",
    "outputId": "30b59e20-9d01-4dc9-9f3a-030a1c9a6b6f"
   },
   "outputs": [
    {
     "data": {
      "text/plain": [
       "[0.0, 0.0]"
      ]
     },
     "execution_count": 30,
     "metadata": {},
     "output_type": "execute_result"
    }
   ],
   "source": [
    "coef=[0.0 for i in range(len(train[0]))] # 회귀계수 값 초기화\n",
    "coef"
   ]
  },
  {
   "cell_type": "code",
   "execution_count": 31,
   "metadata": {
    "executionInfo": {
     "elapsed": 3,
     "status": "ok",
     "timestamp": 1684660025566,
     "user": {
      "displayName": "꾬은주",
      "userId": "05623544279730996499"
     },
     "user_tz": -540
    },
    "id": "DIzmkxusj8f9"
   },
   "outputs": [],
   "source": [
    "def predict(row, coef):\n",
    "  # yhat=coef[0]+coef[i+1]*row[i]\n",
    "  yhat=coef[0] # 절편\n",
    "  for i in range(len(row)-1):\n",
    "    yhat+=coef[i+1]*row[i] # 회귀계수*학습 데이터\n",
    "  return yhat\n",
    "  "
   ]
  },
  {
   "cell_type": "code",
   "execution_count": 32,
   "metadata": {
    "executionInfo": {
     "elapsed": 6,
     "status": "ok",
     "timestamp": 1684660115680,
     "user": {
      "displayName": "꾬은주",
      "userId": "05623544279730996499"
     },
     "user_tz": -540
    },
    "id": "fL66pWSqkAmR"
   },
   "outputs": [],
   "source": [
    "def coefficients_sgd(train, l_rate, n_epoch): # 학습 데이터, 학습률, 학습 횟수\n",
    "  coef=[0.0 for i in range(len(train[0]))] # 절편과 회귀계수 모두 0으로 초기화\n",
    "  for epoch in range(n_epoch): # 학습 횟수만큼 반복\n",
    "    sse=0 # 오차 제곱합\n",
    "    for row in train: # 학습 데이터를 차례로 row에 넘겨 predict 함수 실행\n",
    "      yhat=predict(row, coef) # 예측값\n",
    "      error=yhat-row[-1] # 오차\n",
    "      sse+=error**2 # 오차 제곱\n",
    "      coef[0]=coef[0] - l_rate * error # 절편 수정\n",
    "      for i in range(len(row)-1):\n",
    "        coef[i+1]=coef[i+1]-l_rate*error*row[i]\n",
    "      return coef, sse"
   ]
  },
  {
   "cell_type": "code",
   "execution_count": 33,
   "metadata": {
    "executionInfo": {
     "elapsed": 3,
     "status": "ok",
     "timestamp": 1684660160160,
     "user": {
      "displayName": "꾬은주",
      "userId": "05623544279730996499"
     },
     "user_tz": -540
    },
    "id": "y3mtdljvkXYl"
   },
   "outputs": [],
   "source": [
    "import math\n",
    "def coefficients_sgd(train, l_rate, n_epoch):\n",
    "  coef=[0.0 for i in range(len(train[0]))] #초기 회귀계수 값\n",
    "  for epoch in range(n_epoch):\n",
    "    sum_error=0\n",
    "    for row in train:\n",
    "      yhat=predict(row, coef)\n",
    "      error=row[-1]-yhat\n",
    "      sum_error+=(error**2)\n",
    "      coef[0]=coef[0]+l_rate*error\n",
    "      for i in range(len(row)-1):\n",
    "        coef[i+1]=coef[i+1]+l_rate*error*row[i]\n",
    " # print('>epoch=%d, lrate=%.5f, error=%.2f' % (epoch,l_rate,sum_error))\n",
    "  return coef, math.sqrt(sum_error/len(train))"
   ]
  },
  {
   "cell_type": "code",
   "execution_count": 34,
   "metadata": {
    "colab": {
     "base_uri": "https://localhost:8080/"
    },
    "executionInfo": {
     "elapsed": 6,
     "status": "ok",
     "timestamp": 1684660177955,
     "user": {
      "displayName": "꾬은주",
      "userId": "05623544279730996499"
     },
     "user_tz": -540
    },
    "id": "gu5Havaoki3h",
    "outputId": "2b2f6aef-485d-492f-b69d-b4d485b006cc"
   },
   "outputs": [
    {
     "data": {
      "text/plain": [
       "([0.12048176774574783, 4.6641909860014845], 22.58718935323457)"
      ]
     },
     "execution_count": 34,
     "metadata": {},
     "output_type": "execute_result"
    }
   ],
   "source": [
    "l_rate=0.0001\n",
    "n_epoch=10\n",
    "coef=coefficients_sgd(train, l_rate, n_epoch)\n",
    "coef"
   ]
  },
  {
   "cell_type": "markdown",
   "metadata": {
    "id": "2TrsnsTdklfG"
   },
   "source": [
    "## 2. 예측값 구하고 결과 평가하기"
   ]
  },
  {
   "cell_type": "code",
   "execution_count": 35,
   "metadata": {
    "colab": {
     "base_uri": "https://localhost:8080/"
    },
    "executionInfo": {
     "elapsed": 5,
     "status": "ok",
     "timestamp": 1684660246196,
     "user": {
      "displayName": "꾬은주",
      "userId": "05623544279730996499"
     },
     "user_tz": -540
    },
    "id": "JBhMOq_SkoG-",
    "outputId": "8c00043c-7da7-4e31-c73b-72283c9af5e8"
   },
   "outputs": [
    {
     "data": {
      "text/plain": [
       "(0.12048176774574783, 4.6641909860014845)"
      ]
     },
     "execution_count": 35,
     "metadata": {},
     "output_type": "execute_result"
    }
   ],
   "source": [
    "dataset=[[25,100],[52,256],[38,152],[32,140],[25,150],[45,183],[40,175],[55,203],[28,152],[42,198]]\n",
    "train=dataset[:5]\n",
    "test=dataset[5:]\n",
    "actual=[j[1] for j in test]\n",
    "l_rate=0.0001\n",
    "n_epoch=10\n",
    "alpha,beta=coefficients_sgd(train,l_rate,n_epoch)[0][0],coefficients_sgd(train, l_rate, n_epoch)[0][1]\n",
    "\n",
    "alpha,beta"
   ]
  },
  {
   "cell_type": "code",
   "execution_count": 36,
   "metadata": {
    "colab": {
     "base_uri": "https://localhost:8080/"
    },
    "executionInfo": {
     "elapsed": 353,
     "status": "ok",
     "timestamp": 1684660277474,
     "user": {
      "displayName": "꾬은주",
      "userId": "05623544279730996499"
     },
     "user_tz": -540
    },
    "id": "7o5klu3Dk3h-",
    "outputId": "de9d9b68-1ae0-48d8-cc2f-b8a16ea82efe"
   },
   "outputs": [
    {
     "data": {
      "text/plain": [
       "[210.00907613781257,\n",
       " 186.68812120780515,\n",
       " 256.6509859978274,\n",
       " 130.71782937578732,\n",
       " 196.0165031798081]"
      ]
     },
     "execution_count": 36,
     "metadata": {},
     "output_type": "execute_result"
    }
   ],
   "source": [
    "def predicted(train, test, alpha, beta):\n",
    "  predictions=list()\n",
    "  x=[i[0] for i in train]\n",
    "  y=[j[1] for j in train]\n",
    "  for i in test:\n",
    "    yhat=alpha+beta*i[0]\n",
    "    predictions.append(yhat)\n",
    "  return predictions\n",
    "  \n",
    "pred=predicted(train, test, alpha, beta)\n",
    "pred"
   ]
  },
  {
   "cell_type": "code",
   "execution_count": 37,
   "metadata": {
    "colab": {
     "base_uri": "https://localhost:8080/"
    },
    "executionInfo": {
     "elapsed": 355,
     "status": "ok",
     "timestamp": 1684660310490,
     "user": {
      "displayName": "꾬은주",
      "userId": "05623544279730996499"
     },
     "user_tz": -540
    },
    "id": "WTj5Ri8sk-BR",
    "outputId": "e9127668-f0ab-4d35-8ec5-8ac6d532f78b"
   },
   "outputs": [
    {
     "data": {
      "text/plain": [
       "28.987568769523886"
      ]
     },
     "execution_count": 37,
     "metadata": {},
     "output_type": "execute_result"
    }
   ],
   "source": [
    "from math import sqrt\n",
    "\n",
    "def RMSE(actual, predicted):\n",
    "  sum_error=0.0\n",
    "  for i in range(len(actual)):\n",
    "    prediction_error=predicted[i]-actual[i]\n",
    "    sum_error+=(prediction_error**2)\n",
    "\n",
    "  mean_error=sum_error/float(len(actual))\n",
    "  return sqrt(mean_error)\n",
    "  \n",
    "RMSE(actual, pred)"
   ]
  },
  {
   "cell_type": "markdown",
   "metadata": {
    "id": "XQD3PmmslGsX"
   },
   "source": [
    "## 3 종합 및 심화"
   ]
  },
  {
   "cell_type": "code",
   "execution_count": 38,
   "metadata": {
    "executionInfo": {
     "elapsed": 351,
     "status": "ok",
     "timestamp": 1684660393585,
     "user": {
      "displayName": "꾬은주",
      "userId": "05623544279730996499"
     },
     "user_tz": -540
    },
    "id": "Z0Ucw3AplJUo"
   },
   "outputs": [],
   "source": [
    "def sgd1(sq_error, sq_error_grad, x, y, theta_0, l_rate_0):\n",
    "  data=list(zip(x, y))\n",
    "  theta=theta_0\n",
    "  l_rate=l_rate_0\n",
    "  min_value=float(\"inf\")\n",
    "  iterations=0\n",
    "  while iterations < 5:\n",
    "    value=sum(sq_error(xi, yi, theta) for xi, yi in data)\n",
    "    if value < min_value:\n",
    "      min_theta, min_value=theta, value\n",
    "      iterations=0\n",
    "      l_rate=l_rate_0\n",
    "    else:\n",
    "      iterations+=1\n",
    "      l_rate*=0.9\n",
    "    for xi, yi in data:\n",
    "      gradient_i=sq_error_grad(xi, yi, theta)\n",
    "      theta=vector_subtract(theta, scalar_multiply(l_rate, gradient_i))\n",
    "      # print(\"min_theta\",min_theta)\n",
    "  return min_theta"
   ]
  },
  {
   "cell_type": "code",
   "execution_count": 39,
   "metadata": {
    "executionInfo": {
     "elapsed": 360,
     "status": "ok",
     "timestamp": 1684660429551,
     "user": {
      "displayName": "꾬은주",
      "userId": "05623544279730996499"
     },
     "user_tz": -540
    },
    "id": "S1a-SNcjlber"
   },
   "outputs": [],
   "source": [
    "def sq_error(xi, yi,theta):\n",
    "  alpha, beta=theta\n",
    "  error=yi-(beta * xi + alpha)\n",
    "  sq_error=error**2\n",
    "  return sq_error\n",
    "\n",
    "def sq_error_grad(xi, yi, theta):\n",
    "  alpha, beta=theta\n",
    "  return [-2 *(yi-(beta * xi + alpha)),-2 *(yi-(beta * xi + alpha)) * xi]\n",
    "\n",
    "def vector_subtract(v, w):\n",
    "  return [vi - wi for vi, wi in zip(v,w)]\n",
    "\n",
    "def scalar_multiply(c, v):\n",
    "  return [c * vi for vi in v]"
   ]
  },
  {
   "cell_type": "code",
   "execution_count": 40,
   "metadata": {
    "colab": {
     "base_uri": "https://localhost:8080/"
    },
    "executionInfo": {
     "elapsed": 4,
     "status": "ok",
     "timestamp": 1684660444418,
     "user": {
      "displayName": "꾬은주",
      "userId": "05623544279730996499"
     },
     "user_tz": -540
    },
    "id": "DYQuR6aUljuc",
    "outputId": "54159a32-2afd-42db-875f-c0ba1b21a8c6"
   },
   "outputs": [
    {
     "data": {
      "text/plain": [
       "[-0.10951732977330134, 5.486891250958579]"
      ]
     },
     "execution_count": 40,
     "metadata": {},
     "output_type": "execute_result"
    }
   ],
   "source": [
    "dataset=[[25,100],[52,256],[38,152],[32,140],[25,150],[45,183],[40,175],[55,203],[28,152],[42,198]]\n",
    "train=dataset[:5]\n",
    "test=dataset[5:]\n",
    "x=[i[0] for i in train]\n",
    "y=[j[1] for j in train]\n",
    "l_rate_0=0.001\n",
    "theta_0=[0,0]\n",
    "sgd1(sq_error, sq_error_grad, x, y, theta_0, l_rate_0)"
   ]
  }
 ],
 "metadata": {
  "colab": {
   "authorship_tag": "ABX9TyPsy5cEceOq4k+eXKemWbip",
   "provenance": []
  },
  "kernelspec": {
   "display_name": "Python 3 (ipykernel)",
   "language": "python",
   "name": "python3"
  },
  "language_info": {
   "codemirror_mode": {
    "name": "ipython",
    "version": 3
   },
   "file_extension": ".py",
   "mimetype": "text/x-python",
   "name": "python",
   "nbconvert_exporter": "python",
   "pygments_lexer": "ipython3",
   "version": "3.11.5"
  }
 },
 "nbformat": 4,
 "nbformat_minor": 1
}
