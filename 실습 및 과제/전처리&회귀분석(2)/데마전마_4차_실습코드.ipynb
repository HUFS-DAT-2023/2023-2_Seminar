{
 "cells": [
  {
   "cell_type": "markdown",
   "metadata": {
    "id": "UOkyhipxHWnU"
   },
   "source": [
    "#Chapter10.[기본] 소비 데이터 분석과 승객 생존율 예측"
   ]
  },
  {
   "cell_type": "markdown",
   "metadata": {
    "id": "I60V_0V0Hdd9"
   },
   "source": [
    "#Section 01. [판다스 활용] 카드 소비 데이터 분석\n",
    "##1. 원본 데이터 소개\n",
    "##2. 데이터 전처리\n",
    "### 작업용 파일 생성하기"
   ]
  },
  {
   "cell_type": "code",
   "execution_count": 3,
   "metadata": {
    "colab": {
     "base_uri": "https://localhost:8080/"
    },
    "id": "5xqufqhGHV7a",
    "outputId": "2f1954f6-3c28-4deb-f5d4-ff12e7fced65"
   },
   "outputs": [],
   "source": [
    "#from google.colab import drive\n",
    "#drive.mount('/content/drive')"
   ]
  },
  {
   "cell_type": "code",
   "execution_count": 4,
   "metadata": {
    "colab": {
     "base_uri": "https://localhost:8080/"
    },
    "id": "Zmd5RCjHH1yc",
    "outputId": "58ea47db-9a4a-47e6-f5fc-2dee58870141"
   },
   "outputs": [
    {
     "name": "stdout",
     "output_type": "stream",
     "text": [
      "<class 'bytes'>\n",
      "<class 'str'>\n"
     ]
    }
   ],
   "source": [
    "import pandas as pd\n",
    "with open('bc_card.txt', mode='rb') as f:\n",
    "  with open('bc_card_output.txt', mode='w') as w:\n",
    "    data=f.read()\n",
    "    print(type(data))\n",
    "    data=data.decode('cp949')\n",
    "    print(type(data))\n",
    "    w.write(data)"
   ]
  },
  {
   "cell_type": "code",
   "execution_count": 5,
   "metadata": {
    "colab": {
     "base_uri": "https://localhost:8080/"
    },
    "id": "3txEUnGAJFW6",
    "outputId": "7cb11d9b-a7f0-40b4-e621-bb8ead724096"
   },
   "outputs": [
    {
     "data": {
      "text/plain": [
       "10235713"
      ]
     },
     "execution_count": 5,
     "metadata": {},
     "output_type": "execute_result"
    }
   ],
   "source": [
    "with open('bc_card_output.txt', mode='r') as f:\n",
    " data=f.read()\n",
    "len(data)"
   ]
  },
  {
   "cell_type": "code",
   "execution_count": 6,
   "metadata": {
    "colab": {
     "base_uri": "https://localhost:8080/",
     "height": 35
    },
    "id": "tqaDF4mXJQMT",
    "outputId": "664ccf0e-fa0b-426b-bce4-7e6e946e2f83"
   },
   "outputs": [
    {
     "data": {
      "text/plain": [
       "'REG_YYMM\\tMEGA_CTY_NO\\tMEGA_CTY_NM\\tCTY_RGN_NO\\tCTY_RGN_NM\\tADMI_CTY_NO\\tADMI_CTY_NM\\tMAIN_BUZ_CODE\\tMAIN_BU'"
      ]
     },
     "execution_count": 6,
     "metadata": {},
     "output_type": "execute_result"
    }
   ],
   "source": [
    "data[0:100]"
   ]
  },
  {
   "cell_type": "code",
   "execution_count": 7,
   "metadata": {
    "colab": {
     "base_uri": "https://localhost:8080/"
    },
    "id": "2A4taBw-JUC7",
    "outputId": "6f403c8c-a51e-44a1-9cde-963dbc3537a3"
   },
   "outputs": [
    {
     "data": {
      "text/plain": [
       "['REG_YYMM',\n",
       " 'MEGA_CTY_NO',\n",
       " 'MEGA_CTY_NM',\n",
       " 'CTY_RGN_NO',\n",
       " 'CTY_RGN_NM',\n",
       " 'ADMI_CTY_NO',\n",
       " 'ADMI_CTY_NM',\n",
       " 'MAIN_BUZ_CODE',\n",
       " 'MAIN_BUZ_DESC',\n",
       " 'TP_GRP_NO',\n",
       " 'TP_GRP_NM',\n",
       " 'TP_BUZ_NO',\n",
       " 'TP_BUZ_NM',\n",
       " 'CSTMR_GUBUN',\n",
       " 'CSTMR_MEGA_CTY_NO',\n",
       " 'CSTMR_MEGA_CTY_NM',\n",
       " 'CSTMR_CTY_RGN_NO',\n",
       " 'CSTMR_CTY_RGN_NM',\n",
       " 'SEX_CTGO_CD',\n",
       " 'AGE_VAL',\n",
       " 'FLC',\n",
       " 'AMT',\n",
       " 'CNT201906',\n",
       " '11',\n",
       " '서울특별시']"
      ]
     },
     "execution_count": 7,
     "metadata": {},
     "output_type": "execute_result"
    }
   ],
   "source": [
    "split_data=data.split('\\t')\n",
    "split_data[0:25]"
   ]
  },
  {
   "cell_type": "code",
   "execution_count": 8,
   "metadata": {
    "colab": {
     "base_uri": "https://localhost:8080/"
    },
    "id": "EfYh_VGmJWJz",
    "outputId": "5781ad7d-6968-4f45-d815-04fdc4ab57bf"
   },
   "outputs": [
    {
     "data": {
      "text/plain": [
       "3"
      ]
     },
     "execution_count": 8,
     "metadata": {},
     "output_type": "execute_result"
    }
   ],
   "source": [
    "No_Column=23\n",
    "len(split_data)%No_Column"
   ]
  },
  {
   "cell_type": "code",
   "execution_count": 9,
   "metadata": {
    "colab": {
     "base_uri": "https://localhost:8080/"
    },
    "id": "SLnHefWRJX77",
    "outputId": "2ab55094-9eeb-41f2-f7ec-9cc0cd7e865e"
   },
   "outputs": [
    {
     "data": {
      "text/plain": [
       "(str, list)"
      ]
     },
     "execution_count": 9,
     "metadata": {},
     "output_type": "execute_result"
    }
   ],
   "source": [
    "type(data), type(split_data)"
   ]
  },
  {
   "cell_type": "code",
   "execution_count": 10,
   "metadata": {
    "colab": {
     "base_uri": "https://localhost:8080/"
    },
    "id": "s1PAdKC8LaBA",
    "outputId": "f6f1f949-dac3-4b02-d61c-3183a7846e50"
   },
   "outputs": [
    {
     "data": {
      "text/plain": [
       "257"
      ]
     },
     "execution_count": 10,
     "metadata": {},
     "output_type": "execute_result"
    }
   ],
   "source": [
    "data.find('CNT')"
   ]
  },
  {
   "cell_type": "code",
   "execution_count": 11,
   "metadata": {
    "colab": {
     "base_uri": "https://localhost:8080/"
    },
    "id": "oH0bkQsmLdNQ",
    "outputId": "7791436a-5f13-4a37-fac5-59b2520fa3fd"
   },
   "outputs": [
    {
     "data": {
      "text/plain": [
       "('CNT', '201906')"
      ]
     },
     "execution_count": 11,
     "metadata": {},
     "output_type": "execute_result"
    }
   ],
   "source": [
    "data=data[:260]+'\\t'+data[260:]\n",
    "split_data=data.split('\\t')\n",
    "split_data[22],split_data[23]"
   ]
  },
  {
   "cell_type": "code",
   "execution_count": 12,
   "metadata": {
    "colab": {
     "base_uri": "https://localhost:8080/"
    },
    "id": "7yatm6PzLfx0",
    "outputId": "9cba0ee4-19e9-430c-e540-d2ca9b9c1435"
   },
   "outputs": [
    {
     "data": {
      "text/plain": [
       "4"
      ]
     },
     "execution_count": 12,
     "metadata": {},
     "output_type": "execute_result"
    }
   ],
   "source": [
    "len(split_data) % No_Column"
   ]
  },
  {
   "cell_type": "code",
   "execution_count": 13,
   "metadata": {
    "colab": {
     "base_uri": "https://localhost:8080/"
    },
    "id": "MTn3lD6ULiu7",
    "outputId": "acc6d470-ff67-4f4b-c032-ba3a0f0c0811"
   },
   "outputs": [
    {
     "data": {
      "text/plain": [
       "('201906', '1892201906')"
      ]
     },
     "execution_count": 13,
     "metadata": {},
     "output_type": "execute_result"
    }
   ],
   "source": [
    "split_data[23],split_data[23+22]"
   ]
  },
  {
   "cell_type": "code",
   "execution_count": 14,
   "metadata": {
    "colab": {
     "base_uri": "https://localhost:8080/"
    },
    "id": "j8UjPQjMLlie",
    "outputId": "897ea6de-07c9-4dce-9c8c-c34c6d981396"
   },
   "outputs": [
    {
     "data": {
      "text/plain": [
       "4"
      ]
     },
     "execution_count": 14,
     "metadata": {},
     "output_type": "execute_result"
    }
   ],
   "source": [
    "split_data[23+22].find('201906')"
   ]
  },
  {
   "cell_type": "code",
   "execution_count": 15,
   "metadata": {
    "id": "kjyOkSCLLo6M"
   },
   "outputs": [],
   "source": [
    "Cycle= 22\n",
    "i=1 # 첫 번째와 두 번째 고객 레코드 사이의 cnt와 연도를 구분하기 위해 탭(\\t)을 넣으므로\n",
    "while i < round((len(split_data)-Cycle)/Cycle):\n",
    " target_index=split_data[No_Column+Cycle*i].find('201906')\n",
    " split_data[No_Column+Cycle*i]=split_data[No_Column+Cycle*i][:target_index]+'\\t'+split_data[No_Column+Cycle*i][target_index:]\n",
    " i+=1"
   ]
  },
  {
   "cell_type": "code",
   "execution_count": 16,
   "metadata": {
    "colab": {
     "base_uri": "https://localhost:8080/"
    },
    "id": "Kuo9M1R_Lsex",
    "outputId": "116145a3-60ea-4741-ada6-e50ce435e1e7"
   },
   "outputs": [
    {
     "data": {
      "text/plain": [
       "('201906', '1892\\t201906')"
      ]
     },
     "execution_count": 16,
     "metadata": {},
     "output_type": "execute_result"
    }
   ],
   "source": [
    "split_data[23],split_data[23+22]"
   ]
  },
  {
   "cell_type": "code",
   "execution_count": 17,
   "metadata": {
    "colab": {
     "base_uri": "https://localhost:8080/"
    },
    "id": "ywIF-MwlL7Xw",
    "outputId": "3517e681-c880-49db-c3bd-5ab2d51daafd"
   },
   "outputs": [
    {
     "name": "stdout",
     "output_type": "stream",
     "text": [
      "['a', 'b', 'c', 'd', '1', '2', '3']\n",
      "\n",
      "a*****b*****c*****d*****1*****2*****3\n"
     ]
    }
   ],
   "source": [
    "a=['a', 'b', 'c', 'd', '1', '2', '3']\n",
    "print(a)\n",
    "print()\n",
    "result1=\"*****\".join(a) # join 함수로 리스트를 문자열로 변환\n",
    "print(result1)"
   ]
  },
  {
   "cell_type": "code",
   "execution_count": 18,
   "metadata": {
    "colab": {
     "base_uri": "https://localhost:8080/",
     "height": 35
    },
    "id": "RhL6FVgfL9-C",
    "outputId": "c2ffff84-aac2-4a64-fa11-f20b4ec0945d"
   },
   "outputs": [
    {
     "data": {
      "text/plain": [
       "'REG_YYMM\\tMEGA_CTY_NO\\tMEG'"
      ]
     },
     "execution_count": 18,
     "metadata": {},
     "output_type": "execute_result"
    }
   ],
   "source": [
    "join_split_data='\\t'.join(split_data)\n",
    "join_split_data[:24]"
   ]
  },
  {
   "cell_type": "code",
   "execution_count": 19,
   "metadata": {
    "colab": {
     "base_uri": "https://localhost:8080/"
    },
    "id": "-jpcCgmLL_19",
    "outputId": "14044011-e2b6-41eb-cf7c-1eef833be6e0"
   },
   "outputs": [
    {
     "data": {
      "text/plain": [
       "['REG_YYMM',\n",
       " 'MEGA_CTY_NO',\n",
       " 'MEGA_CTY_NM',\n",
       " 'CTY_RGN_NO',\n",
       " 'CTY_RGN_NM',\n",
       " 'ADMI_CTY_NO',\n",
       " 'ADMI_CTY_NM',\n",
       " 'MAIN_BUZ_CODE',\n",
       " 'MAIN_BUZ_DESC',\n",
       " 'TP_GRP_NO',\n",
       " 'TP_GRP_NM',\n",
       " 'TP_BUZ_NO',\n",
       " 'TP_BUZ_NM',\n",
       " 'CSTMR_GUBUN',\n",
       " 'CSTMR_MEGA_CTY_NO',\n",
       " 'CSTMR_MEGA_CTY_NM',\n",
       " 'CSTMR_CTY_RGN_NO',\n",
       " 'CSTMR_CTY_RGN_NM',\n",
       " 'SEX_CTGO_CD',\n",
       " 'AGE_VAL',\n",
       " 'FLC',\n",
       " 'AMT',\n",
       " 'CNT']"
      ]
     },
     "execution_count": 19,
     "metadata": {},
     "output_type": "execute_result"
    }
   ],
   "source": [
    "joined_splited_data=join_split_data.split('\\t')\n",
    "joined_splited_data[:23]"
   ]
  },
  {
   "cell_type": "code",
   "execution_count": 20,
   "metadata": {
    "colab": {
     "base_uri": "https://localhost:8080/"
    },
    "id": "R5eFjDpvMCZl",
    "outputId": "292a806c-03b5-4ccc-9679-9b41316cae23"
   },
   "outputs": [
    {
     "data": {
      "text/plain": [
       "['201906',\n",
       " '11',\n",
       " '서울특별시',\n",
       " '1162',\n",
       " '관악구',\n",
       " '11620585',\n",
       " '낙성대동',\n",
       " '80',\n",
       " '음식',\n",
       " '80',\n",
       " '일반음식',\n",
       " '8006',\n",
       " '서양음식',\n",
       " '내국인',\n",
       " '11',\n",
       " '서울특별시',\n",
       " '1162',\n",
       " '관악구',\n",
       " '2',\n",
       " '30대',\n",
       " '2',\n",
       " '26284804',\n",
       " '1892']"
      ]
     },
     "execution_count": 20,
     "metadata": {},
     "output_type": "execute_result"
    }
   ],
   "source": [
    "total=[joined_splited_data[i: i+No_Column] for i in range(0,len(joined_splited_data),No_Column)]\n",
    "total[1]"
   ]
  },
  {
   "cell_type": "markdown",
   "metadata": {
    "id": "QprO_8nXMHy5"
   },
   "source": [
    "### 데이터프레임 형식으로 저장하기"
   ]
  },
  {
   "cell_type": "code",
   "execution_count": 21,
   "metadata": {
    "colab": {
     "base_uri": "https://localhost:8080/"
    },
    "id": "fQRTmFTHMKjx",
    "outputId": "505e5a5e-e31b-4d48-c395-e020349e9796"
   },
   "outputs": [
    {
     "data": {
      "text/plain": [
       "['201906',\n",
       " '11',\n",
       " '서울특별시',\n",
       " '1135',\n",
       " '노원구',\n",
       " '11350710',\n",
       " '상계9동',\n",
       " '20',\n",
       " '문화',\n",
       " '51',\n",
       " '학원',\n",
       " '5121',\n",
       " '초중고교육기관',\n",
       " '내국인',\n",
       " '41',\n",
       " '경기도',\n",
       " '4115',\n",
       " '의정부시',\n",
       " '1',\n",
       " '40대',\n",
       " '3',\n",
       " '5227500',\n",
       " '7']"
      ]
     },
     "execution_count": 21,
     "metadata": {},
     "output_type": "execute_result"
    }
   ],
   "source": [
    "total=[joined_splited_data[i: i+No_Column] for i in range(0,len(joined_splited_data),No_Column)]\n",
    "total[-1]"
   ]
  },
  {
   "cell_type": "code",
   "execution_count": 22,
   "metadata": {
    "colab": {
     "base_uri": "https://localhost:8080/"
    },
    "id": "Ln5Y7sb9MNZm",
    "outputId": "7d1b754b-c1cd-4953-8b69-d8404f55bffa"
   },
   "outputs": [
    {
     "data": {
      "text/plain": [
       "100002"
      ]
     },
     "execution_count": 22,
     "metadata": {},
     "output_type": "execute_result"
    }
   ],
   "source": [
    "len(total)"
   ]
  },
  {
   "cell_type": "code",
   "execution_count": 23,
   "metadata": {
    "colab": {
     "base_uri": "https://localhost:8080/",
     "height": 443
    },
    "id": "XEcFkab5MPps",
    "outputId": "7afb360c-d13d-4346-fb8c-7eaf5a98023b"
   },
   "outputs": [
    {
     "data": {
      "text/html": [
       "<div>\n",
       "<style scoped>\n",
       "    .dataframe tbody tr th:only-of-type {\n",
       "        vertical-align: middle;\n",
       "    }\n",
       "\n",
       "    .dataframe tbody tr th {\n",
       "        vertical-align: top;\n",
       "    }\n",
       "\n",
       "    .dataframe thead th {\n",
       "        text-align: right;\n",
       "    }\n",
       "</style>\n",
       "<table border=\"1\" class=\"dataframe\">\n",
       "  <thead>\n",
       "    <tr style=\"text-align: right;\">\n",
       "      <th></th>\n",
       "      <th>REG_YYMM</th>\n",
       "      <th>MEGA_CTY_NO</th>\n",
       "      <th>MEGA_CTY_NM</th>\n",
       "      <th>CTY_RGN_NO</th>\n",
       "      <th>CTY_RGN_NM</th>\n",
       "      <th>ADMI_CTY_NO</th>\n",
       "      <th>ADMI_CTY_NM</th>\n",
       "      <th>MAIN_BUZ_CODE</th>\n",
       "      <th>MAIN_BUZ_DESC</th>\n",
       "      <th>TP_GRP_NO</th>\n",
       "      <th>...</th>\n",
       "      <th>CSTMR_GUBUN</th>\n",
       "      <th>CSTMR_MEGA_CTY_NO</th>\n",
       "      <th>CSTMR_MEGA_CTY_NM</th>\n",
       "      <th>CSTMR_CTY_RGN_NO</th>\n",
       "      <th>CSTMR_CTY_RGN_NM</th>\n",
       "      <th>SEX_CTGO_CD</th>\n",
       "      <th>AGE_VAL</th>\n",
       "      <th>FLC</th>\n",
       "      <th>AMT</th>\n",
       "      <th>CNT</th>\n",
       "    </tr>\n",
       "  </thead>\n",
       "  <tbody>\n",
       "    <tr>\n",
       "      <th>0</th>\n",
       "      <td>201906</td>\n",
       "      <td>11</td>\n",
       "      <td>서울특별시</td>\n",
       "      <td>1162</td>\n",
       "      <td>관악구</td>\n",
       "      <td>11620585</td>\n",
       "      <td>낙성대동</td>\n",
       "      <td>80</td>\n",
       "      <td>음식</td>\n",
       "      <td>80</td>\n",
       "      <td>...</td>\n",
       "      <td>내국인</td>\n",
       "      <td>11</td>\n",
       "      <td>서울특별시</td>\n",
       "      <td>1162</td>\n",
       "      <td>관악구</td>\n",
       "      <td>2</td>\n",
       "      <td>30대</td>\n",
       "      <td>2</td>\n",
       "      <td>26284804</td>\n",
       "      <td>1892</td>\n",
       "    </tr>\n",
       "    <tr>\n",
       "      <th>1</th>\n",
       "      <td>201906</td>\n",
       "      <td>11</td>\n",
       "      <td>서울특별시</td>\n",
       "      <td>1159</td>\n",
       "      <td>동작구</td>\n",
       "      <td>11590560</td>\n",
       "      <td>상도4동</td>\n",
       "      <td>30</td>\n",
       "      <td>생활</td>\n",
       "      <td>40</td>\n",
       "      <td>...</td>\n",
       "      <td>내국인</td>\n",
       "      <td>11</td>\n",
       "      <td>서울특별시</td>\n",
       "      <td>1165</td>\n",
       "      <td>서초구</td>\n",
       "      <td>2</td>\n",
       "      <td>20대</td>\n",
       "      <td>1</td>\n",
       "      <td>109290</td>\n",
       "      <td>18</td>\n",
       "    </tr>\n",
       "    <tr>\n",
       "      <th>2</th>\n",
       "      <td>201906</td>\n",
       "      <td>11</td>\n",
       "      <td>서울특별시</td>\n",
       "      <td>1162</td>\n",
       "      <td>관악구</td>\n",
       "      <td>11620595</td>\n",
       "      <td>청룡동</td>\n",
       "      <td>30</td>\n",
       "      <td>생활</td>\n",
       "      <td>83</td>\n",
       "      <td>...</td>\n",
       "      <td>내국인</td>\n",
       "      <td>11</td>\n",
       "      <td>서울특별시</td>\n",
       "      <td>1162</td>\n",
       "      <td>관악구</td>\n",
       "      <td>1</td>\n",
       "      <td>20대</td>\n",
       "      <td>1</td>\n",
       "      <td>268850</td>\n",
       "      <td>52</td>\n",
       "    </tr>\n",
       "    <tr>\n",
       "      <th>3</th>\n",
       "      <td>201906</td>\n",
       "      <td>11</td>\n",
       "      <td>서울특별시</td>\n",
       "      <td>1144</td>\n",
       "      <td>마포구</td>\n",
       "      <td>11440660</td>\n",
       "      <td>서교동</td>\n",
       "      <td>80</td>\n",
       "      <td>음식</td>\n",
       "      <td>80</td>\n",
       "      <td>...</td>\n",
       "      <td>내국인</td>\n",
       "      <td>11</td>\n",
       "      <td>서울특별시</td>\n",
       "      <td>1138</td>\n",
       "      <td>은평구</td>\n",
       "      <td>1</td>\n",
       "      <td>20대</td>\n",
       "      <td>1</td>\n",
       "      <td>44174450</td>\n",
       "      <td>1790</td>\n",
       "    </tr>\n",
       "    <tr>\n",
       "      <th>4</th>\n",
       "      <td>201906</td>\n",
       "      <td>11</td>\n",
       "      <td>서울특별시</td>\n",
       "      <td>1120</td>\n",
       "      <td>성동구</td>\n",
       "      <td>11200550</td>\n",
       "      <td>사근동</td>\n",
       "      <td>80</td>\n",
       "      <td>음식</td>\n",
       "      <td>80</td>\n",
       "      <td>...</td>\n",
       "      <td>내국인</td>\n",
       "      <td>11</td>\n",
       "      <td>서울특별시</td>\n",
       "      <td>1120</td>\n",
       "      <td>성동구</td>\n",
       "      <td>1</td>\n",
       "      <td>20대</td>\n",
       "      <td>1</td>\n",
       "      <td>60338146</td>\n",
       "      <td>3536</td>\n",
       "    </tr>\n",
       "    <tr>\n",
       "      <th>...</th>\n",
       "      <td>...</td>\n",
       "      <td>...</td>\n",
       "      <td>...</td>\n",
       "      <td>...</td>\n",
       "      <td>...</td>\n",
       "      <td>...</td>\n",
       "      <td>...</td>\n",
       "      <td>...</td>\n",
       "      <td>...</td>\n",
       "      <td>...</td>\n",
       "      <td>...</td>\n",
       "      <td>...</td>\n",
       "      <td>...</td>\n",
       "      <td>...</td>\n",
       "      <td>...</td>\n",
       "      <td>...</td>\n",
       "      <td>...</td>\n",
       "      <td>...</td>\n",
       "      <td>...</td>\n",
       "      <td>...</td>\n",
       "      <td>...</td>\n",
       "    </tr>\n",
       "    <tr>\n",
       "      <th>99996</th>\n",
       "      <td>201906</td>\n",
       "      <td>11</td>\n",
       "      <td>서울특별시</td>\n",
       "      <td>1165</td>\n",
       "      <td>서초구</td>\n",
       "      <td>11650520</td>\n",
       "      <td>서초2동</td>\n",
       "      <td>30</td>\n",
       "      <td>생활</td>\n",
       "      <td>40</td>\n",
       "      <td>...</td>\n",
       "      <td>내국인</td>\n",
       "      <td>43</td>\n",
       "      <td>충청북도</td>\n",
       "      <td>4311</td>\n",
       "      <td>청주시</td>\n",
       "      <td>1</td>\n",
       "      <td>50대</td>\n",
       "      <td>4</td>\n",
       "      <td>50600</td>\n",
       "      <td>10</td>\n",
       "    </tr>\n",
       "    <tr>\n",
       "      <th>99997</th>\n",
       "      <td>201906</td>\n",
       "      <td>11</td>\n",
       "      <td>서울특별시</td>\n",
       "      <td>1117</td>\n",
       "      <td>용산구</td>\n",
       "      <td>11170520</td>\n",
       "      <td>용산2가동</td>\n",
       "      <td>30</td>\n",
       "      <td>생활</td>\n",
       "      <td>40</td>\n",
       "      <td>...</td>\n",
       "      <td>내국인</td>\n",
       "      <td>11</td>\n",
       "      <td>서울특별시</td>\n",
       "      <td>1162</td>\n",
       "      <td>관악구</td>\n",
       "      <td>1</td>\n",
       "      <td>40대</td>\n",
       "      <td>2</td>\n",
       "      <td>38640</td>\n",
       "      <td>7</td>\n",
       "    </tr>\n",
       "    <tr>\n",
       "      <th>99998</th>\n",
       "      <td>201906</td>\n",
       "      <td>11</td>\n",
       "      <td>서울특별시</td>\n",
       "      <td>1156</td>\n",
       "      <td>영등포구</td>\n",
       "      <td>11560535</td>\n",
       "      <td>영등포동</td>\n",
       "      <td>30</td>\n",
       "      <td>생활</td>\n",
       "      <td>40</td>\n",
       "      <td>...</td>\n",
       "      <td>내국인</td>\n",
       "      <td>28</td>\n",
       "      <td>인천광역시</td>\n",
       "      <td>2817</td>\n",
       "      <td>미추홀구</td>\n",
       "      <td>2</td>\n",
       "      <td>30대</td>\n",
       "      <td>2</td>\n",
       "      <td>340590</td>\n",
       "      <td>15</td>\n",
       "    </tr>\n",
       "    <tr>\n",
       "      <th>99999</th>\n",
       "      <td>201906</td>\n",
       "      <td>11</td>\n",
       "      <td>서울특별시</td>\n",
       "      <td>1141</td>\n",
       "      <td>서대문구</td>\n",
       "      <td>11410585</td>\n",
       "      <td>신촌동</td>\n",
       "      <td>40</td>\n",
       "      <td>쇼핑</td>\n",
       "      <td>42</td>\n",
       "      <td>...</td>\n",
       "      <td>내국인</td>\n",
       "      <td>44</td>\n",
       "      <td>충청남도</td>\n",
       "      <td>4413</td>\n",
       "      <td>천안시</td>\n",
       "      <td>1</td>\n",
       "      <td>20대</td>\n",
       "      <td>2</td>\n",
       "      <td>117100</td>\n",
       "      <td>3</td>\n",
       "    </tr>\n",
       "    <tr>\n",
       "      <th>100000</th>\n",
       "      <td>201906</td>\n",
       "      <td>11</td>\n",
       "      <td>서울특별시</td>\n",
       "      <td>1135</td>\n",
       "      <td>노원구</td>\n",
       "      <td>11350710</td>\n",
       "      <td>상계9동</td>\n",
       "      <td>20</td>\n",
       "      <td>문화</td>\n",
       "      <td>51</td>\n",
       "      <td>...</td>\n",
       "      <td>내국인</td>\n",
       "      <td>41</td>\n",
       "      <td>경기도</td>\n",
       "      <td>4115</td>\n",
       "      <td>의정부시</td>\n",
       "      <td>1</td>\n",
       "      <td>40대</td>\n",
       "      <td>3</td>\n",
       "      <td>5227500</td>\n",
       "      <td>7</td>\n",
       "    </tr>\n",
       "  </tbody>\n",
       "</table>\n",
       "<p>100001 rows × 23 columns</p>\n",
       "</div>"
      ],
      "text/plain": [
       "       REG_YYMM MEGA_CTY_NO MEGA_CTY_NM CTY_RGN_NO CTY_RGN_NM ADMI_CTY_NO  \\\n",
       "0        201906          11       서울특별시       1162        관악구    11620585   \n",
       "1        201906          11       서울특별시       1159        동작구    11590560   \n",
       "2        201906          11       서울특별시       1162        관악구    11620595   \n",
       "3        201906          11       서울특별시       1144        마포구    11440660   \n",
       "4        201906          11       서울특별시       1120        성동구    11200550   \n",
       "...         ...         ...         ...        ...        ...         ...   \n",
       "99996    201906          11       서울특별시       1165        서초구    11650520   \n",
       "99997    201906          11       서울특별시       1117        용산구    11170520   \n",
       "99998    201906          11       서울특별시       1156       영등포구    11560535   \n",
       "99999    201906          11       서울특별시       1141       서대문구    11410585   \n",
       "100000   201906          11       서울특별시       1135        노원구    11350710   \n",
       "\n",
       "       ADMI_CTY_NM MAIN_BUZ_CODE MAIN_BUZ_DESC TP_GRP_NO  ... CSTMR_GUBUN  \\\n",
       "0             낙성대동            80            음식        80  ...         내국인   \n",
       "1             상도4동            30            생활        40  ...         내국인   \n",
       "2              청룡동            30            생활        83  ...         내국인   \n",
       "3              서교동            80            음식        80  ...         내국인   \n",
       "4              사근동            80            음식        80  ...         내국인   \n",
       "...            ...           ...           ...       ...  ...         ...   \n",
       "99996         서초2동            30            생활        40  ...         내국인   \n",
       "99997        용산2가동            30            생활        40  ...         내국인   \n",
       "99998         영등포동            30            생활        40  ...         내국인   \n",
       "99999          신촌동            40            쇼핑        42  ...         내국인   \n",
       "100000        상계9동            20            문화        51  ...         내국인   \n",
       "\n",
       "       CSTMR_MEGA_CTY_NO CSTMR_MEGA_CTY_NM CSTMR_CTY_RGN_NO CSTMR_CTY_RGN_NM  \\\n",
       "0                     11             서울특별시             1162              관악구   \n",
       "1                     11             서울특별시             1165              서초구   \n",
       "2                     11             서울특별시             1162              관악구   \n",
       "3                     11             서울특별시             1138              은평구   \n",
       "4                     11             서울특별시             1120              성동구   \n",
       "...                  ...               ...              ...              ...   \n",
       "99996                 43              충청북도             4311              청주시   \n",
       "99997                 11             서울특별시             1162              관악구   \n",
       "99998                 28             인천광역시             2817             미추홀구   \n",
       "99999                 44              충청남도             4413              천안시   \n",
       "100000                41               경기도             4115             의정부시   \n",
       "\n",
       "       SEX_CTGO_CD AGE_VAL FLC       AMT   CNT  \n",
       "0                2     30대   2  26284804  1892  \n",
       "1                2     20대   1    109290    18  \n",
       "2                1     20대   1    268850    52  \n",
       "3                1     20대   1  44174450  1790  \n",
       "4                1     20대   1  60338146  3536  \n",
       "...            ...     ...  ..       ...   ...  \n",
       "99996            1     50대   4     50600    10  \n",
       "99997            1     40대   2     38640     7  \n",
       "99998            2     30대   2    340590    15  \n",
       "99999            1     20대   2    117100     3  \n",
       "100000           1     40대   3   5227500     7  \n",
       "\n",
       "[100001 rows x 23 columns]"
      ]
     },
     "execution_count": 23,
     "metadata": {},
     "output_type": "execute_result"
    }
   ],
   "source": [
    "import pandas as pd\n",
    "total_df=pd.DataFrame(total[1:], columns=total[0])\n",
    "total_df"
   ]
  },
  {
   "cell_type": "code",
   "execution_count": 24,
   "metadata": {
    "colab": {
     "base_uri": "https://localhost:8080/",
     "height": 255
    },
    "id": "lMibykDIb91R",
    "outputId": "51981918-a39a-4ccd-b5db-26ce3abfac83"
   },
   "outputs": [
    {
     "data": {
      "text/html": [
       "<div>\n",
       "<style scoped>\n",
       "    .dataframe tbody tr th:only-of-type {\n",
       "        vertical-align: middle;\n",
       "    }\n",
       "\n",
       "    .dataframe tbody tr th {\n",
       "        vertical-align: top;\n",
       "    }\n",
       "\n",
       "    .dataframe thead th {\n",
       "        text-align: right;\n",
       "    }\n",
       "</style>\n",
       "<table border=\"1\" class=\"dataframe\">\n",
       "  <thead>\n",
       "    <tr style=\"text-align: right;\">\n",
       "      <th></th>\n",
       "      <th>REG_YYMM</th>\n",
       "      <th>MEGA_CTY_NO</th>\n",
       "      <th>MEGA_CTY_NM</th>\n",
       "      <th>CTY_RGN_NO</th>\n",
       "      <th>CTY_RGN_NM</th>\n",
       "      <th>ADMI_CTY_NO</th>\n",
       "      <th>ADMI_CTY_NM</th>\n",
       "      <th>MAIN_BUZ_CODE</th>\n",
       "      <th>MAIN_BUZ_DESC</th>\n",
       "      <th>TP_GRP_NO</th>\n",
       "      <th>...</th>\n",
       "      <th>CSTMR_GUBUN</th>\n",
       "      <th>CSTMR_MEGA_CTY_NO</th>\n",
       "      <th>CSTMR_MEGA_CTY_NM</th>\n",
       "      <th>CSTMR_CTY_RGN_NO</th>\n",
       "      <th>CSTMR_CTY_RGN_NM</th>\n",
       "      <th>SEX_CTGO_CD</th>\n",
       "      <th>AGE_VAL</th>\n",
       "      <th>FLC</th>\n",
       "      <th>AMT</th>\n",
       "      <th>CNT</th>\n",
       "    </tr>\n",
       "  </thead>\n",
       "  <tbody>\n",
       "    <tr>\n",
       "      <th>0</th>\n",
       "      <td>201906</td>\n",
       "      <td>11</td>\n",
       "      <td>서울특별시</td>\n",
       "      <td>1162</td>\n",
       "      <td>관악구</td>\n",
       "      <td>11620585</td>\n",
       "      <td>낙성대동</td>\n",
       "      <td>80</td>\n",
       "      <td>음식</td>\n",
       "      <td>80</td>\n",
       "      <td>...</td>\n",
       "      <td>내국인</td>\n",
       "      <td>11</td>\n",
       "      <td>서울특별시</td>\n",
       "      <td>1162</td>\n",
       "      <td>관악구</td>\n",
       "      <td>2</td>\n",
       "      <td>30대</td>\n",
       "      <td>2</td>\n",
       "      <td>26284804</td>\n",
       "      <td>1892</td>\n",
       "    </tr>\n",
       "    <tr>\n",
       "      <th>1</th>\n",
       "      <td>201906</td>\n",
       "      <td>11</td>\n",
       "      <td>서울특별시</td>\n",
       "      <td>1159</td>\n",
       "      <td>동작구</td>\n",
       "      <td>11590560</td>\n",
       "      <td>상도4동</td>\n",
       "      <td>30</td>\n",
       "      <td>생활</td>\n",
       "      <td>40</td>\n",
       "      <td>...</td>\n",
       "      <td>내국인</td>\n",
       "      <td>11</td>\n",
       "      <td>서울특별시</td>\n",
       "      <td>1165</td>\n",
       "      <td>서초구</td>\n",
       "      <td>2</td>\n",
       "      <td>20대</td>\n",
       "      <td>1</td>\n",
       "      <td>109290</td>\n",
       "      <td>18</td>\n",
       "    </tr>\n",
       "    <tr>\n",
       "      <th>2</th>\n",
       "      <td>201906</td>\n",
       "      <td>11</td>\n",
       "      <td>서울특별시</td>\n",
       "      <td>1162</td>\n",
       "      <td>관악구</td>\n",
       "      <td>11620595</td>\n",
       "      <td>청룡동</td>\n",
       "      <td>30</td>\n",
       "      <td>생활</td>\n",
       "      <td>83</td>\n",
       "      <td>...</td>\n",
       "      <td>내국인</td>\n",
       "      <td>11</td>\n",
       "      <td>서울특별시</td>\n",
       "      <td>1162</td>\n",
       "      <td>관악구</td>\n",
       "      <td>1</td>\n",
       "      <td>20대</td>\n",
       "      <td>1</td>\n",
       "      <td>268850</td>\n",
       "      <td>52</td>\n",
       "    </tr>\n",
       "    <tr>\n",
       "      <th>3</th>\n",
       "      <td>201906</td>\n",
       "      <td>11</td>\n",
       "      <td>서울특별시</td>\n",
       "      <td>1144</td>\n",
       "      <td>마포구</td>\n",
       "      <td>11440660</td>\n",
       "      <td>서교동</td>\n",
       "      <td>80</td>\n",
       "      <td>음식</td>\n",
       "      <td>80</td>\n",
       "      <td>...</td>\n",
       "      <td>내국인</td>\n",
       "      <td>11</td>\n",
       "      <td>서울특별시</td>\n",
       "      <td>1138</td>\n",
       "      <td>은평구</td>\n",
       "      <td>1</td>\n",
       "      <td>20대</td>\n",
       "      <td>1</td>\n",
       "      <td>44174450</td>\n",
       "      <td>1790</td>\n",
       "    </tr>\n",
       "    <tr>\n",
       "      <th>4</th>\n",
       "      <td>201906</td>\n",
       "      <td>11</td>\n",
       "      <td>서울특별시</td>\n",
       "      <td>1120</td>\n",
       "      <td>성동구</td>\n",
       "      <td>11200550</td>\n",
       "      <td>사근동</td>\n",
       "      <td>80</td>\n",
       "      <td>음식</td>\n",
       "      <td>80</td>\n",
       "      <td>...</td>\n",
       "      <td>내국인</td>\n",
       "      <td>11</td>\n",
       "      <td>서울특별시</td>\n",
       "      <td>1120</td>\n",
       "      <td>성동구</td>\n",
       "      <td>1</td>\n",
       "      <td>20대</td>\n",
       "      <td>1</td>\n",
       "      <td>60338146</td>\n",
       "      <td>3536</td>\n",
       "    </tr>\n",
       "  </tbody>\n",
       "</table>\n",
       "<p>5 rows × 23 columns</p>\n",
       "</div>"
      ],
      "text/plain": [
       "   REG_YYMM  MEGA_CTY_NO MEGA_CTY_NM  CTY_RGN_NO CTY_RGN_NM  ADMI_CTY_NO  \\\n",
       "0    201906           11       서울특별시        1162        관악구     11620585   \n",
       "1    201906           11       서울특별시        1159        동작구     11590560   \n",
       "2    201906           11       서울특별시        1162        관악구     11620595   \n",
       "3    201906           11       서울특별시        1144        마포구     11440660   \n",
       "4    201906           11       서울특별시        1120        성동구     11200550   \n",
       "\n",
       "  ADMI_CTY_NM  MAIN_BUZ_CODE MAIN_BUZ_DESC  TP_GRP_NO  ... CSTMR_GUBUN  \\\n",
       "0        낙성대동             80            음식         80  ...         내국인   \n",
       "1        상도4동             30            생활         40  ...         내국인   \n",
       "2         청룡동             30            생활         83  ...         내국인   \n",
       "3         서교동             80            음식         80  ...         내국인   \n",
       "4         사근동             80            음식         80  ...         내국인   \n",
       "\n",
       "   CSTMR_MEGA_CTY_NO CSTMR_MEGA_CTY_NM CSTMR_CTY_RGN_NO  CSTMR_CTY_RGN_NM  \\\n",
       "0                 11             서울특별시             1162               관악구   \n",
       "1                 11             서울특별시             1165               서초구   \n",
       "2                 11             서울특별시             1162               관악구   \n",
       "3                 11             서울특별시             1138               은평구   \n",
       "4                 11             서울특별시             1120               성동구   \n",
       "\n",
       "  SEX_CTGO_CD  AGE_VAL FLC       AMT   CNT  \n",
       "0           2      30대   2  26284804  1892  \n",
       "1           2      20대   1    109290    18  \n",
       "2           1      20대   1    268850    52  \n",
       "3           1      20대   1  44174450  1790  \n",
       "4           1      20대   1  60338146  3536  \n",
       "\n",
       "[5 rows x 23 columns]"
      ]
     },
     "execution_count": 24,
     "metadata": {},
     "output_type": "execute_result"
    }
   ],
   "source": [
    "total_df.to_csv('201906.csv', encoding='utf-8')\n",
    "bc_card=pd.read_csv('201906.csv',encoding='utf-8', index_col=0)\n",
    "bc_card.head()\n"
   ]
  },
  {
   "cell_type": "markdown",
   "metadata": {
    "id": "FJoystk7cANU"
   },
   "source": [
    "##3. 데이터 분석\n",
    "###서울시 거주/비거주 고객의 소비 분석\n",
    "####① 서울시 거주/비거주 고객 수 구하기"
   ]
  },
  {
   "cell_type": "code",
   "execution_count": 25,
   "metadata": {
    "colab": {
     "base_uri": "https://localhost:8080/"
    },
    "id": "zIcREvDtcHbD",
    "outputId": "8d19c376-43b8-4007-e5a3-2a73ec29f455"
   },
   "outputs": [
    {
     "data": {
      "text/plain": [
       "100001"
      ]
     },
     "execution_count": 25,
     "metadata": {},
     "output_type": "execute_result"
    }
   ],
   "source": [
    "len(bc_card)"
   ]
  },
  {
   "cell_type": "code",
   "execution_count": 26,
   "metadata": {
    "colab": {
     "base_uri": "https://localhost:8080/"
    },
    "id": "qBKOKS2bcJ1p",
    "outputId": "4eea987f-0f54-419f-a01a-3ede45c6ef8c"
   },
   "outputs": [
    {
     "data": {
      "text/plain": [
       "54150"
      ]
     },
     "execution_count": 26,
     "metadata": {},
     "output_type": "execute_result"
    }
   ],
   "source": [
    "index1=bc_card[bc_card['CSTMR_MEGA_CTY_NM'] !='서울특별시'].index\n",
    "seoul_bc_card=bc_card.drop(index1)\n",
    "seoul_bc_card.reset_index(drop=True, inplace=True)\n",
    "len(seoul_bc_card)"
   ]
  },
  {
   "cell_type": "code",
   "execution_count": 27,
   "metadata": {
    "colab": {
     "base_uri": "https://localhost:8080/"
    },
    "id": "VMNusJ-ccNWk",
    "outputId": "c48a6f1e-01cc-4092-be2f-16c42b92eb05"
   },
   "outputs": [
    {
     "data": {
      "text/plain": [
       "45851"
      ]
     },
     "execution_count": 27,
     "metadata": {},
     "output_type": "execute_result"
    }
   ],
   "source": [
    "index2=bc_card[bc_card['CSTMR_MEGA_CTY_NM']=='서울특별시'].index\n",
    "nonseoul_bc_card=bc_card.drop(index2)\n",
    "nonseoul_bc_card.reset_index(drop=True, inplace=True)\n",
    "len(nonseoul_bc_card)"
   ]
  },
  {
   "cell_type": "markdown",
   "metadata": {
    "id": "mp_ssNQecRJY"
   },
   "source": [
    "####② 총 소비액 구하기"
   ]
  },
  {
   "cell_type": "code",
   "execution_count": 28,
   "metadata": {
    "colab": {
     "base_uri": "https://localhost:8080/"
    },
    "id": "yy-87v56cP-z",
    "outputId": "e5c5202e-7f2c-4565-e3d4-af7ee4bf43cc"
   },
   "outputs": [
    {
     "name": "stdout",
     "output_type": "stream",
     "text": [
      "119663142676\n",
      "146587135822\n"
     ]
    }
   ],
   "source": [
    "print(seoul_bc_card['AMT'].sum(axis=0)) # 서울시 거주 고객의 소비액\n",
    "print(nonseoul_bc_card['AMT'].sum(axis=0)) # 서울시 비거주 고객의 소비액"
   ]
  },
  {
   "cell_type": "markdown",
   "metadata": {
    "id": "27Mrs1PUcWW2"
   },
   "source": [
    "####③ 성별 소비액 구하기"
   ]
  },
  {
   "cell_type": "code",
   "execution_count": 29,
   "metadata": {
    "colab": {
     "base_uri": "https://localhost:8080/",
     "height": 200
    },
    "id": "sQtSqbSccYVg",
    "outputId": "fc201f3c-9e17-44bc-b9e5-b26674c02588"
   },
   "outputs": [
    {
     "name": "stderr",
     "output_type": "stream",
     "text": [
      "C:\\Users\\linab\\AppData\\Local\\Temp\\ipykernel_27384\\2667472625.py:1: FutureWarning: pivot_table dropped a column because it failed to aggregate. This behavior is deprecated and will raise in a future version of pandas. Select only the columns that can be aggregated.\n",
      "  seoulsex=pd.pivot_table(seoul_bc_card, index=['SEX_CTGO_CD'], aggfunc='sum')\n"
     ]
    },
    {
     "data": {
      "text/html": [
       "<div>\n",
       "<style scoped>\n",
       "    .dataframe tbody tr th:only-of-type {\n",
       "        vertical-align: middle;\n",
       "    }\n",
       "\n",
       "    .dataframe tbody tr th {\n",
       "        vertical-align: top;\n",
       "    }\n",
       "\n",
       "    .dataframe thead th {\n",
       "        text-align: right;\n",
       "    }\n",
       "</style>\n",
       "<table border=\"1\" class=\"dataframe\">\n",
       "  <thead>\n",
       "    <tr style=\"text-align: right;\">\n",
       "      <th></th>\n",
       "      <th>AMT</th>\n",
       "    </tr>\n",
       "    <tr>\n",
       "      <th>SEX_CTGO_CD</th>\n",
       "      <th></th>\n",
       "    </tr>\n",
       "  </thead>\n",
       "  <tbody>\n",
       "    <tr>\n",
       "      <th>1</th>\n",
       "      <td>58128378947</td>\n",
       "    </tr>\n",
       "    <tr>\n",
       "      <th>2</th>\n",
       "      <td>61534763729</td>\n",
       "    </tr>\n",
       "  </tbody>\n",
       "</table>\n",
       "</div>"
      ],
      "text/plain": [
       "                     AMT\n",
       "SEX_CTGO_CD             \n",
       "1            58128378947\n",
       "2            61534763729"
      ]
     },
     "execution_count": 29,
     "metadata": {},
     "output_type": "execute_result"
    }
   ],
   "source": [
    "seoulsex=pd.pivot_table(seoul_bc_card, index=['SEX_CTGO_CD'], aggfunc='sum')\n",
    "seoulsex=seoulsex.drop(['ADMI_CTY_NO','CTY_RGN_NO','TP_GRP_NO','MAIN_BUZ_CODE','REG_YYMM','CNT','CSTMR_CTY_RGN_NO','CSTMR_MEGA_CTY_NO','FLC','MEGA_CTY_NO','TP_BUZ_NO'], axis=1)\n",
    "seoulsex"
   ]
  },
  {
   "cell_type": "code",
   "execution_count": 30,
   "metadata": {
    "colab": {
     "base_uri": "https://localhost:8080/",
     "height": 200
    },
    "id": "tFNYnPpYew9X",
    "outputId": "03c9fda7-cee9-4b69-eae7-b2b4087709e0"
   },
   "outputs": [
    {
     "name": "stderr",
     "output_type": "stream",
     "text": [
      "C:\\Users\\linab\\AppData\\Local\\Temp\\ipykernel_27384\\3815389678.py:1: FutureWarning: pivot_table dropped a column because it failed to aggregate. This behavior is deprecated and will raise in a future version of pandas. Select only the columns that can be aggregated.\n",
      "  nonseoulsex=pd.pivot_table(nonseoul_bc_card, index = ['SEX_CTGO_CD'], aggfunc = 'sum')\n"
     ]
    },
    {
     "data": {
      "text/html": [
       "<div>\n",
       "<style scoped>\n",
       "    .dataframe tbody tr th:only-of-type {\n",
       "        vertical-align: middle;\n",
       "    }\n",
       "\n",
       "    .dataframe tbody tr th {\n",
       "        vertical-align: top;\n",
       "    }\n",
       "\n",
       "    .dataframe thead th {\n",
       "        text-align: right;\n",
       "    }\n",
       "</style>\n",
       "<table border=\"1\" class=\"dataframe\">\n",
       "  <thead>\n",
       "    <tr style=\"text-align: right;\">\n",
       "      <th></th>\n",
       "      <th>AMT</th>\n",
       "    </tr>\n",
       "    <tr>\n",
       "      <th>SEX_CTGO_CD</th>\n",
       "      <th></th>\n",
       "    </tr>\n",
       "  </thead>\n",
       "  <tbody>\n",
       "    <tr>\n",
       "      <th>1</th>\n",
       "      <td>73579570815</td>\n",
       "    </tr>\n",
       "    <tr>\n",
       "      <th>2</th>\n",
       "      <td>73007565007</td>\n",
       "    </tr>\n",
       "  </tbody>\n",
       "</table>\n",
       "</div>"
      ],
      "text/plain": [
       "                     AMT\n",
       "SEX_CTGO_CD             \n",
       "1            73579570815\n",
       "2            73007565007"
      ]
     },
     "execution_count": 30,
     "metadata": {},
     "output_type": "execute_result"
    }
   ],
   "source": [
    "nonseoulsex=pd.pivot_table(nonseoul_bc_card, index = ['SEX_CTGO_CD'], aggfunc = 'sum')\n",
    "nonseoulsex=nonseoulsex.drop(['ADMI_CTY_NO','CTY_RGN_NO','TP_GRP_NO','MAIN_BUZ_CODE','REG_YYMM','CNT','CSTMR_CTY_RGN_NO','CSTMR_MEGA_CTY_NO','FLC', 'MEGA_CTY_NO','TP_BUZ_NO'], axis=1)\n",
    "\n",
    "nonseoulsex"
   ]
  },
  {
   "cell_type": "markdown",
   "metadata": {
    "id": "uoO7cDcycpfS"
   },
   "source": [
    "####④ 카드 이용 건수 구하기"
   ]
  },
  {
   "cell_type": "code",
   "execution_count": 31,
   "metadata": {
    "colab": {
     "base_uri": "https://localhost:8080/"
    },
    "id": "6OeRSYBqvBCV",
    "outputId": "6cc76c8e-f3f8-4f80-db5e-ee20fd3daa47"
   },
   "outputs": [
    {
     "name": "stdout",
     "output_type": "stream",
     "text": [
      "5542462\n",
      "4950200\n"
     ]
    }
   ],
   "source": [
    "print(seoul_bc_card['CNT'].sum(axis=0))\n",
    "print(nonseoul_bc_card['CNT'].sum(axis=0))"
   ]
  },
  {
   "cell_type": "markdown",
   "metadata": {
    "id": "O3u0zIOQVe4L"
   },
   "source": [
    "###편의점 소비 정보 분석\n",
    "####① 편의점 소비액 구하기"
   ]
  },
  {
   "cell_type": "code",
   "execution_count": 32,
   "metadata": {
    "colab": {
     "base_uri": "https://localhost:8080/"
    },
    "id": "V7BFAGlgVi9D",
    "outputId": "cb396933-9030-4448-f8db-c8eefa6433f5"
   },
   "outputs": [
    {
     "data": {
      "text/plain": [
       "7299184098"
      ]
     },
     "execution_count": 32,
     "metadata": {},
     "output_type": "execute_result"
    }
   ],
   "source": [
    "import pandas as pd\n",
    "bc_card_cov=bc_card[bc_card['TP_BUZ_NO']==4010] # 4010은 편의점\n",
    "bc_card_cov['AMT'].sum(axis=0)"
   ]
  },
  {
   "cell_type": "code",
   "execution_count": 33,
   "metadata": {
    "colab": {
     "base_uri": "https://localhost:8080/"
    },
    "id": "Z2Rr0OX7Vmhh",
    "outputId": "136361e6-64ed-4ef7-d5b1-ddcbc9e3535b"
   },
   "outputs": [
    {
     "data": {
      "text/plain": [
       "707275140"
      ]
     },
     "execution_count": 33,
     "metadata": {},
     "output_type": "execute_result"
    }
   ],
   "source": [
    "bc_card_gang_cov=bc_card[(bc_card['TP_BUZ_NO']==4010)&(bc_card['CTY_RGN_NM']=='강남구')]\n",
    "bc_card_gang_cov['AMT'].sum(axis=0)"
   ]
  },
  {
   "cell_type": "markdown",
   "metadata": {
    "id": "9oAL0oeZVsaR"
   },
   "source": [
    "####② 강남구 편의점 소비액 분석하기"
   ]
  },
  {
   "cell_type": "code",
   "execution_count": 34,
   "metadata": {
    "colab": {
     "base_uri": "https://localhost:8080/"
    },
    "id": "ilfpOeqDVuW5",
    "outputId": "26311901-9ff6-4fa2-e5e8-eafc484c4a79"
   },
   "outputs": [
    {
     "name": "stdout",
     "output_type": "stream",
     "text": [
      "35535648502\n",
      "707275140\n"
     ]
    }
   ],
   "source": [
    "import pandas as pd\n",
    "bc_card_gang=bc_card[bc_card['CTY_RGN_NM']=='강남구']\n",
    "print(bc_card_gang['AMT'].sum(axis=0)) # 강남구 전체\n",
    "bc_card_gang_cov=bc_card[(bc_card['TP_BUZ_NO']==4010)&(bc_card['CTY_RGN_NM']=='강남구')]\n",
    "bc_card_gang_cov['AMT'].sum(axis=0)\n",
    "print(bc_card_gang_cov['AMT'].sum(axis=0)) # 강남구 편의점 전체"
   ]
  },
  {
   "cell_type": "code",
   "execution_count": 35,
   "metadata": {
    "colab": {
     "base_uri": "https://localhost:8080/"
    },
    "id": "gstRJ4x-VyOe",
    "outputId": "9c12562d-e065-4319-86ec-5508e2308f58"
   },
   "outputs": [
    {
     "name": "stdout",
     "output_type": "stream",
     "text": [
      "418895250\n",
      "288379890\n"
     ]
    }
   ],
   "source": [
    "bc_card_gang=bc_card_gang_cov\n",
    "index3 = bc_card_gang_cov[bc_card_gang_cov['CSTMR_CTY_RGN_NM']=='강남구'].index\n",
    "bc_card_gang1 = bc_card_gang_cov.drop(index3)\n",
    "bc_card_gang1.reset_index(drop=True, inplace=True)\n",
    "bc_card_gang1['AMT'].sum(axis=0)\n",
    "index4 = bc_card_gang_cov[bc_card_gang_cov['CSTMR_CTY_RGN_NM']!='강남구'].index\n",
    "bc_card_gang2 = bc_card_gang_cov.drop(index4)\n",
    "bc_card_gang2.reset_index(drop=True, inplace=True)\n",
    "bc_card_gang2['AMT'].sum(axis=0)\n",
    "print(bc_card_gang1['AMT'].sum(axis=0)) # 강남구 거주 고객의 강남구 소비액\n",
    "print(bc_card_gang2['AMT'].sum(axis=0)) # 강남구 비거주 고객의 강남구 소비액"
   ]
  },
  {
   "cell_type": "markdown",
   "metadata": {
    "id": "756AOA_QV0gW"
   },
   "source": [
    "##4. 데이터 분석 응용"
   ]
  },
  {
   "cell_type": "code",
   "execution_count": 36,
   "metadata": {
    "colab": {
     "base_uri": "https://localhost:8080/",
     "height": 273
    },
    "id": "Jv_Olia7V208",
    "outputId": "7373cf89-a47c-4260-fcdb-d6e0d50b6622"
   },
   "outputs": [
    {
     "data": {
      "text/html": [
       "<div>\n",
       "<style scoped>\n",
       "    .dataframe tbody tr th:only-of-type {\n",
       "        vertical-align: middle;\n",
       "    }\n",
       "\n",
       "    .dataframe tbody tr th {\n",
       "        vertical-align: top;\n",
       "    }\n",
       "\n",
       "    .dataframe thead th {\n",
       "        text-align: right;\n",
       "    }\n",
       "</style>\n",
       "<table border=\"1\" class=\"dataframe\">\n",
       "  <thead>\n",
       "    <tr style=\"text-align: right;\">\n",
       "      <th></th>\n",
       "      <th>REG_YYMM</th>\n",
       "      <th>MEGA_CTY_NO</th>\n",
       "      <th>MEGA_CTY_NM</th>\n",
       "      <th>CTY_RGN_NO</th>\n",
       "      <th>CTY_RGN_NM</th>\n",
       "      <th>ADMI_CTY_NO</th>\n",
       "      <th>ADMI_CTY_NM</th>\n",
       "      <th>MAIN_BUZ_CODE</th>\n",
       "      <th>MAIN_BUZ_DESC</th>\n",
       "      <th>TP_GRP_NO</th>\n",
       "      <th>...</th>\n",
       "      <th>CSTMR_GUBUN</th>\n",
       "      <th>CSTMR_MEGA_CTY_NO</th>\n",
       "      <th>CSTMR_MEGA_CTY_NM</th>\n",
       "      <th>CSTMR_CTY_RGN_NO</th>\n",
       "      <th>CSTMR_CTY_RGN_NM</th>\n",
       "      <th>SEX_CTGO_CD</th>\n",
       "      <th>AGE_VAL</th>\n",
       "      <th>FLC</th>\n",
       "      <th>AMT</th>\n",
       "      <th>CNT</th>\n",
       "    </tr>\n",
       "  </thead>\n",
       "  <tbody>\n",
       "    <tr>\n",
       "      <th>0</th>\n",
       "      <td>202003</td>\n",
       "      <td>11</td>\n",
       "      <td>서울특별시</td>\n",
       "      <td>1168</td>\n",
       "      <td>강남구</td>\n",
       "      <td>11680750</td>\n",
       "      <td>수서동</td>\n",
       "      <td>30</td>\n",
       "      <td>생활</td>\n",
       "      <td>40</td>\n",
       "      <td>...</td>\n",
       "      <td>내국인</td>\n",
       "      <td>11</td>\n",
       "      <td>서울특별시</td>\n",
       "      <td>1168</td>\n",
       "      <td>강남구</td>\n",
       "      <td>2</td>\n",
       "      <td>20대</td>\n",
       "      <td>1</td>\n",
       "      <td>7927440</td>\n",
       "      <td>1089</td>\n",
       "    </tr>\n",
       "    <tr>\n",
       "      <th>1</th>\n",
       "      <td>202003</td>\n",
       "      <td>11</td>\n",
       "      <td>서울특별시</td>\n",
       "      <td>1129</td>\n",
       "      <td>성북구</td>\n",
       "      <td>11290660</td>\n",
       "      <td>길음1동</td>\n",
       "      <td>30</td>\n",
       "      <td>생활</td>\n",
       "      <td>70</td>\n",
       "      <td>...</td>\n",
       "      <td>내국인</td>\n",
       "      <td>11</td>\n",
       "      <td>서울특별시</td>\n",
       "      <td>1129</td>\n",
       "      <td>성북구</td>\n",
       "      <td>1</td>\n",
       "      <td>40대</td>\n",
       "      <td>4</td>\n",
       "      <td>274100</td>\n",
       "      <td>25</td>\n",
       "    </tr>\n",
       "    <tr>\n",
       "      <th>2</th>\n",
       "      <td>202003</td>\n",
       "      <td>11</td>\n",
       "      <td>서울특별시</td>\n",
       "      <td>1144</td>\n",
       "      <td>마포구</td>\n",
       "      <td>11440555</td>\n",
       "      <td>아현동</td>\n",
       "      <td>30</td>\n",
       "      <td>생활</td>\n",
       "      <td>40</td>\n",
       "      <td>...</td>\n",
       "      <td>내국인</td>\n",
       "      <td>11</td>\n",
       "      <td>서울특별시</td>\n",
       "      <td>1114</td>\n",
       "      <td>중구</td>\n",
       "      <td>1</td>\n",
       "      <td>60대 이상</td>\n",
       "      <td>5</td>\n",
       "      <td>34395725</td>\n",
       "      <td>808</td>\n",
       "    </tr>\n",
       "    <tr>\n",
       "      <th>3</th>\n",
       "      <td>202003</td>\n",
       "      <td>11</td>\n",
       "      <td>서울특별시</td>\n",
       "      <td>1126</td>\n",
       "      <td>중랑구</td>\n",
       "      <td>11260590</td>\n",
       "      <td>상봉2동</td>\n",
       "      <td>30</td>\n",
       "      <td>생활</td>\n",
       "      <td>40</td>\n",
       "      <td>...</td>\n",
       "      <td>내국인</td>\n",
       "      <td>11</td>\n",
       "      <td>서울특별시</td>\n",
       "      <td>1126</td>\n",
       "      <td>중랑구</td>\n",
       "      <td>2</td>\n",
       "      <td>20대</td>\n",
       "      <td>1</td>\n",
       "      <td>31860800</td>\n",
       "      <td>3699</td>\n",
       "    </tr>\n",
       "    <tr>\n",
       "      <th>4</th>\n",
       "      <td>202003</td>\n",
       "      <td>11</td>\n",
       "      <td>서울특별시</td>\n",
       "      <td>1168</td>\n",
       "      <td>강남구</td>\n",
       "      <td>11680630</td>\n",
       "      <td>대치4동</td>\n",
       "      <td>30</td>\n",
       "      <td>생활</td>\n",
       "      <td>62</td>\n",
       "      <td>...</td>\n",
       "      <td>내국인</td>\n",
       "      <td>41</td>\n",
       "      <td>경기도</td>\n",
       "      <td>4146</td>\n",
       "      <td>용인시</td>\n",
       "      <td>2</td>\n",
       "      <td>50대</td>\n",
       "      <td>4</td>\n",
       "      <td>2546487</td>\n",
       "      <td>45</td>\n",
       "    </tr>\n",
       "  </tbody>\n",
       "</table>\n",
       "<p>5 rows × 23 columns</p>\n",
       "</div>"
      ],
      "text/plain": [
       "   REG_YYMM  MEGA_CTY_NO MEGA_CTY_NM  CTY_RGN_NO CTY_RGN_NM  ADMI_CTY_NO  \\\n",
       "0    202003           11       서울특별시        1168        강남구     11680750   \n",
       "1    202003           11       서울특별시        1129        성북구     11290660   \n",
       "2    202003           11       서울특별시        1144        마포구     11440555   \n",
       "3    202003           11       서울특별시        1126        중랑구     11260590   \n",
       "4    202003           11       서울특별시        1168        강남구     11680630   \n",
       "\n",
       "  ADMI_CTY_NM  MAIN_BUZ_CODE MAIN_BUZ_DESC  TP_GRP_NO  ... CSTMR_GUBUN  \\\n",
       "0         수서동             30            생활         40  ...         내국인   \n",
       "1        길음1동             30            생활         70  ...         내국인   \n",
       "2         아현동             30            생활         40  ...         내국인   \n",
       "3        상봉2동             30            생활         40  ...         내국인   \n",
       "4        대치4동             30            생활         62  ...         내국인   \n",
       "\n",
       "   CSTMR_MEGA_CTY_NO CSTMR_MEGA_CTY_NM CSTMR_CTY_RGN_NO  CSTMR_CTY_RGN_NM  \\\n",
       "0                 11             서울특별시             1168               강남구   \n",
       "1                 11             서울특별시             1129               성북구   \n",
       "2                 11             서울특별시             1114                중구   \n",
       "3                 11             서울특별시             1126               중랑구   \n",
       "4                 41               경기도             4146               용인시   \n",
       "\n",
       "  SEX_CTGO_CD  AGE_VAL FLC       AMT   CNT  \n",
       "0           2      20대   1   7927440  1089  \n",
       "1           1      40대   4    274100    25  \n",
       "2           1   60대 이상   5  34395725   808  \n",
       "3           2      20대   1  31860800  3699  \n",
       "4           2      50대   4   2546487    45  \n",
       "\n",
       "[5 rows x 23 columns]"
      ]
     },
     "execution_count": 36,
     "metadata": {},
     "output_type": "execute_result"
    }
   ],
   "source": [
    "import pandas as pd\n",
    "df=pd.read_csv('bc_card_out2020_03.txt', sep=\"\\t\", encoding='utf-8')\n",
    "df1=pd.DataFrame(df)\n",
    "df1.head()"
   ]
  },
  {
   "cell_type": "markdown",
   "metadata": {
    "id": "oKDfvHs7XBbC"
   },
   "source": [
    "###서울시 거주/비거주 고객의 소비액 구하기"
   ]
  },
  {
   "cell_type": "code",
   "execution_count": 37,
   "metadata": {
    "colab": {
     "base_uri": "https://localhost:8080/"
    },
    "id": "t8GO365cXEKR",
    "outputId": "8529cd4f-1239-4229-e51d-6dc4fbf0714d"
   },
   "outputs": [
    {
     "name": "stdout",
     "output_type": "stream",
     "text": [
      "1385914569631\n",
      "1940899349900\n"
     ]
    }
   ],
   "source": [
    "import pandas as pd\n",
    "df=pd.read_csv('bc_card_out2020_03.txt', sep='\\t', encoding='utf-8')\n",
    "df1=pd.DataFrame(df)\n",
    "df1=df1.drop(['CTY_RGN_NO','ADMI_CTY_NO','ADMI_CTY_NM','TP_GRP_NO',\\\n",
    " 'TP_GRP_NM','CSTMR_GUBUN',\\\n",
    " ], axis=1)\n",
    "ind2=df1[df1['CSTMR_MEGA_CTY_NM']!='서울특별시'].index # 서울시 비거주 고객 인덱스화\n",
    "seoul=df1.drop(ind2)\n",
    "seoul.reset_index(drop=True, inplace=True)\n",
    "ind3=df1[df1['CSTMR_MEGA_CTY_NM']=='서울특별시'].index # 서울시 거주 고객만 추출\n",
    "nonseoul=df1.drop(ind3)\n",
    "nonseoul.reset_index(drop=True, inplace=True)\n",
    "print(seoul['AMT'].sum(axis=0)) # 서울시 거주 고객 소비액\n",
    "print(nonseoul['AMT'].sum(axis=0)) # 서울시 비거주 고객 소비액"
   ]
  },
  {
   "cell_type": "code",
   "execution_count": 38,
   "metadata": {
    "colab": {
     "base_uri": "https://localhost:8080/",
     "height": 200
    },
    "id": "I8bJAzlkXaRQ",
    "outputId": "c7ee3915-549a-44af-d68c-b34692627e05"
   },
   "outputs": [
    {
     "name": "stderr",
     "output_type": "stream",
     "text": [
      "C:\\Users\\linab\\AppData\\Local\\Temp\\ipykernel_27384\\1108530800.py:1: FutureWarning: pivot_table dropped a column because it failed to aggregate. This behavior is deprecated and will raise in a future version of pandas. Select only the columns that can be aggregated.\n",
      "  seoulsex=pd.pivot_table(seoul, index=['SEX_CTGO_CD'], aggfunc = 'sum') # 1 남성 2 여성\n"
     ]
    },
    {
     "data": {
      "text/html": [
       "<div>\n",
       "<style scoped>\n",
       "    .dataframe tbody tr th:only-of-type {\n",
       "        vertical-align: middle;\n",
       "    }\n",
       "\n",
       "    .dataframe tbody tr th {\n",
       "        vertical-align: top;\n",
       "    }\n",
       "\n",
       "    .dataframe thead th {\n",
       "        text-align: right;\n",
       "    }\n",
       "</style>\n",
       "<table border=\"1\" class=\"dataframe\">\n",
       "  <thead>\n",
       "    <tr style=\"text-align: right;\">\n",
       "      <th></th>\n",
       "      <th>AMT</th>\n",
       "    </tr>\n",
       "    <tr>\n",
       "      <th>SEX_CTGO_CD</th>\n",
       "      <th></th>\n",
       "    </tr>\n",
       "  </thead>\n",
       "  <tbody>\n",
       "    <tr>\n",
       "      <th>1</th>\n",
       "      <td>682678945342</td>\n",
       "    </tr>\n",
       "    <tr>\n",
       "      <th>2</th>\n",
       "      <td>703235624289</td>\n",
       "    </tr>\n",
       "  </tbody>\n",
       "</table>\n",
       "</div>"
      ],
      "text/plain": [
       "                      AMT\n",
       "SEX_CTGO_CD              \n",
       "1            682678945342\n",
       "2            703235624289"
      ]
     },
     "execution_count": 38,
     "metadata": {},
     "output_type": "execute_result"
    }
   ],
   "source": [
    "seoulsex=pd.pivot_table(seoul, index=['SEX_CTGO_CD'], aggfunc = 'sum') # 1 남성 2 여성\n",
    "seoulsex=seoulsex.drop(['CNT','CSTMR_CTY_RGN_NO','CSTMR_MEGA_CTY_NO','FLC','MAIN_BUZ_CODE','MEGA_CTY_NO','REG_YYMM','TP_BUZ_NO'], axis=1)\n",
    "seoulsex"
   ]
  },
  {
   "cell_type": "markdown",
   "metadata": {
    "id": "U7DA55vDaKsw"
   },
   "source": [
    "###거주지 소재 편의점 소비액 구하기"
   ]
  },
  {
   "cell_type": "code",
   "execution_count": 39,
   "metadata": {
    "colab": {
     "base_uri": "https://localhost:8080/"
    },
    "id": "rS1bjfdqXkh6",
    "outputId": "0156d06d-65d3-4651-c3bc-38e89d1d8ac6"
   },
   "outputs": [
    {
     "data": {
      "text/plain": [
       "66513977146"
      ]
     },
     "execution_count": 39,
     "metadata": {},
     "output_type": "execute_result"
    }
   ],
   "source": [
    "import pandas as pd\n",
    "seoul_cov = seoul[seoul['TP_BUZ_NO']==4010] # 편의점\n",
    "seoul_cov['CNT'].sum(axis=0)\n",
    "seoul_cov['AMT'].sum(axis=0)"
   ]
  },
  {
   "cell_type": "code",
   "execution_count": 40,
   "metadata": {
    "colab": {
     "base_uri": "https://localhost:8080/"
    },
    "id": "M2LFGBsyaPGZ",
    "outputId": "e6a90ac8-62e1-46f2-e90a-fb562d55f0a0"
   },
   "outputs": [
    {
     "name": "stdout",
     "output_type": "stream",
     "text": [
      "44184614834\n",
      "22329362312\n"
     ]
    }
   ],
   "source": [
    "import pandas as pd\n",
    "seoul=seoul_cov\n",
    "index1 = seoul[seoul['CTY_RGN_NM'] != seoul['CSTMR_CTY_RGN_NM']].index\n",
    "resid = seoul.drop(index1)\n",
    "resid.reset_index(drop=True, inplace=True)\n",
    "index2 = seoul[seoul['CTY_RGN_NM'] == seoul['CSTMR_CTY_RGN_NM']].index\n",
    "nonresid = seoul.drop(index2)\n",
    "nonresid.reset_index(drop=True, inplace=True)\n",
    "print(resid['AMT'].sum(axis=0)) # 거주지 내 소비액\n",
    "print(nonresid['AMT'].sum(axis=0)) # 거주지 외 소비액\n"
   ]
  },
  {
   "cell_type": "markdown",
   "metadata": {
    "id": "n9KQ5RcSDfTe"
   },
   "source": [
    "### **Section02_승객 생존율 예측**"
   ]
  },
  {
   "cell_type": "markdown",
   "metadata": {
    "id": "mb87fBlFDYYf"
   },
   "source": [
    "##1. 분석 준비"
   ]
  },
  {
   "cell_type": "code",
   "execution_count": 41,
   "metadata": {
    "colab": {
     "base_uri": "https://localhost:8080/"
    },
    "id": "CciG0AGeDdqF",
    "outputId": "6d9ef0c9-fb9c-41c5-b827-0f9c56dbd0c2"
   },
   "outputs": [
    {
     "name": "stdout",
     "output_type": "stream",
     "text": [
      "Requirement already satisfied: pandas in c:\\users\\linab\\anaconda3\\lib\\site-packages (1.5.3)\n",
      "Requirement already satisfied: numpy>=1.21.0 in c:\\users\\linab\\anaconda3\\lib\\site-packages (from pandas) (1.23.5)\n",
      "Requirement already satisfied: python-dateutil>=2.8.1 in c:\\users\\linab\\anaconda3\\lib\\site-packages (from pandas) (2.8.2)\n",
      "Requirement already satisfied: pytz>=2020.1 in c:\\users\\linab\\anaconda3\\lib\\site-packages (from pandas) (2022.7)\n",
      "Requirement already satisfied: six>=1.5 in c:\\users\\linab\\anaconda3\\lib\\site-packages (from python-dateutil>=2.8.1->pandas) (1.16.0)\n"
     ]
    }
   ],
   "source": [
    "!pip install pandas"
   ]
  },
  {
   "cell_type": "code",
   "execution_count": 42,
   "metadata": {
    "colab": {
     "base_uri": "https://localhost:8080/",
     "height": 841
    },
    "id": "fGvuzO-QDdsq",
    "outputId": "2dd19568-718d-4806-fafd-33203a9678ab"
   },
   "outputs": [
    {
     "name": "stderr",
     "output_type": "stream",
     "text": [
      "C:\\Users\\linab\\AppData\\Local\\Temp\\ipykernel_27384\\1157815611.py:21: SettingWithCopyWarning: \n",
      "A value is trying to be set on a copy of a slice from a DataFrame.\n",
      "Try using .loc[row_indexer,col_indexer] = value instead\n",
      "\n",
      "See the caveats in the documentation: https://pandas.pydata.org/pandas-docs/stable/user_guide/indexing.html#returning-a-view-versus-a-copy\n",
      "  titanic_df1['gender']=tmp\n",
      "C:\\Users\\linab\\AppData\\Local\\Temp\\ipykernel_27384\\1157815611.py:22: SettingWithCopyWarning: \n",
      "A value is trying to be set on a copy of a slice from a DataFrame\n",
      "\n",
      "See the caveats in the documentation: https://pandas.pydata.org/pandas-docs/stable/user_guide/indexing.html#returning-a-view-versus-a-copy\n",
      "  titanic_df1.drop(columns='sex', inplace=True) # sex 열 삭제하기\n",
      "C:\\Users\\linab\\AppData\\Local\\Temp\\ipykernel_27384\\1157815611.py:26: SettingWithCopyWarning: \n",
      "A value is trying to be set on a copy of a slice from a DataFrame.\n",
      "Try using .loc[row_indexer,col_indexer] = value instead\n",
      "\n",
      "See the caveats in the documentation: https://pandas.pydata.org/pandas-docs/stable/user_guide/indexing.html#returning-a-view-versus-a-copy\n",
      "  titanic_df1['title']=titanic_df1['name'].map(condition) # name에서 호칭만 가져오기\n",
      "C:\\Users\\linab\\AppData\\Local\\Temp\\ipykernel_27384\\1157815611.py:29: SettingWithCopyWarning: \n",
      "A value is trying to be set on a copy of a slice from a DataFrame.\n",
      "Try using .loc[row_indexer,col_indexer] = value instead\n",
      "\n",
      "See the caveats in the documentation: https://pandas.pydata.org/pandas-docs/stable/user_guide/indexing.html#returning-a-view-versus-a-copy\n",
      "  titanic_df1['title']=titanic_df1['title'].replace(each, 'Special')\n"
     ]
    },
    {
     "data": {
      "text/html": [
       "<div>\n",
       "<style scoped>\n",
       "    .dataframe tbody tr th:only-of-type {\n",
       "        vertical-align: middle;\n",
       "    }\n",
       "\n",
       "    .dataframe tbody tr th {\n",
       "        vertical-align: top;\n",
       "    }\n",
       "\n",
       "    .dataframe thead th {\n",
       "        text-align: right;\n",
       "    }\n",
       "</style>\n",
       "<table border=\"1\" class=\"dataframe\">\n",
       "  <thead>\n",
       "    <tr style=\"text-align: right;\">\n",
       "      <th></th>\n",
       "      <th>survived</th>\n",
       "      <th>pclass</th>\n",
       "      <th>sex</th>\n",
       "      <th>age</th>\n",
       "      <th>title</th>\n",
       "      <th>fare</th>\n",
       "      <th>num_family</th>\n",
       "    </tr>\n",
       "  </thead>\n",
       "  <tbody>\n",
       "    <tr>\n",
       "      <th>0</th>\n",
       "      <td>0</td>\n",
       "      <td>3</td>\n",
       "      <td>1</td>\n",
       "      <td>22.0</td>\n",
       "      <td>0</td>\n",
       "      <td>3.625000</td>\n",
       "      <td>2</td>\n",
       "    </tr>\n",
       "    <tr>\n",
       "      <th>1</th>\n",
       "      <td>1</td>\n",
       "      <td>1</td>\n",
       "      <td>0</td>\n",
       "      <td>38.0</td>\n",
       "      <td>0</td>\n",
       "      <td>35.641650</td>\n",
       "      <td>2</td>\n",
       "    </tr>\n",
       "    <tr>\n",
       "      <th>2</th>\n",
       "      <td>1</td>\n",
       "      <td>3</td>\n",
       "      <td>0</td>\n",
       "      <td>26.0</td>\n",
       "      <td>0</td>\n",
       "      <td>7.925000</td>\n",
       "      <td>1</td>\n",
       "    </tr>\n",
       "    <tr>\n",
       "      <th>3</th>\n",
       "      <td>1</td>\n",
       "      <td>1</td>\n",
       "      <td>0</td>\n",
       "      <td>35.0</td>\n",
       "      <td>0</td>\n",
       "      <td>26.550000</td>\n",
       "      <td>2</td>\n",
       "    </tr>\n",
       "    <tr>\n",
       "      <th>4</th>\n",
       "      <td>0</td>\n",
       "      <td>3</td>\n",
       "      <td>1</td>\n",
       "      <td>35.0</td>\n",
       "      <td>0</td>\n",
       "      <td>8.050000</td>\n",
       "      <td>1</td>\n",
       "    </tr>\n",
       "    <tr>\n",
       "      <th>...</th>\n",
       "      <td>...</td>\n",
       "      <td>...</td>\n",
       "      <td>...</td>\n",
       "      <td>...</td>\n",
       "      <td>...</td>\n",
       "      <td>...</td>\n",
       "      <td>...</td>\n",
       "    </tr>\n",
       "    <tr>\n",
       "      <th>150</th>\n",
       "      <td>0</td>\n",
       "      <td>2</td>\n",
       "      <td>1</td>\n",
       "      <td>51.0</td>\n",
       "      <td>1</td>\n",
       "      <td>12.525000</td>\n",
       "      <td>1</td>\n",
       "    </tr>\n",
       "    <tr>\n",
       "      <th>151</th>\n",
       "      <td>1</td>\n",
       "      <td>1</td>\n",
       "      <td>0</td>\n",
       "      <td>22.0</td>\n",
       "      <td>0</td>\n",
       "      <td>33.300000</td>\n",
       "      <td>2</td>\n",
       "    </tr>\n",
       "    <tr>\n",
       "      <th>152</th>\n",
       "      <td>0</td>\n",
       "      <td>3</td>\n",
       "      <td>1</td>\n",
       "      <td>55.5</td>\n",
       "      <td>0</td>\n",
       "      <td>8.050000</td>\n",
       "      <td>1</td>\n",
       "    </tr>\n",
       "    <tr>\n",
       "      <th>153</th>\n",
       "      <td>0</td>\n",
       "      <td>3</td>\n",
       "      <td>1</td>\n",
       "      <td>40.5</td>\n",
       "      <td>0</td>\n",
       "      <td>4.833333</td>\n",
       "      <td>3</td>\n",
       "    </tr>\n",
       "    <tr>\n",
       "      <th>155</th>\n",
       "      <td>0</td>\n",
       "      <td>1</td>\n",
       "      <td>1</td>\n",
       "      <td>51.0</td>\n",
       "      <td>0</td>\n",
       "      <td>30.689600</td>\n",
       "      <td>2</td>\n",
       "    </tr>\n",
       "  </tbody>\n",
       "</table>\n",
       "<p>126 rows × 7 columns</p>\n",
       "</div>"
      ],
      "text/plain": [
       "     survived  pclass  sex   age  title       fare  num_family\n",
       "0           0       3    1  22.0      0   3.625000           2\n",
       "1           1       1    0  38.0      0  35.641650           2\n",
       "2           1       3    0  26.0      0   7.925000           1\n",
       "3           1       1    0  35.0      0  26.550000           2\n",
       "4           0       3    1  35.0      0   8.050000           1\n",
       "..        ...     ...  ...   ...    ...        ...         ...\n",
       "150         0       2    1  51.0      1  12.525000           1\n",
       "151         1       1    0  22.0      0  33.300000           2\n",
       "152         0       3    1  55.5      0   8.050000           1\n",
       "153         0       3    1  40.5      0   4.833333           3\n",
       "155         0       1    1  51.0      0  30.689600           2\n",
       "\n",
       "[126 rows x 7 columns]"
      ]
     },
     "execution_count": 42,
     "metadata": {},
     "output_type": "execute_result"
    }
   ],
   "source": [
    "import pandas as pd\n",
    "url='https://raw.githubusercontent.com/sehakflower/data/main/titanic.csv'\n",
    "titanic_df= pd.read_csv(url,sep='\\t')\n",
    "\n",
    "# 컬럼명을 소문자로 바꾸기\n",
    "new_columns=['passengerId', 'survived', 'pclass', 'name', 'sex', 'age', 'sibsp', 'parch',\n",
    "'ticket', 'fare', 'cabin', 'embarked']\n",
    "titanic_df.columns=new_columns\n",
    "\n",
    "# 필요한 컬럼만 가져오기\n",
    "titanic_df1=titanic_df[['survived', 'pclass', 'name', 'sex', 'age', 'sibsp', 'parch', 'fare']]\n",
    "\n",
    "# 1. sex열을 gender로 바꾸고 여성은 0, 남성은 1로 바꾸기\n",
    "tmp=[]\n",
    "for each in titanic_df1['sex']:\n",
    "  if each=='female':\n",
    "    tmp.append(0)\n",
    "  else:\n",
    "    tmp.append(1)\n",
    "\n",
    "titanic_df1['gender']=tmp\n",
    "titanic_df1.drop(columns='sex', inplace=True) # sex 열 삭제하기\n",
    "\n",
    "# 2. 호칭을 숫자형으로 바꾸기\n",
    "condition=lambda x: x.split(',')[1].split('.')[0].strip()\n",
    "titanic_df1['title']=titanic_df1['name'].map(condition) # name에서 호칭만 가져오기\n",
    "Special=['Master', 'Don', 'Rev'] # 3개 호칭을 title 열의 Special로 대체\n",
    "for each in Special:\n",
    "  titanic_df1['title']=titanic_df1['title'].replace(each, 'Special')\n",
    "\n",
    "titanic_df1=titanic_df1.drop('name', axis=1) # 사용하지 않는 name 열 삭제하기\n",
    "\n",
    "# 숫자형으로 만드는 함수 만들기\n",
    "def convert_title(x):\n",
    "  if x==\"Special\":\n",
    "    return 1\n",
    "  else:\n",
    "    return 0\n",
    "\n",
    "titanic_df1[\"special_title\"]=titanic_df1[\"title\"].apply(convert_title)\n",
    "# special_title 열 만들어서 special은 1, 나머지는 0으로 바꾸기\n",
    "titanic_df1.drop('title', axis=1, inplace=True) # title 열 삭제하기\n",
    "# 3. sibpar 열 만들어 동반자 수 더한 값 넣기\n",
    "titanic_df1['sibpar']=titanic_df1['sibsp']+titanic_df1['parch']\n",
    "titanic_df1.drop(['sibsp','parch'], axis =1, inplace=True)\n",
    "# 사용하지 않는 sibsp, parch 열 삭제하기\n",
    "# 4. avgfare 열 만들어 1인당 평균 탑승 요금 넣기\n",
    "titanic_df1['avgfare']=titanic_df1['fare']/titanic_df1['sibpar']\n",
    "titanic_df1['n_family']=titanic_df1['sibpar']+1\n",
    "# n_family 열 만들어 동반자에 1을 더하여 0으로 나누어지지 않도록 함\n",
    "titanic_df1['avgfare']=titanic_df1['fare']/titanic_df1['n_family'] # 1인당 평균 탑승 요금\n",
    "titanic_df1=titanic_df1.drop(['fare','sibpar'], axis=1) # 필요 없는 열 삭제하기\n",
    "# 5. 최종 분석 데이터 컬럼명만 추출하기\n",
    "titanic_df1.rename(columns={'gender':'sex', 'special_title':'title', 'avgfare':'fare', 'n_family':'num_family'}, inplace=True) # 컬럼명 변경하기\n",
    "titanic_df1=titanic_df1[['survived', 'pclass', 'sex', 'age', 'title', 'fare', 'num_family']]\n",
    "# 컬럼 순서 다시 정하기\n",
    "titanic_df1=titanic_df1.dropna()\n",
    "# age에는 NaN 값이 있으므로 이를 삭제한 데이터를 분석에 사용\n",
    "titanic_df1"
   ]
  },
  {
   "cell_type": "code",
   "execution_count": 43,
   "metadata": {
    "colab": {
     "base_uri": "https://localhost:8080/"
    },
    "id": "LXxWWPYqDdvA",
    "outputId": "5218bb50-15fc-4b26-982f-df5da1039bee"
   },
   "outputs": [
    {
     "data": {
      "text/plain": [
       "numpy.ndarray"
      ]
     },
     "execution_count": 43,
     "metadata": {},
     "output_type": "execute_result"
    }
   ],
   "source": [
    "raw=titanic_df1\n",
    "np_raw=raw.values\n",
    "type(np_raw)"
   ]
  },
  {
   "cell_type": "markdown",
   "metadata": {
    "id": "vpY3zun2Du0c"
   },
   "source": [
    "##2. 의사결정나무"
   ]
  },
  {
   "cell_type": "code",
   "execution_count": 44,
   "metadata": {
    "colab": {
     "base_uri": "https://localhost:8080/"
    },
    "id": "Y1VmgMphDdxW",
    "outputId": "cea56cd0-3adf-426e-d3ba-ce620e06a8a8"
   },
   "outputs": [
    {
     "name": "stdout",
     "output_type": "stream",
     "text": [
      "Requirement already satisfied: scikit-learn in c:\\users\\linab\\anaconda3\\lib\\site-packages (1.2.1)\n",
      "Collecting scikit-learn\n",
      "  Downloading scikit_learn-1.3.1-cp310-cp310-win_amd64.whl (9.3 MB)\n",
      "     ---------------------------------------- 9.3/9.3 MB 10.6 MB/s eta 0:00:00\n",
      "Requirement already satisfied: joblib>=1.1.1 in c:\\users\\linab\\anaconda3\\lib\\site-packages (from scikit-learn) (1.1.1)\n",
      "Requirement already satisfied: numpy<2.0,>=1.17.3 in c:\\users\\linab\\anaconda3\\lib\\site-packages (from scikit-learn) (1.23.5)\n",
      "Requirement already satisfied: scipy>=1.5.0 in c:\\users\\linab\\anaconda3\\lib\\site-packages (from scikit-learn) (1.10.0)\n",
      "Requirement already satisfied: threadpoolctl>=2.0.0 in c:\\users\\linab\\anaconda3\\lib\\site-packages (from scikit-learn) (2.2.0)\n",
      "Installing collected packages: scikit-learn\n",
      "  Attempting uninstall: scikit-learn\n",
      "    Found existing installation: scikit-learn 1.2.1\n",
      "    Uninstalling scikit-learn-1.2.1:\n",
      "      Successfully uninstalled scikit-learn-1.2.1\n",
      "Successfully installed scikit-learn-1.3.1\n"
     ]
    }
   ],
   "source": [
    "!pip3 install -U scikit-learn"
   ]
  },
  {
   "cell_type": "code",
   "execution_count": 45,
   "metadata": {
    "colab": {
     "base_uri": "https://localhost:8080/",
     "height": 255
    },
    "id": "cOlaqLx9Dd0E",
    "outputId": "74fea50c-1203-495e-bf29-1977b16e411d"
   },
   "outputs": [
    {
     "ename": "NameError",
     "evalue": "name 'X_train' is not defined",
     "output_type": "error",
     "traceback": [
      "\u001b[1;31m---------------------------------------------------------------------------\u001b[0m",
      "\u001b[1;31mNameError\u001b[0m                                 Traceback (most recent call last)",
      "Cell \u001b[1;32mIn[45], line 2\u001b[0m\n\u001b[0;32m      1\u001b[0m \u001b[38;5;28;01mfrom\u001b[39;00m \u001b[38;5;21;01msklearn\u001b[39;00m\u001b[38;5;21;01m.\u001b[39;00m\u001b[38;5;21;01mtree\u001b[39;00m \u001b[38;5;28;01mimport\u001b[39;00m DecisionTreeClassifier\n\u001b[1;32m----> 2\u001b[0m model\u001b[38;5;241m=\u001b[39mDecisionTreeClassifier(criterion\u001b[38;5;241m=\u001b[39m\u001b[38;5;124m'\u001b[39m\u001b[38;5;124mentropy\u001b[39m\u001b[38;5;124m'\u001b[39m,max_depth\u001b[38;5;241m=\u001b[39m\u001b[38;5;241m3\u001b[39m,min_samples_leaf\u001b[38;5;241m=\u001b[39m\u001b[38;5;241m5\u001b[39m)\u001b[38;5;241m.\u001b[39mfit(\u001b[43mX_train\u001b[49m, y_train)\n\u001b[0;32m      3\u001b[0m model\u001b[38;5;241m.\u001b[39mfit(X_train, y_train)\n\u001b[0;32m      4\u001b[0m DecisionTreeClassifier(criterion\u001b[38;5;241m=\u001b[39m\u001b[38;5;124m'\u001b[39m\u001b[38;5;124mentropy\u001b[39m\u001b[38;5;124m'\u001b[39m, max_depth\u001b[38;5;241m=\u001b[39m\u001b[38;5;241m3\u001b[39m, min_samples_leaf\u001b[38;5;241m=\u001b[39m\u001b[38;5;241m5\u001b[39m)\n",
      "\u001b[1;31mNameError\u001b[0m: name 'X_train' is not defined"
     ]
    }
   ],
   "source": [
    "from sklearn.tree import DecisionTreeClassifier\n",
    "model=DecisionTreeClassifier(criterion='entropy',max_depth=3,min_samples_leaf=5).fit(X_train, y_train)\n",
    "model.fit(X_train, y_train)\n",
    "DecisionTreeClassifier(criterion='entropy', max_depth=3, min_samples_leaf=5)\n",
    "print('Score:{}'.format(model.score(X_train, y_train)))\n",
    "print('Score:{}'.format(model.score(X_test, y_test)))"
   ]
  },
  {
   "cell_type": "code",
   "execution_count": null,
   "metadata": {
    "id": "mBFbvR8GDd2o"
   },
   "outputs": [],
   "source": [
    "from sklearn.tree import export_graphviz\n",
    "export_graphviz(\n",
    " model,\n",
    " out_file=\"titanic.dot\",\n",
    " feature_names=['pclass', 'sex', 'age', 'title', 'fare', 'num_family'],\n",
    " class_names=['0','1'],\n",
    " rounded=True,\n",
    " filled=True\n",
    ")\n",
    "import graphviz\n",
    "with open(\"titanic.dot\") as f:\n",
    " dot_graph=f.read()\n",
    "dot=graphviz.Source(dot_graph)\n",
    "dot.format='png'\n",
    "dot.render(filename='titanic_tree', directory='image/decision_trees', cleanup=True)\n",
    "dot"
   ]
  },
  {
   "cell_type": "code",
   "execution_count": null,
   "metadata": {
    "id": "rZtAhxnrDd5B"
   },
   "outputs": [],
   "source": [
    "from sklearn.metrics import accuracy_score\n",
    "y_pred=model.predict(X_test)\n",
    "print(\"Test Accuracy is \", accuracy_score(y_test, y_pred)*100)"
   ]
  },
  {
   "cell_type": "code",
   "execution_count": null,
   "metadata": {
    "id": "njFHHExrDd7L"
   },
   "outputs": [],
   "source": [
    "from sklearn.metrics import confusion_matrix\n",
    "confusion_matrix(y_test, y_pred)"
   ]
  },
  {
   "cell_type": "code",
   "execution_count": null,
   "metadata": {
    "id": "0wcS8vCeDd9s"
   },
   "outputs": [],
   "source": [
    "feature_names=['pclass', 'sex', 'age', 'title', 'fare', 'num_family']\n",
    "Tom=[1,1,33,1,50,4]\n",
    "Jane=[2,0,50,0,8,1]"
   ]
  },
  {
   "cell_type": "code",
   "execution_count": null,
   "metadata": {
    "id": "tnBevvelDeCX"
   },
   "outputs": [],
   "source": [
    "model.predict_proba([Tom])"
   ]
  },
  {
   "cell_type": "code",
   "execution_count": null,
   "metadata": {
    "id": "89x_2lEUD95_"
   },
   "outputs": [],
   "source": [
    "model.predict_proba([Jane])"
   ]
  },
  {
   "cell_type": "markdown",
   "metadata": {
    "id": "FcuiBxnpEDH_"
   },
   "source": [
    "###표준화한 데이터 이용하기"
   ]
  },
  {
   "cell_type": "code",
   "execution_count": null,
   "metadata": {
    "id": "Zl0vB4EDEEEY"
   },
   "outputs": [],
   "source": [
    "!pip install seaborn"
   ]
  },
  {
   "cell_type": "code",
   "execution_count": null,
   "metadata": {
    "id": "cGahkoiKEEH-"
   },
   "outputs": [],
   "source": [
    "import seaborn as sns\n",
    "sns.boxplot(data=titanic_df1[['pclass', 'sex', 'age', 'title', 'fare', 'num_family']])"
   ]
  },
  {
   "cell_type": "code",
   "execution_count": null,
   "metadata": {
    "id": "gS5iYSQnEELM"
   },
   "outputs": [],
   "source": [
    "X=titanic_df1\n",
    "from sklearn.preprocessing import MinMaxScaler, StandardScaler\n",
    "MMS=MinMaxScaler()\n",
    "SS=StandardScaler()\n",
    "SS.fit(X)\n",
    "MMS.fit(X)\n",
    "X_ss=SS.transform(X)\n",
    "X_mms=MMS.transform(X)\n",
    "X_ss_pd=pd.DataFrame(X_ss, columns=X.columns)\n",
    "X_mms_pd=pd.DataFrame(X_mms, columns=X.columns)\n",
    "X_ss_pd.head()"
   ]
  },
  {
   "cell_type": "code",
   "execution_count": null,
   "metadata": {
    "id": "Ojo-dULIEENl"
   },
   "outputs": [],
   "source": [
    "X_mms_pd.head()"
   ]
  },
  {
   "cell_type": "code",
   "execution_count": null,
   "metadata": {
    "id": "fD4Oer8DEER7"
   },
   "outputs": [],
   "source": [
    "sns.boxplot(data=X_mms_pd[['pclass','sex','age','title','fare','num_family']])"
   ]
  },
  {
   "cell_type": "code",
   "execution_count": null,
   "metadata": {
    "id": "qPnyS7hxEEU9"
   },
   "outputs": [],
   "source": [
    "sns.boxplot(data=X_ss_pd[['pclass', 'sex', 'age', 'title', 'fare', 'num_family']])"
   ]
  },
  {
   "cell_type": "code",
   "execution_count": null,
   "metadata": {
    "id": "_bMnKmuiEEW9"
   },
   "outputs": [],
   "source": [
    "y=raw['survived']\n",
    "X=raw.drop(['survived'], axis=1)\n",
    "X.head()"
   ]
  },
  {
   "cell_type": "code",
   "execution_count": null,
   "metadata": {
    "id": "t3L4AlAEEEZS"
   },
   "outputs": [],
   "source": [
    "y.head()"
   ]
  },
  {
   "cell_type": "code",
   "execution_count": null,
   "metadata": {
    "id": "X-uHatDUEEcv"
   },
   "outputs": [],
   "source": [
    "import numpy as np\n",
    "np.unique(y_train, return_counts=True)"
   ]
  },
  {
   "cell_type": "code",
   "execution_count": null,
   "metadata": {
    "id": "VR4zcBivEUlc"
   },
   "outputs": [],
   "source": [
    "log_reg=LogisticRegression(random_state=13, solver='liblinear', C=10.)\n",
    "log_reg.fit(X_train, y_train)"
   ]
  },
  {
   "cell_type": "code",
   "execution_count": null,
   "metadata": {
    "id": "lLbQpow7EUot"
   },
   "outputs": [],
   "source": [
    "pred=log_reg.predict(X_test)\n",
    "accuracy_score(y_test, pred)"
   ]
  },
  {
   "cell_type": "code",
   "execution_count": null,
   "metadata": {
    "id": "rG9EFI0tEUtp"
   },
   "outputs": [],
   "source": [
    "pred=log_reg.predict(X_test)\n",
    "accuracy_score(y_test, pred)"
   ]
  },
  {
   "cell_type": "code",
   "execution_count": null,
   "metadata": {
    "id": "K74mtmhTEUwq"
   },
   "outputs": [],
   "source": [
    "pred=log_reg.predict(X_test)\n",
    "accuracy_score(y_test, pred)"
   ]
  },
  {
   "cell_type": "code",
   "execution_count": null,
   "metadata": {
    "id": "8WldZndlEbS4"
   },
   "outputs": [],
   "source": [
    "pred=log_reg.predict(X_test)\n",
    "accuracy_score(y_test, pred)"
   ]
  },
  {
   "cell_type": "code",
   "execution_count": null,
   "metadata": {
    "id": "HAeGiGhtEdt5"
   },
   "outputs": [],
   "source": [
    "log_reg.coef_"
   ]
  },
  {
   "cell_type": "markdown",
   "metadata": {
    "id": "SLygPhYhH1LR"
   },
   "source": [
    "### **Section03_승객 생존율 예측2**"
   ]
  },
  {
   "cell_type": "markdown",
   "metadata": {
    "id": "lokNkzxvG_c7"
   },
   "source": [
    "##1. 머신러닝 기법에 적용하기\n"
   ]
  },
  {
   "cell_type": "code",
   "execution_count": null,
   "metadata": {
    "id": "xDb2yJZIHIRr"
   },
   "outputs": [],
   "source": [
    "import pandas as pd\n",
    "titanic_url='https://github.com/sehakflower/data/blob/main/titanic_1309.xlsx?raw=true'\n",
    "titanic=pd.read_excel(titanic_url,sheet_name='total')\n",
    "train_1000=titanic.iloc[:1000]\n",
    "test_309=titanic.iloc[1000:]\n",
    "train_1000.drop(['boat', 'body', 'home.dest'], axis=1, inplace=True)\n",
    "test_309.drop(['boat', 'body', 'home.dest'], axis=1, inplace=True)\n",
    "train_df=train_1000\n",
    "test_df=test_309\n",
    "\n",
    "# 1. name 열을 5개로 구분하고 숫자형 데이터로 바꾸기\n",
    "total=[train_df, test_df]\n",
    "titles={'Mr':1, 'Miss':2, 'Mrs':3, 'Master':4, 'Special':5} # 호칭에 따라 숫자로 표시하기\n",
    "for dataset in total:\n",
    " dataset['title']=dataset.name.str.extract('([A-Za-z]+)\\.', expand=False)\n",
    " dataset['title']=dataset['title'].replace(['Lady', 'Countess', 'Capt', 'Col',\n",
    "'Don', 'Dr', 'Major', 'Rev', 'Sir',\n",
    "'Jonkheer', 'Dona'], 'Special')\n",
    " dataset['title']=dataset['title'].replace('Mlle', 'Miss')\n",
    " dataset['title']=dataset['title'].replace('Ms', 'Miss')\n",
    " dataset['title']=dataset['title'].replace('Mme', 'Mrs')\n",
    " dataset['title']=dataset['title'].map(titles) # 타이틀을 숫자로 변경\n",
    " dataset['title']=dataset['title'].fillna(0) # NaN을 0으로 변경\n",
    "train_df=train_df.drop(['name'], axis=1) # 필요 없는 name 열 삭제\n",
    "test_df=test_df.drop(['name'], axis=1) # 필요 없는 name 열 삭제\n",
    "\n",
    "# 2.age 열의 빈 값을 호칭별 중앙값으로 바꾸기\n",
    "train_df['age'].fillna(train_df.groupby('title')['age'].transform('median'), inplace=True)\n",
    "test_df['age'].fillna(test_df.groupby('title')['age'].transform('median'), inplace=True)\n",
    "data=[train_df, test_df]\n",
    "for dataset1 in data:\n",
    " dataset1['age']=dataset1['age'].astype(int)\n",
    " dataset1.loc[ dataset1['age']<=11, 'age']=0\n",
    " dataset1.loc[(dataset1['age']>11)&(dataset1['age']<=18), 'age']=1\n",
    " dataset1.loc[(dataset1['age']>18)&(dataset1['age']<=22), 'age']=2\n",
    " dataset1.loc[(dataset1['age']>22)&(dataset1['age']<=27), 'age']=3\n",
    " dataset1.loc[(dataset1['age']>27)&(dataset1['age']<=33), 'age']=4\n",
    " dataset1.loc[(dataset1['age']>33)&(dataset1['age']<=40), 'age']=5\n",
    " dataset1.loc[(dataset1['age']>40)&(dataset1['age']<=66), 'age']=6\n",
    " dataset1.loc[ dataset1['age']>66, 'age']=6\n",
    "# 3. sex 열에서 'male':0, 'female':1로 바꾸기\n",
    "data=[train_df, test_df]\n",
    "# 일부 전처리된 train_df, test_df를 다시 업데이트해서 더한 후 숫자로 바꾸기 위함\n",
    "sex_mapping={'male':0, 'female':1}\n",
    "for dataset in data:\n",
    " dataset['sex']=dataset['sex'].map(sex_mapping)\n",
    "# 4. embarked 열\n",
    "for dataset in data:\n",
    " dataset['embarked']=dataset['embarked'].fillna('S')\n",
    "embarked_mapping={'S':0, 'C':1, 'Q':2}\n",
    "for dataset in data:\n",
    " dataset['embarked']=dataset['embarked'].map(embarked_mapping)\n",
    "# 5. sibsp, parch 열\n",
    "for dataset in data:\n",
    " dataset['sibpar']=dataset['sibsp']+dataset['parch']\n",
    " dataset.loc[dataset['sibpar']>0, 'n_alone']=0\n",
    " dataset.loc[dataset['sibpar']==0, 'n_alone']=1\n",
    " dataset['n_alone']=dataset['n_alone'].astype(int)\n",
    "# 6. fare 열, 개인별 요금 나타내는 fare_person 열 추가하기\n",
    "train_df[\"fare\"].fillna(train_df.groupby('pclass')['fare'].transform('median'),\n",
    "inplace=True)\n",
    "test_df[\"fare\"].fillna(test_df.groupby('pclass')['fare'].transform('median'),\n",
    "inplace=True)\n",
    "\n",
    "for dataset in data:\n",
    " dataset.loc[ dataset['fare']<=20, 'fare']=1\n",
    " dataset.loc[(dataset['fare']>20)&(dataset['fare']<=30), 'fare']=2\n",
    " dataset.loc[(dataset['fare']>30)&(dataset['fare']<=50), 'fare']=3\n",
    " dataset.loc[(dataset['fare']>50)&(dataset['fare']<=100), 'fare']=4\n",
    " dataset.loc[ dataset['fare']>100, 'fare']=5\n",
    "for dataset1 in data:\n",
    " dataset1['fare_person']=dataset1['fare']/(dataset1['sibpar']+1)\n",
    " dataset1['fare_person']=dataset1['fare_person'].astype(int)\n",
    "# 7. 최종 데이터\n",
    "X_columns=['pclass', 'sex', 'age', 'embarked', 'title', 'sibpar', 'n_alone', 'fare_person']\n",
    "y_column=['survived']\n",
    "X_train=train_df[X_columns]\n",
    "y_train=train_df[y_column]\n",
    "X_test=test_df[X_columns]\n",
    "y_test=test_df[y_column]"
   ]
  },
  {
   "cell_type": "markdown",
   "metadata": {
    "id": "rbXJbzQqHQM6"
   },
   "source": [
    "###필요한 라이브러리"
   ]
  },
  {
   "cell_type": "code",
   "execution_count": null,
   "metadata": {
    "id": "us3TAdxGHIUq"
   },
   "outputs": [],
   "source": [
    "import numpy as np # 선형대수\n",
    "import pandas as pd # 데이터 처리\n",
    "# 머신러닝 알고리즘\n",
    "from sklearn import linear_model\n",
    "from sklearn.linear_model import LogisticRegression\n",
    "from sklearn.ensemble import RandomForestClassifier\n",
    "from sklearn.linear_model import Perceptron\n",
    "from sklearn.linear_model import SGDClassifier\n",
    "from sklearn.tree import DecisionTreeClassifier\n",
    "from sklearn.neighbors import KNeighborsClassifier\n",
    "from sklearn.svm import SVC, LinearSVC\n",
    "from sklearn.naive_bayes import GaussianNB\n",
    "# 시각화\n",
    "import seaborn as sns\n",
    "%matplotlib inline\n",
    "from matplotlib import pyplot as plt\n",
    "from matplotlib import style"
   ]
  },
  {
   "cell_type": "markdown",
   "metadata": {
    "id": "RFVhudaJHT7F"
   },
   "source": [
    "### 의사결정나무"
   ]
  },
  {
   "cell_type": "code",
   "execution_count": null,
   "metadata": {
    "id": "hRpJTCyDHIXN"
   },
   "outputs": [],
   "source": [
    "decision_tree=DecisionTreeClassifier()\n",
    "decision_tree.fit(X_train, y_train)\n",
    "Y_pred=decision_tree.predict(X_test)\n",
    "train_acc_decision_tree=round(decision_tree.score(X_train, y_train)*100, 2)\n",
    "test_acc_decision_tree=round(decision_tree.score(X_test, y_test)*100, 2)\n",
    "train_acc_decision_tree,test_acc_decision_tree"
   ]
  },
  {
   "cell_type": "markdown",
   "metadata": {
    "id": "E0YNvbbHHZJB"
   },
   "source": [
    "### 랜덤 포레스트"
   ]
  },
  {
   "cell_type": "code",
   "execution_count": null,
   "metadata": {
    "id": "-Jshs1EGHIZt"
   },
   "outputs": [],
   "source": [
    "random_forest=RandomForestClassifier(n_estimators=100)\n",
    "random_forest.fit(X_train, y_train)\n",
    "Y_prediction=random_forest.predict(X_test)\n",
    "random_forest.score(X_train, y_train)\n",
    "train_acc_random_forest=round(random_forest.score(X_train, y_train)*100, 2)\n",
    "test_acc_random_forest=round(random_forest.score(X_test, y_test)*100, 2)\n",
    "train_acc_random_forest,test_acc_random_forest"
   ]
  },
  {
   "cell_type": "markdown",
   "metadata": {
    "id": "pNaK4IBdHcHo"
   },
   "source": [
    "### 로지스틱 회귀분석"
   ]
  },
  {
   "cell_type": "code",
   "execution_count": null,
   "metadata": {
    "id": "0r9Aub2iHIcJ"
   },
   "outputs": [],
   "source": [
    "log_reg=LogisticRegression()\n",
    "log_reg.fit(X_train, y_train)\n",
    "Y_pred=log_reg.predict(X_test)\n",
    "train_acc_log=round(log_reg.score(X_train, y_train)*100, 2)\n",
    "test_acc_log=round(log_reg.score(X_test, y_test)*100, 2)\n",
    "train_acc_log, test_acc_log"
   ]
  },
  {
   "cell_type": "markdown",
   "metadata": {
    "id": "mQJWeWfmHfkI"
   },
   "source": [
    "### 나이브 베이지안"
   ]
  },
  {
   "cell_type": "code",
   "execution_count": null,
   "metadata": {
    "id": "WF4ftgS-HIgX"
   },
   "outputs": [],
   "source": [
    "gaussian=GaussianNB()\n",
    "gaussian.fit(X_train, y_train)\n",
    "Y_pred=gaussian.predict(X_test)\n",
    "train_acc_gaussian=round(gaussian.score(X_train, y_train)*100, 2)\n",
    "test_acc_gaussian=round(gaussian.score(X_test, y_test)*100, 2)\n",
    "train_acc_gaussian,test_acc_gaussian"
   ]
  },
  {
   "cell_type": "markdown",
   "metadata": {
    "id": "SqXXuoliHiki"
   },
   "source": [
    "###K-Nearest Neighbor"
   ]
  },
  {
   "cell_type": "code",
   "execution_count": null,
   "metadata": {
    "id": "OG8VsmFiHIjb"
   },
   "outputs": [],
   "source": [
    "knn=KNeighborsClassifier(n_neighbors=3)\n",
    "knn.fit(X_train, y_train)\n",
    "Y_pred=knn.predict(X_test)\n",
    "train_acc_knn=round(knn.score(X_train, y_train)*100, 2)\n",
    "test_acc_knn=round(knn.score(X_test, y_test)*100, 2)\n",
    "train_acc_knn,test_acc_knn"
   ]
  },
  {
   "cell_type": "markdown",
   "metadata": {
    "id": "z6Kn90YbHlW7"
   },
   "source": [
    "### SVM 모델"
   ]
  },
  {
   "cell_type": "code",
   "execution_count": null,
   "metadata": {
    "id": "0O8iGEVnHImE"
   },
   "outputs": [],
   "source": [
    "svc=LinearSVC()\n",
    "svc.fit(X_train, y_train)\n",
    "Y_pred=svc.predict(X_test)\n",
    "train_acc_svc=round(svc.score(X_train, y_train)*100, 2)\n",
    "test_acc_svc=round(svc.score(X_test, y_test)*100, 2)\n",
    "train_acc_svc,test_acc_svc"
   ]
  },
  {
   "cell_type": "markdown",
   "metadata": {
    "id": "_Bqqv8jDHo4v"
   },
   "source": [
    "### 퍼셉트론 모델"
   ]
  },
  {
   "cell_type": "code",
   "execution_count": null,
   "metadata": {
    "id": "nyfnBHbRHIog"
   },
   "outputs": [],
   "source": [
    "perceptron=Perceptron(max_iter=5)\n",
    "perceptron.fit(X_train, y_train)\n",
    "Y_pred=perceptron.predict(X_test)\n",
    "train_acc_perceptron=round(perceptron.score(X_train, y_train)*100, 2)\n",
    "test_acc_perceptron=round(perceptron.score(X_test, y_test)*100, 2)\n",
    "train_acc_perceptron,test_acc_perceptron"
   ]
  },
  {
   "cell_type": "markdown",
   "metadata": {
    "id": "F78vcKyVHrWm"
   },
   "source": [
    "### 확률적 경사하강법 방법"
   ]
  },
  {
   "cell_type": "code",
   "execution_count": null,
   "metadata": {
    "id": "hv0Vym14HIrP"
   },
   "outputs": [],
   "source": [
    "sgd=linear_model.SGDClassifier(max_iter=5, tol=None)\n",
    "sgd.fit(X_train, y_train)\n",
    "Y_pred=sgd.predict(X_test)\n",
    "sgd.score(X_train, y_train)\n",
    "train_acc_sgd=round(sgd.score(X_train, y_train)*100, 2)\n",
    "test_acc_sgd=round(sgd.score(X_test, y_test)*100, 2)\n",
    "train_acc_sgd,test_acc_sgd"
   ]
  },
  {
   "cell_type": "markdown",
   "metadata": {
    "id": "YOeSCtwhHui8"
   },
   "source": [
    "## 2. 모델 비교\n",
    "###모델의 정확도 비교"
   ]
  },
  {
   "cell_type": "code",
   "execution_count": null,
   "metadata": {
    "id": "2dNg1WM5HIt2"
   },
   "outputs": [],
   "source": [
    "results = pd.DataFrame({\n",
    " 'Model': ['Support Vector Machines', 'KNN', 'Logistic Regression', 'Random Forest','Naive Bayes', 'Perceptron', 'Stochastic Gradient Decent', 'Decision Tree'],\n",
    " 'train_Score': [train_acc_svc, train_acc_knn, train_acc_log,train_acc_random_forest,\n",
    "train_acc_gaussian, train_acc_perceptron, train_acc_sgd, train_acc_decision_tree],\n",
    " 'test_Score': [test_acc_svc, test_acc_knn,test_acc_log, test_acc_random_forest, test_acc_gaussian, test_acc_perceptron, test_acc_sgd, test_acc_decision_tree]})\n",
    "result_df=results.sort_values(by='train_Score', ascending=False)\n",
    "result_df=result_df.set_index('Model')\n",
    "result_df.head(10)"
   ]
  },
  {
   "cell_type": "markdown",
   "metadata": {
    "id": "icy2RXupHxK-"
   },
   "source": [
    "###랜덤 포레스트 모델의 교차검증 실습"
   ]
  },
  {
   "cell_type": "code",
   "execution_count": null,
   "metadata": {
    "id": "2WFNUq_cHIwy"
   },
   "outputs": [],
   "source": [
    "from sklearn.model_selection import cross_val_score\n",
    "rf=RandomForestClassifier(n_estimators=100)\n",
    "scores=cross_val_score(rf, X_train, y_train, cv=10, scoring=\"accuracy\")\n",
    "print(\"Scores:\", scores)\n",
    "print(\"Mean:\", scores.mean())\n",
    "print(\"Standard Deviation:\", scores.std())"
   ]
  }
 ],
 "metadata": {
  "colab": {
   "provenance": []
  },
  "kernelspec": {
   "display_name": "Python 3 (ipykernel)",
   "language": "python",
   "name": "python3"
  },
  "language_info": {
   "codemirror_mode": {
    "name": "ipython",
    "version": 3
   },
   "file_extension": ".py",
   "mimetype": "text/x-python",
   "name": "python",
   "nbconvert_exporter": "python",
   "pygments_lexer": "ipython3",
   "version": "3.10.9"
  }
 },
 "nbformat": 4,
 "nbformat_minor": 1
}
