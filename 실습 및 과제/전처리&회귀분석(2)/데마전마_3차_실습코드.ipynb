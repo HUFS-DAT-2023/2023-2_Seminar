{
 "cells": [
  {
   "cell_type": "markdown",
   "id": "7e56fa6d",
   "metadata": {},
   "source": [
    "# Ch9. 선형대수와 신경망 기초"
   ]
  },
  {
   "cell_type": "markdown",
   "id": "ca6b3775",
   "metadata": {},
   "source": [
    "## 1-1. 벡터"
   ]
  },
  {
   "cell_type": "code",
   "execution_count": null,
   "id": "0968103a",
   "metadata": {},
   "outputs": [],
   "source": [
    "# 스칼라 : 크기만 있고 방향은 없는 양 ( 하나의 숫자로 이루어진 데이터 즉, 상수 )\n",
    "# 벡터 : 크기와 방향을 가진 양(유한한 차원의 공간에 존재하는 점)"
   ]
  },
  {
   "cell_type": "code",
   "execution_count": 1,
   "id": "a23d46a4",
   "metadata": {},
   "outputs": [],
   "source": [
    "import numpy as np\n",
    "a = [1, 2]"
   ]
  },
  {
   "cell_type": "code",
   "execution_count": 2,
   "id": "a206e5e3",
   "metadata": {},
   "outputs": [
    {
     "data": {
      "text/plain": [
       "array([1, 2])"
      ]
     },
     "execution_count": 2,
     "metadata": {},
     "output_type": "execute_result"
    }
   ],
   "source": [
    "a1 = np.array([1, 2])\n",
    "a1"
   ]
  },
  {
   "cell_type": "code",
   "execution_count": 3,
   "id": "1afbd906",
   "metadata": {},
   "outputs": [
    {
     "data": {
      "text/plain": [
       "array([4, 6])"
      ]
     },
     "execution_count": 3,
     "metadata": {},
     "output_type": "execute_result"
    }
   ],
   "source": [
    "# 벡터와 벡터의 합도 벡터\n",
    "# 벡터의 합\n",
    "a=np.array([1, 2])\n",
    "b=np.array([3, 4])\n",
    "c= a+b\n",
    "c"
   ]
  },
  {
   "cell_type": "code",
   "execution_count": null,
   "id": "7916a645",
   "metadata": {},
   "outputs": [],
   "source": [
    "# 벡터의 차\n",
    "a=np.array([1, 2])\n",
    "b=np.array([3, 4])\n",
    "c= a+b\n",
    "c"
   ]
  },
  {
   "cell_type": "code",
   "execution_count": 4,
   "id": "dfabcfea",
   "metadata": {},
   "outputs": [
    {
     "data": {
      "text/plain": [
       "[1, 2, 3, 4]"
      ]
     },
     "execution_count": 4,
     "metadata": {},
     "output_type": "execute_result"
    }
   ],
   "source": [
    "# 리스트의 합\n",
    "a=[1, 2]\n",
    "b=[3, 4]\n",
    "a+b"
   ]
  },
  {
   "cell_type": "code",
   "execution_count": 5,
   "id": "42a3b3a7",
   "metadata": {},
   "outputs": [
    {
     "data": {
      "text/plain": [
       "array([4, 6])"
      ]
     },
     "execution_count": 5,
     "metadata": {},
     "output_type": "execute_result"
    }
   ],
   "source": [
    "# 벡터의 합\n",
    "a1=np.array([1, 2])\n",
    "b1=np.array([3, 4])\n",
    "a1+b1"
   ]
  },
  {
   "cell_type": "markdown",
   "id": "1d061c38",
   "metadata": {},
   "source": [
    "## 1-2. 벡터의 연산"
   ]
  },
  {
   "cell_type": "code",
   "execution_count": 6,
   "id": "663f2330",
   "metadata": {},
   "outputs": [
    {
     "name": "stdout",
     "output_type": "stream",
     "text": [
      "[150, 170]\n"
     ]
    }
   ],
   "source": [
    "# 리스트 원소끼리 각각 더하기\n",
    "Hong1 =[80,90]\n",
    "Jung1=[70,80]\n",
    "Score=[]\n",
    "for i in range(len(Hong1)): # len(hong1)=2\n",
    "    Score.append(Hong1[i]+Jung1[i])\n",
    "    \n",
    "print(Score)"
   ]
  },
  {
   "cell_type": "code",
   "execution_count": 7,
   "id": "56e68ca0",
   "metadata": {},
   "outputs": [
    {
     "data": {
      "text/plain": [
       "array([150, 170])"
      ]
     },
     "execution_count": 7,
     "metadata": {},
     "output_type": "execute_result"
    }
   ],
   "source": [
    "npHong1=np.array(Hong1)\n",
    "npJung1=np.array(Jung1)\n",
    "npHong1+npJung1"
   ]
  },
  {
   "cell_type": "code",
   "execution_count": 9,
   "id": "2a000c9d",
   "metadata": {},
   "outputs": [
    {
     "data": {
      "text/plain": [
       "[10, 10]"
      ]
     },
     "execution_count": 9,
     "metadata": {},
     "output_type": "execute_result"
    }
   ],
   "source": [
    "# 벡터의 차\n",
    "def vector_sub(*args):\n",
    "    return[vi - wi for vi, wi in zip(*args)]\n",
    "    \n",
    "sub=vector_sub(Hong1, Jung1)\n",
    "sub"
   ]
  },
  {
   "cell_type": "code",
   "execution_count": 10,
   "id": "44b39134",
   "metadata": {},
   "outputs": [
    {
     "data": {
      "text/plain": [
       "array([10, 10])"
      ]
     },
     "execution_count": 10,
     "metadata": {},
     "output_type": "execute_result"
    }
   ],
   "source": [
    "npHong1=np.array(Hong1)\n",
    "npJung1=np.array(Jung1)\n",
    "npHong1 - npJung1"
   ]
  },
  {
   "cell_type": "markdown",
   "id": "c749633c",
   "metadata": {},
   "source": [
    "## 1-3. 벡터의 선형조합"
   ]
  },
  {
   "cell_type": "code",
   "execution_count": null,
   "id": "acf4eb99",
   "metadata": {},
   "outputs": [],
   "source": [
    "# 여러 개의 벡터에 스칼라 곱을 한 후 더하는 것을 선형조합이라고 함.\n",
    "# 스칼라 * 벡터 (벡터의 방향은 변하지 않고 실수 크기만큼 벡터의 길이가 커짐)"
   ]
  },
  {
   "cell_type": "code",
   "execution_count": 11,
   "id": "559ebd20",
   "metadata": {},
   "outputs": [
    {
     "data": {
      "text/plain": [
       "array([2., 3.])"
      ]
     },
     "execution_count": 11,
     "metadata": {},
     "output_type": "execute_result"
    }
   ],
   "source": [
    "# 1. 넘파이 배열 사용\n",
    "x1 = np.array([1, 2])\n",
    "x2 = np.array([3, 4])\n",
    "x3=0.5*x1 + 0.5*x2\n",
    "x3"
   ]
  },
  {
   "cell_type": "code",
   "execution_count": 12,
   "id": "2b3498b8",
   "metadata": {},
   "outputs": [
    {
     "name": "stdout",
     "output_type": "stream",
     "text": [
      "[2, 4, 6, 8, 10]\n"
     ]
    }
   ],
   "source": [
    "# 2. map 함수 사용\n",
    "A = [1, 2, 3, 4, 5]\n",
    "scalar_multiply=list(map(lambda x: x*2, A))\n",
    "print(scalar_multiply)"
   ]
  },
  {
   "cell_type": "code",
   "execution_count": 13,
   "id": "77a26720",
   "metadata": {},
   "outputs": [
    {
     "data": {
      "text/plain": [
       "[75.0, 85.0]"
      ]
     },
     "execution_count": 13,
     "metadata": {},
     "output_type": "execute_result"
    }
   ],
   "source": [
    "# 선형조합의 예\n",
    "# 홍길동 학생과 정약용 학생의 중간고사, 기말고사의 평균 구하기 \n",
    "#1. sum 함수, zip 함수 이용\n",
    "Hong1=[80, 90]\n",
    "Jung1=[70, 80]\n",
    "\n",
    "a=0.5\n",
    "\n",
    "avg=[a*sum(i) for i in zip(Hong1, Jung1)]\n",
    "avg"
   ]
  },
  {
   "cell_type": "code",
   "execution_count": 14,
   "id": "74f567ef",
   "metadata": {},
   "outputs": [
    {
     "data": {
      "text/plain": [
       "array([75., 85.])"
      ]
     },
     "execution_count": 14,
     "metadata": {},
     "output_type": "execute_result"
    }
   ],
   "source": [
    "# 2. 넘파이를 이용한 스칼라와 벡터의 곱\n",
    "import numpy as np\n",
    "npHong1=np.array(Hong1)\n",
    "npJung2=np.array(Jung1)\n",
    "np_S= npHong1+npJung1\n",
    "\n",
    "a=0.5\n",
    "a*np_S"
   ]
  },
  {
   "cell_type": "markdown",
   "id": "2e1f5e77",
   "metadata": {},
   "source": [
    "## 1-4. 벡터의 내적"
   ]
  },
  {
   "cell_type": "markdown",
   "id": "51e5dcda",
   "metadata": {},
   "source": [
    "벡터의 내적이란 벡터의 각 원소끼리 곱한 후 모두 더한 값. 벡터의 내적의 결과값은 벡터가 아닌 스칼라"
   ]
  },
  {
   "cell_type": "code",
   "execution_count": 15,
   "id": "e2c01aa4",
   "metadata": {},
   "outputs": [
    {
     "data": {
      "text/plain": [
       "24"
      ]
     },
     "execution_count": 15,
     "metadata": {},
     "output_type": "execute_result"
    }
   ],
   "source": [
    "# 함수를 만들어 벡터의 내적 구하기\n",
    "\n",
    "def dot(v, w):\n",
    "    return sum(v_i * w_i for v_i, w_i in zip(v,w))\n",
    "\n",
    "A=[4, 3]\n",
    "B=[6, 0]\n",
    "dot(A, B)"
   ]
  },
  {
   "cell_type": "code",
   "execution_count": 16,
   "id": "48e29f5f",
   "metadata": {},
   "outputs": [
    {
     "data": {
      "text/plain": [
       "32"
      ]
     },
     "execution_count": 16,
     "metadata": {},
     "output_type": "execute_result"
    }
   ],
   "source": [
    "x1=[1, 2, 3]\n",
    "y1=[4, 5, 6]\n",
    "dot(x1, y1)"
   ]
  },
  {
   "cell_type": "code",
   "execution_count": 17,
   "id": "62707bed",
   "metadata": {},
   "outputs": [
    {
     "data": {
      "text/plain": [
       "32"
      ]
     },
     "execution_count": 17,
     "metadata": {},
     "output_type": "execute_result"
    }
   ],
   "source": [
    "npx1=np.array([1, 2, 3])\n",
    "npy1=np.array([4, 5, 6])\n",
    "sum(npx1*npy1)"
   ]
  },
  {
   "cell_type": "code",
   "execution_count": 18,
   "id": "f751898e",
   "metadata": {},
   "outputs": [
    {
     "name": "stdout",
     "output_type": "stream",
     "text": [
      "[ 2  8 18 32 50]\n",
      "110\n",
      "110\n"
     ]
    }
   ],
   "source": [
    "a=np.array([1, 2, 3, 4, 5])\n",
    "b=np.array([2, 4, 6, 8, 10])\n",
    "print(a*b)\n",
    "print(sum(a*b))\n",
    "print(np.sum(a*b))"
   ]
  },
  {
   "cell_type": "code",
   "execution_count": 19,
   "id": "0062bdce",
   "metadata": {},
   "outputs": [
    {
     "data": {
      "text/plain": [
       "[75.0, 85.0, 9.5, 8.5]"
      ]
     },
     "execution_count": 19,
     "metadata": {},
     "output_type": "execute_result"
    }
   ],
   "source": [
    "# 넘파이 브로드캐스팅으로 벡터의 내적 구하기\n",
    "\n",
    "# 브로드캐스팅 : 원래 벡터의 합과 차는 차원이 같은 두 벡터에 대해서만 할 수 있지만 벡터와 스칼라의 경우 관례적으로 1-벡터를 사용해 스칼라를 벡터로 변환한 연산을 허용\n",
    "\n",
    "np_Hong1=np.array([80, 90, 10, 9])\n",
    "np_Jung1=np.array([70, 80, 9, 8])\n",
    "v= np_Hong1 + np_Jung1\n",
    "w=[0.5, 0.5, 0.5, 0.5]\n",
    "[i *j for i, j in zip(v, w)]"
   ]
  },
  {
   "cell_type": "code",
   "execution_count": 20,
   "id": "9c6bfcce",
   "metadata": {},
   "outputs": [
    {
     "name": "stdout",
     "output_type": "stream",
     "text": [
      "[30.  34.   9.5  8.5]\n"
     ]
    }
   ],
   "source": [
    "# 넘파이 브로드캐스팅 실습\n",
    "avg=[75.0, 85.0, 9.5, 8.5]\n",
    "\n",
    "avg1=np.array(avg)\n",
    "W1=np.array([0.4, 0.4, 1, 1])\n",
    "print(avg1*W1)"
   ]
  },
  {
   "cell_type": "code",
   "execution_count": 21,
   "id": "06a30716",
   "metadata": {},
   "outputs": [
    {
     "name": "stdout",
     "output_type": "stream",
     "text": [
      "82.0\n"
     ]
    }
   ],
   "source": [
    "# 벡터의 내적 실습\n",
    "\n",
    "# 벡터의 내적은 avg1 * W1 의 요소를 모두 합한 것\n",
    "\n",
    "Final=avg1*W1\n",
    "print(Final.sum())"
   ]
  },
  {
   "cell_type": "markdown",
   "id": "920f9bd4",
   "metadata": {},
   "source": [
    "## 1-5. 벡터의 길이"
   ]
  },
  {
   "cell_type": "code",
   "execution_count": 24,
   "id": "94d3bea9",
   "metadata": {},
   "outputs": [
    {
     "data": {
      "text/plain": [
       "2.23606797749979"
      ]
     },
     "execution_count": 24,
     "metadata": {},
     "output_type": "execute_result"
    }
   ],
   "source": [
    "# 넘파이 함수로 벡터의 길이 구하기\n",
    "\n",
    "a1=np.array([1, 2])\n",
    "np.linalg.norm(a1)"
   ]
  },
  {
   "cell_type": "code",
   "execution_count": 25,
   "id": "3dbb6cae",
   "metadata": {},
   "outputs": [
    {
     "data": {
      "text/plain": [
       "5"
      ]
     },
     "execution_count": 25,
     "metadata": {},
     "output_type": "execute_result"
    }
   ],
   "source": [
    "def dot(v,w):\n",
    "    return sum( v_i * w_i for v_i, w_i in zip(v,w))\n",
    "\n",
    "def sum_of_squares(v):\n",
    "    return dot(v,v)\n",
    "\n",
    "v=[1, 2]\n",
    "sum_of_squares(v)"
   ]
  },
  {
   "cell_type": "code",
   "execution_count": 26,
   "id": "e39c6112",
   "metadata": {},
   "outputs": [
    {
     "data": {
      "text/plain": [
       "11"
      ]
     },
     "execution_count": 26,
     "metadata": {},
     "output_type": "execute_result"
    }
   ],
   "source": [
    "def sum_of_squares1(v, w):\n",
    "    return dot(v, w)\n",
    "v=[1, 2]\n",
    "w=[3, 4]\n",
    "sum_of_squares1(v, w)\n"
   ]
  },
  {
   "cell_type": "code",
   "execution_count": 28,
   "id": "acf916b8",
   "metadata": {},
   "outputs": [
    {
     "data": {
      "text/plain": [
       "2.23606797749979"
      ]
     },
     "execution_count": 28,
     "metadata": {},
     "output_type": "execute_result"
    }
   ],
   "source": [
    "import math\n",
    "def magnitude(v):\n",
    "    return math.sqrt(sum_of_squares(v))\n",
    "v=[1, 2]\n",
    "magnitude(v)"
   ]
  },
  {
   "cell_type": "code",
   "execution_count": 31,
   "id": "92bb1816",
   "metadata": {},
   "outputs": [
    {
     "data": {
      "text/plain": [
       "8"
      ]
     },
     "execution_count": 31,
     "metadata": {},
     "output_type": "execute_result"
    }
   ],
   "source": [
    "# 벡터 간의 거리(유클리드 거리) 구하기\n",
    "def vector_subtract(v, w):\n",
    "        return [v_i - w_i for v_i, w_i in zip (v, w)]\n",
    "    \n",
    "def squared_distance(v, w):\n",
    "    return sum_of_squares(vector_subtract(v, w))\n",
    "v=[1, 2]\n",
    "w=[3, 4]\n",
    "squared_distance(v, w)"
   ]
  },
  {
   "cell_type": "code",
   "execution_count": 32,
   "id": "5e81e3ee",
   "metadata": {},
   "outputs": [
    {
     "name": "stdout",
     "output_type": "stream",
     "text": [
      "2.8284271247461903\n",
      "2.8284271247461903\n"
     ]
    }
   ],
   "source": [
    "def distance(v, w):\n",
    "    return math.sqrt(squared_distance(v, w))\n",
    "def distance1(v, w):\n",
    "    return magnitude(vector_subtract(v, w))\n",
    "v=[1, 2]\n",
    "w=[3, 4]\n",
    "print(distance(v, w))\n",
    "print(distance1(v, w))"
   ]
  },
  {
   "cell_type": "markdown",
   "id": "a2d3e453",
   "metadata": {},
   "source": [
    "## 1-6. 벡터를 이용한 평균 제곱 오차와 평균 제곱근 오차"
   ]
  },
  {
   "cell_type": "code",
   "execution_count": null,
   "id": "a8116175",
   "metadata": {},
   "outputs": [],
   "source": [
    "# 평균 제곱 오차 ( y는 실제값, t는 예측값)"
   ]
  },
  {
   "cell_type": "code",
   "execution_count": 34,
   "id": "69dd7932",
   "metadata": {},
   "outputs": [
    {
     "data": {
      "text/plain": [
       "2.0"
      ]
     },
     "execution_count": 34,
     "metadata": {},
     "output_type": "execute_result"
    }
   ],
   "source": [
    "y = [1, 1, 0, 1, 0, 1, 0, 1, 0, 0]\n",
    "t = [0, 0, 1, 0, 0, 1, 0, 1, 0, 0]\n",
    "\n",
    "import numpy as np\n",
    "def mean_squared_error(y, t):\n",
    "    return 0.5 * np.sum((y-t)**2)\n",
    "mean_squared_error(np.array(y), np.array(t))"
   ]
  },
  {
   "cell_type": "code",
   "execution_count": 35,
   "id": "979a696c",
   "metadata": {},
   "outputs": [
    {
     "name": "stdout",
     "output_type": "stream",
     "text": [
      "3.3166247903554\n"
     ]
    }
   ],
   "source": [
    "# 평균 제곱근 오차\n",
    "\n",
    "c=np.array([1, 2, 3, 4, 5])\n",
    "d=np.array([2, 4, 6, 8, 10])\n",
    "print((sum((c-d)**2)/len(c))**(1/2))"
   ]
  },
  {
   "cell_type": "markdown",
   "id": "dad3bbdf",
   "metadata": {},
   "source": [
    "# 2. 행렬"
   ]
  },
  {
   "cell_type": "markdown",
   "id": "99b64710",
   "metadata": {},
   "source": [
    "행렬은 벡터의 모음, 즉 여러 벡터로 구성된 데이터셋"
   ]
  },
  {
   "cell_type": "markdown",
   "id": "f97b6901",
   "metadata": {},
   "source": [
    "## 2-1. 행렬의 표기"
   ]
  },
  {
   "cell_type": "code",
   "execution_count": 38,
   "id": "7eccba71",
   "metadata": {},
   "outputs": [
    {
     "data": {
      "text/plain": [
       "{'m': (100, 95), 'f': (95, 100), 'a': (20, 20), 'r': (19, 18)}"
      ]
     },
     "execution_count": 38,
     "metadata": {},
     "output_type": "execute_result"
    }
   ],
   "source": [
    "Hong=[[80, 90, 20, 18],[70, 80, 18, 16]] # 리스트\n",
    "Lee=[(90, 80, 18, 20),(100, 95, 20, 18)] # 튜플\n",
    "Kim={'m': (100, 95), 'f':(95, 100), 'a':(20, 20), 'r':(19, 18)} # 딕셔너리\n",
    "Kim"
   ]
  },
  {
   "cell_type": "code",
   "execution_count": 39,
   "id": "c3aceb9b",
   "metadata": {},
   "outputs": [
    {
     "data": {
      "text/plain": [
       "(2, 3)"
      ]
     },
     "execution_count": 39,
     "metadata": {},
     "output_type": "execute_result"
    }
   ],
   "source": [
    "import numpy as np\n",
    "A=[[1, 2, 3],[4, 5, 6]]\n",
    "B=[[1, 2],[3, 4],[5, 6]]\n",
    "A1=np.array(A)\n",
    "A1.shape\n",
    "np.shape(A)"
   ]
  },
  {
   "cell_type": "markdown",
   "id": "bd81b347",
   "metadata": {},
   "source": [
    "## 2-2. 행렬의 연산"
   ]
  },
  {
   "cell_type": "code",
   "execution_count": 40,
   "id": "7de52935",
   "metadata": {},
   "outputs": [
    {
     "data": {
      "text/plain": [
       "array([10, 10, 10, 10, 10])"
      ]
     },
     "execution_count": 40,
     "metadata": {},
     "output_type": "execute_result"
    }
   ],
   "source": [
    "x=np.array([10, 11, 12, 13, 14])\n",
    "y=np.array([0, 1, 2, 3, 4])\n",
    "x+y\n",
    "x-y"
   ]
  },
  {
   "cell_type": "code",
   "execution_count": 41,
   "id": "ed6ca2c8",
   "metadata": {},
   "outputs": [
    {
     "data": {
      "text/plain": [
       "array([[ 4],\n",
       "       [10],\n",
       "       [18]])"
      ]
     },
     "execution_count": 41,
     "metadata": {},
     "output_type": "execute_result"
    }
   ],
   "source": [
    "x=np.array([[1],[2],[3]])\n",
    "y=np.array([[4],[5],[6]])\n",
    "x*y"
   ]
  },
  {
   "cell_type": "code",
   "execution_count": 42,
   "id": "5a4b1ca3",
   "metadata": {},
   "outputs": [
    {
     "data": {
      "text/plain": [
       "array([[ 4,  8, 12],\n",
       "       [ 5, 10, 15],\n",
       "       [ 6, 12, 18]])"
      ]
     },
     "execution_count": 42,
     "metadata": {},
     "output_type": "execute_result"
    }
   ],
   "source": [
    "x.shape, y.shape  # (3, 1), (1, 3)\n",
    "x.T  # array([[1, 2, 3]])\n",
    "x.T.shape  # (1, 3)\n",
    "x.T*y"
   ]
  },
  {
   "cell_type": "markdown",
   "id": "2cba205e",
   "metadata": {},
   "source": [
    "# 3. 신경망 기초"
   ]
  },
  {
   "cell_type": "markdown",
   "id": "4e28b202",
   "metadata": {},
   "source": [
    "## 3-1. 시그모이드 함수"
   ]
  },
  {
   "cell_type": "markdown",
   "id": "2f30725d",
   "metadata": {},
   "source": [
    "시그모이드 함수는 은닉층에 도달한 값을 다시 은닉층이나 출력층으로 전달하기 위해 0과 1 사이의 값으로 변환해주는 역할"
   ]
  },
  {
   "cell_type": "code",
   "execution_count": 43,
   "id": "1500817b",
   "metadata": {},
   "outputs": [
    {
     "data": {
      "image/png": "[encoded data removed]",
      "text/plain": [
       "<Figure size 640x480 with 1 Axes>"
      ]
     },
     "metadata": {},
     "output_type": "display_data"
    }
   ],
   "source": [
    "import numpy as np\n",
    "import matplotlib.pylab as plt\n",
    "\n",
    "def sigmoid(x):\n",
    "    return 1 / (1 + np.exp(-x))\n",
    "\n",
    "X=np.arange(-5.0, 5.0, 0.1)\n",
    "Y=sigmoid(X)\n",
    "plt.plot(X,Y)\n",
    "plt.ylim(-0.1, 1.1)\n",
    "plt.show()"
   ]
  },
  {
   "cell_type": "markdown",
   "id": "5d4ae8ea",
   "metadata": {},
   "source": [
    "## 3-2. 순전파 신경망 구현"
   ]
  },
  {
   "cell_type": "code",
   "execution_count": 44,
   "id": "887a8e19",
   "metadata": {},
   "outputs": [],
   "source": [
    "input=[0.2, 0.9] # 2개의 입력층\n",
    "weight1=[[0.05, 0.01],[-0.01, 0.03],[0.02, -0.01]] # 가중치 값\n",
    "bias1=[-0.3, 0.2, 0.05] \n",
    "weight2=[0.01, 0.05, 0.015] # 은닉층에서 출력층으로 가는 가중치\n",
    "bias2=[-0.015] # 출력층으로 가는 바이어스"
   ]
  },
  {
   "cell_type": "code",
   "execution_count": 45,
   "id": "49fa3334",
   "metadata": {},
   "outputs": [
    {
     "data": {
      "text/plain": [
       "-0.28099999999999997"
      ]
     },
     "execution_count": 45,
     "metadata": {},
     "output_type": "execute_result"
    }
   ],
   "source": [
    "# 입력층의 첫 번째 노트에서 은닉층의 첫 번째 노드로 신호 전달\n",
    "def dot(v, w):\n",
    "    return sum(i*j for i, j in zip(v, w))\n",
    "\n",
    "input=[0.2, 0.9]\n",
    "w=[0.05, 0.01]\n",
    "dot(input,w)+bias1[0]"
   ]
  },
  {
   "cell_type": "code",
   "execution_count": 46,
   "id": "86d95deb",
   "metadata": {},
   "outputs": [
    {
     "data": {
      "text/plain": [
       "(-0.28099999999999997, 0.225, 0.045)"
      ]
     },
     "execution_count": 46,
     "metadata": {},
     "output_type": "execute_result"
    }
   ],
   "source": [
    "# 입력층에서 은닉층 노드로 보내는 신호값\n",
    "N3=dot(input,weight1[0])+bias1[0]\n",
    "N4=dot(input,weight1[1])+bias1[1]\n",
    "N5=dot(input,weight1[2])+bias1[2]\n",
    "N3, N4, N5"
   ]
  },
  {
   "cell_type": "code",
   "execution_count": 47,
   "id": "5fe159c4",
   "metadata": {},
   "outputs": [
    {
     "data": {
      "text/plain": [
       "(0.4302086298074603, 0.5560138905446199, 0.5112481019468548)"
      ]
     },
     "execution_count": 47,
     "metadata": {},
     "output_type": "execute_result"
    }
   ],
   "source": [
    "# 시그모이드 함수를 이용해 N3, N4, N5 노드에서 출력하는 값\n",
    "import numpy as np\n",
    "def sigmoid(x):\n",
    "    return 1/(1+np.exp(-x))\n",
    "\n",
    "outputN3=sigmoid(N3)\n",
    "outputN4=sigmoid(N4)\n",
    "outputN5=sigmoid(N5)\n",
    "outputN3,outputN4,outputN5"
   ]
  },
  {
   "cell_type": "code",
   "execution_count": 48,
   "id": "7402f7b8",
   "metadata": {},
   "outputs": [
    {
     "data": {
      "text/plain": [
       "array([0.50619256])"
      ]
     },
     "execution_count": 48,
     "metadata": {},
     "output_type": "execute_result"
    }
   ],
   "source": [
    "# 은닉층에서 출력층으로 신호 전달\n",
    "Z1=[outputN3,outputN4,outputN5]\n",
    "N6=dot(Z1,weight2)+bias2\n",
    "outputN6=sigmoid(N6)\n",
    "outputN6"
   ]
  },
  {
   "cell_type": "code",
   "execution_count": 49,
   "id": "175ea0f4",
   "metadata": {},
   "outputs": [
    {
     "data": {
      "text/plain": [
       "array([[0.43020863, 0.55601389, 0.5112481 ]])"
      ]
     },
     "execution_count": 49,
     "metadata": {},
     "output_type": "execute_result"
    }
   ],
   "source": [
    "#입력층에서 첫 번째 은닉층으로 신호 전달\n",
    "import numpy as np\n",
    "input=np.array([[0.2, 0.9]])\n",
    "weight1=np.array([[0.05, 0.01],[-0.01,0.03],[0.02, -0.01]])\n",
    "bias1=np.array([-0.3, 0.2, 0.05])\n",
    "A1=np.dot(input, weight1.T)+bias1\n",
    "Z1=sigmoid(A1)\n",
    "Z1"
   ]
  },
  {
   "cell_type": "code",
   "execution_count": 50,
   "id": "5dec3198",
   "metadata": {},
   "outputs": [
    {
     "data": {
      "text/plain": [
       "array([[0.50619256]])"
      ]
     },
     "execution_count": 50,
     "metadata": {},
     "output_type": "execute_result"
    }
   ],
   "source": [
    "weight2=np.array([[0.01, 0.05, 0.015]])\n",
    "bias2=np.array([[-0.015]])\n",
    "A2=np.dot(Z1, weight2.T)+bias2\n",
    "Z2=sigmoid(A2)\n",
    "Z2"
   ]
  },
  {
   "cell_type": "code",
   "execution_count": 51,
   "id": "d5b343a1",
   "metadata": {},
   "outputs": [
    {
     "data": {
      "text/plain": [
       "array([[0.0247715]])"
      ]
     },
     "execution_count": 51,
     "metadata": {},
     "output_type": "execute_result"
    }
   ],
   "source": [
    "def identity_function(x):\n",
    "    return x\n",
    "Y=identity_function(A2)\n",
    "Y"
   ]
  },
  {
   "cell_type": "code",
   "execution_count": 52,
   "id": "e5555f95",
   "metadata": {},
   "outputs": [
    {
     "data": {
      "text/plain": [
       "array([0.50619256])"
      ]
     },
     "execution_count": 52,
     "metadata": {},
     "output_type": "execute_result"
    }
   ],
   "source": [
    "# 순전파 구현 정리\n",
    "def init_network():\n",
    "    network={}\n",
    "    network['W1']=np.array([[0.05, -0.01, 0.02],[0.01, 0.03, -0.01]])\n",
    "    network['b1']=np.array([-0.3, 0.2, 0.05])\n",
    "    network['W2']=np.array([0.01, 0.05, 0.015])\n",
    "    network['b2']=np.array([-0.015])\n",
    "    return network\n",
    "\n",
    "def forward(network, x):\n",
    "    W1, W2=network['W1'], network['W2']\n",
    "    b1, b2=network['b1'], network['b2']\n",
    "    a1=np.dot(x, W1)+b1\n",
    "    z1=sigmoid(a1)\n",
    "    a2=np.dot(z1, W2)+b2\n",
    "    z2=sigmoid(a2)\n",
    "    return z2\n",
    "\n",
    "network=init_network()\n",
    "\n",
    "input=np.array([0.2, 0.9])\n",
    "Z=forward(network, input)\n",
    "Z"
   ]
  },
  {
   "cell_type": "markdown",
   "id": "945bbe68",
   "metadata": {},
   "source": [
    "## 3-3. 역전파 신경망 구현"
   ]
  },
  {
   "cell_type": "code",
   "execution_count": 53,
   "id": "596df8b5",
   "metadata": {},
   "outputs": [
    {
     "data": {
      "text/plain": [
       "array([-0.49380744])"
      ]
     },
     "execution_count": 53,
     "metadata": {},
     "output_type": "execute_result"
    }
   ],
   "source": [
    "y=Z\n",
    "t=1\n",
    "E=y-t\n",
    "E"
   ]
  },
  {
   "cell_type": "code",
   "execution_count": 55,
   "id": "2172a588",
   "metadata": {},
   "outputs": [
    {
     "name": "stdout",
     "output_type": "stream",
     "text": [
      "[0.00946898] [0.0493137] [0.01436895] [-0.01623433]\n"
     ]
    }
   ],
   "source": [
    "# 출력층에서 은닉층으로의 역전파 시 가중치 업데이트\n",
    "# 이전의 가중치 \n",
    "weight2_old=np.array([0.01, 0.05, 0.015])\n",
    "bias2_old=np.array([-0.015])\n",
    "\n",
    "delta=(1-y)*y*(y-t) # 업데이트 되는 가중치\n",
    "learning_rate=0.01  # 학습률\n",
    "learning_rate=0.01\n",
    "bias2_new=bias2_old+learning_rate*delta\n",
    "weight36=weight2_old[0]+learning_rate*delta*Z1[0][0]\n",
    "weight46=weight2_old[1]+learning_rate*delta*Z1[0][1]\n",
    "weight56=weight2_old[2]+learning_rate*delta*Z1[0][2]\n",
    "print(weight36, weight46, weight56, bias2_new)"
   ]
  },
  {
   "cell_type": "markdown",
   "id": "f302001e",
   "metadata": {},
   "source": [
    "## 3-4. 사이킷런을 이용한 신경망 구현"
   ]
  },
  {
   "cell_type": "code",
   "execution_count": 56,
   "id": "812833e1",
   "metadata": {},
   "outputs": [
    {
     "data": {
      "text/html": [
       "<div>\n",
       "<style scoped>\n",
       "    .dataframe tbody tr th:only-of-type {\n",
       "        vertical-align: middle;\n",
       "    }\n",
       "\n",
       "    .dataframe tbody tr th {\n",
       "        vertical-align: top;\n",
       "    }\n",
       "\n",
       "    .dataframe thead th {\n",
       "        text-align: right;\n",
       "    }\n",
       "</style>\n",
       "<table border=\"1\" class=\"dataframe\">\n",
       "  <thead>\n",
       "    <tr style=\"text-align: right;\">\n",
       "      <th></th>\n",
       "      <th>Obs.</th>\n",
       "      <th>Fat</th>\n",
       "      <th>Salt</th>\n",
       "      <th>Acceptance</th>\n",
       "    </tr>\n",
       "  </thead>\n",
       "  <tbody>\n",
       "    <tr>\n",
       "      <th>0</th>\n",
       "      <td>1</td>\n",
       "      <td>0.2</td>\n",
       "      <td>0.9</td>\n",
       "      <td>like</td>\n",
       "    </tr>\n",
       "    <tr>\n",
       "      <th>1</th>\n",
       "      <td>2</td>\n",
       "      <td>0.1</td>\n",
       "      <td>0.1</td>\n",
       "      <td>dislike</td>\n",
       "    </tr>\n",
       "    <tr>\n",
       "      <th>2</th>\n",
       "      <td>3</td>\n",
       "      <td>0.2</td>\n",
       "      <td>0.4</td>\n",
       "      <td>dislike</td>\n",
       "    </tr>\n",
       "    <tr>\n",
       "      <th>3</th>\n",
       "      <td>4</td>\n",
       "      <td>0.2</td>\n",
       "      <td>0.5</td>\n",
       "      <td>dislike</td>\n",
       "    </tr>\n",
       "    <tr>\n",
       "      <th>4</th>\n",
       "      <td>5</td>\n",
       "      <td>0.4</td>\n",
       "      <td>0.5</td>\n",
       "      <td>like</td>\n",
       "    </tr>\n",
       "    <tr>\n",
       "      <th>5</th>\n",
       "      <td>6</td>\n",
       "      <td>0.3</td>\n",
       "      <td>0.8</td>\n",
       "      <td>like</td>\n",
       "    </tr>\n",
       "  </tbody>\n",
       "</table>\n",
       "</div>"
      ],
      "text/plain": [
       "   Obs.  Fat  Salt Acceptance\n",
       "0     1  0.2   0.9       like\n",
       "1     2  0.1   0.1    dislike\n",
       "2     3  0.2   0.4    dislike\n",
       "3     4  0.2   0.5    dislike\n",
       "4     5  0.4   0.5       like\n",
       "5     6  0.3   0.8       like"
      ]
     },
     "execution_count": 56,
     "metadata": {},
     "output_type": "execute_result"
    }
   ],
   "source": [
    "import pandas as pd\n",
    "url = 'https://raw.githubusercontent.com/sehakflower/data/main/TinyData.csv'\n",
    "data=pd.read_csv(url, sep=',')\n",
    "data"
   ]
  },
  {
   "cell_type": "code",
   "execution_count": 59,
   "id": "8b2c5b0c",
   "metadata": {},
   "outputs": [
    {
     "name": "stdout",
     "output_type": "stream",
     "text": [
      "바이어스 값\n",
      "[array([0.13368045, 4.07247552, 7.00768104]), array([14.30748676])]\n",
      "가중치 값\n",
      "[array([[ -1.30656481,  -4.20427792, -13.29587332],\n",
      "       [ -0.04399727,  -4.91606924,  -6.03356987]]), array([[ -0.27348313],\n",
      "       [ -9.01211573],\n",
      "       [-17.63504694]])]\n",
      "   Obs.  Fat  Salt Acceptance   dislike      like\n",
      "0     1  0.2   0.9       like  0.000490  0.999510\n",
      "1     2  0.1   0.1    dislike  0.999994  0.000006\n",
      "2     3  0.2   0.4    dislike  0.999741  0.000259\n",
      "3     4  0.2   0.5    dislike  0.997368  0.002632\n",
      "4     5  0.4   0.5       like  0.002133  0.997867\n",
      "5     6  0.3   0.8       like  0.000075  0.999925\n"
     ]
    }
   ],
   "source": [
    "predictors=['Fat','Salt']\n",
    "outcome='Acceptance'\n",
    "X=data[predictors]\n",
    "y=data[outcome]\n",
    "classes=sorted(y.unique())\n",
    "\n",
    "from sklearn.neural_network import MLPClassifier\n",
    "clf=MLPClassifier(hidden_layer_sizes=(3,), activation='logistic', solver='lbfgs', random_state=1)\n",
    "clf.fit(X,y)\n",
    "clf.predict(X)\n",
    "print('바이어스 값')\n",
    "print(clf.intercepts_)\n",
    "print('가중치 값')\n",
    "print(clf.coefs_)\n",
    "print(pd.concat([data, pd.DataFrame(clf.predict_proba(X),columns=classes)], axis=1))"
   ]
  },
  {
   "cell_type": "code",
   "execution_count": null,
   "id": "7b7d19c9",
   "metadata": {},
   "outputs": [],
   "source": []
  },
  {
   "cell_type": "code",
   "execution_count": null,
   "id": "c7b00587",
   "metadata": {},
   "outputs": [],
   "source": []
  },
  {
   "cell_type": "code",
   "execution_count": null,
   "id": "d154d8ac",
   "metadata": {},
   "outputs": [],
   "source": []
  },
  {
   "cell_type": "code",
   "execution_count": null,
   "id": "20de7d6e",
   "metadata": {},
   "outputs": [],
   "source": []
  },
  {
   "cell_type": "code",
   "execution_count": null,
   "id": "979c0a1f",
   "metadata": {},
   "outputs": [],
   "source": []
  },
  {
   "cell_type": "code",
   "execution_count": null,
   "id": "a53e5f33",
   "metadata": {},
   "outputs": [],
   "source": []
  }
 ],
 "metadata": {
  "kernelspec": {
   "display_name": "Python 3 (ipykernel)",
   "language": "python",
   "name": "python3"
  },
  "language_info": {
   "codemirror_mode": {
    "name": "ipython",
    "version": 3
   },
   "file_extension": ".py",
   "mimetype": "text/x-python",
   "name": "python",
   "nbconvert_exporter": "python",
   "pygments_lexer": "ipython3",
   "version": "3.10.9"
  }
 },
 "nbformat": 4,
 "nbformat_minor": 5
}
