{
 "cells": [
  {
   "cell_type": "markdown",
   "id": "faa864cf",
   "metadata": {},
   "source": [
    "# 1. 리스트"
   ]
  },
  {
   "cell_type": "markdown",
   "id": "0ea77680",
   "metadata": {},
   "source": [
    "## 1-1. 리스트 생성과 자료 저장"
   ]
  },
  {
   "cell_type": "code",
   "execution_count": 1,
   "id": "4150ceec",
   "metadata": {},
   "outputs": [
    {
     "data": {
      "text/plain": [
       "[85000, 140000, 200000]"
      ]
     },
     "execution_count": 1,
     "metadata": {},
     "output_type": "execute_result"
    }
   ],
   "source": [
    "prices = [85000, 140000, 200000]\n",
    "prices"
   ]
  },
  {
   "cell_type": "code",
   "execution_count": 2,
   "id": "c63462d9",
   "metadata": {},
   "outputs": [
    {
     "data": {
      "text/plain": [
       "[1, 2, 3]"
      ]
     },
     "execution_count": 2,
     "metadata": {},
     "output_type": "execute_result"
    }
   ],
   "source": [
    "#정수형\n",
    "integer_list=[1,2,3]\n",
    "integer_list"
   ]
  },
  {
   "cell_type": "code",
   "execution_count": 3,
   "id": "b3b1ac9b",
   "metadata": {},
   "outputs": [
    {
     "data": {
      "text/plain": [
       "[1.0, 2.0, 3.0]"
      ]
     },
     "execution_count": 3,
     "metadata": {},
     "output_type": "execute_result"
    }
   ],
   "source": [
    "# 실수형\n",
    "float_list = [1.0, 2.0, 3.0]\n",
    "float_list"
   ]
  },
  {
   "cell_type": "code",
   "execution_count": 4,
   "id": "36c8c208",
   "metadata": {},
   "outputs": [
    {
     "data": {
      "text/plain": [
       "['string', 0.1, 100, True]"
      ]
     },
     "execution_count": 4,
     "metadata": {},
     "output_type": "execute_result"
    }
   ],
   "source": [
    "# 문자, 숫자, 실수형 동시 저장\n",
    "heterogeneous_list=[\"string\", 0.1, 100, True]\n",
    "heterogeneous_list"
   ]
  },
  {
   "cell_type": "code",
   "execution_count": 5,
   "id": "40c425cb",
   "metadata": {},
   "outputs": [
    {
     "data": {
      "text/plain": [
       "[5000, 140000, 200000]"
      ]
     },
     "execution_count": 5,
     "metadata": {},
     "output_type": "execute_result"
    }
   ],
   "source": [
    "prices = [85000, 140000, 200000]\n",
    "prices[0]=5000\n",
    "prices"
   ]
  },
  {
   "cell_type": "markdown",
   "id": "79e6e055",
   "metadata": {},
   "source": [
    "## 1-2. 리스트 원소의 접근과 사용"
   ]
  },
  {
   "cell_type": "markdown",
   "id": "8ccbf694",
   "metadata": {},
   "source": [
    "### 인덱싱"
   ]
  },
  {
   "cell_type": "code",
   "execution_count": 6,
   "id": "81227f8d",
   "metadata": {},
   "outputs": [
    {
     "data": {
      "text/plain": [
       "85000"
      ]
     },
     "execution_count": 6,
     "metadata": {},
     "output_type": "execute_result"
    }
   ],
   "source": [
    "prices = [85000, 140000, 200000]\n",
    "prices[0]"
   ]
  },
  {
   "cell_type": "code",
   "execution_count": 7,
   "id": "5d6c050b",
   "metadata": {},
   "outputs": [
    {
     "data": {
      "text/plain": [
       "200000"
      ]
     },
     "execution_count": 7,
     "metadata": {},
     "output_type": "execute_result"
    }
   ],
   "source": [
    "prices = [85000, 140000, 200000]\n",
    "prices[-1]"
   ]
  },
  {
   "cell_type": "code",
   "execution_count": 8,
   "id": "3676ea2c",
   "metadata": {},
   "outputs": [
    {
     "data": {
      "text/plain": [
       "140000"
      ]
     },
     "execution_count": 8,
     "metadata": {},
     "output_type": "execute_result"
    }
   ],
   "source": [
    "prices = [85000, 140000, 200000]\n",
    "prices[-2]"
   ]
  },
  {
   "cell_type": "markdown",
   "id": "ef76ecd3",
   "metadata": {},
   "source": [
    "### 슬라이싱"
   ]
  },
  {
   "cell_type": "code",
   "execution_count": 9,
   "id": "3c269858",
   "metadata": {},
   "outputs": [
    {
     "data": {
      "text/plain": [
       "[85000, 140000]"
      ]
     },
     "execution_count": 9,
     "metadata": {},
     "output_type": "execute_result"
    }
   ],
   "source": [
    "prices = [85000, 140000, 200000]\n",
    "prices[:2]"
   ]
  },
  {
   "cell_type": "code",
   "execution_count": 10,
   "id": "dc6bfb46",
   "metadata": {},
   "outputs": [
    {
     "data": {
      "text/plain": [
       "[140000, 200000]"
      ]
     },
     "execution_count": 10,
     "metadata": {},
     "output_type": "execute_result"
    }
   ],
   "source": [
    "prices = [85000, 140000, 200000]\n",
    "prices[1:]"
   ]
  },
  {
   "cell_type": "code",
   "execution_count": 11,
   "id": "187b6661",
   "metadata": {},
   "outputs": [
    {
     "data": {
      "text/plain": [
       "[140000, 200000]"
      ]
     },
     "execution_count": 11,
     "metadata": {},
     "output_type": "execute_result"
    }
   ],
   "source": [
    "prices = [85000, 140000, 200000]\n",
    "prices[-2:]"
   ]
  },
  {
   "cell_type": "code",
   "execution_count": 12,
   "id": "4eca6f11",
   "metadata": {},
   "outputs": [
    {
     "data": {
      "text/plain": [
       "[0, 3, 6, 9]"
      ]
     },
     "execution_count": 12,
     "metadata": {},
     "output_type": "execute_result"
    }
   ],
   "source": [
    "x=[0, 1, 2, 3, 4, 5, 6, 7, 8, 9]\n",
    "every_third=x[::3]\n",
    "every_third"
   ]
  },
  {
   "cell_type": "code",
   "execution_count": 13,
   "id": "6352f3f2",
   "metadata": {},
   "outputs": [
    {
     "data": {
      "text/plain": [
       "[9, 7, 5, 3]"
      ]
     },
     "execution_count": 13,
     "metadata": {},
     "output_type": "execute_result"
    }
   ],
   "source": [
    "x=[0, 1, 2, 3, 4, 5, 6, 7, 8, 9]\n",
    "ten_to_three=x[10:2:-2]\n",
    "ten_to_three"
   ]
  },
  {
   "cell_type": "markdown",
   "id": "b5176447",
   "metadata": {},
   "source": [
    "### 원소 확인"
   ]
  },
  {
   "cell_type": "code",
   "execution_count": 14,
   "id": "7d2d7c68",
   "metadata": {},
   "outputs": [
    {
     "data": {
      "text/plain": [
       "True"
      ]
     },
     "execution_count": 14,
     "metadata": {},
     "output_type": "execute_result"
    }
   ],
   "source": [
    "1 in [1, 2, 3]"
   ]
  },
  {
   "cell_type": "code",
   "execution_count": 15,
   "id": "3fe01976",
   "metadata": {},
   "outputs": [
    {
     "data": {
      "text/plain": [
       "False"
      ]
     },
     "execution_count": 15,
     "metadata": {},
     "output_type": "execute_result"
    }
   ],
   "source": [
    "0 in [1, 2, 3]"
   ]
  },
  {
   "cell_type": "markdown",
   "id": "30b562bc",
   "metadata": {},
   "source": [
    "### 변수 복사"
   ]
  },
  {
   "cell_type": "code",
   "execution_count": 16,
   "id": "e61bb243",
   "metadata": {},
   "outputs": [
    {
     "data": {
      "text/plain": [
       "[85000, 140000, 200000]"
      ]
     },
     "execution_count": 16,
     "metadata": {},
     "output_type": "execute_result"
    }
   ],
   "source": [
    "prices = [85000, 140000, 200000]\n",
    "copy_of_prices=prices[:]\n",
    "copy_of_prices"
   ]
  },
  {
   "cell_type": "code",
   "execution_count": 19,
   "id": "f79a8aaf",
   "metadata": {},
   "outputs": [
    {
     "data": {
      "text/plain": [
       "[85000, 140000, 200000]"
      ]
     },
     "execution_count": 19,
     "metadata": {},
     "output_type": "execute_result"
    }
   ],
   "source": [
    "prices = [85000, 140000, 200000]\n",
    "copy_of_prices = prices.copy()\n",
    "copy_of_prices"
   ]
  },
  {
   "cell_type": "code",
   "execution_count": 20,
   "id": "a68d701c",
   "metadata": {},
   "outputs": [
    {
     "name": "stdout",
     "output_type": "stream",
     "text": [
      "[1, 2, 0, 4]\n"
     ]
    }
   ],
   "source": [
    "# 대입 연산자=를 이용한 얕은 복사\n",
    "a=[1, 2, 3, 4]\n",
    "b=a\n",
    "b[2]=0\n",
    "print(a)"
   ]
  },
  {
   "cell_type": "code",
   "execution_count": 21,
   "id": "7122118c",
   "metadata": {},
   "outputs": [
    {
     "data": {
      "text/plain": [
       "([1, 2, 3, 4], [1, 2, 0, 4])"
      ]
     },
     "execution_count": 21,
     "metadata": {},
     "output_type": "execute_result"
    }
   ],
   "source": [
    "# 슬라이싱[:]이나 copy함수를 이용한 얕은 복사\n",
    "a=[1, 2, 3, 4]\n",
    "b=a.copy()\n",
    "b[2]=0\n",
    "a,b"
   ]
  },
  {
   "cell_type": "code",
   "execution_count": 22,
   "id": "4fac17fd",
   "metadata": {},
   "outputs": [
    {
     "data": {
      "text/plain": [
       "([1, 2, 3, 4], [1, 2, 1, 4])"
      ]
     },
     "execution_count": 22,
     "metadata": {},
     "output_type": "execute_result"
    }
   ],
   "source": [
    "# 깊은 복사\n",
    "import copy\n",
    "a=[1, 2, 3, 4]\n",
    "b=copy.deepcopy(a)\n",
    "b[2]=1\n",
    "a,b"
   ]
  },
  {
   "cell_type": "markdown",
   "id": "82196dee",
   "metadata": {},
   "source": [
    "## 1-3 리스트에 유용한 내장 함수"
   ]
  },
  {
   "cell_type": "code",
   "execution_count": 23,
   "id": "9464a194",
   "metadata": {},
   "outputs": [
    {
     "name": "stdout",
     "output_type": "stream",
     "text": [
      "prices: 3\n",
      "prices: 4\n"
     ]
    }
   ],
   "source": [
    "prices = [85000, 140000, 200000]\n",
    "print(\"prices: %d\" % len(prices))\n",
    "prices.append(15000)\n",
    "print(\"prices: %d\" % len(prices))"
   ]
  },
  {
   "cell_type": "code",
   "execution_count": 24,
   "id": "9a945734",
   "metadata": {},
   "outputs": [
    {
     "data": {
      "text/plain": [
       "6"
      ]
     },
     "execution_count": 24,
     "metadata": {},
     "output_type": "execute_result"
    }
   ],
   "source": [
    "# 원소 합 구하기 : sum 함수\n",
    "integer_list=[1, 2, 3]\n",
    "sum(integer_list)"
   ]
  },
  {
   "cell_type": "code",
   "execution_count": 25,
   "id": "6d1661c8",
   "metadata": {},
   "outputs": [
    {
     "data": {
      "text/plain": [
       "[85000, 140000, 200000, 1, 2, 3, 4]"
      ]
     },
     "execution_count": 25,
     "metadata": {},
     "output_type": "execute_result"
    }
   ],
   "source": [
    "# 원소 합 구하기 : extend 함수\n",
    "prices = [85000, 140000, 200000]\n",
    "x= [1, 2, 3, 4]\n",
    "prices.extend(x)\n",
    "prices"
   ]
  },
  {
   "cell_type": "code",
   "execution_count": 26,
   "id": "8aa686ea",
   "metadata": {},
   "outputs": [
    {
     "data": {
      "text/plain": [
       "[1, 2, 3, 4]"
      ]
     },
     "execution_count": 26,
     "metadata": {},
     "output_type": "execute_result"
    }
   ],
   "source": [
    "x=[4, 1, 2, 3]\n",
    "x.sort()\n",
    "x"
   ]
  },
  {
   "cell_type": "code",
   "execution_count": 27,
   "id": "4a377235",
   "metadata": {},
   "outputs": [
    {
     "data": {
      "text/plain": [
       "[4, 1, 2, 3]"
      ]
     },
     "execution_count": 27,
     "metadata": {},
     "output_type": "execute_result"
    }
   ],
   "source": [
    "y=[4, 1, 2, 3]\n",
    "sorted(y)\n",
    "y"
   ]
  },
  {
   "cell_type": "code",
   "execution_count": 28,
   "id": "abb84916",
   "metadata": {},
   "outputs": [
    {
     "data": {
      "text/plain": [
       "[-4, 3, -2, 1]"
      ]
     },
     "execution_count": 28,
     "metadata": {},
     "output_type": "execute_result"
    }
   ],
   "source": [
    "x=sorted([-4, 1, -2, 3], key=abs, reverse=True)\n",
    "x"
   ]
  },
  {
   "cell_type": "markdown",
   "id": "c875d085",
   "metadata": {},
   "source": [
    "# 2. 튜플"
   ]
  },
  {
   "cell_type": "markdown",
   "id": "61f39706",
   "metadata": {},
   "source": [
    "## 2-1. 튜플 생성 자료 저장"
   ]
  },
  {
   "cell_type": "code",
   "execution_count": 30,
   "id": "3254c98e",
   "metadata": {},
   "outputs": [
    {
     "name": "stdout",
     "output_type": "stream",
     "text": [
      "[85000, 140000, 200000]\n",
      "[85000, 140000, 200000]\n"
     ]
    }
   ],
   "source": [
    "prices_tuple=[85000, 140000, 200000]\n",
    "print(prices_tuple)\n",
    "prices_tuple1 = 85000, 140000, 200000\n",
    "print(prices_tuple)"
   ]
  },
  {
   "cell_type": "code",
   "execution_count": 31,
   "id": "5a3242dd",
   "metadata": {},
   "outputs": [
    {
     "data": {
      "text/plain": [
       "85000"
      ]
     },
     "execution_count": 31,
     "metadata": {},
     "output_type": "execute_result"
    }
   ],
   "source": [
    "prices_tuple=(85000, 140000, 200000)\n",
    "prices_tuple[0]"
   ]
  },
  {
   "cell_type": "code",
   "execution_count": 32,
   "id": "b70df1bd",
   "metadata": {},
   "outputs": [
    {
     "ename": "TypeError",
     "evalue": "'tuple' object does not support item assignment",
     "output_type": "error",
     "traceback": [
      "\u001b[1;31m---------------------------------------------------------------------------\u001b[0m",
      "\u001b[1;31mTypeError\u001b[0m                                 Traceback (most recent call last)",
      "Cell \u001b[1;32mIn[32], line 2\u001b[0m\n\u001b[0;32m      1\u001b[0m prices_tuple\u001b[38;5;241m=\u001b[39m(\u001b[38;5;241m85000\u001b[39m, \u001b[38;5;241m140000\u001b[39m, \u001b[38;5;241m200000\u001b[39m)\n\u001b[1;32m----> 2\u001b[0m prices_tuple[\u001b[38;5;241m0\u001b[39m]\u001b[38;5;241m=\u001b[39m \u001b[38;5;241m2000\u001b[39m\n",
      "\u001b[1;31mTypeError\u001b[0m: 'tuple' object does not support item assignment"
     ]
    }
   ],
   "source": [
    "prices_tuple=(85000, 140000, 200000)\n",
    "prices_tuple[0]= 2000"
   ]
  },
  {
   "cell_type": "code",
   "execution_count": 33,
   "id": "22134b0b",
   "metadata": {},
   "outputs": [
    {
     "data": {
      "text/plain": [
       "('SK', 85000)"
      ]
     },
     "execution_count": 33,
     "metadata": {},
     "output_type": "execute_result"
    }
   ],
   "source": [
    "prices_tuple=('삼성전자','LG전자','SK', 85000, 140000, 200000)\n",
    "prices_tuple[2:4]"
   ]
  },
  {
   "cell_type": "markdown",
   "id": "bbe720c3",
   "metadata": {},
   "source": [
    "# 3. 집합"
   ]
  },
  {
   "cell_type": "markdown",
   "id": "5e929503",
   "metadata": {},
   "source": [
    "## 3-1. 집합 생성과 자료 저장"
   ]
  },
  {
   "cell_type": "code",
   "execution_count": 34,
   "id": "5002b053",
   "metadata": {},
   "outputs": [
    {
     "data": {
      "text/plain": [
       "{85000, 140000, 200000}"
      ]
     },
     "execution_count": 34,
     "metadata": {},
     "output_type": "execute_result"
    }
   ],
   "source": [
    "prices_list=prices_tuple=[85000, 140000, 200000] # 리스트\n",
    "prices_set=set(prices_list) # 리스트 변수 앞에 set 함수 사용\n",
    "prices_set"
   ]
  },
  {
   "cell_type": "code",
   "execution_count": 35,
   "id": "843f4bef",
   "metadata": {},
   "outputs": [
    {
     "data": {
      "text/plain": [
       "{85000, 140000, 200000}"
      ]
     },
     "execution_count": 35,
     "metadata": {},
     "output_type": "execute_result"
    }
   ],
   "source": [
    "prices_tuple=(85000, 140000, 200000) # 튜플\n",
    "prices_set=set(prices_list) # 튜플 변수 앞에 set 함수 사용\n",
    "prices_set"
   ]
  },
  {
   "cell_type": "markdown",
   "id": "ed5fed88",
   "metadata": {},
   "source": [
    "## 집합의 중복 데이터 제거"
   ]
  },
  {
   "cell_type": "code",
   "execution_count": 37,
   "id": "68256907",
   "metadata": {},
   "outputs": [
    {
     "data": {
      "text/plain": [
       "{5555, 85000, 140000, 200000}"
      ]
     },
     "execution_count": 37,
     "metadata": {},
     "output_type": "execute_result"
    }
   ],
   "source": [
    "prices_set={85000, 140000, 200000}\n",
    "prices_set.add(5555)\n",
    "prices_set"
   ]
  },
  {
   "cell_type": "code",
   "execution_count": 38,
   "id": "efc5081a",
   "metadata": {},
   "outputs": [
    {
     "data": {
      "text/plain": [
       "[85000, 140000, 200000, 85000]"
      ]
     },
     "execution_count": 38,
     "metadata": {},
     "output_type": "execute_result"
    }
   ],
   "source": [
    "# 리스트는 원소 중복 가능\n",
    "prices_list=[85000, 140000, 200000]\n",
    "prices_list.append(85000)\n",
    "prices_list"
   ]
  },
  {
   "cell_type": "code",
   "execution_count": 39,
   "id": "2a9ea7f5",
   "metadata": {},
   "outputs": [
    {
     "data": {
      "text/plain": [
       "{85000, 140000, 200000}"
      ]
     },
     "execution_count": 39,
     "metadata": {},
     "output_type": "execute_result"
    }
   ],
   "source": [
    "# 집합은 원소 중복 불가능\n",
    "prices_set=set(prices_list)\n",
    "len(prices_list)\n",
    "prices_set"
   ]
  },
  {
   "cell_type": "code",
   "execution_count": 40,
   "id": "daa9f331",
   "metadata": {},
   "outputs": [
    {
     "data": {
      "text/plain": [
       "False"
      ]
     },
     "execution_count": 40,
     "metadata": {},
     "output_type": "execute_result"
    }
   ],
   "source": [
    "prices_set= {85000, 140000, 200000}\n",
    "3 in prices_set"
   ]
  },
  {
   "cell_type": "code",
   "execution_count": 41,
   "id": "a3ccd629",
   "metadata": {},
   "outputs": [
    {
     "data": {
      "text/plain": [
       "False"
      ]
     },
     "execution_count": 41,
     "metadata": {},
     "output_type": "execute_result"
    }
   ],
   "source": [
    "prices_set={85000, 140000, 200000}\n",
    "y=2 in prices_set\n",
    "y"
   ]
  },
  {
   "cell_type": "code",
   "execution_count": 42,
   "id": "c4f2ccf5",
   "metadata": {},
   "outputs": [
    {
     "data": {
      "text/plain": [
       "True"
      ]
     },
     "execution_count": 42,
     "metadata": {},
     "output_type": "execute_result"
    }
   ],
   "source": [
    "prices_set={85000, 140000, 200000}\n",
    "x=140000 in prices_set\n",
    "x"
   ]
  },
  {
   "cell_type": "code",
   "execution_count": 43,
   "id": "b24466dc",
   "metadata": {},
   "outputs": [
    {
     "data": {
      "text/plain": [
       "6"
      ]
     },
     "execution_count": 43,
     "metadata": {},
     "output_type": "execute_result"
    }
   ],
   "source": [
    "item_list=[1, 2, 3, 1, 2, 3]\n",
    "num_items=len(item_list)\n",
    "num_items"
   ]
  },
  {
   "cell_type": "code",
   "execution_count": 44,
   "id": "3c412739",
   "metadata": {},
   "outputs": [
    {
     "data": {
      "text/plain": [
       "3"
      ]
     },
     "execution_count": 44,
     "metadata": {},
     "output_type": "execute_result"
    }
   ],
   "source": [
    "item_list=[1, 2, 3, 1, 2, 3]\n",
    "item_set=set(item_list)\n",
    "num_items=len(item_set)\n",
    "num_items"
   ]
  },
  {
   "cell_type": "code",
   "execution_count": 47,
   "id": "ecf2c2f4",
   "metadata": {},
   "outputs": [
    {
     "data": {
      "text/plain": [
       "3"
      ]
     },
     "execution_count": 47,
     "metadata": {},
     "output_type": "execute_result"
    }
   ],
   "source": [
    "item_list=[1, 2, 3, 1, 2, 3]\n",
    "item_set=set(item_list)\n",
    "num_items=len(item_set)\n",
    "num_items"
   ]
  },
  {
   "cell_type": "code",
   "execution_count": 49,
   "id": "cf6d82d0",
   "metadata": {},
   "outputs": [
    {
     "data": {
      "text/plain": [
       "[1, 2, 3]"
      ]
     },
     "execution_count": 49,
     "metadata": {},
     "output_type": "execute_result"
    }
   ],
   "source": [
    "item_list=[1, 2, 3, 1, 2, 3]\n",
    "item_set=set(item_list)\n",
    "item_list1=list(item_set)\n",
    "item_list1"
   ]
  },
  {
   "cell_type": "markdown",
   "id": "4c2d1da2",
   "metadata": {},
   "source": [
    "# 4. 딕셔너리"
   ]
  },
  {
   "cell_type": "markdown",
   "id": "50eb84b9",
   "metadata": {},
   "source": [
    "## 4-1. 딕셔너리 생성과 자료 저장"
   ]
  },
  {
   "cell_type": "code",
   "execution_count": 50,
   "id": "f43c0eb5",
   "metadata": {},
   "outputs": [
    {
     "data": {
      "text/plain": [
       "{}"
      ]
     },
     "execution_count": 50,
     "metadata": {},
     "output_type": "execute_result"
    }
   ],
   "source": [
    "my_dict={}\n",
    "my_dict"
   ]
  },
  {
   "cell_type": "code",
   "execution_count": 51,
   "id": "b2d949c3",
   "metadata": {},
   "outputs": [
    {
     "data": {
      "text/plain": [
       "{}"
      ]
     },
     "execution_count": 51,
     "metadata": {},
     "output_type": "execute_result"
    }
   ],
   "source": [
    "my_dict1=dict()\n",
    "my_dict1"
   ]
  },
  {
   "cell_type": "markdown",
   "id": "59b24417",
   "metadata": {},
   "source": [
    "## 4-2. 딕셔너리 원소의 접근과 사용"
   ]
  },
  {
   "cell_type": "code",
   "execution_count": 52,
   "id": "5dd412da",
   "metadata": {},
   "outputs": [
    {
     "name": "stdout",
     "output_type": "stream",
     "text": [
      "number of my ss stocks : 10\n"
     ]
    }
   ],
   "source": [
    "my_stocks={'ss':10, 'lg':5, 'sk':5}\n",
    "print(\"number of my ss stocks : %d\" % my_stocks['ss'])"
   ]
  },
  {
   "cell_type": "code",
   "execution_count": 54,
   "id": "e0e08723",
   "metadata": {},
   "outputs": [
    {
     "data": {
      "text/plain": [
       "{('ss', 'lg'): 10}"
      ]
     },
     "execution_count": 54,
     "metadata": {},
     "output_type": "execute_result"
    }
   ],
   "source": [
    "my_stocks2={('ss', 'lg'): 10}\n",
    "my_stocks2"
   ]
  },
  {
   "cell_type": "code",
   "execution_count": 57,
   "id": "e814e928",
   "metadata": {},
   "outputs": [
    {
     "data": {
      "text/plain": [
       "{'ss': 10, 'lg': 15, 'sk': 5}"
      ]
     },
     "execution_count": 57,
     "metadata": {},
     "output_type": "execute_result"
    }
   ],
   "source": [
    "my_stocks={'ss' : 10, 'lg':5, 'sk':5}\n",
    "my_stocks['lg']= 15\n",
    "my_stocks"
   ]
  },
  {
   "cell_type": "code",
   "execution_count": 58,
   "id": "b69075f5",
   "metadata": {},
   "outputs": [
    {
     "data": {
      "text/plain": [
       "{'ss': 10, 'lg': 5, 'sk': 5, 'naver': 20}"
      ]
     },
     "execution_count": 58,
     "metadata": {},
     "output_type": "execute_result"
    }
   ],
   "source": [
    "my_stocks={'ss':10, 'lg':5, 'sk':5}\n",
    "my_stocks['naver']= 20\n",
    "my_stocks"
   ]
  },
  {
   "cell_type": "code",
   "execution_count": 59,
   "id": "28b7c040",
   "metadata": {},
   "outputs": [
    {
     "data": {
      "text/plain": [
       "10"
      ]
     },
     "execution_count": 59,
     "metadata": {},
     "output_type": "execute_result"
    }
   ],
   "source": [
    "my_stocks={'ss': 10, 'lg':5, 'sk': 5, 'naver': 20}\n",
    "my_stocks['ss']"
   ]
  },
  {
   "cell_type": "code",
   "execution_count": 61,
   "id": "c8f755a0",
   "metadata": {},
   "outputs": [
    {
     "data": {
      "text/plain": [
       "True"
      ]
     },
     "execution_count": 61,
     "metadata": {},
     "output_type": "execute_result"
    }
   ],
   "source": [
    "my_stocks={'ss': 10, 'lg': 5, 'sk' : 5, 'naver': 20}\n",
    "ss_has_price=\"ss\" in my_stocks\n",
    "ss_has_price"
   ]
  },
  {
   "cell_type": "markdown",
   "id": "e3369dff",
   "metadata": {},
   "source": [
    "## 4-3. 딕셔너리에 유용한 내장 함수"
   ]
  },
  {
   "cell_type": "code",
   "execution_count": 62,
   "id": "93744a5a",
   "metadata": {},
   "outputs": [
    {
     "name": "stdout",
     "output_type": "stream",
     "text": [
      "Keys: dict_keys(['ss', 'lg', 'sk', 'naver'])\n"
     ]
    }
   ],
   "source": [
    "my_stocks={'ss': 10, 'lg':5, 'sk': 5, 'naver': 20}\n",
    "print(\"Keys: %s\" %my_stocks.keys())"
   ]
  },
  {
   "cell_type": "code",
   "execution_count": 63,
   "id": "f66cc2a8",
   "metadata": {},
   "outputs": [
    {
     "name": "stdout",
     "output_type": "stream",
     "text": [
      "Keys: dict_keys(['ss', 'lg', 'naver'])\n"
     ]
    }
   ],
   "source": [
    "my_stocks={'ss': 10, 'lg': 5, 'naver': 20}\n",
    "print(f\"Keys: {my_stocks.keys()}\")"
   ]
  },
  {
   "cell_type": "markdown",
   "id": "9f56c9d1",
   "metadata": {},
   "source": [
    "### 모든 값 출력하기: values 함수"
   ]
  },
  {
   "cell_type": "code",
   "execution_count": 65,
   "id": "cd5481e7",
   "metadata": {},
   "outputs": [
    {
     "name": "stdout",
     "output_type": "stream",
     "text": [
      "Values: dict_values([10, 5, 5, 20])\n"
     ]
    }
   ],
   "source": [
    "my_stocks={'ss':10, 'lg': 5, 'sk': 5, 'naver': 20}\n",
    "print(\"Values: %s\" %my_stocks.values())"
   ]
  },
  {
   "cell_type": "code",
   "execution_count": 67,
   "id": "2906f23a",
   "metadata": {},
   "outputs": [
    {
     "name": "stdout",
     "output_type": "stream",
     "text": [
      "10\n",
      "5\n",
      "5\n",
      "20\n"
     ]
    }
   ],
   "source": [
    "my_stocks={'ss':10, 'lg': 5, 'sk': 5, 'naver': 20}\n",
    "for value in my_stocks.values():\n",
    "    print(value)"
   ]
  },
  {
   "cell_type": "markdown",
   "id": "a393cec8",
   "metadata": {},
   "source": [
    "### 키와 값 모든 쌍 출력하기: items 함수"
   ]
  },
  {
   "cell_type": "code",
   "execution_count": 64,
   "id": "9bf0adeb",
   "metadata": {},
   "outputs": [
    {
     "data": {
      "text/plain": [
       "[('ss', 10), ('lg', 5), ('sk', 5), ('naver', 20)]"
      ]
     },
     "execution_count": 64,
     "metadata": {},
     "output_type": "execute_result"
    }
   ],
   "source": [
    "my_stocks={'ss':10, 'lg': 5, 'sk': 5, 'naver': 20}\n",
    "my_stocks_list1=list(my_stocks.items())\n",
    "my_stocks_list1"
   ]
  },
  {
   "cell_type": "code",
   "execution_count": 68,
   "id": "5674c20d",
   "metadata": {},
   "outputs": [
    {
     "name": "stdout",
     "output_type": "stream",
     "text": [
      "('ss', 10)\n",
      "('lg', 5)\n",
      "('sk', 5)\n",
      "('naver', 20)\n"
     ]
    }
   ],
   "source": [
    "my_stocks={'ss':10, 'lg': 5, 'sk': 5, 'naver': 20}\n",
    "for value in my_stocks.items():\n",
    "    print(value)"
   ]
  },
  {
   "cell_type": "markdown",
   "id": "430e81dc",
   "metadata": {},
   "source": [
    "### 값 가져오기: get 함수"
   ]
  },
  {
   "cell_type": "code",
   "execution_count": 70,
   "id": "8013e3e7",
   "metadata": {},
   "outputs": [
    {
     "data": {
      "text/plain": [
       "10"
      ]
     },
     "execution_count": 70,
     "metadata": {},
     "output_type": "execute_result"
    }
   ],
   "source": [
    "my_stocks={'ss':10, 'lg': 5, 'sk': 5, 'naver': 20}\n",
    "ss_quantity=my_stocks.get(\"ss\", 100)\n",
    "ss_quantity"
   ]
  },
  {
   "cell_type": "code",
   "execution_count": 71,
   "id": "025d9c1f",
   "metadata": {},
   "outputs": [
    {
     "data": {
      "text/plain": [
       "100"
      ]
     },
     "execution_count": 71,
     "metadata": {},
     "output_type": "execute_result"
    }
   ],
   "source": [
    "my_stocks={'ss':10, 'lg': 5, 'sk': 5, 'naver': 20}\n",
    "ss_quantity=my_stocks.get(\"kt\", 100)\n",
    "ss_quantity"
   ]
  },
  {
   "cell_type": "markdown",
   "id": "28575deb",
   "metadata": {},
   "source": [
    "### 키와 값 확인하기 : in 연산자와 내장 함수의 결합"
   ]
  },
  {
   "cell_type": "code",
   "execution_count": 72,
   "id": "26c3876e",
   "metadata": {},
   "outputs": [
    {
     "data": {
      "text/plain": [
       "True"
      ]
     },
     "execution_count": 72,
     "metadata": {},
     "output_type": "execute_result"
    }
   ],
   "source": [
    "my_stocks={'ss':10, 'lg': 5, 'sk': 5, 'naver': 20}\n",
    "\"ss\" in my_stocks"
   ]
  },
  {
   "cell_type": "code",
   "execution_count": 73,
   "id": "1702e8bc",
   "metadata": {},
   "outputs": [
    {
     "data": {
      "text/plain": [
       "False"
      ]
     },
     "execution_count": 73,
     "metadata": {},
     "output_type": "execute_result"
    }
   ],
   "source": [
    "my_stocks={'ss':10, 'lg': 5, 'sk': 5, 'naver': 20}\n",
    "\"kt\" in my_stocks"
   ]
  },
  {
   "cell_type": "markdown",
   "id": "2207568e",
   "metadata": {},
   "source": [
    "# 5.  기타 데이터형"
   ]
  },
  {
   "cell_type": "code",
   "execution_count": 74,
   "id": "9bdb5dcf",
   "metadata": {},
   "outputs": [
    {
     "data": {
      "text/plain": [
       "True"
      ]
     },
     "execution_count": 74,
     "metadata": {},
     "output_type": "execute_result"
    }
   ],
   "source": [
    "1 < 2"
   ]
  },
  {
   "cell_type": "code",
   "execution_count": 75,
   "id": "f594727d",
   "metadata": {},
   "outputs": [
    {
     "data": {
      "text/plain": [
       "True"
      ]
     },
     "execution_count": 75,
     "metadata": {},
     "output_type": "execute_result"
    }
   ],
   "source": [
    "one_less_two=1 < 2\n",
    "one_less_two"
   ]
  },
  {
   "cell_type": "code",
   "execution_count": 76,
   "id": "9c228760",
   "metadata": {},
   "outputs": [
    {
     "data": {
      "text/plain": [
       "False"
      ]
     },
     "execution_count": 76,
     "metadata": {},
     "output_type": "execute_result"
    }
   ],
   "source": [
    "True==False"
   ]
  },
  {
   "cell_type": "code",
   "execution_count": 77,
   "id": "7f667730",
   "metadata": {},
   "outputs": [
    {
     "data": {
      "text/plain": [
       "False"
      ]
     },
     "execution_count": 77,
     "metadata": {},
     "output_type": "execute_result"
    }
   ],
   "source": [
    "1==2"
   ]
  },
  {
   "cell_type": "code",
   "execution_count": 78,
   "id": "0cd3cca7",
   "metadata": {},
   "outputs": [
    {
     "data": {
      "text/plain": [
       "False"
      ]
     },
     "execution_count": 78,
     "metadata": {},
     "output_type": "execute_result"
    }
   ],
   "source": [
    "true_equals_false=True==False\n",
    "true_equals_false"
   ]
  },
  {
   "cell_type": "code",
   "execution_count": 79,
   "id": "eb76ec30",
   "metadata": {},
   "outputs": [
    {
     "data": {
      "text/plain": [
       "True"
      ]
     },
     "execution_count": 79,
     "metadata": {},
     "output_type": "execute_result"
    }
   ],
   "source": [
    "all([True, 1, {3}])"
   ]
  },
  {
   "cell_type": "code",
   "execution_count": 80,
   "id": "47291f3b",
   "metadata": {},
   "outputs": [
    {
     "data": {
      "text/plain": [
       "False"
      ]
     },
     "execution_count": 80,
     "metadata": {},
     "output_type": "execute_result"
    }
   ],
   "source": [
    "all([True, 1, {}])"
   ]
  },
  {
   "cell_type": "code",
   "execution_count": 81,
   "id": "13c1ff73",
   "metadata": {},
   "outputs": [
    {
     "data": {
      "text/plain": [
       "True"
      ]
     },
     "execution_count": 81,
     "metadata": {},
     "output_type": "execute_result"
    }
   ],
   "source": [
    "any([True, 1, {}])"
   ]
  },
  {
   "cell_type": "code",
   "execution_count": 82,
   "id": "04828bbf",
   "metadata": {},
   "outputs": [
    {
     "data": {
      "text/plain": [
       "False"
      ]
     },
     "execution_count": 82,
     "metadata": {},
     "output_type": "execute_result"
    }
   ],
   "source": [
    "any([False, 0, {}])"
   ]
  }
 ],
 "metadata": {
  "kernelspec": {
   "display_name": "Python 3 (ipykernel)",
   "language": "python",
   "name": "python3"
  },
  "language_info": {
   "codemirror_mode": {
    "name": "ipython",
    "version": 3
   },
   "file_extension": ".py",
   "mimetype": "text/x-python",
   "name": "python",
   "nbconvert_exporter": "python",
   "pygments_lexer": "ipython3",
   "version": "3.10.9"
  }
 },
 "nbformat": 4,
 "nbformat_minor": 5
}
