{
 "cells": [
  {
   "cell_type": "markdown",
   "id": "71e9b364",
   "metadata": {},
   "source": [
    "# 시계열분석(Time Series)\n",
    "\n",
    "    * 시간: 특정 간격을 갖는 시간(Lag)\n",
    "      Lag에서 Data의 Trend를 찾는다.\n",
    "    * 일변량 정상시계열\n",
    "      ARIMA\n",
    "    * Trend : 추세\n",
    "    \n",
    "#### csv 파일 다운로드: https://blog.naver.com/data_station/222493262626\n",
    "#### 유튜브 강의: https://www.youtube.com/watch?v=0ErbtpR9HQA"
   ]
  },
  {
   "cell_type": "code",
   "execution_count": 1,
   "id": "d3a96032",
   "metadata": {},
   "outputs": [],
   "source": [
    "# 기초적인 도구 소환\n",
    "import numpy as np\n",
    "import pandas as pd\n",
    "import seaborn as sns\n",
    "import matplotlib as mpl\n",
    "import matplotlib.pyplot as plt\n",
    "\n",
    "# 그래프 출력 시 한글 처리를 위함. 설정 안하면 깨질 가능성이 높음.\n",
    "mpl.rc('font', family='Malgun Gothic')"
   ]
  },
  {
   "cell_type": "code",
   "execution_count": 2,
   "id": "9f9d2ddd",
   "metadata": {},
   "outputs": [
    {
     "name": "stdout",
     "output_type": "stream",
     "text": [
      "<class 'pandas.core.frame.DataFrame'>\n",
      "RangeIndex: 803675 entries, 0 to 803674\n",
      "Data columns (total 3 columns):\n",
      " #   Column  Non-Null Count   Dtype \n",
      "---  ------  --------------   ----- \n",
      " 0   구매일     803675 non-null  object\n",
      " 1   구매금액    803675 non-null  int64 \n",
      " 2   물품대분류   803675 non-null  object\n",
      "dtypes: int64(1), object(2)\n",
      "memory usage: 18.4+ MB\n"
     ]
    }
   ],
   "source": [
    "# Data11.csv 이라는 파일 읽어와서 개요 보기(=info()함수 사용)\n",
    "df1 = pd.read_csv('Data11.csv')\n",
    "df1.info()"
   ]
  },
  {
   "cell_type": "code",
   "execution_count": 3,
   "id": "389bfd0c",
   "metadata": {},
   "outputs": [
    {
     "data": {
      "text/html": [
       "<div>\n",
       "<style scoped>\n",
       "    .dataframe tbody tr th:only-of-type {\n",
       "        vertical-align: middle;\n",
       "    }\n",
       "\n",
       "    .dataframe tbody tr th {\n",
       "        vertical-align: top;\n",
       "    }\n",
       "\n",
       "    .dataframe thead th {\n",
       "        text-align: right;\n",
       "    }\n",
       "</style>\n",
       "<table border=\"1\" class=\"dataframe\">\n",
       "  <thead>\n",
       "    <tr style=\"text-align: right;\">\n",
       "      <th></th>\n",
       "      <th>구매일</th>\n",
       "      <th>구매금액</th>\n",
       "      <th>물품대분류</th>\n",
       "    </tr>\n",
       "  </thead>\n",
       "  <tbody>\n",
       "    <tr>\n",
       "      <th>0</th>\n",
       "      <td>2018-04-20</td>\n",
       "      <td>57120</td>\n",
       "      <td>기저귀</td>\n",
       "    </tr>\n",
       "    <tr>\n",
       "      <th>1</th>\n",
       "      <td>2018-04-20</td>\n",
       "      <td>15900</td>\n",
       "      <td>더블하트</td>\n",
       "    </tr>\n",
       "    <tr>\n",
       "      <th>2</th>\n",
       "      <td>2018-04-20</td>\n",
       "      <td>7000</td>\n",
       "      <td>더블하트</td>\n",
       "    </tr>\n",
       "    <tr>\n",
       "      <th>3</th>\n",
       "      <td>2018-04-20</td>\n",
       "      <td>20900</td>\n",
       "      <td>더블하트</td>\n",
       "    </tr>\n",
       "    <tr>\n",
       "      <th>4</th>\n",
       "      <td>2018-05-06</td>\n",
       "      <td>26500</td>\n",
       "      <td>더블하트</td>\n",
       "    </tr>\n",
       "  </tbody>\n",
       "</table>\n",
       "</div>"
      ],
      "text/plain": [
       "          구매일   구매금액 물품대분류\n",
       "0  2018-04-20  57120   기저귀\n",
       "1  2018-04-20  15900  더블하트\n",
       "2  2018-04-20   7000  더블하트\n",
       "3  2018-04-20  20900  더블하트\n",
       "4  2018-05-06  26500  더블하트"
      ]
     },
     "execution_count": 3,
     "metadata": {},
     "output_type": "execute_result"
    }
   ],
   "source": [
    "# 읽어온 자료의 상단 5개 출력. 괄호 안에 파라미터 설정 시 갯수 조절 가능\n",
    "df1.head()"
   ]
  },
  {
   "cell_type": "code",
   "execution_count": 4,
   "id": "489e090d",
   "metadata": {},
   "outputs": [
    {
     "data": {
      "text/html": [
       "<div>\n",
       "<style scoped>\n",
       "    .dataframe tbody tr th:only-of-type {\n",
       "        vertical-align: middle;\n",
       "    }\n",
       "\n",
       "    .dataframe tbody tr th {\n",
       "        vertical-align: top;\n",
       "    }\n",
       "\n",
       "    .dataframe thead th {\n",
       "        text-align: right;\n",
       "    }\n",
       "</style>\n",
       "<table border=\"1\" class=\"dataframe\">\n",
       "  <thead>\n",
       "    <tr style=\"text-align: right;\">\n",
       "      <th></th>\n",
       "      <th>구매일</th>\n",
       "      <th>구매금액</th>\n",
       "      <th>물품대분류</th>\n",
       "    </tr>\n",
       "  </thead>\n",
       "  <tbody>\n",
       "    <tr>\n",
       "      <th>803668</th>\n",
       "      <td>2020-08-06</td>\n",
       "      <td>3000</td>\n",
       "      <td>체험팩</td>\n",
       "    </tr>\n",
       "    <tr>\n",
       "      <th>803669</th>\n",
       "      <td>2020-08-06</td>\n",
       "      <td>6400</td>\n",
       "      <td>더블하트</td>\n",
       "    </tr>\n",
       "    <tr>\n",
       "      <th>803670</th>\n",
       "      <td>2020-08-06</td>\n",
       "      <td>30960</td>\n",
       "      <td>더블하트</td>\n",
       "    </tr>\n",
       "    <tr>\n",
       "      <th>803671</th>\n",
       "      <td>2020-08-06</td>\n",
       "      <td>6640</td>\n",
       "      <td>더블하트</td>\n",
       "    </tr>\n",
       "    <tr>\n",
       "      <th>803672</th>\n",
       "      <td>2020-08-06</td>\n",
       "      <td>5600</td>\n",
       "      <td>더블하트</td>\n",
       "    </tr>\n",
       "    <tr>\n",
       "      <th>803673</th>\n",
       "      <td>2020-08-06</td>\n",
       "      <td>7840</td>\n",
       "      <td>더블하트</td>\n",
       "    </tr>\n",
       "    <tr>\n",
       "      <th>803674</th>\n",
       "      <td>2020-08-06</td>\n",
       "      <td>8500</td>\n",
       "      <td>기타</td>\n",
       "    </tr>\n",
       "  </tbody>\n",
       "</table>\n",
       "</div>"
      ],
      "text/plain": [
       "               구매일   구매금액 물품대분류\n",
       "803668  2020-08-06   3000   체험팩\n",
       "803669  2020-08-06   6400  더블하트\n",
       "803670  2020-08-06  30960  더블하트\n",
       "803671  2020-08-06   6640  더블하트\n",
       "803672  2020-08-06   5600  더블하트\n",
       "803673  2020-08-06   7840  더블하트\n",
       "803674  2020-08-06   8500    기타"
      ]
     },
     "execution_count": 4,
     "metadata": {},
     "output_type": "execute_result"
    }
   ],
   "source": [
    "# 읽어온 자료의 하단 5개 출력. 괄호 안에 파라미터 설정 시 갯수 조절 가능\n",
    "df1.tail(n=7)"
   ]
  },
  {
   "cell_type": "markdown",
   "id": "5a746703",
   "metadata": {},
   "source": [
    "### 파일 정렬이 '구매일' 기준인 것 같은데, 형태가 object임."
   ]
  },
  {
   "cell_type": "code",
   "execution_count": 5,
   "id": "b33670bd",
   "metadata": {},
   "outputs": [],
   "source": [
    "# change the data type of column '구매일' for 'datetime'\n",
    "df1['Datetime'] = pd.to_datetime(df1['구매일'])"
   ]
  },
  {
   "cell_type": "code",
   "execution_count": 6,
   "id": "35bd0ee6",
   "metadata": {},
   "outputs": [
    {
     "name": "stderr",
     "output_type": "stream",
     "text": [
      "C:\\Users\\Public\\Documents\\ESTsoft\\CreatorTemp\\ipykernel_23184\\2985957341.py:2: FutureWarning: Treating datetime data as categorical rather than numeric in `.describe` is deprecated and will be removed in a future version of pandas. Specify `datetime_is_numeric=True` to silence this warning and adopt the future behavior now.\n",
      "  df1['Datetime'].describe()\n"
     ]
    },
    {
     "data": {
      "text/plain": [
       "count                  803675\n",
       "unique                    589\n",
       "top       2019-10-11 00:00:00\n",
       "freq                    10500\n",
       "first     2018-04-20 00:00:00\n",
       "last      2020-08-07 00:00:00\n",
       "Name: Datetime, dtype: object"
      ]
     },
     "execution_count": 6,
     "metadata": {},
     "output_type": "execute_result"
    }
   ],
   "source": [
    "# Check the data type\n",
    "df1['Datetime'].describe()"
   ]
  },
  {
   "cell_type": "code",
   "execution_count": 7,
   "id": "a8c05440",
   "metadata": {},
   "outputs": [
    {
     "name": "stderr",
     "output_type": "stream",
     "text": [
      "C:\\Users\\Public\\Documents\\ESTsoft\\CreatorTemp\\ipykernel_23184\\793232282.py:4: FutureWarning: Series.dt.weekofyear and Series.dt.week have been deprecated. Please use Series.dt.isocalendar().week instead.\n",
      "  df1['Week'] = df1['Datetime'].dt.week\n"
     ]
    }
   ],
   "source": [
    "# Datetime으로 변환한 '구매일'을 년/월/주/일(요일)으로 세분화 후 추가\n",
    "df1['Year'] = df1['Datetime'].dt.year\n",
    "df1['Month'] = df1['Datetime'].dt.month\n",
    "df1['Week'] = df1['Datetime'].dt.week\n",
    "df1['Day of Week'] = df1['Datetime'].dt.day_name()"
   ]
  },
  {
   "cell_type": "code",
   "execution_count": 8,
   "id": "a468a4e3",
   "metadata": {},
   "outputs": [
    {
     "data": {
      "text/html": [
       "<div>\n",
       "<style scoped>\n",
       "    .dataframe tbody tr th:only-of-type {\n",
       "        vertical-align: middle;\n",
       "    }\n",
       "\n",
       "    .dataframe tbody tr th {\n",
       "        vertical-align: top;\n",
       "    }\n",
       "\n",
       "    .dataframe thead th {\n",
       "        text-align: right;\n",
       "    }\n",
       "</style>\n",
       "<table border=\"1\" class=\"dataframe\">\n",
       "  <thead>\n",
       "    <tr style=\"text-align: right;\">\n",
       "      <th></th>\n",
       "      <th>구매일</th>\n",
       "      <th>구매금액</th>\n",
       "      <th>물품대분류</th>\n",
       "      <th>Datetime</th>\n",
       "      <th>Year</th>\n",
       "      <th>Month</th>\n",
       "      <th>Week</th>\n",
       "      <th>Day of Week</th>\n",
       "    </tr>\n",
       "  </thead>\n",
       "  <tbody>\n",
       "    <tr>\n",
       "      <th>0</th>\n",
       "      <td>2018-04-20</td>\n",
       "      <td>57120</td>\n",
       "      <td>기저귀</td>\n",
       "      <td>2018-04-20</td>\n",
       "      <td>2018</td>\n",
       "      <td>4</td>\n",
       "      <td>16</td>\n",
       "      <td>Friday</td>\n",
       "    </tr>\n",
       "    <tr>\n",
       "      <th>1</th>\n",
       "      <td>2018-04-20</td>\n",
       "      <td>15900</td>\n",
       "      <td>더블하트</td>\n",
       "      <td>2018-04-20</td>\n",
       "      <td>2018</td>\n",
       "      <td>4</td>\n",
       "      <td>16</td>\n",
       "      <td>Friday</td>\n",
       "    </tr>\n",
       "    <tr>\n",
       "      <th>2</th>\n",
       "      <td>2018-04-20</td>\n",
       "      <td>7000</td>\n",
       "      <td>더블하트</td>\n",
       "      <td>2018-04-20</td>\n",
       "      <td>2018</td>\n",
       "      <td>4</td>\n",
       "      <td>16</td>\n",
       "      <td>Friday</td>\n",
       "    </tr>\n",
       "    <tr>\n",
       "      <th>3</th>\n",
       "      <td>2018-04-20</td>\n",
       "      <td>20900</td>\n",
       "      <td>더블하트</td>\n",
       "      <td>2018-04-20</td>\n",
       "      <td>2018</td>\n",
       "      <td>4</td>\n",
       "      <td>16</td>\n",
       "      <td>Friday</td>\n",
       "    </tr>\n",
       "    <tr>\n",
       "      <th>4</th>\n",
       "      <td>2018-05-06</td>\n",
       "      <td>26500</td>\n",
       "      <td>더블하트</td>\n",
       "      <td>2018-05-06</td>\n",
       "      <td>2018</td>\n",
       "      <td>5</td>\n",
       "      <td>18</td>\n",
       "      <td>Sunday</td>\n",
       "    </tr>\n",
       "  </tbody>\n",
       "</table>\n",
       "</div>"
      ],
      "text/plain": [
       "          구매일   구매금액 물품대분류   Datetime  Year  Month  Week Day of Week\n",
       "0  2018-04-20  57120   기저귀 2018-04-20  2018      4    16      Friday\n",
       "1  2018-04-20  15900  더블하트 2018-04-20  2018      4    16      Friday\n",
       "2  2018-04-20   7000  더블하트 2018-04-20  2018      4    16      Friday\n",
       "3  2018-04-20  20900  더블하트 2018-04-20  2018      4    16      Friday\n",
       "4  2018-05-06  26500  더블하트 2018-05-06  2018      5    18      Sunday"
      ]
     },
     "execution_count": 8,
     "metadata": {},
     "output_type": "execute_result"
    }
   ],
   "source": [
    "# 출력해보면...\n",
    "df1.head()"
   ]
  },
  {
   "cell_type": "markdown",
   "id": "7d71464e",
   "metadata": {},
   "source": [
    "### Part.2"
   ]
  },
  {
   "cell_type": "code",
   "execution_count": 9,
   "id": "ce5b254f",
   "metadata": {},
   "outputs": [
    {
     "data": {
      "text/plain": [
       "<AxesSubplot:xlabel='Datetime', ylabel='구매금액'>"
      ]
     },
     "execution_count": 9,
     "metadata": {},
     "output_type": "execute_result"
    },
    {
     "data": {
      "image/png": "[encoded data removed]",
      "text/plain": [
       "<Figure size 432x288 with 1 Axes>"
      ]
     },
     "metadata": {
      "needs_background": "light"
     },
     "output_type": "display_data"
    }
   ],
   "source": [
    "# Time Data를 그래프로 출력할 때는 2가지를 보통 사용\n",
    "# 2가지는 보통 lineplot 아니면 pointplot\n",
    "sns.lineplot(data=df1, x='Datetime', y='구매금액')"
   ]
  },
  {
   "cell_type": "markdown",
   "id": "d3620269",
   "metadata": {},
   "source": [
    "#### 상기의 그래프는 '구매일'에 발생한 '구매금액'의 '평균값'을 출력해버림.\n",
    "    * lineplot의 estimator 설정을 하지 않았기 때문임."
   ]
  },
  {
   "cell_type": "code",
   "execution_count": 10,
   "id": "fdd185de",
   "metadata": {},
   "outputs": [
    {
     "data": {
      "text/plain": [
       "<AxesSubplot:xlabel='Datetime', ylabel='구매금액'>"
      ]
     },
     "execution_count": 10,
     "metadata": {},
     "output_type": "execute_result"
    },
    {
     "data": {
      "image/png": "[encoded data removed]",
      "text/plain": [
       "<Figure size 432x288 with 1 Axes>"
      ]
     },
     "metadata": {
      "needs_background": "light"
     },
     "output_type": "display_data"
    }
   ],
   "source": [
    "# estimator 를 sum 으로 설정하면\n",
    "sns.lineplot(data=df1, x='Datetime', y='구매금액', estimator=sum)\n",
    "\n",
    "# 80만 개의 데이터를 합하다 보니 시간이 오래 걸림"
   ]
  },
  {
   "cell_type": "code",
   "execution_count": 11,
   "id": "47eb43fd",
   "metadata": {},
   "outputs": [],
   "source": [
    "# sns.lineplot으로 해도 되지만, 피봇팅을 하면 조금 더 수월할 것임.\n",
    "# 피봇팅이란? = 쉽게 말해, Pandas 데이터프레임을 재배치(ex: 행->열)하는 것\n",
    "pv1 = pd.pivot_table(data=df1, \n",
    "               index='Datetime', values='구매금액', \n",
    "               aggfunc='sum').reset_index()"
   ]
  },
  {
   "cell_type": "code",
   "execution_count": 12,
   "id": "0650abeb",
   "metadata": {},
   "outputs": [
    {
     "data": {
      "text/html": [
       "<div>\n",
       "<style scoped>\n",
       "    .dataframe tbody tr th:only-of-type {\n",
       "        vertical-align: middle;\n",
       "    }\n",
       "\n",
       "    .dataframe tbody tr th {\n",
       "        vertical-align: top;\n",
       "    }\n",
       "\n",
       "    .dataframe thead th {\n",
       "        text-align: right;\n",
       "    }\n",
       "</style>\n",
       "<table border=\"1\" class=\"dataframe\">\n",
       "  <thead>\n",
       "    <tr style=\"text-align: right;\">\n",
       "      <th></th>\n",
       "      <th>Datetime</th>\n",
       "      <th>구매금액</th>\n",
       "    </tr>\n",
       "  </thead>\n",
       "  <tbody>\n",
       "    <tr>\n",
       "      <th>0</th>\n",
       "      <td>2018-04-20</td>\n",
       "      <td>100920</td>\n",
       "    </tr>\n",
       "    <tr>\n",
       "      <th>1</th>\n",
       "      <td>2018-05-06</td>\n",
       "      <td>26500</td>\n",
       "    </tr>\n",
       "    <tr>\n",
       "      <th>2</th>\n",
       "      <td>2018-05-14</td>\n",
       "      <td>20600</td>\n",
       "    </tr>\n",
       "    <tr>\n",
       "      <th>3</th>\n",
       "      <td>2018-08-12</td>\n",
       "      <td>75700</td>\n",
       "    </tr>\n",
       "    <tr>\n",
       "      <th>4</th>\n",
       "      <td>2018-09-01</td>\n",
       "      <td>48300</td>\n",
       "    </tr>\n",
       "    <tr>\n",
       "      <th>...</th>\n",
       "      <td>...</td>\n",
       "      <td>...</td>\n",
       "    </tr>\n",
       "    <tr>\n",
       "      <th>584</th>\n",
       "      <td>2020-08-03</td>\n",
       "      <td>27560340</td>\n",
       "    </tr>\n",
       "    <tr>\n",
       "      <th>585</th>\n",
       "      <td>2020-08-04</td>\n",
       "      <td>31832500</td>\n",
       "    </tr>\n",
       "    <tr>\n",
       "      <th>586</th>\n",
       "      <td>2020-08-05</td>\n",
       "      <td>27683180</td>\n",
       "    </tr>\n",
       "    <tr>\n",
       "      <th>587</th>\n",
       "      <td>2020-08-06</td>\n",
       "      <td>22574070</td>\n",
       "    </tr>\n",
       "    <tr>\n",
       "      <th>588</th>\n",
       "      <td>2020-08-07</td>\n",
       "      <td>12099370</td>\n",
       "    </tr>\n",
       "  </tbody>\n",
       "</table>\n",
       "<p>589 rows × 2 columns</p>\n",
       "</div>"
      ],
      "text/plain": [
       "      Datetime      구매금액\n",
       "0   2018-04-20    100920\n",
       "1   2018-05-06     26500\n",
       "2   2018-05-14     20600\n",
       "3   2018-08-12     75700\n",
       "4   2018-09-01     48300\n",
       "..         ...       ...\n",
       "584 2020-08-03  27560340\n",
       "585 2020-08-04  31832500\n",
       "586 2020-08-05  27683180\n",
       "587 2020-08-06  22574070\n",
       "588 2020-08-07  12099370\n",
       "\n",
       "[589 rows x 2 columns]"
      ]
     },
     "execution_count": 12,
     "metadata": {},
     "output_type": "execute_result"
    }
   ],
   "source": [
    "pv1"
   ]
  },
  {
   "cell_type": "code",
   "execution_count": 13,
   "id": "ef571d61",
   "metadata": {},
   "outputs": [
    {
     "data": {
      "text/plain": [
       "<AxesSubplot:xlabel='Datetime', ylabel='구매금액'>"
      ]
     },
     "execution_count": 13,
     "metadata": {},
     "output_type": "execute_result"
    },
    {
     "data": {
      "image/png": "[encoded data removed]",
      "text/plain": [
       "<Figure size 432x288 with 1 Axes>"
      ]
     },
     "metadata": {
      "needs_background": "light"
     },
     "output_type": "display_data"
    }
   ],
   "source": [
    "sns.lineplot(data=pv1, x='Datetime', y='구매금액')"
   ]
  },
  {
   "cell_type": "code",
   "execution_count": 14,
   "id": "c183e5ce",
   "metadata": {},
   "outputs": [
    {
     "data": {
      "text/html": [
       "<div>\n",
       "<style scoped>\n",
       "    .dataframe tbody tr th:only-of-type {\n",
       "        vertical-align: middle;\n",
       "    }\n",
       "\n",
       "    .dataframe tbody tr th {\n",
       "        vertical-align: top;\n",
       "    }\n",
       "\n",
       "    .dataframe thead th {\n",
       "        text-align: right;\n",
       "    }\n",
       "</style>\n",
       "<table border=\"1\" class=\"dataframe\">\n",
       "  <thead>\n",
       "    <tr style=\"text-align: right;\">\n",
       "      <th></th>\n",
       "      <th>Datetime</th>\n",
       "      <th>물품대분류</th>\n",
       "      <th>구매금액</th>\n",
       "    </tr>\n",
       "  </thead>\n",
       "  <tbody>\n",
       "    <tr>\n",
       "      <th>0</th>\n",
       "      <td>2018-04-20</td>\n",
       "      <td>기저귀</td>\n",
       "      <td>57120</td>\n",
       "    </tr>\n",
       "    <tr>\n",
       "      <th>1</th>\n",
       "      <td>2018-04-20</td>\n",
       "      <td>더블하트</td>\n",
       "      <td>43800</td>\n",
       "    </tr>\n",
       "    <tr>\n",
       "      <th>2</th>\n",
       "      <td>2018-05-06</td>\n",
       "      <td>더블하트</td>\n",
       "      <td>26500</td>\n",
       "    </tr>\n",
       "    <tr>\n",
       "      <th>3</th>\n",
       "      <td>2018-05-14</td>\n",
       "      <td>FC</td>\n",
       "      <td>20600</td>\n",
       "    </tr>\n",
       "    <tr>\n",
       "      <th>4</th>\n",
       "      <td>2018-08-12</td>\n",
       "      <td>더블하트</td>\n",
       "      <td>75700</td>\n",
       "    </tr>\n",
       "    <tr>\n",
       "      <th>...</th>\n",
       "      <td>...</td>\n",
       "      <td>...</td>\n",
       "      <td>...</td>\n",
       "    </tr>\n",
       "    <tr>\n",
       "      <th>5241</th>\n",
       "      <td>2020-08-07</td>\n",
       "      <td>기타</td>\n",
       "      <td>182400</td>\n",
       "    </tr>\n",
       "    <tr>\n",
       "      <th>5242</th>\n",
       "      <td>2020-08-07</td>\n",
       "      <td>더블하트</td>\n",
       "      <td>408480</td>\n",
       "    </tr>\n",
       "    <tr>\n",
       "      <th>5243</th>\n",
       "      <td>2020-08-07</td>\n",
       "      <td>물티슈</td>\n",
       "      <td>100300</td>\n",
       "    </tr>\n",
       "    <tr>\n",
       "      <th>5244</th>\n",
       "      <td>2020-08-07</td>\n",
       "      <td>체험팩</td>\n",
       "      <td>112050</td>\n",
       "    </tr>\n",
       "    <tr>\n",
       "      <th>5245</th>\n",
       "      <td>2020-08-07</td>\n",
       "      <td>팬티</td>\n",
       "      <td>9299580</td>\n",
       "    </tr>\n",
       "  </tbody>\n",
       "</table>\n",
       "<p>5246 rows × 3 columns</p>\n",
       "</div>"
      ],
      "text/plain": [
       "       Datetime 물품대분류     구매금액\n",
       "0    2018-04-20   기저귀    57120\n",
       "1    2018-04-20  더블하트    43800\n",
       "2    2018-05-06  더블하트    26500\n",
       "3    2018-05-14    FC    20600\n",
       "4    2018-08-12  더블하트    75700\n",
       "...         ...   ...      ...\n",
       "5241 2020-08-07    기타   182400\n",
       "5242 2020-08-07  더블하트   408480\n",
       "5243 2020-08-07   물티슈   100300\n",
       "5244 2020-08-07   체험팩   112050\n",
       "5245 2020-08-07    팬티  9299580\n",
       "\n",
       "[5246 rows x 3 columns]"
      ]
     },
     "execution_count": 14,
     "metadata": {},
     "output_type": "execute_result"
    }
   ],
   "source": [
    "pv2 = pd.pivot_table(data=df1,\n",
    "                    index=['Datetime', '물품대분류'],\n",
    "                    values='구매금액', aggfunc='sum').reset_index()\n",
    "pv2"
   ]
  },
  {
   "cell_type": "code",
   "execution_count": 15,
   "id": "f76244ee",
   "metadata": {},
   "outputs": [
    {
     "data": {
      "text/plain": [
       "<AxesSubplot:xlabel='Datetime', ylabel='구매금액'>"
      ]
     },
     "execution_count": 15,
     "metadata": {},
     "output_type": "execute_result"
    },
    {
     "data": {
      "image/png": "[encoded data removed]",
      "text/plain": [
       "<Figure size 432x288 with 1 Axes>"
      ]
     },
     "metadata": {
      "needs_background": "light"
     },
     "output_type": "display_data"
    }
   ],
   "source": [
    "# hue의 역할: 색상으로 범주 표현(legend의 역할+색상)\n",
    "sns.lineplot(data=pv2, x='Datetime', y='구매금액', hue='물품대분류')"
   ]
  },
  {
   "cell_type": "code",
   "execution_count": 16,
   "id": "3f1ce4f8",
   "metadata": {},
   "outputs": [
    {
     "data": {
      "text/html": [
       "<div>\n",
       "<style scoped>\n",
       "    .dataframe tbody tr th:only-of-type {\n",
       "        vertical-align: middle;\n",
       "    }\n",
       "\n",
       "    .dataframe tbody tr th {\n",
       "        vertical-align: top;\n",
       "    }\n",
       "\n",
       "    .dataframe thead th {\n",
       "        text-align: right;\n",
       "    }\n",
       "</style>\n",
       "<table border=\"1\" class=\"dataframe\">\n",
       "  <thead>\n",
       "    <tr style=\"text-align: right;\">\n",
       "      <th></th>\n",
       "      <th>구매일</th>\n",
       "      <th>구매금액</th>\n",
       "      <th>물품대분류</th>\n",
       "      <th>Datetime</th>\n",
       "      <th>Year</th>\n",
       "      <th>Month</th>\n",
       "      <th>Week</th>\n",
       "      <th>Day of Week</th>\n",
       "    </tr>\n",
       "  </thead>\n",
       "  <tbody>\n",
       "    <tr>\n",
       "      <th>0</th>\n",
       "      <td>2018-04-20</td>\n",
       "      <td>57120</td>\n",
       "      <td>기저귀</td>\n",
       "      <td>2018-04-20</td>\n",
       "      <td>2018</td>\n",
       "      <td>4</td>\n",
       "      <td>16</td>\n",
       "      <td>Friday</td>\n",
       "    </tr>\n",
       "    <tr>\n",
       "      <th>29</th>\n",
       "      <td>2019-05-13</td>\n",
       "      <td>59520</td>\n",
       "      <td>기저귀</td>\n",
       "      <td>2019-05-13</td>\n",
       "      <td>2019</td>\n",
       "      <td>5</td>\n",
       "      <td>20</td>\n",
       "      <td>Monday</td>\n",
       "    </tr>\n",
       "    <tr>\n",
       "      <th>30</th>\n",
       "      <td>2019-05-10</td>\n",
       "      <td>50640</td>\n",
       "      <td>기저귀</td>\n",
       "      <td>2019-05-10</td>\n",
       "      <td>2019</td>\n",
       "      <td>5</td>\n",
       "      <td>19</td>\n",
       "      <td>Friday</td>\n",
       "    </tr>\n",
       "    <tr>\n",
       "      <th>31</th>\n",
       "      <td>2019-06-06</td>\n",
       "      <td>50640</td>\n",
       "      <td>기저귀</td>\n",
       "      <td>2019-06-06</td>\n",
       "      <td>2019</td>\n",
       "      <td>6</td>\n",
       "      <td>23</td>\n",
       "      <td>Thursday</td>\n",
       "    </tr>\n",
       "    <tr>\n",
       "      <th>32</th>\n",
       "      <td>2019-07-01</td>\n",
       "      <td>50640</td>\n",
       "      <td>기저귀</td>\n",
       "      <td>2019-07-01</td>\n",
       "      <td>2019</td>\n",
       "      <td>7</td>\n",
       "      <td>27</td>\n",
       "      <td>Monday</td>\n",
       "    </tr>\n",
       "    <tr>\n",
       "      <th>...</th>\n",
       "      <td>...</td>\n",
       "      <td>...</td>\n",
       "      <td>...</td>\n",
       "      <td>...</td>\n",
       "      <td>...</td>\n",
       "      <td>...</td>\n",
       "      <td>...</td>\n",
       "      <td>...</td>\n",
       "    </tr>\n",
       "    <tr>\n",
       "      <th>803578</th>\n",
       "      <td>2020-06-25</td>\n",
       "      <td>43400</td>\n",
       "      <td>기저귀</td>\n",
       "      <td>2020-06-25</td>\n",
       "      <td>2020</td>\n",
       "      <td>6</td>\n",
       "      <td>26</td>\n",
       "      <td>Thursday</td>\n",
       "    </tr>\n",
       "    <tr>\n",
       "      <th>803602</th>\n",
       "      <td>2020-06-26</td>\n",
       "      <td>43400</td>\n",
       "      <td>기저귀</td>\n",
       "      <td>2020-06-26</td>\n",
       "      <td>2020</td>\n",
       "      <td>6</td>\n",
       "      <td>26</td>\n",
       "      <td>Friday</td>\n",
       "    </tr>\n",
       "    <tr>\n",
       "      <th>803610</th>\n",
       "      <td>2020-06-28</td>\n",
       "      <td>49900</td>\n",
       "      <td>기저귀</td>\n",
       "      <td>2020-06-28</td>\n",
       "      <td>2020</td>\n",
       "      <td>6</td>\n",
       "      <td>26</td>\n",
       "      <td>Sunday</td>\n",
       "    </tr>\n",
       "    <tr>\n",
       "      <th>803631</th>\n",
       "      <td>2020-07-09</td>\n",
       "      <td>49900</td>\n",
       "      <td>기저귀</td>\n",
       "      <td>2020-07-09</td>\n",
       "      <td>2020</td>\n",
       "      <td>7</td>\n",
       "      <td>28</td>\n",
       "      <td>Thursday</td>\n",
       "    </tr>\n",
       "    <tr>\n",
       "      <th>803632</th>\n",
       "      <td>2020-07-25</td>\n",
       "      <td>49900</td>\n",
       "      <td>기저귀</td>\n",
       "      <td>2020-07-25</td>\n",
       "      <td>2020</td>\n",
       "      <td>7</td>\n",
       "      <td>30</td>\n",
       "      <td>Saturday</td>\n",
       "    </tr>\n",
       "  </tbody>\n",
       "</table>\n",
       "<p>141481 rows × 8 columns</p>\n",
       "</div>"
      ],
      "text/plain": [
       "               구매일   구매금액 물품대분류   Datetime  Year  Month  Week Day of Week\n",
       "0       2018-04-20  57120   기저귀 2018-04-20  2018      4    16      Friday\n",
       "29      2019-05-13  59520   기저귀 2019-05-13  2019      5    20      Monday\n",
       "30      2019-05-10  50640   기저귀 2019-05-10  2019      5    19      Friday\n",
       "31      2019-06-06  50640   기저귀 2019-06-06  2019      6    23    Thursday\n",
       "32      2019-07-01  50640   기저귀 2019-07-01  2019      7    27      Monday\n",
       "...            ...    ...   ...        ...   ...    ...   ...         ...\n",
       "803578  2020-06-25  43400   기저귀 2020-06-25  2020      6    26    Thursday\n",
       "803602  2020-06-26  43400   기저귀 2020-06-26  2020      6    26      Friday\n",
       "803610  2020-06-28  49900   기저귀 2020-06-28  2020      6    26      Sunday\n",
       "803631  2020-07-09  49900   기저귀 2020-07-09  2020      7    28    Thursday\n",
       "803632  2020-07-25  49900   기저귀 2020-07-25  2020      7    30    Saturday\n",
       "\n",
       "[141481 rows x 8 columns]"
      ]
     },
     "execution_count": 16,
     "metadata": {},
     "output_type": "execute_result"
    }
   ],
   "source": [
    "# 특정 품목만 뽑아서 트렌드 보기 (White Noise 생각하기)\n",
    "cond1 = df1['물품대분류'] == '기저귀'\n",
    "df1.loc[cond1]"
   ]
  },
  {
   "cell_type": "code",
   "execution_count": 17,
   "id": "3f5a6d41",
   "metadata": {},
   "outputs": [
    {
     "data": {
      "text/html": [
       "<div>\n",
       "<style scoped>\n",
       "    .dataframe tbody tr th:only-of-type {\n",
       "        vertical-align: middle;\n",
       "    }\n",
       "\n",
       "    .dataframe tbody tr th {\n",
       "        vertical-align: top;\n",
       "    }\n",
       "\n",
       "    .dataframe thead th {\n",
       "        text-align: right;\n",
       "    }\n",
       "</style>\n",
       "<table border=\"1\" class=\"dataframe\">\n",
       "  <thead>\n",
       "    <tr style=\"text-align: right;\">\n",
       "      <th></th>\n",
       "      <th>구매일</th>\n",
       "      <th>구매금액</th>\n",
       "      <th>물품대분류</th>\n",
       "      <th>Datetime</th>\n",
       "      <th>Year</th>\n",
       "      <th>Month</th>\n",
       "      <th>Week</th>\n",
       "      <th>Day of Week</th>\n",
       "    </tr>\n",
       "  </thead>\n",
       "  <tbody>\n",
       "    <tr>\n",
       "      <th>29</th>\n",
       "      <td>2019-05-13</td>\n",
       "      <td>59520</td>\n",
       "      <td>기저귀</td>\n",
       "      <td>2019-05-13</td>\n",
       "      <td>2019</td>\n",
       "      <td>5</td>\n",
       "      <td>20</td>\n",
       "      <td>Monday</td>\n",
       "    </tr>\n",
       "    <tr>\n",
       "      <th>30</th>\n",
       "      <td>2019-05-10</td>\n",
       "      <td>50640</td>\n",
       "      <td>기저귀</td>\n",
       "      <td>2019-05-10</td>\n",
       "      <td>2019</td>\n",
       "      <td>5</td>\n",
       "      <td>19</td>\n",
       "      <td>Friday</td>\n",
       "    </tr>\n",
       "    <tr>\n",
       "      <th>31</th>\n",
       "      <td>2019-06-06</td>\n",
       "      <td>50640</td>\n",
       "      <td>기저귀</td>\n",
       "      <td>2019-06-06</td>\n",
       "      <td>2019</td>\n",
       "      <td>6</td>\n",
       "      <td>23</td>\n",
       "      <td>Thursday</td>\n",
       "    </tr>\n",
       "    <tr>\n",
       "      <th>32</th>\n",
       "      <td>2019-07-01</td>\n",
       "      <td>50640</td>\n",
       "      <td>기저귀</td>\n",
       "      <td>2019-07-01</td>\n",
       "      <td>2019</td>\n",
       "      <td>7</td>\n",
       "      <td>27</td>\n",
       "      <td>Monday</td>\n",
       "    </tr>\n",
       "    <tr>\n",
       "      <th>33</th>\n",
       "      <td>2019-07-29</td>\n",
       "      <td>101280</td>\n",
       "      <td>기저귀</td>\n",
       "      <td>2019-07-29</td>\n",
       "      <td>2019</td>\n",
       "      <td>7</td>\n",
       "      <td>31</td>\n",
       "      <td>Monday</td>\n",
       "    </tr>\n",
       "  </tbody>\n",
       "</table>\n",
       "</div>"
      ],
      "text/plain": [
       "           구매일    구매금액 물품대분류   Datetime  Year  Month  Week Day of Week\n",
       "29  2019-05-13   59520   기저귀 2019-05-13  2019      5    20      Monday\n",
       "30  2019-05-10   50640   기저귀 2019-05-10  2019      5    19      Friday\n",
       "31  2019-06-06   50640   기저귀 2019-06-06  2019      6    23    Thursday\n",
       "32  2019-07-01   50640   기저귀 2019-07-01  2019      7    27      Monday\n",
       "33  2019-07-29  101280   기저귀 2019-07-29  2019      7    31      Monday"
      ]
     },
     "execution_count": 17,
     "metadata": {},
     "output_type": "execute_result"
    }
   ],
   "source": [
    "# 2018자료 빼기\n",
    "cond1 = df1['물품대분류'] == '기저귀'\n",
    "df2 = df1.loc[cond1].iloc[1:]\n",
    "df2.head()"
   ]
  },
  {
   "cell_type": "code",
   "execution_count": null,
   "id": "df33b5b2",
   "metadata": {},
   "outputs": [],
   "source": []
  }
 ],
 "metadata": {
  "kernelspec": {
   "display_name": "Python 3 (ipykernel)",
   "language": "python",
   "name": "python3"
  },
  "language_info": {
   "codemirror_mode": {
    "name": "ipython",
    "version": 3
   },
   "file_extension": ".py",
   "mimetype": "text/x-python",
   "name": "python",
   "nbconvert_exporter": "python",
   "pygments_lexer": "ipython3",
   "version": "3.9.12"
  }
 },
 "nbformat": 4,
 "nbformat_minor": 5
}
