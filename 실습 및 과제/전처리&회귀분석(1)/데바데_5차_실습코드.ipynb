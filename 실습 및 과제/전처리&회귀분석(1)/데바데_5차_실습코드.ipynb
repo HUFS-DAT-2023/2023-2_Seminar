{
 "cells": [
  {
   "cell_type": "code",
   "execution_count": null,
   "id": "eec08931",
   "metadata": {},
   "outputs": [],
   "source": [
    "#10 - 1 대통령 연설문 텍스트 마이닝\n",
    "# 가장 많이 사용된 단어 알아보기\n",
    "#1. 연설문 불러오기\n",
    "moon = open('speech_moon.txt', encoding = 'UTF-8').read()\n",
    "moon"
   ]
  },
  {
   "cell_type": "code",
   "execution_count": null,
   "id": "aa590778",
   "metadata": {},
   "outputs": [],
   "source": [
    "#2. 불필요한 문자 제거하기\n",
    "# 문자 처리 패키지인 re의 sub()을 이용해 한글이 아닌 모든 문자를 공백으로 바꾼다\n",
    "import re\n",
    "moon = re.sub('[^가-힣]', ' ', moon)\n",
    "moon\n",
    "\n",
    "#[^가-힣]: 한글이 아닌 모든 문자를 의미하는 정규 표현식"
   ]
  },
  {
   "cell_type": "code",
   "execution_count": null,
   "id": "da04b378",
   "metadata": {},
   "outputs": [],
   "source": [
    "#3. 명사 추출하기\n",
    "#konlpy.tag.Hannanum()의 nouns()를 이용해 문장에서 명사 추출 가능하다.\n",
    "\n",
    "#hannanum 만들기\n",
    "import konlpy\n",
    "hannanum = konlpy.tag.Hannanum()\n",
    "\n",
    "#명사 추출하기 ex)\n",
    "hannanum.nouns(\"대한민국의 영토는 한반도와 그 부속도서로 한다\")"
   ]
  },
  {
   "cell_type": "code",
   "execution_count": null,
   "id": "c1cca13c",
   "metadata": {},
   "outputs": [],
   "source": [
    "#연설문에서 명사 추출하기\n",
    "nouns = hannanum.nouns(moon)\n",
    "nouns"
   ]
  },
  {
   "cell_type": "code",
   "execution_count": null,
   "id": "4078438d",
   "metadata": {},
   "outputs": [],
   "source": [
    "#data frame으로 변경\n",
    "import pandas as pd\n",
    "df_word = pd.DataFrame({'word' : nouns})\n",
    "df_word"
   ]
  },
  {
   "cell_type": "code",
   "execution_count": null,
   "id": "1f09f013",
   "metadata": {},
   "outputs": [],
   "source": [
    "#4. 단어 빈도표 만들기\n",
    "# 한 글자로 된 단어는 의미가 없는 경우가 많아서 제거하기로 했다. pd.str.len()을 이용해 단어의 글자 수를 나타낸 변수를 추가한 다음 두 글자 이상인 단어만 추출하면 된다.\n",
    "\n",
    "df_word['count'] = df_word['word'].str.len()\n",
    "df_word\n",
    "#count 변수 추가"
   ]
  },
  {
   "cell_type": "code",
   "execution_count": null,
   "id": "ef9d58fc",
   "metadata": {},
   "outputs": [],
   "source": [
    "#두 글자 이상인 단어만 남기기\n",
    "df_word = df_word.query('count>= 2')\n",
    "df_word.sort_values('count')"
   ]
  },
  {
   "cell_type": "code",
   "execution_count": null,
   "id": "159f6769",
   "metadata": {},
   "outputs": [],
   "source": [
    "#단어의 사용 빈도를 구하고 빈도순으로 정렬\n",
    "\n",
    "#단어 빈도 구하기\n",
    "df_word = df_word.groupby('word', as_index = False).agg(n = ('word', 'count')).sort_values('n', ascending = False)\n",
    "#단어별 분리 #빈도 구하기\n",
    "df_word"
   ]
  },
  {
   "cell_type": "code",
   "execution_count": null,
   "id": "de5310e2",
   "metadata": {},
   "outputs": [],
   "source": [
    "#5. 단어 빈도 막대 그래프 만들기\n",
    "#단어 빈도 상위 20개 추출\n",
    "top20 = df_word.head(20)\n",
    "top20"
   ]
  },
  {
   "cell_type": "code",
   "execution_count": null,
   "id": "f47249fe",
   "metadata": {},
   "outputs": [],
   "source": [
    "import seaborn as sns\n",
    "import matplotlib.pyplot as plt\n",
    "\n",
    "plt.rcParams['font.family'] = 'AppleGothic'\n",
    "print(plt.rcParams['font.family'])\n",
    "\n",
    "plt.rcParams.update({'font.family' : 'AppleGothic', #한글 폰트\n",
    "                   'figure.dpi' : '120', #해상도\n",
    "                   'figure.figsize' : [6.5, 6]}) # 가로 세로 크기\n",
    "\n",
    "sns.barplot(data = top20, y = 'word', x = 'n')"
   ]
  },
  {
   "cell_type": "code",
   "execution_count": null,
   "id": "149a9f89",
   "metadata": {},
   "outputs": [],
   "source": [
    "#워드 클라우드 만들기\n",
    "#2. 폰트 설정 - 배민 도현체\n",
    "font = 'Dohyeon-Regular.ttf'"
   ]
  },
  {
   "cell_type": "code",
   "execution_count": null,
   "id": "0dc47c20",
   "metadata": {},
   "outputs": [],
   "source": [
    "#3. 단어와 빈도를 담은 딕셔너리 만들기\n",
    "#데이터 프레임을 딕셔너리화해준다.\n",
    "dic_word = df_word.set_index('word').to_dict()['n']\n",
    "dic_word"
   ]
  },
  {
   "cell_type": "code",
   "execution_count": null,
   "id": "384ff57b",
   "metadata": {},
   "outputs": [],
   "source": [
    "#4. 워드 클라우드 만들기\n",
    "from wordcloud import WordCloud\n",
    "wc = WordCloud(random_state = 1234,       # 난수 고정  \n",
    "              font_path = font,           # 폰트 설정\n",
    "              width = 400,                # 가로 크기\n",
    "              height = 400,               # 세로 크기 \n",
    "              background_color = 'white') # 배경색"
   ]
  },
  {
   "cell_type": "code",
   "execution_count": null,
   "id": "a28052a7",
   "metadata": {},
   "outputs": [],
   "source": [
    "#워드 클라우드 만들기\n",
    "img_wordcloud = wc.generate_from_frequencies(dic_word)\n",
    "\n",
    "#워드 클라우드 출력하기\n",
    "plt.figure(figsize = (10,10)) #가로 세로 크기 설정\n",
    "plt.axis('off') #테두리 선 없애기\n",
    "plt.imshow(img_wordcloud)"
   ]
  },
  {
   "cell_type": "code",
   "execution_count": null,
   "id": "4719f2db",
   "metadata": {},
   "outputs": [],
   "source": [
    "#5.  워드 클라우드 모양 바꾸기\n",
    "import PIL\n",
    "icon = PIL.Image.open('cloud.png')"
   ]
  },
  {
   "cell_type": "code",
   "execution_count": null,
   "id": "cbf27588",
   "metadata": {},
   "outputs": [],
   "source": [
    "import numpy as np\n",
    "img = PIL.Image.new('RGB', icon.size, (255, 255, 255))\n",
    "img.paste(icon, icon)\n",
    "img = np.array(img)"
   ]
  },
  {
   "cell_type": "code",
   "execution_count": null,
   "id": "0ece1b07",
   "metadata": {},
   "outputs": [],
   "source": [
    "#워드 클라우드 만들기\n",
    "wc = WordCloud(random_state = 1234,       # 난수 고정  \n",
    "              font_path = font,           # 폰트 설정\n",
    "              width = 400,                # 가로 크기\n",
    "              height = 400,               # 세로 크기 \n",
    "              background_color = 'white', # 배경색\n",
    "              mask = img)                 # mask 설정          "
   ]
  },
  {
   "cell_type": "code",
   "execution_count": null,
   "id": "217af8ae",
   "metadata": {},
   "outputs": [],
   "source": [
    "img_wordcloud = wc.generate_from_frequencies(dic_word)\n",
    "\n",
    "plt.figure(figsize = (10,10))    #가로 세로 크기 설정\n",
    "plt.axis('off')                  #테두리 선 없애기\n",
    "plt.imshow(img_wordcloud)        #워드 클라우드 출력"
   ]
  },
  {
   "cell_type": "code",
   "execution_count": null,
   "id": "1f42f9e4",
   "metadata": {},
   "outputs": [],
   "source": [
    "#6. 워드 클라우드 색깔 바꾸기 \n",
    "\n",
    "wc = WordCloud(random_state = 1234,       # 난수 고정  \n",
    "              font_path = font,           # 폰트 설정\n",
    "              width = 400,                # 가로 크기\n",
    "              height = 400,               # 세로 크기 \n",
    "              background_color = 'white', # 배경색\n",
    "              mask = img,                 # mask 설정       \n",
    "              colormap = 'inferno')       # 컬러맵 설정                     "
   ]
  },
  {
   "cell_type": "code",
   "execution_count": null,
   "id": "d8c0f6d1",
   "metadata": {},
   "outputs": [],
   "source": [
    "img_wordcloud = wc.generate_from_frequencies(dic_word)\n",
    "\n",
    "#워드 클라우드 출력하기\n",
    "plt.figure(figsize = (10,10))    #가로 세로 크기 설정\n",
    "plt.axis('off')                  #테두리 선 없애기\n",
    "plt.imshow(img_wordcloud)        #워드 클라우드 출력"
   ]
  },
  {
   "cell_type": "code",
   "execution_count": null,
   "id": "5d8bdcdf",
   "metadata": {},
   "outputs": [],
   "source": [
    "#10 - 2 기사 댓글 텍스트 마이닝\n",
    "\n",
    "#1. 가장 많이 사용된 단어 알아보기 \n",
    "\n",
    "#데이터 불러오기\n",
    "df = pd.read_csv('news_comment_BTS.csv', encoding = 'UTF-8')\n",
    "\n",
    "df.info()"
   ]
  },
  {
   "cell_type": "code",
   "execution_count": null,
   "id": "31e95eea",
   "metadata": {},
   "outputs": [],
   "source": [
    "#불필요한 문자 제거하기\n",
    "#reply = 댓글\n",
    "df['reply'] = df['reply'].str.replace('[^가-힣]', ' ',regex = True)\n",
    "df['reply'].head()"
   ]
  },
  {
   "cell_type": "code",
   "execution_count": null,
   "id": "9c0bbf11",
   "metadata": {},
   "outputs": [],
   "source": [
    "#명사 추출하기\n",
    "#꼬꼬마 형태소 분석기\n",
    "kkma = konlpy.tag.Kkma()"
   ]
  },
  {
   "cell_type": "code",
   "execution_count": null,
   "id": "649c89f8",
   "metadata": {},
   "outputs": [],
   "source": [
    "#명사 추출- apply()활용\n",
    "nouns = df['reply'].apply(kkma.nouns)\n",
    "nouns"
   ]
  },
  {
   "cell_type": "code",
   "execution_count": null,
   "id": "2676100e",
   "metadata": {},
   "outputs": [],
   "source": [
    "#단어 빈도표 만들기\n",
    "# 한 행에 한 단어가 들어가도록 구성\n",
    "nouns = nouns.explode()\n",
    "nouns"
   ]
  },
  {
   "cell_type": "code",
   "execution_count": null,
   "id": "28466a98",
   "metadata": {},
   "outputs": [],
   "source": [
    "#데이터 프레임 만들기\n",
    "df_word = pd.DataFrame({'word':nouns})\n",
    "\n",
    "#글자 수 추가\n",
    "df_word['count'] = df_word['word'].str.len()\n",
    "\n",
    "#두 글자 이상 단어만 남기기\n",
    "df_word = df_word.query('count >= 2')\n",
    "df_word"
   ]
  },
  {
   "cell_type": "code",
   "execution_count": null,
   "id": "5eab1139",
   "metadata": {},
   "outputs": [],
   "source": [
    "#빈도표 만들기\n",
    "#단어 빈도 구하기\n",
    "df_word = df_word.groupby('word', as_index = False).agg(n = ('word', 'count')).sort_values('n', ascending = False)\n",
    "#단어별 분리 #빈도 구하기\n",
    "df_word"
   ]
  },
  {
   "cell_type": "code",
   "execution_count": null,
   "id": "6269ad69",
   "metadata": {},
   "outputs": [],
   "source": [
    "#단어 빈도 상위 20개 추출\n",
    "top20 = df_word.head(20)\n",
    "top20"
   ]
  },
  {
   "cell_type": "code",
   "execution_count": null,
   "id": "a2e1a006",
   "metadata": {},
   "outputs": [],
   "source": [
    "#가로 세로 크기 설정\n",
    "plt.rcParams.update({'figure.figsize' : [6.5, 6]})\n",
    "\n",
    "#막대 그래프 만들기\n",
    "sns.barplot(data = top20, y = 'word', x = 'n')"
   ]
  },
  {
   "cell_type": "code",
   "execution_count": null,
   "id": "86359251",
   "metadata": {},
   "outputs": [],
   "source": [
    "#2. 워드 클라우드 만들기\n",
    "\n",
    "dic_word = df_word.set_index('word').to_dict()['n']"
   ]
  },
  {
   "cell_type": "code",
   "execution_count": null,
   "id": "c8514a08",
   "metadata": {},
   "outputs": [],
   "source": [
    "wc = WordCloud(random_state = 1234,\n",
    "              font_path = font,\n",
    "              width = 400,\n",
    "              height = 400,\n",
    "              background_color = 'white',\n",
    "              mask = img)"
   ]
  },
  {
   "cell_type": "code",
   "execution_count": null,
   "id": "f29763e5",
   "metadata": {},
   "outputs": [],
   "source": [
    "img_wordcloud = wc.generate_from_frequencies(dic_word)\n",
    "\n",
    "plt.figure(figsize = (10,10))\n",
    "plt.axis('off')\n",
    "plt.imshow(img_wordcloud)"
   ]
  },
  {
   "cell_type": "code",
   "execution_count": null,
   "id": "abda6014",
   "metadata": {},
   "outputs": [],
   "source": [
    "#11 - 1 시군구별 인구 단계 구분도 만들기\n",
    "\n",
    "#1. 시군구별 인구 단계 구분도 만들기\n",
    "import json\n",
    "geo = json.load(open('SIG.geojson', encoding = 'UTF-8'))"
   ]
  },
  {
   "cell_type": "code",
   "execution_count": null,
   "id": "c37e4326",
   "metadata": {},
   "outputs": [],
   "source": [
    "#행정구역 코드 출력\n",
    "geo['features'][0]['properties']"
   ]
  },
  {
   "cell_type": "code",
   "execution_count": null,
   "id": "05b6944e",
   "metadata": {},
   "outputs": [],
   "source": [
    "#위도, 경도 좌표 출력\n",
    "geo['features'][0]['geometry']"
   ]
  },
  {
   "cell_type": "code",
   "execution_count": null,
   "id": "9e41219e",
   "metadata": {},
   "outputs": [],
   "source": [
    "# 시군구별 인구 데이터 준비하기\n",
    "import pandas as pd\n",
    "\n",
    "df_pop = pd.read_csv('Population_SIG.csv')\n",
    "df_pop.head()"
   ]
  },
  {
   "cell_type": "code",
   "execution_count": null,
   "id": "c947c4de",
   "metadata": {},
   "outputs": [],
   "source": [
    "df_pop.info()"
   ]
  },
  {
   "cell_type": "code",
   "execution_count": null,
   "id": "a0f0af37",
   "metadata": {},
   "outputs": [],
   "source": [
    "#행정구역 코드가 문자 타입으로 되어 있어야 지도 만드는데 활용할 수 있다.\n",
    "df_pop['code'] = df_pop['code'].astype('str')"
   ]
  },
  {
   "cell_type": "code",
   "execution_count": null,
   "id": "f99bc7be",
   "metadata": {},
   "outputs": [],
   "source": [
    "#단계 구분도 만들기\n",
    "\n",
    "import folium\n",
    "\n",
    "folium.Map(location = [35.95, 127.7], # 지도 중심 좌표\n",
    "          zoom_start = 8)             # 확대 단계"
   ]
  },
  {
   "cell_type": "code",
   "execution_count": null,
   "id": "1d1a708f",
   "metadata": {},
   "outputs": [],
   "source": [
    "map_sig = folium.Map(location = [35.95, 127.7],\n",
    "                    zoom_start = 8,\n",
    "                    tiles = 'cartodbpositron')\n",
    "map_sig"
   ]
  },
  {
   "cell_type": "code",
   "execution_count": null,
   "id": "8d05714f",
   "metadata": {},
   "outputs": [],
   "source": [
    "#단계 구분도 만들기\n",
    "folium.Choropleth(geo_data = geo,\n",
    "                  data = df_pop,\n",
    "                  columns = ('code', 'pop'),\n",
    "                  key_on = 'feature.properties.SIG_CD').add_to(map_sig)\n",
    "\n",
    "map_sig"
   ]
  },
  {
   "cell_type": "code",
   "execution_count": null,
   "id": "06034963",
   "metadata": {},
   "outputs": [],
   "source": [
    "# 계급구간 정하기\n",
    "# 분위수를 이용해 지역을 적당히 나눠 계급구간 정한다.\n",
    "\n",
    "bins = list(df_pop['pop'].quantile([0, 0.2, 0.4, 0.6, 0.8, 1]))\n",
    "bins"
   ]
  },
  {
   "cell_type": "code",
   "execution_count": null,
   "id": "1d57f6b0",
   "metadata": {},
   "outputs": [],
   "source": [
    "# 디자인 수정하기\n",
    "# 배경 지도 만들기\n",
    "\n",
    "map_sig = folium.Map(location = [35.95, 127.7],\n",
    "                    zoom_start = 8,\n",
    "                    tiles = 'cartodbpositron')"
   ]
  },
  {
   "cell_type": "code",
   "execution_count": null,
   "id": "2c118121",
   "metadata": {},
   "outputs": [],
   "source": [
    "#단계 구분도 만들기\n",
    "folium.Choropleth(\n",
    "geo_data = geo, #지도 데이터\n",
    "data = df_pop,  #통계 데이터\n",
    "columns = ('code', 'pop'),  #df_pop 행정 구역 코드, 인구\n",
    "key_on = 'feature.properties.SIG_CD',  #geo 행정 구역 코드\n",
    "fill_color = 'YlGnBu', #컬러맵\n",
    "fill_opacity = 1,  # 투명도\n",
    "line_opacity = 0.5, # 경계선 투명도\n",
    "    \n",
    "bins = bins).add_to(map_sig) #계급 구간 기준값 #배경 지도에 추가\n",
    "  \n",
    "map_sig"
   ]
  },
  {
   "cell_type": "code",
   "execution_count": null,
   "id": "fe8b5c94",
   "metadata": {},
   "outputs": [],
   "source": [
    "#11 - 2 서울시 동별 외국인 인구 단계 구분도 만들기\n",
    "#서울시 동 경계 지도 데이터 준비하기\n",
    "\n",
    "import json\n",
    "\n",
    "geo_seoul = json.load(open('EMD_Seoul.geojson', encoding = 'UTF-8'))"
   ]
  },
  {
   "cell_type": "code",
   "execution_count": null,
   "id": "7f3aba26",
   "metadata": {},
   "outputs": [],
   "source": [
    "#행정 구역 코드 출력\n",
    "geo_seoul['features'][0]['properties']"
   ]
  },
  {
   "cell_type": "code",
   "execution_count": null,
   "id": "65bc4cb0",
   "metadata": {},
   "outputs": [],
   "source": [
    "#위도, 경도 좌표 출력\n",
    "geo_seoul['features'][0]['geometry']"
   ]
  },
  {
   "cell_type": "code",
   "execution_count": null,
   "id": "8cc018fa",
   "metadata": {},
   "outputs": [],
   "source": [
    "#서울시 동별 외국인 인구 데이터 준비\n",
    "foreigner = pd.read_csv('Foreigner_EMD_Seoul.csv')\n",
    "foreigner.head()\n",
    "#동별 행정구역 코드, 동 이름, 외국인 인구"
   ]
  },
  {
   "cell_type": "code",
   "execution_count": null,
   "id": "eefd8d7e",
   "metadata": {},
   "outputs": [],
   "source": [
    "foreigner.info()\n",
    "\n",
    "#행정구역 코드를 나타낸 foreigner의 code는 int64 type으로 되어있다"
   ]
  },
  {
   "cell_type": "code",
   "execution_count": null,
   "id": "aabc5261",
   "metadata": {},
   "outputs": [],
   "source": [
    "#행정구역 코드 문자로 바꿔야 함\n",
    "foreigner['code'] = foreigner['code'].astype(str)"
   ]
  },
  {
   "cell_type": "code",
   "execution_count": null,
   "id": "d32c00b5",
   "metadata": {},
   "outputs": [],
   "source": [
    "#단계 구분도 만들기\n",
    "\n",
    "#지역을 8단계로 나누도록 계급구간의 하한값, 상한값을 만든다\n",
    "\n",
    "bins = list(foreigner['pop'].quantile([0, 0.2, 0.4, 0.5, 0.6, 0.7, 0.8, 0.9, 1]))\n",
    "bins"
   ]
  },
  {
   "cell_type": "code",
   "execution_count": null,
   "id": "bcdcfd60",
   "metadata": {},
   "outputs": [],
   "source": [
    "#서울이 가운데에 오도록 배경지도를 만들고 단계 구분도를 추가한다.\n",
    "#인구가 많을수록 진한 파란색으로 표현한다.\n",
    "#외국인 인구가 결측치인 부분은 흰색으로 표현\n",
    "\n",
    "#배경 지도 만들기\n",
    "map_seoul = folium.Map(location = [37.56, 127],  #서울 좌표\n",
    "                      zoom_start = 12,           #확대 단계\n",
    "                      tiles = 'cartodbpositron') #지도 종류\n",
    "\n",
    "#단계 구분도 만들기\n",
    "folium.Choropleth( \n",
    "geo_data = geo_seoul,                    #지도 데이터   \n",
    "data = foreigner,                        #통계 데이터  \n",
    "columns = ('code','pop'),                #foreigner 행정구역 코드, 인구 \n",
    "key_on = 'feature.properties.ADM_DR_CD', #geo_seoul 행정구역 코드\n",
    "fill_color = 'Blues',                    #컬러맵\n",
    "nan_fill_color = 'White',                #결측치 색깔\n",
    "fill_opacity = 1,                        #투명도\n",
    "line_opacity = 0.5,                      #경계선 투명도\n",
    "bins = bins).add_to(map_seoul)           #계급 구간 기준값, 배경 지도에 추가\n",
    "map_seoul"
   ]
  },
  {
   "cell_type": "code",
   "execution_count": null,
   "id": "9644e8be",
   "metadata": {},
   "outputs": [],
   "source": [
    "#구 경계선 추가하기\n",
    "geo_seoul_sig = json.load(open('SIG_Seoul.geojson', encoding = 'UTF-8'))"
   ]
  },
  {
   "cell_type": "code",
   "execution_count": null,
   "id": "3341d883",
   "metadata": {},
   "outputs": [],
   "source": [
    "#서울시 구 경계선을 이용해 단계 구분도를 만든 다음, 앞에 만든 지도에 추가한다. \n",
    "#색을 칠하지 않도록 하고 경계선을 두껍게 나타내도록 한다.\n",
    "\n",
    "#서울 구 경계선 추가\n",
    "folium.Choropleth(geo_data = geo_seoul_sig,         #지도 데이터\n",
    "                 fill_opacity = 0,                  #투명도\n",
    "                 line_weight = 4).add_to(map_seoul) #선 두께, 지도에 추가\n",
    "map_seoul"
   ]
  }
 ],
 "metadata": {
  "kernelspec": {
   "display_name": "Python 3 (ipykernel)",
   "language": "python",
   "name": "python3"
  },
  "language_info": {
   "codemirror_mode": {
    "name": "ipython",
    "version": 3
   },
   "file_extension": ".py",
   "mimetype": "text/x-python",
   "name": "python",
   "nbconvert_exporter": "python",
   "pygments_lexer": "ipython3",
   "version": "3.9.12"
  }
 },
 "nbformat": 4,
 "nbformat_minor": 5
}
