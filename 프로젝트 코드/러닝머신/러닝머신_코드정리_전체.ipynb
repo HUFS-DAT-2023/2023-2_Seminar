{
  "nbformat": 4,
  "nbformat_minor": 0,
  "metadata": {
    "colab": {
      "provenance": [],
      "collapsed_sections": [
        "THJJNzsSI1sa"
      ],
      "toc_visible": true
    },
    "kernelspec": {
      "name": "python3",
      "display_name": "Python 3"
    },
    "language_info": {
      "name": "python"
    },
    "widgets": {
      "application/vnd.jupyter.widget-state+json": {
        "ee09a12cfcf343d4a02ae876411c4001": {
          "model_module": "@jupyter-widgets/controls",
          "model_name": "HBoxModel",
          "model_module_version": "1.5.0",
          "state": {
            "_dom_classes": [],
            "_model_module": "@jupyter-widgets/controls",
            "_model_module_version": "1.5.0",
            "_model_name": "HBoxModel",
            "_view_count": null,
            "_view_module": "@jupyter-widgets/controls",
            "_view_module_version": "1.5.0",
            "_view_name": "HBoxView",
            "box_style": "",
            "children": [
              "IPY_MODEL_52d54c9c339c47b29e444ccc8d39a94e",
              "IPY_MODEL_8414cbdd449947ddaac0967deaa526e1",
              "IPY_MODEL_516eb5d4a4d54b838122f155a16e2c04"
            ],
            "layout": "IPY_MODEL_d10463dd4cb04251b94c757ce0e93114"
          }
        },
        "52d54c9c339c47b29e444ccc8d39a94e": {
          "model_module": "@jupyter-widgets/controls",
          "model_name": "HTMLModel",
          "model_module_version": "1.5.0",
          "state": {
            "_dom_classes": [],
            "_model_module": "@jupyter-widgets/controls",
            "_model_module_version": "1.5.0",
            "_model_name": "HTMLModel",
            "_view_count": null,
            "_view_module": "@jupyter-widgets/controls",
            "_view_module_version": "1.5.0",
            "_view_name": "HTMLView",
            "description": "",
            "description_tooltip": null,
            "layout": "IPY_MODEL_bd74291c71184e189071690f2ea4f5bc",
            "placeholder": "​",
            "style": "IPY_MODEL_7efc7e0664ca4f1a89f9df1d4133994f",
            "value": ".gitattributes: 100%"
          }
        },
        "8414cbdd449947ddaac0967deaa526e1": {
          "model_module": "@jupyter-widgets/controls",
          "model_name": "FloatProgressModel",
          "model_module_version": "1.5.0",
          "state": {
            "_dom_classes": [],
            "_model_module": "@jupyter-widgets/controls",
            "_model_module_version": "1.5.0",
            "_model_name": "FloatProgressModel",
            "_view_count": null,
            "_view_module": "@jupyter-widgets/controls",
            "_view_module_version": "1.5.0",
            "_view_name": "ProgressView",
            "bar_style": "success",
            "description": "",
            "description_tooltip": null,
            "layout": "IPY_MODEL_8204d9c2609d440cbcd7f5984a0981aa",
            "max": 1175,
            "min": 0,
            "orientation": "horizontal",
            "style": "IPY_MODEL_ff26ff8b5f8e4bafb05027909228b244",
            "value": 1175
          }
        },
        "516eb5d4a4d54b838122f155a16e2c04": {
          "model_module": "@jupyter-widgets/controls",
          "model_name": "HTMLModel",
          "model_module_version": "1.5.0",
          "state": {
            "_dom_classes": [],
            "_model_module": "@jupyter-widgets/controls",
            "_model_module_version": "1.5.0",
            "_model_name": "HTMLModel",
            "_view_count": null,
            "_view_module": "@jupyter-widgets/controls",
            "_view_module_version": "1.5.0",
            "_view_name": "HTMLView",
            "description": "",
            "description_tooltip": null,
            "layout": "IPY_MODEL_4a8a09e45a564562a3afc6233e0a04a2",
            "placeholder": "​",
            "style": "IPY_MODEL_10da4409c05f4b5ca9fdda6618e97890",
            "value": " 1.18k/1.18k [00:00&lt;00:00, 60.2kB/s]"
          }
        },
        "d10463dd4cb04251b94c757ce0e93114": {
          "model_module": "@jupyter-widgets/base",
          "model_name": "LayoutModel",
          "model_module_version": "1.2.0",
          "state": {
            "_model_module": "@jupyter-widgets/base",
            "_model_module_version": "1.2.0",
            "_model_name": "LayoutModel",
            "_view_count": null,
            "_view_module": "@jupyter-widgets/base",
            "_view_module_version": "1.2.0",
            "_view_name": "LayoutView",
            "align_content": null,
            "align_items": null,
            "align_self": null,
            "border": null,
            "bottom": null,
            "display": null,
            "flex": null,
            "flex_flow": null,
            "grid_area": null,
            "grid_auto_columns": null,
            "grid_auto_flow": null,
            "grid_auto_rows": null,
            "grid_column": null,
            "grid_gap": null,
            "grid_row": null,
            "grid_template_areas": null,
            "grid_template_columns": null,
            "grid_template_rows": null,
            "height": null,
            "justify_content": null,
            "justify_items": null,
            "left": null,
            "margin": null,
            "max_height": null,
            "max_width": null,
            "min_height": null,
            "min_width": null,
            "object_fit": null,
            "object_position": null,
            "order": null,
            "overflow": null,
            "overflow_x": null,
            "overflow_y": null,
            "padding": null,
            "right": null,
            "top": null,
            "visibility": null,
            "width": null
          }
        },
        "bd74291c71184e189071690f2ea4f5bc": {
          "model_module": "@jupyter-widgets/base",
          "model_name": "LayoutModel",
          "model_module_version": "1.2.0",
          "state": {
            "_model_module": "@jupyter-widgets/base",
            "_model_module_version": "1.2.0",
            "_model_name": "LayoutModel",
            "_view_count": null,
            "_view_module": "@jupyter-widgets/base",
            "_view_module_version": "1.2.0",
            "_view_name": "LayoutView",
            "align_content": null,
            "align_items": null,
            "align_self": null,
            "border": null,
            "bottom": null,
            "display": null,
            "flex": null,
            "flex_flow": null,
            "grid_area": null,
            "grid_auto_columns": null,
            "grid_auto_flow": null,
            "grid_auto_rows": null,
            "grid_column": null,
            "grid_gap": null,
            "grid_row": null,
            "grid_template_areas": null,
            "grid_template_columns": null,
            "grid_template_rows": null,
            "height": null,
            "justify_content": null,
            "justify_items": null,
            "left": null,
            "margin": null,
            "max_height": null,
            "max_width": null,
            "min_height": null,
            "min_width": null,
            "object_fit": null,
            "object_position": null,
            "order": null,
            "overflow": null,
            "overflow_x": null,
            "overflow_y": null,
            "padding": null,
            "right": null,
            "top": null,
            "visibility": null,
            "width": null
          }
        },
        "7efc7e0664ca4f1a89f9df1d4133994f": {
          "model_module": "@jupyter-widgets/controls",
          "model_name": "DescriptionStyleModel",
          "model_module_version": "1.5.0",
          "state": {
            "_model_module": "@jupyter-widgets/controls",
            "_model_module_version": "1.5.0",
            "_model_name": "DescriptionStyleModel",
            "_view_count": null,
            "_view_module": "@jupyter-widgets/base",
            "_view_module_version": "1.2.0",
            "_view_name": "StyleView",
            "description_width": ""
          }
        },
        "8204d9c2609d440cbcd7f5984a0981aa": {
          "model_module": "@jupyter-widgets/base",
          "model_name": "LayoutModel",
          "model_module_version": "1.2.0",
          "state": {
            "_model_module": "@jupyter-widgets/base",
            "_model_module_version": "1.2.0",
            "_model_name": "LayoutModel",
            "_view_count": null,
            "_view_module": "@jupyter-widgets/base",
            "_view_module_version": "1.2.0",
            "_view_name": "LayoutView",
            "align_content": null,
            "align_items": null,
            "align_self": null,
            "border": null,
            "bottom": null,
            "display": null,
            "flex": null,
            "flex_flow": null,
            "grid_area": null,
            "grid_auto_columns": null,
            "grid_auto_flow": null,
            "grid_auto_rows": null,
            "grid_column": null,
            "grid_gap": null,
            "grid_row": null,
            "grid_template_areas": null,
            "grid_template_columns": null,
            "grid_template_rows": null,
            "height": null,
            "justify_content": null,
            "justify_items": null,
            "left": null,
            "margin": null,
            "max_height": null,
            "max_width": null,
            "min_height": null,
            "min_width": null,
            "object_fit": null,
            "object_position": null,
            "order": null,
            "overflow": null,
            "overflow_x": null,
            "overflow_y": null,
            "padding": null,
            "right": null,
            "top": null,
            "visibility": null,
            "width": null
          }
        },
        "ff26ff8b5f8e4bafb05027909228b244": {
          "model_module": "@jupyter-widgets/controls",
          "model_name": "ProgressStyleModel",
          "model_module_version": "1.5.0",
          "state": {
            "_model_module": "@jupyter-widgets/controls",
            "_model_module_version": "1.5.0",
            "_model_name": "ProgressStyleModel",
            "_view_count": null,
            "_view_module": "@jupyter-widgets/base",
            "_view_module_version": "1.2.0",
            "_view_name": "StyleView",
            "bar_color": null,
            "description_width": ""
          }
        },
        "4a8a09e45a564562a3afc6233e0a04a2": {
          "model_module": "@jupyter-widgets/base",
          "model_name": "LayoutModel",
          "model_module_version": "1.2.0",
          "state": {
            "_model_module": "@jupyter-widgets/base",
            "_model_module_version": "1.2.0",
            "_model_name": "LayoutModel",
            "_view_count": null,
            "_view_module": "@jupyter-widgets/base",
            "_view_module_version": "1.2.0",
            "_view_name": "LayoutView",
            "align_content": null,
            "align_items": null,
            "align_self": null,
            "border": null,
            "bottom": null,
            "display": null,
            "flex": null,
            "flex_flow": null,
            "grid_area": null,
            "grid_auto_columns": null,
            "grid_auto_flow": null,
            "grid_auto_rows": null,
            "grid_column": null,
            "grid_gap": null,
            "grid_row": null,
            "grid_template_areas": null,
            "grid_template_columns": null,
            "grid_template_rows": null,
            "height": null,
            "justify_content": null,
            "justify_items": null,
            "left": null,
            "margin": null,
            "max_height": null,
            "max_width": null,
            "min_height": null,
            "min_width": null,
            "object_fit": null,
            "object_position": null,
            "order": null,
            "overflow": null,
            "overflow_x": null,
            "overflow_y": null,
            "padding": null,
            "right": null,
            "top": null,
            "visibility": null,
            "width": null
          }
        },
        "10da4409c05f4b5ca9fdda6618e97890": {
          "model_module": "@jupyter-widgets/controls",
          "model_name": "DescriptionStyleModel",
          "model_module_version": "1.5.0",
          "state": {
            "_model_module": "@jupyter-widgets/controls",
            "_model_module_version": "1.5.0",
            "_model_name": "DescriptionStyleModel",
            "_view_count": null,
            "_view_module": "@jupyter-widgets/base",
            "_view_module_version": "1.2.0",
            "_view_name": "StyleView",
            "description_width": ""
          }
        },
        "73dcee76a9764316ad311126cf23711e": {
          "model_module": "@jupyter-widgets/controls",
          "model_name": "HBoxModel",
          "model_module_version": "1.5.0",
          "state": {
            "_dom_classes": [],
            "_model_module": "@jupyter-widgets/controls",
            "_model_module_version": "1.5.0",
            "_model_name": "HBoxModel",
            "_view_count": null,
            "_view_module": "@jupyter-widgets/controls",
            "_view_module_version": "1.5.0",
            "_view_name": "HBoxView",
            "box_style": "",
            "children": [
              "IPY_MODEL_010443c4ae894809b2972b331b387030",
              "IPY_MODEL_b401c4d1b19748329778f1ddd1763537",
              "IPY_MODEL_736c26cc8cd44c73ad8d1a30dacdf0e8"
            ],
            "layout": "IPY_MODEL_4c71c281f7f1414694ff9150d7be43a0"
          }
        },
        "010443c4ae894809b2972b331b387030": {
          "model_module": "@jupyter-widgets/controls",
          "model_name": "HTMLModel",
          "model_module_version": "1.5.0",
          "state": {
            "_dom_classes": [],
            "_model_module": "@jupyter-widgets/controls",
            "_model_module_version": "1.5.0",
            "_model_name": "HTMLModel",
            "_view_count": null,
            "_view_module": "@jupyter-widgets/controls",
            "_view_module_version": "1.5.0",
            "_view_name": "HTMLView",
            "description": "",
            "description_tooltip": null,
            "layout": "IPY_MODEL_12a5450436754a78aa1716f643987d80",
            "placeholder": "​",
            "style": "IPY_MODEL_5cba2feb09d245a89b8224897bc5fb63",
            "value": "1_Pooling/config.json: 100%"
          }
        },
        "b401c4d1b19748329778f1ddd1763537": {
          "model_module": "@jupyter-widgets/controls",
          "model_name": "FloatProgressModel",
          "model_module_version": "1.5.0",
          "state": {
            "_dom_classes": [],
            "_model_module": "@jupyter-widgets/controls",
            "_model_module_version": "1.5.0",
            "_model_name": "FloatProgressModel",
            "_view_count": null,
            "_view_module": "@jupyter-widgets/controls",
            "_view_module_version": "1.5.0",
            "_view_name": "ProgressView",
            "bar_style": "success",
            "description": "",
            "description_tooltip": null,
            "layout": "IPY_MODEL_7a6dd39ccf5147878bbf2f8cf1137165",
            "max": 190,
            "min": 0,
            "orientation": "horizontal",
            "style": "IPY_MODEL_ffd88e13cbdd45869b51024fd159d22c",
            "value": 190
          }
        },
        "736c26cc8cd44c73ad8d1a30dacdf0e8": {
          "model_module": "@jupyter-widgets/controls",
          "model_name": "HTMLModel",
          "model_module_version": "1.5.0",
          "state": {
            "_dom_classes": [],
            "_model_module": "@jupyter-widgets/controls",
            "_model_module_version": "1.5.0",
            "_model_name": "HTMLModel",
            "_view_count": null,
            "_view_module": "@jupyter-widgets/controls",
            "_view_module_version": "1.5.0",
            "_view_name": "HTMLView",
            "description": "",
            "description_tooltip": null,
            "layout": "IPY_MODEL_9361940f1b844f85a892b0bf0816026a",
            "placeholder": "​",
            "style": "IPY_MODEL_ff0fe71130254c64ad4a6c271e3d2268",
            "value": " 190/190 [00:00&lt;00:00, 8.36kB/s]"
          }
        },
        "4c71c281f7f1414694ff9150d7be43a0": {
          "model_module": "@jupyter-widgets/base",
          "model_name": "LayoutModel",
          "model_module_version": "1.2.0",
          "state": {
            "_model_module": "@jupyter-widgets/base",
            "_model_module_version": "1.2.0",
            "_model_name": "LayoutModel",
            "_view_count": null,
            "_view_module": "@jupyter-widgets/base",
            "_view_module_version": "1.2.0",
            "_view_name": "LayoutView",
            "align_content": null,
            "align_items": null,
            "align_self": null,
            "border": null,
            "bottom": null,
            "display": null,
            "flex": null,
            "flex_flow": null,
            "grid_area": null,
            "grid_auto_columns": null,
            "grid_auto_flow": null,
            "grid_auto_rows": null,
            "grid_column": null,
            "grid_gap": null,
            "grid_row": null,
            "grid_template_areas": null,
            "grid_template_columns": null,
            "grid_template_rows": null,
            "height": null,
            "justify_content": null,
            "justify_items": null,
            "left": null,
            "margin": null,
            "max_height": null,
            "max_width": null,
            "min_height": null,
            "min_width": null,
            "object_fit": null,
            "object_position": null,
            "order": null,
            "overflow": null,
            "overflow_x": null,
            "overflow_y": null,
            "padding": null,
            "right": null,
            "top": null,
            "visibility": null,
            "width": null
          }
        },
        "12a5450436754a78aa1716f643987d80": {
          "model_module": "@jupyter-widgets/base",
          "model_name": "LayoutModel",
          "model_module_version": "1.2.0",
          "state": {
            "_model_module": "@jupyter-widgets/base",
            "_model_module_version": "1.2.0",
            "_model_name": "LayoutModel",
            "_view_count": null,
            "_view_module": "@jupyter-widgets/base",
            "_view_module_version": "1.2.0",
            "_view_name": "LayoutView",
            "align_content": null,
            "align_items": null,
            "align_self": null,
            "border": null,
            "bottom": null,
            "display": null,
            "flex": null,
            "flex_flow": null,
            "grid_area": null,
            "grid_auto_columns": null,
            "grid_auto_flow": null,
            "grid_auto_rows": null,
            "grid_column": null,
            "grid_gap": null,
            "grid_row": null,
            "grid_template_areas": null,
            "grid_template_columns": null,
            "grid_template_rows": null,
            "height": null,
            "justify_content": null,
            "justify_items": null,
            "left": null,
            "margin": null,
            "max_height": null,
            "max_width": null,
            "min_height": null,
            "min_width": null,
            "object_fit": null,
            "object_position": null,
            "order": null,
            "overflow": null,
            "overflow_x": null,
            "overflow_y": null,
            "padding": null,
            "right": null,
            "top": null,
            "visibility": null,
            "width": null
          }
        },
        "5cba2feb09d245a89b8224897bc5fb63": {
          "model_module": "@jupyter-widgets/controls",
          "model_name": "DescriptionStyleModel",
          "model_module_version": "1.5.0",
          "state": {
            "_model_module": "@jupyter-widgets/controls",
            "_model_module_version": "1.5.0",
            "_model_name": "DescriptionStyleModel",
            "_view_count": null,
            "_view_module": "@jupyter-widgets/base",
            "_view_module_version": "1.2.0",
            "_view_name": "StyleView",
            "description_width": ""
          }
        },
        "7a6dd39ccf5147878bbf2f8cf1137165": {
          "model_module": "@jupyter-widgets/base",
          "model_name": "LayoutModel",
          "model_module_version": "1.2.0",
          "state": {
            "_model_module": "@jupyter-widgets/base",
            "_model_module_version": "1.2.0",
            "_model_name": "LayoutModel",
            "_view_count": null,
            "_view_module": "@jupyter-widgets/base",
            "_view_module_version": "1.2.0",
            "_view_name": "LayoutView",
            "align_content": null,
            "align_items": null,
            "align_self": null,
            "border": null,
            "bottom": null,
            "display": null,
            "flex": null,
            "flex_flow": null,
            "grid_area": null,
            "grid_auto_columns": null,
            "grid_auto_flow": null,
            "grid_auto_rows": null,
            "grid_column": null,
            "grid_gap": null,
            "grid_row": null,
            "grid_template_areas": null,
            "grid_template_columns": null,
            "grid_template_rows": null,
            "height": null,
            "justify_content": null,
            "justify_items": null,
            "left": null,
            "margin": null,
            "max_height": null,
            "max_width": null,
            "min_height": null,
            "min_width": null,
            "object_fit": null,
            "object_position": null,
            "order": null,
            "overflow": null,
            "overflow_x": null,
            "overflow_y": null,
            "padding": null,
            "right": null,
            "top": null,
            "visibility": null,
            "width": null
          }
        },
        "ffd88e13cbdd45869b51024fd159d22c": {
          "model_module": "@jupyter-widgets/controls",
          "model_name": "ProgressStyleModel",
          "model_module_version": "1.5.0",
          "state": {
            "_model_module": "@jupyter-widgets/controls",
            "_model_module_version": "1.5.0",
            "_model_name": "ProgressStyleModel",
            "_view_count": null,
            "_view_module": "@jupyter-widgets/base",
            "_view_module_version": "1.2.0",
            "_view_name": "StyleView",
            "bar_color": null,
            "description_width": ""
          }
        },
        "9361940f1b844f85a892b0bf0816026a": {
          "model_module": "@jupyter-widgets/base",
          "model_name": "LayoutModel",
          "model_module_version": "1.2.0",
          "state": {
            "_model_module": "@jupyter-widgets/base",
            "_model_module_version": "1.2.0",
            "_model_name": "LayoutModel",
            "_view_count": null,
            "_view_module": "@jupyter-widgets/base",
            "_view_module_version": "1.2.0",
            "_view_name": "LayoutView",
            "align_content": null,
            "align_items": null,
            "align_self": null,
            "border": null,
            "bottom": null,
            "display": null,
            "flex": null,
            "flex_flow": null,
            "grid_area": null,
            "grid_auto_columns": null,
            "grid_auto_flow": null,
            "grid_auto_rows": null,
            "grid_column": null,
            "grid_gap": null,
            "grid_row": null,
            "grid_template_areas": null,
            "grid_template_columns": null,
            "grid_template_rows": null,
            "height": null,
            "justify_content": null,
            "justify_items": null,
            "left": null,
            "margin": null,
            "max_height": null,
            "max_width": null,
            "min_height": null,
            "min_width": null,
            "object_fit": null,
            "object_position": null,
            "order": null,
            "overflow": null,
            "overflow_x": null,
            "overflow_y": null,
            "padding": null,
            "right": null,
            "top": null,
            "visibility": null,
            "width": null
          }
        },
        "ff0fe71130254c64ad4a6c271e3d2268": {
          "model_module": "@jupyter-widgets/controls",
          "model_name": "DescriptionStyleModel",
          "model_module_version": "1.5.0",
          "state": {
            "_model_module": "@jupyter-widgets/controls",
            "_model_module_version": "1.5.0",
            "_model_name": "DescriptionStyleModel",
            "_view_count": null,
            "_view_module": "@jupyter-widgets/base",
            "_view_module_version": "1.2.0",
            "_view_name": "StyleView",
            "description_width": ""
          }
        },
        "b65cb8ea9a1742e7851eba65719f1907": {
          "model_module": "@jupyter-widgets/controls",
          "model_name": "HBoxModel",
          "model_module_version": "1.5.0",
          "state": {
            "_dom_classes": [],
            "_model_module": "@jupyter-widgets/controls",
            "_model_module_version": "1.5.0",
            "_model_name": "HBoxModel",
            "_view_count": null,
            "_view_module": "@jupyter-widgets/controls",
            "_view_module_version": "1.5.0",
            "_view_name": "HBoxView",
            "box_style": "",
            "children": [
              "IPY_MODEL_663730f6d3274c24b32d98bdd5ef7332",
              "IPY_MODEL_7213418bf36047458b23d07d5bb9dbfe",
              "IPY_MODEL_1bdbc0cc960a4c96a6754d559e6bf090"
            ],
            "layout": "IPY_MODEL_631a5e2370424bc6a28b668e5cb3d467"
          }
        },
        "663730f6d3274c24b32d98bdd5ef7332": {
          "model_module": "@jupyter-widgets/controls",
          "model_name": "HTMLModel",
          "model_module_version": "1.5.0",
          "state": {
            "_dom_classes": [],
            "_model_module": "@jupyter-widgets/controls",
            "_model_module_version": "1.5.0",
            "_model_name": "HTMLModel",
            "_view_count": null,
            "_view_module": "@jupyter-widgets/controls",
            "_view_module_version": "1.5.0",
            "_view_name": "HTMLView",
            "description": "",
            "description_tooltip": null,
            "layout": "IPY_MODEL_9d6566033c27417e9717b04dddaed06a",
            "placeholder": "​",
            "style": "IPY_MODEL_fe25e2c4bfaa41d28470b6490da88918",
            "value": "README.md: 100%"
          }
        },
        "7213418bf36047458b23d07d5bb9dbfe": {
          "model_module": "@jupyter-widgets/controls",
          "model_name": "FloatProgressModel",
          "model_module_version": "1.5.0",
          "state": {
            "_dom_classes": [],
            "_model_module": "@jupyter-widgets/controls",
            "_model_module_version": "1.5.0",
            "_model_name": "FloatProgressModel",
            "_view_count": null,
            "_view_module": "@jupyter-widgets/controls",
            "_view_module_version": "1.5.0",
            "_view_name": "ProgressView",
            "bar_style": "success",
            "description": "",
            "description_tooltip": null,
            "layout": "IPY_MODEL_a9f93a45f94e4b5ab2236cae6b03d0c4",
            "max": 10610,
            "min": 0,
            "orientation": "horizontal",
            "style": "IPY_MODEL_7f4e6b115ba5477fb82503a5c216e733",
            "value": 10610
          }
        },
        "1bdbc0cc960a4c96a6754d559e6bf090": {
          "model_module": "@jupyter-widgets/controls",
          "model_name": "HTMLModel",
          "model_module_version": "1.5.0",
          "state": {
            "_dom_classes": [],
            "_model_module": "@jupyter-widgets/controls",
            "_model_module_version": "1.5.0",
            "_model_name": "HTMLModel",
            "_view_count": null,
            "_view_module": "@jupyter-widgets/controls",
            "_view_module_version": "1.5.0",
            "_view_name": "HTMLView",
            "description": "",
            "description_tooltip": null,
            "layout": "IPY_MODEL_f636615768a8405daa0591675bc32fb5",
            "placeholder": "​",
            "style": "IPY_MODEL_b9c48e1e1f634e3eb346cd44e49fd6df",
            "value": " 10.6k/10.6k [00:00&lt;00:00, 425kB/s]"
          }
        },
        "631a5e2370424bc6a28b668e5cb3d467": {
          "model_module": "@jupyter-widgets/base",
          "model_name": "LayoutModel",
          "model_module_version": "1.2.0",
          "state": {
            "_model_module": "@jupyter-widgets/base",
            "_model_module_version": "1.2.0",
            "_model_name": "LayoutModel",
            "_view_count": null,
            "_view_module": "@jupyter-widgets/base",
            "_view_module_version": "1.2.0",
            "_view_name": "LayoutView",
            "align_content": null,
            "align_items": null,
            "align_self": null,
            "border": null,
            "bottom": null,
            "display": null,
            "flex": null,
            "flex_flow": null,
            "grid_area": null,
            "grid_auto_columns": null,
            "grid_auto_flow": null,
            "grid_auto_rows": null,
            "grid_column": null,
            "grid_gap": null,
            "grid_row": null,
            "grid_template_areas": null,
            "grid_template_columns": null,
            "grid_template_rows": null,
            "height": null,
            "justify_content": null,
            "justify_items": null,
            "left": null,
            "margin": null,
            "max_height": null,
            "max_width": null,
            "min_height": null,
            "min_width": null,
            "object_fit": null,
            "object_position": null,
            "order": null,
            "overflow": null,
            "overflow_x": null,
            "overflow_y": null,
            "padding": null,
            "right": null,
            "top": null,
            "visibility": null,
            "width": null
          }
        },
        "9d6566033c27417e9717b04dddaed06a": {
          "model_module": "@jupyter-widgets/base",
          "model_name": "LayoutModel",
          "model_module_version": "1.2.0",
          "state": {
            "_model_module": "@jupyter-widgets/base",
            "_model_module_version": "1.2.0",
            "_model_name": "LayoutModel",
            "_view_count": null,
            "_view_module": "@jupyter-widgets/base",
            "_view_module_version": "1.2.0",
            "_view_name": "LayoutView",
            "align_content": null,
            "align_items": null,
            "align_self": null,
            "border": null,
            "bottom": null,
            "display": null,
            "flex": null,
            "flex_flow": null,
            "grid_area": null,
            "grid_auto_columns": null,
            "grid_auto_flow": null,
            "grid_auto_rows": null,
            "grid_column": null,
            "grid_gap": null,
            "grid_row": null,
            "grid_template_areas": null,
            "grid_template_columns": null,
            "grid_template_rows": null,
            "height": null,
            "justify_content": null,
            "justify_items": null,
            "left": null,
            "margin": null,
            "max_height": null,
            "max_width": null,
            "min_height": null,
            "min_width": null,
            "object_fit": null,
            "object_position": null,
            "order": null,
            "overflow": null,
            "overflow_x": null,
            "overflow_y": null,
            "padding": null,
            "right": null,
            "top": null,
            "visibility": null,
            "width": null
          }
        },
        "fe25e2c4bfaa41d28470b6490da88918": {
          "model_module": "@jupyter-widgets/controls",
          "model_name": "DescriptionStyleModel",
          "model_module_version": "1.5.0",
          "state": {
            "_model_module": "@jupyter-widgets/controls",
            "_model_module_version": "1.5.0",
            "_model_name": "DescriptionStyleModel",
            "_view_count": null,
            "_view_module": "@jupyter-widgets/base",
            "_view_module_version": "1.2.0",
            "_view_name": "StyleView",
            "description_width": ""
          }
        },
        "a9f93a45f94e4b5ab2236cae6b03d0c4": {
          "model_module": "@jupyter-widgets/base",
          "model_name": "LayoutModel",
          "model_module_version": "1.2.0",
          "state": {
            "_model_module": "@jupyter-widgets/base",
            "_model_module_version": "1.2.0",
            "_model_name": "LayoutModel",
            "_view_count": null,
            "_view_module": "@jupyter-widgets/base",
            "_view_module_version": "1.2.0",
            "_view_name": "LayoutView",
            "align_content": null,
            "align_items": null,
            "align_self": null,
            "border": null,
            "bottom": null,
            "display": null,
            "flex": null,
            "flex_flow": null,
            "grid_area": null,
            "grid_auto_columns": null,
            "grid_auto_flow": null,
            "grid_auto_rows": null,
            "grid_column": null,
            "grid_gap": null,
            "grid_row": null,
            "grid_template_areas": null,
            "grid_template_columns": null,
            "grid_template_rows": null,
            "height": null,
            "justify_content": null,
            "justify_items": null,
            "left": null,
            "margin": null,
            "max_height": null,
            "max_width": null,
            "min_height": null,
            "min_width": null,
            "object_fit": null,
            "object_position": null,
            "order": null,
            "overflow": null,
            "overflow_x": null,
            "overflow_y": null,
            "padding": null,
            "right": null,
            "top": null,
            "visibility": null,
            "width": null
          }
        },
        "7f4e6b115ba5477fb82503a5c216e733": {
          "model_module": "@jupyter-widgets/controls",
          "model_name": "ProgressStyleModel",
          "model_module_version": "1.5.0",
          "state": {
            "_model_module": "@jupyter-widgets/controls",
            "_model_module_version": "1.5.0",
            "_model_name": "ProgressStyleModel",
            "_view_count": null,
            "_view_module": "@jupyter-widgets/base",
            "_view_module_version": "1.2.0",
            "_view_name": "StyleView",
            "bar_color": null,
            "description_width": ""
          }
        },
        "f636615768a8405daa0591675bc32fb5": {
          "model_module": "@jupyter-widgets/base",
          "model_name": "LayoutModel",
          "model_module_version": "1.2.0",
          "state": {
            "_model_module": "@jupyter-widgets/base",
            "_model_module_version": "1.2.0",
            "_model_name": "LayoutModel",
            "_view_count": null,
            "_view_module": "@jupyter-widgets/base",
            "_view_module_version": "1.2.0",
            "_view_name": "LayoutView",
            "align_content": null,
            "align_items": null,
            "align_self": null,
            "border": null,
            "bottom": null,
            "display": null,
            "flex": null,
            "flex_flow": null,
            "grid_area": null,
            "grid_auto_columns": null,
            "grid_auto_flow": null,
            "grid_auto_rows": null,
            "grid_column": null,
            "grid_gap": null,
            "grid_row": null,
            "grid_template_areas": null,
            "grid_template_columns": null,
            "grid_template_rows": null,
            "height": null,
            "justify_content": null,
            "justify_items": null,
            "left": null,
            "margin": null,
            "max_height": null,
            "max_width": null,
            "min_height": null,
            "min_width": null,
            "object_fit": null,
            "object_position": null,
            "order": null,
            "overflow": null,
            "overflow_x": null,
            "overflow_y": null,
            "padding": null,
            "right": null,
            "top": null,
            "visibility": null,
            "width": null
          }
        },
        "b9c48e1e1f634e3eb346cd44e49fd6df": {
          "model_module": "@jupyter-widgets/controls",
          "model_name": "DescriptionStyleModel",
          "model_module_version": "1.5.0",
          "state": {
            "_model_module": "@jupyter-widgets/controls",
            "_model_module_version": "1.5.0",
            "_model_name": "DescriptionStyleModel",
            "_view_count": null,
            "_view_module": "@jupyter-widgets/base",
            "_view_module_version": "1.2.0",
            "_view_name": "StyleView",
            "description_width": ""
          }
        },
        "eac4308698e6409e8ba73d773dddd16d": {
          "model_module": "@jupyter-widgets/controls",
          "model_name": "HBoxModel",
          "model_module_version": "1.5.0",
          "state": {
            "_dom_classes": [],
            "_model_module": "@jupyter-widgets/controls",
            "_model_module_version": "1.5.0",
            "_model_name": "HBoxModel",
            "_view_count": null,
            "_view_module": "@jupyter-widgets/controls",
            "_view_module_version": "1.5.0",
            "_view_name": "HBoxView",
            "box_style": "",
            "children": [
              "IPY_MODEL_651391aadfe646da8d8e1dc00a57ba57",
              "IPY_MODEL_20edab215d954d3c95905b041c48dfe1",
              "IPY_MODEL_1648ef671c964a0f9eefd3dafc2a8689"
            ],
            "layout": "IPY_MODEL_758a1eb728d140a78f18b495a666ecd6"
          }
        },
        "651391aadfe646da8d8e1dc00a57ba57": {
          "model_module": "@jupyter-widgets/controls",
          "model_name": "HTMLModel",
          "model_module_version": "1.5.0",
          "state": {
            "_dom_classes": [],
            "_model_module": "@jupyter-widgets/controls",
            "_model_module_version": "1.5.0",
            "_model_name": "HTMLModel",
            "_view_count": null,
            "_view_module": "@jupyter-widgets/controls",
            "_view_module_version": "1.5.0",
            "_view_name": "HTMLView",
            "description": "",
            "description_tooltip": null,
            "layout": "IPY_MODEL_5de587c3283f42daba2e757ae8cfb377",
            "placeholder": "​",
            "style": "IPY_MODEL_b4d92d10c52443ae9c0a6d357d284422",
            "value": "config.json: 100%"
          }
        },
        "20edab215d954d3c95905b041c48dfe1": {
          "model_module": "@jupyter-widgets/controls",
          "model_name": "FloatProgressModel",
          "model_module_version": "1.5.0",
          "state": {
            "_dom_classes": [],
            "_model_module": "@jupyter-widgets/controls",
            "_model_module_version": "1.5.0",
            "_model_name": "FloatProgressModel",
            "_view_count": null,
            "_view_module": "@jupyter-widgets/controls",
            "_view_module_version": "1.5.0",
            "_view_name": "ProgressView",
            "bar_style": "success",
            "description": "",
            "description_tooltip": null,
            "layout": "IPY_MODEL_a8fb891a9f464839bf2efbb3c1cd2383",
            "max": 612,
            "min": 0,
            "orientation": "horizontal",
            "style": "IPY_MODEL_9dce7dc89af946f8aacf5460763d0ccf",
            "value": 612
          }
        },
        "1648ef671c964a0f9eefd3dafc2a8689": {
          "model_module": "@jupyter-widgets/controls",
          "model_name": "HTMLModel",
          "model_module_version": "1.5.0",
          "state": {
            "_dom_classes": [],
            "_model_module": "@jupyter-widgets/controls",
            "_model_module_version": "1.5.0",
            "_model_name": "HTMLModel",
            "_view_count": null,
            "_view_module": "@jupyter-widgets/controls",
            "_view_module_version": "1.5.0",
            "_view_name": "HTMLView",
            "description": "",
            "description_tooltip": null,
            "layout": "IPY_MODEL_b8392f45cfca4de18fecd6d546be361d",
            "placeholder": "​",
            "style": "IPY_MODEL_a8cc58b0093b45d696bb5e8ec606faf1",
            "value": " 612/612 [00:00&lt;00:00, 35.1kB/s]"
          }
        },
        "758a1eb728d140a78f18b495a666ecd6": {
          "model_module": "@jupyter-widgets/base",
          "model_name": "LayoutModel",
          "model_module_version": "1.2.0",
          "state": {
            "_model_module": "@jupyter-widgets/base",
            "_model_module_version": "1.2.0",
            "_model_name": "LayoutModel",
            "_view_count": null,
            "_view_module": "@jupyter-widgets/base",
            "_view_module_version": "1.2.0",
            "_view_name": "LayoutView",
            "align_content": null,
            "align_items": null,
            "align_self": null,
            "border": null,
            "bottom": null,
            "display": null,
            "flex": null,
            "flex_flow": null,
            "grid_area": null,
            "grid_auto_columns": null,
            "grid_auto_flow": null,
            "grid_auto_rows": null,
            "grid_column": null,
            "grid_gap": null,
            "grid_row": null,
            "grid_template_areas": null,
            "grid_template_columns": null,
            "grid_template_rows": null,
            "height": null,
            "justify_content": null,
            "justify_items": null,
            "left": null,
            "margin": null,
            "max_height": null,
            "max_width": null,
            "min_height": null,
            "min_width": null,
            "object_fit": null,
            "object_position": null,
            "order": null,
            "overflow": null,
            "overflow_x": null,
            "overflow_y": null,
            "padding": null,
            "right": null,
            "top": null,
            "visibility": null,
            "width": null
          }
        },
        "5de587c3283f42daba2e757ae8cfb377": {
          "model_module": "@jupyter-widgets/base",
          "model_name": "LayoutModel",
          "model_module_version": "1.2.0",
          "state": {
            "_model_module": "@jupyter-widgets/base",
            "_model_module_version": "1.2.0",
            "_model_name": "LayoutModel",
            "_view_count": null,
            "_view_module": "@jupyter-widgets/base",
            "_view_module_version": "1.2.0",
            "_view_name": "LayoutView",
            "align_content": null,
            "align_items": null,
            "align_self": null,
            "border": null,
            "bottom": null,
            "display": null,
            "flex": null,
            "flex_flow": null,
            "grid_area": null,
            "grid_auto_columns": null,
            "grid_auto_flow": null,
            "grid_auto_rows": null,
            "grid_column": null,
            "grid_gap": null,
            "grid_row": null,
            "grid_template_areas": null,
            "grid_template_columns": null,
            "grid_template_rows": null,
            "height": null,
            "justify_content": null,
            "justify_items": null,
            "left": null,
            "margin": null,
            "max_height": null,
            "max_width": null,
            "min_height": null,
            "min_width": null,
            "object_fit": null,
            "object_position": null,
            "order": null,
            "overflow": null,
            "overflow_x": null,
            "overflow_y": null,
            "padding": null,
            "right": null,
            "top": null,
            "visibility": null,
            "width": null
          }
        },
        "b4d92d10c52443ae9c0a6d357d284422": {
          "model_module": "@jupyter-widgets/controls",
          "model_name": "DescriptionStyleModel",
          "model_module_version": "1.5.0",
          "state": {
            "_model_module": "@jupyter-widgets/controls",
            "_model_module_version": "1.5.0",
            "_model_name": "DescriptionStyleModel",
            "_view_count": null,
            "_view_module": "@jupyter-widgets/base",
            "_view_module_version": "1.2.0",
            "_view_name": "StyleView",
            "description_width": ""
          }
        },
        "a8fb891a9f464839bf2efbb3c1cd2383": {
          "model_module": "@jupyter-widgets/base",
          "model_name": "LayoutModel",
          "model_module_version": "1.2.0",
          "state": {
            "_model_module": "@jupyter-widgets/base",
            "_model_module_version": "1.2.0",
            "_model_name": "LayoutModel",
            "_view_count": null,
            "_view_module": "@jupyter-widgets/base",
            "_view_module_version": "1.2.0",
            "_view_name": "LayoutView",
            "align_content": null,
            "align_items": null,
            "align_self": null,
            "border": null,
            "bottom": null,
            "display": null,
            "flex": null,
            "flex_flow": null,
            "grid_area": null,
            "grid_auto_columns": null,
            "grid_auto_flow": null,
            "grid_auto_rows": null,
            "grid_column": null,
            "grid_gap": null,
            "grid_row": null,
            "grid_template_areas": null,
            "grid_template_columns": null,
            "grid_template_rows": null,
            "height": null,
            "justify_content": null,
            "justify_items": null,
            "left": null,
            "margin": null,
            "max_height": null,
            "max_width": null,
            "min_height": null,
            "min_width": null,
            "object_fit": null,
            "object_position": null,
            "order": null,
            "overflow": null,
            "overflow_x": null,
            "overflow_y": null,
            "padding": null,
            "right": null,
            "top": null,
            "visibility": null,
            "width": null
          }
        },
        "9dce7dc89af946f8aacf5460763d0ccf": {
          "model_module": "@jupyter-widgets/controls",
          "model_name": "ProgressStyleModel",
          "model_module_version": "1.5.0",
          "state": {
            "_model_module": "@jupyter-widgets/controls",
            "_model_module_version": "1.5.0",
            "_model_name": "ProgressStyleModel",
            "_view_count": null,
            "_view_module": "@jupyter-widgets/base",
            "_view_module_version": "1.2.0",
            "_view_name": "StyleView",
            "bar_color": null,
            "description_width": ""
          }
        },
        "b8392f45cfca4de18fecd6d546be361d": {
          "model_module": "@jupyter-widgets/base",
          "model_name": "LayoutModel",
          "model_module_version": "1.2.0",
          "state": {
            "_model_module": "@jupyter-widgets/base",
            "_model_module_version": "1.2.0",
            "_model_name": "LayoutModel",
            "_view_count": null,
            "_view_module": "@jupyter-widgets/base",
            "_view_module_version": "1.2.0",
            "_view_name": "LayoutView",
            "align_content": null,
            "align_items": null,
            "align_self": null,
            "border": null,
            "bottom": null,
            "display": null,
            "flex": null,
            "flex_flow": null,
            "grid_area": null,
            "grid_auto_columns": null,
            "grid_auto_flow": null,
            "grid_auto_rows": null,
            "grid_column": null,
            "grid_gap": null,
            "grid_row": null,
            "grid_template_areas": null,
            "grid_template_columns": null,
            "grid_template_rows": null,
            "height": null,
            "justify_content": null,
            "justify_items": null,
            "left": null,
            "margin": null,
            "max_height": null,
            "max_width": null,
            "min_height": null,
            "min_width": null,
            "object_fit": null,
            "object_position": null,
            "order": null,
            "overflow": null,
            "overflow_x": null,
            "overflow_y": null,
            "padding": null,
            "right": null,
            "top": null,
            "visibility": null,
            "width": null
          }
        },
        "a8cc58b0093b45d696bb5e8ec606faf1": {
          "model_module": "@jupyter-widgets/controls",
          "model_name": "DescriptionStyleModel",
          "model_module_version": "1.5.0",
          "state": {
            "_model_module": "@jupyter-widgets/controls",
            "_model_module_version": "1.5.0",
            "_model_name": "DescriptionStyleModel",
            "_view_count": null,
            "_view_module": "@jupyter-widgets/base",
            "_view_module_version": "1.2.0",
            "_view_name": "StyleView",
            "description_width": ""
          }
        },
        "073f281f74604bdcb8df391d9dfbd742": {
          "model_module": "@jupyter-widgets/controls",
          "model_name": "HBoxModel",
          "model_module_version": "1.5.0",
          "state": {
            "_dom_classes": [],
            "_model_module": "@jupyter-widgets/controls",
            "_model_module_version": "1.5.0",
            "_model_name": "HBoxModel",
            "_view_count": null,
            "_view_module": "@jupyter-widgets/controls",
            "_view_module_version": "1.5.0",
            "_view_name": "HBoxView",
            "box_style": "",
            "children": [
              "IPY_MODEL_39b14ef2e46c42a0861226e8a216e08e",
              "IPY_MODEL_a23e55ae7bf24ebdbfb1e841ab857cad",
              "IPY_MODEL_23c4b7309e6f446abe94bc7317e47537"
            ],
            "layout": "IPY_MODEL_4ff0b3da335b46148e977e1fc531a8f2"
          }
        },
        "39b14ef2e46c42a0861226e8a216e08e": {
          "model_module": "@jupyter-widgets/controls",
          "model_name": "HTMLModel",
          "model_module_version": "1.5.0",
          "state": {
            "_dom_classes": [],
            "_model_module": "@jupyter-widgets/controls",
            "_model_module_version": "1.5.0",
            "_model_name": "HTMLModel",
            "_view_count": null,
            "_view_module": "@jupyter-widgets/controls",
            "_view_module_version": "1.5.0",
            "_view_name": "HTMLView",
            "description": "",
            "description_tooltip": null,
            "layout": "IPY_MODEL_2a2833587d524a998adc211bdfb4f6b2",
            "placeholder": "​",
            "style": "IPY_MODEL_70c3d5e9695b4236a0a642afdd618e9c",
            "value": "config_sentence_transformers.json: 100%"
          }
        },
        "a23e55ae7bf24ebdbfb1e841ab857cad": {
          "model_module": "@jupyter-widgets/controls",
          "model_name": "FloatProgressModel",
          "model_module_version": "1.5.0",
          "state": {
            "_dom_classes": [],
            "_model_module": "@jupyter-widgets/controls",
            "_model_module_version": "1.5.0",
            "_model_name": "FloatProgressModel",
            "_view_count": null,
            "_view_module": "@jupyter-widgets/controls",
            "_view_module_version": "1.5.0",
            "_view_name": "ProgressView",
            "bar_style": "success",
            "description": "",
            "description_tooltip": null,
            "layout": "IPY_MODEL_9a464f8777c2454c9c6938be51fe2943",
            "max": 116,
            "min": 0,
            "orientation": "horizontal",
            "style": "IPY_MODEL_548a1eb8ea2d440c965670c6b3eed87c",
            "value": 116
          }
        },
        "23c4b7309e6f446abe94bc7317e47537": {
          "model_module": "@jupyter-widgets/controls",
          "model_name": "HTMLModel",
          "model_module_version": "1.5.0",
          "state": {
            "_dom_classes": [],
            "_model_module": "@jupyter-widgets/controls",
            "_model_module_version": "1.5.0",
            "_model_name": "HTMLModel",
            "_view_count": null,
            "_view_module": "@jupyter-widgets/controls",
            "_view_module_version": "1.5.0",
            "_view_name": "HTMLView",
            "description": "",
            "description_tooltip": null,
            "layout": "IPY_MODEL_19ee564b9c8e4bf8a09689e4fa5ecb21",
            "placeholder": "​",
            "style": "IPY_MODEL_578e8469179149ad892aa9cdc8058b62",
            "value": " 116/116 [00:00&lt;00:00, 7.36kB/s]"
          }
        },
        "4ff0b3da335b46148e977e1fc531a8f2": {
          "model_module": "@jupyter-widgets/base",
          "model_name": "LayoutModel",
          "model_module_version": "1.2.0",
          "state": {
            "_model_module": "@jupyter-widgets/base",
            "_model_module_version": "1.2.0",
            "_model_name": "LayoutModel",
            "_view_count": null,
            "_view_module": "@jupyter-widgets/base",
            "_view_module_version": "1.2.0",
            "_view_name": "LayoutView",
            "align_content": null,
            "align_items": null,
            "align_self": null,
            "border": null,
            "bottom": null,
            "display": null,
            "flex": null,
            "flex_flow": null,
            "grid_area": null,
            "grid_auto_columns": null,
            "grid_auto_flow": null,
            "grid_auto_rows": null,
            "grid_column": null,
            "grid_gap": null,
            "grid_row": null,
            "grid_template_areas": null,
            "grid_template_columns": null,
            "grid_template_rows": null,
            "height": null,
            "justify_content": null,
            "justify_items": null,
            "left": null,
            "margin": null,
            "max_height": null,
            "max_width": null,
            "min_height": null,
            "min_width": null,
            "object_fit": null,
            "object_position": null,
            "order": null,
            "overflow": null,
            "overflow_x": null,
            "overflow_y": null,
            "padding": null,
            "right": null,
            "top": null,
            "visibility": null,
            "width": null
          }
        },
        "2a2833587d524a998adc211bdfb4f6b2": {
          "model_module": "@jupyter-widgets/base",
          "model_name": "LayoutModel",
          "model_module_version": "1.2.0",
          "state": {
            "_model_module": "@jupyter-widgets/base",
            "_model_module_version": "1.2.0",
            "_model_name": "LayoutModel",
            "_view_count": null,
            "_view_module": "@jupyter-widgets/base",
            "_view_module_version": "1.2.0",
            "_view_name": "LayoutView",
            "align_content": null,
            "align_items": null,
            "align_self": null,
            "border": null,
            "bottom": null,
            "display": null,
            "flex": null,
            "flex_flow": null,
            "grid_area": null,
            "grid_auto_columns": null,
            "grid_auto_flow": null,
            "grid_auto_rows": null,
            "grid_column": null,
            "grid_gap": null,
            "grid_row": null,
            "grid_template_areas": null,
            "grid_template_columns": null,
            "grid_template_rows": null,
            "height": null,
            "justify_content": null,
            "justify_items": null,
            "left": null,
            "margin": null,
            "max_height": null,
            "max_width": null,
            "min_height": null,
            "min_width": null,
            "object_fit": null,
            "object_position": null,
            "order": null,
            "overflow": null,
            "overflow_x": null,
            "overflow_y": null,
            "padding": null,
            "right": null,
            "top": null,
            "visibility": null,
            "width": null
          }
        },
        "70c3d5e9695b4236a0a642afdd618e9c": {
          "model_module": "@jupyter-widgets/controls",
          "model_name": "DescriptionStyleModel",
          "model_module_version": "1.5.0",
          "state": {
            "_model_module": "@jupyter-widgets/controls",
            "_model_module_version": "1.5.0",
            "_model_name": "DescriptionStyleModel",
            "_view_count": null,
            "_view_module": "@jupyter-widgets/base",
            "_view_module_version": "1.2.0",
            "_view_name": "StyleView",
            "description_width": ""
          }
        },
        "9a464f8777c2454c9c6938be51fe2943": {
          "model_module": "@jupyter-widgets/base",
          "model_name": "LayoutModel",
          "model_module_version": "1.2.0",
          "state": {
            "_model_module": "@jupyter-widgets/base",
            "_model_module_version": "1.2.0",
            "_model_name": "LayoutModel",
            "_view_count": null,
            "_view_module": "@jupyter-widgets/base",
            "_view_module_version": "1.2.0",
            "_view_name": "LayoutView",
            "align_content": null,
            "align_items": null,
            "align_self": null,
            "border": null,
            "bottom": null,
            "display": null,
            "flex": null,
            "flex_flow": null,
            "grid_area": null,
            "grid_auto_columns": null,
            "grid_auto_flow": null,
            "grid_auto_rows": null,
            "grid_column": null,
            "grid_gap": null,
            "grid_row": null,
            "grid_template_areas": null,
            "grid_template_columns": null,
            "grid_template_rows": null,
            "height": null,
            "justify_content": null,
            "justify_items": null,
            "left": null,
            "margin": null,
            "max_height": null,
            "max_width": null,
            "min_height": null,
            "min_width": null,
            "object_fit": null,
            "object_position": null,
            "order": null,
            "overflow": null,
            "overflow_x": null,
            "overflow_y": null,
            "padding": null,
            "right": null,
            "top": null,
            "visibility": null,
            "width": null
          }
        },
        "548a1eb8ea2d440c965670c6b3eed87c": {
          "model_module": "@jupyter-widgets/controls",
          "model_name": "ProgressStyleModel",
          "model_module_version": "1.5.0",
          "state": {
            "_model_module": "@jupyter-widgets/controls",
            "_model_module_version": "1.5.0",
            "_model_name": "ProgressStyleModel",
            "_view_count": null,
            "_view_module": "@jupyter-widgets/base",
            "_view_module_version": "1.2.0",
            "_view_name": "StyleView",
            "bar_color": null,
            "description_width": ""
          }
        },
        "19ee564b9c8e4bf8a09689e4fa5ecb21": {
          "model_module": "@jupyter-widgets/base",
          "model_name": "LayoutModel",
          "model_module_version": "1.2.0",
          "state": {
            "_model_module": "@jupyter-widgets/base",
            "_model_module_version": "1.2.0",
            "_model_name": "LayoutModel",
            "_view_count": null,
            "_view_module": "@jupyter-widgets/base",
            "_view_module_version": "1.2.0",
            "_view_name": "LayoutView",
            "align_content": null,
            "align_items": null,
            "align_self": null,
            "border": null,
            "bottom": null,
            "display": null,
            "flex": null,
            "flex_flow": null,
            "grid_area": null,
            "grid_auto_columns": null,
            "grid_auto_flow": null,
            "grid_auto_rows": null,
            "grid_column": null,
            "grid_gap": null,
            "grid_row": null,
            "grid_template_areas": null,
            "grid_template_columns": null,
            "grid_template_rows": null,
            "height": null,
            "justify_content": null,
            "justify_items": null,
            "left": null,
            "margin": null,
            "max_height": null,
            "max_width": null,
            "min_height": null,
            "min_width": null,
            "object_fit": null,
            "object_position": null,
            "order": null,
            "overflow": null,
            "overflow_x": null,
            "overflow_y": null,
            "padding": null,
            "right": null,
            "top": null,
            "visibility": null,
            "width": null
          }
        },
        "578e8469179149ad892aa9cdc8058b62": {
          "model_module": "@jupyter-widgets/controls",
          "model_name": "DescriptionStyleModel",
          "model_module_version": "1.5.0",
          "state": {
            "_model_module": "@jupyter-widgets/controls",
            "_model_module_version": "1.5.0",
            "_model_name": "DescriptionStyleModel",
            "_view_count": null,
            "_view_module": "@jupyter-widgets/base",
            "_view_module_version": "1.2.0",
            "_view_name": "StyleView",
            "description_width": ""
          }
        },
        "709c1d77f9e64c6e89a27c31c8f705ea": {
          "model_module": "@jupyter-widgets/controls",
          "model_name": "HBoxModel",
          "model_module_version": "1.5.0",
          "state": {
            "_dom_classes": [],
            "_model_module": "@jupyter-widgets/controls",
            "_model_module_version": "1.5.0",
            "_model_name": "HBoxModel",
            "_view_count": null,
            "_view_module": "@jupyter-widgets/controls",
            "_view_module_version": "1.5.0",
            "_view_name": "HBoxView",
            "box_style": "",
            "children": [
              "IPY_MODEL_da35d734124040ac9ff6c179d667fb72",
              "IPY_MODEL_d2ed49e574a14d59858a9fcda2711aba",
              "IPY_MODEL_f346eb39d7304f7998157f4dd00ca3d4"
            ],
            "layout": "IPY_MODEL_97c65b91360f49468e97dbb524326c73"
          }
        },
        "da35d734124040ac9ff6c179d667fb72": {
          "model_module": "@jupyter-widgets/controls",
          "model_name": "HTMLModel",
          "model_module_version": "1.5.0",
          "state": {
            "_dom_classes": [],
            "_model_module": "@jupyter-widgets/controls",
            "_model_module_version": "1.5.0",
            "_model_name": "HTMLModel",
            "_view_count": null,
            "_view_module": "@jupyter-widgets/controls",
            "_view_module_version": "1.5.0",
            "_view_name": "HTMLView",
            "description": "",
            "description_tooltip": null,
            "layout": "IPY_MODEL_2d8896626f77413aac1cb37ca63964bc",
            "placeholder": "​",
            "style": "IPY_MODEL_149109891333425ebab0201e7b513443",
            "value": "data_config.json: 100%"
          }
        },
        "d2ed49e574a14d59858a9fcda2711aba": {
          "model_module": "@jupyter-widgets/controls",
          "model_name": "FloatProgressModel",
          "model_module_version": "1.5.0",
          "state": {
            "_dom_classes": [],
            "_model_module": "@jupyter-widgets/controls",
            "_model_module_version": "1.5.0",
            "_model_name": "FloatProgressModel",
            "_view_count": null,
            "_view_module": "@jupyter-widgets/controls",
            "_view_module_version": "1.5.0",
            "_view_name": "ProgressView",
            "bar_style": "success",
            "description": "",
            "description_tooltip": null,
            "layout": "IPY_MODEL_216d8376fb104a43b42d4270c3133d52",
            "max": 39265,
            "min": 0,
            "orientation": "horizontal",
            "style": "IPY_MODEL_bfc57e1ac4fd491d8341406dd0a46847",
            "value": 39265
          }
        },
        "f346eb39d7304f7998157f4dd00ca3d4": {
          "model_module": "@jupyter-widgets/controls",
          "model_name": "HTMLModel",
          "model_module_version": "1.5.0",
          "state": {
            "_dom_classes": [],
            "_model_module": "@jupyter-widgets/controls",
            "_model_module_version": "1.5.0",
            "_model_name": "HTMLModel",
            "_view_count": null,
            "_view_module": "@jupyter-widgets/controls",
            "_view_module_version": "1.5.0",
            "_view_name": "HTMLView",
            "description": "",
            "description_tooltip": null,
            "layout": "IPY_MODEL_93d5253315114c50a9a30038181ffa07",
            "placeholder": "​",
            "style": "IPY_MODEL_1f3ac5515f8d4d17a8171095a77dccff",
            "value": " 39.3k/39.3k [00:00&lt;00:00, 1.60MB/s]"
          }
        },
        "97c65b91360f49468e97dbb524326c73": {
          "model_module": "@jupyter-widgets/base",
          "model_name": "LayoutModel",
          "model_module_version": "1.2.0",
          "state": {
            "_model_module": "@jupyter-widgets/base",
            "_model_module_version": "1.2.0",
            "_model_name": "LayoutModel",
            "_view_count": null,
            "_view_module": "@jupyter-widgets/base",
            "_view_module_version": "1.2.0",
            "_view_name": "LayoutView",
            "align_content": null,
            "align_items": null,
            "align_self": null,
            "border": null,
            "bottom": null,
            "display": null,
            "flex": null,
            "flex_flow": null,
            "grid_area": null,
            "grid_auto_columns": null,
            "grid_auto_flow": null,
            "grid_auto_rows": null,
            "grid_column": null,
            "grid_gap": null,
            "grid_row": null,
            "grid_template_areas": null,
            "grid_template_columns": null,
            "grid_template_rows": null,
            "height": null,
            "justify_content": null,
            "justify_items": null,
            "left": null,
            "margin": null,
            "max_height": null,
            "max_width": null,
            "min_height": null,
            "min_width": null,
            "object_fit": null,
            "object_position": null,
            "order": null,
            "overflow": null,
            "overflow_x": null,
            "overflow_y": null,
            "padding": null,
            "right": null,
            "top": null,
            "visibility": null,
            "width": null
          }
        },
        "2d8896626f77413aac1cb37ca63964bc": {
          "model_module": "@jupyter-widgets/base",
          "model_name": "LayoutModel",
          "model_module_version": "1.2.0",
          "state": {
            "_model_module": "@jupyter-widgets/base",
            "_model_module_version": "1.2.0",
            "_model_name": "LayoutModel",
            "_view_count": null,
            "_view_module": "@jupyter-widgets/base",
            "_view_module_version": "1.2.0",
            "_view_name": "LayoutView",
            "align_content": null,
            "align_items": null,
            "align_self": null,
            "border": null,
            "bottom": null,
            "display": null,
            "flex": null,
            "flex_flow": null,
            "grid_area": null,
            "grid_auto_columns": null,
            "grid_auto_flow": null,
            "grid_auto_rows": null,
            "grid_column": null,
            "grid_gap": null,
            "grid_row": null,
            "grid_template_areas": null,
            "grid_template_columns": null,
            "grid_template_rows": null,
            "height": null,
            "justify_content": null,
            "justify_items": null,
            "left": null,
            "margin": null,
            "max_height": null,
            "max_width": null,
            "min_height": null,
            "min_width": null,
            "object_fit": null,
            "object_position": null,
            "order": null,
            "overflow": null,
            "overflow_x": null,
            "overflow_y": null,
            "padding": null,
            "right": null,
            "top": null,
            "visibility": null,
            "width": null
          }
        },
        "149109891333425ebab0201e7b513443": {
          "model_module": "@jupyter-widgets/controls",
          "model_name": "DescriptionStyleModel",
          "model_module_version": "1.5.0",
          "state": {
            "_model_module": "@jupyter-widgets/controls",
            "_model_module_version": "1.5.0",
            "_model_name": "DescriptionStyleModel",
            "_view_count": null,
            "_view_module": "@jupyter-widgets/base",
            "_view_module_version": "1.2.0",
            "_view_name": "StyleView",
            "description_width": ""
          }
        },
        "216d8376fb104a43b42d4270c3133d52": {
          "model_module": "@jupyter-widgets/base",
          "model_name": "LayoutModel",
          "model_module_version": "1.2.0",
          "state": {
            "_model_module": "@jupyter-widgets/base",
            "_model_module_version": "1.2.0",
            "_model_name": "LayoutModel",
            "_view_count": null,
            "_view_module": "@jupyter-widgets/base",
            "_view_module_version": "1.2.0",
            "_view_name": "LayoutView",
            "align_content": null,
            "align_items": null,
            "align_self": null,
            "border": null,
            "bottom": null,
            "display": null,
            "flex": null,
            "flex_flow": null,
            "grid_area": null,
            "grid_auto_columns": null,
            "grid_auto_flow": null,
            "grid_auto_rows": null,
            "grid_column": null,
            "grid_gap": null,
            "grid_row": null,
            "grid_template_areas": null,
            "grid_template_columns": null,
            "grid_template_rows": null,
            "height": null,
            "justify_content": null,
            "justify_items": null,
            "left": null,
            "margin": null,
            "max_height": null,
            "max_width": null,
            "min_height": null,
            "min_width": null,
            "object_fit": null,
            "object_position": null,
            "order": null,
            "overflow": null,
            "overflow_x": null,
            "overflow_y": null,
            "padding": null,
            "right": null,
            "top": null,
            "visibility": null,
            "width": null
          }
        },
        "bfc57e1ac4fd491d8341406dd0a46847": {
          "model_module": "@jupyter-widgets/controls",
          "model_name": "ProgressStyleModel",
          "model_module_version": "1.5.0",
          "state": {
            "_model_module": "@jupyter-widgets/controls",
            "_model_module_version": "1.5.0",
            "_model_name": "ProgressStyleModel",
            "_view_count": null,
            "_view_module": "@jupyter-widgets/base",
            "_view_module_version": "1.2.0",
            "_view_name": "StyleView",
            "bar_color": null,
            "description_width": ""
          }
        },
        "93d5253315114c50a9a30038181ffa07": {
          "model_module": "@jupyter-widgets/base",
          "model_name": "LayoutModel",
          "model_module_version": "1.2.0",
          "state": {
            "_model_module": "@jupyter-widgets/base",
            "_model_module_version": "1.2.0",
            "_model_name": "LayoutModel",
            "_view_count": null,
            "_view_module": "@jupyter-widgets/base",
            "_view_module_version": "1.2.0",
            "_view_name": "LayoutView",
            "align_content": null,
            "align_items": null,
            "align_self": null,
            "border": null,
            "bottom": null,
            "display": null,
            "flex": null,
            "flex_flow": null,
            "grid_area": null,
            "grid_auto_columns": null,
            "grid_auto_flow": null,
            "grid_auto_rows": null,
            "grid_column": null,
            "grid_gap": null,
            "grid_row": null,
            "grid_template_areas": null,
            "grid_template_columns": null,
            "grid_template_rows": null,
            "height": null,
            "justify_content": null,
            "justify_items": null,
            "left": null,
            "margin": null,
            "max_height": null,
            "max_width": null,
            "min_height": null,
            "min_width": null,
            "object_fit": null,
            "object_position": null,
            "order": null,
            "overflow": null,
            "overflow_x": null,
            "overflow_y": null,
            "padding": null,
            "right": null,
            "top": null,
            "visibility": null,
            "width": null
          }
        },
        "1f3ac5515f8d4d17a8171095a77dccff": {
          "model_module": "@jupyter-widgets/controls",
          "model_name": "DescriptionStyleModel",
          "model_module_version": "1.5.0",
          "state": {
            "_model_module": "@jupyter-widgets/controls",
            "_model_module_version": "1.5.0",
            "_model_name": "DescriptionStyleModel",
            "_view_count": null,
            "_view_module": "@jupyter-widgets/base",
            "_view_module_version": "1.2.0",
            "_view_name": "StyleView",
            "description_width": ""
          }
        },
        "954a8c19a42b435b92f4d841ac19a00c": {
          "model_module": "@jupyter-widgets/controls",
          "model_name": "HBoxModel",
          "model_module_version": "1.5.0",
          "state": {
            "_dom_classes": [],
            "_model_module": "@jupyter-widgets/controls",
            "_model_module_version": "1.5.0",
            "_model_name": "HBoxModel",
            "_view_count": null,
            "_view_module": "@jupyter-widgets/controls",
            "_view_module_version": "1.5.0",
            "_view_name": "HBoxView",
            "box_style": "",
            "children": [
              "IPY_MODEL_1064fe9084034174a9741616c36cab12",
              "IPY_MODEL_c91ac851f0aa4cdab99790edcebae5e4",
              "IPY_MODEL_c7b9f491a6dd4b65842e8cb9d26ec193"
            ],
            "layout": "IPY_MODEL_922f602bd1424fd281e3e582a1a0c08a"
          }
        },
        "1064fe9084034174a9741616c36cab12": {
          "model_module": "@jupyter-widgets/controls",
          "model_name": "HTMLModel",
          "model_module_version": "1.5.0",
          "state": {
            "_dom_classes": [],
            "_model_module": "@jupyter-widgets/controls",
            "_model_module_version": "1.5.0",
            "_model_name": "HTMLModel",
            "_view_count": null,
            "_view_module": "@jupyter-widgets/controls",
            "_view_module_version": "1.5.0",
            "_view_name": "HTMLView",
            "description": "",
            "description_tooltip": null,
            "layout": "IPY_MODEL_abac8a230fa54fdbbc74304e5bf1d81a",
            "placeholder": "​",
            "style": "IPY_MODEL_ae385c777ef34440b5f51245bba56280",
            "value": "pytorch_model.bin: 100%"
          }
        },
        "c91ac851f0aa4cdab99790edcebae5e4": {
          "model_module": "@jupyter-widgets/controls",
          "model_name": "FloatProgressModel",
          "model_module_version": "1.5.0",
          "state": {
            "_dom_classes": [],
            "_model_module": "@jupyter-widgets/controls",
            "_model_module_version": "1.5.0",
            "_model_name": "FloatProgressModel",
            "_view_count": null,
            "_view_module": "@jupyter-widgets/controls",
            "_view_module_version": "1.5.0",
            "_view_name": "ProgressView",
            "bar_style": "success",
            "description": "",
            "description_tooltip": null,
            "layout": "IPY_MODEL_f54a553af7f545e9997e621fac2d03f8",
            "max": 90888945,
            "min": 0,
            "orientation": "horizontal",
            "style": "IPY_MODEL_8483e03146aa4c6b899988c092ed60e8",
            "value": 90888945
          }
        },
        "c7b9f491a6dd4b65842e8cb9d26ec193": {
          "model_module": "@jupyter-widgets/controls",
          "model_name": "HTMLModel",
          "model_module_version": "1.5.0",
          "state": {
            "_dom_classes": [],
            "_model_module": "@jupyter-widgets/controls",
            "_model_module_version": "1.5.0",
            "_model_name": "HTMLModel",
            "_view_count": null,
            "_view_module": "@jupyter-widgets/controls",
            "_view_module_version": "1.5.0",
            "_view_name": "HTMLView",
            "description": "",
            "description_tooltip": null,
            "layout": "IPY_MODEL_d0cb3e6ad91f4a1f8a15eb5ce1745e15",
            "placeholder": "​",
            "style": "IPY_MODEL_deaf2a009d66476ba00cafc4c1da4985",
            "value": " 90.9M/90.9M [00:00&lt;00:00, 170MB/s]"
          }
        },
        "922f602bd1424fd281e3e582a1a0c08a": {
          "model_module": "@jupyter-widgets/base",
          "model_name": "LayoutModel",
          "model_module_version": "1.2.0",
          "state": {
            "_model_module": "@jupyter-widgets/base",
            "_model_module_version": "1.2.0",
            "_model_name": "LayoutModel",
            "_view_count": null,
            "_view_module": "@jupyter-widgets/base",
            "_view_module_version": "1.2.0",
            "_view_name": "LayoutView",
            "align_content": null,
            "align_items": null,
            "align_self": null,
            "border": null,
            "bottom": null,
            "display": null,
            "flex": null,
            "flex_flow": null,
            "grid_area": null,
            "grid_auto_columns": null,
            "grid_auto_flow": null,
            "grid_auto_rows": null,
            "grid_column": null,
            "grid_gap": null,
            "grid_row": null,
            "grid_template_areas": null,
            "grid_template_columns": null,
            "grid_template_rows": null,
            "height": null,
            "justify_content": null,
            "justify_items": null,
            "left": null,
            "margin": null,
            "max_height": null,
            "max_width": null,
            "min_height": null,
            "min_width": null,
            "object_fit": null,
            "object_position": null,
            "order": null,
            "overflow": null,
            "overflow_x": null,
            "overflow_y": null,
            "padding": null,
            "right": null,
            "top": null,
            "visibility": null,
            "width": null
          }
        },
        "abac8a230fa54fdbbc74304e5bf1d81a": {
          "model_module": "@jupyter-widgets/base",
          "model_name": "LayoutModel",
          "model_module_version": "1.2.0",
          "state": {
            "_model_module": "@jupyter-widgets/base",
            "_model_module_version": "1.2.0",
            "_model_name": "LayoutModel",
            "_view_count": null,
            "_view_module": "@jupyter-widgets/base",
            "_view_module_version": "1.2.0",
            "_view_name": "LayoutView",
            "align_content": null,
            "align_items": null,
            "align_self": null,
            "border": null,
            "bottom": null,
            "display": null,
            "flex": null,
            "flex_flow": null,
            "grid_area": null,
            "grid_auto_columns": null,
            "grid_auto_flow": null,
            "grid_auto_rows": null,
            "grid_column": null,
            "grid_gap": null,
            "grid_row": null,
            "grid_template_areas": null,
            "grid_template_columns": null,
            "grid_template_rows": null,
            "height": null,
            "justify_content": null,
            "justify_items": null,
            "left": null,
            "margin": null,
            "max_height": null,
            "max_width": null,
            "min_height": null,
            "min_width": null,
            "object_fit": null,
            "object_position": null,
            "order": null,
            "overflow": null,
            "overflow_x": null,
            "overflow_y": null,
            "padding": null,
            "right": null,
            "top": null,
            "visibility": null,
            "width": null
          }
        },
        "ae385c777ef34440b5f51245bba56280": {
          "model_module": "@jupyter-widgets/controls",
          "model_name": "DescriptionStyleModel",
          "model_module_version": "1.5.0",
          "state": {
            "_model_module": "@jupyter-widgets/controls",
            "_model_module_version": "1.5.0",
            "_model_name": "DescriptionStyleModel",
            "_view_count": null,
            "_view_module": "@jupyter-widgets/base",
            "_view_module_version": "1.2.0",
            "_view_name": "StyleView",
            "description_width": ""
          }
        },
        "f54a553af7f545e9997e621fac2d03f8": {
          "model_module": "@jupyter-widgets/base",
          "model_name": "LayoutModel",
          "model_module_version": "1.2.0",
          "state": {
            "_model_module": "@jupyter-widgets/base",
            "_model_module_version": "1.2.0",
            "_model_name": "LayoutModel",
            "_view_count": null,
            "_view_module": "@jupyter-widgets/base",
            "_view_module_version": "1.2.0",
            "_view_name": "LayoutView",
            "align_content": null,
            "align_items": null,
            "align_self": null,
            "border": null,
            "bottom": null,
            "display": null,
            "flex": null,
            "flex_flow": null,
            "grid_area": null,
            "grid_auto_columns": null,
            "grid_auto_flow": null,
            "grid_auto_rows": null,
            "grid_column": null,
            "grid_gap": null,
            "grid_row": null,
            "grid_template_areas": null,
            "grid_template_columns": null,
            "grid_template_rows": null,
            "height": null,
            "justify_content": null,
            "justify_items": null,
            "left": null,
            "margin": null,
            "max_height": null,
            "max_width": null,
            "min_height": null,
            "min_width": null,
            "object_fit": null,
            "object_position": null,
            "order": null,
            "overflow": null,
            "overflow_x": null,
            "overflow_y": null,
            "padding": null,
            "right": null,
            "top": null,
            "visibility": null,
            "width": null
          }
        },
        "8483e03146aa4c6b899988c092ed60e8": {
          "model_module": "@jupyter-widgets/controls",
          "model_name": "ProgressStyleModel",
          "model_module_version": "1.5.0",
          "state": {
            "_model_module": "@jupyter-widgets/controls",
            "_model_module_version": "1.5.0",
            "_model_name": "ProgressStyleModel",
            "_view_count": null,
            "_view_module": "@jupyter-widgets/base",
            "_view_module_version": "1.2.0",
            "_view_name": "StyleView",
            "bar_color": null,
            "description_width": ""
          }
        },
        "d0cb3e6ad91f4a1f8a15eb5ce1745e15": {
          "model_module": "@jupyter-widgets/base",
          "model_name": "LayoutModel",
          "model_module_version": "1.2.0",
          "state": {
            "_model_module": "@jupyter-widgets/base",
            "_model_module_version": "1.2.0",
            "_model_name": "LayoutModel",
            "_view_count": null,
            "_view_module": "@jupyter-widgets/base",
            "_view_module_version": "1.2.0",
            "_view_name": "LayoutView",
            "align_content": null,
            "align_items": null,
            "align_self": null,
            "border": null,
            "bottom": null,
            "display": null,
            "flex": null,
            "flex_flow": null,
            "grid_area": null,
            "grid_auto_columns": null,
            "grid_auto_flow": null,
            "grid_auto_rows": null,
            "grid_column": null,
            "grid_gap": null,
            "grid_row": null,
            "grid_template_areas": null,
            "grid_template_columns": null,
            "grid_template_rows": null,
            "height": null,
            "justify_content": null,
            "justify_items": null,
            "left": null,
            "margin": null,
            "max_height": null,
            "max_width": null,
            "min_height": null,
            "min_width": null,
            "object_fit": null,
            "object_position": null,
            "order": null,
            "overflow": null,
            "overflow_x": null,
            "overflow_y": null,
            "padding": null,
            "right": null,
            "top": null,
            "visibility": null,
            "width": null
          }
        },
        "deaf2a009d66476ba00cafc4c1da4985": {
          "model_module": "@jupyter-widgets/controls",
          "model_name": "DescriptionStyleModel",
          "model_module_version": "1.5.0",
          "state": {
            "_model_module": "@jupyter-widgets/controls",
            "_model_module_version": "1.5.0",
            "_model_name": "DescriptionStyleModel",
            "_view_count": null,
            "_view_module": "@jupyter-widgets/base",
            "_view_module_version": "1.2.0",
            "_view_name": "StyleView",
            "description_width": ""
          }
        },
        "da0cfa093f484c77a6b4f88b7d307d4f": {
          "model_module": "@jupyter-widgets/controls",
          "model_name": "HBoxModel",
          "model_module_version": "1.5.0",
          "state": {
            "_dom_classes": [],
            "_model_module": "@jupyter-widgets/controls",
            "_model_module_version": "1.5.0",
            "_model_name": "HBoxModel",
            "_view_count": null,
            "_view_module": "@jupyter-widgets/controls",
            "_view_module_version": "1.5.0",
            "_view_name": "HBoxView",
            "box_style": "",
            "children": [
              "IPY_MODEL_9f6e5e2a091d40af9283716b5a2304cb",
              "IPY_MODEL_55dc733e73194d5084c18fdceaa60c02",
              "IPY_MODEL_bb199155fff645f0ae71f7303ff02bfa"
            ],
            "layout": "IPY_MODEL_6203eaaced0b4670a86c6252a420486f"
          }
        },
        "9f6e5e2a091d40af9283716b5a2304cb": {
          "model_module": "@jupyter-widgets/controls",
          "model_name": "HTMLModel",
          "model_module_version": "1.5.0",
          "state": {
            "_dom_classes": [],
            "_model_module": "@jupyter-widgets/controls",
            "_model_module_version": "1.5.0",
            "_model_name": "HTMLModel",
            "_view_count": null,
            "_view_module": "@jupyter-widgets/controls",
            "_view_module_version": "1.5.0",
            "_view_name": "HTMLView",
            "description": "",
            "description_tooltip": null,
            "layout": "IPY_MODEL_2ba61273a87644bd8ccc0db78a4f8678",
            "placeholder": "​",
            "style": "IPY_MODEL_ba1599f6d83640faa335d99fb94fdff6",
            "value": "sentence_bert_config.json: 100%"
          }
        },
        "55dc733e73194d5084c18fdceaa60c02": {
          "model_module": "@jupyter-widgets/controls",
          "model_name": "FloatProgressModel",
          "model_module_version": "1.5.0",
          "state": {
            "_dom_classes": [],
            "_model_module": "@jupyter-widgets/controls",
            "_model_module_version": "1.5.0",
            "_model_name": "FloatProgressModel",
            "_view_count": null,
            "_view_module": "@jupyter-widgets/controls",
            "_view_module_version": "1.5.0",
            "_view_name": "ProgressView",
            "bar_style": "success",
            "description": "",
            "description_tooltip": null,
            "layout": "IPY_MODEL_620a41651a6941e5b76fa3adc069df62",
            "max": 53,
            "min": 0,
            "orientation": "horizontal",
            "style": "IPY_MODEL_1f19871268aa4da2ae12f5bcdaffd61a",
            "value": 53
          }
        },
        "bb199155fff645f0ae71f7303ff02bfa": {
          "model_module": "@jupyter-widgets/controls",
          "model_name": "HTMLModel",
          "model_module_version": "1.5.0",
          "state": {
            "_dom_classes": [],
            "_model_module": "@jupyter-widgets/controls",
            "_model_module_version": "1.5.0",
            "_model_name": "HTMLModel",
            "_view_count": null,
            "_view_module": "@jupyter-widgets/controls",
            "_view_module_version": "1.5.0",
            "_view_name": "HTMLView",
            "description": "",
            "description_tooltip": null,
            "layout": "IPY_MODEL_d2b8cc6fe67f46e889d645be964730ca",
            "placeholder": "​",
            "style": "IPY_MODEL_c99520e0a51b4e8ca476018d5b42fe31",
            "value": " 53.0/53.0 [00:00&lt;00:00, 1.96kB/s]"
          }
        },
        "6203eaaced0b4670a86c6252a420486f": {
          "model_module": "@jupyter-widgets/base",
          "model_name": "LayoutModel",
          "model_module_version": "1.2.0",
          "state": {
            "_model_module": "@jupyter-widgets/base",
            "_model_module_version": "1.2.0",
            "_model_name": "LayoutModel",
            "_view_count": null,
            "_view_module": "@jupyter-widgets/base",
            "_view_module_version": "1.2.0",
            "_view_name": "LayoutView",
            "align_content": null,
            "align_items": null,
            "align_self": null,
            "border": null,
            "bottom": null,
            "display": null,
            "flex": null,
            "flex_flow": null,
            "grid_area": null,
            "grid_auto_columns": null,
            "grid_auto_flow": null,
            "grid_auto_rows": null,
            "grid_column": null,
            "grid_gap": null,
            "grid_row": null,
            "grid_template_areas": null,
            "grid_template_columns": null,
            "grid_template_rows": null,
            "height": null,
            "justify_content": null,
            "justify_items": null,
            "left": null,
            "margin": null,
            "max_height": null,
            "max_width": null,
            "min_height": null,
            "min_width": null,
            "object_fit": null,
            "object_position": null,
            "order": null,
            "overflow": null,
            "overflow_x": null,
            "overflow_y": null,
            "padding": null,
            "right": null,
            "top": null,
            "visibility": null,
            "width": null
          }
        },
        "2ba61273a87644bd8ccc0db78a4f8678": {
          "model_module": "@jupyter-widgets/base",
          "model_name": "LayoutModel",
          "model_module_version": "1.2.0",
          "state": {
            "_model_module": "@jupyter-widgets/base",
            "_model_module_version": "1.2.0",
            "_model_name": "LayoutModel",
            "_view_count": null,
            "_view_module": "@jupyter-widgets/base",
            "_view_module_version": "1.2.0",
            "_view_name": "LayoutView",
            "align_content": null,
            "align_items": null,
            "align_self": null,
            "border": null,
            "bottom": null,
            "display": null,
            "flex": null,
            "flex_flow": null,
            "grid_area": null,
            "grid_auto_columns": null,
            "grid_auto_flow": null,
            "grid_auto_rows": null,
            "grid_column": null,
            "grid_gap": null,
            "grid_row": null,
            "grid_template_areas": null,
            "grid_template_columns": null,
            "grid_template_rows": null,
            "height": null,
            "justify_content": null,
            "justify_items": null,
            "left": null,
            "margin": null,
            "max_height": null,
            "max_width": null,
            "min_height": null,
            "min_width": null,
            "object_fit": null,
            "object_position": null,
            "order": null,
            "overflow": null,
            "overflow_x": null,
            "overflow_y": null,
            "padding": null,
            "right": null,
            "top": null,
            "visibility": null,
            "width": null
          }
        },
        "ba1599f6d83640faa335d99fb94fdff6": {
          "model_module": "@jupyter-widgets/controls",
          "model_name": "DescriptionStyleModel",
          "model_module_version": "1.5.0",
          "state": {
            "_model_module": "@jupyter-widgets/controls",
            "_model_module_version": "1.5.0",
            "_model_name": "DescriptionStyleModel",
            "_view_count": null,
            "_view_module": "@jupyter-widgets/base",
            "_view_module_version": "1.2.0",
            "_view_name": "StyleView",
            "description_width": ""
          }
        },
        "620a41651a6941e5b76fa3adc069df62": {
          "model_module": "@jupyter-widgets/base",
          "model_name": "LayoutModel",
          "model_module_version": "1.2.0",
          "state": {
            "_model_module": "@jupyter-widgets/base",
            "_model_module_version": "1.2.0",
            "_model_name": "LayoutModel",
            "_view_count": null,
            "_view_module": "@jupyter-widgets/base",
            "_view_module_version": "1.2.0",
            "_view_name": "LayoutView",
            "align_content": null,
            "align_items": null,
            "align_self": null,
            "border": null,
            "bottom": null,
            "display": null,
            "flex": null,
            "flex_flow": null,
            "grid_area": null,
            "grid_auto_columns": null,
            "grid_auto_flow": null,
            "grid_auto_rows": null,
            "grid_column": null,
            "grid_gap": null,
            "grid_row": null,
            "grid_template_areas": null,
            "grid_template_columns": null,
            "grid_template_rows": null,
            "height": null,
            "justify_content": null,
            "justify_items": null,
            "left": null,
            "margin": null,
            "max_height": null,
            "max_width": null,
            "min_height": null,
            "min_width": null,
            "object_fit": null,
            "object_position": null,
            "order": null,
            "overflow": null,
            "overflow_x": null,
            "overflow_y": null,
            "padding": null,
            "right": null,
            "top": null,
            "visibility": null,
            "width": null
          }
        },
        "1f19871268aa4da2ae12f5bcdaffd61a": {
          "model_module": "@jupyter-widgets/controls",
          "model_name": "ProgressStyleModel",
          "model_module_version": "1.5.0",
          "state": {
            "_model_module": "@jupyter-widgets/controls",
            "_model_module_version": "1.5.0",
            "_model_name": "ProgressStyleModel",
            "_view_count": null,
            "_view_module": "@jupyter-widgets/base",
            "_view_module_version": "1.2.0",
            "_view_name": "StyleView",
            "bar_color": null,
            "description_width": ""
          }
        },
        "d2b8cc6fe67f46e889d645be964730ca": {
          "model_module": "@jupyter-widgets/base",
          "model_name": "LayoutModel",
          "model_module_version": "1.2.0",
          "state": {
            "_model_module": "@jupyter-widgets/base",
            "_model_module_version": "1.2.0",
            "_model_name": "LayoutModel",
            "_view_count": null,
            "_view_module": "@jupyter-widgets/base",
            "_view_module_version": "1.2.0",
            "_view_name": "LayoutView",
            "align_content": null,
            "align_items": null,
            "align_self": null,
            "border": null,
            "bottom": null,
            "display": null,
            "flex": null,
            "flex_flow": null,
            "grid_area": null,
            "grid_auto_columns": null,
            "grid_auto_flow": null,
            "grid_auto_rows": null,
            "grid_column": null,
            "grid_gap": null,
            "grid_row": null,
            "grid_template_areas": null,
            "grid_template_columns": null,
            "grid_template_rows": null,
            "height": null,
            "justify_content": null,
            "justify_items": null,
            "left": null,
            "margin": null,
            "max_height": null,
            "max_width": null,
            "min_height": null,
            "min_width": null,
            "object_fit": null,
            "object_position": null,
            "order": null,
            "overflow": null,
            "overflow_x": null,
            "overflow_y": null,
            "padding": null,
            "right": null,
            "top": null,
            "visibility": null,
            "width": null
          }
        },
        "c99520e0a51b4e8ca476018d5b42fe31": {
          "model_module": "@jupyter-widgets/controls",
          "model_name": "DescriptionStyleModel",
          "model_module_version": "1.5.0",
          "state": {
            "_model_module": "@jupyter-widgets/controls",
            "_model_module_version": "1.5.0",
            "_model_name": "DescriptionStyleModel",
            "_view_count": null,
            "_view_module": "@jupyter-widgets/base",
            "_view_module_version": "1.2.0",
            "_view_name": "StyleView",
            "description_width": ""
          }
        },
        "1ab11eb5973b42b59f0eccf53ee4af15": {
          "model_module": "@jupyter-widgets/controls",
          "model_name": "HBoxModel",
          "model_module_version": "1.5.0",
          "state": {
            "_dom_classes": [],
            "_model_module": "@jupyter-widgets/controls",
            "_model_module_version": "1.5.0",
            "_model_name": "HBoxModel",
            "_view_count": null,
            "_view_module": "@jupyter-widgets/controls",
            "_view_module_version": "1.5.0",
            "_view_name": "HBoxView",
            "box_style": "",
            "children": [
              "IPY_MODEL_c1eba2ddb6e14521a31c4b954a87a9e4",
              "IPY_MODEL_658cad753ead4488b8a9d10d74644d9b",
              "IPY_MODEL_983d853e68cb4a25a5a43f4bc46a3abb"
            ],
            "layout": "IPY_MODEL_c1ba2ad9564441d1963c21c0a70647a1"
          }
        },
        "c1eba2ddb6e14521a31c4b954a87a9e4": {
          "model_module": "@jupyter-widgets/controls",
          "model_name": "HTMLModel",
          "model_module_version": "1.5.0",
          "state": {
            "_dom_classes": [],
            "_model_module": "@jupyter-widgets/controls",
            "_model_module_version": "1.5.0",
            "_model_name": "HTMLModel",
            "_view_count": null,
            "_view_module": "@jupyter-widgets/controls",
            "_view_module_version": "1.5.0",
            "_view_name": "HTMLView",
            "description": "",
            "description_tooltip": null,
            "layout": "IPY_MODEL_9373e52643e34155b89a8539665b3338",
            "placeholder": "​",
            "style": "IPY_MODEL_4d7e9189f1d14a539f2cfc20999455e5",
            "value": "special_tokens_map.json: 100%"
          }
        },
        "658cad753ead4488b8a9d10d74644d9b": {
          "model_module": "@jupyter-widgets/controls",
          "model_name": "FloatProgressModel",
          "model_module_version": "1.5.0",
          "state": {
            "_dom_classes": [],
            "_model_module": "@jupyter-widgets/controls",
            "_model_module_version": "1.5.0",
            "_model_name": "FloatProgressModel",
            "_view_count": null,
            "_view_module": "@jupyter-widgets/controls",
            "_view_module_version": "1.5.0",
            "_view_name": "ProgressView",
            "bar_style": "success",
            "description": "",
            "description_tooltip": null,
            "layout": "IPY_MODEL_603c163949154b4cadc5bb5b1618163b",
            "max": 112,
            "min": 0,
            "orientation": "horizontal",
            "style": "IPY_MODEL_a2e631d7df6b4fdd94b008fcf0b6e8a4",
            "value": 112
          }
        },
        "983d853e68cb4a25a5a43f4bc46a3abb": {
          "model_module": "@jupyter-widgets/controls",
          "model_name": "HTMLModel",
          "model_module_version": "1.5.0",
          "state": {
            "_dom_classes": [],
            "_model_module": "@jupyter-widgets/controls",
            "_model_module_version": "1.5.0",
            "_model_name": "HTMLModel",
            "_view_count": null,
            "_view_module": "@jupyter-widgets/controls",
            "_view_module_version": "1.5.0",
            "_view_name": "HTMLView",
            "description": "",
            "description_tooltip": null,
            "layout": "IPY_MODEL_8de5863846474725a38b290355a58b39",
            "placeholder": "​",
            "style": "IPY_MODEL_80d297f723994a04bf4caf4d0f150938",
            "value": " 112/112 [00:00&lt;00:00, 5.06kB/s]"
          }
        },
        "c1ba2ad9564441d1963c21c0a70647a1": {
          "model_module": "@jupyter-widgets/base",
          "model_name": "LayoutModel",
          "model_module_version": "1.2.0",
          "state": {
            "_model_module": "@jupyter-widgets/base",
            "_model_module_version": "1.2.0",
            "_model_name": "LayoutModel",
            "_view_count": null,
            "_view_module": "@jupyter-widgets/base",
            "_view_module_version": "1.2.0",
            "_view_name": "LayoutView",
            "align_content": null,
            "align_items": null,
            "align_self": null,
            "border": null,
            "bottom": null,
            "display": null,
            "flex": null,
            "flex_flow": null,
            "grid_area": null,
            "grid_auto_columns": null,
            "grid_auto_flow": null,
            "grid_auto_rows": null,
            "grid_column": null,
            "grid_gap": null,
            "grid_row": null,
            "grid_template_areas": null,
            "grid_template_columns": null,
            "grid_template_rows": null,
            "height": null,
            "justify_content": null,
            "justify_items": null,
            "left": null,
            "margin": null,
            "max_height": null,
            "max_width": null,
            "min_height": null,
            "min_width": null,
            "object_fit": null,
            "object_position": null,
            "order": null,
            "overflow": null,
            "overflow_x": null,
            "overflow_y": null,
            "padding": null,
            "right": null,
            "top": null,
            "visibility": null,
            "width": null
          }
        },
        "9373e52643e34155b89a8539665b3338": {
          "model_module": "@jupyter-widgets/base",
          "model_name": "LayoutModel",
          "model_module_version": "1.2.0",
          "state": {
            "_model_module": "@jupyter-widgets/base",
            "_model_module_version": "1.2.0",
            "_model_name": "LayoutModel",
            "_view_count": null,
            "_view_module": "@jupyter-widgets/base",
            "_view_module_version": "1.2.0",
            "_view_name": "LayoutView",
            "align_content": null,
            "align_items": null,
            "align_self": null,
            "border": null,
            "bottom": null,
            "display": null,
            "flex": null,
            "flex_flow": null,
            "grid_area": null,
            "grid_auto_columns": null,
            "grid_auto_flow": null,
            "grid_auto_rows": null,
            "grid_column": null,
            "grid_gap": null,
            "grid_row": null,
            "grid_template_areas": null,
            "grid_template_columns": null,
            "grid_template_rows": null,
            "height": null,
            "justify_content": null,
            "justify_items": null,
            "left": null,
            "margin": null,
            "max_height": null,
            "max_width": null,
            "min_height": null,
            "min_width": null,
            "object_fit": null,
            "object_position": null,
            "order": null,
            "overflow": null,
            "overflow_x": null,
            "overflow_y": null,
            "padding": null,
            "right": null,
            "top": null,
            "visibility": null,
            "width": null
          }
        },
        "4d7e9189f1d14a539f2cfc20999455e5": {
          "model_module": "@jupyter-widgets/controls",
          "model_name": "DescriptionStyleModel",
          "model_module_version": "1.5.0",
          "state": {
            "_model_module": "@jupyter-widgets/controls",
            "_model_module_version": "1.5.0",
            "_model_name": "DescriptionStyleModel",
            "_view_count": null,
            "_view_module": "@jupyter-widgets/base",
            "_view_module_version": "1.2.0",
            "_view_name": "StyleView",
            "description_width": ""
          }
        },
        "603c163949154b4cadc5bb5b1618163b": {
          "model_module": "@jupyter-widgets/base",
          "model_name": "LayoutModel",
          "model_module_version": "1.2.0",
          "state": {
            "_model_module": "@jupyter-widgets/base",
            "_model_module_version": "1.2.0",
            "_model_name": "LayoutModel",
            "_view_count": null,
            "_view_module": "@jupyter-widgets/base",
            "_view_module_version": "1.2.0",
            "_view_name": "LayoutView",
            "align_content": null,
            "align_items": null,
            "align_self": null,
            "border": null,
            "bottom": null,
            "display": null,
            "flex": null,
            "flex_flow": null,
            "grid_area": null,
            "grid_auto_columns": null,
            "grid_auto_flow": null,
            "grid_auto_rows": null,
            "grid_column": null,
            "grid_gap": null,
            "grid_row": null,
            "grid_template_areas": null,
            "grid_template_columns": null,
            "grid_template_rows": null,
            "height": null,
            "justify_content": null,
            "justify_items": null,
            "left": null,
            "margin": null,
            "max_height": null,
            "max_width": null,
            "min_height": null,
            "min_width": null,
            "object_fit": null,
            "object_position": null,
            "order": null,
            "overflow": null,
            "overflow_x": null,
            "overflow_y": null,
            "padding": null,
            "right": null,
            "top": null,
            "visibility": null,
            "width": null
          }
        },
        "a2e631d7df6b4fdd94b008fcf0b6e8a4": {
          "model_module": "@jupyter-widgets/controls",
          "model_name": "ProgressStyleModel",
          "model_module_version": "1.5.0",
          "state": {
            "_model_module": "@jupyter-widgets/controls",
            "_model_module_version": "1.5.0",
            "_model_name": "ProgressStyleModel",
            "_view_count": null,
            "_view_module": "@jupyter-widgets/base",
            "_view_module_version": "1.2.0",
            "_view_name": "StyleView",
            "bar_color": null,
            "description_width": ""
          }
        },
        "8de5863846474725a38b290355a58b39": {
          "model_module": "@jupyter-widgets/base",
          "model_name": "LayoutModel",
          "model_module_version": "1.2.0",
          "state": {
            "_model_module": "@jupyter-widgets/base",
            "_model_module_version": "1.2.0",
            "_model_name": "LayoutModel",
            "_view_count": null,
            "_view_module": "@jupyter-widgets/base",
            "_view_module_version": "1.2.0",
            "_view_name": "LayoutView",
            "align_content": null,
            "align_items": null,
            "align_self": null,
            "border": null,
            "bottom": null,
            "display": null,
            "flex": null,
            "flex_flow": null,
            "grid_area": null,
            "grid_auto_columns": null,
            "grid_auto_flow": null,
            "grid_auto_rows": null,
            "grid_column": null,
            "grid_gap": null,
            "grid_row": null,
            "grid_template_areas": null,
            "grid_template_columns": null,
            "grid_template_rows": null,
            "height": null,
            "justify_content": null,
            "justify_items": null,
            "left": null,
            "margin": null,
            "max_height": null,
            "max_width": null,
            "min_height": null,
            "min_width": null,
            "object_fit": null,
            "object_position": null,
            "order": null,
            "overflow": null,
            "overflow_x": null,
            "overflow_y": null,
            "padding": null,
            "right": null,
            "top": null,
            "visibility": null,
            "width": null
          }
        },
        "80d297f723994a04bf4caf4d0f150938": {
          "model_module": "@jupyter-widgets/controls",
          "model_name": "DescriptionStyleModel",
          "model_module_version": "1.5.0",
          "state": {
            "_model_module": "@jupyter-widgets/controls",
            "_model_module_version": "1.5.0",
            "_model_name": "DescriptionStyleModel",
            "_view_count": null,
            "_view_module": "@jupyter-widgets/base",
            "_view_module_version": "1.2.0",
            "_view_name": "StyleView",
            "description_width": ""
          }
        },
        "54f3e8168606456c8cb392300142f0f2": {
          "model_module": "@jupyter-widgets/controls",
          "model_name": "HBoxModel",
          "model_module_version": "1.5.0",
          "state": {
            "_dom_classes": [],
            "_model_module": "@jupyter-widgets/controls",
            "_model_module_version": "1.5.0",
            "_model_name": "HBoxModel",
            "_view_count": null,
            "_view_module": "@jupyter-widgets/controls",
            "_view_module_version": "1.5.0",
            "_view_name": "HBoxView",
            "box_style": "",
            "children": [
              "IPY_MODEL_61fa3777973949468495a5a0886d4813",
              "IPY_MODEL_e924bf991bf147cc92a0b9af04c6e1ef",
              "IPY_MODEL_589cfc9ee4b24cfdb5ff981e35a9c1bc"
            ],
            "layout": "IPY_MODEL_4042517d83644280a9335fb490d7681e"
          }
        },
        "61fa3777973949468495a5a0886d4813": {
          "model_module": "@jupyter-widgets/controls",
          "model_name": "HTMLModel",
          "model_module_version": "1.5.0",
          "state": {
            "_dom_classes": [],
            "_model_module": "@jupyter-widgets/controls",
            "_model_module_version": "1.5.0",
            "_model_name": "HTMLModel",
            "_view_count": null,
            "_view_module": "@jupyter-widgets/controls",
            "_view_module_version": "1.5.0",
            "_view_name": "HTMLView",
            "description": "",
            "description_tooltip": null,
            "layout": "IPY_MODEL_8d465fba841c454aabb5c6026dc384a5",
            "placeholder": "​",
            "style": "IPY_MODEL_df1ed05498404cd29733535cadf39a65",
            "value": "tokenizer.json: 100%"
          }
        },
        "e924bf991bf147cc92a0b9af04c6e1ef": {
          "model_module": "@jupyter-widgets/controls",
          "model_name": "FloatProgressModel",
          "model_module_version": "1.5.0",
          "state": {
            "_dom_classes": [],
            "_model_module": "@jupyter-widgets/controls",
            "_model_module_version": "1.5.0",
            "_model_name": "FloatProgressModel",
            "_view_count": null,
            "_view_module": "@jupyter-widgets/controls",
            "_view_module_version": "1.5.0",
            "_view_name": "ProgressView",
            "bar_style": "success",
            "description": "",
            "description_tooltip": null,
            "layout": "IPY_MODEL_dfd87dc3cb6f4b23a8dc33b8c65f6ced",
            "max": 466247,
            "min": 0,
            "orientation": "horizontal",
            "style": "IPY_MODEL_447240b8eea24177ac4be603cce74c7b",
            "value": 466247
          }
        },
        "589cfc9ee4b24cfdb5ff981e35a9c1bc": {
          "model_module": "@jupyter-widgets/controls",
          "model_name": "HTMLModel",
          "model_module_version": "1.5.0",
          "state": {
            "_dom_classes": [],
            "_model_module": "@jupyter-widgets/controls",
            "_model_module_version": "1.5.0",
            "_model_name": "HTMLModel",
            "_view_count": null,
            "_view_module": "@jupyter-widgets/controls",
            "_view_module_version": "1.5.0",
            "_view_name": "HTMLView",
            "description": "",
            "description_tooltip": null,
            "layout": "IPY_MODEL_3b6c5a2c133a4f90a0a74dda7e9c1333",
            "placeholder": "​",
            "style": "IPY_MODEL_f7e9a3ccccd64779923ab065c131dfab",
            "value": " 466k/466k [00:00&lt;00:00, 21.6MB/s]"
          }
        },
        "4042517d83644280a9335fb490d7681e": {
          "model_module": "@jupyter-widgets/base",
          "model_name": "LayoutModel",
          "model_module_version": "1.2.0",
          "state": {
            "_model_module": "@jupyter-widgets/base",
            "_model_module_version": "1.2.0",
            "_model_name": "LayoutModel",
            "_view_count": null,
            "_view_module": "@jupyter-widgets/base",
            "_view_module_version": "1.2.0",
            "_view_name": "LayoutView",
            "align_content": null,
            "align_items": null,
            "align_self": null,
            "border": null,
            "bottom": null,
            "display": null,
            "flex": null,
            "flex_flow": null,
            "grid_area": null,
            "grid_auto_columns": null,
            "grid_auto_flow": null,
            "grid_auto_rows": null,
            "grid_column": null,
            "grid_gap": null,
            "grid_row": null,
            "grid_template_areas": null,
            "grid_template_columns": null,
            "grid_template_rows": null,
            "height": null,
            "justify_content": null,
            "justify_items": null,
            "left": null,
            "margin": null,
            "max_height": null,
            "max_width": null,
            "min_height": null,
            "min_width": null,
            "object_fit": null,
            "object_position": null,
            "order": null,
            "overflow": null,
            "overflow_x": null,
            "overflow_y": null,
            "padding": null,
            "right": null,
            "top": null,
            "visibility": null,
            "width": null
          }
        },
        "8d465fba841c454aabb5c6026dc384a5": {
          "model_module": "@jupyter-widgets/base",
          "model_name": "LayoutModel",
          "model_module_version": "1.2.0",
          "state": {
            "_model_module": "@jupyter-widgets/base",
            "_model_module_version": "1.2.0",
            "_model_name": "LayoutModel",
            "_view_count": null,
            "_view_module": "@jupyter-widgets/base",
            "_view_module_version": "1.2.0",
            "_view_name": "LayoutView",
            "align_content": null,
            "align_items": null,
            "align_self": null,
            "border": null,
            "bottom": null,
            "display": null,
            "flex": null,
            "flex_flow": null,
            "grid_area": null,
            "grid_auto_columns": null,
            "grid_auto_flow": null,
            "grid_auto_rows": null,
            "grid_column": null,
            "grid_gap": null,
            "grid_row": null,
            "grid_template_areas": null,
            "grid_template_columns": null,
            "grid_template_rows": null,
            "height": null,
            "justify_content": null,
            "justify_items": null,
            "left": null,
            "margin": null,
            "max_height": null,
            "max_width": null,
            "min_height": null,
            "min_width": null,
            "object_fit": null,
            "object_position": null,
            "order": null,
            "overflow": null,
            "overflow_x": null,
            "overflow_y": null,
            "padding": null,
            "right": null,
            "top": null,
            "visibility": null,
            "width": null
          }
        },
        "df1ed05498404cd29733535cadf39a65": {
          "model_module": "@jupyter-widgets/controls",
          "model_name": "DescriptionStyleModel",
          "model_module_version": "1.5.0",
          "state": {
            "_model_module": "@jupyter-widgets/controls",
            "_model_module_version": "1.5.0",
            "_model_name": "DescriptionStyleModel",
            "_view_count": null,
            "_view_module": "@jupyter-widgets/base",
            "_view_module_version": "1.2.0",
            "_view_name": "StyleView",
            "description_width": ""
          }
        },
        "dfd87dc3cb6f4b23a8dc33b8c65f6ced": {
          "model_module": "@jupyter-widgets/base",
          "model_name": "LayoutModel",
          "model_module_version": "1.2.0",
          "state": {
            "_model_module": "@jupyter-widgets/base",
            "_model_module_version": "1.2.0",
            "_model_name": "LayoutModel",
            "_view_count": null,
            "_view_module": "@jupyter-widgets/base",
            "_view_module_version": "1.2.0",
            "_view_name": "LayoutView",
            "align_content": null,
            "align_items": null,
            "align_self": null,
            "border": null,
            "bottom": null,
            "display": null,
            "flex": null,
            "flex_flow": null,
            "grid_area": null,
            "grid_auto_columns": null,
            "grid_auto_flow": null,
            "grid_auto_rows": null,
            "grid_column": null,
            "grid_gap": null,
            "grid_row": null,
            "grid_template_areas": null,
            "grid_template_columns": null,
            "grid_template_rows": null,
            "height": null,
            "justify_content": null,
            "justify_items": null,
            "left": null,
            "margin": null,
            "max_height": null,
            "max_width": null,
            "min_height": null,
            "min_width": null,
            "object_fit": null,
            "object_position": null,
            "order": null,
            "overflow": null,
            "overflow_x": null,
            "overflow_y": null,
            "padding": null,
            "right": null,
            "top": null,
            "visibility": null,
            "width": null
          }
        },
        "447240b8eea24177ac4be603cce74c7b": {
          "model_module": "@jupyter-widgets/controls",
          "model_name": "ProgressStyleModel",
          "model_module_version": "1.5.0",
          "state": {
            "_model_module": "@jupyter-widgets/controls",
            "_model_module_version": "1.5.0",
            "_model_name": "ProgressStyleModel",
            "_view_count": null,
            "_view_module": "@jupyter-widgets/base",
            "_view_module_version": "1.2.0",
            "_view_name": "StyleView",
            "bar_color": null,
            "description_width": ""
          }
        },
        "3b6c5a2c133a4f90a0a74dda7e9c1333": {
          "model_module": "@jupyter-widgets/base",
          "model_name": "LayoutModel",
          "model_module_version": "1.2.0",
          "state": {
            "_model_module": "@jupyter-widgets/base",
            "_model_module_version": "1.2.0",
            "_model_name": "LayoutModel",
            "_view_count": null,
            "_view_module": "@jupyter-widgets/base",
            "_view_module_version": "1.2.0",
            "_view_name": "LayoutView",
            "align_content": null,
            "align_items": null,
            "align_self": null,
            "border": null,
            "bottom": null,
            "display": null,
            "flex": null,
            "flex_flow": null,
            "grid_area": null,
            "grid_auto_columns": null,
            "grid_auto_flow": null,
            "grid_auto_rows": null,
            "grid_column": null,
            "grid_gap": null,
            "grid_row": null,
            "grid_template_areas": null,
            "grid_template_columns": null,
            "grid_template_rows": null,
            "height": null,
            "justify_content": null,
            "justify_items": null,
            "left": null,
            "margin": null,
            "max_height": null,
            "max_width": null,
            "min_height": null,
            "min_width": null,
            "object_fit": null,
            "object_position": null,
            "order": null,
            "overflow": null,
            "overflow_x": null,
            "overflow_y": null,
            "padding": null,
            "right": null,
            "top": null,
            "visibility": null,
            "width": null
          }
        },
        "f7e9a3ccccd64779923ab065c131dfab": {
          "model_module": "@jupyter-widgets/controls",
          "model_name": "DescriptionStyleModel",
          "model_module_version": "1.5.0",
          "state": {
            "_model_module": "@jupyter-widgets/controls",
            "_model_module_version": "1.5.0",
            "_model_name": "DescriptionStyleModel",
            "_view_count": null,
            "_view_module": "@jupyter-widgets/base",
            "_view_module_version": "1.2.0",
            "_view_name": "StyleView",
            "description_width": ""
          }
        },
        "601354f5584c49b8811f8941367435ef": {
          "model_module": "@jupyter-widgets/controls",
          "model_name": "HBoxModel",
          "model_module_version": "1.5.0",
          "state": {
            "_dom_classes": [],
            "_model_module": "@jupyter-widgets/controls",
            "_model_module_version": "1.5.0",
            "_model_name": "HBoxModel",
            "_view_count": null,
            "_view_module": "@jupyter-widgets/controls",
            "_view_module_version": "1.5.0",
            "_view_name": "HBoxView",
            "box_style": "",
            "children": [
              "IPY_MODEL_6a5c31c419634e2a83953cbb5bd5f364",
              "IPY_MODEL_6534a3cd79824619be4ff13cc15a7729",
              "IPY_MODEL_1827feb133224612a9ea6f22b69411ab"
            ],
            "layout": "IPY_MODEL_8c627ce68cc840f9b6736d9d4118c605"
          }
        },
        "6a5c31c419634e2a83953cbb5bd5f364": {
          "model_module": "@jupyter-widgets/controls",
          "model_name": "HTMLModel",
          "model_module_version": "1.5.0",
          "state": {
            "_dom_classes": [],
            "_model_module": "@jupyter-widgets/controls",
            "_model_module_version": "1.5.0",
            "_model_name": "HTMLModel",
            "_view_count": null,
            "_view_module": "@jupyter-widgets/controls",
            "_view_module_version": "1.5.0",
            "_view_name": "HTMLView",
            "description": "",
            "description_tooltip": null,
            "layout": "IPY_MODEL_25d7de92e3104cd2acb8eade1e36995e",
            "placeholder": "​",
            "style": "IPY_MODEL_e36a4680936b4244befef931d0b8727d",
            "value": "tokenizer_config.json: 100%"
          }
        },
        "6534a3cd79824619be4ff13cc15a7729": {
          "model_module": "@jupyter-widgets/controls",
          "model_name": "FloatProgressModel",
          "model_module_version": "1.5.0",
          "state": {
            "_dom_classes": [],
            "_model_module": "@jupyter-widgets/controls",
            "_model_module_version": "1.5.0",
            "_model_name": "FloatProgressModel",
            "_view_count": null,
            "_view_module": "@jupyter-widgets/controls",
            "_view_module_version": "1.5.0",
            "_view_name": "ProgressView",
            "bar_style": "success",
            "description": "",
            "description_tooltip": null,
            "layout": "IPY_MODEL_282ab340f3b949a4908b24407aa2b1ee",
            "max": 350,
            "min": 0,
            "orientation": "horizontal",
            "style": "IPY_MODEL_28785149fa0d4872bc05cfe89a964b9a",
            "value": 350
          }
        },
        "1827feb133224612a9ea6f22b69411ab": {
          "model_module": "@jupyter-widgets/controls",
          "model_name": "HTMLModel",
          "model_module_version": "1.5.0",
          "state": {
            "_dom_classes": [],
            "_model_module": "@jupyter-widgets/controls",
            "_model_module_version": "1.5.0",
            "_model_name": "HTMLModel",
            "_view_count": null,
            "_view_module": "@jupyter-widgets/controls",
            "_view_module_version": "1.5.0",
            "_view_name": "HTMLView",
            "description": "",
            "description_tooltip": null,
            "layout": "IPY_MODEL_8040a4efcc774122a6ea94536bd2ad47",
            "placeholder": "​",
            "style": "IPY_MODEL_abb989bbfd3044b484780d4b6a1ee11f",
            "value": " 350/350 [00:00&lt;00:00, 15.5kB/s]"
          }
        },
        "8c627ce68cc840f9b6736d9d4118c605": {
          "model_module": "@jupyter-widgets/base",
          "model_name": "LayoutModel",
          "model_module_version": "1.2.0",
          "state": {
            "_model_module": "@jupyter-widgets/base",
            "_model_module_version": "1.2.0",
            "_model_name": "LayoutModel",
            "_view_count": null,
            "_view_module": "@jupyter-widgets/base",
            "_view_module_version": "1.2.0",
            "_view_name": "LayoutView",
            "align_content": null,
            "align_items": null,
            "align_self": null,
            "border": null,
            "bottom": null,
            "display": null,
            "flex": null,
            "flex_flow": null,
            "grid_area": null,
            "grid_auto_columns": null,
            "grid_auto_flow": null,
            "grid_auto_rows": null,
            "grid_column": null,
            "grid_gap": null,
            "grid_row": null,
            "grid_template_areas": null,
            "grid_template_columns": null,
            "grid_template_rows": null,
            "height": null,
            "justify_content": null,
            "justify_items": null,
            "left": null,
            "margin": null,
            "max_height": null,
            "max_width": null,
            "min_height": null,
            "min_width": null,
            "object_fit": null,
            "object_position": null,
            "order": null,
            "overflow": null,
            "overflow_x": null,
            "overflow_y": null,
            "padding": null,
            "right": null,
            "top": null,
            "visibility": null,
            "width": null
          }
        },
        "25d7de92e3104cd2acb8eade1e36995e": {
          "model_module": "@jupyter-widgets/base",
          "model_name": "LayoutModel",
          "model_module_version": "1.2.0",
          "state": {
            "_model_module": "@jupyter-widgets/base",
            "_model_module_version": "1.2.0",
            "_model_name": "LayoutModel",
            "_view_count": null,
            "_view_module": "@jupyter-widgets/base",
            "_view_module_version": "1.2.0",
            "_view_name": "LayoutView",
            "align_content": null,
            "align_items": null,
            "align_self": null,
            "border": null,
            "bottom": null,
            "display": null,
            "flex": null,
            "flex_flow": null,
            "grid_area": null,
            "grid_auto_columns": null,
            "grid_auto_flow": null,
            "grid_auto_rows": null,
            "grid_column": null,
            "grid_gap": null,
            "grid_row": null,
            "grid_template_areas": null,
            "grid_template_columns": null,
            "grid_template_rows": null,
            "height": null,
            "justify_content": null,
            "justify_items": null,
            "left": null,
            "margin": null,
            "max_height": null,
            "max_width": null,
            "min_height": null,
            "min_width": null,
            "object_fit": null,
            "object_position": null,
            "order": null,
            "overflow": null,
            "overflow_x": null,
            "overflow_y": null,
            "padding": null,
            "right": null,
            "top": null,
            "visibility": null,
            "width": null
          }
        },
        "e36a4680936b4244befef931d0b8727d": {
          "model_module": "@jupyter-widgets/controls",
          "model_name": "DescriptionStyleModel",
          "model_module_version": "1.5.0",
          "state": {
            "_model_module": "@jupyter-widgets/controls",
            "_model_module_version": "1.5.0",
            "_model_name": "DescriptionStyleModel",
            "_view_count": null,
            "_view_module": "@jupyter-widgets/base",
            "_view_module_version": "1.2.0",
            "_view_name": "StyleView",
            "description_width": ""
          }
        },
        "282ab340f3b949a4908b24407aa2b1ee": {
          "model_module": "@jupyter-widgets/base",
          "model_name": "LayoutModel",
          "model_module_version": "1.2.0",
          "state": {
            "_model_module": "@jupyter-widgets/base",
            "_model_module_version": "1.2.0",
            "_model_name": "LayoutModel",
            "_view_count": null,
            "_view_module": "@jupyter-widgets/base",
            "_view_module_version": "1.2.0",
            "_view_name": "LayoutView",
            "align_content": null,
            "align_items": null,
            "align_self": null,
            "border": null,
            "bottom": null,
            "display": null,
            "flex": null,
            "flex_flow": null,
            "grid_area": null,
            "grid_auto_columns": null,
            "grid_auto_flow": null,
            "grid_auto_rows": null,
            "grid_column": null,
            "grid_gap": null,
            "grid_row": null,
            "grid_template_areas": null,
            "grid_template_columns": null,
            "grid_template_rows": null,
            "height": null,
            "justify_content": null,
            "justify_items": null,
            "left": null,
            "margin": null,
            "max_height": null,
            "max_width": null,
            "min_height": null,
            "min_width": null,
            "object_fit": null,
            "object_position": null,
            "order": null,
            "overflow": null,
            "overflow_x": null,
            "overflow_y": null,
            "padding": null,
            "right": null,
            "top": null,
            "visibility": null,
            "width": null
          }
        },
        "28785149fa0d4872bc05cfe89a964b9a": {
          "model_module": "@jupyter-widgets/controls",
          "model_name": "ProgressStyleModel",
          "model_module_version": "1.5.0",
          "state": {
            "_model_module": "@jupyter-widgets/controls",
            "_model_module_version": "1.5.0",
            "_model_name": "ProgressStyleModel",
            "_view_count": null,
            "_view_module": "@jupyter-widgets/base",
            "_view_module_version": "1.2.0",
            "_view_name": "StyleView",
            "bar_color": null,
            "description_width": ""
          }
        },
        "8040a4efcc774122a6ea94536bd2ad47": {
          "model_module": "@jupyter-widgets/base",
          "model_name": "LayoutModel",
          "model_module_version": "1.2.0",
          "state": {
            "_model_module": "@jupyter-widgets/base",
            "_model_module_version": "1.2.0",
            "_model_name": "LayoutModel",
            "_view_count": null,
            "_view_module": "@jupyter-widgets/base",
            "_view_module_version": "1.2.0",
            "_view_name": "LayoutView",
            "align_content": null,
            "align_items": null,
            "align_self": null,
            "border": null,
            "bottom": null,
            "display": null,
            "flex": null,
            "flex_flow": null,
            "grid_area": null,
            "grid_auto_columns": null,
            "grid_auto_flow": null,
            "grid_auto_rows": null,
            "grid_column": null,
            "grid_gap": null,
            "grid_row": null,
            "grid_template_areas": null,
            "grid_template_columns": null,
            "grid_template_rows": null,
            "height": null,
            "justify_content": null,
            "justify_items": null,
            "left": null,
            "margin": null,
            "max_height": null,
            "max_width": null,
            "min_height": null,
            "min_width": null,
            "object_fit": null,
            "object_position": null,
            "order": null,
            "overflow": null,
            "overflow_x": null,
            "overflow_y": null,
            "padding": null,
            "right": null,
            "top": null,
            "visibility": null,
            "width": null
          }
        },
        "abb989bbfd3044b484780d4b6a1ee11f": {
          "model_module": "@jupyter-widgets/controls",
          "model_name": "DescriptionStyleModel",
          "model_module_version": "1.5.0",
          "state": {
            "_model_module": "@jupyter-widgets/controls",
            "_model_module_version": "1.5.0",
            "_model_name": "DescriptionStyleModel",
            "_view_count": null,
            "_view_module": "@jupyter-widgets/base",
            "_view_module_version": "1.2.0",
            "_view_name": "StyleView",
            "description_width": ""
          }
        },
        "cb83ae7cd8294abea0ece175a9abc522": {
          "model_module": "@jupyter-widgets/controls",
          "model_name": "HBoxModel",
          "model_module_version": "1.5.0",
          "state": {
            "_dom_classes": [],
            "_model_module": "@jupyter-widgets/controls",
            "_model_module_version": "1.5.0",
            "_model_name": "HBoxModel",
            "_view_count": null,
            "_view_module": "@jupyter-widgets/controls",
            "_view_module_version": "1.5.0",
            "_view_name": "HBoxView",
            "box_style": "",
            "children": [
              "IPY_MODEL_d55d24066a264aa1b2410cf48f283a6b",
              "IPY_MODEL_dbd3c086564f4e149f643d1f98d74c4b",
              "IPY_MODEL_40302073ae31451783f2a93b93e5c168"
            ],
            "layout": "IPY_MODEL_48873ef1821e4116ae29beafcd9b3608"
          }
        },
        "d55d24066a264aa1b2410cf48f283a6b": {
          "model_module": "@jupyter-widgets/controls",
          "model_name": "HTMLModel",
          "model_module_version": "1.5.0",
          "state": {
            "_dom_classes": [],
            "_model_module": "@jupyter-widgets/controls",
            "_model_module_version": "1.5.0",
            "_model_name": "HTMLModel",
            "_view_count": null,
            "_view_module": "@jupyter-widgets/controls",
            "_view_module_version": "1.5.0",
            "_view_name": "HTMLView",
            "description": "",
            "description_tooltip": null,
            "layout": "IPY_MODEL_798fc68ff5cb4a87abf158947f12b52f",
            "placeholder": "​",
            "style": "IPY_MODEL_ad3589a792054c93806bd12f64df9a29",
            "value": "train_script.py: 100%"
          }
        },
        "dbd3c086564f4e149f643d1f98d74c4b": {
          "model_module": "@jupyter-widgets/controls",
          "model_name": "FloatProgressModel",
          "model_module_version": "1.5.0",
          "state": {
            "_dom_classes": [],
            "_model_module": "@jupyter-widgets/controls",
            "_model_module_version": "1.5.0",
            "_model_name": "FloatProgressModel",
            "_view_count": null,
            "_view_module": "@jupyter-widgets/controls",
            "_view_module_version": "1.5.0",
            "_view_name": "ProgressView",
            "bar_style": "success",
            "description": "",
            "description_tooltip": null,
            "layout": "IPY_MODEL_115d363651164caa81d7491c45c2956b",
            "max": 13156,
            "min": 0,
            "orientation": "horizontal",
            "style": "IPY_MODEL_9bb62001d2694b29b0e480c6888a653f",
            "value": 13156
          }
        },
        "40302073ae31451783f2a93b93e5c168": {
          "model_module": "@jupyter-widgets/controls",
          "model_name": "HTMLModel",
          "model_module_version": "1.5.0",
          "state": {
            "_dom_classes": [],
            "_model_module": "@jupyter-widgets/controls",
            "_model_module_version": "1.5.0",
            "_model_name": "HTMLModel",
            "_view_count": null,
            "_view_module": "@jupyter-widgets/controls",
            "_view_module_version": "1.5.0",
            "_view_name": "HTMLView",
            "description": "",
            "description_tooltip": null,
            "layout": "IPY_MODEL_eb17c36415004b6a8f6badc70c43ddcc",
            "placeholder": "​",
            "style": "IPY_MODEL_9809d66615e740ecac4fdedc354ef2aa",
            "value": " 13.2k/13.2k [00:00&lt;00:00, 544kB/s]"
          }
        },
        "48873ef1821e4116ae29beafcd9b3608": {
          "model_module": "@jupyter-widgets/base",
          "model_name": "LayoutModel",
          "model_module_version": "1.2.0",
          "state": {
            "_model_module": "@jupyter-widgets/base",
            "_model_module_version": "1.2.0",
            "_model_name": "LayoutModel",
            "_view_count": null,
            "_view_module": "@jupyter-widgets/base",
            "_view_module_version": "1.2.0",
            "_view_name": "LayoutView",
            "align_content": null,
            "align_items": null,
            "align_self": null,
            "border": null,
            "bottom": null,
            "display": null,
            "flex": null,
            "flex_flow": null,
            "grid_area": null,
            "grid_auto_columns": null,
            "grid_auto_flow": null,
            "grid_auto_rows": null,
            "grid_column": null,
            "grid_gap": null,
            "grid_row": null,
            "grid_template_areas": null,
            "grid_template_columns": null,
            "grid_template_rows": null,
            "height": null,
            "justify_content": null,
            "justify_items": null,
            "left": null,
            "margin": null,
            "max_height": null,
            "max_width": null,
            "min_height": null,
            "min_width": null,
            "object_fit": null,
            "object_position": null,
            "order": null,
            "overflow": null,
            "overflow_x": null,
            "overflow_y": null,
            "padding": null,
            "right": null,
            "top": null,
            "visibility": null,
            "width": null
          }
        },
        "798fc68ff5cb4a87abf158947f12b52f": {
          "model_module": "@jupyter-widgets/base",
          "model_name": "LayoutModel",
          "model_module_version": "1.2.0",
          "state": {
            "_model_module": "@jupyter-widgets/base",
            "_model_module_version": "1.2.0",
            "_model_name": "LayoutModel",
            "_view_count": null,
            "_view_module": "@jupyter-widgets/base",
            "_view_module_version": "1.2.0",
            "_view_name": "LayoutView",
            "align_content": null,
            "align_items": null,
            "align_self": null,
            "border": null,
            "bottom": null,
            "display": null,
            "flex": null,
            "flex_flow": null,
            "grid_area": null,
            "grid_auto_columns": null,
            "grid_auto_flow": null,
            "grid_auto_rows": null,
            "grid_column": null,
            "grid_gap": null,
            "grid_row": null,
            "grid_template_areas": null,
            "grid_template_columns": null,
            "grid_template_rows": null,
            "height": null,
            "justify_content": null,
            "justify_items": null,
            "left": null,
            "margin": null,
            "max_height": null,
            "max_width": null,
            "min_height": null,
            "min_width": null,
            "object_fit": null,
            "object_position": null,
            "order": null,
            "overflow": null,
            "overflow_x": null,
            "overflow_y": null,
            "padding": null,
            "right": null,
            "top": null,
            "visibility": null,
            "width": null
          }
        },
        "ad3589a792054c93806bd12f64df9a29": {
          "model_module": "@jupyter-widgets/controls",
          "model_name": "DescriptionStyleModel",
          "model_module_version": "1.5.0",
          "state": {
            "_model_module": "@jupyter-widgets/controls",
            "_model_module_version": "1.5.0",
            "_model_name": "DescriptionStyleModel",
            "_view_count": null,
            "_view_module": "@jupyter-widgets/base",
            "_view_module_version": "1.2.0",
            "_view_name": "StyleView",
            "description_width": ""
          }
        },
        "115d363651164caa81d7491c45c2956b": {
          "model_module": "@jupyter-widgets/base",
          "model_name": "LayoutModel",
          "model_module_version": "1.2.0",
          "state": {
            "_model_module": "@jupyter-widgets/base",
            "_model_module_version": "1.2.0",
            "_model_name": "LayoutModel",
            "_view_count": null,
            "_view_module": "@jupyter-widgets/base",
            "_view_module_version": "1.2.0",
            "_view_name": "LayoutView",
            "align_content": null,
            "align_items": null,
            "align_self": null,
            "border": null,
            "bottom": null,
            "display": null,
            "flex": null,
            "flex_flow": null,
            "grid_area": null,
            "grid_auto_columns": null,
            "grid_auto_flow": null,
            "grid_auto_rows": null,
            "grid_column": null,
            "grid_gap": null,
            "grid_row": null,
            "grid_template_areas": null,
            "grid_template_columns": null,
            "grid_template_rows": null,
            "height": null,
            "justify_content": null,
            "justify_items": null,
            "left": null,
            "margin": null,
            "max_height": null,
            "max_width": null,
            "min_height": null,
            "min_width": null,
            "object_fit": null,
            "object_position": null,
            "order": null,
            "overflow": null,
            "overflow_x": null,
            "overflow_y": null,
            "padding": null,
            "right": null,
            "top": null,
            "visibility": null,
            "width": null
          }
        },
        "9bb62001d2694b29b0e480c6888a653f": {
          "model_module": "@jupyter-widgets/controls",
          "model_name": "ProgressStyleModel",
          "model_module_version": "1.5.0",
          "state": {
            "_model_module": "@jupyter-widgets/controls",
            "_model_module_version": "1.5.0",
            "_model_name": "ProgressStyleModel",
            "_view_count": null,
            "_view_module": "@jupyter-widgets/base",
            "_view_module_version": "1.2.0",
            "_view_name": "StyleView",
            "bar_color": null,
            "description_width": ""
          }
        },
        "eb17c36415004b6a8f6badc70c43ddcc": {
          "model_module": "@jupyter-widgets/base",
          "model_name": "LayoutModel",
          "model_module_version": "1.2.0",
          "state": {
            "_model_module": "@jupyter-widgets/base",
            "_model_module_version": "1.2.0",
            "_model_name": "LayoutModel",
            "_view_count": null,
            "_view_module": "@jupyter-widgets/base",
            "_view_module_version": "1.2.0",
            "_view_name": "LayoutView",
            "align_content": null,
            "align_items": null,
            "align_self": null,
            "border": null,
            "bottom": null,
            "display": null,
            "flex": null,
            "flex_flow": null,
            "grid_area": null,
            "grid_auto_columns": null,
            "grid_auto_flow": null,
            "grid_auto_rows": null,
            "grid_column": null,
            "grid_gap": null,
            "grid_row": null,
            "grid_template_areas": null,
            "grid_template_columns": null,
            "grid_template_rows": null,
            "height": null,
            "justify_content": null,
            "justify_items": null,
            "left": null,
            "margin": null,
            "max_height": null,
            "max_width": null,
            "min_height": null,
            "min_width": null,
            "object_fit": null,
            "object_position": null,
            "order": null,
            "overflow": null,
            "overflow_x": null,
            "overflow_y": null,
            "padding": null,
            "right": null,
            "top": null,
            "visibility": null,
            "width": null
          }
        },
        "9809d66615e740ecac4fdedc354ef2aa": {
          "model_module": "@jupyter-widgets/controls",
          "model_name": "DescriptionStyleModel",
          "model_module_version": "1.5.0",
          "state": {
            "_model_module": "@jupyter-widgets/controls",
            "_model_module_version": "1.5.0",
            "_model_name": "DescriptionStyleModel",
            "_view_count": null,
            "_view_module": "@jupyter-widgets/base",
            "_view_module_version": "1.2.0",
            "_view_name": "StyleView",
            "description_width": ""
          }
        },
        "ab8baa4bc8004a5f9cae63227dfe4a53": {
          "model_module": "@jupyter-widgets/controls",
          "model_name": "HBoxModel",
          "model_module_version": "1.5.0",
          "state": {
            "_dom_classes": [],
            "_model_module": "@jupyter-widgets/controls",
            "_model_module_version": "1.5.0",
            "_model_name": "HBoxModel",
            "_view_count": null,
            "_view_module": "@jupyter-widgets/controls",
            "_view_module_version": "1.5.0",
            "_view_name": "HBoxView",
            "box_style": "",
            "children": [
              "IPY_MODEL_9770f90e75e54d1381cd3fc350da124f",
              "IPY_MODEL_def80bd73b2b4829848362c3257f9327",
              "IPY_MODEL_0b1a988f914b45ebba571288109fafd8"
            ],
            "layout": "IPY_MODEL_308c18c70a3c4ab4945178de0874cc5e"
          }
        },
        "9770f90e75e54d1381cd3fc350da124f": {
          "model_module": "@jupyter-widgets/controls",
          "model_name": "HTMLModel",
          "model_module_version": "1.5.0",
          "state": {
            "_dom_classes": [],
            "_model_module": "@jupyter-widgets/controls",
            "_model_module_version": "1.5.0",
            "_model_name": "HTMLModel",
            "_view_count": null,
            "_view_module": "@jupyter-widgets/controls",
            "_view_module_version": "1.5.0",
            "_view_name": "HTMLView",
            "description": "",
            "description_tooltip": null,
            "layout": "IPY_MODEL_30ac7c3897c447c0ba2a47c0b68be5f4",
            "placeholder": "​",
            "style": "IPY_MODEL_3717d39bd5ae41669483fd2e2f3b65b5",
            "value": "vocab.txt: 100%"
          }
        },
        "def80bd73b2b4829848362c3257f9327": {
          "model_module": "@jupyter-widgets/controls",
          "model_name": "FloatProgressModel",
          "model_module_version": "1.5.0",
          "state": {
            "_dom_classes": [],
            "_model_module": "@jupyter-widgets/controls",
            "_model_module_version": "1.5.0",
            "_model_name": "FloatProgressModel",
            "_view_count": null,
            "_view_module": "@jupyter-widgets/controls",
            "_view_module_version": "1.5.0",
            "_view_name": "ProgressView",
            "bar_style": "success",
            "description": "",
            "description_tooltip": null,
            "layout": "IPY_MODEL_bb7f2c48f2bb450dbe5149fdeb816c49",
            "max": 231508,
            "min": 0,
            "orientation": "horizontal",
            "style": "IPY_MODEL_05494d36cf7d4a8ba945191754e12f75",
            "value": 231508
          }
        },
        "0b1a988f914b45ebba571288109fafd8": {
          "model_module": "@jupyter-widgets/controls",
          "model_name": "HTMLModel",
          "model_module_version": "1.5.0",
          "state": {
            "_dom_classes": [],
            "_model_module": "@jupyter-widgets/controls",
            "_model_module_version": "1.5.0",
            "_model_name": "HTMLModel",
            "_view_count": null,
            "_view_module": "@jupyter-widgets/controls",
            "_view_module_version": "1.5.0",
            "_view_name": "HTMLView",
            "description": "",
            "description_tooltip": null,
            "layout": "IPY_MODEL_91aae4b8dd02432095fe3e04eec5b42a",
            "placeholder": "​",
            "style": "IPY_MODEL_aa3f205caf10407c8f86ea373a9f4032",
            "value": " 232k/232k [00:00&lt;00:00, 7.91MB/s]"
          }
        },
        "308c18c70a3c4ab4945178de0874cc5e": {
          "model_module": "@jupyter-widgets/base",
          "model_name": "LayoutModel",
          "model_module_version": "1.2.0",
          "state": {
            "_model_module": "@jupyter-widgets/base",
            "_model_module_version": "1.2.0",
            "_model_name": "LayoutModel",
            "_view_count": null,
            "_view_module": "@jupyter-widgets/base",
            "_view_module_version": "1.2.0",
            "_view_name": "LayoutView",
            "align_content": null,
            "align_items": null,
            "align_self": null,
            "border": null,
            "bottom": null,
            "display": null,
            "flex": null,
            "flex_flow": null,
            "grid_area": null,
            "grid_auto_columns": null,
            "grid_auto_flow": null,
            "grid_auto_rows": null,
            "grid_column": null,
            "grid_gap": null,
            "grid_row": null,
            "grid_template_areas": null,
            "grid_template_columns": null,
            "grid_template_rows": null,
            "height": null,
            "justify_content": null,
            "justify_items": null,
            "left": null,
            "margin": null,
            "max_height": null,
            "max_width": null,
            "min_height": null,
            "min_width": null,
            "object_fit": null,
            "object_position": null,
            "order": null,
            "overflow": null,
            "overflow_x": null,
            "overflow_y": null,
            "padding": null,
            "right": null,
            "top": null,
            "visibility": null,
            "width": null
          }
        },
        "30ac7c3897c447c0ba2a47c0b68be5f4": {
          "model_module": "@jupyter-widgets/base",
          "model_name": "LayoutModel",
          "model_module_version": "1.2.0",
          "state": {
            "_model_module": "@jupyter-widgets/base",
            "_model_module_version": "1.2.0",
            "_model_name": "LayoutModel",
            "_view_count": null,
            "_view_module": "@jupyter-widgets/base",
            "_view_module_version": "1.2.0",
            "_view_name": "LayoutView",
            "align_content": null,
            "align_items": null,
            "align_self": null,
            "border": null,
            "bottom": null,
            "display": null,
            "flex": null,
            "flex_flow": null,
            "grid_area": null,
            "grid_auto_columns": null,
            "grid_auto_flow": null,
            "grid_auto_rows": null,
            "grid_column": null,
            "grid_gap": null,
            "grid_row": null,
            "grid_template_areas": null,
            "grid_template_columns": null,
            "grid_template_rows": null,
            "height": null,
            "justify_content": null,
            "justify_items": null,
            "left": null,
            "margin": null,
            "max_height": null,
            "max_width": null,
            "min_height": null,
            "min_width": null,
            "object_fit": null,
            "object_position": null,
            "order": null,
            "overflow": null,
            "overflow_x": null,
            "overflow_y": null,
            "padding": null,
            "right": null,
            "top": null,
            "visibility": null,
            "width": null
          }
        },
        "3717d39bd5ae41669483fd2e2f3b65b5": {
          "model_module": "@jupyter-widgets/controls",
          "model_name": "DescriptionStyleModel",
          "model_module_version": "1.5.0",
          "state": {
            "_model_module": "@jupyter-widgets/controls",
            "_model_module_version": "1.5.0",
            "_model_name": "DescriptionStyleModel",
            "_view_count": null,
            "_view_module": "@jupyter-widgets/base",
            "_view_module_version": "1.2.0",
            "_view_name": "StyleView",
            "description_width": ""
          }
        },
        "bb7f2c48f2bb450dbe5149fdeb816c49": {
          "model_module": "@jupyter-widgets/base",
          "model_name": "LayoutModel",
          "model_module_version": "1.2.0",
          "state": {
            "_model_module": "@jupyter-widgets/base",
            "_model_module_version": "1.2.0",
            "_model_name": "LayoutModel",
            "_view_count": null,
            "_view_module": "@jupyter-widgets/base",
            "_view_module_version": "1.2.0",
            "_view_name": "LayoutView",
            "align_content": null,
            "align_items": null,
            "align_self": null,
            "border": null,
            "bottom": null,
            "display": null,
            "flex": null,
            "flex_flow": null,
            "grid_area": null,
            "grid_auto_columns": null,
            "grid_auto_flow": null,
            "grid_auto_rows": null,
            "grid_column": null,
            "grid_gap": null,
            "grid_row": null,
            "grid_template_areas": null,
            "grid_template_columns": null,
            "grid_template_rows": null,
            "height": null,
            "justify_content": null,
            "justify_items": null,
            "left": null,
            "margin": null,
            "max_height": null,
            "max_width": null,
            "min_height": null,
            "min_width": null,
            "object_fit": null,
            "object_position": null,
            "order": null,
            "overflow": null,
            "overflow_x": null,
            "overflow_y": null,
            "padding": null,
            "right": null,
            "top": null,
            "visibility": null,
            "width": null
          }
        },
        "05494d36cf7d4a8ba945191754e12f75": {
          "model_module": "@jupyter-widgets/controls",
          "model_name": "ProgressStyleModel",
          "model_module_version": "1.5.0",
          "state": {
            "_model_module": "@jupyter-widgets/controls",
            "_model_module_version": "1.5.0",
            "_model_name": "ProgressStyleModel",
            "_view_count": null,
            "_view_module": "@jupyter-widgets/base",
            "_view_module_version": "1.2.0",
            "_view_name": "StyleView",
            "bar_color": null,
            "description_width": ""
          }
        },
        "91aae4b8dd02432095fe3e04eec5b42a": {
          "model_module": "@jupyter-widgets/base",
          "model_name": "LayoutModel",
          "model_module_version": "1.2.0",
          "state": {
            "_model_module": "@jupyter-widgets/base",
            "_model_module_version": "1.2.0",
            "_model_name": "LayoutModel",
            "_view_count": null,
            "_view_module": "@jupyter-widgets/base",
            "_view_module_version": "1.2.0",
            "_view_name": "LayoutView",
            "align_content": null,
            "align_items": null,
            "align_self": null,
            "border": null,
            "bottom": null,
            "display": null,
            "flex": null,
            "flex_flow": null,
            "grid_area": null,
            "grid_auto_columns": null,
            "grid_auto_flow": null,
            "grid_auto_rows": null,
            "grid_column": null,
            "grid_gap": null,
            "grid_row": null,
            "grid_template_areas": null,
            "grid_template_columns": null,
            "grid_template_rows": null,
            "height": null,
            "justify_content": null,
            "justify_items": null,
            "left": null,
            "margin": null,
            "max_height": null,
            "max_width": null,
            "min_height": null,
            "min_width": null,
            "object_fit": null,
            "object_position": null,
            "order": null,
            "overflow": null,
            "overflow_x": null,
            "overflow_y": null,
            "padding": null,
            "right": null,
            "top": null,
            "visibility": null,
            "width": null
          }
        },
        "aa3f205caf10407c8f86ea373a9f4032": {
          "model_module": "@jupyter-widgets/controls",
          "model_name": "DescriptionStyleModel",
          "model_module_version": "1.5.0",
          "state": {
            "_model_module": "@jupyter-widgets/controls",
            "_model_module_version": "1.5.0",
            "_model_name": "DescriptionStyleModel",
            "_view_count": null,
            "_view_module": "@jupyter-widgets/base",
            "_view_module_version": "1.2.0",
            "_view_name": "StyleView",
            "description_width": ""
          }
        },
        "30c51f1075d844deb63363e0ed7d167f": {
          "model_module": "@jupyter-widgets/controls",
          "model_name": "HBoxModel",
          "model_module_version": "1.5.0",
          "state": {
            "_dom_classes": [],
            "_model_module": "@jupyter-widgets/controls",
            "_model_module_version": "1.5.0",
            "_model_name": "HBoxModel",
            "_view_count": null,
            "_view_module": "@jupyter-widgets/controls",
            "_view_module_version": "1.5.0",
            "_view_name": "HBoxView",
            "box_style": "",
            "children": [
              "IPY_MODEL_2d052378a3a04a1c8708367d40eb265e",
              "IPY_MODEL_1986676d87e04fac9954e4b0de5def70",
              "IPY_MODEL_a06134a0cd2145338d60b878826ef424"
            ],
            "layout": "IPY_MODEL_47ac9daad22c4f6b8a122311f0812d16"
          }
        },
        "2d052378a3a04a1c8708367d40eb265e": {
          "model_module": "@jupyter-widgets/controls",
          "model_name": "HTMLModel",
          "model_module_version": "1.5.0",
          "state": {
            "_dom_classes": [],
            "_model_module": "@jupyter-widgets/controls",
            "_model_module_version": "1.5.0",
            "_model_name": "HTMLModel",
            "_view_count": null,
            "_view_module": "@jupyter-widgets/controls",
            "_view_module_version": "1.5.0",
            "_view_name": "HTMLView",
            "description": "",
            "description_tooltip": null,
            "layout": "IPY_MODEL_dee92ad85f2242c0a7223b9555318f52",
            "placeholder": "​",
            "style": "IPY_MODEL_2e9a59b549ae49f89e556177da6de9c1",
            "value": "modules.json: 100%"
          }
        },
        "1986676d87e04fac9954e4b0de5def70": {
          "model_module": "@jupyter-widgets/controls",
          "model_name": "FloatProgressModel",
          "model_module_version": "1.5.0",
          "state": {
            "_dom_classes": [],
            "_model_module": "@jupyter-widgets/controls",
            "_model_module_version": "1.5.0",
            "_model_name": "FloatProgressModel",
            "_view_count": null,
            "_view_module": "@jupyter-widgets/controls",
            "_view_module_version": "1.5.0",
            "_view_name": "ProgressView",
            "bar_style": "success",
            "description": "",
            "description_tooltip": null,
            "layout": "IPY_MODEL_d1cff0342b124a79ae895b1c6593b4f5",
            "max": 349,
            "min": 0,
            "orientation": "horizontal",
            "style": "IPY_MODEL_6b0c1526994543e7931d9363404ba7e3",
            "value": 349
          }
        },
        "a06134a0cd2145338d60b878826ef424": {
          "model_module": "@jupyter-widgets/controls",
          "model_name": "HTMLModel",
          "model_module_version": "1.5.0",
          "state": {
            "_dom_classes": [],
            "_model_module": "@jupyter-widgets/controls",
            "_model_module_version": "1.5.0",
            "_model_name": "HTMLModel",
            "_view_count": null,
            "_view_module": "@jupyter-widgets/controls",
            "_view_module_version": "1.5.0",
            "_view_name": "HTMLView",
            "description": "",
            "description_tooltip": null,
            "layout": "IPY_MODEL_c09aa18c590446128867ffa936ee9081",
            "placeholder": "​",
            "style": "IPY_MODEL_1597c1a3bd1248a3857786f843354bc9",
            "value": " 349/349 [00:00&lt;00:00, 13.8kB/s]"
          }
        },
        "47ac9daad22c4f6b8a122311f0812d16": {
          "model_module": "@jupyter-widgets/base",
          "model_name": "LayoutModel",
          "model_module_version": "1.2.0",
          "state": {
            "_model_module": "@jupyter-widgets/base",
            "_model_module_version": "1.2.0",
            "_model_name": "LayoutModel",
            "_view_count": null,
            "_view_module": "@jupyter-widgets/base",
            "_view_module_version": "1.2.0",
            "_view_name": "LayoutView",
            "align_content": null,
            "align_items": null,
            "align_self": null,
            "border": null,
            "bottom": null,
            "display": null,
            "flex": null,
            "flex_flow": null,
            "grid_area": null,
            "grid_auto_columns": null,
            "grid_auto_flow": null,
            "grid_auto_rows": null,
            "grid_column": null,
            "grid_gap": null,
            "grid_row": null,
            "grid_template_areas": null,
            "grid_template_columns": null,
            "grid_template_rows": null,
            "height": null,
            "justify_content": null,
            "justify_items": null,
            "left": null,
            "margin": null,
            "max_height": null,
            "max_width": null,
            "min_height": null,
            "min_width": null,
            "object_fit": null,
            "object_position": null,
            "order": null,
            "overflow": null,
            "overflow_x": null,
            "overflow_y": null,
            "padding": null,
            "right": null,
            "top": null,
            "visibility": null,
            "width": null
          }
        },
        "dee92ad85f2242c0a7223b9555318f52": {
          "model_module": "@jupyter-widgets/base",
          "model_name": "LayoutModel",
          "model_module_version": "1.2.0",
          "state": {
            "_model_module": "@jupyter-widgets/base",
            "_model_module_version": "1.2.0",
            "_model_name": "LayoutModel",
            "_view_count": null,
            "_view_module": "@jupyter-widgets/base",
            "_view_module_version": "1.2.0",
            "_view_name": "LayoutView",
            "align_content": null,
            "align_items": null,
            "align_self": null,
            "border": null,
            "bottom": null,
            "display": null,
            "flex": null,
            "flex_flow": null,
            "grid_area": null,
            "grid_auto_columns": null,
            "grid_auto_flow": null,
            "grid_auto_rows": null,
            "grid_column": null,
            "grid_gap": null,
            "grid_row": null,
            "grid_template_areas": null,
            "grid_template_columns": null,
            "grid_template_rows": null,
            "height": null,
            "justify_content": null,
            "justify_items": null,
            "left": null,
            "margin": null,
            "max_height": null,
            "max_width": null,
            "min_height": null,
            "min_width": null,
            "object_fit": null,
            "object_position": null,
            "order": null,
            "overflow": null,
            "overflow_x": null,
            "overflow_y": null,
            "padding": null,
            "right": null,
            "top": null,
            "visibility": null,
            "width": null
          }
        },
        "2e9a59b549ae49f89e556177da6de9c1": {
          "model_module": "@jupyter-widgets/controls",
          "model_name": "DescriptionStyleModel",
          "model_module_version": "1.5.0",
          "state": {
            "_model_module": "@jupyter-widgets/controls",
            "_model_module_version": "1.5.0",
            "_model_name": "DescriptionStyleModel",
            "_view_count": null,
            "_view_module": "@jupyter-widgets/base",
            "_view_module_version": "1.2.0",
            "_view_name": "StyleView",
            "description_width": ""
          }
        },
        "d1cff0342b124a79ae895b1c6593b4f5": {
          "model_module": "@jupyter-widgets/base",
          "model_name": "LayoutModel",
          "model_module_version": "1.2.0",
          "state": {
            "_model_module": "@jupyter-widgets/base",
            "_model_module_version": "1.2.0",
            "_model_name": "LayoutModel",
            "_view_count": null,
            "_view_module": "@jupyter-widgets/base",
            "_view_module_version": "1.2.0",
            "_view_name": "LayoutView",
            "align_content": null,
            "align_items": null,
            "align_self": null,
            "border": null,
            "bottom": null,
            "display": null,
            "flex": null,
            "flex_flow": null,
            "grid_area": null,
            "grid_auto_columns": null,
            "grid_auto_flow": null,
            "grid_auto_rows": null,
            "grid_column": null,
            "grid_gap": null,
            "grid_row": null,
            "grid_template_areas": null,
            "grid_template_columns": null,
            "grid_template_rows": null,
            "height": null,
            "justify_content": null,
            "justify_items": null,
            "left": null,
            "margin": null,
            "max_height": null,
            "max_width": null,
            "min_height": null,
            "min_width": null,
            "object_fit": null,
            "object_position": null,
            "order": null,
            "overflow": null,
            "overflow_x": null,
            "overflow_y": null,
            "padding": null,
            "right": null,
            "top": null,
            "visibility": null,
            "width": null
          }
        },
        "6b0c1526994543e7931d9363404ba7e3": {
          "model_module": "@jupyter-widgets/controls",
          "model_name": "ProgressStyleModel",
          "model_module_version": "1.5.0",
          "state": {
            "_model_module": "@jupyter-widgets/controls",
            "_model_module_version": "1.5.0",
            "_model_name": "ProgressStyleModel",
            "_view_count": null,
            "_view_module": "@jupyter-widgets/base",
            "_view_module_version": "1.2.0",
            "_view_name": "StyleView",
            "bar_color": null,
            "description_width": ""
          }
        },
        "c09aa18c590446128867ffa936ee9081": {
          "model_module": "@jupyter-widgets/base",
          "model_name": "LayoutModel",
          "model_module_version": "1.2.0",
          "state": {
            "_model_module": "@jupyter-widgets/base",
            "_model_module_version": "1.2.0",
            "_model_name": "LayoutModel",
            "_view_count": null,
            "_view_module": "@jupyter-widgets/base",
            "_view_module_version": "1.2.0",
            "_view_name": "LayoutView",
            "align_content": null,
            "align_items": null,
            "align_self": null,
            "border": null,
            "bottom": null,
            "display": null,
            "flex": null,
            "flex_flow": null,
            "grid_area": null,
            "grid_auto_columns": null,
            "grid_auto_flow": null,
            "grid_auto_rows": null,
            "grid_column": null,
            "grid_gap": null,
            "grid_row": null,
            "grid_template_areas": null,
            "grid_template_columns": null,
            "grid_template_rows": null,
            "height": null,
            "justify_content": null,
            "justify_items": null,
            "left": null,
            "margin": null,
            "max_height": null,
            "max_width": null,
            "min_height": null,
            "min_width": null,
            "object_fit": null,
            "object_position": null,
            "order": null,
            "overflow": null,
            "overflow_x": null,
            "overflow_y": null,
            "padding": null,
            "right": null,
            "top": null,
            "visibility": null,
            "width": null
          }
        },
        "1597c1a3bd1248a3857786f843354bc9": {
          "model_module": "@jupyter-widgets/controls",
          "model_name": "DescriptionStyleModel",
          "model_module_version": "1.5.0",
          "state": {
            "_model_module": "@jupyter-widgets/controls",
            "_model_module_version": "1.5.0",
            "_model_name": "DescriptionStyleModel",
            "_view_count": null,
            "_view_module": "@jupyter-widgets/base",
            "_view_module_version": "1.2.0",
            "_view_name": "StyleView",
            "description_width": ""
          }
        }
      }
    }
  },
  "cells": [
    {
      "cell_type": "markdown",
      "source": [
        "# import"
      ],
      "metadata": {
        "id": "1UPFixaExmGT"
      }
    },
    {
      "cell_type": "code",
      "source": [
        "!pip install keybert\n",
        "!pip install konlpy\n",
        "!pip install dash"
      ],
      "metadata": {
        "id": "Nq4Rt0D3yTf1",
        "colab": {
          "base_uri": "https://localhost:8080/"
        },
        "outputId": "82ee76ce-635c-453e-b18b-40f4670b48cb"
      },
      "execution_count": 1,
      "outputs": [
        {
          "output_type": "stream",
          "name": "stdout",
          "text": [
            "Collecting keybert\n",
            "  Downloading keybert-0.8.3.tar.gz (29 kB)\n",
            "  Preparing metadata (setup.py) ... \u001b[?25l\u001b[?25hdone\n",
            "Collecting sentence-transformers>=0.3.8 (from keybert)\n",
            "  Downloading sentence-transformers-2.2.2.tar.gz (85 kB)\n",
            "\u001b[2K     \u001b[90m━━━━━━━━━━━━━━━━━━━━━━━━━━━━━━━━━━━━━━━━\u001b[0m \u001b[32m86.0/86.0 kB\u001b[0m \u001b[31m1.5 MB/s\u001b[0m eta \u001b[36m0:00:00\u001b[0m\n",
            "\u001b[?25h  Preparing metadata (setup.py) ... \u001b[?25l\u001b[?25hdone\n",
            "Requirement already satisfied: scikit-learn>=0.22.2 in /usr/local/lib/python3.10/dist-packages (from keybert) (1.2.2)\n",
            "Requirement already satisfied: numpy>=1.18.5 in /usr/local/lib/python3.10/dist-packages (from keybert) (1.23.5)\n",
            "Requirement already satisfied: rich>=10.4.0 in /usr/local/lib/python3.10/dist-packages (from keybert) (13.7.0)\n",
            "Requirement already satisfied: markdown-it-py>=2.2.0 in /usr/local/lib/python3.10/dist-packages (from rich>=10.4.0->keybert) (3.0.0)\n",
            "Requirement already satisfied: pygments<3.0.0,>=2.13.0 in /usr/local/lib/python3.10/dist-packages (from rich>=10.4.0->keybert) (2.16.1)\n",
            "Requirement already satisfied: scipy>=1.3.2 in /usr/local/lib/python3.10/dist-packages (from scikit-learn>=0.22.2->keybert) (1.11.4)\n",
            "Requirement already satisfied: joblib>=1.1.1 in /usr/local/lib/python3.10/dist-packages (from scikit-learn>=0.22.2->keybert) (1.3.2)\n",
            "Requirement already satisfied: threadpoolctl>=2.0.0 in /usr/local/lib/python3.10/dist-packages (from scikit-learn>=0.22.2->keybert) (3.2.0)\n",
            "Requirement already satisfied: transformers<5.0.0,>=4.6.0 in /usr/local/lib/python3.10/dist-packages (from sentence-transformers>=0.3.8->keybert) (4.35.2)\n",
            "Requirement already satisfied: tqdm in /usr/local/lib/python3.10/dist-packages (from sentence-transformers>=0.3.8->keybert) (4.66.1)\n",
            "Requirement already satisfied: torch>=1.6.0 in /usr/local/lib/python3.10/dist-packages (from sentence-transformers>=0.3.8->keybert) (2.1.0+cu118)\n",
            "Requirement already satisfied: torchvision in /usr/local/lib/python3.10/dist-packages (from sentence-transformers>=0.3.8->keybert) (0.16.0+cu118)\n",
            "Requirement already satisfied: nltk in /usr/local/lib/python3.10/dist-packages (from sentence-transformers>=0.3.8->keybert) (3.8.1)\n",
            "Collecting sentencepiece (from sentence-transformers>=0.3.8->keybert)\n",
            "  Downloading sentencepiece-0.1.99-cp310-cp310-manylinux_2_17_x86_64.manylinux2014_x86_64.whl (1.3 MB)\n",
            "\u001b[2K     \u001b[90m━━━━━━━━━━━━━━━━━━━━━━━━━━━━━━━━━━━━━━━━\u001b[0m \u001b[32m1.3/1.3 MB\u001b[0m \u001b[31m13.9 MB/s\u001b[0m eta \u001b[36m0:00:00\u001b[0m\n",
            "\u001b[?25hRequirement already satisfied: huggingface-hub>=0.4.0 in /usr/local/lib/python3.10/dist-packages (from sentence-transformers>=0.3.8->keybert) (0.19.4)\n",
            "Requirement already satisfied: filelock in /usr/local/lib/python3.10/dist-packages (from huggingface-hub>=0.4.0->sentence-transformers>=0.3.8->keybert) (3.13.1)\n",
            "Requirement already satisfied: fsspec>=2023.5.0 in /usr/local/lib/python3.10/dist-packages (from huggingface-hub>=0.4.0->sentence-transformers>=0.3.8->keybert) (2023.6.0)\n",
            "Requirement already satisfied: requests in /usr/local/lib/python3.10/dist-packages (from huggingface-hub>=0.4.0->sentence-transformers>=0.3.8->keybert) (2.31.0)\n",
            "Requirement already satisfied: pyyaml>=5.1 in /usr/local/lib/python3.10/dist-packages (from huggingface-hub>=0.4.0->sentence-transformers>=0.3.8->keybert) (6.0.1)\n",
            "Requirement already satisfied: typing-extensions>=3.7.4.3 in /usr/local/lib/python3.10/dist-packages (from huggingface-hub>=0.4.0->sentence-transformers>=0.3.8->keybert) (4.5.0)\n",
            "Requirement already satisfied: packaging>=20.9 in /usr/local/lib/python3.10/dist-packages (from huggingface-hub>=0.4.0->sentence-transformers>=0.3.8->keybert) (23.2)\n",
            "Requirement already satisfied: mdurl~=0.1 in /usr/local/lib/python3.10/dist-packages (from markdown-it-py>=2.2.0->rich>=10.4.0->keybert) (0.1.2)\n",
            "Requirement already satisfied: sympy in /usr/local/lib/python3.10/dist-packages (from torch>=1.6.0->sentence-transformers>=0.3.8->keybert) (1.12)\n",
            "Requirement already satisfied: networkx in /usr/local/lib/python3.10/dist-packages (from torch>=1.6.0->sentence-transformers>=0.3.8->keybert) (3.2.1)\n",
            "Requirement already satisfied: jinja2 in /usr/local/lib/python3.10/dist-packages (from torch>=1.6.0->sentence-transformers>=0.3.8->keybert) (3.1.2)\n",
            "Requirement already satisfied: triton==2.1.0 in /usr/local/lib/python3.10/dist-packages (from torch>=1.6.0->sentence-transformers>=0.3.8->keybert) (2.1.0)\n",
            "Requirement already satisfied: regex!=2019.12.17 in /usr/local/lib/python3.10/dist-packages (from transformers<5.0.0,>=4.6.0->sentence-transformers>=0.3.8->keybert) (2023.6.3)\n",
            "Requirement already satisfied: tokenizers<0.19,>=0.14 in /usr/local/lib/python3.10/dist-packages (from transformers<5.0.0,>=4.6.0->sentence-transformers>=0.3.8->keybert) (0.15.0)\n",
            "Requirement already satisfied: safetensors>=0.3.1 in /usr/local/lib/python3.10/dist-packages (from transformers<5.0.0,>=4.6.0->sentence-transformers>=0.3.8->keybert) (0.4.1)\n",
            "Requirement already satisfied: click in /usr/local/lib/python3.10/dist-packages (from nltk->sentence-transformers>=0.3.8->keybert) (8.1.7)\n",
            "Requirement already satisfied: pillow!=8.3.*,>=5.3.0 in /usr/local/lib/python3.10/dist-packages (from torchvision->sentence-transformers>=0.3.8->keybert) (9.4.0)\n",
            "Requirement already satisfied: MarkupSafe>=2.0 in /usr/local/lib/python3.10/dist-packages (from jinja2->torch>=1.6.0->sentence-transformers>=0.3.8->keybert) (2.1.3)\n",
            "Requirement already satisfied: charset-normalizer<4,>=2 in /usr/local/lib/python3.10/dist-packages (from requests->huggingface-hub>=0.4.0->sentence-transformers>=0.3.8->keybert) (3.3.2)\n",
            "Requirement already satisfied: idna<4,>=2.5 in /usr/local/lib/python3.10/dist-packages (from requests->huggingface-hub>=0.4.0->sentence-transformers>=0.3.8->keybert) (3.6)\n",
            "Requirement already satisfied: urllib3<3,>=1.21.1 in /usr/local/lib/python3.10/dist-packages (from requests->huggingface-hub>=0.4.0->sentence-transformers>=0.3.8->keybert) (2.0.7)\n",
            "Requirement already satisfied: certifi>=2017.4.17 in /usr/local/lib/python3.10/dist-packages (from requests->huggingface-hub>=0.4.0->sentence-transformers>=0.3.8->keybert) (2023.11.17)\n",
            "Requirement already satisfied: mpmath>=0.19 in /usr/local/lib/python3.10/dist-packages (from sympy->torch>=1.6.0->sentence-transformers>=0.3.8->keybert) (1.3.0)\n",
            "Building wheels for collected packages: keybert, sentence-transformers\n",
            "  Building wheel for keybert (setup.py) ... \u001b[?25l\u001b[?25hdone\n",
            "  Created wheel for keybert: filename=keybert-0.8.3-py3-none-any.whl size=39124 sha256=733f3e672f4510b6b773804bc80360d6908f88420c0cbdd0165df4435c7c496e\n",
            "  Stored in directory: /root/.cache/pip/wheels/70/88/07/1a3bc11fd1dd5f89924a02dcbca89a3015e25e8faa31f904dc\n",
            "  Building wheel for sentence-transformers (setup.py) ... \u001b[?25l\u001b[?25hdone\n",
            "  Created wheel for sentence-transformers: filename=sentence_transformers-2.2.2-py3-none-any.whl size=125923 sha256=92263f97c4fae32062da2c5ea1c8d687aba4a6a251c4652e4d4b267a794d3546\n",
            "  Stored in directory: /root/.cache/pip/wheels/62/f2/10/1e606fd5f02395388f74e7462910fe851042f97238cbbd902f\n",
            "Successfully built keybert sentence-transformers\n",
            "Installing collected packages: sentencepiece, sentence-transformers, keybert\n",
            "Successfully installed keybert-0.8.3 sentence-transformers-2.2.2 sentencepiece-0.1.99\n",
            "Collecting konlpy\n",
            "  Downloading konlpy-0.6.0-py2.py3-none-any.whl (19.4 MB)\n",
            "\u001b[2K     \u001b[90m━━━━━━━━━━━━━━━━━━━━━━━━━━━━━━━━━━━━━━━━\u001b[0m \u001b[32m19.4/19.4 MB\u001b[0m \u001b[31m63.6 MB/s\u001b[0m eta \u001b[36m0:00:00\u001b[0m\n",
            "\u001b[?25hCollecting JPype1>=0.7.0 (from konlpy)\n",
            "  Downloading JPype1-1.4.1-cp310-cp310-manylinux_2_12_x86_64.manylinux2010_x86_64.whl (465 kB)\n",
            "\u001b[2K     \u001b[90m━━━━━━━━━━━━━━━━━━━━━━━━━━━━━━━━━━━━━━━━\u001b[0m \u001b[32m465.3/465.3 kB\u001b[0m \u001b[31m41.8 MB/s\u001b[0m eta \u001b[36m0:00:00\u001b[0m\n",
            "\u001b[?25hRequirement already satisfied: lxml>=4.1.0 in /usr/local/lib/python3.10/dist-packages (from konlpy) (4.9.3)\n",
            "Requirement already satisfied: numpy>=1.6 in /usr/local/lib/python3.10/dist-packages (from konlpy) (1.23.5)\n",
            "Requirement already satisfied: packaging in /usr/local/lib/python3.10/dist-packages (from JPype1>=0.7.0->konlpy) (23.2)\n",
            "Installing collected packages: JPype1, konlpy\n",
            "Successfully installed JPype1-1.4.1 konlpy-0.6.0\n",
            "Collecting dash\n",
            "  Downloading dash-2.14.2-py3-none-any.whl (10.2 MB)\n",
            "\u001b[2K     \u001b[90m━━━━━━━━━━━━━━━━━━━━━━━━━━━━━━━━━━━━━━━━\u001b[0m \u001b[32m10.2/10.2 MB\u001b[0m \u001b[31m60.2 MB/s\u001b[0m eta \u001b[36m0:00:00\u001b[0m\n",
            "\u001b[?25hRequirement already satisfied: Flask<3.1,>=1.0.4 in /usr/local/lib/python3.10/dist-packages (from dash) (2.2.5)\n",
            "Requirement already satisfied: Werkzeug<3.1 in /usr/local/lib/python3.10/dist-packages (from dash) (3.0.1)\n",
            "Requirement already satisfied: plotly>=5.0.0 in /usr/local/lib/python3.10/dist-packages (from dash) (5.15.0)\n",
            "Collecting dash-html-components==2.0.0 (from dash)\n",
            "  Downloading dash_html_components-2.0.0-py3-none-any.whl (4.1 kB)\n",
            "Collecting dash-core-components==2.0.0 (from dash)\n",
            "  Downloading dash_core_components-2.0.0-py3-none-any.whl (3.8 kB)\n",
            "Collecting dash-table==5.0.0 (from dash)\n",
            "  Downloading dash_table-5.0.0-py3-none-any.whl (3.9 kB)\n",
            "Requirement already satisfied: typing-extensions>=4.1.1 in /usr/local/lib/python3.10/dist-packages (from dash) (4.5.0)\n",
            "Requirement already satisfied: requests in /usr/local/lib/python3.10/dist-packages (from dash) (2.31.0)\n",
            "Collecting retrying (from dash)\n",
            "  Downloading retrying-1.3.4-py3-none-any.whl (11 kB)\n",
            "Collecting ansi2html (from dash)\n",
            "  Downloading ansi2html-1.8.0-py3-none-any.whl (16 kB)\n",
            "Requirement already satisfied: nest-asyncio in /usr/local/lib/python3.10/dist-packages (from dash) (1.5.8)\n",
            "Requirement already satisfied: setuptools in /usr/local/lib/python3.10/dist-packages (from dash) (67.7.2)\n",
            "Requirement already satisfied: importlib-metadata in /usr/local/lib/python3.10/dist-packages (from dash) (6.8.0)\n",
            "Requirement already satisfied: Jinja2>=3.0 in /usr/local/lib/python3.10/dist-packages (from Flask<3.1,>=1.0.4->dash) (3.1.2)\n",
            "Requirement already satisfied: itsdangerous>=2.0 in /usr/local/lib/python3.10/dist-packages (from Flask<3.1,>=1.0.4->dash) (2.1.2)\n",
            "Requirement already satisfied: click>=8.0 in /usr/local/lib/python3.10/dist-packages (from Flask<3.1,>=1.0.4->dash) (8.1.7)\n",
            "Requirement already satisfied: tenacity>=6.2.0 in /usr/local/lib/python3.10/dist-packages (from plotly>=5.0.0->dash) (8.2.3)\n",
            "Requirement already satisfied: packaging in /usr/local/lib/python3.10/dist-packages (from plotly>=5.0.0->dash) (23.2)\n",
            "Requirement already satisfied: MarkupSafe>=2.1.1 in /usr/local/lib/python3.10/dist-packages (from Werkzeug<3.1->dash) (2.1.3)\n",
            "Requirement already satisfied: zipp>=0.5 in /usr/local/lib/python3.10/dist-packages (from importlib-metadata->dash) (3.17.0)\n",
            "Requirement already satisfied: charset-normalizer<4,>=2 in /usr/local/lib/python3.10/dist-packages (from requests->dash) (3.3.2)\n",
            "Requirement already satisfied: idna<4,>=2.5 in /usr/local/lib/python3.10/dist-packages (from requests->dash) (3.6)\n",
            "Requirement already satisfied: urllib3<3,>=1.21.1 in /usr/local/lib/python3.10/dist-packages (from requests->dash) (2.0.7)\n",
            "Requirement already satisfied: certifi>=2017.4.17 in /usr/local/lib/python3.10/dist-packages (from requests->dash) (2023.11.17)\n",
            "Requirement already satisfied: six>=1.7.0 in /usr/local/lib/python3.10/dist-packages (from retrying->dash) (1.16.0)\n",
            "Installing collected packages: dash-table, dash-html-components, dash-core-components, retrying, ansi2html, dash\n",
            "Successfully installed ansi2html-1.8.0 dash-2.14.2 dash-core-components-2.0.0 dash-html-components-2.0.0 dash-table-5.0.0 retrying-1.3.4\n"
          ]
        }
      ]
    },
    {
      "cell_type": "code",
      "execution_count": 2,
      "metadata": {
        "id": "A6vxdQYTluhc",
        "colab": {
          "base_uri": "https://localhost:8080/",
          "height": 162
        },
        "outputId": "359cc263-100b-41ef-e40e-ce28faed3c73"
      },
      "outputs": [
        {
          "output_type": "stream",
          "name": "stderr",
          "text": [
            "<ipython-input-2-f01fca5b0acf>:17: UserWarning: \n",
            "The dash_table package is deprecated. Please replace\n",
            "`import dash_table` with `from dash import dash_table`\n",
            "\n",
            "Also, if you're using any of the table format helpers (e.g. Group), replace \n",
            "`from dash_table.Format import Group` with \n",
            "`from dash.dash_table.Format import Group`\n",
            "  import dash_table\n"
          ]
        }
      ],
      "source": [
        "import pandas as pd\n",
        "import numpy as np\n",
        "import re\n",
        "\n",
        "import math\n",
        "from keybert import KeyBERT\n",
        "from konlpy.tag import *\n",
        "from collections import Counter\n",
        "from sklearn.preprocessing import normalize\n",
        "\n",
        "from sklearn.feature_extraction.text import TfidfVectorizer\n",
        "from sklearn.feature_extraction.text import CountVectorizer\n",
        "from sklearn.metrics.pairwise import cosine_similarity\n",
        "from sklearn.metrics.pairwise import linear_kernel\n",
        "\n",
        "import dash\n",
        "import dash_table\n",
        "from dash import html\n",
        "from sklearn.decomposition import LatentDirichletAllocation"
      ]
    },
    {
      "cell_type": "code",
      "source": [
        "!pip install pyLDAvis\n",
        "!pip install pandas==1.5.1\n",
        "import pyLDAvis.lda_model"
      ],
      "metadata": {
        "colab": {
          "base_uri": "https://localhost:8080/",
          "height": 1000
        },
        "id": "6RJC5Rf8WCWn",
        "outputId": "17d7136a-f756-4095-cf9c-eed272a57ed5"
      },
      "execution_count": 3,
      "outputs": [
        {
          "output_type": "stream",
          "name": "stdout",
          "text": [
            "Collecting pyLDAvis\n",
            "  Downloading pyLDAvis-3.4.1-py3-none-any.whl (2.6 MB)\n",
            "\u001b[2K     \u001b[90m━━━━━━━━━━━━━━━━━━━━━━━━━━━━━━━━━━━━━━━━\u001b[0m \u001b[32m2.6/2.6 MB\u001b[0m \u001b[31m26.2 MB/s\u001b[0m eta \u001b[36m0:00:00\u001b[0m\n",
            "\u001b[?25hCollecting numpy>=1.24.2 (from pyLDAvis)\n",
            "  Downloading numpy-1.26.2-cp310-cp310-manylinux_2_17_x86_64.manylinux2014_x86_64.whl (18.2 MB)\n",
            "\u001b[2K     \u001b[90m━━━━━━━━━━━━━━━━━━━━━━━━━━━━━━━━━━━━━━━━\u001b[0m \u001b[32m18.2/18.2 MB\u001b[0m \u001b[31m66.5 MB/s\u001b[0m eta \u001b[36m0:00:00\u001b[0m\n",
            "\u001b[?25hRequirement already satisfied: scipy in /usr/local/lib/python3.10/dist-packages (from pyLDAvis) (1.11.4)\n",
            "Collecting pandas>=2.0.0 (from pyLDAvis)\n",
            "  Downloading pandas-2.1.3-cp310-cp310-manylinux_2_17_x86_64.manylinux2014_x86_64.whl (12.3 MB)\n",
            "\u001b[2K     \u001b[90m━━━━━━━━━━━━━━━━━━━━━━━━━━━━━━━━━━━━━━━━\u001b[0m \u001b[32m12.3/12.3 MB\u001b[0m \u001b[31m89.4 MB/s\u001b[0m eta \u001b[36m0:00:00\u001b[0m\n",
            "\u001b[?25hRequirement already satisfied: joblib>=1.2.0 in /usr/local/lib/python3.10/dist-packages (from pyLDAvis) (1.3.2)\n",
            "Requirement already satisfied: jinja2 in /usr/local/lib/python3.10/dist-packages (from pyLDAvis) (3.1.2)\n",
            "Requirement already satisfied: numexpr in /usr/local/lib/python3.10/dist-packages (from pyLDAvis) (2.8.7)\n",
            "Collecting funcy (from pyLDAvis)\n",
            "  Downloading funcy-2.0-py2.py3-none-any.whl (30 kB)\n",
            "Requirement already satisfied: scikit-learn>=1.0.0 in /usr/local/lib/python3.10/dist-packages (from pyLDAvis) (1.2.2)\n",
            "Requirement already satisfied: gensim in /usr/local/lib/python3.10/dist-packages (from pyLDAvis) (4.3.2)\n",
            "Requirement already satisfied: setuptools in /usr/local/lib/python3.10/dist-packages (from pyLDAvis) (67.7.2)\n",
            "Requirement already satisfied: python-dateutil>=2.8.2 in /usr/local/lib/python3.10/dist-packages (from pandas>=2.0.0->pyLDAvis) (2.8.2)\n",
            "Requirement already satisfied: pytz>=2020.1 in /usr/local/lib/python3.10/dist-packages (from pandas>=2.0.0->pyLDAvis) (2023.3.post1)\n",
            "Collecting tzdata>=2022.1 (from pandas>=2.0.0->pyLDAvis)\n",
            "  Downloading tzdata-2023.3-py2.py3-none-any.whl (341 kB)\n",
            "\u001b[2K     \u001b[90m━━━━━━━━━━━━━━━━━━━━━━━━━━━━━━━━━━━━━━━━\u001b[0m \u001b[32m341.8/341.8 kB\u001b[0m \u001b[31m34.9 MB/s\u001b[0m eta \u001b[36m0:00:00\u001b[0m\n",
            "\u001b[?25hRequirement already satisfied: threadpoolctl>=2.0.0 in /usr/local/lib/python3.10/dist-packages (from scikit-learn>=1.0.0->pyLDAvis) (3.2.0)\n",
            "Requirement already satisfied: smart-open>=1.8.1 in /usr/local/lib/python3.10/dist-packages (from gensim->pyLDAvis) (6.4.0)\n",
            "Requirement already satisfied: MarkupSafe>=2.0 in /usr/local/lib/python3.10/dist-packages (from jinja2->pyLDAvis) (2.1.3)\n",
            "Requirement already satisfied: six>=1.5 in /usr/local/lib/python3.10/dist-packages (from python-dateutil>=2.8.2->pandas>=2.0.0->pyLDAvis) (1.16.0)\n",
            "Installing collected packages: funcy, tzdata, numpy, pandas, pyLDAvis\n",
            "  Attempting uninstall: numpy\n",
            "    Found existing installation: numpy 1.23.5\n",
            "    Uninstalling numpy-1.23.5:\n",
            "      Successfully uninstalled numpy-1.23.5\n",
            "  Attempting uninstall: pandas\n",
            "    Found existing installation: pandas 1.5.3\n",
            "    Uninstalling pandas-1.5.3:\n",
            "      Successfully uninstalled pandas-1.5.3\n",
            "\u001b[31mERROR: pip's dependency resolver does not currently take into account all the packages that are installed. This behaviour is the source of the following dependency conflicts.\n",
            "lida 0.0.10 requires fastapi, which is not installed.\n",
            "lida 0.0.10 requires kaleido, which is not installed.\n",
            "lida 0.0.10 requires python-multipart, which is not installed.\n",
            "lida 0.0.10 requires uvicorn, which is not installed.\n",
            "cupy-cuda11x 11.0.0 requires numpy<1.26,>=1.20, but you have numpy 1.26.2 which is incompatible.\n",
            "google-colab 1.0.0 requires pandas==1.5.3, but you have pandas 2.1.3 which is incompatible.\u001b[0m\u001b[31m\n",
            "\u001b[0mSuccessfully installed funcy-2.0 numpy-1.26.2 pandas-2.1.3 pyLDAvis-3.4.1 tzdata-2023.3\n",
            "Collecting pandas==1.5.1\n",
            "  Downloading pandas-1.5.1-cp310-cp310-manylinux_2_17_x86_64.manylinux2014_x86_64.whl (12.1 MB)\n",
            "\u001b[2K     \u001b[90m━━━━━━━━━━━━━━━━━━━━━━━━━━━━━━━━━━━━━━━━\u001b[0m \u001b[32m12.1/12.1 MB\u001b[0m \u001b[31m70.2 MB/s\u001b[0m eta \u001b[36m0:00:00\u001b[0m\n",
            "\u001b[?25hRequirement already satisfied: python-dateutil>=2.8.1 in /usr/local/lib/python3.10/dist-packages (from pandas==1.5.1) (2.8.2)\n",
            "Requirement already satisfied: pytz>=2020.1 in /usr/local/lib/python3.10/dist-packages (from pandas==1.5.1) (2023.3.post1)\n",
            "Requirement already satisfied: numpy>=1.21.0 in /usr/local/lib/python3.10/dist-packages (from pandas==1.5.1) (1.26.2)\n",
            "Requirement already satisfied: six>=1.5 in /usr/local/lib/python3.10/dist-packages (from python-dateutil>=2.8.1->pandas==1.5.1) (1.16.0)\n",
            "Installing collected packages: pandas\n",
            "  Attempting uninstall: pandas\n",
            "    Found existing installation: pandas 2.1.3\n",
            "    Uninstalling pandas-2.1.3:\n",
            "      Successfully uninstalled pandas-2.1.3\n",
            "\u001b[31mERROR: pip's dependency resolver does not currently take into account all the packages that are installed. This behaviour is the source of the following dependency conflicts.\n",
            "lida 0.0.10 requires fastapi, which is not installed.\n",
            "lida 0.0.10 requires kaleido, which is not installed.\n",
            "lida 0.0.10 requires python-multipart, which is not installed.\n",
            "lida 0.0.10 requires uvicorn, which is not installed.\n",
            "google-colab 1.0.0 requires pandas==1.5.3, but you have pandas 1.5.1 which is incompatible.\n",
            "pyldavis 3.4.1 requires pandas>=2.0.0, but you have pandas 1.5.1 which is incompatible.\u001b[0m\u001b[31m\n",
            "\u001b[0mSuccessfully installed pandas-1.5.1\n"
          ]
        },
        {
          "output_type": "display_data",
          "data": {
            "application/vnd.colab-display-data+json": {
              "pip_warning": {
                "packages": [
                  "pandas"
                ]
              }
            }
          },
          "metadata": {}
        }
      ]
    },
    {
      "cell_type": "markdown",
      "source": [
        "# 전처리"
      ],
      "metadata": {
        "id": "13nLUme6woJv"
      }
    },
    {
      "cell_type": "markdown",
      "source": [
        "**workshop과 career에 대해서 각각 실행**"
      ],
      "metadata": {
        "id": "ITPWOp7tzzKR"
      }
    },
    {
      "cell_type": "markdown",
      "source": [
        "## data load"
      ],
      "metadata": {
        "id": "47NP-cnvxoKX"
      }
    },
    {
      "cell_type": "code",
      "execution_count": 4,
      "metadata": {
        "id": "GIaECjm_l_2K",
        "colab": {
          "base_uri": "https://localhost:8080/"
        },
        "outputId": "077b6f58-1127-4193-c23f-26bebf91a4be"
      },
      "outputs": [
        {
          "output_type": "stream",
          "name": "stderr",
          "text": [
            "/usr/local/lib/python3.10/dist-packages/ipykernel/ipkernel.py:283: DeprecationWarning: `should_run_async` will not call `transform_cell` automatically in the future. Please pass the result to `transformed_cell` argument and any exception that happen during thetransform in `preprocessing_exc_tuple` in IPython 7.17 and above.\n",
            "  and should_run_async(code)\n"
          ]
        }
      ],
      "source": [
        "employee_c=pd.read_csv(\"./career_crolling_result.csv\")\n",
        "employee_w=pd.read_csv(\"./workshop_crolling_result.csv\")"
      ]
    },
    {
      "cell_type": "markdown",
      "source": [
        "## preprocessing"
      ],
      "metadata": {
        "id": "aXPrEEjyxr2K"
      }
    },
    {
      "cell_type": "code",
      "execution_count": 5,
      "metadata": {
        "id": "HPgZqSaNmPlb",
        "colab": {
          "base_uri": "https://localhost:8080/"
        },
        "outputId": "0eb093e1-203d-425a-8a5e-f7808f7da156"
      },
      "outputs": [
        {
          "output_type": "stream",
          "name": "stderr",
          "text": [
            "/usr/local/lib/python3.10/dist-packages/ipykernel/ipkernel.py:283: DeprecationWarning: `should_run_async` will not call `transform_cell` automatically in the future. Please pass the result to `transformed_cell` argument and any exception that happen during thetransform in `preprocessing_exc_tuple` in IPython 7.17 and above.\n",
            "  and should_run_async(code)\n"
          ]
        }
      ],
      "source": [
        "employee_c=employee_c.drop(['Unnamed: 0','첨부파일'], axis=1, errors='ignore')\n",
        "\n",
        "employee_w=employee_w.drop(['Unnamed: 0','첨부파일'], axis=1, errors='ignore')"
      ]
    },
    {
      "cell_type": "code",
      "execution_count": 6,
      "metadata": {
        "id": "JfFiBYeenSj-",
        "colab": {
          "base_uri": "https://localhost:8080/"
        },
        "outputId": "d893a122-8417-4b09-e513-a8af6bd7eb27"
      },
      "outputs": [
        {
          "output_type": "stream",
          "name": "stderr",
          "text": [
            "/usr/local/lib/python3.10/dist-packages/ipykernel/ipkernel.py:283: DeprecationWarning: `should_run_async` will not call `transform_cell` automatically in the future. Please pass the result to `transformed_cell` argument and any exception that happen during thetransform in `preprocessing_exc_tuple` in IPython 7.17 and above.\n",
            "  and should_run_async(code)\n"
          ]
        }
      ],
      "source": [
        "employee_c[['시작날짜', '마감날짜']] = employee_c['신청기간'].str.split(' ~ ', expand=True)\n",
        "employee_c['시작날짜'] = pd.to_datetime(employee_c['시작날짜'])\n",
        "employee_c['마감날짜'] = pd.to_datetime(employee_c['마감날짜'])\n",
        "employee2_c=employee_c.drop(['신청기간'], axis=1, errors='ignore')\n",
        "\n",
        "employee_w[['시작날짜', '마감날짜']] = employee_w['신청기간'].str.split(' ~ ', expand=True)\n",
        "employee_w['시작날짜'] = pd.to_datetime(employee_w['시작날짜'])\n",
        "employee_w['마감날짜'] = pd.to_datetime(employee_w['마감날짜'])\n",
        "employee2_w=employee_w.drop(['신청기간'], axis=1, errors='ignore')"
      ]
    },
    {
      "cell_type": "code",
      "execution_count": 7,
      "metadata": {
        "id": "n0mb0uhUnn3Y",
        "colab": {
          "base_uri": "https://localhost:8080/"
        },
        "outputId": "45fdb0f2-ecb1-44c0-b047-a3eeccc3f220"
      },
      "outputs": [
        {
          "output_type": "stream",
          "name": "stderr",
          "text": [
            "/usr/local/lib/python3.10/dist-packages/ipykernel/ipkernel.py:283: DeprecationWarning: `should_run_async` will not call `transform_cell` automatically in the future. Please pass the result to `transformed_cell` argument and any exception that happen during thetransform in `preprocessing_exc_tuple` in IPython 7.17 and above.\n",
            "  and should_run_async(code)\n"
          ]
        }
      ],
      "source": [
        "employee2_c['정원'] = employee2_c['정원/대기자'].str.extract(r'정원 (\\d+)명')\n",
        "employee2_c['대기자'] = employee2_c['정원/대기자'].str.extract(r'대기자 (\\d+)명')\n",
        "employee3_c=employee2_c.drop(['정원/대기자'], axis=1, errors='ignore')\n",
        "\n",
        "employee2_w['정원'] = employee2_w['정원/대기자'].str.extract(r'정원 (\\d+)명')\n",
        "employee2_w['대기자'] = employee2_w['정원/대기자'].str.extract(r'대기자 (\\d+)명')\n",
        "employee3_w=employee2_w.drop(['정원/대기자'], axis=1, errors='ignore')"
      ]
    },
    {
      "cell_type": "code",
      "execution_count": 8,
      "metadata": {
        "id": "F23rV99Yno_i",
        "colab": {
          "base_uri": "https://localhost:8080/"
        },
        "outputId": "3b5a41de-f4c8-4769-9db1-dc6adacd0fa2"
      },
      "outputs": [
        {
          "output_type": "stream",
          "name": "stderr",
          "text": [
            "/usr/local/lib/python3.10/dist-packages/ipykernel/ipkernel.py:283: DeprecationWarning: `should_run_async` will not call `transform_cell` automatically in the future. Please pass the result to `transformed_cell` argument and any exception that happen during thetransform in `preprocessing_exc_tuple` in IPython 7.17 and above.\n",
            "  and should_run_async(code)\n"
          ]
        }
      ],
      "source": [
        "employee3_c['학부'] = employee3_c['신청조건'].str.extract(r'학부 : ([^\\n]+)')\n",
        "employee3_c['학적'] = employee3_c['신청조건'].str.extract(r'학적 : ([^\\n]+)')\n",
        "employee3_c['학년'] = employee3_c['신청조건'].str.extract(r'학년 : ([^\\n]+)')\n",
        "employee4_c=employee3_c.drop(['신청조건'],axis=1)\n",
        "\n",
        "employee3_w['학부'] = employee3_w['신청조건'].str.extract(r'학부 : ([^\\n]+)')\n",
        "employee3_w['학적'] = employee3_w['신청조건'].str.extract(r'학적 : ([^\\n]+)')\n",
        "employee3_w['학년'] = employee3_w['신청조건'].str.extract(r'학년 : ([^\\n]+)')\n",
        "employee4_w=employee3_w.drop(['신청조건'],axis=1)"
      ]
    },
    {
      "cell_type": "code",
      "execution_count": 9,
      "metadata": {
        "id": "3ajwXfILn3cO",
        "colab": {
          "base_uri": "https://localhost:8080/"
        },
        "outputId": "1fbd3318-d2b7-4569-baab-9132486d465e"
      },
      "outputs": [
        {
          "output_type": "stream",
          "name": "stderr",
          "text": [
            "/usr/local/lib/python3.10/dist-packages/ipykernel/ipkernel.py:283: DeprecationWarning: `should_run_async` will not call `transform_cell` automatically in the future. Please pass the result to `transformed_cell` argument and any exception that happen during thetransform in `preprocessing_exc_tuple` in IPython 7.17 and above.\n",
            "  and should_run_async(code)\n"
          ]
        }
      ],
      "source": [
        "employee4_c['수료 인증서'] = employee4_c['수료 인증서'].replace({'O': 1, 'X': 0})\n",
        "employee4_c['수료 인증서'] = employee4_c['수료 인증서'].fillna(0)\n",
        "employee4_c['수료 인증서'] = employee4_c['수료 인증서'].astype(int)\n",
        "\n",
        "employee4_w['수료 인증서'] = employee4_w['수료 인증서'].replace({'O': 1, 'X': 0})\n",
        "employee4_w['수료 인증서'] = employee4_w['수료 인증서'].fillna(0)\n",
        "employee4_w['수료 인증서'] = employee4_w['수료 인증서'].astype(int)"
      ]
    },
    {
      "cell_type": "code",
      "execution_count": 10,
      "metadata": {
        "id": "3OdBrJA3n9oi",
        "colab": {
          "base_uri": "https://localhost:8080/"
        },
        "outputId": "3b99bde1-62bd-4fd9-a8ee-d7c28725b87e"
      },
      "outputs": [
        {
          "output_type": "stream",
          "name": "stderr",
          "text": [
            "/usr/local/lib/python3.10/dist-packages/ipykernel/ipkernel.py:283: DeprecationWarning: `should_run_async` will not call `transform_cell` automatically in the future. Please pass the result to `transformed_cell` argument and any exception that happen during thetransform in `preprocessing_exc_tuple` in IPython 7.17 and above.\n",
            "  and should_run_async(code)\n"
          ]
        }
      ],
      "source": [
        "def split_text_by_percentage_and_numbers(input_series):\n",
        "    new_df = pd.DataFrame()\n",
        "\n",
        "    for i, text in input_series.items():\n",
        "        if pd.isna(text) or isinstance(text, (int, float)):\n",
        "            text = '0'  # NaN 값 처리\n",
        "        else:\n",
        "            text = str(text)\n",
        "\n",
        "        parts = text.split('%')\n",
        "\n",
        "        skills = {}\n",
        "        for part in parts:\n",
        "            part = part.strip()\n",
        "            parts_with_numbers = re.split(r'(\\d+)', part)\n",
        "            parts_with_numbers = [part for part in parts_with_numbers if part.strip()]\n",
        "            for j in range(0, len(parts_with_numbers), 2):\n",
        "                if j + 1 < len(parts_with_numbers):  # 인덱스 에러 방지\n",
        "                    skills[parts_with_numbers[j]] = int(parts_with_numbers[j+1])\n",
        "\n",
        "        temp_df = pd.DataFrame(skills, index=[i])\n",
        "        new_df = pd.concat([new_df, temp_df], axis=0)\n",
        "\n",
        "    return new_df\n",
        "\n",
        "# workshop4 DataFrame에서 '핵심역량 비중도' 열 사용\n",
        "extracted_data_c = split_text_by_percentage_and_numbers(employee4_c['핵심역량 비중도'])\n",
        "# NaN 값을 0으로 대체하고 모든 데이터 값을 정수로 변환\n",
        "extracted_data_c = extracted_data_c.fillna(0).astype(int)\n",
        "# 새로운 DataFrame에 합쳐서 저장\n",
        "employee4_c = pd.concat([employee4_c, extracted_data_c], axis=1)\n",
        "employee5_c=employee4_c.drop(['핵심역량 비중도'],axis=1)\n",
        "\n",
        "extracted_data_w = split_text_by_percentage_and_numbers(employee4_w['핵심역량 비중도'])\n",
        "extracted_data_w = extracted_data_w.fillna(0).astype(int)\n",
        "employee4_w = pd.concat([employee4_w, extracted_data_w], axis=1)\n",
        "employee5_w=employee4_w.drop(['핵심역량 비중도'],axis=1)"
      ]
    },
    {
      "cell_type": "code",
      "execution_count": 11,
      "metadata": {
        "id": "ytCWxNjooHtK",
        "colab": {
          "base_uri": "https://localhost:8080/"
        },
        "outputId": "09ee644c-7b6d-4196-a2a5-5d50bb32d05d"
      },
      "outputs": [
        {
          "output_type": "stream",
          "name": "stderr",
          "text": [
            "/usr/local/lib/python3.10/dist-packages/ipykernel/ipkernel.py:283: DeprecationWarning: `should_run_async` will not call `transform_cell` automatically in the future. Please pass the result to `transformed_cell` argument and any exception that happen during thetransform in `preprocessing_exc_tuple` in IPython 7.17 and above.\n",
            "  and should_run_async(code)\n"
          ]
        }
      ],
      "source": [
        "def process_text(text):\n",
        "    if isinstance(text, str):\n",
        "        # '-'를 기준으로 앞 부분 제거\n",
        "        processed_text = text.split('-', 1)[-1].strip()\n",
        "\n",
        "        # 특수문자 제거\n",
        "        processed_text = re.sub(r'[^\\w\\s]', '', processed_text)\n",
        "\n",
        "        return processed_text\n",
        "    return text\n",
        "\n",
        "# '특강 및 워크숍 - 교육.특강' 열의 데이터 처리\n",
        "employee5_c['프로그램 분류'] = employee5_c['프로그램 분류'].apply(process_text)\n",
        "employee5_w['프로그램 분류'] = employee5_w['프로그램 분류'].apply(process_text)"
      ]
    },
    {
      "cell_type": "code",
      "execution_count": 12,
      "metadata": {
        "id": "JdNvwkq_obPy",
        "colab": {
          "base_uri": "https://localhost:8080/"
        },
        "outputId": "3865644a-04e9-4d3d-eb81-a2c8ada0a4a0"
      },
      "outputs": [
        {
          "output_type": "stream",
          "name": "stderr",
          "text": [
            "/usr/local/lib/python3.10/dist-packages/ipykernel/ipkernel.py:283: DeprecationWarning: `should_run_async` will not call `transform_cell` automatically in the future. Please pass the result to `transformed_cell` argument and any exception that happen during thetransform in `preprocessing_exc_tuple` in IPython 7.17 and above.\n",
            "  and should_run_async(code)\n"
          ]
        }
      ],
      "source": [
        "employee5_c['인정시간'] = employee5_c['인정시간'].fillna(0)\n",
        "employee5_w['인정시간'] = employee5_w['인정시간'].fillna(0)"
      ]
    },
    {
      "cell_type": "markdown",
      "source": [
        "## 텍스트 마이닝"
      ],
      "metadata": {
        "id": "ubeAXq7xEZUV"
      }
    },
    {
      "cell_type": "markdown",
      "source": [
        "### 키버트로 키워드 뽑기"
      ],
      "metadata": {
        "id": "ZdeMbJbmEfbX"
      }
    },
    {
      "cell_type": "code",
      "execution_count": 13,
      "metadata": {
        "id": "oq296bMzKlSM",
        "colab": {
          "base_uri": "https://localhost:8080/"
        },
        "outputId": "8723e4d0-06c8-4d67-942d-ca5c3d00a0dd"
      },
      "outputs": [
        {
          "output_type": "stream",
          "name": "stderr",
          "text": [
            "/usr/local/lib/python3.10/dist-packages/ipykernel/ipkernel.py:283: DeprecationWarning: `should_run_async` will not call `transform_cell` automatically in the future. Please pass the result to `transformed_cell` argument and any exception that happen during thetransform in `preprocessing_exc_tuple` in IPython 7.17 and above.\n",
            "  and should_run_async(code)\n"
          ]
        }
      ],
      "source": [
        "def get_keyword(sentence):\n",
        "    if pd.isnull(sentence):\n",
        "        return 0\n",
        "    doc = sentence\n",
        "    kw_model = KeyBERT()\n",
        "    keywords = kw_model.extract_keywords(doc,keyphrase_ngram_range=(0,1),use_maxsum = False,top_n = 10)\n",
        "    result = [x[0] for x in keywords]\n",
        "    return result"
      ]
    },
    {
      "cell_type": "code",
      "execution_count": 14,
      "metadata": {
        "id": "8JfAlybNK9G7",
        "colab": {
          "base_uri": "https://localhost:8080/",
          "height": 521,
          "referenced_widgets": [
            "ee09a12cfcf343d4a02ae876411c4001",
            "52d54c9c339c47b29e444ccc8d39a94e",
            "8414cbdd449947ddaac0967deaa526e1",
            "516eb5d4a4d54b838122f155a16e2c04",
            "d10463dd4cb04251b94c757ce0e93114",
            "bd74291c71184e189071690f2ea4f5bc",
            "7efc7e0664ca4f1a89f9df1d4133994f",
            "8204d9c2609d440cbcd7f5984a0981aa",
            "ff26ff8b5f8e4bafb05027909228b244",
            "4a8a09e45a564562a3afc6233e0a04a2",
            "10da4409c05f4b5ca9fdda6618e97890",
            "73dcee76a9764316ad311126cf23711e",
            "010443c4ae894809b2972b331b387030",
            "b401c4d1b19748329778f1ddd1763537",
            "736c26cc8cd44c73ad8d1a30dacdf0e8",
            "4c71c281f7f1414694ff9150d7be43a0",
            "12a5450436754a78aa1716f643987d80",
            "5cba2feb09d245a89b8224897bc5fb63",
            "7a6dd39ccf5147878bbf2f8cf1137165",
            "ffd88e13cbdd45869b51024fd159d22c",
            "9361940f1b844f85a892b0bf0816026a",
            "ff0fe71130254c64ad4a6c271e3d2268",
            "b65cb8ea9a1742e7851eba65719f1907",
            "663730f6d3274c24b32d98bdd5ef7332",
            "7213418bf36047458b23d07d5bb9dbfe",
            "1bdbc0cc960a4c96a6754d559e6bf090",
            "631a5e2370424bc6a28b668e5cb3d467",
            "9d6566033c27417e9717b04dddaed06a",
            "fe25e2c4bfaa41d28470b6490da88918",
            "a9f93a45f94e4b5ab2236cae6b03d0c4",
            "7f4e6b115ba5477fb82503a5c216e733",
            "f636615768a8405daa0591675bc32fb5",
            "b9c48e1e1f634e3eb346cd44e49fd6df",
            "eac4308698e6409e8ba73d773dddd16d",
            "651391aadfe646da8d8e1dc00a57ba57",
            "20edab215d954d3c95905b041c48dfe1",
            "1648ef671c964a0f9eefd3dafc2a8689",
            "758a1eb728d140a78f18b495a666ecd6",
            "5de587c3283f42daba2e757ae8cfb377",
            "b4d92d10c52443ae9c0a6d357d284422",
            "a8fb891a9f464839bf2efbb3c1cd2383",
            "9dce7dc89af946f8aacf5460763d0ccf",
            "b8392f45cfca4de18fecd6d546be361d",
            "a8cc58b0093b45d696bb5e8ec606faf1",
            "073f281f74604bdcb8df391d9dfbd742",
            "39b14ef2e46c42a0861226e8a216e08e",
            "a23e55ae7bf24ebdbfb1e841ab857cad",
            "23c4b7309e6f446abe94bc7317e47537",
            "4ff0b3da335b46148e977e1fc531a8f2",
            "2a2833587d524a998adc211bdfb4f6b2",
            "70c3d5e9695b4236a0a642afdd618e9c",
            "9a464f8777c2454c9c6938be51fe2943",
            "548a1eb8ea2d440c965670c6b3eed87c",
            "19ee564b9c8e4bf8a09689e4fa5ecb21",
            "578e8469179149ad892aa9cdc8058b62",
            "709c1d77f9e64c6e89a27c31c8f705ea",
            "da35d734124040ac9ff6c179d667fb72",
            "d2ed49e574a14d59858a9fcda2711aba",
            "f346eb39d7304f7998157f4dd00ca3d4",
            "97c65b91360f49468e97dbb524326c73",
            "2d8896626f77413aac1cb37ca63964bc",
            "149109891333425ebab0201e7b513443",
            "216d8376fb104a43b42d4270c3133d52",
            "bfc57e1ac4fd491d8341406dd0a46847",
            "93d5253315114c50a9a30038181ffa07",
            "1f3ac5515f8d4d17a8171095a77dccff",
            "954a8c19a42b435b92f4d841ac19a00c",
            "1064fe9084034174a9741616c36cab12",
            "c91ac851f0aa4cdab99790edcebae5e4",
            "c7b9f491a6dd4b65842e8cb9d26ec193",
            "922f602bd1424fd281e3e582a1a0c08a",
            "abac8a230fa54fdbbc74304e5bf1d81a",
            "ae385c777ef34440b5f51245bba56280",
            "f54a553af7f545e9997e621fac2d03f8",
            "8483e03146aa4c6b899988c092ed60e8",
            "d0cb3e6ad91f4a1f8a15eb5ce1745e15",
            "deaf2a009d66476ba00cafc4c1da4985",
            "da0cfa093f484c77a6b4f88b7d307d4f",
            "9f6e5e2a091d40af9283716b5a2304cb",
            "55dc733e73194d5084c18fdceaa60c02",
            "bb199155fff645f0ae71f7303ff02bfa",
            "6203eaaced0b4670a86c6252a420486f",
            "2ba61273a87644bd8ccc0db78a4f8678",
            "ba1599f6d83640faa335d99fb94fdff6",
            "620a41651a6941e5b76fa3adc069df62",
            "1f19871268aa4da2ae12f5bcdaffd61a",
            "d2b8cc6fe67f46e889d645be964730ca",
            "c99520e0a51b4e8ca476018d5b42fe31",
            "1ab11eb5973b42b59f0eccf53ee4af15",
            "c1eba2ddb6e14521a31c4b954a87a9e4",
            "658cad753ead4488b8a9d10d74644d9b",
            "983d853e68cb4a25a5a43f4bc46a3abb",
            "c1ba2ad9564441d1963c21c0a70647a1",
            "9373e52643e34155b89a8539665b3338",
            "4d7e9189f1d14a539f2cfc20999455e5",
            "603c163949154b4cadc5bb5b1618163b",
            "a2e631d7df6b4fdd94b008fcf0b6e8a4",
            "8de5863846474725a38b290355a58b39",
            "80d297f723994a04bf4caf4d0f150938",
            "54f3e8168606456c8cb392300142f0f2",
            "61fa3777973949468495a5a0886d4813",
            "e924bf991bf147cc92a0b9af04c6e1ef",
            "589cfc9ee4b24cfdb5ff981e35a9c1bc",
            "4042517d83644280a9335fb490d7681e",
            "8d465fba841c454aabb5c6026dc384a5",
            "df1ed05498404cd29733535cadf39a65",
            "dfd87dc3cb6f4b23a8dc33b8c65f6ced",
            "447240b8eea24177ac4be603cce74c7b",
            "3b6c5a2c133a4f90a0a74dda7e9c1333",
            "f7e9a3ccccd64779923ab065c131dfab",
            "601354f5584c49b8811f8941367435ef",
            "6a5c31c419634e2a83953cbb5bd5f364",
            "6534a3cd79824619be4ff13cc15a7729",
            "1827feb133224612a9ea6f22b69411ab",
            "8c627ce68cc840f9b6736d9d4118c605",
            "25d7de92e3104cd2acb8eade1e36995e",
            "e36a4680936b4244befef931d0b8727d",
            "282ab340f3b949a4908b24407aa2b1ee",
            "28785149fa0d4872bc05cfe89a964b9a",
            "8040a4efcc774122a6ea94536bd2ad47",
            "abb989bbfd3044b484780d4b6a1ee11f",
            "cb83ae7cd8294abea0ece175a9abc522",
            "d55d24066a264aa1b2410cf48f283a6b",
            "dbd3c086564f4e149f643d1f98d74c4b",
            "40302073ae31451783f2a93b93e5c168",
            "48873ef1821e4116ae29beafcd9b3608",
            "798fc68ff5cb4a87abf158947f12b52f",
            "ad3589a792054c93806bd12f64df9a29",
            "115d363651164caa81d7491c45c2956b",
            "9bb62001d2694b29b0e480c6888a653f",
            "eb17c36415004b6a8f6badc70c43ddcc",
            "9809d66615e740ecac4fdedc354ef2aa",
            "ab8baa4bc8004a5f9cae63227dfe4a53",
            "9770f90e75e54d1381cd3fc350da124f",
            "def80bd73b2b4829848362c3257f9327",
            "0b1a988f914b45ebba571288109fafd8",
            "308c18c70a3c4ab4945178de0874cc5e",
            "30ac7c3897c447c0ba2a47c0b68be5f4",
            "3717d39bd5ae41669483fd2e2f3b65b5",
            "bb7f2c48f2bb450dbe5149fdeb816c49",
            "05494d36cf7d4a8ba945191754e12f75",
            "91aae4b8dd02432095fe3e04eec5b42a",
            "aa3f205caf10407c8f86ea373a9f4032",
            "30c51f1075d844deb63363e0ed7d167f",
            "2d052378a3a04a1c8708367d40eb265e",
            "1986676d87e04fac9954e4b0de5def70",
            "a06134a0cd2145338d60b878826ef424",
            "47ac9daad22c4f6b8a122311f0812d16",
            "dee92ad85f2242c0a7223b9555318f52",
            "2e9a59b549ae49f89e556177da6de9c1",
            "d1cff0342b124a79ae895b1c6593b4f5",
            "6b0c1526994543e7931d9363404ba7e3",
            "c09aa18c590446128867ffa936ee9081",
            "1597c1a3bd1248a3857786f843354bc9"
          ]
        },
        "outputId": "ef798aae-90a5-4ac9-dddf-874596d08564"
      },
      "outputs": [
        {
          "output_type": "stream",
          "name": "stderr",
          "text": [
            "/usr/local/lib/python3.10/dist-packages/ipykernel/ipkernel.py:283: DeprecationWarning: `should_run_async` will not call `transform_cell` automatically in the future. Please pass the result to `transformed_cell` argument and any exception that happen during thetransform in `preprocessing_exc_tuple` in IPython 7.17 and above.\n",
            "  and should_run_async(code)\n"
          ]
        },
        {
          "output_type": "display_data",
          "data": {
            "text/plain": [
              ".gitattributes:   0%|          | 0.00/1.18k [00:00<?, ?B/s]"
            ],
            "application/vnd.jupyter.widget-view+json": {
              "version_major": 2,
              "version_minor": 0,
              "model_id": "ee09a12cfcf343d4a02ae876411c4001"
            }
          },
          "metadata": {}
        },
        {
          "output_type": "display_data",
          "data": {
            "text/plain": [
              "1_Pooling/config.json:   0%|          | 0.00/190 [00:00<?, ?B/s]"
            ],
            "application/vnd.jupyter.widget-view+json": {
              "version_major": 2,
              "version_minor": 0,
              "model_id": "73dcee76a9764316ad311126cf23711e"
            }
          },
          "metadata": {}
        },
        {
          "output_type": "display_data",
          "data": {
            "text/plain": [
              "README.md:   0%|          | 0.00/10.6k [00:00<?, ?B/s]"
            ],
            "application/vnd.jupyter.widget-view+json": {
              "version_major": 2,
              "version_minor": 0,
              "model_id": "b65cb8ea9a1742e7851eba65719f1907"
            }
          },
          "metadata": {}
        },
        {
          "output_type": "display_data",
          "data": {
            "text/plain": [
              "config.json:   0%|          | 0.00/612 [00:00<?, ?B/s]"
            ],
            "application/vnd.jupyter.widget-view+json": {
              "version_major": 2,
              "version_minor": 0,
              "model_id": "eac4308698e6409e8ba73d773dddd16d"
            }
          },
          "metadata": {}
        },
        {
          "output_type": "display_data",
          "data": {
            "text/plain": [
              "config_sentence_transformers.json:   0%|          | 0.00/116 [00:00<?, ?B/s]"
            ],
            "application/vnd.jupyter.widget-view+json": {
              "version_major": 2,
              "version_minor": 0,
              "model_id": "073f281f74604bdcb8df391d9dfbd742"
            }
          },
          "metadata": {}
        },
        {
          "output_type": "display_data",
          "data": {
            "text/plain": [
              "data_config.json:   0%|          | 0.00/39.3k [00:00<?, ?B/s]"
            ],
            "application/vnd.jupyter.widget-view+json": {
              "version_major": 2,
              "version_minor": 0,
              "model_id": "709c1d77f9e64c6e89a27c31c8f705ea"
            }
          },
          "metadata": {}
        },
        {
          "output_type": "display_data",
          "data": {
            "text/plain": [
              "pytorch_model.bin:   0%|          | 0.00/90.9M [00:00<?, ?B/s]"
            ],
            "application/vnd.jupyter.widget-view+json": {
              "version_major": 2,
              "version_minor": 0,
              "model_id": "954a8c19a42b435b92f4d841ac19a00c"
            }
          },
          "metadata": {}
        },
        {
          "output_type": "display_data",
          "data": {
            "text/plain": [
              "sentence_bert_config.json:   0%|          | 0.00/53.0 [00:00<?, ?B/s]"
            ],
            "application/vnd.jupyter.widget-view+json": {
              "version_major": 2,
              "version_minor": 0,
              "model_id": "da0cfa093f484c77a6b4f88b7d307d4f"
            }
          },
          "metadata": {}
        },
        {
          "output_type": "display_data",
          "data": {
            "text/plain": [
              "special_tokens_map.json:   0%|          | 0.00/112 [00:00<?, ?B/s]"
            ],
            "application/vnd.jupyter.widget-view+json": {
              "version_major": 2,
              "version_minor": 0,
              "model_id": "1ab11eb5973b42b59f0eccf53ee4af15"
            }
          },
          "metadata": {}
        },
        {
          "output_type": "display_data",
          "data": {
            "text/plain": [
              "tokenizer.json:   0%|          | 0.00/466k [00:00<?, ?B/s]"
            ],
            "application/vnd.jupyter.widget-view+json": {
              "version_major": 2,
              "version_minor": 0,
              "model_id": "54f3e8168606456c8cb392300142f0f2"
            }
          },
          "metadata": {}
        },
        {
          "output_type": "display_data",
          "data": {
            "text/plain": [
              "tokenizer_config.json:   0%|          | 0.00/350 [00:00<?, ?B/s]"
            ],
            "application/vnd.jupyter.widget-view+json": {
              "version_major": 2,
              "version_minor": 0,
              "model_id": "601354f5584c49b8811f8941367435ef"
            }
          },
          "metadata": {}
        },
        {
          "output_type": "display_data",
          "data": {
            "text/plain": [
              "train_script.py:   0%|          | 0.00/13.2k [00:00<?, ?B/s]"
            ],
            "application/vnd.jupyter.widget-view+json": {
              "version_major": 2,
              "version_minor": 0,
              "model_id": "cb83ae7cd8294abea0ece175a9abc522"
            }
          },
          "metadata": {}
        },
        {
          "output_type": "display_data",
          "data": {
            "text/plain": [
              "vocab.txt:   0%|          | 0.00/232k [00:00<?, ?B/s]"
            ],
            "application/vnd.jupyter.widget-view+json": {
              "version_major": 2,
              "version_minor": 0,
              "model_id": "ab8baa4bc8004a5f9cae63227dfe4a53"
            }
          },
          "metadata": {}
        },
        {
          "output_type": "display_data",
          "data": {
            "text/plain": [
              "modules.json:   0%|          | 0.00/349 [00:00<?, ?B/s]"
            ],
            "application/vnd.jupyter.widget-view+json": {
              "version_major": 2,
              "version_minor": 0,
              "model_id": "30c51f1075d844deb63363e0ed7d167f"
            }
          },
          "metadata": {}
        }
      ],
      "source": [
        "col_keyword = ['프로그램 목표', '프로그램 주요내용', '기대효과']\n",
        "\n",
        "for col in col_keyword:\n",
        "    employee5_c[col + '_키워드'] = employee5_c[col].apply(get_keyword)\n",
        "    employee5_w[col + '_키워드'] = employee5_w[col].apply(get_keyword)"
      ]
    },
    {
      "cell_type": "markdown",
      "source": [
        "### 명사 추출 -> 키워드\n"
      ],
      "metadata": {
        "id": "KSDpm-E9ElLz"
      }
    },
    {
      "cell_type": "markdown",
      "source": [
        "### 불용어"
      ],
      "metadata": {
        "id": "THJJNzsSI1sa"
      }
    },
    {
      "cell_type": "code",
      "source": [
        "stop_words = ['',\n",
        " '않다',\n",
        " '되어다',\n",
        " '되다',\n",
        " '하다',\n",
        " '어떻다',\n",
        " '이렇다',\n",
        " '이다',\n",
        " '어제',\n",
        " '매일',\n",
        " '아',\n",
        " '휴',\n",
        " '아이구',\n",
        " '아이쿠',\n",
        " '아이고',\n",
        " '어',\n",
        " '나',\n",
        " '우리',\n",
        " '저희',\n",
        " '따라',\n",
        " '의해',\n",
        " '을',\n",
        " '를',\n",
        " '에',\n",
        " '의',\n",
        " '가',\n",
        " '으로',\n",
        " '로',\n",
        " '에게',\n",
        " '뿐이다',\n",
        " '의거하여',\n",
        " '근거하여',\n",
        " '입각하여',\n",
        " '기준으로',\n",
        " '예하면',\n",
        " '예를 들면',\n",
        " '예를 들자면',\n",
        " '저',\n",
        " '소인',\n",
        " '소생',\n",
        " '저희',\n",
        " '지말고',\n",
        " '하지마',\n",
        " '하지마라',\n",
        " '다른',\n",
        " '물론',\n",
        " '또한',\n",
        " '그리고',\n",
        " '비길수 없다',\n",
        " '해서는 안된다',\n",
        " '뿐만 아니라',\n",
        " '만이 아니다',\n",
        " '만은 아니다',\n",
        " '막론하고',\n",
        " '관계없이',\n",
        " '그치지 않다',\n",
        " '그러나',\n",
        " '그런데',\n",
        " '하지만',\n",
        " '든간에',\n",
        " '논하지 않다',\n",
        " '따지지 않다',\n",
        " '설사',\n",
        " '비록',\n",
        " '더라도',\n",
        " '아니면',\n",
        " '만 못하다',\n",
        " '하는 편이 낫다',\n",
        " '불문하고',\n",
        " '향하여',\n",
        " '향해서',\n",
        " '향하다',\n",
        " '쪽으로',\n",
        " '틈타',\n",
        " '이용하여',\n",
        " '타다',\n",
        " '오르다',\n",
        " '제외하고',\n",
        " '이 외에',\n",
        " '이 밖에',\n",
        " '하여야',\n",
        " '비로소',\n",
        " '한다면 몰라도',\n",
        " '외에도',\n",
        " '이곳',\n",
        " '여기',\n",
        " '부터',\n",
        " '기점으로',\n",
        " '따라서',\n",
        " '할 생각이다',\n",
        " '하려고하다',\n",
        " '이리하여',\n",
        " '그리하여',\n",
        " '그렇게 함으로써',\n",
        " '하지만',\n",
        " '일때',\n",
        " '할때',\n",
        " '앞에서',\n",
        " '중에서',\n",
        " '보는데서',\n",
        " '으로써',\n",
        " '로써',\n",
        " '까지',\n",
        " '해야한다',\n",
        " '일것이다',\n",
        " '반드시',\n",
        " '할줄알다',\n",
        " '할수있다',\n",
        " '할수있어',\n",
        " '임에 틀림없다',\n",
        " '한다면',\n",
        " '등',\n",
        " '등등',\n",
        " '제',\n",
        " '겨우',\n",
        " '단지',\n",
        " '다만',\n",
        " '할뿐',\n",
        " '딩동',\n",
        " '댕그',\n",
        " '대해서',\n",
        " '대하여',\n",
        " '대하면',\n",
        " '훨씬',\n",
        " '얼마나',\n",
        " '얼마만큼',\n",
        " '얼마큼',\n",
        " '남짓',\n",
        " '여',\n",
        " '얼마간',\n",
        " '약간',\n",
        " '다소',\n",
        " '좀',\n",
        " '조금',\n",
        " '다수',\n",
        " '몇',\n",
        " '얼마',\n",
        " '지만',\n",
        " '하물며',\n",
        " '또한',\n",
        " '그러나',\n",
        " '그렇지만',\n",
        " '하지만',\n",
        " '이외에도',\n",
        " '대해 말하자면',\n",
        " '뿐이다',\n",
        " '다음에',\n",
        " '반대로',\n",
        " '반대로 말하자면',\n",
        " '이와 반대로',\n",
        " '바꾸어서 말하면',\n",
        " '바꾸어서 한다면',\n",
        " '만약',\n",
        " '그렇지않으면',\n",
        " '까악',\n",
        " '툭',\n",
        " '딱',\n",
        " '삐걱거리다',\n",
        " '보드득',\n",
        " '비걱거리다',\n",
        " '꽈당',\n",
        " '응당',\n",
        " '해야한다',\n",
        " '에 가서',\n",
        " '각',\n",
        " '각각',\n",
        " '여러분',\n",
        " '각종',\n",
        " '각자',\n",
        " '제각기',\n",
        " '하도록하다',\n",
        " '와',\n",
        " '과',\n",
        " '그러므로',\n",
        " '그래서',\n",
        " '고로',\n",
        " '한 까닭에',\n",
        " '하기 때문에',\n",
        " '거니와',\n",
        " '이지만',\n",
        " '대하여',\n",
        " '관하여',\n",
        " '관한',\n",
        " '과연',\n",
        " '실로',\n",
        " '아니나다를가',\n",
        " '생각한대로',\n",
        " '진짜로',\n",
        " '한적이있다',\n",
        " '하곤하였다',\n",
        " '하',\n",
        " '하하',\n",
        " '허허',\n",
        " '아하',\n",
        " '거바',\n",
        " '와',\n",
        " '오',\n",
        " '왜',\n",
        " '어째서',\n",
        " '무엇때문에',\n",
        " '어찌',\n",
        " '하겠는가',\n",
        " '무슨',\n",
        " '어디',\n",
        " '어느곳',\n",
        " '더군다나',\n",
        " '하물며',\n",
        " '더욱이는',\n",
        " '어느때',\n",
        " '언제',\n",
        " '야',\n",
        " '이봐',\n",
        " '어이',\n",
        " '여보시오',\n",
        " '흐흐',\n",
        " '흥',\n",
        " '휴',\n",
        " '헉헉',\n",
        " '헐떡헐떡',\n",
        " '영차',\n",
        " '여차',\n",
        " '어기여차',\n",
        " '끙끙',\n",
        " '아야',\n",
        " '앗',\n",
        " '아야',\n",
        " '콸콸',\n",
        " '졸졸',\n",
        " '좍좍',\n",
        " '뚝뚝',\n",
        " '주룩주룩',\n",
        " '솨',\n",
        " '우르르',\n",
        " '그래도',\n",
        " '또',\n",
        " '그리고',\n",
        " '바꾸어말하면',\n",
        " '바꾸어말하자면',\n",
        " '혹은',\n",
        " '혹시',\n",
        " '답다',\n",
        " '및',\n",
        " '그에 따르는',\n",
        " '때가 되어',\n",
        " '즉',\n",
        " '지든지',\n",
        " '설령',\n",
        " '가령',\n",
        " '하더라도',\n",
        " '할지라도',\n",
        " '일지라도',\n",
        " '지든지',\n",
        " '몇',\n",
        " '거의',\n",
        " '하마터면',\n",
        " '인젠',\n",
        " '이젠',\n",
        " '된바에야',\n",
        " '된이상',\n",
        " '만큼\\t어찌됏든',\n",
        " '그위에',\n",
        " '게다가',\n",
        " '점에서 보아',\n",
        " '비추어 보아',\n",
        " '고려하면',\n",
        " '하게될것이다',\n",
        " '일것이다',\n",
        " '비교적',\n",
        " '좀',\n",
        " '보다더',\n",
        " '비하면',\n",
        " '시키다',\n",
        " '하게하다',\n",
        " '할만하다',\n",
        " '의해서',\n",
        " '연이서',\n",
        " '이어서',\n",
        " '잇따라',\n",
        " '뒤따라',\n",
        " '뒤이어',\n",
        " '결국',\n",
        " '의지하여',\n",
        " '기대여',\n",
        " '통하여',\n",
        " '자마자',\n",
        " '더욱더',\n",
        " '불구하고',\n",
        " '얼마든지',\n",
        " '마음대로',\n",
        " '주저하지 않고',\n",
        " '곧',\n",
        " '즉시',\n",
        " '바로',\n",
        " '당장',\n",
        " '하자마자',\n",
        " '밖에 안된다',\n",
        " '하면된다',\n",
        " '그래',\n",
        " '그렇지',\n",
        " '요컨대',\n",
        " '다시 말하자면',\n",
        " '바꿔 말하면',\n",
        " '즉',\n",
        " '구체적으로',\n",
        " '말하자면',\n",
        " '시작하여',\n",
        " '시초에',\n",
        " '이상',\n",
        " '허',\n",
        " '헉',\n",
        " '허걱',\n",
        " '바와같이',\n",
        " '해도좋다',\n",
        " '해도된다',\n",
        " '게다가',\n",
        " '더구나',\n",
        " '하물며',\n",
        " '와르르',\n",
        " '팍',\n",
        " '퍽',\n",
        " '펄렁',\n",
        " '동안',\n",
        " '이래',\n",
        " '하고있었다',\n",
        " '이었다',\n",
        " '에서',\n",
        " '로부터',\n",
        " '까지',\n",
        " '예하면',\n",
        " '했어요',\n",
        " '해요',\n",
        " '함께',\n",
        " '같이',\n",
        " '더불어',\n",
        " '마저',\n",
        " '마저도',\n",
        " '양자',\n",
        " '모두',\n",
        " '습니다',\n",
        " '가까스로',\n",
        " '하려고하다',\n",
        " '즈음하여',\n",
        " '다른',\n",
        " '다른 방면으로',\n",
        " '해봐요',\n",
        " '습니까',\n",
        " '했어요',\n",
        " '말할것도 없고',\n",
        " '무릎쓰고',\n",
        " '개의치않고',\n",
        " '하는것만 못하다',\n",
        " '하는것이 낫다',\n",
        " '매',\n",
        " '매번',\n",
        " '들',\n",
        " '모',\n",
        " '어느것',\n",
        " '어느',\n",
        " '로써',\n",
        " '갖고말하자면',\n",
        " '어디',\n",
        " '어느쪽',\n",
        " '어느것',\n",
        " '어느해',\n",
        " '어느 년도',\n",
        " '라 해도',\n",
        " '언젠가',\n",
        " '어떤것',\n",
        " '어느것',\n",
        " '저기',\n",
        " '저쪽',\n",
        " '저것',\n",
        " '그때',\n",
        " '그럼',\n",
        " '그러면',\n",
        " '요만한걸',\n",
        " '그래',\n",
        " '그때',\n",
        " '저것만큼',\n",
        " '그저',\n",
        " '이르기까지',\n",
        " '할 줄 안다',\n",
        " '할 힘이 있다',\n",
        " '너',\n",
        " '너희',\n",
        " '당신',\n",
        " '어찌',\n",
        " '설마',\n",
        " '차라리',\n",
        " '할지언정',\n",
        " '할지라도',\n",
        " '할망정',\n",
        " '할지언정',\n",
        " '구토하다',\n",
        " '게우다',\n",
        " '토하다',\n",
        " '메쓰겁다',\n",
        " '옆사람',\n",
        " '퉤',\n",
        " '쳇',\n",
        " '의거하여',\n",
        " '근거하여',\n",
        " '의해',\n",
        " '따라',\n",
        " '힘입어',\n",
        " '그',\n",
        " '다음',\n",
        " '버금',\n",
        " '두번째로',\n",
        " '기타',\n",
        " '첫번째로',\n",
        " '나머지는',\n",
        " '그중에서',\n",
        " '견지에서',\n",
        " '형식으로 쓰여',\n",
        " '입장에서',\n",
        " '위해서',\n",
        " '단지',\n",
        " '의해되다',\n",
        " '하도록시키다',\n",
        " '뿐만아니라',\n",
        " '반대로',\n",
        " '전후',\n",
        " '전자',\n",
        " '앞의것',\n",
        " '잠시',\n",
        " '잠깐',\n",
        " '하면서',\n",
        " '그렇지만',\n",
        " '다음에',\n",
        " '그러한즉',\n",
        " '그런즉',\n",
        " '남들',\n",
        " '아무거나',\n",
        " '어찌하든지',\n",
        " '같다',\n",
        " '비슷하다',\n",
        " '예컨대',\n",
        " '이럴정도로',\n",
        " '어떻게',\n",
        " '만약',\n",
        " '만일',\n",
        " '위에서 서술한바와같이',\n",
        " '인 듯하다',\n",
        " '하지 않는다면',\n",
        " '만약에',\n",
        " '무엇',\n",
        " '무슨',\n",
        " '어느',\n",
        " '어떤',\n",
        " '아래윗',\n",
        " '조차',\n",
        " '한데',\n",
        " '그럼에도 불구하고',\n",
        " '여전히',\n",
        " '심지어',\n",
        " '까지도',\n",
        " '조차도',\n",
        " '하지 않도록',\n",
        " '않기 위하여',\n",
        " '때',\n",
        " '시각',\n",
        " '무렵',\n",
        " '시간',\n",
        " '동안',\n",
        " '어때',\n",
        " '어떠한',\n",
        " '하여금',\n",
        " '네',\n",
        " '예',\n",
        " '우선',\n",
        " '누구',\n",
        " '누가 알겠는가',\n",
        " '아무도',\n",
        " '줄은모른다',\n",
        " '줄은 몰랏다',\n",
        " '하는 김에',\n",
        " '겸사겸사',\n",
        " '하는바',\n",
        " '그런 까닭에',\n",
        " '한 이유는',\n",
        " '그러니',\n",
        " '그러니까',\n",
        " '때문에',\n",
        " '그',\n",
        " '너희',\n",
        " '그들',\n",
        " '너희들',\n",
        " '타인',\n",
        " '것',\n",
        " '것들',\n",
        " '너',\n",
        " '위하여',\n",
        " '공동으로',\n",
        " '동시에',\n",
        " '하기 위하여',\n",
        " '어찌하여',\n",
        " '무엇때문에',\n",
        " '붕붕',\n",
        " '윙윙',\n",
        " '나',\n",
        " '우리',\n",
        " '엉엉',\n",
        " '휘익',\n",
        " '윙윙',\n",
        " '오호',\n",
        " '아하',\n",
        " '어쨋든',\n",
        " '만 못하다\\t하기보다는',\n",
        " '차라리',\n",
        " '하는 편이 낫다',\n",
        " '흐흐',\n",
        " '놀라다',\n",
        " '상대적으로 말하자면',\n",
        " '마치',\n",
        " '아니라면',\n",
        " '쉿',\n",
        " '그렇지 않으면',\n",
        " '그렇지 않다면',\n",
        " '안 그러면',\n",
        " '아니었다면',\n",
        " '하든지',\n",
        " '아니면',\n",
        " '이라면',\n",
        " '좋아',\n",
        " '알았어',\n",
        " '하는것도',\n",
        " '그만이다',\n",
        " '어쩔수 없다',\n",
        " '하나',\n",
        " '일',\n",
        " '일반적으로',\n",
        " '일단',\n",
        " '한켠으로는',\n",
        " '오자마자',\n",
        " '이렇게되면',\n",
        " '이와같다면',\n",
        " '전부',\n",
        " '한마디',\n",
        " '한항목',\n",
        " '근거로',\n",
        " '하기에',\n",
        " '아울러',\n",
        " '하지 않도록',\n",
        " '않기 위해서',\n",
        " '이르기까지',\n",
        " '이 되다',\n",
        " '로 인하여',\n",
        " '까닭으로',\n",
        " '이유만으로',\n",
        " '이로 인하여',\n",
        " '그래서',\n",
        " '이 때문에',\n",
        " '그러므로',\n",
        " '그런 까닭에',\n",
        " '알 수 있다',\n",
        " '결론을 낼 수 있다',\n",
        " '으로 인하여',\n",
        " '있다',\n",
        " '어떤것',\n",
        " '관계가 있다',\n",
        " '관련이 있다',\n",
        " '연관되다',\n",
        " '어떤것들',\n",
        " '에 대해',\n",
        " '이리하여',\n",
        " '그리하여',\n",
        " '여부',\n",
        " '하기보다는',\n",
        " '하느니',\n",
        " '하면 할수록',\n",
        " '운운',\n",
        " '이러이러하다',\n",
        " '하구나',\n",
        " '하도다',\n",
        " '다시말하면',\n",
        " '다음으로',\n",
        " '에 있다',\n",
        " '에 달려 있다',\n",
        " '우리',\n",
        " '우리들',\n",
        " '오히려',\n",
        " '하기는한데',\n",
        " '어떻게',\n",
        " '어떻해',\n",
        " '어찌됏어',\n",
        " '어때',\n",
        " '어째서',\n",
        " '본대로',\n",
        " '자',\n",
        " '이',\n",
        " '이쪽',\n",
        " '여기',\n",
        " '이것',\n",
        " '이번',\n",
        " '이렇게말하자면',\n",
        " '이런',\n",
        " '이러한',\n",
        " '이와 같은',\n",
        " '요만큼',\n",
        " '요만한 것',\n",
        " '얼마 안 되는 것',\n",
        " '이만큼',\n",
        " '이 정도의',\n",
        " '이렇게 많은 것',\n",
        " '이와 같다',\n",
        " '이때',\n",
        " '이렇구나',\n",
        " '것과 같이',\n",
        " '끼익',\n",
        " '삐걱',\n",
        " '따위',\n",
        " '와 같은 사람들',\n",
        " '부류의 사람들',\n",
        " '왜냐하면',\n",
        " '중의하나',\n",
        " '오직',\n",
        " '오로지',\n",
        " '에 한하다',\n",
        " '하기만 하면',\n",
        " '도착하다',\n",
        " '까지 미치다',\n",
        " '도달하다',\n",
        " '정도에 이르다',\n",
        " '할 지경이다',\n",
        " '결과에 이르다',\n",
        " '관해서는',\n",
        " '여러분',\n",
        " '하고 있다',\n",
        " '한 후',\n",
        " '혼자',\n",
        " '자기',\n",
        " '자기집',\n",
        " '자신',\n",
        " '우에 종합한것과같이',\n",
        " '총적으로 보면',\n",
        " '총적으로 말하면',\n",
        " '총적으로',\n",
        " '대로 하다',\n",
        " '으로서',\n",
        " '참',\n",
        " '그만이다',\n",
        " '할 따름이다',\n",
        " '쿵',\n",
        " '탕탕',\n",
        " '쾅쾅',\n",
        " '둥둥',\n",
        " '봐',\n",
        " '봐라',\n",
        " '아이야',\n",
        " '아니',\n",
        " '와아',\n",
        " '응',\n",
        " '아이',\n",
        " '참나',\n",
        " '년',\n",
        " '월',\n",
        " '일',\n",
        " '령',\n",
        " '영',\n",
        " '일',\n",
        " '이',\n",
        " '삼',\n",
        " '사',\n",
        " '오',\n",
        " '육',\n",
        " '륙',\n",
        " '칠',\n",
        " '팔',\n",
        " '구',\n",
        " '이천육',\n",
        " '이천칠',\n",
        " '이천팔',\n",
        " '이천구',\n",
        " '하나',\n",
        " '둘',\n",
        " '셋',\n",
        " '넷',\n",
        " '다섯',\n",
        " '여섯',\n",
        " '일곱',\n",
        " '여덟',\n",
        " '아홉',\n",
        " '령',\n",
        " '영',\n",
        " '']\n",
        "\n"
      ],
      "metadata": {
        "id": "iHS0Fcx5I8iV",
        "colab": {
          "base_uri": "https://localhost:8080/"
        },
        "outputId": "1c7a7f50-6f71-4896-c507-5643a03d6828"
      },
      "execution_count": 15,
      "outputs": [
        {
          "output_type": "stream",
          "name": "stderr",
          "text": [
            "/usr/local/lib/python3.10/dist-packages/ipykernel/ipkernel.py:283: DeprecationWarning: `should_run_async` will not call `transform_cell` automatically in the future. Please pass the result to `transformed_cell` argument and any exception that happen during thetransform in `preprocessing_exc_tuple` in IPython 7.17 and above.\n",
            "  and should_run_async(code)\n"
          ]
        }
      ]
    },
    {
      "cell_type": "markdown",
      "source": [
        "### 특수문자 및 불용어 제거"
      ],
      "metadata": {
        "id": "clx52YR_IHJH"
      }
    },
    {
      "cell_type": "code",
      "source": [
        "def retext(input_string):\n",
        "    try:\n",
        "        clean_string = re.sub('[^A-Za-z0-9가-힣]+', ' ', input_string)\n",
        "    except:\n",
        "        clean_string = ' '\n",
        "    return clean_string"
      ],
      "metadata": {
        "id": "O-SAg8RpmifQ",
        "colab": {
          "base_uri": "https://localhost:8080/"
        },
        "outputId": "d69ad135-f661-4d74-d74e-fdd124643189"
      },
      "execution_count": 16,
      "outputs": [
        {
          "output_type": "stream",
          "name": "stderr",
          "text": [
            "/usr/local/lib/python3.10/dist-packages/ipykernel/ipkernel.py:283: DeprecationWarning: `should_run_async` will not call `transform_cell` automatically in the future. Please pass the result to `transformed_cell` argument and any exception that happen during thetransform in `preprocessing_exc_tuple` in IPython 7.17 and above.\n",
            "  and should_run_async(code)\n"
          ]
        }
      ]
    },
    {
      "cell_type": "code",
      "source": [
        "employee5_c['프로그램 주요내용'] = employee5_c['프로그램 주요내용'].fillna('')\n",
        "employee5_c['프로그램 목표'] = employee5_c['프로그램 목표'].fillna('')\n",
        "employee5_c['프로그램 주요내용_clean'] = employee5_c['프로그램 주요내용'].apply(retext)\n",
        "employee5_c['프로그램 목표_clean'] = employee5_c['프로그램 목표'].apply(retext)\n",
        "\n",
        "employee5_w['프로그램 주요내용'] = employee5_w['프로그램 주요내용'].fillna('')\n",
        "employee5_w['프로그램 목표'] = employee5_w['프로그램 목표'].fillna('')\n",
        "employee5_w['프로그램 주요내용_clean'] = employee5_w['프로그램 주요내용'].apply(retext)\n",
        "employee5_w['프로그램 목표_clean'] = employee5_w['프로그램 목표'].apply(retext)\n"
      ],
      "metadata": {
        "id": "blAEUJx8IGol",
        "colab": {
          "base_uri": "https://localhost:8080/"
        },
        "outputId": "05dcf177-cb5c-4129-cb61-a89ca6638fee"
      },
      "execution_count": 17,
      "outputs": [
        {
          "output_type": "stream",
          "name": "stderr",
          "text": [
            "/usr/local/lib/python3.10/dist-packages/ipykernel/ipkernel.py:283: DeprecationWarning: `should_run_async` will not call `transform_cell` automatically in the future. Please pass the result to `transformed_cell` argument and any exception that happen during thetransform in `preprocessing_exc_tuple` in IPython 7.17 and above.\n",
            "  and should_run_async(code)\n"
          ]
        }
      ]
    },
    {
      "cell_type": "code",
      "source": [
        "def get_keyword(sentence):\n",
        "    if pd.isnull(sentence):\n",
        "        return 0\n",
        "    okt = Okt()\n",
        "    result = [x for x in okt.nouns(sentence)]\n",
        "    ## 명사 중, 많이 등장한 명사만을 추출하고 싶다면 주석제거! ##\n",
        "    # count = Counter(result)\n",
        "    # result = count.most_common(20)\n",
        "    result = [x for x in result if x not in stop_words]\n",
        "    return result"
      ],
      "metadata": {
        "id": "0CTOJtEVEkvf",
        "colab": {
          "base_uri": "https://localhost:8080/"
        },
        "outputId": "43f0db02-9211-4501-abb5-5dfb86a6531d"
      },
      "execution_count": 18,
      "outputs": [
        {
          "output_type": "stream",
          "name": "stderr",
          "text": [
            "/usr/local/lib/python3.10/dist-packages/ipykernel/ipkernel.py:283: DeprecationWarning: `should_run_async` will not call `transform_cell` automatically in the future. Please pass the result to `transformed_cell` argument and any exception that happen during thetransform in `preprocessing_exc_tuple` in IPython 7.17 and above.\n",
            "  and should_run_async(code)\n"
          ]
        }
      ]
    },
    {
      "cell_type": "code",
      "source": [
        "col_keyword = ['프로그램 목표_clean', '프로그램 주요내용_clean']\n",
        "\n",
        "for col in col_keyword:\n",
        "    employee5_c[col + '_명사'] = employee5_c[col].apply(get_keyword)\n",
        "    employee5_w[col + '_명사'] = employee5_w[col].apply(get_keyword)"
      ],
      "metadata": {
        "id": "NyqQfpJKG01h",
        "colab": {
          "base_uri": "https://localhost:8080/"
        },
        "outputId": "507273e1-942f-41bd-c7aa-73084a3be343"
      },
      "execution_count": 19,
      "outputs": [
        {
          "output_type": "stream",
          "name": "stderr",
          "text": [
            "/usr/local/lib/python3.10/dist-packages/ipykernel/ipkernel.py:283: DeprecationWarning: `should_run_async` will not call `transform_cell` automatically in the future. Please pass the result to `transformed_cell` argument and any exception that happen during thetransform in `preprocessing_exc_tuple` in IPython 7.17 and above.\n",
            "  and should_run_async(code)\n"
          ]
        }
      ]
    },
    {
      "cell_type": "markdown",
      "source": [
        "#### 요약내용\n"
      ],
      "metadata": {
        "id": "Z-3bf6uzClxZ"
      }
    },
    {
      "cell_type": "code",
      "source": [
        "#페이지 랭크 함수\n",
        "def pagerank(x, df=0.85, max_iter=30):\n",
        "    assert 0 < df < 1\n",
        "\n",
        "    # initialize\n",
        "    A = normalize(x, axis=0, norm='l1')\n",
        "    R = np.ones(A.shape[0]).reshape(-1,1)\n",
        "    bias = (1 - df) * np.ones(A.shape[0]).reshape(-1,1)\n",
        "    # iteration\n",
        "    for _ in range(max_iter):\n",
        "        R = df * (A * R) + bias\n",
        "\n",
        "    return R\n",
        "\n",
        "\n",
        "def get_sentence(sentence_list):\n",
        "    data = []\n",
        "    okt = Okt()\n",
        "    for s in sentence_list:\n",
        "        if(s == \"\" or len(s) <= 2):\n",
        "            continue\n",
        "        temp_dict = {}\n",
        "        sub_sent = re.sub(r'[^\\uAC00-\\uD7A30-9a-zA-Z\\s]', '', s)\n",
        "        temp_dict['sentence'] = sub_sent\n",
        "        temp_dict['token_list'] = okt.morphs(sub_sent)\n",
        "        temp_dict['noun_list'] = okt.nouns(sub_sent)\n",
        "        data.append(temp_dict)\n",
        "\n",
        "    df = pd.DataFrame(data)\n",
        "\n",
        "    #유사도 matrix 생성\n",
        "    similarity_matrix = []\n",
        "    for i, row_i in df.iterrows():\n",
        "        i_row_vec = []\n",
        "        for j, row_j in df.iterrows():\n",
        "            if i == j:\n",
        "                i_row_vec.append(0.0)\n",
        "            else:\n",
        "                intersection = len(set(row_i['token_list']) & set(row_j['token_list']))\n",
        "                log_i = math.log(len(set(row_i['token_list'])))\n",
        "                log_j = math.log(len(set(row_j['token_list'])))\n",
        "                similarity = intersection / (log_i + log_j+1)\n",
        "                i_row_vec.append(similarity)\n",
        "        similarity_matrix.append(i_row_vec)\n",
        "\n",
        "    weight = np.array(similarity_matrix)\n",
        "\n",
        "    # pagerank를 돌려서 rank matrix 반환\n",
        "    R = pagerank(weight)\n",
        "    # 반환된 matrix를 row 별로 sum\n",
        "    R = R.sum(axis=1)\n",
        "    # 값이 높은 5개의 문장 index를 반환\n",
        "    indexs = R.argsort()[-5:]\n",
        "\n",
        "    result = []\n",
        "    for index in sorted(indexs):\n",
        "        result.append(df['sentence'][index])\n",
        "    return result\n",
        "\n",
        "def add_info(string):\n",
        "    sentence_list = string.split('\\n')\n",
        "    #문장 중, 길이가 10이상인 문장에 대해서만 실행\n",
        "    sentence_list = [i for i in sentence_list if len(i) >= 10]\n",
        "    try:\n",
        "        result = get_sentence(sentence_list)\n",
        "        result = ' '.join(result)\n",
        "    except:\n",
        "        result = ' '\n",
        "    return result"
      ],
      "metadata": {
        "id": "uWz8-TVirw-j",
        "colab": {
          "base_uri": "https://localhost:8080/"
        },
        "outputId": "d6a51004-35f8-43ec-9fe2-1528f14165a9"
      },
      "execution_count": 20,
      "outputs": [
        {
          "output_type": "stream",
          "name": "stderr",
          "text": [
            "/usr/local/lib/python3.10/dist-packages/ipykernel/ipkernel.py:283: DeprecationWarning: `should_run_async` will not call `transform_cell` automatically in the future. Please pass the result to `transformed_cell` argument and any exception that happen during thetransform in `preprocessing_exc_tuple` in IPython 7.17 and above.\n",
            "  and should_run_async(code)\n"
          ]
        }
      ]
    },
    {
      "cell_type": "code",
      "source": [
        "employee5_c['프로그램 주요내용_요약'] = employee5_c['프로그램 주요내용'].apply(add_info)\n",
        "employee5_c['프로그램 주요내용_요약']\n",
        "\n",
        "employee5_w['프로그램 주요내용_요약'] = employee5_w['프로그램 주요내용'].apply(add_info)\n",
        "employee5_w['프로그램 주요내용_요약']"
      ],
      "metadata": {
        "id": "VsGG8hYHOyWU",
        "colab": {
          "base_uri": "https://localhost:8080/"
        },
        "outputId": "e4d10b05-7b60-43a0-af02-c1c4706ed616"
      },
      "execution_count": 21,
      "outputs": [
        {
          "output_type": "stream",
          "name": "stderr",
          "text": [
            "/usr/local/lib/python3.10/dist-packages/ipykernel/ipkernel.py:283: DeprecationWarning: `should_run_async` will not call `transform_cell` automatically in the future. Please pass the result to `transformed_cell` argument and any exception that happen during thetransform in `preprocessing_exc_tuple` in IPython 7.17 and above.\n",
            "  and should_run_async(code)\n"
          ]
        },
        {
          "output_type": "execute_result",
          "data": {
            "text/plain": [
              "0         모든 특강 진행일 1일 전  오후 4시 접속링크 발송  비대면 온라인 교육입니...\n",
              "1         모든 특강 진행일 1일 전  오후 4시 접속링크 발송  비대면 온라인 교육입니...\n",
              "2         모든 특강 진행일 1일 전  오후 4시 접속링크 발송  비대면 온라인 교육입니...\n",
              "3      자살예방교육Y생명지기을 통해 심리적 위기 및 자살 예방에 도움을 줄 수 있습니다 신...\n",
              "4         모든 특강 진행일 1일 전  오후 4시 접속링크 발송  비대면 온라인 교육입니...\n",
              "                             ...                        \n",
              "694    전 일정 참가 가능한 학생만 지원 바람712 계절학기때문에 지원불가인 학생은 문의바...\n",
              "695     1 2 3 4 5회 참가자 중 비수상팀 학생의 경우에는 재신청 가능수상팀은 신청불...\n",
              "696     1 2 3 4회 참가자 중 비수상팀 학생의 경우에는 재신청 가능수상팀은 신청불가 ...\n",
              "697    학생들의 진취적인 진로 탐색을 응원하는 한국외국어대학교 로컬리티 사업단은 꿈을 이루...\n",
              "698                                                     \n",
              "Name: 프로그램 주요내용_요약, Length: 699, dtype: object"
            ]
          },
          "metadata": {},
          "execution_count": 21
        }
      ]
    },
    {
      "cell_type": "markdown",
      "source": [
        "#### csv\n"
      ],
      "metadata": {
        "id": "jzEvT6mBFJ6x"
      }
    },
    {
      "cell_type": "code",
      "source": [
        "employee5_c.to_csv(\"./career_cleaning.csv\",index=False)\n",
        "employee5_w.to_csv(\"./workshop_cleaning.csv\",index=False)"
      ],
      "metadata": {
        "id": "0QY9BWVRyaOE",
        "colab": {
          "base_uri": "https://localhost:8080/"
        },
        "outputId": "1251ebbd-c719-410f-d4d5-372f20731079"
      },
      "execution_count": 22,
      "outputs": [
        {
          "output_type": "stream",
          "name": "stderr",
          "text": [
            "/usr/local/lib/python3.10/dist-packages/ipykernel/ipkernel.py:283: DeprecationWarning: `should_run_async` will not call `transform_cell` automatically in the future. Please pass the result to `transformed_cell` argument and any exception that happen during thetransform in `preprocessing_exc_tuple` in IPython 7.17 and above.\n",
            "  and should_run_async(code)\n"
          ]
        }
      ]
    },
    {
      "cell_type": "code",
      "source": [
        "df_c=pd.read_csv(\"./career_cleaning.csv\")\n",
        "df_w=pd.read_csv(\"./workshop_cleaning.csv\")"
      ],
      "metadata": {
        "id": "gEvNgrqXSEQd",
        "colab": {
          "base_uri": "https://localhost:8080/"
        },
        "outputId": "3c1fb2d2-afe0-44fa-d37f-72e3ccc5e421"
      },
      "execution_count": 23,
      "outputs": [
        {
          "output_type": "stream",
          "name": "stderr",
          "text": [
            "/usr/local/lib/python3.10/dist-packages/ipykernel/ipkernel.py:283: DeprecationWarning: `should_run_async` will not call `transform_cell` automatically in the future. Please pass the result to `transformed_cell` argument and any exception that happen during thetransform in `preprocessing_exc_tuple` in IPython 7.17 and above.\n",
            "  and should_run_async(code)\n"
          ]
        }
      ]
    },
    {
      "cell_type": "code",
      "source": [
        "df2_c=df_c.drop(['운영조직','선정방법','비교과 캠퍼스','수료 인증서','인정시간','수강신청 취소허용','Unnamed: 19','시작날짜',\n",
        "       '마감날짜', '정원', '대기자', '기대효과','기대효과_키워드','Unnamed: 2', 'index'], axis=1, errors='ignore')\n",
        "\n",
        "df2_w=df_w.drop(['운영조직','선정방법','비교과 캠퍼스','수료 인증서','인정시간','수강신청 취소허용','Unnamed: 19','시작날짜',\n",
        "       '마감날짜', '정원', '대기자', '기대효과','기대효과_키워드','Unnamed: 2', 'index'], axis=1, errors='ignore')"
      ],
      "metadata": {
        "id": "phR_Lprs1Np9",
        "colab": {
          "base_uri": "https://localhost:8080/"
        },
        "outputId": "f6dcaecc-6b82-4d76-fb5d-a6be18088d1a"
      },
      "execution_count": 24,
      "outputs": [
        {
          "output_type": "stream",
          "name": "stderr",
          "text": [
            "/usr/local/lib/python3.10/dist-packages/ipykernel/ipkernel.py:283: DeprecationWarning: `should_run_async` will not call `transform_cell` automatically in the future. Please pass the result to `transformed_cell` argument and any exception that happen during thetransform in `preprocessing_exc_tuple` in IPython 7.17 and above.\n",
            "  and should_run_async(code)\n"
          ]
        }
      ]
    },
    {
      "cell_type": "code",
      "source": [
        "threshold = 7  # 결측치가 threshold(3)개 이상인 행을 추출\n",
        "df3_c=df2_c[df2_c.isnull().sum(axis=1) < threshold]\n",
        "df3_w=df2_w[df2_w.isnull().sum(axis=1) < threshold]"
      ],
      "metadata": {
        "id": "GwLA7SGR1Y35",
        "colab": {
          "base_uri": "https://localhost:8080/"
        },
        "outputId": "a07221d9-51a1-42f8-fdf5-51d365804f65"
      },
      "execution_count": 25,
      "outputs": [
        {
          "output_type": "stream",
          "name": "stderr",
          "text": [
            "/usr/local/lib/python3.10/dist-packages/ipykernel/ipkernel.py:283: DeprecationWarning: `should_run_async` will not call `transform_cell` automatically in the future. Please pass the result to `transformed_cell` argument and any exception that happen during thetransform in `preprocessing_exc_tuple` in IPython 7.17 and above.\n",
            "  and should_run_async(code)\n"
          ]
        }
      ]
    },
    {
      "cell_type": "code",
      "source": [
        "threshold = 5  # 결측치가 threshold(3)개 이상인 행을 추출\n",
        "df3_c[df3_c.isnull().sum(axis=1) >= threshold]\n",
        "\n",
        "df3_w[df3_w.isnull().sum(axis=1) >= threshold]"
      ],
      "metadata": {
        "id": "bfA78Ybn1d48",
        "colab": {
          "base_uri": "https://localhost:8080/",
          "height": 1000
        },
        "outputId": "2189f0aa-2d5f-4867-a4e7-1b1f9445edfd"
      },
      "execution_count": 26,
      "outputs": [
        {
          "output_type": "stream",
          "name": "stderr",
          "text": [
            "/usr/local/lib/python3.10/dist-packages/ipykernel/ipkernel.py:283: DeprecationWarning: `should_run_async` will not call `transform_cell` automatically in the future. Please pass the result to `transformed_cell` argument and any exception that happen during thetransform in `preprocessing_exc_tuple` in IPython 7.17 and above.\n",
            "  and should_run_async(code)\n"
          ]
        },
        {
          "output_type": "execute_result",
          "data": {
            "text/plain": [
              "                                                 프로그램명 프로그램 분류 신청대상  \\\n",
              "30    2023-2 중국 유학생 학업 및 진로 특강 / 2023-2 国际学生 特别学术和职业讲座     NaN  NaN   \n",
              "33            [특교원 우즈베크어] 현지지역전문가 특강 - 타슈켄트국립동방학대학교 총장     NaN  NaN   \n",
              "233     HUFS English Writing Tutoring 4월 2주차 (4/3-4/9)     NaN  NaN   \n",
              "263                2023 금융권 취업대비 프로젝토링 - 증권IB ECM/DCM반     NaN  NaN   \n",
              "284   포스트코로나 시대의 MZ세대 소비심리와 F&B 트렌드 -남민정 인사이트플랫폼 대표 특강     NaN  NaN   \n",
              "441                     2022학년도 1학기 창업 Academy 특강(1회차)     NaN  NaN   \n",
              "458                                    <영혼을 수놓은 초상> 관람     NaN  NaN   \n",
              "525          2021.11.28. 데이터 기반 융복합 교육과정: 자연어처리 입문 (1)     NaN  NaN   \n",
              "537                           [특교원] 전문가 초청 특강 : 김희정 감독     NaN  NaN   \n",
              "548                    2021년 11월 재외동포재단 초청장학생 문화체험(2차)     NaN  NaN   \n",
              "550                     2022년 1월 재외동포재단 초청장학생 문화체험(3차)     NaN  NaN   \n",
              "643                         2021 하계 영문 커버레터 작성 비대면 워크숍     NaN  NaN   \n",
              "667  2021년 7차 학습법특강(유튜브 동영상 매체를 활용한 독일어 발음 및 기초문법 익히기)     NaN  NaN   \n",
              "693                       2019학년도 Bring Your Own Ideas     NaN  NaN   \n",
              "697                            창의진로설계공모전 '우리 ABCD 할래?'     NaN  NaN   \n",
              "\n",
              "                                               프로그램 목표  \\\n",
              "30                    유학생의 대학생활 적응 향상 (진로발달 및 학업동기 향상)   \n",
              "33                  현지 지역전문가 특강으로 인한 우즈베키스탄에 대한 관심도 재고   \n",
              "233           글로벌 사회와의 효과적인 소통을 위해 학습자들의 외국어 글쓰기 능력 향상   \n",
              "263        금융권 채용에 대비하여 금융권 입사에 필요한 기초 지식부터 필수 역량까지 준비   \n",
              "284                     저학년들의 진로 탐색을 돕고, 도전정신과 리더십을 함양   \n",
              "441       창업에 대한 흥미와 도전정신 고취, 예비창업자 역량 강화, 기업가정신 발현 유도   \n",
              "458             그리스의 전통 의복을 재현한 사진을 감상하고, 그리스에 대해 알아보자   \n",
              "525                        인공지능의 기본 개념 등에 대해서 학습하고자 한다   \n",
              "537               영화를 매개체로 폴란드와 폴란드 문화를 함께 들여다 볼 수 있다.   \n",
              "548                   재외동포재단 초청 장학생 교류확대 및 원만한 학교생활 지도   \n",
              "550                   재외동포재단 초청 장학생 교류확대 및 원만한 학교생활 지도   \n",
              "643                                   영문 커버레터 작성 역량 제고   \n",
              "667  유튜브 동영상 매체를 활용해 독일어권 어린이가 모국어를 익히는 상황을 따라가며 독일...   \n",
              "693                                                  -   \n",
              "697                                                  -   \n",
              "\n",
              "                                             프로그램 주요내용   학부   학적   학년  \\\n",
              "30   안녕하세요. 한국외국어대학교 학생상담센터입니다.\\n학생상담센터에서는 유학생들을 위한...  NaN  NaN  NaN   \n",
              "33   Tixsiyeva S.Gulchehra- 타슈켄트국립동방학대학교(TDShU) 총장 ...  NaN  NaN  NaN   \n",
              "233  !첨삭 받을 파일(과제) 수업시간 48시간 전 제출 필수(이후 제출 시 무통보 불합...  NaN  NaN  NaN   \n",
              "263  상세 안내 바로가기 : https://hufsxcareerhigh.oopy.io\\n...  NaN  NaN  NaN   \n",
              "284    1. 프로그램명: 2022 HUFS 명사특강\\n2. 강연자 약력:\\n남민정 인사...  NaN  NaN  NaN   \n",
              "441  ㅇ 프로그램명 : 2022학년도 1학기 창업 Academy 특강-1회차\\nㅇ 일　　...  NaN  NaN  NaN   \n",
              "458  한국국제교류재단에서 한-그 수교 60주년을 맞이하여 '영혼을 수놓은 초상' 전시를 ...  NaN  NaN  NaN   \n",
              "525   1. 특강 참여 링크\\n-시간: 2021년 11월 28일  15:00~18:00 ...  NaN  NaN  NaN   \n",
              "537  - 폴란드 문화 속에서 배운 영화이야기\\n- 폴란드 유학시절 생생한 체험담\\n- 판...  NaN  NaN  NaN   \n",
              "548                       2021년 11월 재외동포재단 초청장학생 문화체험   NaN  NaN  NaN   \n",
              "550         2022년 1월 재외동포재단 초청장학생 문화체험(3차)_나전칠기 보석함만들기  NaN  NaN  NaN   \n",
              "643  1. 영문 커버레터 작성 기본 강의와 직무 맞춤형 실전 연습으로 구성된 워크숍\\n2...  NaN  NaN  NaN   \n",
              "667  ※ HUFSAbility에서 신청한 학생들에 한해 관리자가 e-class에 해당 강...  NaN  NaN  NaN   \n",
              "693  교육선진화센터에서는 학생이 스스로 만드는 우리 대학의 비교과 프로그램을 공모하고자 ...  NaN  NaN  NaN   \n",
              "697  2018 창의진로설계 공모전 ABCD (Amazing Battle of Career...  NaN  NaN  NaN   \n",
              "\n",
              "     지식·정보·기술 활용역량  자기주도적 학습역량  ...  의사소통 역량  대인관계역량  세계시민역량  \\\n",
              "30              25          50  ...        0       0       0   \n",
              "33               0           0  ...        0       0       0   \n",
              "233              0          50  ...       50       0       0   \n",
              "263             50          25  ...       25       0       0   \n",
              "284             50          50  ...        0       0       0   \n",
              "441              0           0  ...        0      50       0   \n",
              "458             50          50  ...        0       0       0   \n",
              "525             75           0  ...        0       0       0   \n",
              "537             50          50  ...        0       0       0   \n",
              "548              0           0  ...        0      25      75   \n",
              "550              0           0  ...        0      25      75   \n",
              "643             50           0  ...       50       0       0   \n",
              "667              0          25  ...       50       0      25   \n",
              "693              0           0  ...        0       0       0   \n",
              "697              0           0  ...        0       0       0   \n",
              "\n",
              "                                           프로그램 목표_키워드  \\\n",
              "30        ['유학생의', '학업동기', '대학생활', '적응', '진로발달', '향상']   \n",
              "33   ['우즈베키스탄에', '지역전문가', '특강으로', '현지', '관심도', '재고'...   \n",
              "233  ['글쓰기', '효과적인', '소통을', '학습자들의', '능력', '글로벌', '...   \n",
              "263  ['금융권', '대비하여', '채용에', '지식부터', '입사에', '필요한', '...   \n",
              "284  ['도전정신과', '저학년들의', '리더십을', '돕고', '탐색을', '진로', ...   \n",
              "441  ['기업가정신', '도전정신', '창업에', '강화', '발현', '흥미와', '대...   \n",
              "458  ['감상하고', '재현한', '사진을', '전통', '의복을', '알아보자', '그...   \n",
              "525  ['인공지능의', '학습하고자', '대해서', '한다', '등에', '기본', '개념']   \n",
              "537  ['문화를', '영화를', '매개체로', '폴란드와', '들여다', '폴란드', '...   \n",
              "548  ['학교생활', '장학생', '교류확대', '초청', '원만한', '지도', '재외...   \n",
              "550  ['학교생활', '장학생', '교류확대', '초청', '원만한', '지도', '재외...   \n",
              "643                   ['커버레터', '작성', '영문', '제고', '역량']   \n",
              "667  ['동영상', '모국어를', '어린이가', '상황을', '문법의', '한다', '독...   \n",
              "693                                                 []   \n",
              "697                                                 []   \n",
              "\n",
              "                                         프로그램 주요내용_키워드  \\\n",
              "30   ['학생상담센터입니다', '학생상담센터에서는', '안녕하세요', '学生咨询中心计划为...   \n",
              "33   ['타슈켄트국립동방학대학교', '우즈베키스탄에', 'tixsiyeva', '총장의'...   \n",
              "233  ['수강과목과', '완료해주시기', '유의사항', '상황으로', '작성해주시기', ...   \n",
              "263  ['재학생의', '학생의', '존중해주세요', '신청바랍니다', '대상으로', '정...   \n",
              "284  ['명사특강', '관광학', '관광학부', '강연자', '프로그램명', '소비심리와...   \n",
              "441  ['창업교육센터', '2022학년도', '엠지플레잉', '재적생', '강연자', '...   \n",
              "458  ['한국국제교류재단에서', '영혼을', '의복을', '재현하여', '사진으로', '...   \n",
              "525  ['교육과정', '이름설정을', '신청한', '2일자', '신청', '6일차', '...   \n",
              "537  ['영화만의', '단편영화', '영화학교', '통과하기', '생생한', '아버지의'...   \n",
              "548        ['초청장학생', '문화체험', '11월', '2021년', '재외동포재단']   \n",
              "550  ['초청장학생', '_나전칠기', '문화체험', '보석함만들기', '2022년', ...   \n",
              "643  ['연습으로', '협조사항', '진행하므로', '신청자', '신청자들', '워크숍'...   \n",
              "667  ['hufsability에서', 'hufsability', '신청한', '수강생으로...   \n",
              "693  ['교육과정의', '창출과정을', '교육선진화센터', '보완성', '교육선진화센터에...   \n",
              "697  ['공모전의', '중앙아시아학과', '창의적이고', '막연하게', '학생들의', '...   \n",
              "\n",
              "                                       프로그램 주요내용_clean  \\\n",
              "30   안녕하세요 한국외국어대학교 학생상담센터입니다 학생상담센터에서는 유학생들을 위한 프로...   \n",
              "33   Tixsiyeva S Gulchehra 타슈켄트국립동방학대학교 TDShU 총장 방문...   \n",
              "233   첨삭 받을 파일 과제 수업시간 48시간 전 제출 필수 이후 제출 시 무통보 불합격...   \n",
              "263  상세 안내 바로가기 https hufsxcareerhigh oopy io 소규모 인...   \n",
              "284   1 프로그램명 2022 HUFS 명사특강 2 강연자 약력 남민정 인사이트플랫폼 대...   \n",
              "441   프로그램명 2022학년도 1학기 창업 Academy 특강 1회차 일 정 2022 ...   \n",
              "458  한국국제교류재단에서 한 그 수교 60주년을 맞이하여 영혼을 수놓은 초상 전시를 개최...   \n",
              "525   1 특강 참여 링크 시간 2021년 11월 28일 15 00 18 00 Zoom ...   \n",
              "537   폴란드 문화 속에서 배운 영화이야기 폴란드 유학시절 생생한 체험담 판타지를 통해 ...   \n",
              "548                       2021년 11월 재외동포재단 초청장학생 문화체험    \n",
              "550          2022년 1월 재외동포재단 초청장학생 문화체험 3차 나전칠기 보석함만들기   \n",
              "643  1 영문 커버레터 작성 기본 강의와 직무 맞춤형 실전 연습으로 구성된 워크숍 2 신...   \n",
              "667   HUFSAbility에서 신청한 학생들에 한해 관리자가 e class에 해당 강좌...   \n",
              "693  교육선진화센터에서는 학생이 스스로 만드는 우리 대학의 비교과 프로그램을 공모하고자 ...   \n",
              "697  2018 창의진로설계 공모전 ABCD Amazing Battle of Career ...   \n",
              "\n",
              "                                         프로그램 목표_clean  \\\n",
              "30                     유학생의 대학생활 적응 향상 진로발달 및 학업동기 향상    \n",
              "33                  현지 지역전문가 특강으로 인한 우즈베키스탄에 대한 관심도 재고   \n",
              "233           글로벌 사회와의 효과적인 소통을 위해 학습자들의 외국어 글쓰기 능력 향상   \n",
              "263        금융권 채용에 대비하여 금융권 입사에 필요한 기초 지식부터 필수 역량까지 준비   \n",
              "284                      저학년들의 진로 탐색을 돕고 도전정신과 리더십을 함양   \n",
              "441         창업에 대한 흥미와 도전정신 고취 예비창업자 역량 강화 기업가정신 발현 유도   \n",
              "458              그리스의 전통 의복을 재현한 사진을 감상하고 그리스에 대해 알아보자   \n",
              "525                        인공지능의 기본 개념 등에 대해서 학습하고자 한다   \n",
              "537               영화를 매개체로 폴란드와 폴란드 문화를 함께 들여다 볼 수 있다    \n",
              "548                   재외동포재단 초청 장학생 교류확대 및 원만한 학교생활 지도   \n",
              "550                   재외동포재단 초청 장학생 교류확대 및 원만한 학교생활 지도   \n",
              "643                                   영문 커버레터 작성 역량 제고   \n",
              "667  유튜브 동영상 매체를 활용해 독일어권 어린이가 모국어를 익히는 상황을 따라가며 독일...   \n",
              "693                                                      \n",
              "697                                                      \n",
              "\n",
              "                                      프로그램 목표_clean_명사  \\\n",
              "30   ['유학생', '대학', '생활', '적응', '향상', '진로', '발달', '학...   \n",
              "33   ['현지', '지역', '전문가', '특강', '우즈베키스탄', '대한', '관심'...   \n",
              "233  ['글로벌', '사회', '효과', '소통', '위해', '학습자', '외국어', ...   \n",
              "263  ['금융', '채용', '대비', '금융', '입사', '기초', '지식', '필수...   \n",
              "284      ['저학년', '진로', '탐색', '도전', '정신과', '리더십', '함양']   \n",
              "441  ['창업', '대한', '흥미', '도전', '정신', '고취', '예비', '창업...   \n",
              "458  ['그리스', '전통', '의복', '재현', '사진', '감상', '그리스', '...   \n",
              "525               ['인공', '지능', '기본', '개념', '대해', '학습']   \n",
              "537         ['영화', '개체', '폴란드', '폴란드', '문화', '볼', '수']   \n",
              "548  ['재외동포재단', '초청', '장학생', '교류', '확대', '학교생활', '지도']   \n",
              "550  ['재외동포재단', '초청', '장학생', '교류', '확대', '학교생활', '지도']   \n",
              "643                     ['영문', '커버', '레터', '작성', '역량']   \n",
              "667  ['유튜브', '동영상', '매체', '활용', '독일어권', '어린이', '모국어...   \n",
              "693                                                 []   \n",
              "697                                                 []   \n",
              "\n",
              "                                    프로그램 주요내용_clean_명사  \\\n",
              "30   ['한국', '외국어', '대학교', '학생', '상담', '센터', '학생', '...   \n",
              "33   ['타슈켄트', '국립', '방학', '대학교', '총장', '방문', '현지', ...   \n",
              "233  ['삭', '파일', '과제', '수업', '전', '제출', '필수', '이후',...   \n",
              "263  ['상세', '안내', '바로가기', '소규모', '인원', '운영', '주', '...   \n",
              "284  ['프로그램', '명사', '특강', '강연', '약력', '남', '민정', '인...   \n",
              "441  ['프로그램', '학년', '학기', '창업', '특강', '정', '수', '방'...   \n",
              "458  ['한국', '국제', '교류', '재단', '수교', '주년', '맞이', '영혼...   \n",
              "525  ['특강', '참여', '링크', '회의', '참가', '데이터', '기반', '융...   \n",
              "537  ['폴란드', '문화', '속', '영화', '이야기', '폴란드', '유학', '...   \n",
              "548                ['재외동포재단', '초청', '장학생', '문화', '체험']   \n",
              "550  ['재외동포재단', '초청', '장학생', '문화', '체험', '차', '나전칠기...   \n",
              "643  ['영문', '커버', '레터', '작성', '기본', '강의', '직무', '맞춤...   \n",
              "667  ['신청', '학생', '한해', '관리자', '해당', '강좌', '수강생', '...   \n",
              "693  ['교육', '선진', '센터', '학생', '스스로', '대학', '비교', '프...   \n",
              "697  ['창의', '진로', '설계', '공모전', '학생', '진취', '진로', '탐...   \n",
              "\n",
              "                                          프로그램 주요내용_요약  \n",
              "30                                                      \n",
              "33   Tixsiyeva SGulchehra 타슈켄트국립동방학대학교TDShU 총장 방문 현...  \n",
              "233    신청 방법  HUFSAbility 로그인  HUFS Writing Tutorin...  \n",
              "263  상세 안내 바로가기  httpshufsxcareerhighoopyio  소규모 인원...  \n",
              "284  남민정 인사이트플랫폼 대표  인사이트플랫폼 대표 한양대학교 관광학부 겸임교수 201...  \n",
              "441   프로그램명  2022학년도 1학기 창업 Academy 특강1회차  일　　　정  2...  \n",
              "458  한국국제교류재단에서 한그 수교 60주년을 맞이하여 영혼을 수놓은 초상 전시를 개최합...  \n",
              "525   해당 프로그램은 2일자 프로그램인 데이터 기반 융복합 교육과정 자연어처리 입문 1...  \n",
              "537   폴란드 문화 속에서 배운 영화이야기  판타지를 통해 영화만의 시간을 통과하기 감독...  \n",
              "548                       2021년 11월 재외동포재단 초청장학생 문화체험   \n",
              "550            2022년 1월 재외동포재단 초청장학생 문화체험3차나전칠기 보석함만들기  \n",
              "643  1 영문 커버레터 작성 기본 강의와 직무 맞춤형 실전 연습으로 구성된 워크숍 2 신...  \n",
              "667   HUFSAbility에서 신청한 학생들에 한해 관리자가 eclass에 해당 강좌 ...  \n",
              "693  교육선진화센터에서는 학생이 스스로 만드는 우리 대학의 비교과 프로그램을 공모하고자 ...  \n",
              "697  학생들의 진취적인 진로 탐색을 응원하는 한국외국어대학교 로컬리티 사업단은 꿈을 이루...  \n",
              "\n",
              "[15 rows x 21 columns]"
            ],
            "text/html": [
              "\n",
              "  <div id=\"df-00618258-3c48-4a6c-a1c4-3b2480da8ab0\" class=\"colab-df-container\">\n",
              "    <div>\n",
              "<style scoped>\n",
              "    .dataframe tbody tr th:only-of-type {\n",
              "        vertical-align: middle;\n",
              "    }\n",
              "\n",
              "    .dataframe tbody tr th {\n",
              "        vertical-align: top;\n",
              "    }\n",
              "\n",
              "    .dataframe thead th {\n",
              "        text-align: right;\n",
              "    }\n",
              "</style>\n",
              "<table border=\"1\" class=\"dataframe\">\n",
              "  <thead>\n",
              "    <tr style=\"text-align: right;\">\n",
              "      <th></th>\n",
              "      <th>프로그램명</th>\n",
              "      <th>프로그램 분류</th>\n",
              "      <th>신청대상</th>\n",
              "      <th>프로그램 목표</th>\n",
              "      <th>프로그램 주요내용</th>\n",
              "      <th>학부</th>\n",
              "      <th>학적</th>\n",
              "      <th>학년</th>\n",
              "      <th>지식·정보·기술 활용역량</th>\n",
              "      <th>자기주도적 학습역량</th>\n",
              "      <th>...</th>\n",
              "      <th>의사소통 역량</th>\n",
              "      <th>대인관계역량</th>\n",
              "      <th>세계시민역량</th>\n",
              "      <th>프로그램 목표_키워드</th>\n",
              "      <th>프로그램 주요내용_키워드</th>\n",
              "      <th>프로그램 주요내용_clean</th>\n",
              "      <th>프로그램 목표_clean</th>\n",
              "      <th>프로그램 목표_clean_명사</th>\n",
              "      <th>프로그램 주요내용_clean_명사</th>\n",
              "      <th>프로그램 주요내용_요약</th>\n",
              "    </tr>\n",
              "  </thead>\n",
              "  <tbody>\n",
              "    <tr>\n",
              "      <th>30</th>\n",
              "      <td>2023-2 중국 유학생 학업 및 진로 특강 / 2023-2 国际学生 特别学术和职业讲座</td>\n",
              "      <td>NaN</td>\n",
              "      <td>NaN</td>\n",
              "      <td>유학생의 대학생활 적응 향상 (진로발달 및 학업동기 향상)</td>\n",
              "      <td>안녕하세요. 한국외국어대학교 학생상담센터입니다.\\n학생상담센터에서는 유학생들을 위한...</td>\n",
              "      <td>NaN</td>\n",
              "      <td>NaN</td>\n",
              "      <td>NaN</td>\n",
              "      <td>25</td>\n",
              "      <td>50</td>\n",
              "      <td>...</td>\n",
              "      <td>0</td>\n",
              "      <td>0</td>\n",
              "      <td>0</td>\n",
              "      <td>['유학생의', '학업동기', '대학생활', '적응', '진로발달', '향상']</td>\n",
              "      <td>['학생상담센터입니다', '학생상담센터에서는', '안녕하세요', '学生咨询中心计划为...</td>\n",
              "      <td>안녕하세요 한국외국어대학교 학생상담센터입니다 학생상담센터에서는 유학생들을 위한 프로...</td>\n",
              "      <td>유학생의 대학생활 적응 향상 진로발달 및 학업동기 향상</td>\n",
              "      <td>['유학생', '대학', '생활', '적응', '향상', '진로', '발달', '학...</td>\n",
              "      <td>['한국', '외국어', '대학교', '학생', '상담', '센터', '학생', '...</td>\n",
              "      <td></td>\n",
              "    </tr>\n",
              "    <tr>\n",
              "      <th>33</th>\n",
              "      <td>[특교원 우즈베크어] 현지지역전문가 특강 - 타슈켄트국립동방학대학교 총장</td>\n",
              "      <td>NaN</td>\n",
              "      <td>NaN</td>\n",
              "      <td>현지 지역전문가 특강으로 인한 우즈베키스탄에 대한 관심도 재고</td>\n",
              "      <td>Tixsiyeva S.Gulchehra- 타슈켄트국립동방학대학교(TDShU) 총장 ...</td>\n",
              "      <td>NaN</td>\n",
              "      <td>NaN</td>\n",
              "      <td>NaN</td>\n",
              "      <td>0</td>\n",
              "      <td>0</td>\n",
              "      <td>...</td>\n",
              "      <td>0</td>\n",
              "      <td>0</td>\n",
              "      <td>0</td>\n",
              "      <td>['우즈베키스탄에', '지역전문가', '특강으로', '현지', '관심도', '재고'...</td>\n",
              "      <td>['타슈켄트국립동방학대학교', '우즈베키스탄에', 'tixsiyeva', '총장의'...</td>\n",
              "      <td>Tixsiyeva S Gulchehra 타슈켄트국립동방학대학교 TDShU 총장 방문...</td>\n",
              "      <td>현지 지역전문가 특강으로 인한 우즈베키스탄에 대한 관심도 재고</td>\n",
              "      <td>['현지', '지역', '전문가', '특강', '우즈베키스탄', '대한', '관심'...</td>\n",
              "      <td>['타슈켄트', '국립', '방학', '대학교', '총장', '방문', '현지', ...</td>\n",
              "      <td>Tixsiyeva SGulchehra 타슈켄트국립동방학대학교TDShU 총장 방문 현...</td>\n",
              "    </tr>\n",
              "    <tr>\n",
              "      <th>233</th>\n",
              "      <td>HUFS English Writing Tutoring 4월 2주차 (4/3-4/9)</td>\n",
              "      <td>NaN</td>\n",
              "      <td>NaN</td>\n",
              "      <td>글로벌 사회와의 효과적인 소통을 위해 학습자들의 외국어 글쓰기 능력 향상</td>\n",
              "      <td>!첨삭 받을 파일(과제) 수업시간 48시간 전 제출 필수(이후 제출 시 무통보 불합...</td>\n",
              "      <td>NaN</td>\n",
              "      <td>NaN</td>\n",
              "      <td>NaN</td>\n",
              "      <td>0</td>\n",
              "      <td>50</td>\n",
              "      <td>...</td>\n",
              "      <td>50</td>\n",
              "      <td>0</td>\n",
              "      <td>0</td>\n",
              "      <td>['글쓰기', '효과적인', '소통을', '학습자들의', '능력', '글로벌', '...</td>\n",
              "      <td>['수강과목과', '완료해주시기', '유의사항', '상황으로', '작성해주시기', ...</td>\n",
              "      <td>첨삭 받을 파일 과제 수업시간 48시간 전 제출 필수 이후 제출 시 무통보 불합격...</td>\n",
              "      <td>글로벌 사회와의 효과적인 소통을 위해 학습자들의 외국어 글쓰기 능력 향상</td>\n",
              "      <td>['글로벌', '사회', '효과', '소통', '위해', '학습자', '외국어', ...</td>\n",
              "      <td>['삭', '파일', '과제', '수업', '전', '제출', '필수', '이후',...</td>\n",
              "      <td>신청 방법  HUFSAbility 로그인  HUFS Writing Tutorin...</td>\n",
              "    </tr>\n",
              "    <tr>\n",
              "      <th>263</th>\n",
              "      <td>2023 금융권 취업대비 프로젝토링 - 증권IB ECM/DCM반</td>\n",
              "      <td>NaN</td>\n",
              "      <td>NaN</td>\n",
              "      <td>금융권 채용에 대비하여 금융권 입사에 필요한 기초 지식부터 필수 역량까지 준비</td>\n",
              "      <td>상세 안내 바로가기 : https://hufsxcareerhigh.oopy.io\\n...</td>\n",
              "      <td>NaN</td>\n",
              "      <td>NaN</td>\n",
              "      <td>NaN</td>\n",
              "      <td>50</td>\n",
              "      <td>25</td>\n",
              "      <td>...</td>\n",
              "      <td>25</td>\n",
              "      <td>0</td>\n",
              "      <td>0</td>\n",
              "      <td>['금융권', '대비하여', '채용에', '지식부터', '입사에', '필요한', '...</td>\n",
              "      <td>['재학생의', '학생의', '존중해주세요', '신청바랍니다', '대상으로', '정...</td>\n",
              "      <td>상세 안내 바로가기 https hufsxcareerhigh oopy io 소규모 인...</td>\n",
              "      <td>금융권 채용에 대비하여 금융권 입사에 필요한 기초 지식부터 필수 역량까지 준비</td>\n",
              "      <td>['금융', '채용', '대비', '금융', '입사', '기초', '지식', '필수...</td>\n",
              "      <td>['상세', '안내', '바로가기', '소규모', '인원', '운영', '주', '...</td>\n",
              "      <td>상세 안내 바로가기  httpshufsxcareerhighoopyio  소규모 인원...</td>\n",
              "    </tr>\n",
              "    <tr>\n",
              "      <th>284</th>\n",
              "      <td>포스트코로나 시대의 MZ세대 소비심리와 F&amp;B 트렌드 -남민정 인사이트플랫폼 대표 특강</td>\n",
              "      <td>NaN</td>\n",
              "      <td>NaN</td>\n",
              "      <td>저학년들의 진로 탐색을 돕고, 도전정신과 리더십을 함양</td>\n",
              "      <td>1. 프로그램명: 2022 HUFS 명사특강\\n2. 강연자 약력:\\n남민정 인사...</td>\n",
              "      <td>NaN</td>\n",
              "      <td>NaN</td>\n",
              "      <td>NaN</td>\n",
              "      <td>50</td>\n",
              "      <td>50</td>\n",
              "      <td>...</td>\n",
              "      <td>0</td>\n",
              "      <td>0</td>\n",
              "      <td>0</td>\n",
              "      <td>['도전정신과', '저학년들의', '리더십을', '돕고', '탐색을', '진로', ...</td>\n",
              "      <td>['명사특강', '관광학', '관광학부', '강연자', '프로그램명', '소비심리와...</td>\n",
              "      <td>1 프로그램명 2022 HUFS 명사특강 2 강연자 약력 남민정 인사이트플랫폼 대...</td>\n",
              "      <td>저학년들의 진로 탐색을 돕고 도전정신과 리더십을 함양</td>\n",
              "      <td>['저학년', '진로', '탐색', '도전', '정신과', '리더십', '함양']</td>\n",
              "      <td>['프로그램', '명사', '특강', '강연', '약력', '남', '민정', '인...</td>\n",
              "      <td>남민정 인사이트플랫폼 대표  인사이트플랫폼 대표 한양대학교 관광학부 겸임교수 201...</td>\n",
              "    </tr>\n",
              "    <tr>\n",
              "      <th>441</th>\n",
              "      <td>2022학년도 1학기 창업 Academy 특강(1회차)</td>\n",
              "      <td>NaN</td>\n",
              "      <td>NaN</td>\n",
              "      <td>창업에 대한 흥미와 도전정신 고취, 예비창업자 역량 강화, 기업가정신 발현 유도</td>\n",
              "      <td>ㅇ 프로그램명 : 2022학년도 1학기 창업 Academy 특강-1회차\\nㅇ 일　　...</td>\n",
              "      <td>NaN</td>\n",
              "      <td>NaN</td>\n",
              "      <td>NaN</td>\n",
              "      <td>0</td>\n",
              "      <td>0</td>\n",
              "      <td>...</td>\n",
              "      <td>0</td>\n",
              "      <td>50</td>\n",
              "      <td>0</td>\n",
              "      <td>['기업가정신', '도전정신', '창업에', '강화', '발현', '흥미와', '대...</td>\n",
              "      <td>['창업교육센터', '2022학년도', '엠지플레잉', '재적생', '강연자', '...</td>\n",
              "      <td>프로그램명 2022학년도 1학기 창업 Academy 특강 1회차 일 정 2022 ...</td>\n",
              "      <td>창업에 대한 흥미와 도전정신 고취 예비창업자 역량 강화 기업가정신 발현 유도</td>\n",
              "      <td>['창업', '대한', '흥미', '도전', '정신', '고취', '예비', '창업...</td>\n",
              "      <td>['프로그램', '학년', '학기', '창업', '특강', '정', '수', '방'...</td>\n",
              "      <td>프로그램명  2022학년도 1학기 창업 Academy 특강1회차  일　　　정  2...</td>\n",
              "    </tr>\n",
              "    <tr>\n",
              "      <th>458</th>\n",
              "      <td>&lt;영혼을 수놓은 초상&gt; 관람</td>\n",
              "      <td>NaN</td>\n",
              "      <td>NaN</td>\n",
              "      <td>그리스의 전통 의복을 재현한 사진을 감상하고, 그리스에 대해 알아보자</td>\n",
              "      <td>한국국제교류재단에서 한-그 수교 60주년을 맞이하여 '영혼을 수놓은 초상' 전시를 ...</td>\n",
              "      <td>NaN</td>\n",
              "      <td>NaN</td>\n",
              "      <td>NaN</td>\n",
              "      <td>50</td>\n",
              "      <td>50</td>\n",
              "      <td>...</td>\n",
              "      <td>0</td>\n",
              "      <td>0</td>\n",
              "      <td>0</td>\n",
              "      <td>['감상하고', '재현한', '사진을', '전통', '의복을', '알아보자', '그...</td>\n",
              "      <td>['한국국제교류재단에서', '영혼을', '의복을', '재현하여', '사진으로', '...</td>\n",
              "      <td>한국국제교류재단에서 한 그 수교 60주년을 맞이하여 영혼을 수놓은 초상 전시를 개최...</td>\n",
              "      <td>그리스의 전통 의복을 재현한 사진을 감상하고 그리스에 대해 알아보자</td>\n",
              "      <td>['그리스', '전통', '의복', '재현', '사진', '감상', '그리스', '...</td>\n",
              "      <td>['한국', '국제', '교류', '재단', '수교', '주년', '맞이', '영혼...</td>\n",
              "      <td>한국국제교류재단에서 한그 수교 60주년을 맞이하여 영혼을 수놓은 초상 전시를 개최합...</td>\n",
              "    </tr>\n",
              "    <tr>\n",
              "      <th>525</th>\n",
              "      <td>2021.11.28. 데이터 기반 융복합 교육과정: 자연어처리 입문 (1)</td>\n",
              "      <td>NaN</td>\n",
              "      <td>NaN</td>\n",
              "      <td>인공지능의 기본 개념 등에 대해서 학습하고자 한다</td>\n",
              "      <td>1. 특강 참여 링크\\n-시간: 2021년 11월 28일  15:00~18:00 ...</td>\n",
              "      <td>NaN</td>\n",
              "      <td>NaN</td>\n",
              "      <td>NaN</td>\n",
              "      <td>75</td>\n",
              "      <td>0</td>\n",
              "      <td>...</td>\n",
              "      <td>0</td>\n",
              "      <td>0</td>\n",
              "      <td>0</td>\n",
              "      <td>['인공지능의', '학습하고자', '대해서', '한다', '등에', '기본', '개념']</td>\n",
              "      <td>['교육과정', '이름설정을', '신청한', '2일자', '신청', '6일차', '...</td>\n",
              "      <td>1 특강 참여 링크 시간 2021년 11월 28일 15 00 18 00 Zoom ...</td>\n",
              "      <td>인공지능의 기본 개념 등에 대해서 학습하고자 한다</td>\n",
              "      <td>['인공', '지능', '기본', '개념', '대해', '학습']</td>\n",
              "      <td>['특강', '참여', '링크', '회의', '참가', '데이터', '기반', '융...</td>\n",
              "      <td>해당 프로그램은 2일자 프로그램인 데이터 기반 융복합 교육과정 자연어처리 입문 1...</td>\n",
              "    </tr>\n",
              "    <tr>\n",
              "      <th>537</th>\n",
              "      <td>[특교원] 전문가 초청 특강 : 김희정 감독</td>\n",
              "      <td>NaN</td>\n",
              "      <td>NaN</td>\n",
              "      <td>영화를 매개체로 폴란드와 폴란드 문화를 함께 들여다 볼 수 있다.</td>\n",
              "      <td>- 폴란드 문화 속에서 배운 영화이야기\\n- 폴란드 유학시절 생생한 체험담\\n- 판...</td>\n",
              "      <td>NaN</td>\n",
              "      <td>NaN</td>\n",
              "      <td>NaN</td>\n",
              "      <td>50</td>\n",
              "      <td>50</td>\n",
              "      <td>...</td>\n",
              "      <td>0</td>\n",
              "      <td>0</td>\n",
              "      <td>0</td>\n",
              "      <td>['문화를', '영화를', '매개체로', '폴란드와', '들여다', '폴란드', '...</td>\n",
              "      <td>['영화만의', '단편영화', '영화학교', '통과하기', '생생한', '아버지의'...</td>\n",
              "      <td>폴란드 문화 속에서 배운 영화이야기 폴란드 유학시절 생생한 체험담 판타지를 통해 ...</td>\n",
              "      <td>영화를 매개체로 폴란드와 폴란드 문화를 함께 들여다 볼 수 있다</td>\n",
              "      <td>['영화', '개체', '폴란드', '폴란드', '문화', '볼', '수']</td>\n",
              "      <td>['폴란드', '문화', '속', '영화', '이야기', '폴란드', '유학', '...</td>\n",
              "      <td>폴란드 문화 속에서 배운 영화이야기  판타지를 통해 영화만의 시간을 통과하기 감독...</td>\n",
              "    </tr>\n",
              "    <tr>\n",
              "      <th>548</th>\n",
              "      <td>2021년 11월 재외동포재단 초청장학생 문화체험(2차)</td>\n",
              "      <td>NaN</td>\n",
              "      <td>NaN</td>\n",
              "      <td>재외동포재단 초청 장학생 교류확대 및 원만한 학교생활 지도</td>\n",
              "      <td>2021년 11월 재외동포재단 초청장학생 문화체험</td>\n",
              "      <td>NaN</td>\n",
              "      <td>NaN</td>\n",
              "      <td>NaN</td>\n",
              "      <td>0</td>\n",
              "      <td>0</td>\n",
              "      <td>...</td>\n",
              "      <td>0</td>\n",
              "      <td>25</td>\n",
              "      <td>75</td>\n",
              "      <td>['학교생활', '장학생', '교류확대', '초청', '원만한', '지도', '재외...</td>\n",
              "      <td>['초청장학생', '문화체험', '11월', '2021년', '재외동포재단']</td>\n",
              "      <td>2021년 11월 재외동포재단 초청장학생 문화체험</td>\n",
              "      <td>재외동포재단 초청 장학생 교류확대 및 원만한 학교생활 지도</td>\n",
              "      <td>['재외동포재단', '초청', '장학생', '교류', '확대', '학교생활', '지도']</td>\n",
              "      <td>['재외동포재단', '초청', '장학생', '문화', '체험']</td>\n",
              "      <td>2021년 11월 재외동포재단 초청장학생 문화체험</td>\n",
              "    </tr>\n",
              "    <tr>\n",
              "      <th>550</th>\n",
              "      <td>2022년 1월 재외동포재단 초청장학생 문화체험(3차)</td>\n",
              "      <td>NaN</td>\n",
              "      <td>NaN</td>\n",
              "      <td>재외동포재단 초청 장학생 교류확대 및 원만한 학교생활 지도</td>\n",
              "      <td>2022년 1월 재외동포재단 초청장학생 문화체험(3차)_나전칠기 보석함만들기</td>\n",
              "      <td>NaN</td>\n",
              "      <td>NaN</td>\n",
              "      <td>NaN</td>\n",
              "      <td>0</td>\n",
              "      <td>0</td>\n",
              "      <td>...</td>\n",
              "      <td>0</td>\n",
              "      <td>25</td>\n",
              "      <td>75</td>\n",
              "      <td>['학교생활', '장학생', '교류확대', '초청', '원만한', '지도', '재외...</td>\n",
              "      <td>['초청장학생', '_나전칠기', '문화체험', '보석함만들기', '2022년', ...</td>\n",
              "      <td>2022년 1월 재외동포재단 초청장학생 문화체험 3차 나전칠기 보석함만들기</td>\n",
              "      <td>재외동포재단 초청 장학생 교류확대 및 원만한 학교생활 지도</td>\n",
              "      <td>['재외동포재단', '초청', '장학생', '교류', '확대', '학교생활', '지도']</td>\n",
              "      <td>['재외동포재단', '초청', '장학생', '문화', '체험', '차', '나전칠기...</td>\n",
              "      <td>2022년 1월 재외동포재단 초청장학생 문화체험3차나전칠기 보석함만들기</td>\n",
              "    </tr>\n",
              "    <tr>\n",
              "      <th>643</th>\n",
              "      <td>2021 하계 영문 커버레터 작성 비대면 워크숍</td>\n",
              "      <td>NaN</td>\n",
              "      <td>NaN</td>\n",
              "      <td>영문 커버레터 작성 역량 제고</td>\n",
              "      <td>1. 영문 커버레터 작성 기본 강의와 직무 맞춤형 실전 연습으로 구성된 워크숍\\n2...</td>\n",
              "      <td>NaN</td>\n",
              "      <td>NaN</td>\n",
              "      <td>NaN</td>\n",
              "      <td>50</td>\n",
              "      <td>0</td>\n",
              "      <td>...</td>\n",
              "      <td>50</td>\n",
              "      <td>0</td>\n",
              "      <td>0</td>\n",
              "      <td>['커버레터', '작성', '영문', '제고', '역량']</td>\n",
              "      <td>['연습으로', '협조사항', '진행하므로', '신청자', '신청자들', '워크숍'...</td>\n",
              "      <td>1 영문 커버레터 작성 기본 강의와 직무 맞춤형 실전 연습으로 구성된 워크숍 2 신...</td>\n",
              "      <td>영문 커버레터 작성 역량 제고</td>\n",
              "      <td>['영문', '커버', '레터', '작성', '역량']</td>\n",
              "      <td>['영문', '커버', '레터', '작성', '기본', '강의', '직무', '맞춤...</td>\n",
              "      <td>1 영문 커버레터 작성 기본 강의와 직무 맞춤형 실전 연습으로 구성된 워크숍 2 신...</td>\n",
              "    </tr>\n",
              "    <tr>\n",
              "      <th>667</th>\n",
              "      <td>2021년 7차 학습법특강(유튜브 동영상 매체를 활용한 독일어 발음 및 기초문법 익히기)</td>\n",
              "      <td>NaN</td>\n",
              "      <td>NaN</td>\n",
              "      <td>유튜브 동영상 매체를 활용해 독일어권 어린이가 모국어를 익히는 상황을 따라가며 독일...</td>\n",
              "      <td>※ HUFSAbility에서 신청한 학생들에 한해 관리자가 e-class에 해당 강...</td>\n",
              "      <td>NaN</td>\n",
              "      <td>NaN</td>\n",
              "      <td>NaN</td>\n",
              "      <td>0</td>\n",
              "      <td>25</td>\n",
              "      <td>...</td>\n",
              "      <td>50</td>\n",
              "      <td>0</td>\n",
              "      <td>25</td>\n",
              "      <td>['동영상', '모국어를', '어린이가', '상황을', '문법의', '한다', '독...</td>\n",
              "      <td>['hufsability에서', 'hufsability', '신청한', '수강생으로...</td>\n",
              "      <td>HUFSAbility에서 신청한 학생들에 한해 관리자가 e class에 해당 강좌...</td>\n",
              "      <td>유튜브 동영상 매체를 활용해 독일어권 어린이가 모국어를 익히는 상황을 따라가며 독일...</td>\n",
              "      <td>['유튜브', '동영상', '매체', '활용', '독일어권', '어린이', '모국어...</td>\n",
              "      <td>['신청', '학생', '한해', '관리자', '해당', '강좌', '수강생', '...</td>\n",
              "      <td>HUFSAbility에서 신청한 학생들에 한해 관리자가 eclass에 해당 강좌 ...</td>\n",
              "    </tr>\n",
              "    <tr>\n",
              "      <th>693</th>\n",
              "      <td>2019학년도 Bring Your Own Ideas</td>\n",
              "      <td>NaN</td>\n",
              "      <td>NaN</td>\n",
              "      <td>-</td>\n",
              "      <td>교육선진화센터에서는 학생이 스스로 만드는 우리 대학의 비교과 프로그램을 공모하고자 ...</td>\n",
              "      <td>NaN</td>\n",
              "      <td>NaN</td>\n",
              "      <td>NaN</td>\n",
              "      <td>0</td>\n",
              "      <td>0</td>\n",
              "      <td>...</td>\n",
              "      <td>0</td>\n",
              "      <td>0</td>\n",
              "      <td>0</td>\n",
              "      <td>[]</td>\n",
              "      <td>['교육과정의', '창출과정을', '교육선진화센터', '보완성', '교육선진화센터에...</td>\n",
              "      <td>교육선진화센터에서는 학생이 스스로 만드는 우리 대학의 비교과 프로그램을 공모하고자 ...</td>\n",
              "      <td></td>\n",
              "      <td>[]</td>\n",
              "      <td>['교육', '선진', '센터', '학생', '스스로', '대학', '비교', '프...</td>\n",
              "      <td>교육선진화센터에서는 학생이 스스로 만드는 우리 대학의 비교과 프로그램을 공모하고자 ...</td>\n",
              "    </tr>\n",
              "    <tr>\n",
              "      <th>697</th>\n",
              "      <td>창의진로설계공모전 '우리 ABCD 할래?'</td>\n",
              "      <td>NaN</td>\n",
              "      <td>NaN</td>\n",
              "      <td>-</td>\n",
              "      <td>2018 창의진로설계 공모전 ABCD (Amazing Battle of Career...</td>\n",
              "      <td>NaN</td>\n",
              "      <td>NaN</td>\n",
              "      <td>NaN</td>\n",
              "      <td>0</td>\n",
              "      <td>0</td>\n",
              "      <td>...</td>\n",
              "      <td>0</td>\n",
              "      <td>0</td>\n",
              "      <td>0</td>\n",
              "      <td>[]</td>\n",
              "      <td>['공모전의', '중앙아시아학과', '창의적이고', '막연하게', '학생들의', '...</td>\n",
              "      <td>2018 창의진로설계 공모전 ABCD Amazing Battle of Career ...</td>\n",
              "      <td></td>\n",
              "      <td>[]</td>\n",
              "      <td>['창의', '진로', '설계', '공모전', '학생', '진취', '진로', '탐...</td>\n",
              "      <td>학생들의 진취적인 진로 탐색을 응원하는 한국외국어대학교 로컬리티 사업단은 꿈을 이루...</td>\n",
              "    </tr>\n",
              "  </tbody>\n",
              "</table>\n",
              "<p>15 rows × 21 columns</p>\n",
              "</div>\n",
              "    <div class=\"colab-df-buttons\">\n",
              "\n",
              "  <div class=\"colab-df-container\">\n",
              "    <button class=\"colab-df-convert\" onclick=\"convertToInteractive('df-00618258-3c48-4a6c-a1c4-3b2480da8ab0')\"\n",
              "            title=\"Convert this dataframe to an interactive table.\"\n",
              "            style=\"display:none;\">\n",
              "\n",
              "  <svg xmlns=\"http://www.w3.org/2000/svg\" height=\"24px\" viewBox=\"0 -960 960 960\">\n",
              "    <path d=\"M120-120v-720h720v720H120Zm60-500h600v-160H180v160Zm220 220h160v-160H400v160Zm0 220h160v-160H400v160ZM180-400h160v-160H180v160Zm440 0h160v-160H620v160ZM180-180h160v-160H180v160Zm440 0h160v-160H620v160Z\"/>\n",
              "  </svg>\n",
              "    </button>\n",
              "\n",
              "  <style>\n",
              "    .colab-df-container {\n",
              "      display:flex;\n",
              "      gap: 12px;\n",
              "    }\n",
              "\n",
              "    .colab-df-convert {\n",
              "      background-color: #E8F0FE;\n",
              "      border: none;\n",
              "      border-radius: 50%;\n",
              "      cursor: pointer;\n",
              "      display: none;\n",
              "      fill: #1967D2;\n",
              "      height: 32px;\n",
              "      padding: 0 0 0 0;\n",
              "      width: 32px;\n",
              "    }\n",
              "\n",
              "    .colab-df-convert:hover {\n",
              "      background-color: #E2EBFA;\n",
              "      box-shadow: 0px 1px 2px rgba(60, 64, 67, 0.3), 0px 1px 3px 1px rgba(60, 64, 67, 0.15);\n",
              "      fill: #174EA6;\n",
              "    }\n",
              "\n",
              "    .colab-df-buttons div {\n",
              "      margin-bottom: 4px;\n",
              "    }\n",
              "\n",
              "    [theme=dark] .colab-df-convert {\n",
              "      background-color: #3B4455;\n",
              "      fill: #D2E3FC;\n",
              "    }\n",
              "\n",
              "    [theme=dark] .colab-df-convert:hover {\n",
              "      background-color: #434B5C;\n",
              "      box-shadow: 0px 1px 3px 1px rgba(0, 0, 0, 0.15);\n",
              "      filter: drop-shadow(0px 1px 2px rgba(0, 0, 0, 0.3));\n",
              "      fill: #FFFFFF;\n",
              "    }\n",
              "  </style>\n",
              "\n",
              "    <script>\n",
              "      const buttonEl =\n",
              "        document.querySelector('#df-00618258-3c48-4a6c-a1c4-3b2480da8ab0 button.colab-df-convert');\n",
              "      buttonEl.style.display =\n",
              "        google.colab.kernel.accessAllowed ? 'block' : 'none';\n",
              "\n",
              "      async function convertToInteractive(key) {\n",
              "        const element = document.querySelector('#df-00618258-3c48-4a6c-a1c4-3b2480da8ab0');\n",
              "        const dataTable =\n",
              "          await google.colab.kernel.invokeFunction('convertToInteractive',\n",
              "                                                    [key], {});\n",
              "        if (!dataTable) return;\n",
              "\n",
              "        const docLinkHtml = 'Like what you see? Visit the ' +\n",
              "          '<a target=\"_blank\" href=https://colab.research.google.com/notebooks/data_table.ipynb>data table notebook</a>'\n",
              "          + ' to learn more about interactive tables.';\n",
              "        element.innerHTML = '';\n",
              "        dataTable['output_type'] = 'display_data';\n",
              "        await google.colab.output.renderOutput(dataTable, element);\n",
              "        const docLink = document.createElement('div');\n",
              "        docLink.innerHTML = docLinkHtml;\n",
              "        element.appendChild(docLink);\n",
              "      }\n",
              "    </script>\n",
              "  </div>\n",
              "\n",
              "\n",
              "<div id=\"df-c3087ac8-e0ec-48dc-9a59-2ecdf02649d5\">\n",
              "  <button class=\"colab-df-quickchart\" onclick=\"quickchart('df-c3087ac8-e0ec-48dc-9a59-2ecdf02649d5')\"\n",
              "            title=\"Suggest charts\"\n",
              "            style=\"display:none;\">\n",
              "\n",
              "<svg xmlns=\"http://www.w3.org/2000/svg\" height=\"24px\"viewBox=\"0 0 24 24\"\n",
              "     width=\"24px\">\n",
              "    <g>\n",
              "        <path d=\"M19 3H5c-1.1 0-2 .9-2 2v14c0 1.1.9 2 2 2h14c1.1 0 2-.9 2-2V5c0-1.1-.9-2-2-2zM9 17H7v-7h2v7zm4 0h-2V7h2v10zm4 0h-2v-4h2v4z\"/>\n",
              "    </g>\n",
              "</svg>\n",
              "  </button>\n",
              "\n",
              "<style>\n",
              "  .colab-df-quickchart {\n",
              "      --bg-color: #E8F0FE;\n",
              "      --fill-color: #1967D2;\n",
              "      --hover-bg-color: #E2EBFA;\n",
              "      --hover-fill-color: #174EA6;\n",
              "      --disabled-fill-color: #AAA;\n",
              "      --disabled-bg-color: #DDD;\n",
              "  }\n",
              "\n",
              "  [theme=dark] .colab-df-quickchart {\n",
              "      --bg-color: #3B4455;\n",
              "      --fill-color: #D2E3FC;\n",
              "      --hover-bg-color: #434B5C;\n",
              "      --hover-fill-color: #FFFFFF;\n",
              "      --disabled-bg-color: #3B4455;\n",
              "      --disabled-fill-color: #666;\n",
              "  }\n",
              "\n",
              "  .colab-df-quickchart {\n",
              "    background-color: var(--bg-color);\n",
              "    border: none;\n",
              "    border-radius: 50%;\n",
              "    cursor: pointer;\n",
              "    display: none;\n",
              "    fill: var(--fill-color);\n",
              "    height: 32px;\n",
              "    padding: 0;\n",
              "    width: 32px;\n",
              "  }\n",
              "\n",
              "  .colab-df-quickchart:hover {\n",
              "    background-color: var(--hover-bg-color);\n",
              "    box-shadow: 0 1px 2px rgba(60, 64, 67, 0.3), 0 1px 3px 1px rgba(60, 64, 67, 0.15);\n",
              "    fill: var(--button-hover-fill-color);\n",
              "  }\n",
              "\n",
              "  .colab-df-quickchart-complete:disabled,\n",
              "  .colab-df-quickchart-complete:disabled:hover {\n",
              "    background-color: var(--disabled-bg-color);\n",
              "    fill: var(--disabled-fill-color);\n",
              "    box-shadow: none;\n",
              "  }\n",
              "\n",
              "  .colab-df-spinner {\n",
              "    border: 2px solid var(--fill-color);\n",
              "    border-color: transparent;\n",
              "    border-bottom-color: var(--fill-color);\n",
              "    animation:\n",
              "      spin 1s steps(1) infinite;\n",
              "  }\n",
              "\n",
              "  @keyframes spin {\n",
              "    0% {\n",
              "      border-color: transparent;\n",
              "      border-bottom-color: var(--fill-color);\n",
              "      border-left-color: var(--fill-color);\n",
              "    }\n",
              "    20% {\n",
              "      border-color: transparent;\n",
              "      border-left-color: var(--fill-color);\n",
              "      border-top-color: var(--fill-color);\n",
              "    }\n",
              "    30% {\n",
              "      border-color: transparent;\n",
              "      border-left-color: var(--fill-color);\n",
              "      border-top-color: var(--fill-color);\n",
              "      border-right-color: var(--fill-color);\n",
              "    }\n",
              "    40% {\n",
              "      border-color: transparent;\n",
              "      border-right-color: var(--fill-color);\n",
              "      border-top-color: var(--fill-color);\n",
              "    }\n",
              "    60% {\n",
              "      border-color: transparent;\n",
              "      border-right-color: var(--fill-color);\n",
              "    }\n",
              "    80% {\n",
              "      border-color: transparent;\n",
              "      border-right-color: var(--fill-color);\n",
              "      border-bottom-color: var(--fill-color);\n",
              "    }\n",
              "    90% {\n",
              "      border-color: transparent;\n",
              "      border-bottom-color: var(--fill-color);\n",
              "    }\n",
              "  }\n",
              "</style>\n",
              "\n",
              "  <script>\n",
              "    async function quickchart(key) {\n",
              "      const quickchartButtonEl =\n",
              "        document.querySelector('#' + key + ' button');\n",
              "      quickchartButtonEl.disabled = true;  // To prevent multiple clicks.\n",
              "      quickchartButtonEl.classList.add('colab-df-spinner');\n",
              "      try {\n",
              "        const charts = await google.colab.kernel.invokeFunction(\n",
              "            'suggestCharts', [key], {});\n",
              "      } catch (error) {\n",
              "        console.error('Error during call to suggestCharts:', error);\n",
              "      }\n",
              "      quickchartButtonEl.classList.remove('colab-df-spinner');\n",
              "      quickchartButtonEl.classList.add('colab-df-quickchart-complete');\n",
              "    }\n",
              "    (() => {\n",
              "      let quickchartButtonEl =\n",
              "        document.querySelector('#df-c3087ac8-e0ec-48dc-9a59-2ecdf02649d5 button');\n",
              "      quickchartButtonEl.style.display =\n",
              "        google.colab.kernel.accessAllowed ? 'block' : 'none';\n",
              "    })();\n",
              "  </script>\n",
              "</div>\n",
              "    </div>\n",
              "  </div>\n"
            ]
          },
          "metadata": {},
          "execution_count": 26
        }
      ]
    },
    {
      "cell_type": "code",
      "source": [
        "df3_c.fillna('-', inplace=True)\n",
        "df3_w.fillna('-', inplace=True)"
      ],
      "metadata": {
        "id": "yhoM4DQa5XC5",
        "colab": {
          "base_uri": "https://localhost:8080/"
        },
        "outputId": "135d6e63-09c3-4400-beaf-1cc4e4c14e02"
      },
      "execution_count": 27,
      "outputs": [
        {
          "output_type": "stream",
          "name": "stderr",
          "text": [
            "/usr/local/lib/python3.10/dist-packages/ipykernel/ipkernel.py:283: DeprecationWarning: `should_run_async` will not call `transform_cell` automatically in the future. Please pass the result to `transformed_cell` argument and any exception that happen during thetransform in `preprocessing_exc_tuple` in IPython 7.17 and above.\n",
            "  and should_run_async(code)\n",
            "<ipython-input-27-61938b7a3b85>:1: SettingWithCopyWarning: \n",
            "A value is trying to be set on a copy of a slice from a DataFrame\n",
            "\n",
            "See the caveats in the documentation: https://pandas.pydata.org/pandas-docs/stable/user_guide/indexing.html#returning-a-view-versus-a-copy\n",
            "  df3_c.fillna('-', inplace=True)\n",
            "<ipython-input-27-61938b7a3b85>:2: SettingWithCopyWarning: \n",
            "A value is trying to be set on a copy of a slice from a DataFrame\n",
            "\n",
            "See the caveats in the documentation: https://pandas.pydata.org/pandas-docs/stable/user_guide/indexing.html#returning-a-view-versus-a-copy\n",
            "  df3_w.fillna('-', inplace=True)\n"
          ]
        }
      ]
    },
    {
      "cell_type": "code",
      "source": [
        "def remove_special_characters(text):\n",
        "    if isinstance(text, str):\n",
        "        return re.sub(r'[^\\w\\s]', '', text)\n",
        "    return text\n",
        "\n",
        "# '프로젝트명' 열에 특수문자 제거 적용\n",
        "df3_c['프로그램명'] = df3_c['프로그램명'].apply(remove_special_characters)\n",
        "df3_c['프로그램 주요내용'] = df3_c['프로그램 주요내용'].apply(remove_special_characters)\n",
        "\n",
        "df3_w['프로그램명'] = df3_w['프로그램명'].apply(remove_special_characters)\n",
        "df3_w['프로그램 주요내용'] = df3_w['프로그램 주요내용'].apply(remove_special_characters)"
      ],
      "metadata": {
        "id": "oOF9R8bA9k43",
        "colab": {
          "base_uri": "https://localhost:8080/"
        },
        "outputId": "f99f9d46-fb8f-41e9-9642-e70d2bc10d28"
      },
      "execution_count": 28,
      "outputs": [
        {
          "output_type": "stream",
          "name": "stderr",
          "text": [
            "/usr/local/lib/python3.10/dist-packages/ipykernel/ipkernel.py:283: DeprecationWarning: `should_run_async` will not call `transform_cell` automatically in the future. Please pass the result to `transformed_cell` argument and any exception that happen during thetransform in `preprocessing_exc_tuple` in IPython 7.17 and above.\n",
            "  and should_run_async(code)\n",
            "<ipython-input-28-1910ef59f9f1>:7: SettingWithCopyWarning: \n",
            "A value is trying to be set on a copy of a slice from a DataFrame.\n",
            "Try using .loc[row_indexer,col_indexer] = value instead\n",
            "\n",
            "See the caveats in the documentation: https://pandas.pydata.org/pandas-docs/stable/user_guide/indexing.html#returning-a-view-versus-a-copy\n",
            "  df3_c['프로그램명'] = df3_c['프로그램명'].apply(remove_special_characters)\n",
            "<ipython-input-28-1910ef59f9f1>:8: SettingWithCopyWarning: \n",
            "A value is trying to be set on a copy of a slice from a DataFrame.\n",
            "Try using .loc[row_indexer,col_indexer] = value instead\n",
            "\n",
            "See the caveats in the documentation: https://pandas.pydata.org/pandas-docs/stable/user_guide/indexing.html#returning-a-view-versus-a-copy\n",
            "  df3_c['프로그램 주요내용'] = df3_c['프로그램 주요내용'].apply(remove_special_characters)\n",
            "<ipython-input-28-1910ef59f9f1>:10: SettingWithCopyWarning: \n",
            "A value is trying to be set on a copy of a slice from a DataFrame.\n",
            "Try using .loc[row_indexer,col_indexer] = value instead\n",
            "\n",
            "See the caveats in the documentation: https://pandas.pydata.org/pandas-docs/stable/user_guide/indexing.html#returning-a-view-versus-a-copy\n",
            "  df3_w['프로그램명'] = df3_w['프로그램명'].apply(remove_special_characters)\n",
            "<ipython-input-28-1910ef59f9f1>:11: SettingWithCopyWarning: \n",
            "A value is trying to be set on a copy of a slice from a DataFrame.\n",
            "Try using .loc[row_indexer,col_indexer] = value instead\n",
            "\n",
            "See the caveats in the documentation: https://pandas.pydata.org/pandas-docs/stable/user_guide/indexing.html#returning-a-view-versus-a-copy\n",
            "  df3_w['프로그램 주요내용'] = df3_w['프로그램 주요내용'].apply(remove_special_characters)\n"
          ]
        }
      ]
    },
    {
      "cell_type": "code",
      "source": [
        "df3_c.to_csv(\"./career_cleaning_py_result.csv\",index=False, encoding = 'utf-8')\n",
        "df3_w.to_csv(\"./workshop_cleaning_py_result.csv\",index=False, encoding = 'utf-8')"
      ],
      "metadata": {
        "id": "zfUyAULF978r",
        "colab": {
          "base_uri": "https://localhost:8080/"
        },
        "outputId": "333d4d14-bda2-47e6-a694-beb01a02e65c"
      },
      "execution_count": 29,
      "outputs": [
        {
          "output_type": "stream",
          "name": "stderr",
          "text": [
            "/usr/local/lib/python3.10/dist-packages/ipykernel/ipkernel.py:283: DeprecationWarning: `should_run_async` will not call `transform_cell` automatically in the future. Please pass the result to `transformed_cell` argument and any exception that happen during thetransform in `preprocessing_exc_tuple` in IPython 7.17 and above.\n",
            "  and should_run_async(code)\n"
          ]
        }
      ]
    },
    {
      "cell_type": "markdown",
      "source": [
        "# 추천\n"
      ],
      "metadata": {
        "id": "xPV8mUdwwp9Y"
      }
    },
    {
      "cell_type": "code",
      "source": [
        "workshop = pd.read_csv('./workshop_cleaning_py_result.csv')\n",
        "career = pd.read_csv('./career_cleaning_py_result.csv')"
      ],
      "metadata": {
        "id": "4Oqh1yC-gDj_",
        "colab": {
          "base_uri": "https://localhost:8080/"
        },
        "outputId": "3ae706ec-acff-4b24-c6cc-8863736b85a5"
      },
      "execution_count": 30,
      "outputs": [
        {
          "output_type": "stream",
          "name": "stderr",
          "text": [
            "/usr/local/lib/python3.10/dist-packages/ipykernel/ipkernel.py:283: DeprecationWarning: `should_run_async` will not call `transform_cell` automatically in the future. Please pass the result to `transformed_cell` argument and any exception that happen during thetransform in `preprocessing_exc_tuple` in IPython 7.17 and above.\n",
            "  and should_run_async(code)\n"
          ]
        }
      ]
    },
    {
      "cell_type": "code",
      "source": [
        "#workshop의 column 순서로 career순서 맞추기\n",
        "career = career[workshop.columns]"
      ],
      "metadata": {
        "id": "c-8xYcnxz0DT",
        "colab": {
          "base_uri": "https://localhost:8080/"
        },
        "outputId": "e75a00b8-f270-45af-f212-d72b4fdca4ea"
      },
      "execution_count": 31,
      "outputs": [
        {
          "output_type": "stream",
          "name": "stderr",
          "text": [
            "/usr/local/lib/python3.10/dist-packages/ipykernel/ipkernel.py:283: DeprecationWarning: `should_run_async` will not call `transform_cell` automatically in the future. Please pass the result to `transformed_cell` argument and any exception that happen during thetransform in `preprocessing_exc_tuple` in IPython 7.17 and above.\n",
            "  and should_run_async(code)\n"
          ]
        }
      ]
    },
    {
      "cell_type": "code",
      "source": [
        "# workshop과 career dataframe concat\n",
        "workshop = pd.concat([workshop, career], axis = 0)"
      ],
      "metadata": {
        "id": "rMifRNKfz5Z8",
        "colab": {
          "base_uri": "https://localhost:8080/"
        },
        "outputId": "6ef2de99-bba9-434c-b519-544d244dfb3c"
      },
      "execution_count": 32,
      "outputs": [
        {
          "output_type": "stream",
          "name": "stderr",
          "text": [
            "/usr/local/lib/python3.10/dist-packages/ipykernel/ipkernel.py:283: DeprecationWarning: `should_run_async` will not call `transform_cell` automatically in the future. Please pass the result to `transformed_cell` argument and any exception that happen during thetransform in `preprocessing_exc_tuple` in IPython 7.17 and above.\n",
            "  and should_run_async(code)\n"
          ]
        }
      ]
    },
    {
      "cell_type": "code",
      "source": [
        "#concat 후 인덱스 초기화\n",
        "workshop = workshop.reset_index()"
      ],
      "metadata": {
        "id": "HoKTqDwb0-pi",
        "colab": {
          "base_uri": "https://localhost:8080/"
        },
        "outputId": "685c2c81-e082-46cc-feb8-29940f330434"
      },
      "execution_count": 33,
      "outputs": [
        {
          "output_type": "stream",
          "name": "stderr",
          "text": [
            "/usr/local/lib/python3.10/dist-packages/ipykernel/ipkernel.py:283: DeprecationWarning: `should_run_async` will not call `transform_cell` automatically in the future. Please pass the result to `transformed_cell` argument and any exception that happen during thetransform in `preprocessing_exc_tuple` in IPython 7.17 and above.\n",
            "  and should_run_async(code)\n"
          ]
        }
      ]
    },
    {
      "cell_type": "markdown",
      "source": [
        "## 추천시스템 함수"
      ],
      "metadata": {
        "id": "tuMq-g-_Y7z5"
      }
    },
    {
      "cell_type": "code",
      "source": [
        "# 가장 비슷한 프로그램을 추천해주는 함수\n",
        "def get_recommendations(df, indices,title, cosine_sim):\n",
        "    # 들어간 title에 맞는 인덱스를 찾는다.\n",
        "    idx = indices[title]\n",
        "\n",
        "    #  들어간 title과 다른 프로그램들과 pairwsie similarity scores를 구한다.\n",
        "    sim_scores = list(enumerate(cosine_sim[idx]))\n",
        "\n",
        "    # 유사도 점수로 내림차순 정렬\n",
        "    sim_scores = sorted(sim_scores, key=lambda x: x[1], reverse=True)\n",
        "\n",
        "    # 자기자신을 제외한 10개 뽑기\n",
        "    sim_scores = sim_scores[1:11]\n",
        "\n",
        "    program_indices = [i[0] for i in sim_scores]\n",
        "\n",
        "    return df.iloc[program_indices]"
      ],
      "metadata": {
        "id": "2L9rMeZhY6_i",
        "colab": {
          "base_uri": "https://localhost:8080/"
        },
        "outputId": "3011d9ad-3fb1-467f-f0bb-8c8010670fbc"
      },
      "execution_count": 34,
      "outputs": [
        {
          "output_type": "stream",
          "name": "stderr",
          "text": [
            "/usr/local/lib/python3.10/dist-packages/ipykernel/ipkernel.py:283: DeprecationWarning: `should_run_async` will not call `transform_cell` automatically in the future. Please pass the result to `transformed_cell` argument and any exception that happen during thetransform in `preprocessing_exc_tuple` in IPython 7.17 and above.\n",
            "  and should_run_async(code)\n"
          ]
        }
      ]
    },
    {
      "cell_type": "markdown",
      "source": [
        "## LDA 함수"
      ],
      "metadata": {
        "id": "5IXn8zJiT4-S"
      }
    },
    {
      "cell_type": "code",
      "source": [
        "def LDA(recom_df, topic_num):\n",
        "    # 프로그램명, 목표, 주요내용만 LDA 대상으로 지정\n",
        "    recom_df_lda = pd.DataFrame(recom_df.apply(lambda x : x['프로그램명'] +' '+ x['프로그램 목표'] +' ' + x['프로그램 주요내용'], axis = 1))\n",
        "\n",
        "    # count vectorize\n",
        "    count2 = CountVectorizer()\n",
        "    recom_vec = count2.fit_transform(recom_df_lda[0])\n",
        "\n",
        "    # 단어 사전 만들기\n",
        "    vocab = count2.vocabulary_\n",
        "    index_to_word = { v : k  for k , v in vocab.items() }\n",
        "\n",
        "    # 단어들의 사전 인덱스를 이용하여 원래 단어를 검색하는 매핑 딕셔너리\n",
        "    index_to_word = { v : k  for k , v in vocab.items() }\n",
        "\n",
        "    # 앞에서 5개의 단어 출력\n",
        "    # print( { k : v  for i, (k,v) in enumerate(index_to_word.items())  if i < 5 })\n",
        "\n",
        "\n",
        "    # LDA 모델링 객체 생성 (토픽 갯수를 2로 설정 : 긍정/부정)\n",
        "    lda = LatentDirichletAllocation(n_components = topic_num)\n",
        "\n",
        "    #  recom_vec를 입력하여 모델 학습\n",
        "    lda.fit(recom_vec)\n",
        "\n",
        "    # # 토픽 모델링 결과를 담고 있는 배열의 형태 : (2개의 토픽, 196개의 단어)\n",
        "    # print('배열 형태 : ' , lda.components_.shape)\n",
        "\n",
        "    # #  토픽 별로 가장 중요도가 높은 단어를 10개씩 출력\n",
        "    # for idx, topic in enumerate(lda.components_):\n",
        "    #     print(f\"토픽유형 {idx +1} : \", [  (index_to_word[i], topic[i].round(3))  for i in topic.argsort()[:-11:-1]  ])\n",
        "\n",
        "    return {'lda' : lda, 'recom_vec' : recom_vec, 'count_vectorizer' : count2}"
      ],
      "metadata": {
        "colab": {
          "base_uri": "https://localhost:8080/"
        },
        "id": "YJyZsZOSKl7I",
        "outputId": "a81a6154-22ac-4fc5-ad83-ddab32e68563"
      },
      "execution_count": 35,
      "outputs": [
        {
          "output_type": "stream",
          "name": "stderr",
          "text": [
            "/usr/local/lib/python3.10/dist-packages/ipykernel/ipkernel.py:283: DeprecationWarning: `should_run_async` will not call `transform_cell` automatically in the future. Please pass the result to `transformed_cell` argument and any exception that happen during thetransform in `preprocessing_exc_tuple` in IPython 7.17 and above.\n",
            "  and should_run_async(code)\n"
          ]
        }
      ]
    },
    {
      "cell_type": "code",
      "source": [
        "def get_topic(LDA_result):\n",
        "    topic_array = LDA_result['lda'].components_\n",
        "\n",
        "    # 단어 사전 인덱스를 이용하여 원래 단어를 검색하는 매핑 딕셔너리\n",
        "    index_to_word = {v: k for k, v in LDA_result['count_vectorizer'].vocabulary_.items()}\n",
        "\n",
        "    # 표의 헤더와 셀 내용을 저장할 리스트 생성\n",
        "    table_header = ['토픽 유형'] + [f'단어 {i + 1}' for i in range(10)]\n",
        "    table_cells = []\n",
        "\n",
        "    # 토픽 별로 가장 중요도가 높은 단어를 10개씩 표에 추가\n",
        "    for idx, topic in enumerate(topic_array):\n",
        "        topic_words = [(index_to_word[i], topic[i].round(3)) for i in topic.argsort()[:-11:-1]]\n",
        "        table_cells.append([f'토픽 {idx + 1}'] + [f'{word[0]} ({word[1]})' for word in topic_words])\n",
        "    return table_header, table_cells"
      ],
      "metadata": {
        "colab": {
          "base_uri": "https://localhost:8080/"
        },
        "id": "G5oY50z9VA_F",
        "outputId": "11dcb9b3-9c02-4fe2-a936-ef1c27b9617e"
      },
      "execution_count": 36,
      "outputs": [
        {
          "output_type": "stream",
          "name": "stderr",
          "text": [
            "/usr/local/lib/python3.10/dist-packages/ipykernel/ipkernel.py:283: DeprecationWarning: `should_run_async` will not call `transform_cell` automatically in the future. Please pass the result to `transformed_cell` argument and any exception that happen during thetransform in `preprocessing_exc_tuple` in IPython 7.17 and above.\n",
            "  and should_run_async(code)\n"
          ]
        }
      ]
    },
    {
      "cell_type": "markdown",
      "source": [
        "## 인터페이스 함수"
      ],
      "metadata": {
        "id": "l78PdYPLUGTg"
      }
    },
    {
      "cell_type": "code",
      "source": [
        "def create_dash_app(recom_df, workshop, table_header, table_cells):\n",
        "    df = pd.DataFrame(recom_df)['프로그램명']\n",
        "    df = pd.merge(df,workshop[['프로그램명', '프로그램 주요내용_요약']], on='프로그램명', how='left')\n",
        "\n",
        "    app = dash.Dash(__name__)\n",
        "\n",
        "    table_style = {\n",
        "        'fontFamily': 'Arial, sans-serif',\n",
        "        'borderCollapse': 'collapse',\n",
        "        'width': '100%',\n",
        "        'border': '1px solid #dddddd',\n",
        "        'height': 'auto',\n",
        "        'margin': '10px',  # 여기서 테이블 간격 조절\n",
        "    }\n",
        "\n",
        "    # 셀 스타일 정의\n",
        "    cell_style = {\n",
        "        'border': '1px solid #dddddd',\n",
        "        'padding': '8px',\n",
        "        'textAlign': 'center',\n",
        "        'height': 'auto',\n",
        "    }\n",
        "\n",
        "    # 헤더 스타일 정의\n",
        "    header_style = {\n",
        "        'backgroundColor': '#f2f2f2',\n",
        "        'border': '1px solid #dddddd',\n",
        "        'padding': '8px',\n",
        "        'textAlign': 'center',\n",
        "        'fontWeight': 'bold',\n",
        "    }\n",
        "\n",
        "    # 첫 번째 DataTable 레이아웃\n",
        "    layout1 = html.Div([\n",
        "        html.H1('LDA Topic 유형', style={\n",
        "            'text-align': 'center',\n",
        "            'margin': '20px',  # 여백 설정\n",
        "            'background-color': 'white',  # 배경색 설정\n",
        "            'color': 'black',  # 글자색 설정\n",
        "            'padding': '10px',  # 내부 여백 설정\n",
        "            'border-radius': '10px'}),\n",
        "        dash_table.DataTable(\n",
        "            id='table1',\n",
        "            columns=[{'name': col, 'id': col} for col in table_header],\n",
        "            data=[{table_header[j]: table_cells[i][j] for j in range(len(table_header))} for i in range(len(table_cells))],\n",
        "            style_table=table_style,\n",
        "            style_cell=cell_style,\n",
        "            style_header=header_style\n",
        "        )\n",
        "    ])\n",
        "\n",
        "    layout2 = html.Div([\n",
        "        html.H1('요약정보', style={\n",
        "            'text-align': 'center',\n",
        "            'margin': '20px',  # 여백 설정\n",
        "            'background-color': 'white',  # 배경색 설정\n",
        "            'color': 'black',  # 글자색 설정\n",
        "            'padding': '10px',  # 내부 여백 설정\n",
        "            'border-radius': '10px'}),\n",
        "        dash_table.DataTable(\n",
        "            id='table2',\n",
        "            columns=[{\"name\": i, \"id\": i} for i in df.columns], # 요약 내용 테이블\n",
        "            data=df.to_dict('records'),\n",
        "            style_table=table_style,\n",
        "            style_cell=cell_style,\n",
        "            style_header=header_style,\n",
        "            style_data={\n",
        "                'height': 'auto',\n",
        "                'lineHeight': '15px'\n",
        "            },\n",
        "            style_data_conditional=[\n",
        "                {\n",
        "                    'if': {'row_index': 'odd'},\n",
        "                    'backgroundColor': 'rgb(248, 248, 248)',\n",
        "                },\n",
        "                {\n",
        "                    'if': {'row_index': 'even'},\n",
        "                    'backgroundColor': 'white',\n",
        "                },\n",
        "                {\n",
        "                    'if': {'row_index': 0},\n",
        "                    'height': 50,  # Set the height of the first row\n",
        "                },\n",
        "                # Add more conditional styles as needed\n",
        "            ],\n",
        "        ),\n",
        "    ])\n",
        "\n",
        "    # 전체 레아웃\n",
        "    app.layout = html.Div([layout1, layout2], style={'margin': '20px'})\n",
        "\n",
        "    if __name__ == '__main__':\n",
        "        app.run_server(debug=True)\n",
        "\n",
        "    return app"
      ],
      "metadata": {
        "id": "l1dF6haLwvw3",
        "colab": {
          "base_uri": "https://localhost:8080/"
        },
        "outputId": "c5073377-0d2c-4b14-cee1-26a9070ca4ef"
      },
      "execution_count": 37,
      "outputs": [
        {
          "output_type": "stream",
          "name": "stderr",
          "text": [
            "/usr/local/lib/python3.10/dist-packages/ipykernel/ipkernel.py:283: DeprecationWarning: `should_run_async` will not call `transform_cell` automatically in the future. Please pass the result to `transformed_cell` argument and any exception that happen during thetransform in `preprocessing_exc_tuple` in IPython 7.17 and above.\n",
            "  and should_run_async(code)\n"
          ]
        }
      ]
    },
    {
      "cell_type": "markdown",
      "source": [
        "## 프로그램 주요내용으로 추천"
      ],
      "metadata": {
        "id": "SDS1evcc2uNR"
      }
    },
    {
      "cell_type": "code",
      "source": [
        "# TF-IDF 정의\n",
        "tfidf = TfidfVectorizer()\n",
        "\n",
        "#만약 nan값이 있다면 빈 문자열로 대체\n",
        "workshop['프로그램 주요내용'] = workshop['프로그램 주요내용'].fillna('')\n",
        "\n",
        "#프로그램 주요내용으로 matrix 생성\n",
        "tfidf_matrix = tfidf.fit_transform(workshop['프로그램 주요내용'])\n",
        "\n",
        "tfidf_matrix.shape"
      ],
      "metadata": {
        "colab": {
          "base_uri": "https://localhost:8080/"
        },
        "id": "5uAYZHULaVcp",
        "outputId": "673b4005-169d-4dbe-cca5-dcc71b3f0517"
      },
      "execution_count": 38,
      "outputs": [
        {
          "output_type": "stream",
          "name": "stderr",
          "text": [
            "/usr/local/lib/python3.10/dist-packages/ipykernel/ipkernel.py:283: DeprecationWarning: `should_run_async` will not call `transform_cell` automatically in the future. Please pass the result to `transformed_cell` argument and any exception that happen during thetransform in `preprocessing_exc_tuple` in IPython 7.17 and above.\n",
            "  and should_run_async(code)\n"
          ]
        },
        {
          "output_type": "execute_result",
          "data": {
            "text/plain": [
              "(1383, 13593)"
            ]
          },
          "metadata": {},
          "execution_count": 38
        }
      ]
    },
    {
      "cell_type": "code",
      "source": [
        "# linear_kernel 함수를 이용하여 코사인 유사도를 구한다.\n",
        "cosine_sim = linear_kernel(tfidf_matrix, tfidf_matrix)"
      ],
      "metadata": {
        "id": "hlkPsxq4dH44",
        "colab": {
          "base_uri": "https://localhost:8080/"
        },
        "outputId": "07cb9dbd-e5b7-4cef-dd63-aa488d1a9a5c"
      },
      "execution_count": 39,
      "outputs": [
        {
          "output_type": "stream",
          "name": "stderr",
          "text": [
            "/usr/local/lib/python3.10/dist-packages/ipykernel/ipkernel.py:283: DeprecationWarning: `should_run_async` will not call `transform_cell` automatically in the future. Please pass the result to `transformed_cell` argument and any exception that happen during thetransform in `preprocessing_exc_tuple` in IPython 7.17 and above.\n",
            "  and should_run_async(code)\n"
          ]
        }
      ]
    },
    {
      "cell_type": "code",
      "source": [
        "indices = pd.Series(workshop.index, index=workshop['프로그램명']).drop_duplicates()"
      ],
      "metadata": {
        "id": "iEdVPY_8dJaX",
        "colab": {
          "base_uri": "https://localhost:8080/"
        },
        "outputId": "c87d39d6-50b2-45e7-c101-4fd9486de781"
      },
      "execution_count": 40,
      "outputs": [
        {
          "output_type": "stream",
          "name": "stderr",
          "text": [
            "/usr/local/lib/python3.10/dist-packages/ipykernel/ipkernel.py:283: DeprecationWarning: `should_run_async` will not call `transform_cell` automatically in the future. Please pass the result to `transformed_cell` argument and any exception that happen during thetransform in `preprocessing_exc_tuple` in IPython 7.17 and above.\n",
            "  and should_run_async(code)\n"
          ]
        }
      ]
    },
    {
      "cell_type": "code",
      "source": [
        "target = workshop.iloc[20]\n",
        "\n",
        "print('프로그램명 : ',target['프로그램명'])\n",
        "print('추천 목록: ')\n",
        "recom_df = get_recommendations(workshop, indices, target['프로그램명'], cosine_sim)\n",
        "print(recom_df['프로그램명'])"
      ],
      "metadata": {
        "colab": {
          "base_uri": "https://localhost:8080/"
        },
        "id": "boJig_NYg_Az",
        "outputId": "50905f02-27b0-4b82-f813-f08e916175c5"
      },
      "execution_count": 41,
      "outputs": [
        {
          "output_type": "stream",
          "name": "stdout",
          "text": [
            "프로그램명 :  직무 부트캠프GMP 전체를 보는 눈과 핵심 개념으로 제약공장 품질QAQC업무알기\n",
            "추천 목록: \n",
            "23           직무 부트캠프무역 프로세스 완벽 이해하기  서류 작성부터 클레임 대처까지\n",
            "22               직무 부트캠프GMP환경 학교에선 알려주지 않는 환경 실무 이해하기\n",
            "24        직무 부트캠프10년차 현직 PD와 함께 방송 영상 콘텐츠 기획제작연출 이해하기\n",
            "21     직무 부트캠프이것이 찐현실 콘텐츠 마케팅 실무 5주 완성 병아리 콘텐츠 마케터 캠프\n",
            "166             하계방학 대비 해외영업 직무 부트캠프제조업 B2B 해외영업 프로세스\n",
            "165                하계방학 대비 해외영업 직무 부트캠프해외영업 시장분석 전략수립\n",
            "703                  2023 용인기업분석 경진대회 참가팀 모집1인 참가도 가능\n",
            "217       HUFS English Writing Tutoring 4월 3주차 410416\n",
            "888                          2023 상반기 대기업 공채 대비 취업컨설팅\n",
            "887                          2023 상반기 공기업 공채 대비 취업컨설팅\n",
            "Name: 프로그램명, dtype: object\n"
          ]
        },
        {
          "output_type": "stream",
          "name": "stderr",
          "text": [
            "/usr/local/lib/python3.10/dist-packages/ipykernel/ipkernel.py:283: DeprecationWarning: `should_run_async` will not call `transform_cell` automatically in the future. Please pass the result to `transformed_cell` argument and any exception that happen during thetransform in `preprocessing_exc_tuple` in IPython 7.17 and above.\n",
            "  and should_run_async(code)\n"
          ]
        }
      ]
    },
    {
      "cell_type": "code",
      "source": [
        "LDA_result = LDA(recom_df, topic_num = 4)\n",
        "table_header, table_cells = get_topic(LDA_result)\n",
        "create_dash_app(recom_df, workshop, table_header, table_cells)"
      ],
      "metadata": {
        "colab": {
          "base_uri": "https://localhost:8080/",
          "height": 744
        },
        "id": "ZP0YSdAcXedZ",
        "outputId": "7ad789a8-e239-48dc-951d-ab56fb1cda45"
      },
      "execution_count": 42,
      "outputs": [
        {
          "output_type": "stream",
          "name": "stderr",
          "text": [
            "/usr/local/lib/python3.10/dist-packages/ipykernel/ipkernel.py:283: DeprecationWarning: `should_run_async` will not call `transform_cell` automatically in the future. Please pass the result to `transformed_cell` argument and any exception that happen during thetransform in `preprocessing_exc_tuple` in IPython 7.17 and above.\n",
            "  and should_run_async(code)\n"
          ]
        },
        {
          "output_type": "display_data",
          "data": {
            "text/plain": [
              "<IPython.core.display.Javascript object>"
            ],
            "application/javascript": [
              "(async (port, path, width, height, cache, element) => {\n",
              "    if (!google.colab.kernel.accessAllowed && !cache) {\n",
              "      return;\n",
              "    }\n",
              "    element.appendChild(document.createTextNode(''));\n",
              "    const url = await google.colab.kernel.proxyPort(port, {cache});\n",
              "    const iframe = document.createElement('iframe');\n",
              "    iframe.src = new URL(path, url).toString();\n",
              "    iframe.height = height;\n",
              "    iframe.width = width;\n",
              "    iframe.style.border = 0;\n",
              "    iframe.allow = [\n",
              "        'accelerometer',\n",
              "        'autoplay',\n",
              "        'camera',\n",
              "        'clipboard-read',\n",
              "        'clipboard-write',\n",
              "        'gyroscope',\n",
              "        'magnetometer',\n",
              "        'microphone',\n",
              "        'serial',\n",
              "        'usb',\n",
              "        'xr-spatial-tracking',\n",
              "    ].join('; ');\n",
              "    element.appendChild(iframe);\n",
              "  })(8050, \"/\", \"100%\", 650, false, window.element)"
            ]
          },
          "metadata": {}
        },
        {
          "output_type": "execute_result",
          "data": {
            "text/plain": [
              "<dash.dash.Dash at 0x7b690c588160>"
            ]
          },
          "metadata": {},
          "execution_count": 42
        }
      ]
    },
    {
      "cell_type": "code",
      "source": [
        "# LDA 토픽 모델링 결과를 시각화\n",
        "pyLDAvis.enable_notebook\n",
        "visualization = pyLDAvis.lda_model.prepare(LDA_result['lda'], LDA_result['recom_vec'], LDA_result['count_vectorizer'])\n",
        "pyLDAvis.display(visualization)"
      ],
      "metadata": {
        "colab": {
          "base_uri": "https://localhost:8080/",
          "height": 953
        },
        "id": "R313r_QOXeda",
        "outputId": "712cb684-3624-49f7-ec78-402811aa32cc"
      },
      "execution_count": 43,
      "outputs": [
        {
          "output_type": "stream",
          "name": "stderr",
          "text": [
            "/usr/local/lib/python3.10/dist-packages/ipykernel/ipkernel.py:283: DeprecationWarning:\n",
            "\n",
            "`should_run_async` will not call `transform_cell` automatically in the future. Please pass the result to `transformed_cell` argument and any exception that happen during thetransform in `preprocessing_exc_tuple` in IPython 7.17 and above.\n",
            "\n"
          ]
        },
        {
          "output_type": "execute_result",
          "data": {
            "text/plain": [
              "<IPython.core.display.HTML object>"
            ],
            "text/html": [
              "\n",
              "<link rel=\"stylesheet\" type=\"text/css\" href=\"https://cdn.jsdelivr.net/gh/bmabey/pyLDAvis@3.4.0/pyLDAvis/js/ldavis.v1.0.0.css\">\n",
              "\n",
              "\n",
              "<div id=\"ldavis_el5171356902505038887000608978\" style=\"background-color:white;\"></div>\n",
              "<script type=\"text/javascript\">\n",
              "\n",
              "var ldavis_el5171356902505038887000608978_data = {\"mdsDat\": {\"x\": [-0.2120555189271229, 0.14271250531179178, 0.0939258854111133, -0.024582871795782175], \"y\": [0.07068971036765617, 0.056644075567604105, 0.03186342708824162, -0.1591972130235021], \"topics\": [1, 2, 3, 4], \"cluster\": [1, 1, 1, 1], \"Freq\": [33.9646361188907, 31.937186055010265, 21.15782438609687, 12.940353440002164]}, \"tinfo\": {\"Term\": [\"\\uc9c1\\ubb34\", \"\\uc2e0\\uccad\", \"\\uc2e4\\uc2dc\", \"\\ud574\\uc678\\uc601\\uc5c5\", \"\\uacf5\\uae30\\uc5c5\", \"\\ud29c\\ud130\\ub9c1\", \"\\uacfc\\uc81c\", \"\\ub300\\uae30\\uc5c5\", \"\\uc790\\uae30\\uc18c\\uac1c\\uc11c\", \"\\uacf5\\ucc44\", \"\\uae00\\uc4f0\\uae30\", \"\\uc9c0\\uc6d0\\uc11c\", \"\\ubc14\\ub78d\\ub2c8\\ub2e4\", \"\\ucca8\\uc0ad\", \"2023\", \"48\\uc2dc\\uac04\", \"\\ud569\\uaca9\\uc790\\uae30\\uc18c\\uac1c\\uc11c\", \"\\ud2b9\\uac15\", \"\\uac1c\\uc778\\ubcc4\", \"\\uc804\\ub2ec\", \"\\uc81c\\uc2dc\", \"\\uc120\\ubc1c\", \"2\\uc8fc\\ucc28\", \"4\\uc8fc\\ucc28\", \"\\uc2ec\\uc0ac\", \"\\uc544\\ub798\", \"\\ud604\\uc9c1\\uc790\\uc758\", \"hufs\", \"1\\uc8fc\\ucc28\", \"\\uc774\\uc6a9\\ud558\\uc5ec\", \"\\uc2e4\\uc2dc\", \"\\uacf5\\uae30\\uc5c5\", \"\\ub300\\uae30\\uc5c5\", \"\\uacf5\\ucc44\", \"\\uac1c\\uc778\\ubcc4\", \"\\uc120\\ubc1c\", \"\\uc804\\ub2ec\", \"\\uc81c\\uc2dc\", \"\\ud2b9\\uac15\", \"\\ud569\\uaca9\\uc790\\uae30\\uc18c\\uac1c\\uc11c\", \"13001700\", \"2023\\ub144\", \"4\\uc2dc\\uac04\", \"\\uace0\\ub4dd\\uc810\\uc804\\ub7b5\", \"\\uc0c1\\ubc18\\uae30\", \"\\uc138\\ubd80\\ub0b4\\uc6a9\", \"\\uacf5\\uae30\\uc5c5\\uc758\", \"\\uc790\\uae30\\uc18c\\uac1c\\uc11c\", \"\\ub300\\uae30\\uc5c5\\uc758\", \"\\uc774\\ud574\", \"\\ucc44\\uc6a9\\uc2dc\\uc2a4\\ud15c\", \"\\ucca8\\uc0ad\", \"2023\", \"\\ud3ec\\ud568\", \"1300\", \"1\\uc6d4\", \"2\\uc6d4\", \"\\uac1c\\ubcc4\", \"\\uacb8\\uc784\\uad50\\uc218\", \"\\uae4c\\uc9c0\", \"\\ud30c\\uc77c\", \"\\ub0b4\\uc6a9\", \"\\ubd84\\uc11d\", \"\\ub300\\ube44\", \"\\uc791\\uc131\", \"\\ud53c\\ub4dc\\ubc31\", \"\\uc81c\\ucd9c\", \"\\ubb38\\uc758\", \"\\ud574\\uc678\\uc601\\uc5c5\", \"\\uc5c5\\ubb34\", \"\\ubc1b\\uc744\", \"\\uc18c\\uac1c\", \"\\uc218\\ud589\\uc5d0\", \"\\uc218\\ud589\\ud558\\uba70\", \"\\uc788\\uc2b5\\ub2c8\\ub2e4\", \"\\ucde8\\uc5c5\\uc744\", \"\\ud53c\\ub4dc\\ubc31\\uc744\", \"\\ud544\\uc694\\ud55c\", \"\\ud574\\uc678\\uc601\\uc5c5\\ubd80\\uc11c\", \"\\ud76c\\ub9dd\\ud558\\ub294\", \"b2b\", \"\\ub9c8\\ub828\", \"16\\uba85\", \"1\\ubc18\\uc5d0\", \"2\\uac1c\\ubc18\", \"611\\uc77c\\uae4c\\uc9c0\", \"626\\uc6d4\", \"628\\uc218\", \"73\\uc6d4\", \"87\\uc6d4\\uae4c\\uc9c0\", \"8\\uba85\\uc73c\\ub85c\", \"\\uae30\\ub300\\ud6a8\\uacfc\", \"\\ub3d9\\uc548\", \"\\ub9ce\\uc740\", \"\\ubc29\\ud559\", \"\\ube44\\uace0\", \"\\uc120\\ubc1c\\uc9c0\\uc6d0\\uc790\\uc758\", \"\\uc2e4\\ubb34\\ub97c\", \"\\ud604\\uc9c1\\uc790\\uc758\", \"\\uc5ed\\ub7c9\", \"\\uc9c1\\ubb34\", \"2\\uc8fc\\ucc28\", \"4\\uc8fc\\ucc28\", \"\\uc2ec\\uc0ac\", \"\\uacfc\\uc81c\", \"\\uc218\\ub9bd\", \"\\uc9c0\\uc6d0\\uc11c\", \"11\", \"1\\uc8fc\\ucc28\", \"\\uc774\\uc6a9\\ud558\\uc5ec\", \"5\\uc8fc\\ucc28\", \"ot\", \"qr\", \"zoom\\uc73c\\ub85c\", \"\\uac15\\ud654\", \"3\\uc8fc\\ucc28\", \"\\uc544\\ub798\", \"\\ud53c\\ub4dc\\ubc31\", \"\\uc804\\ub7b5\", \"\\ud504\\ub85c\\uadf8\\ub7a8\", \"\\uc791\\uc131\", \"\\ud1b5\\uc9c0\", \"\\ub429\\ub2c8\\ub2e4\", \"\\ub530\\ub77c\", \"\\ub9c8\\uac10\", \"\\ubaa8\\uc758\", \"\\ubcf4\\uace0\", \"\\uac1c\\ub150\", \"\\uacfc\\uc81c\\uc2e0\\uaddc\", \"\\uae30\\uc5c5\\ubd84\\uc11d\", \"\\uc6a9\\uc778\", \"\\uc6b0\\uc218\", \"\\ucc38\\uc11d\", \"a\\uc758\", \"draft\", \"httpscomentokredulearncampdetailg848\", \"pd\\uc640\", \"\\uacfc\\uc81c\\uae30\\ud68d\", \"\\uacfc\\uc81c\\uc2e0\\uc120\\ud55c\", \"\\uacfc\\uc81c\\ucd2c\\uc601\", \"\\uacfc\\uc81c\\ud504\\ub85c\\uadf8\\ub7a8\", \"\\uad6c\\uc131\\uc548\", \"\\uae30\\uc874\", \"\\uae30\\ud68d\\uc548\", \"\\uae30\\ud68d\\uc81c\\uc791\\uc5f0\\ucd9c\", \"\\ub2f9\\uc77c\\uc744\", \"\\ub4f1\\uc7a5\\ud558\\ub294\", \"\\ubc29\\uc1a1\", \"\\ubc30\\uce58\\uc548\", \"\\ubd80\\ud2b8\\ucea0\\ud50410\\ub144\\ucc28\", \"\\uc601\\uc0c1\", \"\\ucd9c\\uc5f0\\uc790\\uac00\", \"\\uce74\\uba54\\ub77c\", \"\\ucf54\\ub108\", \"\\ud050\\uc2dc\\ud2b8\", \"\\ud0c0\\uc784\\ud14c\\uc774\\ube14\", \"\\uc774\\ud574\\ud558\\uae30\", \"\\ub300\\uc0c1\", \"\\uc544\\ub798\", \"\\uc9c0\\uc6d0\\uc11c\", \"\\uc9c1\\ubb34\", \"\\uc791\\uc131\", \"\\uacfc\\uc81c\", \"1\\uc8fc\\ucc28\", \"\\uc774\\uc6a9\\ud558\\uc5ec\", \"\\ud53c\\ub4dc\\ubc31\", \"3\\uc8fc\\ucc28\", \"0313304042\", \"head312hufsackr\", \"\\uc120\\ubc1c\\ud558\\uba70\", \"\\uc7ac\\ud559\\uc0dd\", \"\\uc878\\uc5c5\\uc0dd\", \"\\ucda9\\uc2e4\\ub3c4\", \"\\ud504\\ub85c\\uadf8\\ub7a8\", \"2\\uc8fc\\ucc28\", \"4\\uc8fc\\ucc28\", \"\\uc2ec\\uc0ac\", \"1029\\uc77c\\uae4c\\uc9c0\", \"111\\uc218\\uc9c0\\uc6d0\\uc11c\", \"11\", \"\\uc81c\\ucd9c\", \"\\ubb38\\uc758\", \"113\\uae08\", \"116\\uc6d4\", \"1210\\uc218\\uae4c\\uc9c0\", \"\\ud29c\\ud130\\ub9c1\", \"\\uae00\\uc4f0\\uae30\", \"48\\uc2dc\\uac04\", \"tutoring\", \"writing\", \"\\uc2e4\\uc2dc\\uac04\", \"\\uc720\\uc758\\uc0ac\\ud56d\", \"english\", \"or\", \"\\uae30\\uc900\", \"\\ub4f1\\ub85d\\ud504\\ub85c\\uadf8\\ub7a8\", \"\\ubc18\\ub4dc\\uc2dc\", \"\\ubd88\\uac00\", \"\\ubd88\\uac00\\ud569\\ub2c8\\ub2e4\", \"\\ube14\\ub799\\ub9ac\\uc2a4\\ud2b8\", \"\\uc0ac\\uc804\\uc5d0\", \"\\uc218\\uc5c5\\uc77c\\uc2dc\", \"\\uc2e0\\uccad\\ub0b4\\uc5ed\", \"\\uc2e0\\uccad\\uc740\", \"\\uc548\\ub0b4\", \"\\uc704\\ubc18\", \"\\uc774\\ub0b4\", \"\\ucd5c\\uc18c\", \"\\ud29c\\ud130\\ub9c1\\uc744\", \"0221732761\", \"20231\\ud559\\uae30\", \"410416\", \"4\\uc6d4\", \"50\\ubd84\\uac04\", \"eg\", \"\\uc2e0\\uccad\", \"\\ubc14\\ub78d\\ub2c8\\ub2e4\", \"\\uc8fc\\uc2dc\\uae30\", \"hufs\", \"\\ub610\\ub294\", \"\\uc5c5\\ub85c\\ub4dc\", \"hufsability\", \"\\ud504\\ub85c\\uadf8\\ub7a8\", \"\\uacfc\\uc81c\", \"\\uc81c\\ucd9c\", \"\\ud655\\uc778\", \"\\ube44\\uad50\\uacfc\", \"\\uc774\\uc6a9\", \"\\ubc29\\ubc95\", \"\\uc9c4\\ud589\"], \"Freq\": [27.0, 10.0, 11.0, 10.0, 10.0, 4.0, 20.0, 9.0, 10.0, 8.0, 3.0, 10.0, 5.0, 9.0, 9.0, 3.0, 6.0, 6.0, 6.0, 6.0, 6.0, 6.0, 9.0, 9.0, 9.0, 8.0, 8.0, 3.0, 8.0, 8.0, 11.125443032888574, 10.344710007294394, 8.78324398946731, 8.002510960138341, 6.441044917275392, 6.441044917275392, 6.441044917275392, 6.441044917275392, 6.441044917275392, 6.441044917275392, 4.879578864270277, 4.879578864270277, 4.879578864270277, 4.879578864270277, 4.879578864270277, 4.879578864270277, 4.879578848317215, 9.564294488702407, 4.098845846211797, 4.098845833344849, 4.098845826911375, 8.002764526127477, 8.003367261283296, 3.318112793897279, 3.318112785757123, 3.318112785757123, 3.318112785757123, 3.318112785757123, 3.318112785757123, 3.318112785757123, 4.879704159047788, 4.880066290981757, 5.661389794963108, 4.87995657964252, 8.784144053009049, 8.002998232126359, 4.880242070465288, 4.880264542921059, 10.176772755401542, 4.032303062709891, 3.2642445906367437, 3.2642445906367437, 3.2642445906367437, 3.2642445906367437, 3.2642445906367437, 3.2642445906367437, 3.2642445906367437, 3.2642445906367437, 3.2642445906367437, 3.2642445906367437, 2.4961858052043437, 1.7281270027747062, 1.728126975675522, 1.728126975675522, 1.728126975675522, 1.728126975675522, 1.728126975675522, 1.728126975675522, 1.728126975675522, 1.728126975675522, 1.728126975675522, 1.728126975675522, 1.728126975675522, 1.728126975675522, 1.728126975675522, 1.728126975675522, 1.728126975675522, 1.728126975675522, 6.336980497395767, 4.8006739135777705, 17.090439072076393, 6.336675538131082, 6.336675538131082, 6.336675538131082, 12.481191156212772, 4.032371238653513, 6.336393230042712, 4.800593530678401, 4.800358979967902, 4.800358979967902, 3.264359521858871, 3.264359521858871, 3.264359521858871, 3.264359521858871, 3.264359521858871, 4.800426505231736, 4.800212198188007, 9.408391288926962, 4.032195897592434, 4.799904775830272, 4.799234359687548, 3.26438332976383, 3.264359521858871, 3.264359521858871, 3.264359521858871, 3.264359521858871, 2.9243258349168784, 1.548170473180587, 1.548170473180587, 1.5481701935637633, 1.5481701935637633, 1.5481701935637633, 1.5481701935637633, 0.8600927986225841, 0.8600927986225841, 0.8600927986225841, 0.8600927986225841, 0.8600927986225841, 0.8600927986225841, 0.8600927986225841, 0.8600927986225841, 0.8600927986225841, 0.8600927986225841, 0.8600927986225841, 0.8600927986225841, 0.8600927986225841, 0.8600927986225841, 0.8600927986225841, 0.8600927986225841, 0.8600927986225841, 0.8600927986225841, 0.8600927986225841, 0.8600927986225841, 0.8600927986225841, 0.8600927986225841, 0.8600927986225841, 1.5483922282138407, 2.9244848509269663, 3.612539626160542, 4.300560115223709, 8.4291691305328, 5.676858005113577, 5.6761776957835375, 2.924330703704189, 2.924330703704189, 5.676500750660238, 2.924393630657749, 2.2362824691568113, 2.2362824691568113, 2.2362824691568113, 2.2362824691568113, 2.2362824691568113, 2.2362824691568113, 3.6124395268548875, 2.9241523311996196, 2.9241523311996196, 2.9241523311996196, 1.548275947900069, 1.548275947900069, 2.23612566251383, 2.236048774325347, 2.2360790491800646, 1.548275947900069, 1.548275947900069, 1.548275947900069, 4.183428538955892, 3.0293790022500846, 2.4523542286505435, 1.8753294468556607, 1.8753294468556607, 1.8753294468556607, 1.8753294468556607, 1.2983046445685928, 1.2983046445685928, 1.2983046445685928, 1.2983046445685928, 1.2983046445685928, 1.2983046445685928, 1.2983046445685928, 1.2983046445685928, 1.2983046445685928, 1.2983046445685928, 1.2983046445685928, 1.2983046445685928, 1.2983046445685928, 1.2983046445685928, 1.2983046445685928, 1.2983046445685928, 1.2983046445685928, 0.7212797626215621, 0.7212797626215621, 0.7212797626215621, 0.7212797626215621, 0.7212797626215621, 0.7212797626215621, 5.339231393497391, 3.0304726380685554, 1.2985096597519812, 1.8754579943153376, 1.2983728083878614, 1.2983728083878614, 1.8760098280391986, 2.453070483794562, 2.4525618439312127, 1.8758927783005637, 1.2987394942245711, 1.2986233091336192, 1.2986233091336192, 1.29861889489165, 1.2985490146672212], \"Total\": [27.0, 10.0, 11.0, 10.0, 10.0, 4.0, 20.0, 9.0, 10.0, 8.0, 3.0, 10.0, 5.0, 9.0, 9.0, 3.0, 6.0, 6.0, 6.0, 6.0, 6.0, 6.0, 9.0, 9.0, 9.0, 8.0, 8.0, 3.0, 8.0, 8.0, 11.633735298689642, 10.85300228307528, 9.291536256595581, 8.510803240417635, 6.949337210266124, 6.949337210266124, 6.949337210266124, 6.949337210266124, 6.949337210266124, 6.949337210266124, 5.387871178527112, 5.387871178527112, 5.387871178527112, 5.387871178527112, 5.387871178527112, 5.387871178527112, 5.387871176244539, 10.649377083316194, 4.607138163763079, 4.607138161922069, 4.607138161001565, 9.08789437475236, 9.198982131774912, 3.8264051439601534, 3.8264051427954557, 3.8264051427954557, 3.8264051427954557, 3.8264051427954557, 3.8264051427954557, 3.8264051427954557, 5.9649288444296475, 6.076006292770934, 8.392880775901833, 6.923993914252102, 19.404496421037866, 23.232150229888916, 10.719143816398482, 11.101429204895599, 10.688235473197572, 4.543766111155048, 3.77570747245637, 3.77570747245637, 3.77570747245637, 3.77570747245637, 3.77570747245637, 3.77570747245637, 3.77570747245637, 3.77570747245637, 3.77570747245637, 3.77570747245637, 3.007648792040267, 2.2395901078993603, 2.239590104548213, 2.239590104548213, 2.239590104548213, 2.239590104548213, 2.239590104548213, 2.239590104548213, 2.239590104548213, 2.239590104548213, 2.239590104548213, 2.239590104548213, 2.239590104548213, 2.239590104548213, 2.239590104548213, 2.239590104548213, 2.239590104548213, 2.239590104548213, 8.224149142758009, 6.688012102938496, 27.41911033204891, 9.600272367073547, 9.600272367073547, 9.600272367073547, 20.805116357732192, 6.105230562411031, 10.976397944405639, 7.953119438251626, 8.064134286047356, 8.064134286047356, 5.151874245622594, 5.151874245622594, 5.151874245622594, 5.151874245622594, 5.151874245622594, 8.641186119903788, 8.752196488249904, 23.232150229888916, 7.66669947914979, 12.621528698309884, 19.404496421037866, 6.713341190076748, 5.151874245622594, 5.151874245622594, 5.151874245622594, 5.151874245622594, 3.4557834209038316, 2.079628439467265, 2.079628439467265, 2.079628405139921, 2.079628405139921, 2.079628405139921, 2.079628405139921, 1.3915509489910176, 1.3915509489910176, 1.3915509489910176, 1.3915509489910176, 1.3915509489910176, 1.3915509489910176, 1.3915509489910176, 1.3915509489910176, 1.3915509489910176, 1.3915509489910176, 1.3915509489910176, 1.3915509489910176, 1.3915509489910176, 1.3915509489910176, 1.3915509489910176, 1.3915509489910176, 1.3915509489910176, 1.3915509489910176, 1.3915509489910176, 1.3915509489910176, 1.3915509489910176, 1.3915509489910176, 1.3915509489910176, 2.8476606312258226, 6.527999006068834, 8.752196488249904, 10.976397944405639, 27.41911033204891, 19.404496421037866, 20.805116357732192, 8.064134286047356, 8.064134286047356, 23.232150229888916, 8.641186119903788, 5.839936037202167, 5.839936037202167, 5.839936037202167, 5.839936037202167, 5.839936037202167, 5.839936037202167, 12.621528698309884, 9.600272367073547, 9.600272367073547, 9.600272367073547, 3.615732899730038, 3.615732899730038, 7.953119438251626, 10.719143816398482, 11.101429204895599, 3.615732899730038, 3.615732899730038, 3.615732899730038, 4.742647087774025, 3.5885975687953175, 3.011572810779176, 2.434548055064218, 2.434548055064218, 2.434548055064218, 2.434548055064218, 1.857523305103296, 1.857523305103296, 1.857523305103296, 1.857523305103296, 1.857523305103296, 1.857523305103296, 1.857523305103296, 1.857523305103296, 1.857523305103296, 1.857523305103296, 1.857523305103296, 1.857523305103296, 1.857523305103296, 1.857523305103296, 1.857523305103296, 1.857523305103296, 1.857523305103296, 1.2804985775102293, 1.2804985775102293, 1.2804985775102293, 1.2804985775102293, 1.2804985775102293, 1.2804985775102293, 10.344630414317372, 5.812519791165373, 2.545561637124421, 3.995968588603549, 3.418965156005667, 3.418965156005667, 6.908079984854702, 12.621528698309884, 20.805116357732192, 10.719143816398482, 5.643089175918403, 4.76969500811037, 4.76969500811037, 4.769706616129227, 6.305860868977051], \"Category\": [\"Default\", \"Default\", \"Default\", \"Default\", \"Default\", \"Default\", \"Default\", \"Default\", \"Default\", \"Default\", \"Default\", \"Default\", \"Default\", \"Default\", \"Default\", \"Default\", \"Default\", \"Default\", \"Default\", \"Default\", \"Default\", \"Default\", \"Default\", \"Default\", \"Default\", \"Default\", \"Default\", \"Default\", \"Default\", \"Default\", \"Topic1\", \"Topic1\", \"Topic1\", \"Topic1\", \"Topic1\", \"Topic1\", \"Topic1\", \"Topic1\", \"Topic1\", \"Topic1\", \"Topic1\", \"Topic1\", \"Topic1\", \"Topic1\", \"Topic1\", \"Topic1\", \"Topic1\", \"Topic1\", \"Topic1\", \"Topic1\", \"Topic1\", \"Topic1\", \"Topic1\", \"Topic1\", \"Topic1\", \"Topic1\", \"Topic1\", \"Topic1\", \"Topic1\", \"Topic1\", \"Topic1\", \"Topic1\", \"Topic1\", \"Topic1\", \"Topic1\", \"Topic1\", \"Topic1\", \"Topic1\", \"Topic2\", \"Topic2\", \"Topic2\", \"Topic2\", \"Topic2\", \"Topic2\", \"Topic2\", \"Topic2\", \"Topic2\", \"Topic2\", \"Topic2\", \"Topic2\", \"Topic2\", \"Topic2\", \"Topic2\", \"Topic2\", \"Topic2\", \"Topic2\", \"Topic2\", \"Topic2\", \"Topic2\", \"Topic2\", \"Topic2\", \"Topic2\", \"Topic2\", \"Topic2\", \"Topic2\", \"Topic2\", \"Topic2\", \"Topic2\", \"Topic2\", \"Topic2\", \"Topic2\", \"Topic2\", \"Topic2\", \"Topic2\", \"Topic2\", \"Topic2\", \"Topic2\", \"Topic2\", \"Topic2\", \"Topic2\", \"Topic2\", \"Topic2\", \"Topic2\", \"Topic2\", \"Topic2\", \"Topic2\", \"Topic2\", \"Topic2\", \"Topic2\", \"Topic2\", \"Topic2\", \"Topic2\", \"Topic2\", \"Topic2\", \"Topic2\", \"Topic2\", \"Topic3\", \"Topic3\", \"Topic3\", \"Topic3\", \"Topic3\", \"Topic3\", \"Topic3\", \"Topic3\", \"Topic3\", \"Topic3\", \"Topic3\", \"Topic3\", \"Topic3\", \"Topic3\", \"Topic3\", \"Topic3\", \"Topic3\", \"Topic3\", \"Topic3\", \"Topic3\", \"Topic3\", \"Topic3\", \"Topic3\", \"Topic3\", \"Topic3\", \"Topic3\", \"Topic3\", \"Topic3\", \"Topic3\", \"Topic3\", \"Topic3\", \"Topic3\", \"Topic3\", \"Topic3\", \"Topic3\", \"Topic3\", \"Topic3\", \"Topic3\", \"Topic3\", \"Topic3\", \"Topic3\", \"Topic3\", \"Topic3\", \"Topic3\", \"Topic3\", \"Topic3\", \"Topic3\", \"Topic3\", \"Topic3\", \"Topic3\", \"Topic3\", \"Topic3\", \"Topic3\", \"Topic3\", \"Topic3\", \"Topic3\", \"Topic3\", \"Topic3\", \"Topic3\", \"Topic4\", \"Topic4\", \"Topic4\", \"Topic4\", \"Topic4\", \"Topic4\", \"Topic4\", \"Topic4\", \"Topic4\", \"Topic4\", \"Topic4\", \"Topic4\", \"Topic4\", \"Topic4\", \"Topic4\", \"Topic4\", \"Topic4\", \"Topic4\", \"Topic4\", \"Topic4\", \"Topic4\", \"Topic4\", \"Topic4\", \"Topic4\", \"Topic4\", \"Topic4\", \"Topic4\", \"Topic4\", \"Topic4\", \"Topic4\", \"Topic4\", \"Topic4\", \"Topic4\", \"Topic4\", \"Topic4\", \"Topic4\", \"Topic4\", \"Topic4\", \"Topic4\", \"Topic4\", \"Topic4\", \"Topic4\", \"Topic4\", \"Topic4\", \"Topic4\"], \"logprob\": [30.0, 29.0, 28.0, 27.0, 26.0, 25.0, 24.0, 23.0, 22.0, 21.0, 20.0, 19.0, 18.0, 17.0, 16.0, 15.0, 14.0, 13.0, 12.0, 11.0, 10.0, 9.0, 8.0, 7.0, 6.0, 5.0, 4.0, 3.0, 2.0, 1.0, -4.0467, -4.1195, -4.2831, -4.3762, -4.5933, -4.5933, -4.5933, -4.5933, -4.5933, -4.5933, -4.8709, -4.8709, -4.8709, -4.8709, -4.8709, -4.8709, -4.8709, -4.1979, -5.0453, -5.0453, -5.0453, -4.3762, -4.3761, -5.2566, -5.2566, -5.2566, -5.2566, -5.2566, -5.2566, -5.2566, -4.8709, -4.8708, -4.7223, -4.8708, -4.283, -4.3762, -4.8708, -4.8708, -4.0743, -5.0001, -5.2114, -5.2114, -5.2114, -5.2114, -5.2114, -5.2114, -5.2114, -5.2114, -5.2114, -5.2114, -5.4797, -5.8474, -5.8474, -5.8474, -5.8474, -5.8474, -5.8474, -5.8474, -5.8474, -5.8474, -5.8474, -5.8474, -5.8474, -5.8474, -5.8474, -5.8474, -5.8474, -5.8474, -4.548, -4.8257, -3.5559, -4.5481, -4.5481, -4.5481, -3.8702, -5.0001, -4.5481, -4.8257, -4.8257, -4.8257, -5.2114, -5.2114, -5.2114, -5.2114, -5.2114, -4.8257, -4.8258, -4.1528, -5.0001, -4.8258, -4.826, -5.2114, -5.2114, -5.2114, -5.2114, -5.2114, -4.9096, -5.5456, -5.5456, -5.5456, -5.5456, -5.5456, -5.5456, -6.1334, -6.1334, -6.1334, -6.1334, -6.1334, -6.1334, -6.1334, -6.1334, -6.1334, -6.1334, -6.1334, -6.1334, -6.1334, -6.1334, -6.1334, -6.1334, -6.1334, -6.1334, -6.1334, -6.1334, -6.1334, -6.1334, -6.1334, -5.5455, -4.9096, -4.6983, -4.5239, -3.851, -4.2463, -4.2464, -4.9096, -4.9096, -4.2463, -4.9096, -5.1779, -5.1779, -5.1779, -5.1779, -5.1779, -5.1779, -4.6983, -4.9097, -4.9097, -4.9097, -5.5455, -5.5455, -5.1779, -5.178, -5.1779, -5.5455, -5.5455, -5.5455, -4.0599, -4.3827, -4.594, -4.8622, -4.8622, -4.8622, -4.8622, -5.23, -5.23, -5.23, -5.23, -5.23, -5.23, -5.23, -5.23, -5.23, -5.23, -5.23, -5.23, -5.23, -5.23, -5.23, -5.23, -5.23, -5.8177, -5.8177, -5.8177, -5.8177, -5.8177, -5.8177, -3.8159, -4.3823, -5.2298, -4.8622, -5.2299, -5.2299, -4.8619, -4.5937, -4.5939, -4.8619, -5.2296, -5.2297, -5.2297, -5.2297, -5.2298], \"loglift\": [30.0, 29.0, 28.0, 27.0, 26.0, 25.0, 24.0, 23.0, 22.0, 21.0, 20.0, 19.0, 18.0, 17.0, 16.0, 15.0, 14.0, 13.0, 12.0, 11.0, 10.0, 9.0, 8.0, 7.0, 6.0, 5.0, 4.0, 3.0, 2.0, 1.0, 1.0352, 1.0319, 1.0236, 1.0183, 1.0039, 1.0039, 1.0039, 1.0039, 1.0039, 1.0039, 0.9808, 0.9808, 0.9808, 0.9808, 0.9808, 0.9808, 0.9808, 0.9724, 0.9629, 0.9629, 0.9629, 0.9527, 0.9406, 0.9373, 0.9373, 0.9373, 0.9373, 0.9373, 0.9373, 0.9373, 0.879, 0.8607, 0.6861, 0.73, 0.2873, 0.0141, 0.293, 0.258, 1.0924, 1.022, 0.9958, 0.9958, 0.9958, 0.9958, 0.9958, 0.9958, 0.9958, 0.9958, 0.9958, 0.9958, 0.955, 0.8821, 0.8821, 0.8821, 0.8821, 0.8821, 0.8821, 0.8821, 0.8821, 0.8821, 0.8821, 0.8821, 0.8821, 0.8821, 0.8821, 0.8821, 0.8821, 0.8821, 0.8807, 0.8098, 0.6687, 0.726, 0.726, 0.726, 0.6304, 0.7266, 0.592, 0.6366, 0.6227, 0.6227, 0.6851, 0.6851, 0.6851, 0.6851, 0.6851, 0.5536, 0.5408, 0.2375, 0.4988, 0.1746, -0.2556, 0.4204, 0.6851, 0.6851, 0.6851, 0.6851, 1.3862, 1.258, 1.258, 1.258, 1.258, 1.258, 1.258, 1.072, 1.072, 1.072, 1.072, 1.072, 1.072, 1.072, 1.072, 1.072, 1.072, 1.072, 1.072, 1.072, 1.072, 1.072, 1.072, 1.072, 1.072, 1.072, 1.072, 1.072, 1.072, 1.072, 0.9439, 0.7502, 0.6683, 0.6162, 0.3736, 0.3241, 0.2542, 0.5388, 0.5388, 0.144, 0.4697, 0.5933, 0.5933, 0.5933, 0.5933, 0.5933, 0.5933, 0.3021, 0.3644, 0.3644, 0.3644, 0.705, 0.705, 0.2843, -0.0142, -0.0492, 0.705, 0.705, 0.705, 1.9194, 1.8754, 1.8394, 1.7838, 1.7838, 1.7838, 1.7838, 1.6866, 1.6866, 1.6866, 1.6866, 1.6866, 1.6866, 1.6866, 1.6866, 1.6866, 1.6866, 1.6866, 1.6866, 1.6866, 1.6866, 1.6866, 1.6866, 1.6866, 1.4708, 1.4708, 1.4708, 1.4708, 1.4708, 1.4708, 1.3834, 1.3935, 1.3717, 1.2884, 1.0766, 1.0766, 0.7413, 0.4068, -0.0932, 0.3019, 0.5758, 0.7438, 0.7438, 0.7438, 0.4646]}, \"token.table\": {\"Topic\": [4, 2, 3, 2, 3, 2, 3, 4, 2, 3, 2, 3, 2, 3, 2, 3, 1, 1, 2, 2, 1, 2, 3, 1, 3, 4, 1, 2, 1, 2, 3, 2, 3, 4, 4, 4, 1, 4, 2, 3, 4, 2, 3, 2, 2, 2, 2, 2, 2, 3, 2, 3, 4, 4, 2, 3, 3, 1, 4, 1, 2, 3, 4, 4, 2, 3, 3, 2, 3, 4, 4, 2, 3, 2, 3, 3, 1, 1, 1, 1, 1, 1, 1, 2, 3, 4, 3, 3, 3, 3, 3, 3, 4, 2, 3, 3, 4, 3, 3, 1, 1, 3, 3, 1, 1, 1, 2, 2, 3, 2, 2, 3, 4, 3, 2, 3, 1, 4, 2, 3, 2, 2, 2, 3, 1, 2, 3, 4, 2, 3, 4, 4, 2, 2, 3, 4, 3, 2, 3, 3, 3, 1, 2, 3, 4, 4, 4, 2, 2, 3, 4, 4, 1, 1, 2, 2, 3, 1, 2, 1, 2, 4, 2, 2, 2, 3, 4, 4, 4, 2, 1, 4, 2, 3, 2, 3, 4, 1, 4, 2, 2, 3, 3, 3, 3, 4, 4, 4, 2, 3, 4, 2, 3, 1, 2, 3, 2, 1, 4, 1, 2, 3, 2, 3, 1, 1, 2, 1, 1, 2, 3, 4, 2, 3, 3, 4, 2, 3, 1, 2, 3, 2, 3, 4, 3, 1, 1, 4, 4, 3, 2, 3, 2, 3, 3, 3, 3, 1, 2, 3, 4, 4, 1, 1, 4, 1, 1, 2, 3, 4, 1, 2, 3, 2, 2, 1, 2, 2, 2, 3, 1, 2, 3, 4, 2], \"Freq\": [0.7809458109234108, 0.5137042565002576, 0.34246950433350504, 0.5531382033637845, 0.5531382033637845, 0.6286841331656368, 0.2514736532662547, 0.12573682663312735, 0.5531382033637845, 0.5531382033637845, 0.5531382033637845, 0.5531382033637845, 0.5531382033637845, 0.5531382033637845, 0.5531382033637845, 0.5531382033637845, 0.7840257076929107, 0.9280103095127926, 0.8930205558322267, 0.8930205558322267, 0.7840257076929107, 0.6200293574787128, 0.37201761448722764, 0.8696614348631665, 0.10870767935789581, 0.7809458109234108, 0.9280103095127926, 0.8930205558322267, 0.7840257076929107, 0.6249822682717262, 0.3124911341358631, 0.5786242687775449, 0.34717456126652696, 0.11572485375550899, 0.7809458109234108, 0.6641048135517419, 0.9280103095127926, 0.7809458109234108, 0.6249822682717262, 0.3124911341358631, 0.7809458109234108, 0.5823123502187613, 0.38820823347917416, 0.8930205558322267, 0.8930205558322267, 0.8930205558322267, 0.8930205558322267, 0.8930205558322267, 0.8930205558322267, 0.718622628028875, 0.6649712577123346, 0.718622628028875, 0.7809458109234108, 0.5383512536572942, 0.5137042565002576, 0.34246950433350504, 0.718622628028875, 0.5005044348206276, 0.5005044348206276, 0.2895160456139487, 0.2895160456139487, 0.2895160456139487, 0.2895160456139487, 0.5383512536572942, 0.5823123502187613, 0.38820823347917416, 0.718622628028875, 0.5823123502187613, 0.38820823347917416, 0.8215077109854972, 0.8215077109854972, 0.5823123502187613, 0.38820823347917416, 0.5823123502187613, 0.38820823347917416, 0.9617102565265634, 0.7840257076929107, 0.8633916902372091, 0.7840257076929107, 0.9280103095127926, 0.9214040262015336, 0.9280103099059445, 0.9399817824489419, 0.5767812010116549, 0.28839060050582743, 0.09613020016860914, 0.718622628028875, 0.9617102565265634, 0.718622628028875, 0.718622628028875, 0.718622628028875, 0.718622628028875, 0.8359811716104717, 0.8930205558322267, 0.961710272401014, 0.718622628028875, 0.5383512536572942, 0.718622628028875, 0.718622628028875, 0.7840257076929107, 0.8229089568173856, 0.16458179136347711, 0.718622628028875, 0.9686234602605533, 0.8682179387328874, 0.7221265734662444, 0.2888506293864978, 0.4595588935002921, 0.4595588935002921, 0.8930205558322267, 0.5823123502187613, 0.38820823347917416, 0.5383512536572942, 0.718622628028875, 0.5823123502187613, 0.38820823347917416, 0.5849723260521831, 0.29248616302609154, 0.5823123502187613, 0.38820823347917416, 0.8930205544959807, 0.8930205558322267, 0.5823123502187613, 0.38820823347917416, 0.4503924591794955, 0.2702354755076973, 0.1801569836717982, 0.0900784918358991, 0.34408484991997124, 0.17204242495998562, 0.5161272748799569, 0.5383512536572942, 0.794553079624117, 0.41931300202758914, 0.41931300202758914, 0.20965650101379457, 0.718622628028875, 0.8930205558322267, 0.718622628028875, 0.8681099578906408, 0.718622628028875, 0.7148916039922284, 0.2382972013307428, 0.1191486006653714, 0.5383512536572942, 0.5383512536572942, 0.5383512536572942, 0.8930205558322267, 0.4193140225107073, 0.4193140225107073, 0.20965701125535366, 0.5383512536572942, 0.9280103095127926, 0.8633916902372091, 0.8930205558322267, 0.5137042565002576, 0.34246950433350504, 0.9280103095127926, 0.794553079624117, 0.3275879558609454, 0.6551759117218908, 0.5383512536572942, 0.794553079624117, 0.794553079624117, 0.2900055274906567, 0.19333701832710445, 0.48334254581776115, 0.5383512536572942, 0.5383512536572942, 0.8930205558322267, 0.945526068591141, 0.8215077109854972, 0.6249822682717262, 0.3124911341358631, 0.5712851632973112, 0.457028130637849, 0.5383512536572942, 0.5849723260521831, 0.29248616302609154, 0.8803270023472182, 0.7476063025967256, 0.2990425210386902, 0.718622628028875, 0.961710272401014, 0.961710272401014, 0.5383512536572942, 0.8215077109854972, 0.5383512536572942, 0.4193140225107073, 0.4193140225107073, 0.20965701125535366, 0.6200293574787128, 0.37201761448722764, 0.8682179390798268, 0.35116544051442444, 0.7023308810288489, 0.794553079624117, 0.9390220593903527, 0.09390220593903527, 0.463810026538098, 0.25767223696561, 0.309206684358732, 0.5137042565002576, 0.34246950433350504, 0.8633916902372091, 0.3913026730940404, 0.5217368974587205, 0.8633916902372091, 0.4664551652297867, 0.18658206609191466, 0.18658206609191466, 0.18658206609191466, 0.5137042565002576, 0.34246950433350504, 0.39284061537384113, 0.39284061537384113, 0.5466274118694859, 0.3644182745796573, 0.07294182691486871, 0.620005528776384, 0.29176730765947484, 0.47574788951641833, 0.3171652596776122, 0.1585826298388061, 0.961710272401014, 0.8682179392532963, 0.8802919213305663, 0.11003649016632079, 0.5383512536572942, 0.718622628028875, 0.5137042565002576, 0.34246950433350504, 0.794553079624117, 0.718622628028875, 0.718622628028875, 0.718622628028875, 0.718622628028875, 0.2979142491605042, 0.4468713737407563, 0.2979142491605042, 0.8434108475647534, 0.5383512536572942, 0.8633916902372091, 0.8382329664618301, 0.16764659329236603, 0.7840257074542655, 0.15845941072635794, 0.3961485268158949, 0.3169188214527159, 0.15845941072635794, 0.3443503903357056, 0.38739418912766876, 0.25826279275177916, 0.794553079624117, 0.794553079624117, 0.8633916902372091, 0.9356081296184547, 0.794553079624117, 0.7295587538418437, 0.24318625128061458, 0.35441580624578795, 0.35441580624578795, 0.17720790312289397, 0.17720790312289397, 0.794553079624117], \"Term\": [\"0221732761\", \"0313304042\", \"0313304042\", \"1029\\uc77c\\uae4c\\uc9c0\", \"1029\\uc77c\\uae4c\\uc9c0\", \"11\", \"11\", \"11\", \"111\\uc218\\uc9c0\\uc6d0\\uc11c\", \"111\\uc218\\uc9c0\\uc6d0\\uc11c\", \"113\\uae08\", \"113\\uae08\", \"116\\uc6d4\", \"116\\uc6d4\", \"1210\\uc218\\uae4c\\uc9c0\", \"1210\\uc218\\uae4c\\uc9c0\", \"1300\", \"13001700\", \"16\\uba85\", \"1\\ubc18\\uc5d0\", \"1\\uc6d4\", \"1\\uc8fc\\ucc28\", \"1\\uc8fc\\ucc28\", \"2023\", \"2023\", \"20231\\ud559\\uae30\", \"2023\\ub144\", \"2\\uac1c\\ubc18\", \"2\\uc6d4\", \"2\\uc8fc\\ucc28\", \"2\\uc8fc\\ucc28\", \"3\\uc8fc\\ucc28\", \"3\\uc8fc\\ucc28\", \"3\\uc8fc\\ucc28\", \"410416\", \"48\\uc2dc\\uac04\", \"4\\uc2dc\\uac04\", \"4\\uc6d4\", \"4\\uc8fc\\ucc28\", \"4\\uc8fc\\ucc28\", \"50\\ubd84\\uac04\", \"5\\uc8fc\\ucc28\", \"5\\uc8fc\\ucc28\", \"611\\uc77c\\uae4c\\uc9c0\", \"626\\uc6d4\", \"628\\uc218\", \"73\\uc6d4\", \"87\\uc6d4\\uae4c\\uc9c0\", \"8\\uba85\\uc73c\\ub85c\", \"a\\uc758\", \"b2b\", \"draft\", \"eg\", \"english\", \"head312hufsackr\", \"head312hufsackr\", \"httpscomentokredulearncampdetailg848\", \"hufs\", \"hufs\", \"hufsability\", \"hufsability\", \"hufsability\", \"hufsability\", \"or\", \"ot\", \"ot\", \"pd\\uc640\", \"qr\", \"qr\", \"tutoring\", \"writing\", \"zoom\\uc73c\\ub85c\", \"zoom\\uc73c\\ub85c\", \"\\uac15\\ud654\", \"\\uac15\\ud654\", \"\\uac1c\\ub150\", \"\\uac1c\\ubcc4\", \"\\uac1c\\uc778\\ubcc4\", \"\\uacb8\\uc784\\uad50\\uc218\", \"\\uace0\\ub4dd\\uc810\\uc804\\ub7b5\", \"\\uacf5\\uae30\\uc5c5\", \"\\uacf5\\uae30\\uc5c5\\uc758\", \"\\uacf5\\ucc44\", \"\\uacfc\\uc81c\", \"\\uacfc\\uc81c\", \"\\uacfc\\uc81c\", \"\\uacfc\\uc81c\\uae30\\ud68d\", \"\\uacfc\\uc81c\\uc2e0\\uaddc\", \"\\uacfc\\uc81c\\uc2e0\\uc120\\ud55c\", \"\\uacfc\\uc81c\\ucd2c\\uc601\", \"\\uacfc\\uc81c\\ud504\\ub85c\\uadf8\\ub7a8\", \"\\uad6c\\uc131\\uc548\", \"\\uae00\\uc4f0\\uae30\", \"\\uae30\\ub300\\ud6a8\\uacfc\", \"\\uae30\\uc5c5\\ubd84\\uc11d\", \"\\uae30\\uc874\", \"\\uae30\\uc900\", \"\\uae30\\ud68d\\uc548\", \"\\uae30\\ud68d\\uc81c\\uc791\\uc5f0\\ucd9c\", \"\\uae4c\\uc9c0\", \"\\ub0b4\\uc6a9\", \"\\ub0b4\\uc6a9\", \"\\ub2f9\\uc77c\\uc744\", \"\\ub300\\uae30\\uc5c5\", \"\\ub300\\uae30\\uc5c5\\uc758\", \"\\ub300\\ube44\", \"\\ub300\\ube44\", \"\\ub300\\uc0c1\", \"\\ub300\\uc0c1\", \"\\ub3d9\\uc548\", \"\\ub429\\ub2c8\\ub2e4\", \"\\ub429\\ub2c8\\ub2e4\", \"\\ub4f1\\ub85d\\ud504\\ub85c\\uadf8\\ub7a8\", \"\\ub4f1\\uc7a5\\ud558\\ub294\", \"\\ub530\\ub77c\", \"\\ub530\\ub77c\", \"\\ub610\\ub294\", \"\\ub610\\ub294\", \"\\ub9c8\\uac10\", \"\\ub9c8\\uac10\", \"\\ub9c8\\ub828\", \"\\ub9ce\\uc740\", \"\\ubaa8\\uc758\", \"\\ubaa8\\uc758\", \"\\ubb38\\uc758\", \"\\ubb38\\uc758\", \"\\ubb38\\uc758\", \"\\ubb38\\uc758\", \"\\ubc14\\ub78d\\ub2c8\\ub2e4\", \"\\ubc14\\ub78d\\ub2c8\\ub2e4\", \"\\ubc14\\ub78d\\ub2c8\\ub2e4\", \"\\ubc18\\ub4dc\\uc2dc\", \"\\ubc1b\\uc744\", \"\\ubc29\\ubc95\", \"\\ubc29\\ubc95\", \"\\ubc29\\ubc95\", \"\\ubc29\\uc1a1\", \"\\ubc29\\ud559\", \"\\ubc30\\uce58\\uc548\", \"\\ubcf4\\uace0\", \"\\ubd80\\ud2b8\\ucea0\\ud50410\\ub144\\ucc28\", \"\\ubd84\\uc11d\", \"\\ubd84\\uc11d\", \"\\ubd84\\uc11d\", \"\\ubd88\\uac00\", \"\\ubd88\\uac00\\ud569\\ub2c8\\ub2e4\", \"\\ube14\\ub799\\ub9ac\\uc2a4\\ud2b8\", \"\\ube44\\uace0\", \"\\ube44\\uad50\\uacfc\", \"\\ube44\\uad50\\uacfc\", \"\\ube44\\uad50\\uacfc\", \"\\uc0ac\\uc804\\uc5d0\", \"\\uc0c1\\ubc18\\uae30\", \"\\uc120\\ubc1c\", \"\\uc120\\ubc1c\\uc9c0\\uc6d0\\uc790\\uc758\", \"\\uc120\\ubc1c\\ud558\\uba70\", \"\\uc120\\ubc1c\\ud558\\uba70\", \"\\uc138\\ubd80\\ub0b4\\uc6a9\", \"\\uc18c\\uac1c\", \"\\uc218\\ub9bd\", \"\\uc218\\ub9bd\", \"\\uc218\\uc5c5\\uc77c\\uc2dc\", \"\\uc218\\ud589\\uc5d0\", \"\\uc218\\ud589\\ud558\\uba70\", \"\\uc2e0\\uccad\", \"\\uc2e0\\uccad\", \"\\uc2e0\\uccad\", \"\\uc2e0\\uccad\\ub0b4\\uc5ed\", \"\\uc2e0\\uccad\\uc740\", \"\\uc2e4\\ubb34\\ub97c\", \"\\uc2e4\\uc2dc\", \"\\uc2e4\\uc2dc\\uac04\", \"\\uc2ec\\uc0ac\", \"\\uc2ec\\uc0ac\", \"\\uc544\\ub798\", \"\\uc544\\ub798\", \"\\uc548\\ub0b4\", \"\\uc5c5\\ub85c\\ub4dc\", \"\\uc5c5\\ub85c\\ub4dc\", \"\\uc5c5\\ubb34\", \"\\uc5ed\\ub7c9\", \"\\uc5ed\\ub7c9\", \"\\uc601\\uc0c1\", \"\\uc6a9\\uc778\", \"\\uc6b0\\uc218\", \"\\uc704\\ubc18\", \"\\uc720\\uc758\\uc0ac\\ud56d\", \"\\uc774\\ub0b4\", \"\\uc774\\uc6a9\", \"\\uc774\\uc6a9\", \"\\uc774\\uc6a9\", \"\\uc774\\uc6a9\\ud558\\uc5ec\", \"\\uc774\\uc6a9\\ud558\\uc5ec\", \"\\uc774\\ud574\", \"\\uc774\\ud574\\ud558\\uae30\", \"\\uc774\\ud574\\ud558\\uae30\", \"\\uc788\\uc2b5\\ub2c8\\ub2e4\", \"\\uc790\\uae30\\uc18c\\uac1c\\uc11c\", \"\\uc790\\uae30\\uc18c\\uac1c\\uc11c\", \"\\uc791\\uc131\", \"\\uc791\\uc131\", \"\\uc791\\uc131\", \"\\uc7ac\\ud559\\uc0dd\", \"\\uc7ac\\ud559\\uc0dd\", \"\\uc804\\ub2ec\", \"\\uc804\\ub7b5\", \"\\uc804\\ub7b5\", \"\\uc81c\\uc2dc\", \"\\uc81c\\ucd9c\", \"\\uc81c\\ucd9c\", \"\\uc81c\\ucd9c\", \"\\uc81c\\ucd9c\", \"\\uc878\\uc5c5\\uc0dd\", \"\\uc878\\uc5c5\\uc0dd\", \"\\uc8fc\\uc2dc\\uae30\", \"\\uc8fc\\uc2dc\\uae30\", \"\\uc9c0\\uc6d0\\uc11c\", \"\\uc9c0\\uc6d0\\uc11c\", \"\\uc9c1\\ubb34\", \"\\uc9c1\\ubb34\", \"\\uc9c1\\ubb34\", \"\\uc9c4\\ud589\", \"\\uc9c4\\ud589\", \"\\uc9c4\\ud589\", \"\\ucc38\\uc11d\", \"\\ucc44\\uc6a9\\uc2dc\\uc2a4\\ud15c\", \"\\ucca8\\uc0ad\", \"\\ucca8\\uc0ad\", \"\\ucd5c\\uc18c\", \"\\ucd9c\\uc5f0\\uc790\\uac00\", \"\\ucda9\\uc2e4\\ub3c4\", \"\\ucda9\\uc2e4\\ub3c4\", \"\\ucde8\\uc5c5\\uc744\", \"\\uce74\\uba54\\ub77c\", \"\\ucf54\\ub108\", \"\\ud050\\uc2dc\\ud2b8\", \"\\ud0c0\\uc784\\ud14c\\uc774\\ube14\", \"\\ud1b5\\uc9c0\", \"\\ud1b5\\uc9c0\", \"\\ud1b5\\uc9c0\", \"\\ud29c\\ud130\\ub9c1\", \"\\ud29c\\ud130\\ub9c1\\uc744\", \"\\ud2b9\\uac15\", \"\\ud30c\\uc77c\", \"\\ud30c\\uc77c\", \"\\ud3ec\\ud568\", \"\\ud504\\ub85c\\uadf8\\ub7a8\", \"\\ud504\\ub85c\\uadf8\\ub7a8\", \"\\ud504\\ub85c\\uadf8\\ub7a8\", \"\\ud504\\ub85c\\uadf8\\ub7a8\", \"\\ud53c\\ub4dc\\ubc31\", \"\\ud53c\\ub4dc\\ubc31\", \"\\ud53c\\ub4dc\\ubc31\", \"\\ud53c\\ub4dc\\ubc31\\uc744\", \"\\ud544\\uc694\\ud55c\", \"\\ud569\\uaca9\\uc790\\uae30\\uc18c\\uac1c\\uc11c\", \"\\ud574\\uc678\\uc601\\uc5c5\", \"\\ud574\\uc678\\uc601\\uc5c5\\ubd80\\uc11c\", \"\\ud604\\uc9c1\\uc790\\uc758\", \"\\ud604\\uc9c1\\uc790\\uc758\", \"\\ud655\\uc778\", \"\\ud655\\uc778\", \"\\ud655\\uc778\", \"\\ud655\\uc778\", \"\\ud76c\\ub9dd\\ud558\\ub294\"]}, \"R\": 30, \"lambda.step\": 0.01, \"plot.opts\": {\"xlab\": \"PC1\", \"ylab\": \"PC2\"}, \"topic.order\": [1, 4, 2, 3]};\n",
              "\n",
              "function LDAvis_load_lib(url, callback){\n",
              "  var s = document.createElement('script');\n",
              "  s.src = url;\n",
              "  s.async = true;\n",
              "  s.onreadystatechange = s.onload = callback;\n",
              "  s.onerror = function(){console.warn(\"failed to load library \" + url);};\n",
              "  document.getElementsByTagName(\"head\")[0].appendChild(s);\n",
              "}\n",
              "\n",
              "if(typeof(LDAvis) !== \"undefined\"){\n",
              "   // already loaded: just create the visualization\n",
              "   !function(LDAvis){\n",
              "       new LDAvis(\"#\" + \"ldavis_el5171356902505038887000608978\", ldavis_el5171356902505038887000608978_data);\n",
              "   }(LDAvis);\n",
              "}else if(typeof define === \"function\" && define.amd){\n",
              "   // require.js is available: use it to load d3/LDAvis\n",
              "   require.config({paths: {d3: \"https://d3js.org/d3.v5\"}});\n",
              "   require([\"d3\"], function(d3){\n",
              "      window.d3 = d3;\n",
              "      LDAvis_load_lib(\"https://cdn.jsdelivr.net/gh/bmabey/pyLDAvis@3.4.0/pyLDAvis/js/ldavis.v3.0.0.js\", function(){\n",
              "        new LDAvis(\"#\" + \"ldavis_el5171356902505038887000608978\", ldavis_el5171356902505038887000608978_data);\n",
              "      });\n",
              "    });\n",
              "}else{\n",
              "    // require.js not available: dynamically load d3 & LDAvis\n",
              "    LDAvis_load_lib(\"https://d3js.org/d3.v5.js\", function(){\n",
              "         LDAvis_load_lib(\"https://cdn.jsdelivr.net/gh/bmabey/pyLDAvis@3.4.0/pyLDAvis/js/ldavis.v3.0.0.js\", function(){\n",
              "                 new LDAvis(\"#\" + \"ldavis_el5171356902505038887000608978\", ldavis_el5171356902505038887000608978_data);\n",
              "            })\n",
              "         });\n",
              "}\n",
              "</script>"
            ]
          },
          "metadata": {},
          "execution_count": 43
        }
      ]
    },
    {
      "cell_type": "markdown",
      "source": [
        "## data soup를 이용한 추천"
      ],
      "metadata": {
        "id": "2_PULzEG23-9"
      }
    },
    {
      "cell_type": "code",
      "source": [
        "#혹시 있을지 모를 결측치 대체\n",
        "workshop['프로그램 주요내용_키워드'] = workshop['프로그램 주요내용_키워드'].fillna('')\n",
        "workshop['프로그램 목표_키워드'] = workshop['프로그램 목표_키워드'].fillna('')\n",
        "\n",
        "workshop['프로그램 주요내용_clean_명사'] = workshop['프로그램 주요내용_clean_명사'].fillna('')\n",
        "workshop['프로그램 목표_clean_명사'] = workshop['프로그램 목표_clean_명사'].fillna('')"
      ],
      "metadata": {
        "id": "OQHkdS-kihgM",
        "colab": {
          "base_uri": "https://localhost:8080/"
        },
        "outputId": "76530233-8bb7-4813-f22c-e8ee45ce02c2"
      },
      "execution_count": 44,
      "outputs": [
        {
          "output_type": "stream",
          "name": "stderr",
          "text": [
            "/usr/local/lib/python3.10/dist-packages/ipykernel/ipkernel.py:283: DeprecationWarning:\n",
            "\n",
            "`should_run_async` will not call `transform_cell` automatically in the future. Please pass the result to `transformed_cell` argument and any exception that happen during thetransform in `preprocessing_exc_tuple` in IPython 7.17 and above.\n",
            "\n"
          ]
        }
      ]
    },
    {
      "cell_type": "code",
      "source": [
        "def create_soup(x, weight):\n",
        "    # 가중치 설정\n",
        "    cols = ['프로그램 분류', '학년', '학부', '학적'] * weight[0]\n",
        "    col_nouns = [ '프로그램 주요내용_clean_명사', '프로그램 목표_clean_명사'] * weight[1]\n",
        "    col_keywords = [ '프로그램 주요내용_키워드', '프로그램 목표_키워드'] * weight[2]\n",
        "    col_skill = ['지식·정보·기술 활용역량', '자기주도적 학습역량', '창의·혁신역량', '의사소통 역량', '대인관계역량', '세계시민역량'] * weight[3]\n",
        "    result = ''\n",
        "\n",
        "    for cn in col_nouns:\n",
        "        result = result + x[cn] + ' '\n",
        "    for ck in col_keywords:\n",
        "        ck = ck.split(',')\n",
        "        result = result + ' '.join(x[ck]) + ' '\n",
        "    for cs in col_skill:\n",
        "        result = result + str(x[cs]) + ' '\n",
        "    for c in cols:\n",
        "        result = result + x[c] + ' '\n",
        "    return result"
      ],
      "metadata": {
        "id": "gSmb19sPhPAB",
        "colab": {
          "base_uri": "https://localhost:8080/"
        },
        "outputId": "2e661ed9-8710-45ea-e443-f75e04a8b49b"
      },
      "execution_count": 45,
      "outputs": [
        {
          "output_type": "stream",
          "name": "stderr",
          "text": [
            "/usr/local/lib/python3.10/dist-packages/ipykernel/ipkernel.py:283: DeprecationWarning:\n",
            "\n",
            "`should_run_async` will not call `transform_cell` automatically in the future. Please pass the result to `transformed_cell` argument and any exception that happen during thetransform in `preprocessing_exc_tuple` in IPython 7.17 and above.\n",
            "\n"
          ]
        }
      ]
    },
    {
      "cell_type": "markdown",
      "source": [
        "### 키워드 기반 추천"
      ],
      "metadata": {
        "id": "KmKUkP9QP5vJ"
      }
    },
    {
      "cell_type": "markdown",
      "source": [
        "#### 모든 가중치가 동일"
      ],
      "metadata": {
        "id": "qqmLX_kqEsWh"
      }
    },
    {
      "cell_type": "code",
      "source": [
        "workshop['soup'] = workshop.apply(create_soup, weight = [1,0,1,1], axis=1)\n",
        "count = CountVectorizer()\n",
        "count_matrix = count.fit_transform(workshop['soup'])\n",
        "indices = pd.Series(workshop.index, index=workshop['프로그램명'])\n",
        "# cosine 유사도 구하기\n",
        "cosine_sim2 = cosine_similarity(count_matrix, count_matrix)"
      ],
      "metadata": {
        "id": "eJ3Eoc1tGDxV",
        "colab": {
          "base_uri": "https://localhost:8080/"
        },
        "outputId": "96658513-a9d3-49cd-e05c-1107422cc931"
      },
      "execution_count": 46,
      "outputs": [
        {
          "output_type": "stream",
          "name": "stderr",
          "text": [
            "/usr/local/lib/python3.10/dist-packages/ipykernel/ipkernel.py:283: DeprecationWarning:\n",
            "\n",
            "`should_run_async` will not call `transform_cell` automatically in the future. Please pass the result to `transformed_cell` argument and any exception that happen during thetransform in `preprocessing_exc_tuple` in IPython 7.17 and above.\n",
            "\n"
          ]
        }
      ]
    },
    {
      "cell_type": "code",
      "source": [
        "target = workshop.iloc[20]\n",
        "\n",
        "print('프로그램명 : ',target['프로그램명'])\n",
        "print('추천 목록: ')\n",
        "recom_df = get_recommendations(workshop, indices, target['프로그램명'], cosine_sim2)\n",
        "print(recom_df['프로그램명'])"
      ],
      "metadata": {
        "id": "1YaRW5FtlvY1",
        "colab": {
          "base_uri": "https://localhost:8080/"
        },
        "outputId": "6c1a33d7-7ead-49fe-bf54-c4c315f301cc"
      },
      "execution_count": 47,
      "outputs": [
        {
          "output_type": "stream",
          "name": "stdout",
          "text": [
            "프로그램명 :  직무 부트캠프GMP 전체를 보는 눈과 핵심 개념으로 제약공장 품질QAQC업무알기\n",
            "추천 목록: \n",
            "21      직무 부트캠프이것이 찐현실 콘텐츠 마케팅 실무 5주 완성 병아리 콘텐츠 마케터 캠프\n",
            "22                직무 부트캠프GMP환경 학교에선 알려주지 않는 환경 실무 이해하기\n",
            "24         직무 부트캠프10년차 현직 PD와 함께 방송 영상 콘텐츠 기획제작연출 이해하기\n",
            "23            직무 부트캠프무역 프로세스 완벽 이해하기  서류 작성부터 클레임 대처까지\n",
            "165                 하계방학 대비 해외영업 직무 부트캠프해외영업 시장분석 전략수립\n",
            "166              하계방학 대비 해외영업 직무 부트캠프제조업 B2B 해외영업 프로세스\n",
            "1114                         졸업생을 위한 일반기업 자기소개서 전략 컨설팅\n",
            "1115                          졸업생을 위한 공기업 자기소개서 전략 컨설팅\n",
            "610                 97 내 인생룸메가 되어줘 기숙사or자취생 라이프코칭 프로그램\n",
            "672                                        2021 열린 상담실\n",
            "Name: 프로그램명, dtype: object\n"
          ]
        },
        {
          "output_type": "stream",
          "name": "stderr",
          "text": [
            "/usr/local/lib/python3.10/dist-packages/ipykernel/ipkernel.py:283: DeprecationWarning:\n",
            "\n",
            "`should_run_async` will not call `transform_cell` automatically in the future. Please pass the result to `transformed_cell` argument and any exception that happen during thetransform in `preprocessing_exc_tuple` in IPython 7.17 and above.\n",
            "\n"
          ]
        }
      ]
    },
    {
      "cell_type": "code",
      "source": [
        "LDA_result = LDA(recom_df, topic_num = 4)\n",
        "table_header, table_cells = get_topic(LDA_result)\n",
        "create_dash_app(recom_df, workshop, table_header, table_cells)"
      ],
      "metadata": {
        "id": "iIZ1DuYLXZzI",
        "colab": {
          "base_uri": "https://localhost:8080/",
          "height": 781
        },
        "outputId": "c00016af-dea3-41dd-f29c-996abdab75f7"
      },
      "execution_count": 48,
      "outputs": [
        {
          "output_type": "stream",
          "name": "stderr",
          "text": [
            "/usr/local/lib/python3.10/dist-packages/ipykernel/ipkernel.py:283: DeprecationWarning:\n",
            "\n",
            "`should_run_async` will not call `transform_cell` automatically in the future. Please pass the result to `transformed_cell` argument and any exception that happen during thetransform in `preprocessing_exc_tuple` in IPython 7.17 and above.\n",
            "\n"
          ]
        },
        {
          "output_type": "display_data",
          "data": {
            "text/plain": [
              "<IPython.core.display.Javascript object>"
            ],
            "application/javascript": [
              "(async (port, path, width, height, cache, element) => {\n",
              "    if (!google.colab.kernel.accessAllowed && !cache) {\n",
              "      return;\n",
              "    }\n",
              "    element.appendChild(document.createTextNode(''));\n",
              "    const url = await google.colab.kernel.proxyPort(port, {cache});\n",
              "    const iframe = document.createElement('iframe');\n",
              "    iframe.src = new URL(path, url).toString();\n",
              "    iframe.height = height;\n",
              "    iframe.width = width;\n",
              "    iframe.style.border = 0;\n",
              "    iframe.allow = [\n",
              "        'accelerometer',\n",
              "        'autoplay',\n",
              "        'camera',\n",
              "        'clipboard-read',\n",
              "        'clipboard-write',\n",
              "        'gyroscope',\n",
              "        'magnetometer',\n",
              "        'microphone',\n",
              "        'serial',\n",
              "        'usb',\n",
              "        'xr-spatial-tracking',\n",
              "    ].join('; ');\n",
              "    element.appendChild(iframe);\n",
              "  })(8050, \"/\", \"100%\", 650, false, window.element)"
            ]
          },
          "metadata": {}
        },
        {
          "output_type": "execute_result",
          "data": {
            "text/plain": [
              "<dash.dash.Dash at 0x7b690c588a60>"
            ]
          },
          "metadata": {},
          "execution_count": 48
        }
      ]
    },
    {
      "cell_type": "code",
      "source": [
        "# LDA 토픽 모델링 결과를 시각화\n",
        "pyLDAvis.enable_notebook\n",
        "visualization = pyLDAvis.lda_model.prepare(LDA_result['lda'], LDA_result['recom_vec'], LDA_result['count_vectorizer'])\n",
        "pyLDAvis.display(visualization)"
      ],
      "metadata": {
        "id": "sVKcOnEdXZzI",
        "colab": {
          "base_uri": "https://localhost:8080/",
          "height": 953
        },
        "outputId": "ee7623de-85fc-462f-eff1-7ee516137c48"
      },
      "execution_count": 49,
      "outputs": [
        {
          "output_type": "stream",
          "name": "stderr",
          "text": [
            "/usr/local/lib/python3.10/dist-packages/ipykernel/ipkernel.py:283: DeprecationWarning:\n",
            "\n",
            "`should_run_async` will not call `transform_cell` automatically in the future. Please pass the result to `transformed_cell` argument and any exception that happen during thetransform in `preprocessing_exc_tuple` in IPython 7.17 and above.\n",
            "\n"
          ]
        },
        {
          "output_type": "execute_result",
          "data": {
            "text/plain": [
              "<IPython.core.display.HTML object>"
            ],
            "text/html": [
              "\n",
              "<link rel=\"stylesheet\" type=\"text/css\" href=\"https://cdn.jsdelivr.net/gh/bmabey/pyLDAvis@3.4.0/pyLDAvis/js/ldavis.v1.0.0.css\">\n",
              "\n",
              "\n",
              "<div id=\"ldavis_el5171356902776472161737445363\" style=\"background-color:white;\"></div>\n",
              "<script type=\"text/javascript\">\n",
              "\n",
              "var ldavis_el5171356902776472161737445363_data = {\"mdsDat\": {\"x\": [-0.1323046126718238, -0.041288757910963175, 0.12043236925396389, 0.05316100132882313], \"y\": [0.06988930311596002, -0.11439554102074076, 0.03207057138135756, 0.0124356665234232], \"topics\": [1, 2, 3, 4], \"cluster\": [1, 1, 1, 1], \"Freq\": [56.084637375066734, 36.81892118247312, 5.117245735854302, 1.979195706605845]}, \"tinfo\": {\"Term\": [\"\\uc804\\ub7b5\", \"\\ud574\\uc678\\uc601\\uc5c5\", \"\\uc704\\ud55c\", \"\\uc790\\uae30\\uc18c\\uac1c\\uc11c\", \"\\ucee8\\uc124\\ud305\", \"\\ub300\\ud55c\", \"\\uc788\\uc2b5\\ub2c8\\ub2e4\", \"\\uacfc\\uc81c\\uc2e0\\uaddc\", \"\\uac1c\\ub150\", \"\\ud544\\uc694\\ud55c\", \"\\ubc1b\\uc744\", \"\\uc18c\\uac1c\", \"\\uc218\\ud589\\uc5d0\", \"\\uc218\\ud589\\ud558\\uba70\", \"\\ucde8\\uc5c5\\uc744\", \"\\ud53c\\ub4dc\\ubc31\\uc744\", \"\\ud76c\\ub9dd\\ud558\\ub294\", \"\\ud574\\uc678\\uc601\\uc5c5\\ubd80\\uc11c\", \"\\uc77c\\ubc18\\uae30\\uc5c5\", \"\\uc878\\uc5c5\\uc0dd\\uc744\", \"\\uacf5\\uae30\\uc5c5\", \"b2b\", \"\\uc5c5\\ubb34\", \"\\ucee4\\ub9ac\\ud058\\ub7fc\", \"113\\uae08\", \"\\uac15\\uc758\", \"\\uc81c\\ucd9c\", \"\\uc81c\\uacf5\", \"\\ubc1b\\uc73c\\uba70\", \"\\uba58\\ud1a0\\ub9c1\\uc744\", \"\\ubcf4\\uace0\", \"\\uae30\\ud68c\", \"3\\uac1c\\uc6d4\", \"qa\", \"\\ud3ec\\uae30\", \"1210\\uc218\\uae4c\\uc9c0\", \"111\\uc218\\uc9c0\\uc6d0\\uc11c\", \"\\ucea0\\ud37c\\uc2a4\", \"\\uc218\\ud589\\ud558\\ub294\", \"\\uc5d0\\uc13c\\uc2a4\", \"\\ud604\\uc5c5\", \"1029\\uc77c\\uae4c\\uc9c0\", \"qr\\ucf54\\ub4dc\", \"\\ubd80\\ud2b8\\ucea0\\ud504\\ub97c\", \"\\uc774\\uc6a9\", \"8\\uba85\\uc9c0\\uc6d0\\uc790\\uc758\", \"\\ube44\\uad50\\uacfc\", \"hufsability\", \"\\ud604\\uc9c1\\uc790\", \"\\uc218\\ud589\", \"116\\uc6d4\", \"\\ud3ec\\uc2a4\\ud130\\uc758\", \"\\uc81c\\ud55c\", \"\\uacfc\\uc81c\\ubc1c\\ud45c\", \"\\uc9c1\\ubb34\\ub97c\", \"\\uc911\\ub3c4\", \"\\uba58\\ud1a0\\ub9c1\\uc744\", \"\\ubc1b\\uc73c\\uba70\", \"\\uc81c\\uacf5\", \"\\uc81c\\ucd9c\", \"\\ud53c\\ub4dc\\ubc31\", \"\\uc9c1\\ubb34\", \"\\uacfc\\uc81c\", \"\\uc544\\ub798\", \"3\\uc8fc\\ucc28\", \"1\\uc8fc\\ucc28\", \"\\uc774\\uc6a9\\ud558\\uc5ec\", \"\\ud504\\ub85c\\uadf8\\ub7a8\", \"\\uc791\\uc131\", \"\\uc9c0\\uc6d0\\uc11c\", \"2\\uc8fc\\ucc28\", \"\\uc2ec\\uc0ac\", \"4\\uc8fc\\ucc28\", \"\\uc804\\ub7b5\", \"\\ud574\\uc678\\uc601\\uc5c5\", \"\\uc788\\uc2b5\\ub2c8\\ub2e4\", \"\\ubc1b\\uc744\", \"\\uc18c\\uac1c\", \"\\uc218\\ud589\\uc5d0\", \"\\uc218\\ud589\\ud558\\uba70\", \"\\ucde8\\uc5c5\\uc744\", \"\\ud53c\\ub4dc\\ubc31\\uc744\", \"\\ud544\\uc694\\ud55c\", \"\\ud574\\uc678\\uc601\\uc5c5\\ubd80\\uc11c\", \"\\ud76c\\ub9dd\\ud558\\ub294\", \"b2b\", \"\\uc81c\\uc870\\uc5c5\", \"16\\uba85\", \"1\\ubc18\\uc5d0\", \"2\\uac1c\\ubc18\", \"611\\uc77c\\uae4c\\uc9c0\", \"626\\uc6d4\", \"628\\uc218\", \"73\\uc6d4\", \"87\\uc6d4\\uae4c\\uc9c0\", \"8\\uba85\\uc73c\\ub85c\", \"\\uae30\\ub300\\ud6a8\\uacfc\", \"\\ub300\\ube44\", \"\\ub3d9\\uc548\", \"\\ub9ce\\uc740\", \"\\ubc14\\ub78d\\ub2c8\\ub2e4\", \"\\ubc29\\ubc95\", \"\\ubc29\\ud559\", \"\\ube44\\uace0\", \"\\uc5c5\\ubb34\", \"\\ud604\\uc9c1\\uc790\\uc758\", \"\\ud568\\uaed8\", \"\\uc9c1\\ubb34\", \"\\uacfc\\uc81c\", \"\\uc5ed\\ub7c9\", \"11\", \"4\\uc8fc\\ucc28\", \"\\uc2ec\\uc0ac\", \"2\\uc8fc\\ucc28\", \"\\uc9c0\\uc6d0\\uc11c\", \"\\ud53c\\ub4dc\\ubc31\", \"\\uc791\\uc131\", \"\\ud504\\ub85c\\uadf8\\ub7a8\", \"\\ud504\\ub85c\\uc138\\uc2a4\", \"\\uc218\\ub9bd\", \"\\ubaa8\\uc758\", \"\\uc7ac\\ud559\\uc0dd\", \"\\ub300\\ud55c\", \"\\uac1c\\ub150\", \"\\uacfc\\uc81c\\uc2e0\\uaddc\", \"2021\", \"\\uacfc\\uc81c\\ub97c\", \"\\uae30\\ud68c\\ub97c\", \"\\ub300\\uc0c1\\uc73c\\ub85c\", \"\\ub300\\ud559\\uc801\\uc751\\uc758\", \"\\ub9c8\\uc8fc\\ud55c\", \"\\uc0c1\\ub2f4\\uc13c\\ud130\\uc5d0\", \"\\uc0c1\\ub2f4\\uc2e4\", \"\\uc18d\\uc5d0\\uc11c\", \"\\uc2ec\\ub9ac\\uac80\\uc0ac\", \"\\uc2ec\\uc2e0\\ud65c\\ub3d9\\uacfc\", \"\\uc5f4\\ub9b0\", \"\\uc624\\ud504\\ub77c\\uc778\", \"\\uc628\\ub77c\\uc778\", \"\\uc778\\uc2dd\\uc744\", \"\\uc7ac\\ud559\\uc0dd\\uc744\", \"\\uc81c\\uace0\\ud558\\uace0\\uc790\", \"\\uc81c\\uacf5\\ud558\\uace0\", \"\\ucf54\\ub85c\\ub098\\uc2dc\\ub300\", \"\\ud615\\ud0dc\\uc758\", \"\\ud559\\uc2b5\", \"httpscomentokredulearncampdetailg272\", \"\\uacf5\\ubc95\", \"\\uc54a\\ub294\", \"\\ubd80\\ubd84\", \"\\ud559\\uad50\\uc5d0\\uc120\", \"\\ud658\\uacbd\", \"\\uc790\\uae30\\uc18c\\uac1c\\uc11c\", \"\\ucee8\\uc124\\ud305\", \"\\uacf5\\uae30\\uc5c5\", \"\\uc878\\uc5c5\\uc0dd\\uc744\", \"\\uc77c\\ubc18\\uae30\\uc5c5\", \"\\uc704\\ud55c\", \"\\uc804\\ub7b5\", \"2021\", \"\\uacfc\\uc81c\\ub97c\", \"\\uae30\\ud68c\\ub97c\", \"\\ub300\\uc0c1\\uc73c\\ub85c\", \"\\ub300\\ud559\\uc801\\uc751\\uc758\", \"\\ub9c8\\uc8fc\\ud55c\", \"\\uc0c1\\ub2f4\\uc13c\\ud130\\uc5d0\", \"\\uc0c1\\ub2f4\\uc2e4\", \"\\uc18d\\uc5d0\\uc11c\", \"\\uc2ec\\ub9ac\\uac80\\uc0ac\", \"\\uc2ec\\uc2e0\\ud65c\\ub3d9\\uacfc\", \"\\uc5f4\\ub9b0\", \"\\uc624\\ud504\\ub77c\\uc778\", \"\\uc628\\ub77c\\uc778\", \"\\uc778\\uc2dd\\uc744\", \"\\uc7ac\\ud559\\uc0dd\\uc744\", \"\\uc81c\\uace0\\ud558\\uace0\\uc790\", \"\\uc81c\\uacf5\\ud558\\uace0\", \"\\ucf54\\ub85c\\ub098\\uc2dc\\ub300\", \"\\ud615\\ud0dc\\uc758\", \"\\ud559\\uc2b5\", \"httpscomentokredulearncampdetailg272\", \"\\uacf5\\ubc95\", \"97\", \"\\uac08\\ub4f1\\uc73c\\ub85c\", \"\\uae30\\uc219\\uc0acor\\uc790\\ucde8\\uc0dd\", \"\\ub059\\ub059\", \"\\ub418\\uc5b4\\uc918\", \"\\ub77c\\uc774\\ud504\\ucf54\\uce6d\", \"\\ub8f8\\uba54\\uc774\\ud2b8\\uc640\", \"\\ub9d0\\uace0\", \"\\ubabb\\ud560\", \"\\ubc29\\ubc95\\uc744\", \"\\ubc30\\uc6b8\", \"\\uc0c1\\ucf8c\", \"\\uc11c\\ub85c\\ub97c\", \"\\uc18c\\ud1b5\\ud558\\ub294\", \"\\uc18d\\uc2dc\\uc6d0\\ud788\", \"\\uc553\\uc9c0\", \"\\uc720\\ucf8c\", \"\\uc774\\ud574\\ud558\\uba70\", \"\\uc778\\uc0dd\\ub8f8\\uba54\\uac00\", \"\\uc9c0\\ub0b4\\uba74\\uc11c\", \"\\ud1b5\\ucf8c\\ud558\\uac8c\", \"\\ud568\\uaed8\", \"\\ud504\\ub85c\\uadf8\\ub7a8\"], \"Freq\": [5.0, 11.0, 2.0, 1.0, 1.0, 1.0, 4.0, 1.0, 1.0, 3.0, 3.0, 3.0, 3.0, 3.0, 3.0, 3.0, 3.0, 3.0, 0.0, 0.0, 0.0, 2.0, 4.0, 4.0, 4.0, 4.0, 4.0, 4.0, 4.0, 4.0, 3.660236523026997, 3.660236187736096, 3.6602361877153227, 3.660236187713855, 3.6602361877092733, 3.6602361877049137, 3.660236187702534, 3.6602361877004443, 3.660236187691281, 3.6602361876900478, 3.66023618768729, 3.660236187686465, 3.6602361876842626, 3.6602361876841862, 3.660236187683038, 3.6602361876825213, 3.660236187680544, 3.660236187678876, 3.6602361876715848, 3.660236187669783, 3.6602361876683176, 3.6602361876680463, 3.660236187667689, 3.660236187665259, 3.6602361876633536, 3.6602361876618383, 3.6602361876515808, 3.6602361876472664, 3.6602361876433327, 3.6602361876368947, 14.0071296885056, 20.904174080371348, 14.006470738685588, 7.109392663504561, 7.1093926634781095, 7.1093926634567595, 7.109392663419311, 7.972945602245272, 7.9719487561099625, 7.10904294337508, 7.109042943265259, 7.109042943250367, 7.109042943184895, 3.664415138559731, 10.676085615562666, 4.230130343109598, 3.4243981192561335, 3.4243981192561335, 3.4243981192561335, 3.4243981192561335, 3.4243981192561335, 3.4243981192561335, 3.4243981192561335, 3.4243981192561335, 3.4243981192561335, 2.6186549243438035, 1.8129115222187857, 1.812911510943635, 1.812911510943635, 1.812911510943635, 1.812911510943635, 1.812911510943635, 1.812911510943635, 1.812911510943635, 1.812911510943635, 1.812911510943635, 1.812911510943635, 1.812911510943635, 1.812911510943635, 1.812911510943635, 1.812911510943635, 1.812911510943635, 1.812911510943635, 1.812911510943635, 3.4250075800155164, 5.036519142457595, 2.618951352896512, 8.258738903224158, 6.6474793632679425, 3.424722285571745, 3.4247222855717405, 3.424436775408853, 3.424436775408786, 3.424436775408772, 3.4244367754086618, 3.4238912018094263, 2.6184601492229835, 2.617510680605354, 1.8131676873512403, 1.812968650683257, 1.8129160286294448, 1.812916028629426, 1.2006970964690562, 0.826562754812413, 0.8265627548123463, 0.46343058417387395, 0.46343058417387395, 0.46343058417387395, 0.46343058417387395, 0.46343058417387395, 0.46343058417387395, 0.46343058417387395, 0.46343058417387395, 0.46343058417387395, 0.46343058417387395, 0.46343058417387395, 0.46343058417387395, 0.46343058417387395, 0.46343058417387395, 0.46343058417387395, 0.46343058417387395, 0.46343058417387395, 0.46343058417387395, 0.46343058417387395, 0.46343058417387395, 0.4544561350834875, 0.45445613508346877, 0.45445613508345495, 0.4544561350834447, 0.45445613508342725, 0.454456135083425, 0.45445613508342264, 0.783642971591173, 0.783642971591173, 0.41486681924789687, 0.4148668192475826, 0.4148668192472685, 0.4150026086418481, 0.41497565740417935, 0.046100051560058246, 0.046100051560058246, 0.046100051560058246, 0.046100051560058246, 0.046100051560058246, 0.046100051560058246, 0.046100051560058246, 0.046100051560058246, 0.046100051560058246, 0.046100051560058246, 0.046100051560058246, 0.046100051560058246, 0.046100051560058246, 0.046100051560058246, 0.046100051560058246, 0.046100051560058246, 0.046100051560058246, 0.046100051560058246, 0.046100051560058246, 0.046100051560058246, 0.04609948889454227, 0.04609948889454227, 0.04609948889454227, 0.04610601362179376, 0.04610601362179376, 0.04610601362179376, 0.04610601362179376, 0.04610601362179376, 0.04610601362179376, 0.04610601362179376, 0.04610601362179376, 0.04610601362179376, 0.04610601362179376, 0.04610601362179376, 0.04610601362179376, 0.04610601362179376, 0.04610601362179376, 0.04610601362179376, 0.04610601362179376, 0.04610601362179376, 0.04610601362179376, 0.04610601362179376, 0.04610601362179376, 0.04610601362179376, 0.04610248749590297, 0.04610224335589968], \"Total\": [5.0, 11.0, 2.0, 1.0, 1.0, 1.0, 4.0, 1.0, 1.0, 3.0, 3.0, 3.0, 3.0, 3.0, 3.0, 3.0, 3.0, 3.0, 0.0, 0.0, 0.0, 2.0, 4.0, 4.0, 4.0, 4.0, 4.0, 4.0, 4.0, 4.0, 4.002189425594473, 4.0021892224311175, 4.002189222419277, 4.0021892224184406, 4.002189222415829, 4.002189222413343, 4.002189222411987, 4.002189222410796, 4.0021892224055735, 4.00218922240487, 4.002189222403298, 4.002189222402828, 4.002189222401573, 4.00218922240153, 4.002189222400875, 4.00218922240058, 4.002189222399454, 4.002189222398503, 4.002189222394347, 4.00218922239332, 4.002189222392484, 4.00218922239233, 4.0021892223921265, 4.002189222390742, 4.002189222389656, 4.002189222388791, 4.0021892223829445, 4.002189222380485, 4.002189222378243, 4.002189222374574, 17.57146049292238, 29.303344992097905, 20.794389598446738, 9.062481329604202, 9.06248132958913, 9.062481329576967, 9.06248132955563, 10.73072296298734, 10.730669610281822, 10.673944839601946, 10.673944839539407, 10.673944839530927, 10.673944839493645, 5.178654336871455, 11.030419296741146, 4.584468403826566, 3.778731962615274, 3.778731962615274, 3.778731962615274, 3.778731962615274, 3.778731962615274, 3.778731962615274, 3.778731962615274, 3.778731962615274, 3.778731962615274, 2.972988848804761, 2.167245605434897, 2.1672455920625886, 2.1672455920625886, 2.1672455920625886, 2.1672455920625886, 2.1672455920625886, 2.1672455920625886, 2.1672455920625886, 2.1672455920625886, 2.1672455920625886, 2.1672455920625886, 2.1672455920625886, 2.1672455920625886, 2.1672455920625886, 2.1672455920625886, 2.1672455920625886, 2.1672455920625886, 2.1672455920625886, 4.640856810092429, 8.836597241360128, 3.835123510175998, 29.303344992097905, 20.794389598446738, 7.225132825066395, 7.2251328250676226, 10.673944839493645, 10.673944839530927, 10.673944839539407, 10.673944839601946, 17.57146049292238, 10.730669610281822, 10.73072296298734, 3.029395200225894, 4.7537720903059, 5.613668797618644, 5.61366879763, 1.673637629091475, 1.3073706453638225, 1.3073706453639105, 0.9265169800584525, 0.9265169800584525, 0.9265169800584525, 0.9265169800584525, 0.9265169800584525, 0.9265169800584525, 0.9265169800584525, 0.9265169800584525, 0.9265169800584525, 0.9265169800584525, 0.9265169800584525, 0.9265169800584525, 0.9265169800584525, 0.9265169800584525, 0.9265169800584525, 0.9265169800584525, 0.9265169800584525, 0.9265169800584525, 0.9265169800584525, 0.9265169800584525, 0.938414652750636, 0.9384146527506609, 0.9384146527506789, 0.9384146527506925, 0.9384146527507158, 0.9384146527507187, 0.938414652750722, 1.2933277520223507, 1.2933277520223507, 0.9245525766003593, 0.9245525766014792, 0.924552576602599, 2.648410217669894, 5.178654336871455, 0.9265169800584525, 0.9265169800584525, 0.9265169800584525, 0.9265169800584525, 0.9265169800584525, 0.9265169800584525, 0.9265169800584525, 0.9265169800584525, 0.9265169800584525, 0.9265169800584525, 0.9265169800584525, 0.9265169800584525, 0.9265169800584525, 0.9265169800584525, 0.9265169800584525, 0.9265169800584525, 0.9265169800584525, 0.9265169800584525, 0.9265169800584525, 0.9265169800584525, 0.938414652750636, 0.9384146527506609, 0.9384146527506789, 1.3614622082774703, 1.3614622082774703, 1.3614622082774703, 1.3614622082774703, 1.3614622082774703, 1.3614622082774703, 1.3614622082774703, 1.3614622082774703, 1.3614622082774703, 1.3614622082774703, 1.3614622082774703, 1.3614622082774703, 1.3614622082774703, 1.3614622082774703, 1.3614622082774703, 1.3614622082774703, 1.3614622082774703, 1.3614622082774703, 1.3614622082774703, 1.3614622082774703, 1.3614622082774703, 3.835123510175998, 10.73072296298734], \"Category\": [\"Default\", \"Default\", \"Default\", \"Default\", \"Default\", \"Default\", \"Default\", \"Default\", \"Default\", \"Default\", \"Default\", \"Default\", \"Default\", \"Default\", \"Default\", \"Default\", \"Default\", \"Default\", \"Default\", \"Default\", \"Default\", \"Default\", \"Default\", \"Default\", \"Default\", \"Default\", \"Default\", \"Default\", \"Default\", \"Default\", \"Topic1\", \"Topic1\", \"Topic1\", \"Topic1\", \"Topic1\", \"Topic1\", \"Topic1\", \"Topic1\", \"Topic1\", \"Topic1\", \"Topic1\", \"Topic1\", \"Topic1\", \"Topic1\", \"Topic1\", \"Topic1\", \"Topic1\", \"Topic1\", \"Topic1\", \"Topic1\", \"Topic1\", \"Topic1\", \"Topic1\", \"Topic1\", \"Topic1\", \"Topic1\", \"Topic1\", \"Topic1\", \"Topic1\", \"Topic1\", \"Topic1\", \"Topic1\", \"Topic1\", \"Topic1\", \"Topic1\", \"Topic1\", \"Topic1\", \"Topic1\", \"Topic1\", \"Topic1\", \"Topic1\", \"Topic1\", \"Topic1\", \"Topic1\", \"Topic2\", \"Topic2\", \"Topic2\", \"Topic2\", \"Topic2\", \"Topic2\", \"Topic2\", \"Topic2\", \"Topic2\", \"Topic2\", \"Topic2\", \"Topic2\", \"Topic2\", \"Topic2\", \"Topic2\", \"Topic2\", \"Topic2\", \"Topic2\", \"Topic2\", \"Topic2\", \"Topic2\", \"Topic2\", \"Topic2\", \"Topic2\", \"Topic2\", \"Topic2\", \"Topic2\", \"Topic2\", \"Topic2\", \"Topic2\", \"Topic2\", \"Topic2\", \"Topic2\", \"Topic2\", \"Topic2\", \"Topic2\", \"Topic2\", \"Topic2\", \"Topic2\", \"Topic2\", \"Topic2\", \"Topic2\", \"Topic2\", \"Topic2\", \"Topic2\", \"Topic2\", \"Topic2\", \"Topic2\", \"Topic3\", \"Topic3\", \"Topic3\", \"Topic3\", \"Topic3\", \"Topic3\", \"Topic3\", \"Topic3\", \"Topic3\", \"Topic3\", \"Topic3\", \"Topic3\", \"Topic3\", \"Topic3\", \"Topic3\", \"Topic3\", \"Topic3\", \"Topic3\", \"Topic3\", \"Topic3\", \"Topic3\", \"Topic3\", \"Topic3\", \"Topic3\", \"Topic3\", \"Topic3\", \"Topic3\", \"Topic3\", \"Topic3\", \"Topic3\", \"Topic4\", \"Topic4\", \"Topic4\", \"Topic4\", \"Topic4\", \"Topic4\", \"Topic4\", \"Topic4\", \"Topic4\", \"Topic4\", \"Topic4\", \"Topic4\", \"Topic4\", \"Topic4\", \"Topic4\", \"Topic4\", \"Topic4\", \"Topic4\", \"Topic4\", \"Topic4\", \"Topic4\", \"Topic4\", \"Topic4\", \"Topic4\", \"Topic4\", \"Topic4\", \"Topic4\", \"Topic4\", \"Topic4\", \"Topic4\", \"Topic4\", \"Topic4\", \"Topic4\", \"Topic4\", \"Topic4\", \"Topic4\", \"Topic4\", \"Topic4\", \"Topic4\", \"Topic4\", \"Topic4\", \"Topic4\", \"Topic4\", \"Topic4\", \"Topic4\", \"Topic4\", \"Topic4\", \"Topic4\", \"Topic4\", \"Topic4\", \"Topic4\", \"Topic4\", \"Topic4\"], \"logprob\": [30.0, 29.0, 28.0, 27.0, 26.0, 25.0, 24.0, 23.0, 22.0, 21.0, 20.0, 19.0, 18.0, 17.0, 16.0, 15.0, 14.0, 13.0, 12.0, 11.0, 10.0, 9.0, 8.0, 7.0, 6.0, 5.0, 4.0, 3.0, 2.0, 1.0, -4.9711, -4.9711, -4.9711, -4.9711, -4.9711, -4.9711, -4.9711, -4.9711, -4.9711, -4.9711, -4.9711, -4.9711, -4.9711, -4.9711, -4.9711, -4.9711, -4.9711, -4.9711, -4.9711, -4.9711, -4.9711, -4.9711, -4.9711, -4.9711, -4.9711, -4.9711, -4.9711, -4.9711, -4.9711, -4.9711, -3.6291, -3.2287, -3.6291, -4.3072, -4.3072, -4.3072, -4.3072, -4.1926, -4.1927, -4.3073, -4.3073, -4.3073, -4.3073, -4.97, -3.4798, -4.4056, -4.6169, -4.6169, -4.6169, -4.6169, -4.6169, -4.6169, -4.6169, -4.6169, -4.6169, -4.8851, -5.2529, -5.2529, -5.2529, -5.2529, -5.2529, -5.2529, -5.2529, -5.2529, -5.2529, -5.2529, -5.2529, -5.2529, -5.2529, -5.2529, -5.2529, -5.2529, -5.2529, -5.2529, -4.6167, -4.2311, -4.885, -3.7365, -3.9535, -4.6168, -4.6168, -4.6168, -4.6168, -4.6168, -4.6168, -4.617, -4.8852, -4.8856, -5.2527, -5.2528, -5.2528, -5.2528, -3.6915, -4.0649, -4.0649, -4.6435, -4.6435, -4.6435, -4.6435, -4.6435, -4.6435, -4.6435, -4.6435, -4.6435, -4.6435, -4.6435, -4.6435, -4.6435, -4.6435, -4.6435, -4.6435, -4.6435, -4.6435, -4.6435, -4.6435, -4.663, -4.663, -4.663, -4.663, -4.663, -4.663, -4.663, -3.1683, -3.1683, -3.8043, -3.8043, -3.8043, -3.8039, -3.804, -6.0014, -6.0014, -6.0014, -6.0014, -6.0014, -6.0014, -6.0014, -6.0014, -6.0014, -6.0014, -6.0014, -6.0014, -6.0014, -6.0014, -6.0014, -6.0014, -6.0014, -6.0014, -6.0014, -6.0014, -6.0014, -6.0014, -6.0014, -6.0013, -6.0013, -6.0013, -6.0013, -6.0013, -6.0013, -6.0013, -6.0013, -6.0013, -6.0013, -6.0013, -6.0013, -6.0013, -6.0013, -6.0013, -6.0013, -6.0013, -6.0013, -6.0013, -6.0013, -6.0013, -6.0014, -6.0014], \"loglift\": [30.0, 29.0, 28.0, 27.0, 26.0, 25.0, 24.0, 23.0, 22.0, 21.0, 20.0, 19.0, 18.0, 17.0, 16.0, 15.0, 14.0, 13.0, 12.0, 11.0, 10.0, 9.0, 8.0, 7.0, 6.0, 5.0, 4.0, 3.0, 2.0, 1.0, 0.489, 0.489, 0.489, 0.489, 0.489, 0.489, 0.489, 0.489, 0.489, 0.489, 0.489, 0.489, 0.489, 0.489, 0.489, 0.489, 0.489, 0.489, 0.489, 0.489, 0.489, 0.489, 0.489, 0.489, 0.489, 0.489, 0.489, 0.489, 0.489, 0.489, 0.3516, 0.2406, 0.1831, 0.3356, 0.3356, 0.3356, 0.3356, 0.2813, 0.2811, 0.1719, 0.1719, 0.1719, 0.1719, 0.2324, 0.9665, 0.9187, 0.9007, 0.9007, 0.9007, 0.9007, 0.9007, 0.9007, 0.9007, 0.9007, 0.9007, 0.8723, 0.8206, 0.8206, 0.8206, 0.8206, 0.8206, 0.8206, 0.8206, 0.8206, 0.8206, 0.8206, 0.8206, 0.8206, 0.8206, 0.8206, 0.8206, 0.8206, 0.8206, 0.8206, 0.6954, 0.437, 0.6177, -0.2673, -0.1413, 0.2526, 0.2526, -0.1377, -0.1377, -0.1377, -0.1377, -0.6363, -0.4114, -0.4117, 0.4859, 0.0352, -0.1311, -0.1311, 2.6405, 2.5141, 2.5141, 2.2798, 2.2798, 2.2798, 2.2798, 2.2798, 2.2798, 2.2798, 2.2798, 2.2798, 2.2798, 2.2798, 2.2798, 2.2798, 2.2798, 2.2798, 2.2798, 2.2798, 2.2798, 2.2798, 2.2798, 2.2475, 2.2475, 2.2475, 2.2475, 2.2475, 2.2475, 2.2475, 3.4215, 3.4215, 3.1211, 3.1211, 3.1211, 2.069, 1.3984, 0.9219, 0.9219, 0.9219, 0.9219, 0.9219, 0.9219, 0.9219, 0.9219, 0.9219, 0.9219, 0.9219, 0.9219, 0.9219, 0.9219, 0.9219, 0.9219, 0.9219, 0.9219, 0.9219, 0.9219, 0.9091, 0.9091, 0.9091, 0.5371, 0.5371, 0.5371, 0.5371, 0.5371, 0.5371, 0.5371, 0.5371, 0.5371, 0.5371, 0.5371, 0.5371, 0.5371, 0.5371, 0.5371, 0.5371, 0.5371, 0.5371, 0.5371, 0.5371, 0.5371, -0.4986, -1.5275]}, \"token.table\": {\"Topic\": [1, 1, 2, 1, 1, 1, 1, 2, 2, 1, 2, 2, 1, 2, 1, 1, 2, 1, 2, 2, 2, 2, 2, 2, 2, 1, 2, 2, 1, 1, 1, 2, 1, 3, 1, 2, 1, 3, 2, 2, 1, 2, 2, 3, 2, 2, 2, 2, 2, 2, 1, 1, 2, 2, 2, 1, 2, 2, 2, 2, 2, 1, 1, 2, 1, 2, 2, 2, 2, 2, 1, 2, 1, 2, 1, 2, 1, 2, 1, 2, 2, 1, 2, 1, 1, 2, 1, 2, 1, 1, 2, 2, 2, 2, 4, 1, 2, 1, 2, 1, 2, 1, 2, 1, 1, 1, 2, 1, 2, 1, 2, 1, 2, 1, 1, 4, 2, 1, 1, 1, 2, 1, 2, 1, 2, 2, 2, 1, 2, 2, 2, 1, 1, 1, 2, 2], \"Freq\": [0.9994529937788614, 0.5536230401359524, 0.41521728010196435, 0.9994529937765742, 0.9994529937883494, 0.9994529937814445, 0.9994529937762355, 0.9228303461891371, 0.9228303461891371, 0.7724153844217362, 0.2206901098347818, 0.9228303461891371, 0.6558025271097483, 0.28105822590417784, 0.9994529937747536, 0.7724153844206996, 0.2206901098344856, 0.6558025271125599, 0.2810582259053828, 0.9228303461891371, 0.9228303461891371, 0.9228303461891371, 0.9228303461891371, 0.9228303461891371, 0.9228303461891371, 0.9994529937794228, 0.7345044129173484, 1.009085520521242, 0.9994529937799416, 0.9994529937749626, 0.9994529937791748, 0.7345044129173484, 0.9994529937874285, 0.7648940287486066, 0.6732585216661395, 0.33662926083306977, 0.9994529937818797, 0.7648940287485552, 0.9228303461891371, 0.7345044129173484, 0.9994529937717969, 0.7345044129173484, 0.9228303461891371, 0.597500906180536, 0.9228303461891371, 0.7345044129173484, 0.7345044129173484, 0.7345044129173484, 0.9228303461891371, 0.7345044129173484, 0.9994529937838269, 0.7125464903980133, 0.35627324519900666, 0.7345044129173484, 0.9228303461891371, 0.9994529937844411, 0.7939171207908827, 0.9228303461891371, 0.7345044129173484, 0.9228303461891371, 0.7345044129173484, 0.9994529430365111, 0.9994529937791857, 0.9228303461891371, 0.9994529937797041, 0.7345044129173484, 0.7345044129173484, 0.7939171207908827, 0.7345044129173484, 0.7345044129173484, 0.631077793173495, 0.42071852878233, 0.9994529937812358, 0.7939171207908827, 0.9994529937781759, 0.7939171207908827, 0.6558025271102693, 0.2810582259044011, 0.7724153844194149, 0.22069010983411855, 0.7345044129173484, 0.21547745188459794, 0.6464323556537938, 0.9994529937783515, 0.5536230401360465, 0.4152172801020349, 0.7551700211153944, 0.7345044129173484, 0.9994529937793492, 0.7724153844235547, 0.22069010983530135, 0.7345044129173484, 0.7345044129173484, 0.8725111938084856, 0.7731992129886025, 0.7455266344548179, 0.2795724879205567, 0.7125464903965719, 0.35627324519828596, 0.7724014270503508, 0.1931003567625877, 0.9994529937850009, 0.9228303404951022, 0.9994529937859171, 0.9994529937815338, 0.9994529937823667, 0.7345044129173484, 0.6558025271059059, 0.2810582259025311, 0.7166417351214672, 0.27300637528436844, 0.9994529937821509, 0.7939171207908827, 0.9994529937768716, 0.9994529937961844, 0.7731992129886025, 0.7345044129173484, 0.9994529937756147, 0.9994529937814831, 0.7455229277275899, 0.27957109789784623, 0.3300988923219501, 0.6601977846439002, 0.7967465200538719, 0.17073139715440114, 0.7939171207908827, 0.7939171207908827, 0.26074779530480074, 0.7822433859144021, 0.997242235682724, 0.7939171207908827, 0.9994529937787441, 0.9994529937809794, 0.45266293016929676, 0.565828662711621, 0.7939171207908827], \"Term\": [\"1029\\uc77c\\uae4c\\uc9c0\", \"11\", \"11\", \"111\\uc218\\uc9c0\\uc6d0\\uc11c\", \"113\\uae08\", \"116\\uc6d4\", \"1210\\uc218\\uae4c\\uc9c0\", \"16\\uba85\", \"1\\ubc18\\uc5d0\", \"1\\uc8fc\\ucc28\", \"1\\uc8fc\\ucc28\", \"2\\uac1c\\ubc18\", \"2\\uc8fc\\ucc28\", \"2\\uc8fc\\ucc28\", \"3\\uac1c\\uc6d4\", \"3\\uc8fc\\ucc28\", \"3\\uc8fc\\ucc28\", \"4\\uc8fc\\ucc28\", \"4\\uc8fc\\ucc28\", \"611\\uc77c\\uae4c\\uc9c0\", \"626\\uc6d4\", \"628\\uc218\", \"73\\uc6d4\", \"87\\uc6d4\\uae4c\\uc9c0\", \"8\\uba85\\uc73c\\ub85c\", \"8\\uba85\\uc9c0\\uc6d0\\uc790\\uc758\", \"97\", \"b2b\", \"hufsability\", \"qa\", \"qr\\ucf54\\ub4dc\", \"\\uac08\\ub4f1\\uc73c\\ub85c\", \"\\uac15\\uc758\", \"\\uac1c\\ub150\", \"\\uacfc\\uc81c\", \"\\uacfc\\uc81c\", \"\\uacfc\\uc81c\\ubc1c\\ud45c\", \"\\uacfc\\uc81c\\uc2e0\\uaddc\", \"\\uae30\\ub300\\ud6a8\\uacfc\", \"\\uae30\\uc219\\uc0acor\\uc790\\ucde8\\uc0dd\", \"\\uae30\\ud68c\", \"\\ub059\\ub059\", \"\\ub300\\ube44\", \"\\ub300\\ud55c\", \"\\ub3d9\\uc548\", \"\\ub418\\uc5b4\\uc918\", \"\\ub77c\\uc774\\ud504\\ucf54\\uce6d\", \"\\ub8f8\\uba54\\uc774\\ud2b8\\uc640\", \"\\ub9ce\\uc740\", \"\\ub9d0\\uace0\", \"\\uba58\\ud1a0\\ub9c1\\uc744\", \"\\ubaa8\\uc758\", \"\\ubaa8\\uc758\", \"\\ubabb\\ud560\", \"\\ubc14\\ub78d\\ub2c8\\ub2e4\", \"\\ubc1b\\uc73c\\uba70\", \"\\ubc1b\\uc744\", \"\\ubc29\\ubc95\", \"\\ubc29\\ubc95\\uc744\", \"\\ubc29\\ud559\", \"\\ubc30\\uc6b8\", \"\\ubcf4\\uace0\", \"\\ubd80\\ud2b8\\ucea0\\ud504\\ub97c\", \"\\ube44\\uace0\", \"\\ube44\\uad50\\uacfc\", \"\\uc0c1\\ucf8c\", \"\\uc11c\\ub85c\\ub97c\", \"\\uc18c\\uac1c\", \"\\uc18c\\ud1b5\\ud558\\ub294\", \"\\uc18d\\uc2dc\\uc6d0\\ud788\", \"\\uc218\\ub9bd\", \"\\uc218\\ub9bd\", \"\\uc218\\ud589\", \"\\uc218\\ud589\\uc5d0\", \"\\uc218\\ud589\\ud558\\ub294\", \"\\uc218\\ud589\\ud558\\uba70\", \"\\uc2ec\\uc0ac\", \"\\uc2ec\\uc0ac\", \"\\uc544\\ub798\", \"\\uc544\\ub798\", \"\\uc553\\uc9c0\", \"\\uc5c5\\ubb34\", \"\\uc5c5\\ubb34\", \"\\uc5d0\\uc13c\\uc2a4\", \"\\uc5ed\\ub7c9\", \"\\uc5ed\\ub7c9\", \"\\uc704\\ud55c\", \"\\uc720\\ucf8c\", \"\\uc774\\uc6a9\", \"\\uc774\\uc6a9\\ud558\\uc5ec\", \"\\uc774\\uc6a9\\ud558\\uc5ec\", \"\\uc774\\ud574\\ud558\\uba70\", \"\\uc778\\uc0dd\\ub8f8\\uba54\\uac00\", \"\\uc788\\uc2b5\\ub2c8\\ub2e4\", \"\\uc790\\uae30\\uc18c\\uac1c\\uc11c\", \"\\uc791\\uc131\", \"\\uc791\\uc131\", \"\\uc7ac\\ud559\\uc0dd\", \"\\uc7ac\\ud559\\uc0dd\", \"\\uc804\\ub7b5\", \"\\uc804\\ub7b5\", \"\\uc81c\\uacf5\", \"\\uc81c\\uc870\\uc5c5\", \"\\uc81c\\ucd9c\", \"\\uc81c\\ud55c\", \"\\uc911\\ub3c4\", \"\\uc9c0\\ub0b4\\uba74\\uc11c\", \"\\uc9c0\\uc6d0\\uc11c\", \"\\uc9c0\\uc6d0\\uc11c\", \"\\uc9c1\\ubb34\", \"\\uc9c1\\ubb34\", \"\\uc9c1\\ubb34\\ub97c\", \"\\ucde8\\uc5c5\\uc744\", \"\\ucea0\\ud37c\\uc2a4\", \"\\ucee4\\ub9ac\\ud058\\ub7fc\", \"\\ucee8\\uc124\\ud305\", \"\\ud1b5\\ucf8c\\ud558\\uac8c\", \"\\ud3ec\\uae30\", \"\\ud3ec\\uc2a4\\ud130\\uc758\", \"\\ud504\\ub85c\\uadf8\\ub7a8\", \"\\ud504\\ub85c\\uadf8\\ub7a8\", \"\\ud504\\ub85c\\uc138\\uc2a4\", \"\\ud504\\ub85c\\uc138\\uc2a4\", \"\\ud53c\\ub4dc\\ubc31\", \"\\ud53c\\ub4dc\\ubc31\", \"\\ud53c\\ub4dc\\ubc31\\uc744\", \"\\ud544\\uc694\\ud55c\", \"\\ud568\\uaed8\", \"\\ud568\\uaed8\", \"\\ud574\\uc678\\uc601\\uc5c5\", \"\\ud574\\uc678\\uc601\\uc5c5\\ubd80\\uc11c\", \"\\ud604\\uc5c5\", \"\\ud604\\uc9c1\\uc790\", \"\\ud604\\uc9c1\\uc790\\uc758\", \"\\ud604\\uc9c1\\uc790\\uc758\", \"\\ud76c\\ub9dd\\ud558\\ub294\"]}, \"R\": 30, \"lambda.step\": 0.01, \"plot.opts\": {\"xlab\": \"PC1\", \"ylab\": \"PC2\"}, \"topic.order\": [1, 4, 2, 3]};\n",
              "\n",
              "function LDAvis_load_lib(url, callback){\n",
              "  var s = document.createElement('script');\n",
              "  s.src = url;\n",
              "  s.async = true;\n",
              "  s.onreadystatechange = s.onload = callback;\n",
              "  s.onerror = function(){console.warn(\"failed to load library \" + url);};\n",
              "  document.getElementsByTagName(\"head\")[0].appendChild(s);\n",
              "}\n",
              "\n",
              "if(typeof(LDAvis) !== \"undefined\"){\n",
              "   // already loaded: just create the visualization\n",
              "   !function(LDAvis){\n",
              "       new LDAvis(\"#\" + \"ldavis_el5171356902776472161737445363\", ldavis_el5171356902776472161737445363_data);\n",
              "   }(LDAvis);\n",
              "}else if(typeof define === \"function\" && define.amd){\n",
              "   // require.js is available: use it to load d3/LDAvis\n",
              "   require.config({paths: {d3: \"https://d3js.org/d3.v5\"}});\n",
              "   require([\"d3\"], function(d3){\n",
              "      window.d3 = d3;\n",
              "      LDAvis_load_lib(\"https://cdn.jsdelivr.net/gh/bmabey/pyLDAvis@3.4.0/pyLDAvis/js/ldavis.v3.0.0.js\", function(){\n",
              "        new LDAvis(\"#\" + \"ldavis_el5171356902776472161737445363\", ldavis_el5171356902776472161737445363_data);\n",
              "      });\n",
              "    });\n",
              "}else{\n",
              "    // require.js not available: dynamically load d3 & LDAvis\n",
              "    LDAvis_load_lib(\"https://d3js.org/d3.v5.js\", function(){\n",
              "         LDAvis_load_lib(\"https://cdn.jsdelivr.net/gh/bmabey/pyLDAvis@3.4.0/pyLDAvis/js/ldavis.v3.0.0.js\", function(){\n",
              "                 new LDAvis(\"#\" + \"ldavis_el5171356902776472161737445363\", ldavis_el5171356902776472161737445363_data);\n",
              "            })\n",
              "         });\n",
              "}\n",
              "</script>"
            ]
          },
          "metadata": {},
          "execution_count": 49
        }
      ]
    },
    {
      "cell_type": "markdown",
      "source": [
        "#### 목표와 프로그램에 가중치를 더 준 경우"
      ],
      "metadata": {
        "id": "zAc5072mPlf8"
      }
    },
    {
      "cell_type": "code",
      "source": [
        "workshop['soup'] = workshop.apply(create_soup, weight = [1,0,2,1], axis=1)\n",
        "count = CountVectorizer()\n",
        "count_matrix = count.fit_transform(workshop['soup'])\n",
        "indices = pd.Series(workshop.index, index=workshop['프로그램명'])\n",
        "# cosine 유사도 구하기\n",
        "cosine_sim2 = cosine_similarity(count_matrix, count_matrix)"
      ],
      "metadata": {
        "id": "1zKvW_dnPwj5",
        "colab": {
          "base_uri": "https://localhost:8080/"
        },
        "outputId": "2be13193-1126-4890-d238-a39ffc6122a4"
      },
      "execution_count": 50,
      "outputs": [
        {
          "output_type": "stream",
          "name": "stderr",
          "text": [
            "/usr/local/lib/python3.10/dist-packages/ipykernel/ipkernel.py:283: DeprecationWarning:\n",
            "\n",
            "`should_run_async` will not call `transform_cell` automatically in the future. Please pass the result to `transformed_cell` argument and any exception that happen during thetransform in `preprocessing_exc_tuple` in IPython 7.17 and above.\n",
            "\n"
          ]
        }
      ]
    },
    {
      "cell_type": "code",
      "source": [
        "target = workshop.iloc[20]\n",
        "\n",
        "print('프로그램명 : ',target['프로그램명'])\n",
        "print('추천 목록: ')\n",
        "recom_df = get_recommendations(workshop, indices, target['프로그램명'], cosine_sim2)\n",
        "print(recom_df['프로그램명'])"
      ],
      "metadata": {
        "id": "sP7QMNWcPzBF",
        "colab": {
          "base_uri": "https://localhost:8080/"
        },
        "outputId": "50a8b498-fb97-473e-93ca-ac4fe39d9ea1"
      },
      "execution_count": 51,
      "outputs": [
        {
          "output_type": "stream",
          "name": "stdout",
          "text": [
            "프로그램명 :  직무 부트캠프GMP 전체를 보는 눈과 핵심 개념으로 제약공장 품질QAQC업무알기\n",
            "추천 목록: \n",
            "21      직무 부트캠프이것이 찐현실 콘텐츠 마케팅 실무 5주 완성 병아리 콘텐츠 마케터 캠프\n",
            "22                직무 부트캠프GMP환경 학교에선 알려주지 않는 환경 실무 이해하기\n",
            "24         직무 부트캠프10년차 현직 PD와 함께 방송 영상 콘텐츠 기획제작연출 이해하기\n",
            "23            직무 부트캠프무역 프로세스 완벽 이해하기  서류 작성부터 클레임 대처까지\n",
            "165                 하계방학 대비 해외영업 직무 부트캠프해외영업 시장분석 전략수립\n",
            "166              하계방학 대비 해외영업 직무 부트캠프제조업 B2B 해외영업 프로세스\n",
            "1335                                        면접을 부탁해930\n",
            "1114                         졸업생을 위한 일반기업 자기소개서 전략 컨설팅\n",
            "1115                          졸업생을 위한 공기업 자기소개서 전략 컨설팅\n",
            "1370                  2021 선배를 JOB아라 연장공고 89일까지 신청서 마감\n",
            "Name: 프로그램명, dtype: object\n"
          ]
        },
        {
          "output_type": "stream",
          "name": "stderr",
          "text": [
            "/usr/local/lib/python3.10/dist-packages/ipykernel/ipkernel.py:283: DeprecationWarning:\n",
            "\n",
            "`should_run_async` will not call `transform_cell` automatically in the future. Please pass the result to `transformed_cell` argument and any exception that happen during thetransform in `preprocessing_exc_tuple` in IPython 7.17 and above.\n",
            "\n"
          ]
        }
      ]
    },
    {
      "cell_type": "code",
      "source": [
        "LDA_result = LDA(recom_df, topic_num = 4)\n",
        "table_header, table_cells = get_topic(LDA_result)\n",
        "create_dash_app(recom_df, workshop, table_header, table_cells)"
      ],
      "metadata": {
        "id": "FoXKEE4TXZOQ",
        "colab": {
          "base_uri": "https://localhost:8080/",
          "height": 781
        },
        "outputId": "eb0f9940-e754-493c-b544-9dd251c6c400"
      },
      "execution_count": 52,
      "outputs": [
        {
          "output_type": "stream",
          "name": "stderr",
          "text": [
            "/usr/local/lib/python3.10/dist-packages/ipykernel/ipkernel.py:283: DeprecationWarning:\n",
            "\n",
            "`should_run_async` will not call `transform_cell` automatically in the future. Please pass the result to `transformed_cell` argument and any exception that happen during thetransform in `preprocessing_exc_tuple` in IPython 7.17 and above.\n",
            "\n"
          ]
        },
        {
          "output_type": "display_data",
          "data": {
            "text/plain": [
              "<IPython.core.display.Javascript object>"
            ],
            "application/javascript": [
              "(async (port, path, width, height, cache, element) => {\n",
              "    if (!google.colab.kernel.accessAllowed && !cache) {\n",
              "      return;\n",
              "    }\n",
              "    element.appendChild(document.createTextNode(''));\n",
              "    const url = await google.colab.kernel.proxyPort(port, {cache});\n",
              "    const iframe = document.createElement('iframe');\n",
              "    iframe.src = new URL(path, url).toString();\n",
              "    iframe.height = height;\n",
              "    iframe.width = width;\n",
              "    iframe.style.border = 0;\n",
              "    iframe.allow = [\n",
              "        'accelerometer',\n",
              "        'autoplay',\n",
              "        'camera',\n",
              "        'clipboard-read',\n",
              "        'clipboard-write',\n",
              "        'gyroscope',\n",
              "        'magnetometer',\n",
              "        'microphone',\n",
              "        'serial',\n",
              "        'usb',\n",
              "        'xr-spatial-tracking',\n",
              "    ].join('; ');\n",
              "    element.appendChild(iframe);\n",
              "  })(8050, \"/\", \"100%\", 650, false, window.element)"
            ]
          },
          "metadata": {}
        },
        {
          "output_type": "execute_result",
          "data": {
            "text/plain": [
              "<dash.dash.Dash at 0x7b690c5d8c70>"
            ]
          },
          "metadata": {},
          "execution_count": 52
        }
      ]
    },
    {
      "cell_type": "code",
      "source": [
        "# LDA 토픽 모델링 결과를 시각화\n",
        "pyLDAvis.enable_notebook\n",
        "visualization = pyLDAvis.lda_model.prepare(LDA_result['lda'], LDA_result['recom_vec'], LDA_result['count_vectorizer'])\n",
        "pyLDAvis.display(visualization)"
      ],
      "metadata": {
        "id": "Nt0ruzUIXZOQ",
        "colab": {
          "base_uri": "https://localhost:8080/",
          "height": 953
        },
        "outputId": "c16b0c2a-00cb-48a4-e2ab-2311b2f6af9e"
      },
      "execution_count": 53,
      "outputs": [
        {
          "output_type": "stream",
          "name": "stderr",
          "text": [
            "/usr/local/lib/python3.10/dist-packages/ipykernel/ipkernel.py:283: DeprecationWarning:\n",
            "\n",
            "`should_run_async` will not call `transform_cell` automatically in the future. Please pass the result to `transformed_cell` argument and any exception that happen during thetransform in `preprocessing_exc_tuple` in IPython 7.17 and above.\n",
            "\n"
          ]
        },
        {
          "output_type": "execute_result",
          "data": {
            "text/plain": [
              "<IPython.core.display.HTML object>"
            ],
            "text/html": [
              "\n",
              "<link rel=\"stylesheet\" type=\"text/css\" href=\"https://cdn.jsdelivr.net/gh/bmabey/pyLDAvis@3.4.0/pyLDAvis/js/ldavis.v1.0.0.css\">\n",
              "\n",
              "\n",
              "<div id=\"ldavis_el5171356902505120641722227024\" style=\"background-color:white;\"></div>\n",
              "<script type=\"text/javascript\">\n",
              "\n",
              "var ldavis_el5171356902505120641722227024_data = {\"mdsDat\": {\"x\": [0.12851331326101093, -0.034850745554856156, -0.07348809881431503, -0.020174468891839725], \"y\": [-0.016149129697710218, 0.11111633603544493, -0.07562704647481587, -0.019340159862918944], \"topics\": [1, 2, 3, 4], \"cluster\": [1, 1, 1, 1], \"Freq\": [59.25248222954866, 36.8051931844317, 3.6856792435308128, 0.25664534248882803]}, \"tinfo\": {\"Term\": [\"\\ud574\\uc678\\uc601\\uc5c5\", \"\\ud504\\ub85c\\uadf8\\ub7a8\", \"\\uac15\\ud654\", \"\\ub9c8\\uac10\", \"\\uc2e0\\uccad\", \"\\uc81c\\ud55c\", \"\\uc81c\\ucd9c\", \"\\uc81c\\uacf5\", \"\\uacfc\\uc81c\\ubc1c\\ud45c\", \"8\\uba85\\uc9c0\\uc6d0\\uc790\\uc758\", \"\\uc774\\uc6a9\", \"qr\\ucf54\\ub4dc\", \"\\uae30\\ud68c\", \"\\ubd80\\ud2b8\\ucea0\\ud504\\ub97c\", \"\\uc9c1\\ubb34\\ub97c\", \"\\uc5d0\\uc13c\\uc2a4\", \"qa\", \"\\ube44\\uad50\\uacfc\", \"\\uc218\\ud589\\ud558\\ub294\", \"hufsability\", \"1029\\uc77c\\uae4c\\uc9c0\", \"\\uc911\\ub3c4\", \"\\uc218\\ud589\", \"\\ud3ec\\uc2a4\\ud130\\uc758\", \"\\ucea0\\ud37c\\uc2a4\", \"116\\uc6d4\", \"1210\\uc218\\uae4c\\uc9c0\", \"\\ud604\\uc9c1\\uc790\", \"\\ud604\\uc5c5\", \"\\uba58\\ud1a0\\ub9c1\\uc744\", \"\\ubcf4\\uace0\", \"1029\\uc77c\\uae4c\\uc9c0\", \"111\\uc218\\uc9c0\\uc6d0\\uc11c\", \"113\\uae08\", \"116\\uc6d4\", \"1210\\uc218\\uae4c\\uc9c0\", \"3\\uac1c\\uc6d4\", \"8\\uba85\\uc9c0\\uc6d0\\uc790\\uc758\", \"hufsability\", \"qa\", \"qr\\ucf54\\ub4dc\", \"\\uac15\\uc758\", \"\\uacfc\\uc81c\\ubc1c\\ud45c\", \"\\uae30\\ud68c\", \"\\uba58\\ud1a0\\ub9c1\\uc744\", \"\\ubc1b\\uc73c\\uba70\", \"\\ubd80\\ud2b8\\ucea0\\ud504\\ub97c\", \"\\ube44\\uad50\\uacfc\", \"\\uc218\\ud589\", \"\\uc218\\ud589\\ud558\\ub294\", \"\\uc5d0\\uc13c\\uc2a4\", \"\\uc774\\uc6a9\", \"\\uc81c\\uacf5\", \"\\uc81c\\ucd9c\", \"\\uc81c\\ud55c\", \"\\uc911\\ub3c4\", \"\\uc9c1\\ubb34\\ub97c\", \"\\ucea0\\ud37c\\uc2a4\", \"\\ucee4\\ub9ac\\ud058\\ub7fc\", \"\\ud3ec\\uae30\", \"\\ud53c\\ub4dc\\ubc31\", \"\\uc9c1\\ubb34\", \"\\ud504\\ub85c\\uadf8\\ub7a8\", \"\\uacfc\\uc81c\", \"1\\uc8fc\\ucc28\", \"3\\uc8fc\\ucc28\", \"\\uc544\\ub798\", \"\\uc774\\uc6a9\\ud558\\uc5ec\", \"\\uc791\\uc131\", \"2\\uc8fc\\ucc28\", \"4\\uc8fc\\ucc28\", \"\\uc2ec\\uc0ac\", \"\\uc9c0\\uc6d0\\uc11c\", \"\\uc804\\ub7b5\", \"\\uc5ed\\ub7c9\", \"\\ud574\\uc678\\uc601\\uc5c5\", \"\\ubc1b\\uc744\", \"\\uc18c\\uac1c\", \"\\uc218\\ud589\\uc5d0\", \"\\uc218\\ud589\\ud558\\uba70\", \"\\uc788\\uc2b5\\ub2c8\\ub2e4\", \"\\ucde8\\uc5c5\\uc744\", \"\\ud53c\\ub4dc\\ubc31\\uc744\", \"\\ud544\\uc694\\ud55c\", \"\\ud574\\uc678\\uc601\\uc5c5\\ubd80\\uc11c\", \"\\ud76c\\ub9dd\\ud558\\ub294\", \"\\uc790\\uae30\\uc18c\\uac1c\\uc11c\", \"\\ucee8\\uc124\\ud305\", \"b2b\", \"\\ub9c8\\ub828\", \"16\\uba85\", \"1\\ubc18\\uc5d0\", \"2\\uac1c\\ubc18\", \"611\\uc77c\\uae4c\\uc9c0\", \"626\\uc6d4\", \"628\\uc218\", \"73\\uc6d4\", \"87\\uc6d4\\uae4c\\uc9c0\", \"8\\uba85\\uc73c\\ub85c\", \"\\uae30\\ub300\\ud6a8\\uacfc\", \"\\ub300\\ube44\", \"\\ub3d9\\uc548\", \"\\ubc29\\ubc95\", \"\\ubc29\\ud559\", \"\\ube44\\uace0\", \"\\uc5c5\\ubb34\", \"\\ud604\\uc9c1\\uc790\\uc758\", \"\\uc5ed\\ub7c9\", \"\\uc9c1\\ubb34\", \"\\uacfc\\uc81c\", \"11\", \"2\\uc8fc\\ucc28\", \"4\\uc8fc\\ucc28\", \"\\uc2ec\\uc0ac\", \"\\uc9c0\\uc6d0\\uc11c\", \"\\uc804\\ub7b5\", \"\\ud53c\\ub4dc\\ubc31\", \"\\uc791\\uc131\", \"\\ud504\\ub85c\\uc138\\uc2a4\", \"\\ud568\\uaed8\", \"\\uc218\\ub9bd\", \"\\uc120\\ubc30\\ub97c\", \"\\uc5f0\\uc7a5\\uacf5\\uace0\", \"\\uc7a1\\uc544\\ub77c\", \"2021\", \"89\\uae4c\\uc9c0\", \"89\\uc77c\\uae4c\\uc9c0\", \"job\\uc544\\ub77c\", \"\\uac00\\ub2a5\\ud558\\ub2c8\", \"\\uac10\\uc0ac\\ud569\\ub2c8\\ub2e4\", \"\\uacf5\\uace0\", \"\\uae00\\ub85c\\ubc8c\", \"\\ubaa8\\ub450\", \"\\uc11c\\uc6b8\", \"\\uc2e0\\uccad\\uc11c\", \"\\uc5f0\\uc7a5\", \"\\uc785\\ub2c8\\ub2e4\", \"\\uc9c1\\uc5c5\", \"\\uc9c4\\ub85c\\ucde8\\uc5c5\\uc13c\\ud130\\uc785\\ub2c8\\ub2e4\", \"\\ucde8\\uc5c5\\uc5ed\\ub7c9\", \"\\ud0d0\\uc0c9\", \"\\ud559\\uc0dd\\ub4e4\", \"\\ud55c\\uad6d\\uc678\\ub300\", \"\\ud569\\ub2c8\\ub2e4\", \"\\ub9ce\\uc740\", \"\\ubc14\\ub78d\\ub2c8\\ub2e4\", \"\\uc2e0\\uccad\", \"\\uac15\\ud654\", \"\\ub9c8\\uac10\", \"\\uba74\\uc811\\uc744\", \"\\ubd80\\ud0c1\\ud574930\", \"\\ud504\\ub85c\\uadf8\\ub7a8\", \"2021\", \"89\\uae4c\\uc9c0\", \"89\\uc77c\\uae4c\\uc9c0\", \"job\\uc544\\ub77c\", \"\\uac00\\ub2a5\\ud558\\ub2c8\", \"\\uac10\\uc0ac\\ud569\\ub2c8\\ub2e4\", \"\\uacf5\\uace0\", \"\\uae00\\ub85c\\ubc8c\", \"\\ubaa8\\ub450\", \"\\uc11c\\uc6b8\", \"\\uc2e0\\uccad\\uc11c\", \"\\uc5f0\\uc7a5\", \"\\uc785\\ub2c8\\ub2e4\", \"\\uc9c1\\uc5c5\", \"\\uc9c4\\ub85c\\ucde8\\uc5c5\\uc13c\\ud130\\uc785\\ub2c8\\ub2e4\", \"\\ucde8\\uc5c5\\uc5ed\\ub7c9\", \"\\ud0d0\\uc0c9\", \"\\ud559\\uc0dd\\ub4e4\", \"\\ud55c\\uad6d\\uc678\\ub300\", \"\\ud569\\ub2c8\\ub2e4\", \"\\uc5f0\\uc7a5\\uacf5\\uace0\", \"\\uc7a1\\uc544\\ub77c\", \"\\uba74\\uc811\\uc744\", \"\\ubd80\\ud0c1\\ud574930\", \"\\uc778\\uc131\\uba74\\uc811\", \"\\ud568\\uc591\", \"marketing\", \"sensing\", \"\\uacbd\\uc7c1\\ub825\", \"\\uad6d\\uac00\", \"\\uc704\\ud55c\", \"\\uacf5\\uae30\\uc5c5\", \"\\uc878\\uc5c5\\uc0dd\\uc744\", \"\\uc77c\\ubc18\\uae30\\uc5c5\", \"\\uc790\\uae30\\uc18c\\uac1c\\uc11c\", \"\\ucee8\\uc124\\ud305\", \"\\uc804\\ub7b5\", \"\\uc5ed\\ub7c9\", \"\\uac15\\ud654\", \"\\ub9c8\\uac10\", \"\\uc2e0\\uccad\", \"\\ud504\\ub85c\\uadf8\\ub7a8\", \"\\ubd84\\uc11d\", \"\\ucee4\\ubba4\\ub2c8\\ucf00\\uc774\\uc158\", \"\\ud504\\ub85c\\uc138\\uc2a4\", \"\\uc5c5\\ubb34\", \"\\ud568\\uaed8\", \"0313304042\", \"5\\uc8fc\\ucc28\", \"head312hufsackr\", \"ot\", \"qr\", \"zoom\\uc73c\\ub85c\", \"\\ub300\\uc0c1\", \"\\ub429\\ub2c8\\ub2e4\", \"\\ub530\\ub77c\"], \"Freq\": [11.0, 10.0, 5.0, 5.0, 5.0, 3.0, 3.0, 3.0, 3.0, 3.0, 3.0, 3.0, 3.0, 3.0, 3.0, 3.0, 3.0, 3.0, 3.0, 3.0, 3.0, 3.0, 3.0, 3.0, 3.0, 3.0, 3.0, 3.0, 3.0, 3.0, 3.7068799082769006, 3.7068795381549284, 3.7068795381549284, 3.7068795381549284, 3.7068795381549284, 3.7068795381549284, 3.7068795381549284, 3.7068795381549284, 3.7068795381549284, 3.7068795381549284, 3.7068795381549284, 3.7068795381549284, 3.7068795381549284, 3.7068795381549284, 3.7068795381549284, 3.7068795381549284, 3.7068795381549284, 3.7068795381549284, 3.7068795381549284, 3.7068795381549284, 3.7068795381549284, 3.7068795381549284, 3.7068795381549284, 3.7068795381549284, 3.7068795381549284, 3.7068795381549284, 3.7068795381549284, 3.7068795381549284, 3.7068795381549284, 3.7068795381549284, 14.173924270554826, 21.151183420440354, 8.068660461748426, 14.173266765318537, 7.196015541759065, 7.196015541759065, 7.196015541759065, 7.196015541759065, 8.068123440454782, 7.195667214506753, 7.195667214506753, 7.195667214506753, 7.195667214506753, 3.7093100527783713, 3.707769628287708, 10.704896593995697, 3.4336381110303673, 3.4336381110303673, 3.4336381110303673, 3.4336381110303673, 3.4336381110303673, 3.4336381110303673, 3.4336381110303673, 3.4336381110303673, 3.4336381110303673, 3.4336381110303673, 3.4334413614716164, 3.4334413614716164, 2.6257202892944886, 1.8178023316781207, 1.8178022980940842, 1.8178022980940842, 1.8178022980940842, 1.8178022980940842, 1.8178022980940842, 1.8178022980940842, 1.8178022980940842, 1.8178022980940842, 1.8178022980940842, 1.8178022980940842, 1.8178022980940842, 1.8178022980940842, 1.8178022980940842, 1.8178022980940842, 1.8178022980940842, 3.4342874346789034, 5.050113096435044, 4.2406654639961285, 8.281091923784222, 6.665459763955001, 3.4339700481018682, 3.4336983233050615, 3.4336983233050615, 3.4336983233050615, 3.4336983233050615, 2.6233482603399025, 3.433180180444322, 2.6255546117730124, 1.8180787746192648, 1.8180555071754083, 1.8178863182736427, 0.9944364875275683, 0.6884546199713212, 0.6884546199713212, 0.38247243785886176, 0.38247243785886176, 0.38247243785886176, 0.38247243785886176, 0.38247243785886176, 0.38247243785886176, 0.38247243785886176, 0.38247243785886176, 0.38247243785886176, 0.38247243785886176, 0.38247243785886176, 0.38247243785886176, 0.38247243785886176, 0.38247243785886176, 0.38247243785886176, 0.38247243785886176, 0.38247243785886176, 0.38247243785886176, 0.38247243785886176, 0.38247243785886176, 0.3824875300000933, 0.3824875300000933, 0.3825276374378354, 0.38252763743783535, 0.38252763743783535, 0.07656195718580734, 0.07656195718580734, 0.38236530546807634, 0.0075376670063478125, 0.0075376670063478125, 0.0075376670063478125, 0.0075376670063478125, 0.0075376670063478125, 0.0075376670063478125, 0.0075376670063478125, 0.0075376670063478125, 0.0075376670063478125, 0.0075376670063478125, 0.0075376670063478125, 0.0075376670063478125, 0.0075376670063478125, 0.0075376670063478125, 0.0075376670063478125, 0.0075376670063478125, 0.0075376670063478125, 0.0075376670063478125, 0.0075376670063478125, 0.0075376670063478125, 0.007537631444269535, 0.007537631444269535, 0.0075466882868620005, 0.0075466882868620005, 0.0075466882868620005, 0.0075466882868620005, 0.007537588620396207, 0.007537588620396207, 0.007537588620396207, 0.007537588620396207, 0.0075422301467826195, 0.007541815355959555, 0.007541815354142207, 0.007541815352324859, 0.007541556950894779, 0.007541556950894779, 0.007540666858729263, 0.007539458961600427, 0.007538311765641829, 0.007538311765641829, 0.007538311765641829, 0.007538297114904929, 0.007538050240229808, 0.007538050240229746, 0.007538047187394382, 0.0075380325865694485, 0.0075380190748808515, 0.0075379610402511, 0.0075379610402511, 0.0075379610402511, 0.0075379610402511, 0.0075379610402511, 0.0075379610402511, 0.0075379610402511, 0.0075379610402511, 0.0075379610402511], \"Total\": [11.0, 10.0, 5.0, 5.0, 5.0, 3.0, 3.0, 3.0, 3.0, 3.0, 3.0, 3.0, 3.0, 3.0, 3.0, 3.0, 3.0, 3.0, 3.0, 3.0, 3.0, 3.0, 3.0, 3.0, 3.0, 3.0, 3.0, 3.0, 3.0, 3.0, 3.9928974343562564, 3.9928971667224626, 3.9928971667224626, 3.9928971667224626, 3.9928971667224626, 3.9928971667224626, 3.9928971667224626, 3.9928971667224626, 3.9928971667224626, 3.9928971667224626, 3.9928971667224626, 3.9928971667224626, 3.9928971667224626, 3.9928971667224626, 3.9928971667224626, 3.9928971667224626, 3.9928971667224626, 3.9928971667224626, 3.9928971667224626, 3.9928971667224626, 3.9928971667224626, 3.9928971667224626, 3.9928971667224626, 3.9928971667224626, 3.9928971667224626, 3.9928971667224626, 3.9928971667224626, 3.9928971667224626, 3.9928971667224626, 3.9928971667224626, 17.691142228644072, 29.51631303712191, 10.27600113160747, 20.922764249730356, 9.097593399780257, 9.097593399780257, 9.097593399780257, 9.097593399780257, 10.777715895578638, 10.71340336435772, 10.71340336435772, 10.71340336435772, 10.71340336435772, 6.416718349875943, 8.032485267712465, 11.00698516414182, 3.735726800016197, 3.735726800016197, 3.735726800016197, 3.735726800016197, 3.735726800016197, 3.735726800016197, 3.735726800016197, 3.735726800016197, 3.735726800016197, 3.735726800016197, 3.7355775291539572, 3.7355775291539572, 2.9278090453568577, 2.1198911883477782, 2.1198911634943127, 2.1198911634943127, 2.1198911634943127, 2.1198911634943127, 2.1198911634943127, 2.1198911634943127, 2.1198911634943127, 2.1198911634943127, 2.1198911634943127, 2.1198911634943127, 2.1198911634943127, 2.1198911634943127, 2.1198911634943127, 2.1198911634943127, 2.1198911634943127, 4.607867247539556, 8.840343350216058, 8.032485267712465, 29.51631303712191, 20.922764249730356, 7.224532550845215, 10.71340336435772, 10.71340336435772, 10.71340336435772, 10.71340336435772, 6.416718349875943, 17.691142228644072, 10.777715895578638, 2.992061256645082, 2.9920642648753657, 4.7365045715744225, 1.4220092109780704, 1.1160274616746273, 1.1160274616746273, 0.8100456283946059, 0.8100456283946059, 0.8100456283946059, 0.8100456283946059, 0.8100456283946059, 0.8100456283946059, 0.8100456283946059, 0.8100456283946059, 0.8100456283946059, 0.8100456283946059, 0.8100456283946059, 0.8100456283946059, 0.8100456283946059, 0.8100456283946059, 0.8100456283946059, 0.8100456283946059, 0.8100456283946059, 0.8100456283946059, 0.8100456283946059, 0.8100456283946059, 2.4258497651270745, 2.4258497651270745, 5.91461180318461, 5.91461180318461, 5.91461180318461, 1.3116343219954856, 1.3116343219954856, 10.27600113160747, 0.8100456283946059, 0.8100456283946059, 0.8100456283946059, 0.8100456283946059, 0.8100456283946059, 0.8100456283946059, 0.8100456283946059, 0.8100456283946059, 0.8100456283946059, 0.8100456283946059, 0.8100456283946059, 0.8100456283946059, 0.8100456283946059, 0.8100456283946059, 0.8100456283946059, 0.8100456283946059, 0.8100456283946059, 0.8100456283946059, 0.8100456283946059, 0.8100456283946059, 1.1160274616746273, 1.1160274616746273, 1.3116343219954856, 1.3116343219954856, 1.3116343219954856, 1.3116343219954856, 1.31197254972958, 1.31197254972958, 1.31197254972958, 1.31197254972958, 3.864267754857304, 2.119732797890909, 2.1197327978967246, 2.119732797902539, 3.7355775291539572, 3.7355775291539572, 6.416718349875943, 8.032485267712465, 5.91461180318461, 5.91461180318461, 5.91461180318461, 10.27600113160747, 2.184159235819667, 2.184159235819672, 2.992061256645082, 4.607867247539556, 2.9920642648753657, 5.608722077457662, 5.608722077457662, 5.608722077457662, 5.608722077457662, 5.608722077457662, 5.608722077457662, 5.608722077457662, 5.608722077457662, 5.608722077457662], \"Category\": [\"Default\", \"Default\", \"Default\", \"Default\", \"Default\", \"Default\", \"Default\", \"Default\", \"Default\", \"Default\", \"Default\", \"Default\", \"Default\", \"Default\", \"Default\", \"Default\", \"Default\", \"Default\", \"Default\", \"Default\", \"Default\", \"Default\", \"Default\", \"Default\", \"Default\", \"Default\", \"Default\", \"Default\", \"Default\", \"Default\", \"Topic1\", \"Topic1\", \"Topic1\", \"Topic1\", \"Topic1\", \"Topic1\", \"Topic1\", \"Topic1\", \"Topic1\", \"Topic1\", \"Topic1\", \"Topic1\", \"Topic1\", \"Topic1\", \"Topic1\", \"Topic1\", \"Topic1\", \"Topic1\", \"Topic1\", \"Topic1\", \"Topic1\", \"Topic1\", \"Topic1\", \"Topic1\", \"Topic1\", \"Topic1\", \"Topic1\", \"Topic1\", \"Topic1\", \"Topic1\", \"Topic1\", \"Topic1\", \"Topic1\", \"Topic1\", \"Topic1\", \"Topic1\", \"Topic1\", \"Topic1\", \"Topic1\", \"Topic1\", \"Topic1\", \"Topic1\", \"Topic1\", \"Topic1\", \"Topic1\", \"Topic2\", \"Topic2\", \"Topic2\", \"Topic2\", \"Topic2\", \"Topic2\", \"Topic2\", \"Topic2\", \"Topic2\", \"Topic2\", \"Topic2\", \"Topic2\", \"Topic2\", \"Topic2\", \"Topic2\", \"Topic2\", \"Topic2\", \"Topic2\", \"Topic2\", \"Topic2\", \"Topic2\", \"Topic2\", \"Topic2\", \"Topic2\", \"Topic2\", \"Topic2\", \"Topic2\", \"Topic2\", \"Topic2\", \"Topic2\", \"Topic2\", \"Topic2\", \"Topic2\", \"Topic2\", \"Topic2\", \"Topic2\", \"Topic2\", \"Topic2\", \"Topic2\", \"Topic2\", \"Topic2\", \"Topic2\", \"Topic2\", \"Topic2\", \"Topic2\", \"Topic2\", \"Topic3\", \"Topic3\", \"Topic3\", \"Topic3\", \"Topic3\", \"Topic3\", \"Topic3\", \"Topic3\", \"Topic3\", \"Topic3\", \"Topic3\", \"Topic3\", \"Topic3\", \"Topic3\", \"Topic3\", \"Topic3\", \"Topic3\", \"Topic3\", \"Topic3\", \"Topic3\", \"Topic3\", \"Topic3\", \"Topic3\", \"Topic3\", \"Topic3\", \"Topic3\", \"Topic3\", \"Topic3\", \"Topic3\", \"Topic3\", \"Topic3\", \"Topic4\", \"Topic4\", \"Topic4\", \"Topic4\", \"Topic4\", \"Topic4\", \"Topic4\", \"Topic4\", \"Topic4\", \"Topic4\", \"Topic4\", \"Topic4\", \"Topic4\", \"Topic4\", \"Topic4\", \"Topic4\", \"Topic4\", \"Topic4\", \"Topic4\", \"Topic4\", \"Topic4\", \"Topic4\", \"Topic4\", \"Topic4\", \"Topic4\", \"Topic4\", \"Topic4\", \"Topic4\", \"Topic4\", \"Topic4\", \"Topic4\", \"Topic4\", \"Topic4\", \"Topic4\", \"Topic4\", \"Topic4\", \"Topic4\", \"Topic4\", \"Topic4\", \"Topic4\", \"Topic4\", \"Topic4\", \"Topic4\", \"Topic4\", \"Topic4\", \"Topic4\", \"Topic4\", \"Topic4\", \"Topic4\", \"Topic4\", \"Topic4\", \"Topic4\", \"Topic4\", \"Topic4\", \"Topic4\", \"Topic4\"], \"logprob\": [30.0, 29.0, 28.0, 27.0, 26.0, 25.0, 24.0, 23.0, 22.0, 21.0, 20.0, 19.0, 18.0, 17.0, 16.0, 15.0, 14.0, 13.0, 12.0, 11.0, 10.0, 9.0, 8.0, 7.0, 6.0, 5.0, 4.0, 3.0, 2.0, 1.0, -5.0059, -5.0059, -5.0059, -5.0059, -5.0059, -5.0059, -5.0059, -5.0059, -5.0059, -5.0059, -5.0059, -5.0059, -5.0059, -5.0059, -5.0059, -5.0059, -5.0059, -5.0059, -5.0059, -5.0059, -5.0059, -5.0059, -5.0059, -5.0059, -5.0059, -5.0059, -5.0059, -5.0059, -5.0059, -5.0059, -3.6647, -3.2644, -4.2281, -3.6648, -4.3426, -4.3426, -4.3426, -4.3426, -4.2282, -4.3426, -4.3426, -4.3426, -4.3426, -5.0053, -5.0057, -3.4692, -4.6063, -4.6063, -4.6063, -4.6063, -4.6063, -4.6063, -4.6063, -4.6063, -4.6063, -4.6063, -4.6064, -4.6064, -4.8746, -5.2423, -5.2423, -5.2423, -5.2423, -5.2423, -5.2423, -5.2423, -5.2423, -5.2423, -5.2423, -5.2423, -5.2423, -5.2423, -5.2423, -5.2423, -5.2423, -4.6061, -4.2205, -4.3952, -3.726, -3.943, -4.6062, -4.6063, -4.6063, -4.6063, -4.6063, -4.8755, -4.6065, -4.8747, -5.2422, -5.2422, -5.2423, -3.5443, -3.9121, -3.9121, -4.4999, -4.4999, -4.4999, -4.4999, -4.4999, -4.4999, -4.4999, -4.4999, -4.4999, -4.4999, -4.4999, -4.4999, -4.4999, -4.4999, -4.4999, -4.4999, -4.4999, -4.4999, -4.4999, -4.4999, -4.4998, -4.4998, -4.4997, -4.4997, -4.4997, -6.1084, -6.1084, -4.5001, -5.7621, -5.7621, -5.7621, -5.7621, -5.7621, -5.7621, -5.7621, -5.7621, -5.7621, -5.7621, -5.7621, -5.7621, -5.7621, -5.7621, -5.7621, -5.7621, -5.7621, -5.7621, -5.7621, -5.7621, -5.7621, -5.7621, -5.7609, -5.7609, -5.7609, -5.7609, -5.7621, -5.7621, -5.7621, -5.7621, -5.7615, -5.7615, -5.7615, -5.7615, -5.7616, -5.7616, -5.7617, -5.7619, -5.762, -5.762, -5.762, -5.762, -5.762, -5.762, -5.762, -5.762, -5.762, -5.762, -5.762, -5.762, -5.762, -5.762, -5.762, -5.762, -5.762, -5.762], \"loglift\": [30.0, 29.0, 28.0, 27.0, 26.0, 25.0, 24.0, 23.0, 22.0, 21.0, 20.0, 19.0, 18.0, 17.0, 16.0, 15.0, 14.0, 13.0, 12.0, 11.0, 10.0, 9.0, 8.0, 7.0, 6.0, 5.0, 4.0, 3.0, 2.0, 1.0, 0.449, 0.449, 0.449, 0.449, 0.449, 0.449, 0.449, 0.449, 0.449, 0.449, 0.449, 0.449, 0.449, 0.449, 0.449, 0.449, 0.449, 0.449, 0.449, 0.449, 0.449, 0.449, 0.449, 0.449, 0.449, 0.449, 0.449, 0.449, 0.449, 0.449, 0.3017, 0.1901, 0.2815, 0.1339, 0.2889, 0.2889, 0.2889, 0.2889, 0.2338, 0.1253, 0.1253, 0.1253, 0.1253, -0.0247, -0.2497, 0.9717, 0.9152, 0.9152, 0.9152, 0.9152, 0.9152, 0.9152, 0.9152, 0.9152, 0.9152, 0.9152, 0.9152, 0.9152, 0.8906, 0.8458, 0.8458, 0.8458, 0.8458, 0.8458, 0.8458, 0.8458, 0.8458, 0.8458, 0.8458, 0.8458, 0.8458, 0.8458, 0.8458, 0.8458, 0.8458, 0.7056, 0.4396, 0.3608, -0.2714, -0.1444, 0.2558, -0.1383, -0.1383, -0.1383, -0.1383, 0.1051, -0.64, -0.4127, 0.5013, 0.5013, 0.0419, 2.9431, 2.8176, 2.8176, 2.5503, 2.5503, 2.5503, 2.5503, 2.5503, 2.5503, 2.5503, 2.5503, 2.5503, 2.5503, 2.5503, 2.5503, 2.5503, 2.5503, 2.5503, 2.5503, 2.5503, 2.5503, 2.5503, 2.5503, 1.4535, 1.4535, 0.5623, 0.5623, 0.5623, 0.4598, 0.4598, 0.0095, 1.2881, 1.2881, 1.2881, 1.2881, 1.2881, 1.2881, 1.2881, 1.2881, 1.2881, 1.2881, 1.2881, 1.2881, 1.2881, 1.2881, 1.2881, 1.2881, 1.2881, 1.2881, 1.2881, 1.2881, 0.9676, 0.9676, 0.8073, 0.8073, 0.8073, 0.8073, 0.8058, 0.8058, 0.8058, 0.8058, -0.2738, 0.3266, 0.3266, 0.3266, -0.24, -0.24, -0.7811, -1.0059, -0.7, -0.7, -0.7, -1.2523, 0.2962, 0.2962, -0.0185, -0.4503, -0.0185, -0.6469, -0.6469, -0.6469, -0.6469, -0.6469, -0.6469, -0.6469, -0.6469, -0.6469]}, \"token.table\": {\"Topic\": [1, 2, 1, 1, 2, 1, 1, 1, 1, 2, 2, 1, 2, 2, 1, 2, 1, 1, 2, 1, 2, 1, 2, 2, 2, 2, 2, 2, 2, 1, 2, 1, 2, 1, 2, 1, 2, 1, 1, 2, 1, 2, 1, 2, 1, 1, 2, 2, 2, 1, 2, 1, 2, 2, 1, 2, 1, 2, 2, 1, 2, 1, 2, 1, 2, 2, 2, 1, 2, 2, 1, 2, 2, 2, 1, 2, 1, 1, 2, 2, 1, 3, 2, 1, 2, 1, 2, 1, 2, 1, 2, 1, 2, 1, 2, 1, 2, 1, 1, 2, 3, 1, 2, 1, 1, 2, 2, 2, 2, 2, 1, 2, 3, 1, 2, 1, 1, 1, 2, 1, 1, 2, 1, 2, 1, 2, 1, 1, 1, 2, 2, 1, 1, 1, 2, 1, 2, 1, 2, 2, 2, 1, 2, 2, 2, 2, 1, 1, 1, 2, 2], \"Freq\": [0.7131749344608517, 0.35658746723042584, 1.0017788670684369, 0.553669039740437, 0.41525177980532774, 1.0017788670684369, 1.0017788670684369, 1.0017788670684369, 1.0017788670684369, 0.943444660952928, 0.943444660952928, 0.7694342550161758, 0.21983835857605025, 0.943444660952928, 0.6533871415024106, 0.28002306064389026, 1.0017788670684369, 0.7694342550161758, 0.21983835857605025, 0.6533871415024106, 0.28002306064389026, 0.7131749344608517, 0.35658746723042584, 0.943444660952928, 0.943444660952928, 0.943444660952928, 0.943444660952928, 0.943444660952928, 0.943444660952928, 1.0017788670684369, 1.024656988732796, 0.7131749344608517, 0.35658746723042584, 1.0017788670684369, 0.7622110692835129, 0.7131749344608517, 0.35658746723042584, 1.0017788670684369, 0.7131749344608517, 0.35658746723042584, 1.0017788670684369, 0.7622110692835129, 0.7131749344608517, 0.35658746723042584, 1.0017788670684369, 0.6762912145554973, 0.33814560727774867, 0.7622110692835129, 0.9435151458664788, 0.6691276464667151, 0.33456382323335754, 1.0017788670684369, 0.7622110692835129, 0.943444660952928, 1.0017788670684369, 0.943444660952928, 0.7131749344608517, 0.35658746723042584, 0.943444660952928, 0.7131749344608517, 0.35658746723042584, 0.7131749344608517, 0.35658746723042584, 0.6762912145554973, 0.33814560727774867, 0.9434446498920446, 0.8244533642400699, 1.0017788670684369, 0.762407618671206, 0.8244533642400699, 1.0017788670684369, 0.8030565832563005, 0.943444660952928, 0.943444660952928, 1.0017787999217387, 0.762407618671206, 1.0017788670684369, 0.4578420765300667, 0.4578420765300667, 0.943444660952928, 1.0017788670684369, 0.7032303252889559, 0.8030565832563005, 0.6333784660536693, 0.42225231070244623, 1.0017788670684369, 0.8030565832563005, 1.0017788670684369, 0.8030565832563005, 0.6762912145554973, 0.33814560727774867, 0.6533871415024106, 0.28002306064389026, 0.7694342550161758, 0.21983835857605025, 0.217020141049846, 0.6510604231495379, 1.0017788670684369, 0.49797788189895326, 0.49797788189895326, 0.8960352987187922, 0.5175624793302798, 0.5175624793302798, 1.0017788670684369, 0.7694342550161758, 0.21983835857605025, 0.762407618671206, 0.943515145861302, 0.8030565832563005, 0.8030886727920348, 0.7422723031029103, 0.27835211366359136, 0.8960352987187922, 0.6233716024137687, 0.4675287018103265, 1.0017788670684369, 1.0017788670684369, 1.0017788670684369, 0.9435151458638901, 1.0017788670684369, 0.6533871415024106, 0.28002306064389026, 0.7114709744943021, 0.2710365617121151, 1.0017788670684369, 0.8030565832563005, 1.0017788670684369, 1.0017788670684369, 0.45784207653006564, 0.45784207653006564, 0.8030886727920348, 1.0017788670684369, 1.0017788670684369, 0.7785129543624878, 0.19462823859062195, 0.33421775633072204, 0.6684355126614441, 0.7913564776689392, 0.16957638807191555, 0.8030565832563005, 0.8030565832563005, 0.3342174203071988, 0.6684348406143976, 0.762407618671206, 0.999365388066064, 0.8030565832563005, 1.0017788670684369, 1.0017788670684369, 0.45247111356848374, 0.5655888919606047, 0.8030565832563005], \"Term\": [\"0313304042\", \"0313304042\", \"1029\\uc77c\\uae4c\\uc9c0\", \"11\", \"11\", \"111\\uc218\\uc9c0\\uc6d0\\uc11c\", \"113\\uae08\", \"116\\uc6d4\", \"1210\\uc218\\uae4c\\uc9c0\", \"16\\uba85\", \"1\\ubc18\\uc5d0\", \"1\\uc8fc\\ucc28\", \"1\\uc8fc\\ucc28\", \"2\\uac1c\\ubc18\", \"2\\uc8fc\\ucc28\", \"2\\uc8fc\\ucc28\", \"3\\uac1c\\uc6d4\", \"3\\uc8fc\\ucc28\", \"3\\uc8fc\\ucc28\", \"4\\uc8fc\\ucc28\", \"4\\uc8fc\\ucc28\", \"5\\uc8fc\\ucc28\", \"5\\uc8fc\\ucc28\", \"611\\uc77c\\uae4c\\uc9c0\", \"626\\uc6d4\", \"628\\uc218\", \"73\\uc6d4\", \"87\\uc6d4\\uae4c\\uc9c0\", \"8\\uba85\\uc73c\\ub85c\", \"8\\uba85\\uc9c0\\uc6d0\\uc790\\uc758\", \"b2b\", \"head312hufsackr\", \"head312hufsackr\", \"hufsability\", \"marketing\", \"ot\", \"ot\", \"qa\", \"qr\", \"qr\", \"qr\\ucf54\\ub4dc\", \"sensing\", \"zoom\\uc73c\\ub85c\", \"zoom\\uc73c\\ub85c\", \"\\uac15\\uc758\", \"\\uac15\\ud654\", \"\\uac15\\ud654\", \"\\uacbd\\uc7c1\\ub825\", \"\\uacf5\\uae30\\uc5c5\", \"\\uacfc\\uc81c\", \"\\uacfc\\uc81c\", \"\\uacfc\\uc81c\\ubc1c\\ud45c\", \"\\uad6d\\uac00\", \"\\uae30\\ub300\\ud6a8\\uacfc\", \"\\uae30\\ud68c\", \"\\ub300\\ube44\", \"\\ub300\\uc0c1\", \"\\ub300\\uc0c1\", \"\\ub3d9\\uc548\", \"\\ub429\\ub2c8\\ub2e4\", \"\\ub429\\ub2c8\\ub2e4\", \"\\ub530\\ub77c\", \"\\ub530\\ub77c\", \"\\ub9c8\\uac10\", \"\\ub9c8\\uac10\", \"\\ub9c8\\ub828\", \"\\ub9ce\\uc740\", \"\\uba58\\ud1a0\\ub9c1\\uc744\", \"\\uba74\\uc811\\uc744\", \"\\ubc14\\ub78d\\ub2c8\\ub2e4\", \"\\ubc1b\\uc73c\\uba70\", \"\\ubc1b\\uc744\", \"\\ubc29\\ubc95\", \"\\ubc29\\ud559\", \"\\ubcf4\\uace0\", \"\\ubd80\\ud0c1\\ud574930\", \"\\ubd80\\ud2b8\\ucea0\\ud504\\ub97c\", \"\\ubd84\\uc11d\", \"\\ubd84\\uc11d\", \"\\ube44\\uace0\", \"\\ube44\\uad50\\uacfc\", \"\\uc120\\ubc30\\ub97c\", \"\\uc18c\\uac1c\", \"\\uc218\\ub9bd\", \"\\uc218\\ub9bd\", \"\\uc218\\ud589\", \"\\uc218\\ud589\\uc5d0\", \"\\uc218\\ud589\\ud558\\ub294\", \"\\uc218\\ud589\\ud558\\uba70\", \"\\uc2e0\\uccad\", \"\\uc2e0\\uccad\", \"\\uc2ec\\uc0ac\", \"\\uc2ec\\uc0ac\", \"\\uc544\\ub798\", \"\\uc544\\ub798\", \"\\uc5c5\\ubb34\", \"\\uc5c5\\ubb34\", \"\\uc5d0\\uc13c\\uc2a4\", \"\\uc5ed\\ub7c9\", \"\\uc5ed\\ub7c9\", \"\\uc5f0\\uc7a5\\uacf5\\uace0\", \"\\uc704\\ud55c\", \"\\uc704\\ud55c\", \"\\uc774\\uc6a9\", \"\\uc774\\uc6a9\\ud558\\uc5ec\", \"\\uc774\\uc6a9\\ud558\\uc5ec\", \"\\uc778\\uc131\\uba74\\uc811\", \"\\uc77c\\ubc18\\uae30\\uc5c5\", \"\\uc788\\uc2b5\\ub2c8\\ub2e4\", \"\\uc790\\uae30\\uc18c\\uac1c\\uc11c\", \"\\uc791\\uc131\", \"\\uc791\\uc131\", \"\\uc7a1\\uc544\\ub77c\", \"\\uc804\\ub7b5\", \"\\uc804\\ub7b5\", \"\\uc81c\\uacf5\", \"\\uc81c\\ucd9c\", \"\\uc81c\\ud55c\", \"\\uc878\\uc5c5\\uc0dd\\uc744\", \"\\uc911\\ub3c4\", \"\\uc9c0\\uc6d0\\uc11c\", \"\\uc9c0\\uc6d0\\uc11c\", \"\\uc9c1\\ubb34\", \"\\uc9c1\\ubb34\", \"\\uc9c1\\ubb34\\ub97c\", \"\\ucde8\\uc5c5\\uc744\", \"\\ucea0\\ud37c\\uc2a4\", \"\\ucee4\\ub9ac\\ud058\\ub7fc\", \"\\ucee4\\ubba4\\ub2c8\\ucf00\\uc774\\uc158\", \"\\ucee4\\ubba4\\ub2c8\\ucf00\\uc774\\uc158\", \"\\ucee8\\uc124\\ud305\", \"\\ud3ec\\uae30\", \"\\ud3ec\\uc2a4\\ud130\\uc758\", \"\\ud504\\ub85c\\uadf8\\ub7a8\", \"\\ud504\\ub85c\\uadf8\\ub7a8\", \"\\ud504\\ub85c\\uc138\\uc2a4\", \"\\ud504\\ub85c\\uc138\\uc2a4\", \"\\ud53c\\ub4dc\\ubc31\", \"\\ud53c\\ub4dc\\ubc31\", \"\\ud53c\\ub4dc\\ubc31\\uc744\", \"\\ud544\\uc694\\ud55c\", \"\\ud568\\uaed8\", \"\\ud568\\uaed8\", \"\\ud568\\uc591\", \"\\ud574\\uc678\\uc601\\uc5c5\", \"\\ud574\\uc678\\uc601\\uc5c5\\ubd80\\uc11c\", \"\\ud604\\uc5c5\", \"\\ud604\\uc9c1\\uc790\", \"\\ud604\\uc9c1\\uc790\\uc758\", \"\\ud604\\uc9c1\\uc790\\uc758\", \"\\ud76c\\ub9dd\\ud558\\ub294\"]}, \"R\": 30, \"lambda.step\": 0.01, \"plot.opts\": {\"xlab\": \"PC1\", \"ylab\": \"PC2\"}, \"topic.order\": [3, 4, 1, 2]};\n",
              "\n",
              "function LDAvis_load_lib(url, callback){\n",
              "  var s = document.createElement('script');\n",
              "  s.src = url;\n",
              "  s.async = true;\n",
              "  s.onreadystatechange = s.onload = callback;\n",
              "  s.onerror = function(){console.warn(\"failed to load library \" + url);};\n",
              "  document.getElementsByTagName(\"head\")[0].appendChild(s);\n",
              "}\n",
              "\n",
              "if(typeof(LDAvis) !== \"undefined\"){\n",
              "   // already loaded: just create the visualization\n",
              "   !function(LDAvis){\n",
              "       new LDAvis(\"#\" + \"ldavis_el5171356902505120641722227024\", ldavis_el5171356902505120641722227024_data);\n",
              "   }(LDAvis);\n",
              "}else if(typeof define === \"function\" && define.amd){\n",
              "   // require.js is available: use it to load d3/LDAvis\n",
              "   require.config({paths: {d3: \"https://d3js.org/d3.v5\"}});\n",
              "   require([\"d3\"], function(d3){\n",
              "      window.d3 = d3;\n",
              "      LDAvis_load_lib(\"https://cdn.jsdelivr.net/gh/bmabey/pyLDAvis@3.4.0/pyLDAvis/js/ldavis.v3.0.0.js\", function(){\n",
              "        new LDAvis(\"#\" + \"ldavis_el5171356902505120641722227024\", ldavis_el5171356902505120641722227024_data);\n",
              "      });\n",
              "    });\n",
              "}else{\n",
              "    // require.js not available: dynamically load d3 & LDAvis\n",
              "    LDAvis_load_lib(\"https://d3js.org/d3.v5.js\", function(){\n",
              "         LDAvis_load_lib(\"https://cdn.jsdelivr.net/gh/bmabey/pyLDAvis@3.4.0/pyLDAvis/js/ldavis.v3.0.0.js\", function(){\n",
              "                 new LDAvis(\"#\" + \"ldavis_el5171356902505120641722227024\", ldavis_el5171356902505120641722227024_data);\n",
              "            })\n",
              "         });\n",
              "}\n",
              "</script>"
            ]
          },
          "metadata": {},
          "execution_count": 53
        }
      ]
    },
    {
      "cell_type": "markdown",
      "source": [
        "#### 목표와 프로그램만 포함 시킨 경우"
      ],
      "metadata": {
        "id": "t5VEeIG7PqpQ"
      }
    },
    {
      "cell_type": "code",
      "source": [
        "workshop['soup'] = workshop.apply(create_soup, weight = [0,0,1,0], axis=1)\n",
        "count = CountVectorizer()\n",
        "count_matrix = count.fit_transform(workshop['soup'])\n",
        "indices = pd.Series(workshop.index, index=workshop['프로그램명'])\n",
        "# cosine 유사도 구하기\n",
        "cosine_sim2 = cosine_similarity(count_matrix, count_matrix)"
      ],
      "metadata": {
        "id": "alGuEfbLPxmw",
        "colab": {
          "base_uri": "https://localhost:8080/"
        },
        "outputId": "6a49d978-8450-476d-a762-b6308d66adfe"
      },
      "execution_count": 54,
      "outputs": [
        {
          "output_type": "stream",
          "name": "stderr",
          "text": [
            "/usr/local/lib/python3.10/dist-packages/ipykernel/ipkernel.py:283: DeprecationWarning:\n",
            "\n",
            "`should_run_async` will not call `transform_cell` automatically in the future. Please pass the result to `transformed_cell` argument and any exception that happen during thetransform in `preprocessing_exc_tuple` in IPython 7.17 and above.\n",
            "\n"
          ]
        }
      ]
    },
    {
      "cell_type": "code",
      "source": [
        "target = workshop.iloc[20]\n",
        "\n",
        "print('프로그램명 : ',target['프로그램명'])\n",
        "print('추천 목록: ')\n",
        "recom_df = get_recommendations(workshop, indices, target['프로그램명'], cosine_sim2)\n",
        "print(recom_df['프로그램명'])"
      ],
      "metadata": {
        "id": "WNBuet5KPzqe",
        "colab": {
          "base_uri": "https://localhost:8080/"
        },
        "outputId": "0381287c-fd8f-4511-e68f-8d2f9ef90811"
      },
      "execution_count": 55,
      "outputs": [
        {
          "output_type": "stream",
          "name": "stdout",
          "text": [
            "프로그램명 :  직무 부트캠프GMP 전체를 보는 눈과 핵심 개념으로 제약공장 품질QAQC업무알기\n",
            "추천 목록: \n",
            "21        직무 부트캠프이것이 찐현실 콘텐츠 마케팅 실무 5주 완성 병아리 콘텐츠 마케터 캠프\n",
            "22                  직무 부트캠프GMP환경 학교에선 알려주지 않는 환경 실무 이해하기\n",
            "24           직무 부트캠프10년차 현직 PD와 함께 방송 영상 콘텐츠 기획제작연출 이해하기\n",
            "23              직무 부트캠프무역 프로세스 완벽 이해하기  서류 작성부터 클레임 대처까지\n",
            "165                   하계방학 대비 해외영업 직무 부트캠프해외영업 시장분석 전략수립\n",
            "166                하계방학 대비 해외영업 직무 부트캠프제조업 B2B 해외영업 프로세스\n",
            "502                1220 해외영업무역 KT 졸업생을 위한 온라인 현직자 직무 클래스\n",
            "503    1228 인사교육HRD 네이버웹툰 Developer Relations 졸업생을 위한...\n",
            "504        1223 공사비영리 대한적십자사 국제협력 졸업생을 위한 온라인 현직자 직무 클래스\n",
            "505               1222 마케팅MD 쿠팡이츠 졸업생을 위한 온라인 현직자 직무 클래스\n",
            "Name: 프로그램명, dtype: object\n"
          ]
        },
        {
          "output_type": "stream",
          "name": "stderr",
          "text": [
            "/usr/local/lib/python3.10/dist-packages/ipykernel/ipkernel.py:283: DeprecationWarning:\n",
            "\n",
            "`should_run_async` will not call `transform_cell` automatically in the future. Please pass the result to `transformed_cell` argument and any exception that happen during thetransform in `preprocessing_exc_tuple` in IPython 7.17 and above.\n",
            "\n"
          ]
        }
      ]
    },
    {
      "cell_type": "code",
      "source": [
        "LDA_result = LDA(recom_df, topic_num = 4)\n",
        "table_header, table_cells = get_topic(LDA_result)\n",
        "create_dash_app(recom_df, workshop, table_header, table_cells)"
      ],
      "metadata": {
        "id": "IYQhZQrGXYwW",
        "colab": {
          "base_uri": "https://localhost:8080/",
          "height": 781
        },
        "outputId": "327e22f6-f21b-4c17-892b-b922f00d03d1"
      },
      "execution_count": 56,
      "outputs": [
        {
          "output_type": "stream",
          "name": "stderr",
          "text": [
            "/usr/local/lib/python3.10/dist-packages/ipykernel/ipkernel.py:283: DeprecationWarning:\n",
            "\n",
            "`should_run_async` will not call `transform_cell` automatically in the future. Please pass the result to `transformed_cell` argument and any exception that happen during thetransform in `preprocessing_exc_tuple` in IPython 7.17 and above.\n",
            "\n"
          ]
        },
        {
          "output_type": "display_data",
          "data": {
            "text/plain": [
              "<IPython.core.display.Javascript object>"
            ],
            "application/javascript": [
              "(async (port, path, width, height, cache, element) => {\n",
              "    if (!google.colab.kernel.accessAllowed && !cache) {\n",
              "      return;\n",
              "    }\n",
              "    element.appendChild(document.createTextNode(''));\n",
              "    const url = await google.colab.kernel.proxyPort(port, {cache});\n",
              "    const iframe = document.createElement('iframe');\n",
              "    iframe.src = new URL(path, url).toString();\n",
              "    iframe.height = height;\n",
              "    iframe.width = width;\n",
              "    iframe.style.border = 0;\n",
              "    iframe.allow = [\n",
              "        'accelerometer',\n",
              "        'autoplay',\n",
              "        'camera',\n",
              "        'clipboard-read',\n",
              "        'clipboard-write',\n",
              "        'gyroscope',\n",
              "        'magnetometer',\n",
              "        'microphone',\n",
              "        'serial',\n",
              "        'usb',\n",
              "        'xr-spatial-tracking',\n",
              "    ].join('; ');\n",
              "    element.appendChild(iframe);\n",
              "  })(8050, \"/\", \"100%\", 650, false, window.element)"
            ]
          },
          "metadata": {}
        },
        {
          "output_type": "execute_result",
          "data": {
            "text/plain": [
              "<dash.dash.Dash at 0x7b6917996110>"
            ]
          },
          "metadata": {},
          "execution_count": 56
        }
      ]
    },
    {
      "cell_type": "code",
      "source": [
        "# LDA 토픽 모델링 결과를 시각화\n",
        "pyLDAvis.enable_notebook\n",
        "visualization = pyLDAvis.lda_model.prepare(LDA_result['lda'], LDA_result['recom_vec'], LDA_result['count_vectorizer'])\n",
        "pyLDAvis.display(visualization)"
      ],
      "metadata": {
        "id": "lwovcyGnXYwX",
        "colab": {
          "base_uri": "https://localhost:8080/",
          "height": 953
        },
        "outputId": "6dea65fc-3350-48e6-9c6f-a20ef69341d2"
      },
      "execution_count": 57,
      "outputs": [
        {
          "output_type": "stream",
          "name": "stderr",
          "text": [
            "/usr/local/lib/python3.10/dist-packages/ipykernel/ipkernel.py:283: DeprecationWarning:\n",
            "\n",
            "`should_run_async` will not call `transform_cell` automatically in the future. Please pass the result to `transformed_cell` argument and any exception that happen during thetransform in `preprocessing_exc_tuple` in IPython 7.17 and above.\n",
            "\n"
          ]
        },
        {
          "output_type": "execute_result",
          "data": {
            "text/plain": [
              "<IPython.core.display.HTML object>"
            ],
            "text/html": [
              "\n",
              "<link rel=\"stylesheet\" type=\"text/css\" href=\"https://cdn.jsdelivr.net/gh/bmabey/pyLDAvis@3.4.0/pyLDAvis/js/ldavis.v1.0.0.css\">\n",
              "\n",
              "\n",
              "<div id=\"ldavis_el5171356902505113924346126567\" style=\"background-color:white;\"></div>\n",
              "<script type=\"text/javascript\">\n",
              "\n",
              "var ldavis_el5171356902505113924346126567_data = {\"mdsDat\": {\"x\": [0.08407761149754313, 0.10487109926499837, -0.18182549457477393, -0.007123216187767486], \"y\": [-0.10723548067492865, 0.09210013311452982, 0.0030607887396878817, 0.012074558820710821], \"topics\": [1, 2, 3, 4], \"cluster\": [1, 1, 1, 1], \"Freq\": [54.47584337266817, 31.83838974417216, 13.443025107838713, 0.24274177532094973]}, \"tinfo\": {\"Term\": [\"\\uc9c1\\ubb34\", \"\\ud574\\uc678\\uc601\\uc5c5\", \"\\uc120\\ubc1c\", \"\\uc81c\\uacf5\", \"hufsability\", \"\\uae30\\ud68c\", \"\\ud604\\uc9c1\\uc790\", \"\\uc704\\ud55c\", \"\\uc878\\uc5c5\\uc0dd\", \"\\ud559\\uc2b5\", \"\\uc5ed\\ub7c9\", \"httpsformsgleynax5miyususcg1ua\", \"4\\ud559\\ub144\", \"\\ud0d0\\uc0c9\", \"\\uc124\\ubb38\\uc870\\uc0ac\", \"\\uc815\\uc6d0\", \"\\ud074\\ub798\\uc2a4\", \"\\ub9c1\\ud06c\", \"3\\ud559\\ub144\", \"\\ubb38\\uc790\", \"\\uc6b0\\uc120\\uc120\\ubc1c\", \"\\uc21c\\uc73c\\ub85c\", \"20\\uba85\", \"\\ud544\\uc218\", \"\\uc878\\uc5c5\\uc0dd\\uc744\", \"\\uc628\\ub77c\\uc778\", \"\\ud604\\uc9c1\\uc790\\uc758\", \"\\ud53c\\ub4dc\\ubc31\\uc744\", \"\\ubc1b\\uc744\", \"\\ucde8\\uc5c5\\uc744\", \"\\ubcf4\\uace0\", \"1029\\uc77c\\uae4c\\uc9c0\", \"111\\uc218\\uc9c0\\uc6d0\\uc11c\", \"113\\uae08\", \"116\\uc6d4\", \"1210\\uc218\\uae4c\\uc9c0\", \"3\\uac1c\\uc6d4\", \"8\\uba85\\uc9c0\\uc6d0\\uc790\\uc758\", \"qa\", \"qr\\ucf54\\ub4dc\", \"\\uac15\\uc758\", \"\\uacfc\\uc81c\\ubc1c\\ud45c\", \"\\uba58\\ud1a0\\ub9c1\\uc744\", \"\\ubc1b\\uc73c\\uba70\", \"\\ubd80\\ud2b8\\ucea0\\ud504\\ub97c\", \"\\ube44\\uad50\\uacfc\", \"\\uc218\\ud589\", \"\\uc218\\ud589\\ud558\\ub294\", \"\\uc5d0\\uc13c\\uc2a4\", \"\\uc774\\uc6a9\", \"\\uc81c\\ucd9c\", \"\\uc81c\\ud55c\", \"\\uc911\\ub3c4\", \"\\uc9c1\\ubb34\\ub97c\", \"\\ucea0\\ud37c\\uc2a4\", \"\\ucee4\\ub9ac\\ud058\\ub7fc\", \"\\ud3ec\\uae30\", \"\\ud3ec\\uc2a4\\ud130\\uc758\", \"\\ud604\\uc5c5\", \"\\ucf58\\ud150\\uce20\", \"\\ud53c\\ub4dc\\ubc31\", \"\\ud504\\ub85c\\uadf8\\ub7a8\", \"\\uacfc\\uc81c\", \"1\\uc8fc\\ucc28\", \"3\\uc8fc\\ucc28\", \"\\uc544\\ub798\", \"\\uc774\\uc6a9\\ud558\\uc5ec\", \"\\uc791\\uc131\", \"\\uc9c1\\ubb34\", \"2\\uc8fc\\ucc28\", \"4\\uc8fc\\ucc28\", \"\\uc2ec\\uc0ac\", \"\\uc9c0\\uc6d0\\uc11c\", \"\\ubb38\\uc758\", \"\\uc804\\ub7b5\", \"\\ud574\\uc678\\uc601\\uc5c5\", \"\\ubc1b\\uc744\", \"\\uc18c\\uac1c\", \"\\uc218\\ud589\\uc5d0\", \"\\uc218\\ud589\\ud558\\uba70\", \"\\uc788\\uc2b5\\ub2c8\\ub2e4\", \"\\ucde8\\uc5c5\\uc744\", \"\\ud53c\\ub4dc\\ubc31\\uc744\", \"\\ud544\\uc694\\ud55c\", \"\\ud574\\uc678\\uc601\\uc5c5\\ubd80\\uc11c\", \"\\ud76c\\ub9dd\\ud558\\ub294\", \"b2b\", \"\\ub9c8\\ub828\", \"16\\uba85\", \"1\\ubc18\\uc5d0\", \"2\\uac1c\\ubc18\", \"611\\uc77c\\uae4c\\uc9c0\", \"626\\uc6d4\", \"628\\uc218\", \"73\\uc6d4\", \"87\\uc6d4\\uae4c\\uc9c0\", \"8\\uba85\\uc73c\\ub85c\", \"\\uae30\\ub300\\ud6a8\\uacfc\", \"\\ub300\\ube44\", \"\\ub3d9\\uc548\", \"\\ub9ce\\uc740\", \"\\ubc14\\ub78d\\ub2c8\\ub2e4\", \"\\ubc29\\ubc95\", \"\\ubc29\\ud559\", \"\\ube44\\uace0\", \"\\uc5c5\\ubb34\", \"\\ud604\\uc9c1\\uc790\\uc758\", \"\\uacfc\\uc81c\", \"\\uc9c1\\ubb34\", \"11\", \"\\uc5ed\\ub7c9\", \"2\\uc8fc\\ucc28\", \"4\\uc8fc\\ucc28\", \"\\uc2ec\\uc0ac\", \"\\uc9c0\\uc6d0\\uc11c\", \"\\ud53c\\ub4dc\\ubc31\", \"\\uc791\\uc131\", \"\\ud504\\ub85c\\uc138\\uc2a4\", \"\\ubb38\\uc758\", \"\\ud568\\uaed8\", \"\\uc218\\ub9bd\", \"0313304042\", \"5\\uc8fc\\ucc28\", \"\\uc120\\ubc1c\", \"20\\uba85\", \"3\\ud559\\ub144\", \"4\\ud559\\ub144\", \"httpsformsgleynax5miyususcg1ua\", \"\\ub9c1\\ud06c\", \"\\ubb38\\uc790\", \"\\uc124\\ubb38\\uc870\\uc0ac\", \"\\uc21c\\uc73c\\ub85c\", \"\\uc628\\ub77c\\uc778\", \"\\uc6b0\\uc120\\uc120\\ubc1c\", \"\\uc815\\uc6d0\", \"\\uc878\\uc5c5\\uc0dd\\uc744\", \"\\ud074\\ub798\\uc2a4\", \"\\ud0d0\\uc0c9\", \"\\ud544\\uc218\", \"\\uc5f0\\ub77d\", \"\\ud559\\uc2b5\", \"0221732145\", \"1222\", \"\\ub9c8\\ucf00\\ud305md\", \"\\ubabb\\ubc1b\\uc740\", \"\\uc120\\ubc1c\\ub418\\uc9c0\", \"\\uc54a\\uc740\", \"\\uc5f0\\ub77d\\uc5f0\\ub77d\\uc744\", \"\\ucfe0\\ud321\\uc774\\uce20\", \"\\ud559\\uc0dd\\uc740\", \"\\ud559\\uc0dd\\uc785\\ub2c8\\ub2e4\", \"1228\", \"developer\", \"\\uc704\\ud55c\", \"hufsability\", \"\\uae30\\ud68c\", \"\\uc81c\\uacf5\", \"\\ud604\\uc9c1\\uc790\", \"\\uc9c1\\ubb34\", \"\\uc878\\uc5c5\\uc0dd\", \"\\uc5ed\\ub7c9\", \"1220\", \"kt\", \"\\ud574\\uc678\\uc601\\uc5c5\\ubb34\\uc5ed\", \"1223\", \"\\uacf5\\uc0ac\\ube44\\uc601\\ub9ac\", \"\\uad6d\\uc81c\\ud611\\ub825\", \"\\ub300\\ud55c\\uc801\\uc2ed\\uc790\\uc0ac\", \"1228\", \"developer\", \"relations\", \"\\ub124\\uc774\\ubc84\\uc6f9\\ud230\", \"\\uc778\\uc0ac\\uad50\\uc721hrd\", \"0221732145\", \"1222\", \"\\ub9c8\\ucf00\\ud305md\", \"\\ubabb\\ubc1b\\uc740\", \"\\uc120\\ubc1c\\ub418\\uc9c0\", \"\\uc54a\\uc740\", \"\\uc5f0\\ub77d\\uc5f0\\ub77d\\uc744\", \"\\ucfe0\\ud321\\uc774\\uce20\", \"\\ud559\\uc0dd\\uc740\", \"\\ud559\\uc0dd\\uc785\\ub2c8\\ub2e4\", \"marketing\", \"sensing\", \"\\uacbd\\uc7c1\\ub825\", \"\\uad6d\\uac00\", \"\\ub2e8\\uac00\", \"\\ub530\\ub978\", \"\\ubb3c\\ub958\\ubb38\\uc81c\", \"\\ubcf4\\uace0\\uc11c\", \"\\ubb38\\uc758\", \"\\uc878\\uc5c5\\uc0dd\", \"\\uc5ed\\ub7c9\", \"\\uc9c1\\ubb34\", \"\\ud559\\uc2b5\", \"\\uc704\\ud55c\", \"hufsability\", \"\\uae30\\ud68c\", \"\\uc81c\\uacf5\", \"\\ud604\\uc9c1\\uc790\", \"\\ubd84\\uc11d\", \"\\ucee4\\ubba4\\ub2c8\\ucf00\\uc774\\uc158\", \"\\ud504\\ub85c\\uc138\\uc2a4\", \"\\uc5c5\\ubb34\", \"\\ud568\\uaed8\", \"\\uc804\\ub7b5\", \"0313304042\", \"5\\uc8fc\\ucc28\"], \"Freq\": [36.0, 10.0, 5.0, 6.0, 6.0, 6.0, 6.0, 4.0, 8.0, 3.0, 9.0, 3.0, 3.0, 3.0, 3.0, 3.0, 3.0, 3.0, 3.0, 3.0, 3.0, 3.0, 3.0, 3.0, 3.0, 3.0, 8.0, 3.0, 3.0, 3.0, 3.697151170176295, 3.697150868192508, 3.697150868192508, 3.697150868192508, 3.697150868192508, 3.697150868192508, 3.697150868192508, 3.697150868192508, 3.697150868192508, 3.697150868192508, 3.697150868192508, 3.697150868192508, 3.697150868192508, 3.697150868192508, 3.697150868192508, 3.697150868192508, 3.697150868192508, 3.697150868192508, 3.697150868192508, 3.697150868192508, 3.697150868192508, 3.697150868192508, 3.697150868192508, 3.697150868192508, 3.697150868192508, 3.697150868192508, 3.697150868192508, 3.697150868192508, 3.697150868192508, 2.8272288457500347, 14.136610958274167, 8.047066317224814, 14.135920867794285, 7.177073724948846, 7.177073724948846, 7.177073724948846, 7.177073724948846, 8.046879500495884, 21.09530718798556, 7.176709979895462, 7.176709979895462, 7.176709979895462, 7.176709979895462, 3.6974203196865134, 3.697303767410739, 10.602437681637424, 3.40077588502522, 3.40077588502522, 3.40077588502522, 3.40077588502522, 3.40077588502522, 3.40077588502522, 3.40077588502522, 3.40077588502522, 3.40077588502522, 3.40077588502522, 2.600591080929816, 1.800406173163851, 1.800406148196112, 1.800406148196112, 1.800406148196112, 1.800406148196112, 1.800406148196112, 1.800406148196112, 1.800406148196112, 1.800406148196112, 1.800406148196112, 1.800406148196112, 1.800406148196112, 1.800406148196112, 1.800406148196112, 1.800406148196112, 1.800406148196112, 1.800406148196112, 1.800406148196112, 3.4014661383258016, 5.00184404947283, 6.601790509174774, 8.202224860872034, 3.401152695762691, 3.4013582786037224, 3.400898627464769, 3.400898627464769, 3.400898627464769, 3.400898627464769, 3.400417086314102, 2.6004864279052007, 1.8007040936877723, 1.8007031051260014, 1.8006778691446959, 1.8005152693572357, 1.8004532586200233, 1.8004532586200233, 5.1391513750211555, 2.6474340961848943, 2.6474340961848943, 2.6474340961848943, 2.6474340961848943, 2.6474340961848943, 2.6474340961848943, 2.6474340961848943, 2.6474340961848943, 2.6474340961848943, 2.6474340961848943, 2.6474340961848943, 2.6474340961848943, 2.6474340961848943, 2.6474340961848943, 2.6474340961848943, 2.0245039749496776, 2.6483627131378773, 0.7786458839272765, 0.7786458839272765, 0.7786458839272765, 0.7786458839272765, 0.7786458839272765, 0.7786458839272765, 0.7786458839272765, 0.7786458839272765, 0.7786458839272765, 0.7786458839272765, 0.7786436150792808, 0.7786436150792808, 2.6480973012573354, 2.6478718598073114, 2.6478718598073114, 2.6478718598073114, 2.6478718598073114, 7.6308194625618055, 2.6480536961942356, 2.6477158201207067, 0.007588721266518537, 0.007588721266518537, 0.007588721266518537, 0.007588700233662634, 0.007588700233662634, 0.007588700233662634, 0.007588700233662634, 0.007588680437054455, 0.007588680437054455, 0.007588680437054455, 0.007588680437054455, 0.007588680437054455, 0.007588596821365281, 0.007588596821365281, 0.007588596821365281, 0.007588596821365281, 0.007588596821365281, 0.007588596821365281, 0.007588596821365281, 0.007588596821365281, 0.007588596821365281, 0.007588596821365281, 0.007588281377468473, 0.007588281377468473, 0.007588281377468473, 0.007588281377468473, 0.007588281377468473, 0.007588281377468473, 0.007588281377468473, 0.007588281377468473, 0.007589220899590316, 0.007589199581389731, 0.007589186494939519, 0.0075891369693203885, 0.007589055127252214, 0.007588983901523147, 0.007588971228971724, 0.007588971228971724, 0.007588971228971724, 0.007588971228971724, 0.007588737184768397, 0.007588737184768397, 0.007588735608607232, 0.00758872196551287, 0.007588707893878227, 0.007588666163497756, 0.007588650592269317, 0.007588650592269317], \"Total\": [36.0, 10.0, 5.0, 6.0, 6.0, 6.0, 6.0, 4.0, 8.0, 3.0, 9.0, 3.0, 3.0, 3.0, 3.0, 3.0, 3.0, 3.0, 3.0, 3.0, 3.0, 3.0, 3.0, 3.0, 3.0, 3.0, 8.0, 3.0, 3.0, 3.0, 4.060523431279206, 4.060523233510559, 4.060523233510559, 4.060523233510559, 4.060523233510559, 4.060523233510559, 4.060523233510559, 4.060523233510559, 4.060523233510559, 4.060523233510559, 4.060523233510559, 4.060523233510559, 4.060523233510559, 4.060523233510559, 4.060523233510559, 4.060523233510559, 4.060523233510559, 4.060523233510559, 4.060523233510559, 4.060523233510559, 4.060523233510559, 4.060523233510559, 4.060523233510559, 4.060523233510559, 4.060523233510559, 4.060523233510559, 4.060523233510559, 4.060523233510559, 4.060523233510559, 3.1906011623417494, 17.700353664960634, 10.010521743758686, 20.90103694053746, 9.1405938705942, 9.1405938705942, 9.1405938705942, 9.1405938705942, 10.81069161486667, 36.93594064838872, 10.74093428083658, 10.74093428083658, 10.74093428083658, 10.74093428083658, 6.283945787302921, 4.860713372208946, 10.983241257150375, 3.7815795761975672, 3.7815795761975672, 3.7815795761975672, 3.7815795761975672, 3.7815795761975672, 3.7815795761975672, 3.7815795761975672, 3.7815795761975672, 3.7815795761975672, 3.7815795761975672, 2.981394837149931, 2.181210027684543, 2.1812100109940284, 2.1812100109940284, 2.1812100109940284, 2.1812100109940284, 2.1812100109940284, 2.1812100109940284, 2.1812100109940284, 2.1812100109940284, 2.1812100109940284, 2.1812100109940284, 2.1812100109940284, 2.1812100109940284, 2.1812100109940284, 2.1812100109940284, 2.1812100109940284, 2.1812100109940284, 2.1812100109940284, 4.651426787196399, 8.86156441998835, 20.90103694053746, 36.93594064838872, 7.2612231534276335, 9.752803053034915, 10.74093428083658, 10.74093428083658, 10.74093428083658, 10.74093428083658, 17.700353664960634, 10.81069161486667, 3.051091394811941, 6.283945787302921, 3.051094521156336, 4.790954838020205, 5.660882322142397, 5.660882322142397, 5.564271474670796, 3.0725543628697958, 3.0725543628697958, 3.0725543628697958, 3.0725543628697958, 3.0725543628697958, 3.0725543628697958, 3.0725543628697958, 3.0725543628697958, 3.0725543628697958, 3.0725543628697958, 3.0725543628697958, 3.0725543628697958, 3.0725543628697958, 3.0725543628697958, 3.0725543628697958, 2.4496245760086737, 3.942094812060465, 1.2037663807394976, 1.2037663807394976, 1.2037663807394976, 1.2037663807394976, 1.2037663807394976, 1.2037663807394976, 1.2037663807394976, 1.2037663807394976, 1.2037663807394976, 1.2037663807394976, 1.203764929818944, 1.203764929818944, 4.81212420762102, 6.552058260983947, 6.552058260983947, 6.552058260983947, 6.552058260983947, 36.93594064838872, 8.152366102860682, 9.752803053034915, 1.203764227842649, 1.203764227842649, 1.203764227842649, 1.2037645894307563, 1.2037645894307563, 1.2037645894307563, 1.2037645894307563, 1.203764929818944, 1.203764929818944, 1.203764929818944, 1.203764929818944, 1.203764929818944, 1.2037663807394976, 1.2037663807394976, 1.2037663807394976, 1.2037663807394976, 1.2037663807394976, 1.2037663807394976, 1.2037663807394976, 1.2037663807394976, 1.2037663807394976, 1.2037663807394976, 1.3810246867791975, 1.3810246867791975, 1.3810246867791975, 1.3810246867791975, 1.3810246867791975, 1.3810246867791975, 1.3810246867791975, 1.3810246867791975, 6.283945787302921, 8.152366102860682, 9.752803053034915, 36.93594064838872, 3.942094812060465, 4.81212420762102, 6.552058260983947, 6.552058260983947, 6.552058260983947, 6.552058260983947, 2.2509248163778515, 2.2509248163778515, 3.051091394811941, 4.651426787196399, 3.051094521156336, 4.860713372208946, 5.660882322142397, 5.660882322142397], \"Category\": [\"Default\", \"Default\", \"Default\", \"Default\", \"Default\", \"Default\", \"Default\", \"Default\", \"Default\", \"Default\", \"Default\", \"Default\", \"Default\", \"Default\", \"Default\", \"Default\", \"Default\", \"Default\", \"Default\", \"Default\", \"Default\", \"Default\", \"Default\", \"Default\", \"Default\", \"Default\", \"Default\", \"Default\", \"Default\", \"Default\", \"Topic1\", \"Topic1\", \"Topic1\", \"Topic1\", \"Topic1\", \"Topic1\", \"Topic1\", \"Topic1\", \"Topic1\", \"Topic1\", \"Topic1\", \"Topic1\", \"Topic1\", \"Topic1\", \"Topic1\", \"Topic1\", \"Topic1\", \"Topic1\", \"Topic1\", \"Topic1\", \"Topic1\", \"Topic1\", \"Topic1\", \"Topic1\", \"Topic1\", \"Topic1\", \"Topic1\", \"Topic1\", \"Topic1\", \"Topic1\", \"Topic1\", \"Topic1\", \"Topic1\", \"Topic1\", \"Topic1\", \"Topic1\", \"Topic1\", \"Topic1\", \"Topic1\", \"Topic1\", \"Topic1\", \"Topic1\", \"Topic1\", \"Topic1\", \"Topic1\", \"Topic2\", \"Topic2\", \"Topic2\", \"Topic2\", \"Topic2\", \"Topic2\", \"Topic2\", \"Topic2\", \"Topic2\", \"Topic2\", \"Topic2\", \"Topic2\", \"Topic2\", \"Topic2\", \"Topic2\", \"Topic2\", \"Topic2\", \"Topic2\", \"Topic2\", \"Topic2\", \"Topic2\", \"Topic2\", \"Topic2\", \"Topic2\", \"Topic2\", \"Topic2\", \"Topic2\", \"Topic2\", \"Topic2\", \"Topic2\", \"Topic2\", \"Topic2\", \"Topic2\", \"Topic2\", \"Topic2\", \"Topic2\", \"Topic2\", \"Topic2\", \"Topic2\", \"Topic2\", \"Topic2\", \"Topic2\", \"Topic2\", \"Topic2\", \"Topic2\", \"Topic2\", \"Topic2\", \"Topic2\", \"Topic3\", \"Topic3\", \"Topic3\", \"Topic3\", \"Topic3\", \"Topic3\", \"Topic3\", \"Topic3\", \"Topic3\", \"Topic3\", \"Topic3\", \"Topic3\", \"Topic3\", \"Topic3\", \"Topic3\", \"Topic3\", \"Topic3\", \"Topic3\", \"Topic3\", \"Topic3\", \"Topic3\", \"Topic3\", \"Topic3\", \"Topic3\", \"Topic3\", \"Topic3\", \"Topic3\", \"Topic3\", \"Topic3\", \"Topic3\", \"Topic3\", \"Topic3\", \"Topic3\", \"Topic3\", \"Topic3\", \"Topic3\", \"Topic3\", \"Topic3\", \"Topic4\", \"Topic4\", \"Topic4\", \"Topic4\", \"Topic4\", \"Topic4\", \"Topic4\", \"Topic4\", \"Topic4\", \"Topic4\", \"Topic4\", \"Topic4\", \"Topic4\", \"Topic4\", \"Topic4\", \"Topic4\", \"Topic4\", \"Topic4\", \"Topic4\", \"Topic4\", \"Topic4\", \"Topic4\", \"Topic4\", \"Topic4\", \"Topic4\", \"Topic4\", \"Topic4\", \"Topic4\", \"Topic4\", \"Topic4\", \"Topic4\", \"Topic4\", \"Topic4\", \"Topic4\", \"Topic4\", \"Topic4\", \"Topic4\", \"Topic4\", \"Topic4\", \"Topic4\", \"Topic4\", \"Topic4\", \"Topic4\", \"Topic4\", \"Topic4\", \"Topic4\", \"Topic4\", \"Topic4\"], \"logprob\": [30.0, 29.0, 28.0, 27.0, 26.0, 25.0, 24.0, 23.0, 22.0, 21.0, 20.0, 19.0, 18.0, 17.0, 16.0, 15.0, 14.0, 13.0, 12.0, 11.0, 10.0, 9.0, 8.0, 7.0, 6.0, 5.0, 4.0, 3.0, 2.0, 1.0, -5.0087, -5.0087, -5.0087, -5.0087, -5.0087, -5.0087, -5.0087, -5.0087, -5.0087, -5.0087, -5.0087, -5.0087, -5.0087, -5.0087, -5.0087, -5.0087, -5.0087, -5.0087, -5.0087, -5.0087, -5.0087, -5.0087, -5.0087, -5.0087, -5.0087, -5.0087, -5.0087, -5.0087, -5.0087, -5.2769, -3.6674, -4.2309, -3.6675, -4.3453, -4.3453, -4.3453, -4.3453, -4.2309, -3.2672, -4.3454, -4.3454, -4.3454, -4.3454, -5.0086, -5.0086, -3.418, -4.5551, -4.5551, -4.5551, -4.5551, -4.5551, -4.5551, -4.5551, -4.5551, -4.5551, -4.5551, -4.8234, -5.1911, -5.1911, -5.1911, -5.1911, -5.1911, -5.1911, -5.1911, -5.1911, -5.1911, -5.1911, -5.1911, -5.1911, -5.1911, -5.1911, -5.1911, -5.1911, -5.1911, -5.1911, -4.5549, -4.1693, -3.8918, -3.6747, -4.555, -4.555, -4.5551, -4.5551, -4.5551, -4.5551, -4.5552, -4.8234, -5.191, -5.191, -5.191, -5.1911, -5.1911, -5.1911, -3.28, -3.9433, -3.9433, -3.9433, -3.9433, -3.9433, -3.9433, -3.9433, -3.9433, -3.9433, -3.9433, -3.9433, -3.9433, -3.9433, -3.9433, -3.9433, -4.2116, -3.943, -5.1671, -5.1671, -5.1671, -5.1671, -5.1671, -5.1671, -5.1671, -5.1671, -5.1671, -5.1671, -5.1671, -5.1671, -3.9431, -3.9432, -3.9432, -3.9432, -3.9432, -2.8847, -3.9431, -3.9432, -5.7838, -5.7838, -5.7838, -5.7838, -5.7838, -5.7838, -5.7838, -5.7838, -5.7838, -5.7838, -5.7838, -5.7838, -5.7838, -5.7838, -5.7838, -5.7838, -5.7838, -5.7838, -5.7838, -5.7838, -5.7838, -5.7838, -5.7839, -5.7839, -5.7839, -5.7839, -5.7839, -5.7839, -5.7839, -5.7839, -5.7837, -5.7837, -5.7837, -5.7837, -5.7837, -5.7838, -5.7838, -5.7838, -5.7838, -5.7838, -5.7838, -5.7838, -5.7838, -5.7838, -5.7838, -5.7838, -5.7838, -5.7838], \"loglift\": [30.0, 29.0, 28.0, 27.0, 26.0, 25.0, 24.0, 23.0, 22.0, 21.0, 20.0, 19.0, 18.0, 17.0, 16.0, 15.0, 14.0, 13.0, 12.0, 11.0, 10.0, 9.0, 8.0, 7.0, 6.0, 5.0, 4.0, 3.0, 2.0, 1.0, 0.5137, 0.5137, 0.5137, 0.5137, 0.5137, 0.5137, 0.5137, 0.5137, 0.5137, 0.5137, 0.5137, 0.5137, 0.5137, 0.5137, 0.5137, 0.5137, 0.5137, 0.5137, 0.5137, 0.5137, 0.5137, 0.5137, 0.5137, 0.5137, 0.5137, 0.5137, 0.5137, 0.5137, 0.5137, 0.4865, 0.3826, 0.3891, 0.2163, 0.3656, 0.3656, 0.3656, 0.3656, 0.3122, 0.0473, 0.2042, 0.2042, 0.2042, 0.2042, 0.0771, 0.3338, 1.1092, 1.0384, 1.0384, 1.0384, 1.0384, 1.0384, 1.0384, 1.0384, 1.0384, 1.0384, 1.0384, 1.0078, 0.9526, 0.9526, 0.9526, 0.9526, 0.9526, 0.9526, 0.9526, 0.9526, 0.9526, 0.9526, 0.9526, 0.9526, 0.9526, 0.9526, 0.9526, 0.9526, 0.9526, 0.9526, 0.8315, 0.5726, -0.008, -0.3603, 0.3861, 0.0911, -0.0055, -0.0055, -0.0055, -0.0055, -0.5052, -0.2803, 0.6172, -0.1053, 0.6172, 0.1658, -0.001, -0.001, 1.9272, 1.8578, 1.8578, 1.8578, 1.8578, 1.8578, 1.8578, 1.8578, 1.8578, 1.8578, 1.8578, 1.8578, 1.8578, 1.8578, 1.8578, 1.8578, 1.8161, 1.6089, 1.5711, 1.5711, 1.5711, 1.5711, 1.5711, 1.5711, 1.5711, 1.5711, 1.5711, 1.5711, 1.5711, 1.5711, 1.4094, 1.1007, 1.1007, 1.1007, 1.1007, 0.4297, 0.8822, 0.7029, 0.9544, 0.9544, 0.9544, 0.9544, 0.9544, 0.9544, 0.9544, 0.9544, 0.9544, 0.9544, 0.9544, 0.9544, 0.9544, 0.9544, 0.9544, 0.9544, 0.9544, 0.9544, 0.9544, 0.9544, 0.9544, 0.9544, 0.817, 0.817, 0.817, 0.817, 0.817, 0.817, 0.817, 0.817, -0.6981, -0.9584, -1.1377, -2.4693, -0.2318, -0.4313, -0.7399, -0.7399, -0.7399, -0.7399, 0.3285, 0.3285, 0.0243, -0.3973, 0.0243, -0.4414, -0.5938, -0.5938]}, \"token.table\": {\"Topic\": [3, 1, 2, 1, 1, 2, 1, 1, 1, 1, 3, 3, 3, 3, 2, 2, 1, 2, 3, 2, 1, 2, 1, 1, 2, 3, 1, 2, 3, 1, 2, 2, 2, 2, 2, 2, 2, 1, 2, 3, 3, 1, 3, 3, 2, 1, 1, 3, 2, 1, 2, 3, 1, 2, 1, 2, 3, 2, 1, 3, 3, 2, 2, 3, 2, 2, 3, 2, 3, 2, 1, 3, 1, 2, 3, 3, 2, 2, 1, 2, 2, 2, 1, 2, 1, 1, 2, 2, 1, 3, 3, 3, 2, 1, 2, 1, 2, 1, 2, 3, 1, 2, 1, 2, 3, 1, 2, 1, 1, 2, 3, 3, 3, 3, 3, 1, 3, 1, 1, 2, 3, 2, 1, 2, 1, 2, 3, 1, 3, 1, 1, 1, 2, 3, 3, 1, 1, 2, 1, 2, 3, 1, 2, 1, 1, 1, 2, 1, 3, 3, 3, 1, 1, 1, 2, 1, 2, 1, 2, 2, 3, 2, 3, 3, 1, 3, 1, 2, 2, 3, 2, 1, 1, 3, 1, 2, 2], \"Freq\": [0.8307259747407799, 0.7066036303835714, 0.3533018151917857, 0.9850947205495403, 0.5508713773810704, 0.4131535330358028, 0.9850947205495403, 0.9850947205495403, 0.9850947205495403, 0.9850947205495403, 0.8307274604697057, 0.8307259747407799, 0.8307272109348941, 0.8307269760304515, 0.9169222541246972, 0.9169222541246972, 0.7658145738778954, 0.21880416396511296, 0.9763863045853388, 0.9169222541246972, 0.6517123945622718, 0.2793053119552593, 0.9850947205495403, 0.7658145738778954, 0.21880416396511296, 0.9763863045853388, 0.6517123945622718, 0.2793053119552593, 0.9763863045853388, 0.7066036303835714, 0.3533018151917857, 0.9169222541246972, 0.9169222541246972, 0.9169222541246972, 0.9169222541246972, 0.9169222541246972, 0.9169222541246972, 0.9850947205495403, 1.006240422307786, 0.8307269760304515, 0.9763863045853388, 0.6104951819215516, 0.4578713864411637, 0.8307274604697057, 0.7241000175979353, 0.9850947205495403, 0.9850947205495403, 0.8307269760304515, 0.7241000175979353, 0.9850947205495403, 0.7241000175979353, 0.8307272109348941, 0.6698232264661984, 0.3349116132330992, 0.9850947205495403, 0.7241000175979353, 0.8307272109348941, 0.9169222541246972, 0.6104951819215516, 0.4578713864411637, 0.8307269760304515, 0.7241000175979353, 0.9169222541246972, 0.8307272109348941, 0.9169222541246972, 0.7241000175979353, 0.9763863045853388, 0.9169222471084519, 0.8307259747407799, 0.9169222541246972, 0.9850947205495403, 0.8307259747407799, 0.6365427289462352, 0.3182713644731176, 0.1591356822365588, 0.9763863045853388, 0.7241000175979353, 0.9169222541246972, 0.9850947205495403, 0.7933192835298056, 0.9169222541246972, 0.9169222541246972, 0.9850946725702949, 0.7241000175979353, 0.9850947205495403, 0.44426183972203137, 0.44426183972203137, 0.9169222541246972, 0.9850947205495403, 0.8985902328383105, 0.8307259747407799, 0.9763863045853388, 0.7933192835298056, 0.6261799790289211, 0.41745331935261404, 0.9850947205495403, 0.7933192835298056, 0.9850947205495403, 0.7933192835298056, 0.9763863045853388, 0.6517123945622718, 0.2793053119552593, 0.7658145738778954, 0.21880416396511296, 0.8307259747407799, 0.2149877974544538, 0.6449633923633613, 0.9850947205495403, 0.41013849846534783, 0.30760387384901083, 0.30760387384901083, 0.8164516389930758, 0.8307259747407799, 0.9763863045853388, 0.9763863045853388, 0.4156168697459171, 0.6234253046188757, 0.9850947205495403, 0.7658145738778954, 0.21880416396511296, 0.8307269760304515, 0.7933192835298056, 0.7400081590523351, 0.2775030596446257, 0.8229244750101783, 0.20573111875254457, 0.9763863045853388, 0.6104951819215516, 0.4578713864411637, 0.9850947205495403, 0.9850947205495403, 0.49065509933323426, 0.24532754966661713, 0.3679913244999257, 0.9763863045853388, 0.9850947205495403, 0.6517123945622718, 0.2793053119552593, 0.5685519207405402, 0.21659120790115816, 0.21659120790115816, 0.9850947205495403, 0.7933192835298056, 0.9850947205495403, 0.9850947205495403, 0.44426183972203137, 0.44426183972203137, 0.9402616771436711, 0.8307259747407799, 0.9763863045853388, 0.9763863045853388, 0.9850947205495403, 0.9850947205495403, 0.7991591452251531, 0.19978978630628827, 0.3277515716836259, 0.6555031433672518, 0.7909446480560555, 0.16948813886915473, 0.7933192835298056, 0.9763863045853388, 0.7933192835298056, 0.8307259747407799, 0.8307259747407799, 0.2536722346049605, 0.7610167038148815, 0.32775123584863886, 0.6555024716972777, 1.0015258467384311, 0.8307274604697057, 0.7933192835298056, 0.9850947205495403, 0.6104951819215516, 0.4578713864411637, 0.45138756662170254, 0.5642344582771281, 0.7933192835298056], \"Term\": [\"0221732145\", \"0313304042\", \"0313304042\", \"1029\\uc77c\\uae4c\\uc9c0\", \"11\", \"11\", \"111\\uc218\\uc9c0\\uc6d0\\uc11c\", \"113\\uae08\", \"116\\uc6d4\", \"1210\\uc218\\uae4c\\uc9c0\", \"1220\", \"1222\", \"1223\", \"1228\", \"16\\uba85\", \"1\\ubc18\\uc5d0\", \"1\\uc8fc\\ucc28\", \"1\\uc8fc\\ucc28\", \"20\\uba85\", \"2\\uac1c\\ubc18\", \"2\\uc8fc\\ucc28\", \"2\\uc8fc\\ucc28\", \"3\\uac1c\\uc6d4\", \"3\\uc8fc\\ucc28\", \"3\\uc8fc\\ucc28\", \"3\\ud559\\ub144\", \"4\\uc8fc\\ucc28\", \"4\\uc8fc\\ucc28\", \"4\\ud559\\ub144\", \"5\\uc8fc\\ucc28\", \"5\\uc8fc\\ucc28\", \"611\\uc77c\\uae4c\\uc9c0\", \"626\\uc6d4\", \"628\\uc218\", \"73\\uc6d4\", \"87\\uc6d4\\uae4c\\uc9c0\", \"8\\uba85\\uc73c\\ub85c\", \"8\\uba85\\uc9c0\\uc6d0\\uc790\\uc758\", \"b2b\", \"developer\", \"httpsformsgleynax5miyususcg1ua\", \"hufsability\", \"hufsability\", \"kt\", \"marketing\", \"qa\", \"qr\\ucf54\\ub4dc\", \"relations\", \"sensing\", \"\\uac15\\uc758\", \"\\uacbd\\uc7c1\\ub825\", \"\\uacf5\\uc0ac\\ube44\\uc601\\ub9ac\", \"\\uacfc\\uc81c\", \"\\uacfc\\uc81c\", \"\\uacfc\\uc81c\\ubc1c\\ud45c\", \"\\uad6d\\uac00\", \"\\uad6d\\uc81c\\ud611\\ub825\", \"\\uae30\\ub300\\ud6a8\\uacfc\", \"\\uae30\\ud68c\", \"\\uae30\\ud68c\", \"\\ub124\\uc774\\ubc84\\uc6f9\\ud230\", \"\\ub2e8\\uac00\", \"\\ub300\\ube44\", \"\\ub300\\ud55c\\uc801\\uc2ed\\uc790\\uc0ac\", \"\\ub3d9\\uc548\", \"\\ub530\\ub978\", \"\\ub9c1\\ud06c\", \"\\ub9c8\\ub828\", \"\\ub9c8\\ucf00\\ud305md\", \"\\ub9ce\\uc740\", \"\\uba58\\ud1a0\\ub9c1\\uc744\", \"\\ubabb\\ubc1b\\uc740\", \"\\ubb38\\uc758\", \"\\ubb38\\uc758\", \"\\ubb38\\uc758\", \"\\ubb38\\uc790\", \"\\ubb3c\\ub958\\ubb38\\uc81c\", \"\\ubc14\\ub78d\\ub2c8\\ub2e4\", \"\\ubc1b\\uc73c\\uba70\", \"\\ubc1b\\uc744\", \"\\ubc29\\ubc95\", \"\\ubc29\\ud559\", \"\\ubcf4\\uace0\", \"\\ubcf4\\uace0\\uc11c\", \"\\ubd80\\ud2b8\\ucea0\\ud504\\ub97c\", \"\\ubd84\\uc11d\", \"\\ubd84\\uc11d\", \"\\ube44\\uace0\", \"\\ube44\\uad50\\uacfc\", \"\\uc120\\ubc1c\", \"\\uc120\\ubc1c\\ub418\\uc9c0\", \"\\uc124\\ubb38\\uc870\\uc0ac\", \"\\uc18c\\uac1c\", \"\\uc218\\ub9bd\", \"\\uc218\\ub9bd\", \"\\uc218\\ud589\", \"\\uc218\\ud589\\uc5d0\", \"\\uc218\\ud589\\ud558\\ub294\", \"\\uc218\\ud589\\ud558\\uba70\", \"\\uc21c\\uc73c\\ub85c\", \"\\uc2ec\\uc0ac\", \"\\uc2ec\\uc0ac\", \"\\uc544\\ub798\", \"\\uc544\\ub798\", \"\\uc54a\\uc740\", \"\\uc5c5\\ubb34\", \"\\uc5c5\\ubb34\", \"\\uc5d0\\uc13c\\uc2a4\", \"\\uc5ed\\ub7c9\", \"\\uc5ed\\ub7c9\", \"\\uc5ed\\ub7c9\", \"\\uc5f0\\ub77d\", \"\\uc5f0\\ub77d\\uc5f0\\ub77d\\uc744\", \"\\uc628\\ub77c\\uc778\", \"\\uc6b0\\uc120\\uc120\\ubc1c\", \"\\uc704\\ud55c\", \"\\uc704\\ud55c\", \"\\uc774\\uc6a9\", \"\\uc774\\uc6a9\\ud558\\uc5ec\", \"\\uc774\\uc6a9\\ud558\\uc5ec\", \"\\uc778\\uc0ac\\uad50\\uc721hrd\", \"\\uc788\\uc2b5\\ub2c8\\ub2e4\", \"\\uc791\\uc131\", \"\\uc791\\uc131\", \"\\uc804\\ub7b5\", \"\\uc804\\ub7b5\", \"\\uc815\\uc6d0\", \"\\uc81c\\uacf5\", \"\\uc81c\\uacf5\", \"\\uc81c\\ucd9c\", \"\\uc81c\\ud55c\", \"\\uc878\\uc5c5\\uc0dd\", \"\\uc878\\uc5c5\\uc0dd\", \"\\uc878\\uc5c5\\uc0dd\", \"\\uc878\\uc5c5\\uc0dd\\uc744\", \"\\uc911\\ub3c4\", \"\\uc9c0\\uc6d0\\uc11c\", \"\\uc9c0\\uc6d0\\uc11c\", \"\\uc9c1\\ubb34\", \"\\uc9c1\\ubb34\", \"\\uc9c1\\ubb34\", \"\\uc9c1\\ubb34\\ub97c\", \"\\ucde8\\uc5c5\\uc744\", \"\\ucea0\\ud37c\\uc2a4\", \"\\ucee4\\ub9ac\\ud058\\ub7fc\", \"\\ucee4\\ubba4\\ub2c8\\ucf00\\uc774\\uc158\", \"\\ucee4\\ubba4\\ub2c8\\ucf00\\uc774\\uc158\", \"\\ucf58\\ud150\\uce20\", \"\\ucfe0\\ud321\\uc774\\uce20\", \"\\ud074\\ub798\\uc2a4\", \"\\ud0d0\\uc0c9\", \"\\ud3ec\\uae30\", \"\\ud3ec\\uc2a4\\ud130\\uc758\", \"\\ud504\\ub85c\\uadf8\\ub7a8\", \"\\ud504\\ub85c\\uadf8\\ub7a8\", \"\\ud504\\ub85c\\uc138\\uc2a4\", \"\\ud504\\ub85c\\uc138\\uc2a4\", \"\\ud53c\\ub4dc\\ubc31\", \"\\ud53c\\ub4dc\\ubc31\", \"\\ud53c\\ub4dc\\ubc31\\uc744\", \"\\ud544\\uc218\", \"\\ud544\\uc694\\ud55c\", \"\\ud559\\uc0dd\\uc740\", \"\\ud559\\uc0dd\\uc785\\ub2c8\\ub2e4\", \"\\ud559\\uc2b5\", \"\\ud559\\uc2b5\", \"\\ud568\\uaed8\", \"\\ud568\\uaed8\", \"\\ud574\\uc678\\uc601\\uc5c5\", \"\\ud574\\uc678\\uc601\\uc5c5\\ubb34\\uc5ed\", \"\\ud574\\uc678\\uc601\\uc5c5\\ubd80\\uc11c\", \"\\ud604\\uc5c5\", \"\\ud604\\uc9c1\\uc790\", \"\\ud604\\uc9c1\\uc790\", \"\\ud604\\uc9c1\\uc790\\uc758\", \"\\ud604\\uc9c1\\uc790\\uc758\", \"\\ud76c\\ub9dd\\ud558\\ub294\"]}, \"R\": 30, \"lambda.step\": 0.01, \"plot.opts\": {\"xlab\": \"PC1\", \"ylab\": \"PC2\"}, \"topic.order\": [1, 2, 4, 3]};\n",
              "\n",
              "function LDAvis_load_lib(url, callback){\n",
              "  var s = document.createElement('script');\n",
              "  s.src = url;\n",
              "  s.async = true;\n",
              "  s.onreadystatechange = s.onload = callback;\n",
              "  s.onerror = function(){console.warn(\"failed to load library \" + url);};\n",
              "  document.getElementsByTagName(\"head\")[0].appendChild(s);\n",
              "}\n",
              "\n",
              "if(typeof(LDAvis) !== \"undefined\"){\n",
              "   // already loaded: just create the visualization\n",
              "   !function(LDAvis){\n",
              "       new LDAvis(\"#\" + \"ldavis_el5171356902505113924346126567\", ldavis_el5171356902505113924346126567_data);\n",
              "   }(LDAvis);\n",
              "}else if(typeof define === \"function\" && define.amd){\n",
              "   // require.js is available: use it to load d3/LDAvis\n",
              "   require.config({paths: {d3: \"https://d3js.org/d3.v5\"}});\n",
              "   require([\"d3\"], function(d3){\n",
              "      window.d3 = d3;\n",
              "      LDAvis_load_lib(\"https://cdn.jsdelivr.net/gh/bmabey/pyLDAvis@3.4.0/pyLDAvis/js/ldavis.v3.0.0.js\", function(){\n",
              "        new LDAvis(\"#\" + \"ldavis_el5171356902505113924346126567\", ldavis_el5171356902505113924346126567_data);\n",
              "      });\n",
              "    });\n",
              "}else{\n",
              "    // require.js not available: dynamically load d3 & LDAvis\n",
              "    LDAvis_load_lib(\"https://d3js.org/d3.v5.js\", function(){\n",
              "         LDAvis_load_lib(\"https://cdn.jsdelivr.net/gh/bmabey/pyLDAvis@3.4.0/pyLDAvis/js/ldavis.v3.0.0.js\", function(){\n",
              "                 new LDAvis(\"#\" + \"ldavis_el5171356902505113924346126567\", ldavis_el5171356902505113924346126567_data);\n",
              "            })\n",
              "         });\n",
              "}\n",
              "</script>"
            ]
          },
          "metadata": {},
          "execution_count": 57
        }
      ]
    },
    {
      "cell_type": "markdown",
      "source": [
        "### 명사기반 추천"
      ],
      "metadata": {
        "id": "Jn2epZuvSTa0"
      }
    },
    {
      "cell_type": "markdown",
      "source": [
        "#### 모든 가중치가 동일한 경우"
      ],
      "metadata": {
        "id": "xkDSJ2J-SV5Y"
      }
    },
    {
      "cell_type": "code",
      "source": [
        "workshop['soup'] = workshop.apply(create_soup, weight = [1,1,0,1], axis=1)\n",
        "count = CountVectorizer()\n",
        "count_matrix = count.fit_transform(workshop['soup'])\n",
        "indices = pd.Series(workshop.index, index=workshop['프로그램명'])\n",
        "# cosine 유사도 구하기\n",
        "cosine_sim2 = cosine_similarity(count_matrix, count_matrix)"
      ],
      "metadata": {
        "id": "TJwZiBRXSm3Q",
        "colab": {
          "base_uri": "https://localhost:8080/"
        },
        "outputId": "36c66c7b-7b4e-4cd5-c1d9-a4b1020cb93f"
      },
      "execution_count": 58,
      "outputs": [
        {
          "output_type": "stream",
          "name": "stderr",
          "text": [
            "/usr/local/lib/python3.10/dist-packages/ipykernel/ipkernel.py:283: DeprecationWarning:\n",
            "\n",
            "`should_run_async` will not call `transform_cell` automatically in the future. Please pass the result to `transformed_cell` argument and any exception that happen during thetransform in `preprocessing_exc_tuple` in IPython 7.17 and above.\n",
            "\n"
          ]
        }
      ]
    },
    {
      "cell_type": "code",
      "source": [
        "target = workshop.iloc[20]\n",
        "\n",
        "print('프로그램명 : ',target['프로그램명'])\n",
        "print('추천 목록: ')\n",
        "recom_df = get_recommendations(workshop, indices, target['프로그램명'], cosine_sim2)\n",
        "print(recom_df['프로그램명'])"
      ],
      "metadata": {
        "id": "eMT8xmVjSm3Z",
        "colab": {
          "base_uri": "https://localhost:8080/"
        },
        "outputId": "226fa2db-7721-494e-eef9-dec8ae8e7442"
      },
      "execution_count": 59,
      "outputs": [
        {
          "output_type": "stream",
          "name": "stdout",
          "text": [
            "프로그램명 :  직무 부트캠프GMP 전체를 보는 눈과 핵심 개념으로 제약공장 품질QAQC업무알기\n",
            "추천 목록: \n",
            "23            직무 부트캠프무역 프로세스 완벽 이해하기  서류 작성부터 클레임 대처까지\n",
            "22                직무 부트캠프GMP환경 학교에선 알려주지 않는 환경 실무 이해하기\n",
            "24         직무 부트캠프10년차 현직 PD와 함께 방송 영상 콘텐츠 기획제작연출 이해하기\n",
            "21      직무 부트캠프이것이 찐현실 콘텐츠 마케팅 실무 5주 완성 병아리 콘텐츠 마케터 캠프\n",
            "165                 하계방학 대비 해외영업 직무 부트캠프해외영업 시장분석 전략수립\n",
            "166              하계방학 대비 해외영업 직무 부트캠프제조업 B2B 해외영업 프로세스\n",
            "1206                              2021 현직자 직무 부트 캠프코멘토\n",
            "1325                   온라인 직무톡톡 직무특강 프로그램7차  MD 직무의 이해\n",
            "1327                 온라인 직무톡톡 직무특강 프로그램5차  상품기획 직무의 이해\n",
            "1328                 온라인 직무톡톡 직무특강 프로그램6차  IT산업 직무의 이해\n",
            "Name: 프로그램명, dtype: object\n"
          ]
        },
        {
          "output_type": "stream",
          "name": "stderr",
          "text": [
            "/usr/local/lib/python3.10/dist-packages/ipykernel/ipkernel.py:283: DeprecationWarning:\n",
            "\n",
            "`should_run_async` will not call `transform_cell` automatically in the future. Please pass the result to `transformed_cell` argument and any exception that happen during thetransform in `preprocessing_exc_tuple` in IPython 7.17 and above.\n",
            "\n"
          ]
        }
      ]
    },
    {
      "cell_type": "code",
      "source": [
        "LDA_result = LDA(recom_df, topic_num = 4)\n",
        "table_header, table_cells = get_topic(LDA_result)\n",
        "create_dash_app(recom_df, workshop, table_header, table_cells)"
      ],
      "metadata": {
        "id": "C32I5KlpXYBb",
        "colab": {
          "base_uri": "https://localhost:8080/",
          "height": 781
        },
        "outputId": "9ddbbca1-cdde-49ac-8932-96d318b9ed82"
      },
      "execution_count": 60,
      "outputs": [
        {
          "output_type": "stream",
          "name": "stderr",
          "text": [
            "/usr/local/lib/python3.10/dist-packages/ipykernel/ipkernel.py:283: DeprecationWarning:\n",
            "\n",
            "`should_run_async` will not call `transform_cell` automatically in the future. Please pass the result to `transformed_cell` argument and any exception that happen during thetransform in `preprocessing_exc_tuple` in IPython 7.17 and above.\n",
            "\n"
          ]
        },
        {
          "output_type": "display_data",
          "data": {
            "text/plain": [
              "<IPython.core.display.Javascript object>"
            ],
            "application/javascript": [
              "(async (port, path, width, height, cache, element) => {\n",
              "    if (!google.colab.kernel.accessAllowed && !cache) {\n",
              "      return;\n",
              "    }\n",
              "    element.appendChild(document.createTextNode(''));\n",
              "    const url = await google.colab.kernel.proxyPort(port, {cache});\n",
              "    const iframe = document.createElement('iframe');\n",
              "    iframe.src = new URL(path, url).toString();\n",
              "    iframe.height = height;\n",
              "    iframe.width = width;\n",
              "    iframe.style.border = 0;\n",
              "    iframe.allow = [\n",
              "        'accelerometer',\n",
              "        'autoplay',\n",
              "        'camera',\n",
              "        'clipboard-read',\n",
              "        'clipboard-write',\n",
              "        'gyroscope',\n",
              "        'magnetometer',\n",
              "        'microphone',\n",
              "        'serial',\n",
              "        'usb',\n",
              "        'xr-spatial-tracking',\n",
              "    ].join('; ');\n",
              "    element.appendChild(iframe);\n",
              "  })(8050, \"/\", \"100%\", 650, false, window.element)"
            ]
          },
          "metadata": {}
        },
        {
          "output_type": "execute_result",
          "data": {
            "text/plain": [
              "<dash.dash.Dash at 0x7b68d92e98d0>"
            ]
          },
          "metadata": {},
          "execution_count": 60
        }
      ]
    },
    {
      "cell_type": "code",
      "source": [
        "# LDA 토픽 모델링 결과를 시각화\n",
        "pyLDAvis.enable_notebook\n",
        "visualization = pyLDAvis.lda_model.prepare(LDA_result['lda'], LDA_result['recom_vec'], LDA_result['count_vectorizer'])\n",
        "pyLDAvis.display(visualization)"
      ],
      "metadata": {
        "id": "W3IV9AcfXYBb",
        "colab": {
          "base_uri": "https://localhost:8080/",
          "height": 953
        },
        "outputId": "6096d778-74b8-4a45-c3d9-239563c666b5"
      },
      "execution_count": 61,
      "outputs": [
        {
          "output_type": "stream",
          "name": "stderr",
          "text": [
            "/usr/local/lib/python3.10/dist-packages/ipykernel/ipkernel.py:283: DeprecationWarning:\n",
            "\n",
            "`should_run_async` will not call `transform_cell` automatically in the future. Please pass the result to `transformed_cell` argument and any exception that happen during thetransform in `preprocessing_exc_tuple` in IPython 7.17 and above.\n",
            "\n"
          ]
        },
        {
          "output_type": "execute_result",
          "data": {
            "text/plain": [
              "<IPython.core.display.HTML object>"
            ],
            "text/html": [
              "\n",
              "<link rel=\"stylesheet\" type=\"text/css\" href=\"https://cdn.jsdelivr.net/gh/bmabey/pyLDAvis@3.4.0/pyLDAvis/js/ldavis.v1.0.0.css\">\n",
              "\n",
              "\n",
              "<div id=\"ldavis_el5171356902505116167504219240\" style=\"background-color:white;\"></div>\n",
              "<script type=\"text/javascript\">\n",
              "\n",
              "var ldavis_el5171356902505116167504219240_data = {\"mdsDat\": {\"x\": [0.09778267505481758, 0.08427932360276738, -0.16201094980275746, -0.020051048854827395], \"y\": [-0.09803235922756502, 0.10050783385689446, -0.00750562801975329, 0.005030153390423944], \"topics\": [1, 2, 3, 4], \"cluster\": [1, 1, 1, 1], \"Freq\": [54.799736949132104, 32.02717950828152, 12.929369426099472, 0.24371411648690305]}, \"tinfo\": {\"Term\": [\"\\ud574\\uc678\\uc601\\uc5c5\", \"\\uc9c1\\ubb34\", \"\\uc2e0\\uccad\", \"\\ud504\\ub85c\\uadf8\\ub7a8\", \"\\ubb38\\uc758\", \"\\uad00\\ub828\", \"\\ud604\\uc9c1\\uc790\", \"\\uc9c1\\ubb34\\uc758\", \"\\ubc1b\\uc744\", \"\\uc18c\\uac1c\", \"\\uc218\\ud589\\uc5d0\", \"\\uc218\\ud589\\ud558\\uba70\", \"\\uc788\\uc2b5\\ub2c8\\ub2e4\", \"\\ud76c\\ub9dd\\ud558\\ub294\", \"\\ud544\\uc694\\ud55c\", \"\\ucde8\\uc5c5\\uc744\", \"\\ud53c\\ub4dc\\ubc31\\uc744\", \"\\ud574\\uc678\\uc601\\uc5c5\\ubd80\\uc11c\", \"\\ud604\\uc9c1\\uc790\\uc758\", \"\\ubcf8\\uc778\\uc5d0\\uac8c\", \"\\uae30\\uc5ec\", \"\\ub192\\uc740\", \"\\ub2e4\\uc591\\ud55c\", \"\\ub9de\\ub294\", \"\\uc9c1\\ubb34\\ud1a1\\ud1a1\", \"\\ubd84\\uc57c\", \"\\uc9c1\\ubb34\\ud2b9\\uac15\", \"\\ud2b9\\uac15\\uc73c\\ub85c\", \"\\uc628\\ub77c\\uc778\", \"\\uc774\\ud574\", \"\\ubcf4\\uace0\", \"1029\\uc77c\\uae4c\\uc9c0\", \"111\\uc218\\uc9c0\\uc6d0\\uc11c\", \"113\\uae08\", \"116\\uc6d4\", \"1210\\uc218\\uae4c\\uc9c0\", \"3\\uac1c\\uc6d4\", \"8\\uba85\\uc9c0\\uc6d0\\uc790\\uc758\", \"hufsability\", \"qa\", \"qr\\ucf54\\ub4dc\", \"\\uac15\\uc758\", \"\\uacfc\\uc81c\\ubc1c\\ud45c\", \"\\uae30\\ud68c\", \"\\uba58\\ud1a0\\ub9c1\\uc744\", \"\\ubc1b\\uc73c\\uba70\", \"\\ubd80\\ud2b8\\ucea0\\ud504\\ub97c\", \"\\ube44\\uad50\\uacfc\", \"\\uc218\\ud589\", \"\\uc218\\ud589\\ud558\\ub294\", \"\\uc5d0\\uc13c\\uc2a4\", \"\\uc81c\\uacf5\", \"\\uc81c\\ucd9c\", \"\\uc81c\\ud55c\", \"\\uc911\\ub3c4\", \"\\uc9c1\\ubb34\\ub97c\", \"\\ucea0\\ud37c\\uc2a4\", \"\\ucee4\\ub9ac\\ud058\\ub7fc\", \"\\ud3ec\\uae30\", \"\\ud3ec\\uc2a4\\ud130\\uc758\", \"\\ud53c\\ub4dc\\ubc31\", \"1\\uc8fc\\ucc28\", \"3\\uc8fc\\ucc28\", \"\\uc774\\uc6a9\\ud558\\uc5ec\", \"\\uc9c1\\ubb34\", \"\\uacfc\\uc81c\", \"\\uc791\\uc131\", \"\\uc544\\ub798\", \"\\ud504\\ub85c\\uadf8\\ub7a8\", \"2\\uc8fc\\ucc28\", \"4\\uc8fc\\ucc28\", \"\\uc2ec\\uc0ac\", \"\\uc9c0\\uc6d0\\uc11c\", \"\\uc774\\uc6a9\", \"\\uc804\\ub7b5\", \"0313304042\", \"\\ud574\\uc678\\uc601\\uc5c5\", \"\\ubc1b\\uc744\", \"\\uc18c\\uac1c\", \"\\uc218\\ud589\\uc5d0\", \"\\uc218\\ud589\\ud558\\uba70\", \"\\uc788\\uc2b5\\ub2c8\\ub2e4\", \"\\ucde8\\uc5c5\\uc744\", \"\\ud53c\\ub4dc\\ubc31\\uc744\", \"\\ud544\\uc694\\ud55c\", \"\\ud574\\uc678\\uc601\\uc5c5\\ubd80\\uc11c\", \"\\ud76c\\ub9dd\\ud558\\ub294\", \"b2b\", \"\\ub9c8\\ub828\", \"16\\uba85\", \"1\\ubc18\\uc5d0\", \"2\\uac1c\\ubc18\", \"611\\uc77c\\uae4c\\uc9c0\", \"626\\uc6d4\", \"628\\uc218\", \"73\\uc6d4\", \"87\\uc6d4\\uae4c\\uc9c0\", \"8\\uba85\\uc73c\\ub85c\", \"\\uae30\\ub300\\ud6a8\\uacfc\", \"\\ub300\\ube44\", \"\\ub9ce\\uc740\", \"\\ubc14\\ub78d\\ub2c8\\ub2e4\", \"\\ubc29\\ud559\", \"\\ube44\\uace0\", \"\\uc120\\ubc1c\\uc9c0\\uc6d0\\uc790\\uc758\", \"\\uc2e4\\ubb34\\ub97c\", \"\\uc5c5\\ubb34\", \"\\ud604\\uc9c1\\uc790\\uc758\", \"\\uacfc\\uc81c\", \"\\uc9c1\\ubb34\", \"11\", \"\\uc5ed\\ub7c9\", \"2\\uc8fc\\ucc28\", \"4\\uc8fc\\ucc28\", \"\\uc2ec\\uc0ac\", \"\\uc9c0\\uc6d0\\uc11c\", \"\\ud53c\\ub4dc\\ubc31\", \"\\uc791\\uc131\", \"\\ud568\\uaed8\", \"\\ud504\\ub85c\\uc138\\uc2a4\", \"0313304042\", \"\\ub3d9\\uc548\", \"\\ubc29\\ubc95\", \"\\uc218\\ub9bd\", \"\\uad00\\ub828\", \"0221732234\", \"\\uad00\\uc2ec\\ub3c4\\uac00\", \"\\uae30\\uc5ec\", \"\\ub192\\uc740\", \"\\ub2e4\\uc591\\ud55c\", \"\\ub9de\\ub294\", \"\\ubcf8\\uc778\\uc5d0\\uac8c\", \"\\ubd84\\uc57c\", \"\\uc124\\uc815\\uc5d0\", \"\\uc628\\ub77c\\uc778\", \"\\uc774\\ud574\", \"\\uc9c1\\ubb34\\ud1a1\\ud1a1\", \"\\uc9c1\\ubb34\\ud2b9\\uac15\", \"\\uc9c4\\ub85c\\ucde8\\uc5c5\\uc9c0\\uc6d0\\uc13c\\ud130\", \"\\ucd94\\uac00\", \"\\ud2b9\\uac15\\uc73c\\ub85c\", \"2021\", \"\\ubd80\\ud2b8\", \"\\ud30c\\uc77c\\uc744\", \"79\\uba85\\uc744\", \"\\uacbd\\ud5d8\", \"\\ub4dc\\ub824\\uc694\", \"\\ubc1b\\uc544\", \"\\uc0ac\\ud56d\", \"\\uc120\\ubc1c\\ub418\\uba74\", \"\\uc120\\ubc1c\\ud558\\uc5ec\", \"\\uc218\\uac15\", \"\\uc218\\ud589\\uc73c\\ub85c\", \"\\uc2e0\\uccad\\uc11c\", \"\\uc9c1\\ubb34\\uc758\", \"\\uc2e0\\uccad\", \"\\ubb38\\uc758\", \"\\uc9c1\\ubb34\", \"\\ud604\\uc9c1\\uc790\\uc640\", \"\\ud504\\ub85c\\uadf8\\ub7a8\", \"\\ud604\\uc9c1\\uc790\", \"5\\uc8fc\", \"\\ucea0\\ud504\", \"\\uc2e4\\ubb34\", \"\\uc0c1\\ud488\\uae30\\ud68d\", \"\\ud504\\ub85c\\uadf8\\ub7a85\\ucc28\", \"it\\uc0b0\\uc5c5\", \"\\ud504\\ub85c\\uadf8\\ub7a86\\ucc28\", \"md\", \"\\ud504\\ub85c\\uadf8\\ub7a87\\ucc28\", \"79\\uba85\\uc744\", \"\\uacbd\\ud5d8\", \"\\ub4dc\\ub824\\uc694\", \"\\ubc1b\\uc544\", \"\\uc0ac\\ud56d\", \"\\uc120\\ubc1c\\ub418\\uba74\", \"\\uc120\\ubc1c\\ud558\\uc5ec\", \"\\uc218\\uac15\", \"\\uc218\\ud589\\uc73c\\ub85c\", \"\\uc2e0\\uccad\\uc11c\", \"\\uc2e0\\uccad\\ud559\\uc0dd\", \"\\uc2e0\\uccad\\ud55c\\ub2e4\", \"\\uc313\\ub294\", \"\\uc774\\uc6a9\\uad8c\\uc744\", \"\\uc791\\uc131\\ud55c\\ub2e4\", \"\\uc9c1\\ubb34\\uad50\\uc721\", \"\\uc9c1\\ubb34\\ubd80\\ud2b8\\ucea0\\ud504\\uc5d0\", \"\\uc9c1\\ubb34\\ubd80\\ud2b8\\ucea0\\ud504\\ucc38\\uac00\\uc2e0\\uccad\\uc11c_\\ud64d\\uae38\\ub3d9hwp\", \"\\ucc38\\uc5ec\", \"\\ucc38\\uc5ec\\ud55c\\ub2e4\", \"\\ucca8\\ubd80\\ub41c\", \"\\ucca8\\ubd80\\ud558\\uc5ec\", \"\\ucea0\\ud504\\ucf54\\uba58\\ud1a0\", \"\\ucf54\\ub4dc\\ub97c\", \"\\ubb38\\uc758\", \"\\ud504\\ub85c\\uadf8\\ub7a8\", \"\\uc9c1\\ubb34\\uc758\", \"\\uc2e0\\uccad\", \"\\uc9c1\\ubb34\", \"\\ud568\\uaed8\", \"0313304042\", \"\\uc544\\ub798\", \"\\uacfc\\uc81c\", \"5\\uc8fc\", \"\\ucea0\\ud504\", \"\\uc2e4\\ubb34\", \"\\uc774\\uc6a9\", \"0221732234\", \"\\uad00\\uc2ec\\ub3c4\\uac00\", \"\\uae30\\uc5ec\", \"\\ub192\\uc740\", \"\\ub2e4\\uc591\\ud55c\", \"\\ub9de\\ub294\", \"\\ubcf8\\uc778\\uc5d0\\uac8c\", \"\\ubd84\\uc57c\", \"\\uc124\\uc815\\uc5d0\", \"\\uc628\\ub77c\\uc778\", \"\\uc774\\ud574\"], \"Freq\": [10.0, 34.0, 8.0, 12.0, 8.0, 2.0, 5.0, 3.0, 3.0, 3.0, 3.0, 3.0, 3.0, 3.0, 3.0, 3.0, 3.0, 3.0, 8.0, 2.0, 2.0, 2.0, 2.0, 2.0, 2.0, 2.0, 2.0, 2.0, 2.0, 2.0, 3.674027088187255, 3.6740267631093366, 3.6740267631093366, 3.6740267631093366, 3.6740267631093366, 3.6740267631093366, 3.6740267631093366, 3.6740267631093366, 3.6740267631093366, 3.6740267631093366, 3.6740267631093366, 3.6740267631093366, 3.6740267631093366, 3.6740267631093366, 3.6740267631093366, 3.6740267631093366, 3.6740267631093366, 3.6740267631093366, 3.6740267631093366, 3.6740267631093366, 3.6740267631093366, 3.6740267631093366, 3.6740267631093366, 3.6740267631093366, 3.6740267631093366, 3.6740267631093366, 3.6740267631093366, 3.6740267631093366, 3.6740267631093366, 3.6740267631093366, 14.048197893945831, 7.132187157113079, 7.132187157113079, 7.132187157113079, 20.964619107040072, 14.04893836592007, 7.9965533356593115, 7.132769900640234, 7.997093944342779, 7.131826861339268, 7.131826861339268, 7.131826861339268, 7.131826861339268, 3.6741844684883747, 3.674180574325438, 3.674139348712097, 10.49840548882348, 3.3674072228872625, 3.3674072228872625, 3.3674072228872625, 3.3674072228872625, 3.3674072228872625, 3.3674072228872625, 3.3674072228872625, 3.3674072228872625, 3.3674072228872625, 3.3674072228872625, 2.5750739260435047, 1.7827405289838514, 1.782740504386469, 1.782740504386469, 1.782740504386469, 1.782740504386469, 1.782740504386469, 1.782740504386469, 1.782740504386469, 1.782740504386469, 1.782740504386469, 1.782740504386469, 1.782740504386469, 1.782740504386469, 1.782740504386469, 1.782740504386469, 1.782740504386469, 1.782740504386469, 1.782740504386469, 3.3680885198558976, 4.9527610148055725, 6.538023273624468, 8.122327627071636, 3.367777048899276, 3.367777048899276, 3.3675245264968683, 3.3675245264968683, 3.3675245264968683, 3.3675245264968683, 3.367045708125697, 2.5749664256872866, 1.7831418451524759, 1.783034377707424, 1.7829188230043171, 1.7828742694614927, 1.7828742694614927, 1.7828463885394055, 2.554647882395146, 1.9535473784072968, 1.9535473784072968, 1.9535473784072968, 1.9535473784072968, 1.9535473784072968, 1.9535473784072968, 1.9535473784072968, 1.9535473784072968, 1.9535473784072968, 1.9535473784072968, 1.9535473784072968, 1.9535473784072968, 1.9535473784072968, 1.9535473784072968, 1.9535473784072968, 1.9535473784072968, 1.3524603465390646, 1.3524603465390646, 1.3524603465390646, 0.7513618588426468, 0.7513618588426468, 0.7513618588426468, 0.7513618588426468, 0.7513618588426468, 0.7513618588426468, 0.7513618588426468, 0.7513618588426468, 0.7513618588426468, 0.7513618588426468, 1.9541524135107113, 3.156659149014927, 2.5551525808793047, 5.558773459527116, 1.3525004352521142, 2.554550810864023, 1.352587134616923, 0.751497712190306, 0.751497712190306, 0.7514108240801499, 0.007218892000140356, 0.007218892000140356, 0.007218892000213518, 0.007218892000213518, 0.007218892000254335, 0.007218892000254335, 0.00721844244276201, 0.00721844244276201, 0.00721844244276201, 0.00721844244276201, 0.00721844244276201, 0.00721844244276201, 0.00721844244276201, 0.00721844244276201, 0.00721844244276201, 0.00721844244276201, 0.00721844244276201, 0.00721844244276201, 0.00721844244276201, 0.00721844244276201, 0.00721844244276201, 0.00721844244276201, 0.00721844244276201, 0.00721844244276201, 0.00721844244276201, 0.00721844244276201, 0.00721844244276201, 0.00721844244276201, 0.00721844244276201, 0.00721844244276201, 0.00721924391619824, 0.007219230687791537, 0.00721922092617869, 0.007219180440774799, 0.007219156630578677, 0.007219064284191467, 0.0072190120538097, 0.007219001233370414, 0.00721897809869836, 0.007218857936839953, 0.007218857936839953, 0.00721882548222735, 0.007218803104426245, 0.0072187833086019984, 0.0072187833086019984, 0.0072187833086019984, 0.0072187833086019984, 0.0072187833086019984, 0.0072187833086019984, 0.0072187833086019984, 0.0072187833086019984, 0.0072187833086019984, 0.0072187833086019984, 0.0072187833086019984], \"Total\": [10.0, 34.0, 8.0, 12.0, 8.0, 2.0, 5.0, 3.0, 3.0, 3.0, 3.0, 3.0, 3.0, 3.0, 3.0, 3.0, 3.0, 3.0, 8.0, 2.0, 2.0, 2.0, 2.0, 2.0, 2.0, 2.0, 2.0, 2.0, 2.0, 2.0, 4.029608407041885, 4.029608206080016, 4.029608206080016, 4.029608206080016, 4.029608206080016, 4.029608206080016, 4.029608206080016, 4.029608206080016, 4.029608206080016, 4.029608206080016, 4.029608206080016, 4.029608206080016, 4.029608206080016, 4.029608206080016, 4.029608206080016, 4.029608206080016, 4.029608206080016, 4.029608206080016, 4.029608206080016, 4.029608206080016, 4.029608206080016, 4.029608206080016, 4.029608206080016, 4.029608206080016, 4.029608206080016, 4.029608206080016, 4.029608206080016, 4.029608206080016, 4.029608206080016, 4.029608206080016, 17.572741192373414, 9.072212545419243, 9.072212545419243, 9.072212545419243, 34.6529393502694, 21.34378690476374, 10.729017413958555, 9.67351291273231, 12.3411412787237, 10.656849029052871, 10.656849029052871, 10.656849029052871, 10.656849029052871, 4.630747285699343, 4.82194763964285, 6.21543540815777, 10.872020897286635, 3.7410227460197674, 3.7410227460197674, 3.7410227460197674, 3.7410227460197674, 3.7410227460197674, 3.7410227460197674, 3.7410227460197674, 3.7410227460197674, 3.7410227460197674, 3.7410227460197674, 2.948689513798375, 2.1563562139805015, 2.156356197713093, 2.156356197713093, 2.156356197713093, 2.156356197713093, 2.156356197713093, 2.156356197713093, 2.156356197713093, 2.156356197713093, 2.156356197713093, 2.156356197713093, 2.156356197713093, 2.156356197713093, 2.156356197713093, 2.156356197713093, 2.156356197713093, 2.156356197713093, 2.156356197713093, 4.605427448984674, 8.783538885423884, 21.34378690476374, 34.6529393502694, 7.198901486487566, 7.198901486487566, 10.656849029052871, 10.656849029052871, 10.656849029052871, 10.656849029052871, 17.572741192373414, 10.729017413958555, 3.6218657243742127, 3.0207961613312486, 6.21543540815777, 2.7574794654499866, 2.7574794654499866, 4.749777990756119, 2.976075898903937, 2.374976541953204, 2.374976541953204, 2.374976541953204, 2.374976541953204, 2.374976541953204, 2.374976541953204, 2.374976541953204, 2.374976541953204, 2.374976541953204, 2.374976541953204, 2.374976541953204, 2.374976541953204, 2.374976541953204, 2.374976541953204, 2.374976541953204, 2.374976541953204, 1.773885576253801, 1.773885576253801, 1.773885576253801, 1.1727874946394485, 1.1727874946394485, 1.1727874946394485, 1.1727874946394485, 1.1727874946394485, 1.1727874946394485, 1.1727874946394485, 1.1727874946394485, 1.1727874946394485, 1.1727874946394485, 3.2391795595203456, 8.619381222906839, 8.018442685357495, 34.6529393502694, 3.3585335852824203, 12.3411412787237, 5.231743569625724, 2.037196751090045, 2.037196751090045, 2.9017168305834384, 1.172779724104996, 1.172779724104996, 1.1727797241375435, 1.1727797241375435, 1.1727797241555555, 1.1727797241555555, 1.1727874946394485, 1.1727874946394485, 1.1727874946394485, 1.1727874946394485, 1.1727874946394485, 1.1727874946394485, 1.1727874946394485, 1.1727874946394485, 1.1727874946394485, 1.1727874946394485, 1.1727874946394485, 1.1727874946394485, 1.1727874946394485, 1.1727874946394485, 1.1727874946394485, 1.1727874946394485, 1.1727874946394485, 1.1727874946394485, 1.1727874946394485, 1.1727874946394485, 1.1727874946394485, 1.1727874946394485, 1.1727874946394485, 1.1727874946394485, 8.018442685357495, 12.3411412787237, 3.2391795595203456, 8.619381222906839, 34.6529393502694, 3.6218657243742127, 6.21543540815777, 9.67351291273231, 21.34378690476374, 2.037196751090045, 2.037196751090045, 2.9017168305834384, 4.630747285699343, 2.374976541953204, 2.374976541953204, 2.374976541953204, 2.374976541953204, 2.374976541953204, 2.374976541953204, 2.374976541953204, 2.374976541953204, 2.374976541953204, 2.374976541953204, 2.374976541953204], \"Category\": [\"Default\", \"Default\", \"Default\", \"Default\", \"Default\", \"Default\", \"Default\", \"Default\", \"Default\", \"Default\", \"Default\", \"Default\", \"Default\", \"Default\", \"Default\", \"Default\", \"Default\", \"Default\", \"Default\", \"Default\", \"Default\", \"Default\", \"Default\", \"Default\", \"Default\", \"Default\", \"Default\", \"Default\", \"Default\", \"Default\", \"Topic1\", \"Topic1\", \"Topic1\", \"Topic1\", \"Topic1\", \"Topic1\", \"Topic1\", \"Topic1\", \"Topic1\", \"Topic1\", \"Topic1\", \"Topic1\", \"Topic1\", \"Topic1\", \"Topic1\", \"Topic1\", \"Topic1\", \"Topic1\", \"Topic1\", \"Topic1\", \"Topic1\", \"Topic1\", \"Topic1\", \"Topic1\", \"Topic1\", \"Topic1\", \"Topic1\", \"Topic1\", \"Topic1\", \"Topic1\", \"Topic1\", \"Topic1\", \"Topic1\", \"Topic1\", \"Topic1\", \"Topic1\", \"Topic1\", \"Topic1\", \"Topic1\", \"Topic1\", \"Topic1\", \"Topic1\", \"Topic1\", \"Topic1\", \"Topic1\", \"Topic1\", \"Topic2\", \"Topic2\", \"Topic2\", \"Topic2\", \"Topic2\", \"Topic2\", \"Topic2\", \"Topic2\", \"Topic2\", \"Topic2\", \"Topic2\", \"Topic2\", \"Topic2\", \"Topic2\", \"Topic2\", \"Topic2\", \"Topic2\", \"Topic2\", \"Topic2\", \"Topic2\", \"Topic2\", \"Topic2\", \"Topic2\", \"Topic2\", \"Topic2\", \"Topic2\", \"Topic2\", \"Topic2\", \"Topic2\", \"Topic2\", \"Topic2\", \"Topic2\", \"Topic2\", \"Topic2\", \"Topic2\", \"Topic2\", \"Topic2\", \"Topic2\", \"Topic2\", \"Topic2\", \"Topic2\", \"Topic2\", \"Topic2\", \"Topic2\", \"Topic2\", \"Topic2\", \"Topic2\", \"Topic2\", \"Topic3\", \"Topic3\", \"Topic3\", \"Topic3\", \"Topic3\", \"Topic3\", \"Topic3\", \"Topic3\", \"Topic3\", \"Topic3\", \"Topic3\", \"Topic3\", \"Topic3\", \"Topic3\", \"Topic3\", \"Topic3\", \"Topic3\", \"Topic3\", \"Topic3\", \"Topic3\", \"Topic3\", \"Topic3\", \"Topic3\", \"Topic3\", \"Topic3\", \"Topic3\", \"Topic3\", \"Topic3\", \"Topic3\", \"Topic3\", \"Topic3\", \"Topic3\", \"Topic3\", \"Topic3\", \"Topic3\", \"Topic3\", \"Topic3\", \"Topic3\", \"Topic3\", \"Topic3\", \"Topic4\", \"Topic4\", \"Topic4\", \"Topic4\", \"Topic4\", \"Topic4\", \"Topic4\", \"Topic4\", \"Topic4\", \"Topic4\", \"Topic4\", \"Topic4\", \"Topic4\", \"Topic4\", \"Topic4\", \"Topic4\", \"Topic4\", \"Topic4\", \"Topic4\", \"Topic4\", \"Topic4\", \"Topic4\", \"Topic4\", \"Topic4\", \"Topic4\", \"Topic4\", \"Topic4\", \"Topic4\", \"Topic4\", \"Topic4\", \"Topic4\", \"Topic4\", \"Topic4\", \"Topic4\", \"Topic4\", \"Topic4\", \"Topic4\", \"Topic4\", \"Topic4\", \"Topic4\", \"Topic4\", \"Topic4\", \"Topic4\", \"Topic4\", \"Topic4\", \"Topic4\", \"Topic4\", \"Topic4\", \"Topic4\", \"Topic4\", \"Topic4\", \"Topic4\", \"Topic4\", \"Topic4\"], \"logprob\": [30.0, 29.0, 28.0, 27.0, 26.0, 25.0, 24.0, 23.0, 22.0, 21.0, 20.0, 19.0, 18.0, 17.0, 16.0, 15.0, 14.0, 13.0, 12.0, 11.0, 10.0, 9.0, 8.0, 7.0, 6.0, 5.0, 4.0, 3.0, 2.0, 1.0, -5.0149, -5.0149, -5.0149, -5.0149, -5.0149, -5.0149, -5.0149, -5.0149, -5.0149, -5.0149, -5.0149, -5.0149, -5.0149, -5.0149, -5.0149, -5.0149, -5.0149, -5.0149, -5.0149, -5.0149, -5.0149, -5.0149, -5.0149, -5.0149, -5.0149, -5.0149, -5.0149, -5.0149, -5.0149, -5.0149, -3.6737, -4.3516, -4.3516, -4.3516, -3.2734, -3.6737, -4.2372, -4.3515, -4.2371, -4.3517, -4.3517, -4.3517, -4.3517, -5.0149, -5.0149, -5.0149, -3.4279, -4.565, -4.565, -4.565, -4.565, -4.565, -4.565, -4.565, -4.565, -4.565, -4.565, -4.8332, -5.201, -5.201, -5.201, -5.201, -5.201, -5.201, -5.201, -5.201, -5.201, -5.201, -5.201, -5.201, -5.201, -5.201, -5.201, -5.201, -5.201, -5.201, -4.5648, -4.1792, -3.9015, -3.6845, -4.5649, -4.5649, -4.5649, -4.5649, -4.5649, -4.5649, -4.5651, -4.8333, -5.2007, -5.2008, -5.2009, -5.2009, -5.2009, -5.2009, -3.9341, -4.2024, -4.2024, -4.2024, -4.2024, -4.2024, -4.2024, -4.2024, -4.2024, -4.2024, -4.2024, -4.2024, -4.2024, -4.2024, -4.2024, -4.2024, -4.2024, -4.5701, -4.5701, -4.5701, -5.1579, -5.1579, -5.1579, -5.1579, -5.1579, -5.1579, -5.1579, -5.1579, -5.1579, -5.1579, -4.2021, -3.7225, -3.9339, -3.1567, -4.5701, -3.9342, -4.57, -5.1577, -5.1577, -5.1578, -5.8318, -5.8318, -5.8318, -5.8318, -5.8318, -5.8318, -5.8319, -5.8319, -5.8319, -5.8319, -5.8319, -5.8319, -5.8319, -5.8319, -5.8319, -5.8319, -5.8319, -5.8319, -5.8319, -5.8319, -5.8319, -5.8319, -5.8319, -5.8319, -5.8319, -5.8319, -5.8319, -5.8319, -5.8319, -5.8319, -5.8318, -5.8318, -5.8318, -5.8318, -5.8318, -5.8318, -5.8318, -5.8318, -5.8318, -5.8318, -5.8318, -5.8318, -5.8318, -5.8318, -5.8318, -5.8318, -5.8318, -5.8318, -5.8318, -5.8318, -5.8318, -5.8318, -5.8318, -5.8318], \"loglift\": [30.0, 29.0, 28.0, 27.0, 26.0, 25.0, 24.0, 23.0, 22.0, 21.0, 20.0, 19.0, 18.0, 17.0, 16.0, 15.0, 14.0, 13.0, 12.0, 11.0, 10.0, 9.0, 8.0, 7.0, 6.0, 5.0, 4.0, 3.0, 2.0, 1.0, 0.5091, 0.5091, 0.5091, 0.5091, 0.5091, 0.5091, 0.5091, 0.5091, 0.5091, 0.5091, 0.5091, 0.5091, 0.5091, 0.5091, 0.5091, 0.5091, 0.5091, 0.5091, 0.5091, 0.5091, 0.5091, 0.5091, 0.5091, 0.5091, 0.5091, 0.5091, 0.5091, 0.5091, 0.5091, 0.5091, 0.3776, 0.3609, 0.3609, 0.3609, 0.0989, 0.1833, 0.3075, 0.2968, 0.1676, 0.1998, 0.1998, 0.1998, 0.1998, 0.3701, 0.3296, 0.0758, 1.1036, 1.0334, 1.0334, 1.0334, 1.0334, 1.0334, 1.0334, 1.0334, 1.0334, 1.0334, 1.0334, 1.0031, 0.9483, 0.9483, 0.9483, 0.9483, 0.9483, 0.9483, 0.9483, 0.9483, 0.9483, 0.9483, 0.9483, 0.9483, 0.9483, 0.9483, 0.9483, 0.9483, 0.9483, 0.9483, 0.8257, 0.5657, -0.0445, -0.3122, 0.3789, 0.3789, -0.0134, -0.0134, -0.0134, -0.0134, -0.5137, -0.2885, 0.43, 0.6114, -0.1102, 0.7025, 0.7025, 0.1587, 1.893, 1.8503, 1.8503, 1.8503, 1.8503, 1.8503, 1.8503, 1.8503, 1.8503, 1.8503, 1.8503, 1.8503, 1.8503, 1.8503, 1.8503, 1.8503, 1.8503, 1.7744, 1.7744, 1.7744, 1.6004, 1.6004, 1.6004, 1.6004, 1.6004, 1.6004, 1.6004, 1.6004, 1.6004, 1.6004, 1.5403, 1.0412, 0.902, 0.2157, 1.1361, 0.4706, 0.6929, 1.0484, 1.0484, 0.6946, 0.9265, 0.9265, 0.9265, 0.9265, 0.9265, 0.9265, 0.9264, 0.9264, 0.9264, 0.9264, 0.9264, 0.9264, 0.9264, 0.9264, 0.9264, 0.9264, 0.9264, 0.9264, 0.9264, 0.9264, 0.9264, 0.9264, 0.9264, 0.9264, 0.9264, 0.9264, 0.9264, 0.9264, 0.9264, 0.9264, -0.9958, -1.427, -0.0894, -1.0681, -2.4595, -0.2011, -0.7411, -1.1835, -1.9749, 0.3743, 0.3743, 0.0206, -0.4469, 0.2209, 0.2209, 0.2209, 0.2209, 0.2209, 0.2209, 0.2209, 0.2209, 0.2209, 0.2209, 0.2209]}, \"token.table\": {\"Topic\": [3, 1, 2, 3, 1, 1, 2, 1, 1, 1, 1, 2, 2, 1, 2, 3, 2, 1, 2, 1, 1, 2, 1, 2, 1, 3, 2, 2, 2, 2, 3, 2, 2, 1, 2, 1, 3, 3, 1, 1, 1, 3, 1, 2, 3, 1, 3, 3, 2, 3, 1, 3, 3, 2, 2, 3, 3, 2, 2, 3, 1, 1, 2, 3, 2, 3, 1, 2, 2, 3, 2, 1, 3, 3, 1, 3, 2, 1, 3, 3, 3, 2, 3, 3, 2, 3, 1, 2, 1, 2, 3, 1, 2, 1, 2, 3, 3, 3, 3, 1, 3, 2, 1, 2, 3, 1, 2, 3, 1, 2, 1, 1, 2, 3, 1, 3, 3, 1, 2, 3, 2, 1, 2, 3, 1, 2, 1, 1, 1, 1, 1, 2, 1, 2, 3, 3, 1, 3, 3, 1, 3, 3, 3, 3, 3, 3, 3, 3, 3, 2, 1, 1, 3, 3, 1, 3, 3, 3, 1, 1, 1, 2, 3, 3, 3, 3, 1, 2, 1, 2, 2, 2, 1, 2, 3, 2, 2, 1, 3, 2, 3, 1, 2, 2], \"Freq\": [0.8421135807746465, 0.6435590972033902, 0.3217795486016951, 0.16088977430084755, 0.9926523362655104, 0.5556403303348508, 0.41673024775113815, 0.9926523362655104, 0.9926523362655104, 0.9926523362655104, 0.9926523362655104, 0.9274905519417824, 0.9274905519417824, 0.7715868609730107, 0.2204533888494316, 0.563734219042392, 0.9274905519417824, 0.656854571263653, 0.28150910197013695, 0.9926523362655104, 0.7715868609730107, 0.2204533888494316, 0.656854571263653, 0.28150910197013695, 0.49087060415982353, 0.49087060415982353, 0.9274905519417824, 0.9274905519417824, 0.9274905519417824, 0.9274905519417824, 0.852669392000493, 0.9274905519417824, 0.9274905519417824, 0.9926523362655104, 1.0174011152959705, 0.9926523362655104, 0.8526750415431978, 0.8526750415301021, 0.9926523362655104, 0.9926523362655104, 0.9926523362655104, 0.852669392000493, 0.6559285876713531, 0.32796429383567655, 0.04685204197652522, 0.9926523362655104, 1.0080388074460314, 0.8421135807746465, 0.9274905519417824, 0.8421135807746465, 0.9926523362655104, 0.8421135807746465, 0.8421135807746465, 0.9274905519417824, 0.7253000521161178, 0.3626500260580589, 0.852669392000493, 0.9274905449448552, 0.9274905519417824, 0.8421135807746465, 0.9926523362655104, 0.4988499833395845, 0.24942499166979226, 0.3741374875046884, 0.9274905519417824, 0.852669392000493, 0.9926523362655104, 0.8019197432551907, 0.7253000521161178, 0.3626500260580589, 0.9274905519417824, 0.9926522867606332, 0.8421135807746465, 0.563734219042392, 0.9926523362655104, 0.8421135807746465, 0.9274905519417824, 0.9926523362655104, 0.852669392000493, 0.8526750415668617, 0.852669392000493, 0.9274905519417824, 0.852669392000493, 0.8421135807746465, 0.8019197432551907, 0.852669392000493, 0.6316084679828222, 0.42107231198854816, 0.9926523362655104, 0.8019197432551907, 0.852669392000493, 0.9926523362655104, 0.8019197432551907, 0.46407043574886947, 0.23203521787443473, 0.3480528268116521, 0.852669392000493, 0.852669392000493, 0.852669392000493, 0.6892471308435244, 0.3446235654217622, 0.9274905519417824, 0.656854571263653, 0.28150910197013695, 0.852669392000493, 0.7236254360901898, 0.20675012459719708, 0.10337506229859854, 0.21713511092666607, 0.6514053327799982, 0.9926523362655104, 0.5556403303348508, 0.41673024775113815, 0.8421135807746465, 0.8637914688959135, 0.21594786722397838, 0.852669392000493, 0.7715868609730107, 0.2204533888494316, 0.8421135807746465, 0.8019197432551907, 0.7456414405285542, 0.27961554019820783, 0.852669392000493, 0.8295403224860133, 0.20738508062150332, 0.9926523362655104, 0.9926523362655104, 0.9926523362655104, 0.9926523362655104, 0.656854571263653, 0.28150910197013695, 0.6060091984617386, 0.2308606470330433, 0.17314548527478246, 0.852669392000493, 0.9926523362655104, 0.852669392000493, 0.852669392000493, 0.30872015015681287, 0.6174403003136257, 0.8421135807746465, 0.8421135807746465, 0.8421135807746465, 0.852669392000493, 0.852669392000493, 0.852669392000493, 0.852669392000493, 0.8421135807746465, 0.8019197432551907, 0.9926523362655104, 0.49087060415982353, 0.49087060415982353, 0.852669392000493, 0.9926523362655104, 0.852669392000493, 0.8421135807746465, 0.563734219042392, 0.9926523362655104, 0.9926523362655104, 0.6482382641378648, 0.1620595660344662, 0.24308934905169927, 0.8526750415668617, 0.8526750415431978, 0.8526750415301021, 0.33103855625905765, 0.6620771125181153, 0.7966884532548635, 0.17071895426889933, 0.8019197432551907, 0.8019197432551907, 0.27610079337570703, 0.5522015867514141, 0.27610079337570703, 0.9197921982007716, 0.8019197432551907, 0.7645634666085436, 0.1911408666521359, 0.595497990183659, 0.2977489950918295, 0.45539731219701485, 0.5692466402462686, 0.8019197432551907], \"Term\": [\"0221732234\", \"0313304042\", \"0313304042\", \"0313304042\", \"1029\\uc77c\\uae4c\\uc9c0\", \"11\", \"11\", \"111\\uc218\\uc9c0\\uc6d0\\uc11c\", \"113\\uae08\", \"116\\uc6d4\", \"1210\\uc218\\uae4c\\uc9c0\", \"16\\uba85\", \"1\\ubc18\\uc5d0\", \"1\\uc8fc\\ucc28\", \"1\\uc8fc\\ucc28\", \"2021\", \"2\\uac1c\\ubc18\", \"2\\uc8fc\\ucc28\", \"2\\uc8fc\\ucc28\", \"3\\uac1c\\uc6d4\", \"3\\uc8fc\\ucc28\", \"3\\uc8fc\\ucc28\", \"4\\uc8fc\\ucc28\", \"4\\uc8fc\\ucc28\", \"5\\uc8fc\", \"5\\uc8fc\", \"611\\uc77c\\uae4c\\uc9c0\", \"626\\uc6d4\", \"628\\uc218\", \"73\\uc6d4\", \"79\\uba85\\uc744\", \"87\\uc6d4\\uae4c\\uc9c0\", \"8\\uba85\\uc73c\\ub85c\", \"8\\uba85\\uc9c0\\uc6d0\\uc790\\uc758\", \"b2b\", \"hufsability\", \"it\\uc0b0\\uc5c5\", \"md\", \"qa\", \"qr\\ucf54\\ub4dc\", \"\\uac15\\uc758\", \"\\uacbd\\ud5d8\", \"\\uacfc\\uc81c\", \"\\uacfc\\uc81c\", \"\\uacfc\\uc81c\", \"\\uacfc\\uc81c\\ubc1c\\ud45c\", \"\\uad00\\ub828\", \"\\uad00\\uc2ec\\ub3c4\\uac00\", \"\\uae30\\ub300\\ud6a8\\uacfc\", \"\\uae30\\uc5ec\", \"\\uae30\\ud68c\", \"\\ub192\\uc740\", \"\\ub2e4\\uc591\\ud55c\", \"\\ub300\\ube44\", \"\\ub3d9\\uc548\", \"\\ub3d9\\uc548\", \"\\ub4dc\\ub824\\uc694\", \"\\ub9c8\\ub828\", \"\\ub9ce\\uc740\", \"\\ub9de\\ub294\", \"\\uba58\\ud1a0\\ub9c1\\uc744\", \"\\ubb38\\uc758\", \"\\ubb38\\uc758\", \"\\ubb38\\uc758\", \"\\ubc14\\ub78d\\ub2c8\\ub2e4\", \"\\ubc1b\\uc544\", \"\\ubc1b\\uc73c\\uba70\", \"\\ubc1b\\uc744\", \"\\ubc29\\ubc95\", \"\\ubc29\\ubc95\", \"\\ubc29\\ud559\", \"\\ubcf4\\uace0\", \"\\ubcf8\\uc778\\uc5d0\\uac8c\", \"\\ubd80\\ud2b8\", \"\\ubd80\\ud2b8\\ucea0\\ud504\\ub97c\", \"\\ubd84\\uc57c\", \"\\ube44\\uace0\", \"\\ube44\\uad50\\uacfc\", \"\\uc0ac\\ud56d\", \"\\uc0c1\\ud488\\uae30\\ud68d\", \"\\uc120\\ubc1c\\ub418\\uba74\", \"\\uc120\\ubc1c\\uc9c0\\uc6d0\\uc790\\uc758\", \"\\uc120\\ubc1c\\ud558\\uc5ec\", \"\\uc124\\uc815\\uc5d0\", \"\\uc18c\\uac1c\", \"\\uc218\\uac15\", \"\\uc218\\ub9bd\", \"\\uc218\\ub9bd\", \"\\uc218\\ud589\", \"\\uc218\\ud589\\uc5d0\", \"\\uc218\\ud589\\uc73c\\ub85c\", \"\\uc218\\ud589\\ud558\\ub294\", \"\\uc218\\ud589\\ud558\\uba70\", \"\\uc2e0\\uccad\", \"\\uc2e0\\uccad\", \"\\uc2e0\\uccad\", \"\\uc2e0\\uccad\\uc11c\", \"\\uc2e0\\uccad\\ud559\\uc0dd\", \"\\uc2e0\\uccad\\ud55c\\ub2e4\", \"\\uc2e4\\ubb34\", \"\\uc2e4\\ubb34\", \"\\uc2e4\\ubb34\\ub97c\", \"\\uc2ec\\uc0ac\", \"\\uc2ec\\uc0ac\", \"\\uc313\\ub294\", \"\\uc544\\ub798\", \"\\uc544\\ub798\", \"\\uc544\\ub798\", \"\\uc5c5\\ubb34\", \"\\uc5c5\\ubb34\", \"\\uc5d0\\uc13c\\uc2a4\", \"\\uc5ed\\ub7c9\", \"\\uc5ed\\ub7c9\", \"\\uc628\\ub77c\\uc778\", \"\\uc774\\uc6a9\", \"\\uc774\\uc6a9\", \"\\uc774\\uc6a9\\uad8c\\uc744\", \"\\uc774\\uc6a9\\ud558\\uc5ec\", \"\\uc774\\uc6a9\\ud558\\uc5ec\", \"\\uc774\\ud574\", \"\\uc788\\uc2b5\\ub2c8\\ub2e4\", \"\\uc791\\uc131\", \"\\uc791\\uc131\", \"\\uc791\\uc131\\ud55c\\ub2e4\", \"\\uc804\\ub7b5\", \"\\uc804\\ub7b5\", \"\\uc81c\\uacf5\", \"\\uc81c\\ucd9c\", \"\\uc81c\\ud55c\", \"\\uc911\\ub3c4\", \"\\uc9c0\\uc6d0\\uc11c\", \"\\uc9c0\\uc6d0\\uc11c\", \"\\uc9c1\\ubb34\", \"\\uc9c1\\ubb34\", \"\\uc9c1\\ubb34\", \"\\uc9c1\\ubb34\\uad50\\uc721\", \"\\uc9c1\\ubb34\\ub97c\", \"\\uc9c1\\ubb34\\ubd80\\ud2b8\\ucea0\\ud504\\uc5d0\", \"\\uc9c1\\ubb34\\ubd80\\ud2b8\\ucea0\\ud504\\ucc38\\uac00\\uc2e0\\uccad\\uc11c_\\ud64d\\uae38\\ub3d9hwp\", \"\\uc9c1\\ubb34\\uc758\", \"\\uc9c1\\ubb34\\uc758\", \"\\uc9c1\\ubb34\\ud1a1\\ud1a1\", \"\\uc9c1\\ubb34\\ud2b9\\uac15\", \"\\uc9c4\\ub85c\\ucde8\\uc5c5\\uc9c0\\uc6d0\\uc13c\\ud130\", \"\\ucc38\\uc5ec\", \"\\ucc38\\uc5ec\\ud55c\\ub2e4\", \"\\ucca8\\ubd80\\ub41c\", \"\\ucca8\\ubd80\\ud558\\uc5ec\", \"\\ucd94\\uac00\", \"\\ucde8\\uc5c5\\uc744\", \"\\ucea0\\ud37c\\uc2a4\", \"\\ucea0\\ud504\", \"\\ucea0\\ud504\", \"\\ucea0\\ud504\\ucf54\\uba58\\ud1a0\", \"\\ucee4\\ub9ac\\ud058\\ub7fc\", \"\\ucf54\\ub4dc\\ub97c\", \"\\ud2b9\\uac15\\uc73c\\ub85c\", \"\\ud30c\\uc77c\\uc744\", \"\\ud3ec\\uae30\", \"\\ud3ec\\uc2a4\\ud130\\uc758\", \"\\ud504\\ub85c\\uadf8\\ub7a8\", \"\\ud504\\ub85c\\uadf8\\ub7a8\", \"\\ud504\\ub85c\\uadf8\\ub7a8\", \"\\ud504\\ub85c\\uadf8\\ub7a85\\ucc28\", \"\\ud504\\ub85c\\uadf8\\ub7a86\\ucc28\", \"\\ud504\\ub85c\\uadf8\\ub7a87\\ucc28\", \"\\ud504\\ub85c\\uc138\\uc2a4\", \"\\ud504\\ub85c\\uc138\\uc2a4\", \"\\ud53c\\ub4dc\\ubc31\", \"\\ud53c\\ub4dc\\ubc31\", \"\\ud53c\\ub4dc\\ubc31\\uc744\", \"\\ud544\\uc694\\ud55c\", \"\\ud568\\uaed8\", \"\\ud568\\uaed8\", \"\\ud568\\uaed8\", \"\\ud574\\uc678\\uc601\\uc5c5\", \"\\ud574\\uc678\\uc601\\uc5c5\\ubd80\\uc11c\", \"\\ud604\\uc9c1\\uc790\", \"\\ud604\\uc9c1\\uc790\", \"\\ud604\\uc9c1\\uc790\\uc640\", \"\\ud604\\uc9c1\\uc790\\uc640\", \"\\ud604\\uc9c1\\uc790\\uc758\", \"\\ud604\\uc9c1\\uc790\\uc758\", \"\\ud76c\\ub9dd\\ud558\\ub294\"]}, \"R\": 30, \"lambda.step\": 0.01, \"plot.opts\": {\"xlab\": \"PC1\", \"ylab\": \"PC2\"}, \"topic.order\": [3, 4, 2, 1]};\n",
              "\n",
              "function LDAvis_load_lib(url, callback){\n",
              "  var s = document.createElement('script');\n",
              "  s.src = url;\n",
              "  s.async = true;\n",
              "  s.onreadystatechange = s.onload = callback;\n",
              "  s.onerror = function(){console.warn(\"failed to load library \" + url);};\n",
              "  document.getElementsByTagName(\"head\")[0].appendChild(s);\n",
              "}\n",
              "\n",
              "if(typeof(LDAvis) !== \"undefined\"){\n",
              "   // already loaded: just create the visualization\n",
              "   !function(LDAvis){\n",
              "       new LDAvis(\"#\" + \"ldavis_el5171356902505116167504219240\", ldavis_el5171356902505116167504219240_data);\n",
              "   }(LDAvis);\n",
              "}else if(typeof define === \"function\" && define.amd){\n",
              "   // require.js is available: use it to load d3/LDAvis\n",
              "   require.config({paths: {d3: \"https://d3js.org/d3.v5\"}});\n",
              "   require([\"d3\"], function(d3){\n",
              "      window.d3 = d3;\n",
              "      LDAvis_load_lib(\"https://cdn.jsdelivr.net/gh/bmabey/pyLDAvis@3.4.0/pyLDAvis/js/ldavis.v3.0.0.js\", function(){\n",
              "        new LDAvis(\"#\" + \"ldavis_el5171356902505116167504219240\", ldavis_el5171356902505116167504219240_data);\n",
              "      });\n",
              "    });\n",
              "}else{\n",
              "    // require.js not available: dynamically load d3 & LDAvis\n",
              "    LDAvis_load_lib(\"https://d3js.org/d3.v5.js\", function(){\n",
              "         LDAvis_load_lib(\"https://cdn.jsdelivr.net/gh/bmabey/pyLDAvis@3.4.0/pyLDAvis/js/ldavis.v3.0.0.js\", function(){\n",
              "                 new LDAvis(\"#\" + \"ldavis_el5171356902505116167504219240\", ldavis_el5171356902505116167504219240_data);\n",
              "            })\n",
              "         });\n",
              "}\n",
              "</script>"
            ]
          },
          "metadata": {},
          "execution_count": 61
        }
      ]
    },
    {
      "cell_type": "markdown",
      "source": [
        "#### 목표와 프로그램에 가중치 를 더 준 경우"
      ],
      "metadata": {
        "id": "VolueCJRScL_"
      }
    },
    {
      "cell_type": "code",
      "source": [
        "workshop['soup'] = workshop.apply(create_soup, weight = [1,2,0,1], axis=1)\n",
        "count = CountVectorizer()\n",
        "count_matrix = count.fit_transform(workshop['soup'])\n",
        "indices = pd.Series(workshop.index, index=workshop['프로그램명'])\n",
        "# cosine 유사도 구하기\n",
        "cosine_sim2 = cosine_similarity(count_matrix, count_matrix)"
      ],
      "metadata": {
        "id": "ytsCt98TSnSC",
        "colab": {
          "base_uri": "https://localhost:8080/"
        },
        "outputId": "da5a1452-dc66-43b3-cee7-c292ae224175"
      },
      "execution_count": 62,
      "outputs": [
        {
          "output_type": "stream",
          "name": "stderr",
          "text": [
            "/usr/local/lib/python3.10/dist-packages/ipykernel/ipkernel.py:283: DeprecationWarning:\n",
            "\n",
            "`should_run_async` will not call `transform_cell` automatically in the future. Please pass the result to `transformed_cell` argument and any exception that happen during thetransform in `preprocessing_exc_tuple` in IPython 7.17 and above.\n",
            "\n"
          ]
        }
      ]
    },
    {
      "cell_type": "code",
      "source": [
        "target = workshop.iloc[20]\n",
        "\n",
        "print('프로그램명 : ',target['프로그램명'])\n",
        "print('추천 목록: ')\n",
        "recom_df = get_recommendations(workshop, indices, target['프로그램명'], cosine_sim2)\n",
        "print(recom_df['프로그램명'])"
      ],
      "metadata": {
        "id": "RWW4BJPSSnSC",
        "colab": {
          "base_uri": "https://localhost:8080/"
        },
        "outputId": "9078d43a-2ab1-4e3a-980c-832d1c1b6c4b"
      },
      "execution_count": 63,
      "outputs": [
        {
          "output_type": "stream",
          "name": "stdout",
          "text": [
            "프로그램명 :  직무 부트캠프GMP 전체를 보는 눈과 핵심 개념으로 제약공장 품질QAQC업무알기\n",
            "추천 목록: \n",
            "23            직무 부트캠프무역 프로세스 완벽 이해하기  서류 작성부터 클레임 대처까지\n",
            "22                직무 부트캠프GMP환경 학교에선 알려주지 않는 환경 실무 이해하기\n",
            "24         직무 부트캠프10년차 현직 PD와 함께 방송 영상 콘텐츠 기획제작연출 이해하기\n",
            "21      직무 부트캠프이것이 찐현실 콘텐츠 마케팅 실무 5주 완성 병아리 콘텐츠 마케터 캠프\n",
            "165                 하계방학 대비 해외영업 직무 부트캠프해외영업 시장분석 전략수립\n",
            "166              하계방학 대비 해외영업 직무 부트캠프제조업 B2B 해외영업 프로세스\n",
            "1206                              2021 현직자 직무 부트 캠프코멘토\n",
            "894                     2022 현직자 직무 부트캠프코멘토_한국외대 전용 개설\n",
            "791                                 자소서LAB 2 _ 직무역량 작성\n",
            "1325                   온라인 직무톡톡 직무특강 프로그램7차  MD 직무의 이해\n",
            "Name: 프로그램명, dtype: object\n"
          ]
        },
        {
          "output_type": "stream",
          "name": "stderr",
          "text": [
            "/usr/local/lib/python3.10/dist-packages/ipykernel/ipkernel.py:283: DeprecationWarning:\n",
            "\n",
            "`should_run_async` will not call `transform_cell` automatically in the future. Please pass the result to `transformed_cell` argument and any exception that happen during thetransform in `preprocessing_exc_tuple` in IPython 7.17 and above.\n",
            "\n"
          ]
        }
      ]
    },
    {
      "cell_type": "code",
      "source": [
        "LDA_result = LDA(recom_df, topic_num = 4)\n",
        "table_header, table_cells = get_topic(LDA_result)\n",
        "create_dash_app(recom_df, workshop, table_header, table_cells)"
      ],
      "metadata": {
        "id": "0GxaMnh8XW7F",
        "colab": {
          "base_uri": "https://localhost:8080/",
          "height": 781
        },
        "outputId": "6f482eb6-48c4-4f3f-e46e-e00b6d30f75b"
      },
      "execution_count": 64,
      "outputs": [
        {
          "output_type": "stream",
          "name": "stderr",
          "text": [
            "/usr/local/lib/python3.10/dist-packages/ipykernel/ipkernel.py:283: DeprecationWarning:\n",
            "\n",
            "`should_run_async` will not call `transform_cell` automatically in the future. Please pass the result to `transformed_cell` argument and any exception that happen during thetransform in `preprocessing_exc_tuple` in IPython 7.17 and above.\n",
            "\n"
          ]
        },
        {
          "output_type": "display_data",
          "data": {
            "text/plain": [
              "<IPython.core.display.Javascript object>"
            ],
            "application/javascript": [
              "(async (port, path, width, height, cache, element) => {\n",
              "    if (!google.colab.kernel.accessAllowed && !cache) {\n",
              "      return;\n",
              "    }\n",
              "    element.appendChild(document.createTextNode(''));\n",
              "    const url = await google.colab.kernel.proxyPort(port, {cache});\n",
              "    const iframe = document.createElement('iframe');\n",
              "    iframe.src = new URL(path, url).toString();\n",
              "    iframe.height = height;\n",
              "    iframe.width = width;\n",
              "    iframe.style.border = 0;\n",
              "    iframe.allow = [\n",
              "        'accelerometer',\n",
              "        'autoplay',\n",
              "        'camera',\n",
              "        'clipboard-read',\n",
              "        'clipboard-write',\n",
              "        'gyroscope',\n",
              "        'magnetometer',\n",
              "        'microphone',\n",
              "        'serial',\n",
              "        'usb',\n",
              "        'xr-spatial-tracking',\n",
              "    ].join('; ');\n",
              "    element.appendChild(iframe);\n",
              "  })(8050, \"/\", \"100%\", 650, false, window.element)"
            ]
          },
          "metadata": {}
        },
        {
          "output_type": "execute_result",
          "data": {
            "text/plain": [
              "<dash.dash.Dash at 0x7b69179961d0>"
            ]
          },
          "metadata": {},
          "execution_count": 64
        }
      ]
    },
    {
      "cell_type": "code",
      "source": [
        "# LDA 토픽 모델링 결과를 시각화\n",
        "pyLDAvis.enable_notebook\n",
        "visualization = pyLDAvis.lda_model.prepare(LDA_result['lda'], LDA_result['recom_vec'], LDA_result['count_vectorizer'])\n",
        "pyLDAvis.display(visualization)"
      ],
      "metadata": {
        "id": "bRI1PNf8XW7N",
        "colab": {
          "base_uri": "https://localhost:8080/",
          "height": 953
        },
        "outputId": "ad61a982-00fe-4c96-d6af-bec9e155e1c1"
      },
      "execution_count": 65,
      "outputs": [
        {
          "output_type": "stream",
          "name": "stderr",
          "text": [
            "/usr/local/lib/python3.10/dist-packages/ipykernel/ipkernel.py:283: DeprecationWarning:\n",
            "\n",
            "`should_run_async` will not call `transform_cell` automatically in the future. Please pass the result to `transformed_cell` argument and any exception that happen during thetransform in `preprocessing_exc_tuple` in IPython 7.17 and above.\n",
            "\n"
          ]
        },
        {
          "output_type": "execute_result",
          "data": {
            "text/plain": [
              "<IPython.core.display.HTML object>"
            ],
            "text/html": [
              "\n",
              "<link rel=\"stylesheet\" type=\"text/css\" href=\"https://cdn.jsdelivr.net/gh/bmabey/pyLDAvis@3.4.0/pyLDAvis/js/ldavis.v1.0.0.css\">\n",
              "\n",
              "\n",
              "<div id=\"ldavis_el5171356902406465442760060756\" style=\"background-color:white;\"></div>\n",
              "<script type=\"text/javascript\">\n",
              "\n",
              "var ldavis_el5171356902406465442760060756_data = {\"mdsDat\": {\"x\": [-0.13021793443793492, -0.06413222912298787, 0.1534357716505515, 0.040914391910371196], \"y\": [0.08264947170852556, -0.10740796907729858, 0.02542763115702416, -0.0006691337882510929], \"topics\": [1, 2, 3, 4], \"cluster\": [1, 1, 1, 1], \"Freq\": [46.74877233063863, 32.30508719247207, 18.707751634433, 2.238388842456299]}, \"tinfo\": {\"Term\": [\"\\ud574\\uc678\\uc601\\uc5c5\", \"\\uc9c1\\ubb34\", \"\\uc2e0\\uccad\", \"\\ud504\\ub85c\\uadf8\\ub7a8\", \"\\ucea0\\ud504\", \"\\ubb38\\uc758\", \"\\uad00\\ub828\", \"\\ud655\\uc778\", \"\\ud604\\uc9c1\\uc790\\uc640\", \"\\uc9c1\\ubb34\\uc758\", \"\\ud53c\\ub4dc\\ubc31\", \"\\uc120\\ubc1c\", \"\\uacbd\\ud5d8\", \"\\ubd80\\ud2b8\", \"\\ud604\\uc9c1\\uc790\", \"\\uc218\\ud589\\ud558\\uba70\", \"\\uc218\\ud589\\uc5d0\", \"\\uc18c\\uac1c\", \"\\ucde8\\uc5c5\\uc744\", \"\\ud76c\\ub9dd\\ud558\\ub294\", \"\\ud53c\\ub4dc\\ubc31\\uc744\", \"\\ud574\\uc678\\uc601\\uc5c5\\ubd80\\uc11c\", \"\\ud544\\uc694\\ud55c\", \"\\ubc1b\\uc744\", \"\\uc788\\uc2b5\\ub2c8\\ub2e4\", \"\\ubc14\\ub78d\\ub2c8\\ub2e4\", \"\\ub3d9\\uc548\", \"\\ud30c\\uc77c\\uc744\", \"2021\", \"\\ucf54\\uba58\\ud1a0\\uc5d0\\uc11c\", \"\\ubcf4\\uace0\", \"1029\\uc77c\\uae4c\\uc9c0\", \"111\\uc218\\uc9c0\\uc6d0\\uc11c\", \"113\\uae08\", \"116\\uc6d4\", \"1210\\uc218\\uae4c\\uc9c0\", \"3\\uac1c\\uc6d4\", \"8\\uba85\\uc9c0\\uc6d0\\uc790\\uc758\", \"hufsability\", \"qa\", \"qr\\ucf54\\ub4dc\", \"\\uacfc\\uc81c\\ubc1c\\ud45c\", \"\\uae30\\ud68c\", \"\\uba58\\ud1a0\\ub9c1\\uc744\", \"\\ubc1b\\uc73c\\uba70\", \"\\ubd80\\ud2b8\\ucea0\\ud504\\ub97c\", \"\\ube44\\uad50\\uacfc\", \"\\uc218\\ud589\", \"\\uc218\\ud589\\ud558\\ub294\", \"\\uc5d0\\uc13c\\uc2a4\", \"\\uc81c\\uacf5\", \"\\uc81c\\ucd9c\", \"\\uc81c\\ud55c\", \"\\uc911\\ub3c4\", \"\\uc9c1\\ubb34\\ub97c\", \"\\ucea0\\ud37c\\uc2a4\", \"\\ud3ec\\uae30\", \"\\ud3ec\\uc2a4\\ud130\\uc758\", \"\\ud604\\uc5c5\", \"\\ucf58\\ud150\\uce20\", \"\\ud53c\\ub4dc\\ubc31\", \"1\\uc8fc\\ucc28\", \"3\\uc8fc\\ucc28\", \"\\uc774\\uc6a9\\ud558\\uc5ec\", \"\\uc9c1\\ubb34\", \"\\uacfc\\uc81c\", \"\\uc544\\ub798\", \"4\\uc8fc\\ucc28\", \"\\uc2ec\\uc0ac\", \"\\uc9c0\\uc6d0\\uc11c\", \"\\uc791\\uc131\", \"\\ud504\\ub85c\\uadf8\\ub7a8\", \"2\\uc8fc\\ucc28\", \"\\uac15\\uc758\", \"\\uc774\\uc6a9\", \"\\ubb38\\uc758\", \"\\uc804\\ub7b5\", \"\\ub429\\ub2c8\\ub2e4\", \"\\uc878\\uc5c5\\uc0dd\", \"5\\uc8fc\\ucc28\", \"head312hufsackr\", \"ot\", \"qr\", \"zoom\\uc73c\\ub85c\", \"\\uac15\\ud654\", \"\\ub300\\uc0c1\", \"\\ub530\\ub77c\", \"\\ub9c8\\uac10\", \"\\ubaa8\\uc758\", \"\\ube44\\ub300\\uba74\", \"\\ud574\\uc678\\uc601\\uc5c5\", \"\\uc18c\\uac1c\", \"\\uc218\\ud589\\uc5d0\", \"\\uc218\\ud589\\ud558\\uba70\", \"\\ucde8\\uc5c5\\uc744\", \"\\ud53c\\ub4dc\\ubc31\\uc744\", \"\\ud544\\uc694\\ud55c\", \"\\ud574\\uc678\\uc601\\uc5c5\\ubd80\\uc11c\", \"\\ud76c\\ub9dd\\ud558\\ub294\", \"b2b\", \"\\uc790\\uae30\\uc18c\\uac1c\\uc11c\", \"\\uc9c1\\ubb34\\uc5ed\\ub7c9\", \"\\ub9c8\\ub828\", \"16\\uba85\", \"1\\ubc18\\uc5d0\", \"2\\uac1c\\ubc18\", \"611\\uc77c\\uae4c\\uc9c0\", \"626\\uc6d4\", \"628\\uc218\", \"73\\uc6d4\", \"87\\uc6d4\\uae4c\\uc9c0\", \"8\\uba85\\uc73c\\ub85c\", \"\\uae30\\ub300\\ud6a8\\uacfc\", \"\\ub300\\ube44\", \"\\ub9ce\\uc740\", \"\\ubc29\\ud559\", \"\\ube44\\uace0\", \"\\uc120\\ubc1c\\uc9c0\\uc6d0\\uc790\\uc758\", \"\\uc2e4\\ubb34\\ub97c\", \"\\uc544\\ub798\\uc758\", \"\\ubc1b\\uc744\", \"\\uc788\\uc2b5\\ub2c8\\ub2e4\", \"\\uc5c5\\ubb34\", \"\\ud604\\uc9c1\\uc790\\uc758\", \"\\uc9c1\\ubb34\", \"\\uacfc\\uc81c\", \"11\", \"\\uc5ed\\ub7c9\", \"2\\uc8fc\\ucc28\", \"\\uc791\\uc131\", \"\\ud568\\uaed8\", \"4\\uc8fc\\ucc28\", \"\\uc2ec\\uc0ac\", \"\\uc9c0\\uc6d0\\uc11c\", \"\\ud53c\\ub4dc\\ubc31\", \"\\ubb38\\uc758\", \"\\ud504\\ub85c\\uc138\\uc2a4\", \"\\ubc29\\ubc95\", \"\\uc120\\ubc1c\", \"\\uacbd\\ud5d8\", \"\\ubd80\\ud2b8\", \"4\\uac1c\", \"\\uac00\\ub2a5\", \"\\ub9ac\\uc2a4\\ud2b8xlsx\", \"\\uc6d0\\ud558\\ub294\", \"\\uc804\\uc6a9\", \"\\ucea0\\ud504\\uac00\", \"\\ud55c\\uad6d\\uc678\\uad6d\\uc5b4\\ub300\\ud559\\uad50\", \"\\ub4dc\\ub824\\uc694\", \"\\uc0ac\\ud56d\", \"\\uc120\\ubc1c\\ub418\\uba74\", \"\\uc120\\ubc1c\\ud558\\uc5ec\", \"\\uc218\\uac15\", \"\\uc218\\ud589\\uc73c\\ub85c\", \"\\uc2e0\\uccad\\uc11c\", \"\\uc2e0\\uccad\\ud55c\\ub2e4\", \"\\uc313\\ub294\", \"\\uc774\\uc6a9\\uad8c\\uc744\", \"\\uc9c1\\ubb34\\uad50\\uc721\", \"\\uc9c1\\ubb34\\ubd80\\ud2b8\\ucea0\\ud504\\uc5d0\", \"\\ucc38\\uc5ec\", \"\\ucc38\\uc5ec\\ud55c\\ub2e4\", \"\\ucf54\\ub4dc\\ub97c\", \"\\ucf54\\uba58\\ud1a0\\uc5d0\\uc11c\", \"\\ud568\\uaed8\\ud558\\ub294\", \"\\ud611\\uc5c5\", \"2021\", \"\\ud30c\\uc77c\\uc744\", \"\\ucea0\\ud504\", \"\\ud655\\uc778\", \"\\ud604\\uc9c1\\uc790\\uc640\", \"\\uc2e0\\uccad\", \"\\uc9c1\\ubb34\", \"\\ud504\\ub85c\\uadf8\\ub7a8\", \"\\ud604\\uc9c1\\uc790\", \"\\uad00\\ub828\", \"\\ud568\\uaed8\", \"5\\uc8fc\", \"\\ubb38\\uc758\", \"\\uc2e4\\ubb34\", \"\\ubc14\\ub78d\\ub2c8\\ub2e4\", \"0313304042\", \"\\ub3d9\\uc548\", \"0221732234\", \"md\", \"\\uad00\\uc2ec\\ub3c4\\uac00\", \"\\uae30\\uc5ec\", \"\\ub192\\uc740\", \"\\ub2e4\\uc591\\ud55c\", \"\\ub9de\\ub294\", \"\\ubcf8\\uc778\\uc5d0\\uac8c\", \"\\ubd84\\uc57c\", \"\\uc124\\uc815\\uc5d0\", \"\\uc628\\ub77c\\uc778\", \"\\uc774\\ud574\", \"\\uc9c1\\ubb34\\ud1a1\\ud1a1\", \"\\uc9c1\\ubb34\\ud2b9\\uac15\", \"\\uc9c4\\ub85c\\ucde8\\uc5c5\\uc9c0\\uc6d0\\uc13c\\ud130\", \"\\ucd94\\uac00\", \"\\ud2b9\\uac15\\uc73c\\ub85c\", \"\\ud504\\ub85c\\uadf8\\ub7a87\\ucc28\", \"\\uc9c1\\ubb34\\uc758\", \"\\uad00\\ub828\", \"79\\uba85\\uc744\", \"\\ubc1b\\uc544\", \"\\uc2e0\\uccad\\ud559\\uc0dd\", \"\\uc791\\uc131\\ud55c\\ub2e4\", \"\\uc9c1\\ubb34\\ubd80\\ud2b8\\ucea0\\ud504\\ucc38\\uac00\\uc2e0\\uccad\\uc11c_\\ud64d\\uae38\\ub3d9hwp\", \"\\ucca8\\ubd80\\ub41c\", \"\\ucca8\\ubd80\\ud558\\uc5ec\", \"\\ucea0\\ud504\\ucf54\\uba58\\ud1a0\", \"\\ucf54\\uba58\\ud1a0httpswwwcomentokr\", \"\\ud504\\ub85c\\uadf8\\ub7a8\\uc5d0\", \"\\ubb38\\uc758\", \"\\uc2e0\\uccad\", \"\\ud504\\ub85c\\uadf8\\ub7a8\", \"\\uc9c1\\ubb34\", \"\\uc544\\ub798\", \"\\uac15\\uc758\", \"\\ud568\\uaed8\", \"0313304042\", \"\\uc791\\uc131\", \"\\uc774\\uc6a9\"], \"Freq\": [10.0, 34.0, 8.0, 12.0, 4.0, 7.0, 2.0, 4.0, 4.0, 1.0, 16.0, 2.0, 2.0, 2.0, 5.0, 3.0, 3.0, 3.0, 3.0, 3.0, 3.0, 3.0, 3.0, 4.0, 4.0, 3.0, 3.0, 1.0, 1.0, 1.0, 3.4927492115799366, 3.4927490004704733, 3.4927490004704733, 3.4927490004704733, 3.4927490004704733, 3.4927490004704733, 3.4927490004704733, 3.4927490004704733, 3.4927490004704733, 3.4927490004704733, 3.4927490004704733, 3.4927490004704733, 3.4927490004704733, 3.4927490004704733, 3.4927490004704733, 3.4927490004704733, 3.4927490004704733, 3.4927490004704733, 3.4927490004704733, 3.4927490004704733, 3.4927490004704733, 3.4927490004704733, 3.4927490004704733, 3.4927490004704733, 3.4927490004704733, 3.4927490004704733, 3.4927490004704733, 3.4927490004704733, 3.4927490004704733, 2.6709231088257743, 13.355329112445114, 6.780424585726217, 6.780424585726217, 6.780424585726217, 19.932386248648747, 13.3558526588392, 6.78143833665115, 6.780124655933931, 6.780124655933931, 6.780124655933931, 7.602497444446976, 7.602901259968793, 6.7801277046858415, 3.493383105383167, 3.4931613409269344, 3.4929718577114315, 3.492971472114057, 3.492836091279613, 3.492836091279613, 3.492801087387319, 3.492801087387319, 3.492801087387319, 3.492801087387319, 3.492801087387319, 3.492801087387319, 3.492801087387319, 3.492801087387319, 3.492801087387319, 3.492801087387319, 3.492801087387319, 10.10585647112459, 3.2414966362841127, 3.2414966362841127, 3.2414966362841127, 3.2414966362841127, 3.2414966362841127, 3.2414966362841127, 3.2414966362841127, 3.2414966362841127, 2.4787898682536187, 2.4787789891004874, 2.4787789891004874, 1.7160830228931967, 1.7160830041617765, 1.7160830041617765, 1.7160830041617765, 1.7160830041617765, 1.7160830041617765, 1.7160830041617765, 1.7160830041617765, 1.7160830041617765, 1.7160830041617765, 1.7160830041617765, 1.7160830041617765, 1.7160830041617765, 1.7160830041617765, 1.7160830041617765, 1.7160830041617765, 1.7160830041617765, 1.7160830041617765, 3.241636457273308, 3.241636457273308, 3.2420321951428406, 4.767393840814529, 8.581100793104033, 6.292862263167082, 3.2417205422146083, 3.2417205422146083, 4.004135023322815, 4.004037643598543, 2.4790899482215134, 3.2414330278244115, 3.2414330278244115, 3.2414330278244115, 3.240879155837796, 2.4788910889356326, 1.7163039290422335, 1.71630338891358, 2.1203521336560516, 2.1203499622081456, 2.1203477906340606, 1.4679349200414324, 1.4679349200414324, 1.4679349200414324, 1.4679349200414324, 1.4679349200414324, 1.4679349200414324, 1.4679349200414324, 1.4679315333351233, 1.4679315333351233, 1.4679315333351233, 1.4679315333351233, 1.4679315333351233, 1.4679315333351233, 1.4679315333351233, 1.4679315333351233, 1.4679315333351233, 1.4679315333351233, 1.4679315333351233, 1.4679315333351233, 1.4679315333351233, 1.4679315333351233, 1.4679315333351233, 1.4679315333351233, 1.4679315333351233, 1.4679315333351233, 1.4679281463149212, 1.4679281463149212, 3.426000815281784, 2.7730835669582183, 2.773005850316246, 3.4269370168507693, 5.383430523962302, 3.4268061709460156, 2.120469498479665, 1.4685680441709543, 1.4682059477786014, 1.4681933788690855, 1.4681234303584225, 1.468094968887004, 1.4680372039877767, 1.4679587539474077, 1.4679547653435563, 0.2308668090272855, 0.2308668090272855, 0.2308668090272855, 0.2308668090272855, 0.2308668090272855, 0.2308668090272855, 0.2308668090272855, 0.2308668090272855, 0.2308668090272855, 0.2308668090272855, 0.2308668090272855, 0.2308668090272855, 0.2308668090272855, 0.2308668090272855, 0.2308668090272855, 0.2308668090272855, 0.2308668090272855, 0.2308668090272855, 0.23093793827931064, 0.23095351818959955, 0.04617588926012684, 0.04617588926012684, 0.04617588926012684, 0.04617588926012684, 0.04617588926012684, 0.04617588926012684, 0.04617588926012684, 0.04617588926012684, 0.04617588926012684, 0.04617588926012684, 0.23074601004402445, 0.2305533822961656, 0.23037464589651568, 0.41442773025923213, 0.04617827618911805, 0.046178217022614584, 0.04617819694020025, 0.04617747873739298, 0.04617744454974499, 0.046177338149278165], \"Total\": [10.0, 34.0, 8.0, 12.0, 4.0, 7.0, 2.0, 4.0, 4.0, 1.0, 16.0, 2.0, 2.0, 2.0, 5.0, 3.0, 3.0, 3.0, 3.0, 3.0, 3.0, 3.0, 3.0, 4.0, 4.0, 3.0, 3.0, 1.0, 1.0, 1.0, 3.8927093230330745, 3.8927092185914067, 3.8927092185914067, 3.8927092185914067, 3.8927092185914067, 3.8927092185914067, 3.8927092185914067, 3.8927092185914067, 3.8927092185914067, 3.8927092185914067, 3.8927092185914067, 3.8927092185914067, 3.8927092185914067, 3.8927092185914067, 3.8927092185914067, 3.8927092185914067, 3.8927092185914067, 3.8927092185914067, 3.8927092185914067, 3.8927092185914067, 3.8927092185914067, 3.8927092185914067, 3.8927092185914067, 3.8927092185914067, 3.8927092185914067, 3.8927092185914067, 3.8927092185914067, 3.8927092185914067, 3.8927092185914067, 3.070883319439576, 16.805492163554966, 8.705449781207536, 8.705449781207536, 8.705449781207536, 34.31134529597432, 21.161424801792904, 9.35810234783905, 10.23084163357531, 10.23084163357531, 10.23084163357531, 12.467885839512313, 12.975384440402072, 10.99354743241669, 4.655451310573609, 4.545206301822688, 7.670732387049512, 4.655428269231138, 6.070547197526703, 6.070547197526703, 5.418122875004939, 5.418122875004939, 5.418122875004939, 5.418122875004939, 5.418122875004939, 5.418122875004939, 5.418122875004939, 5.418122875004939, 5.418122875004939, 5.418122875004939, 5.418122875004939, 10.5205942869875, 3.656234592973023, 3.656234592973023, 3.656234592973023, 3.656234592973023, 3.656234592973023, 3.656234592973023, 3.656234592973023, 3.656234592973023, 2.8935279029678806, 2.893522449114748, 2.893522449114748, 2.1308211792427323, 2.1308211694832146, 2.1308211694832146, 2.1308211694832146, 2.1308211694832146, 2.1308211694832146, 2.1308211694832146, 2.1308211694832146, 2.1308211694832146, 2.1308211694832146, 2.1308211694832146, 2.1308211694832146, 2.1308211694832146, 2.1308211694832146, 2.1308211694832146, 2.1308211694832146, 2.1308211694832146, 2.1308211694832146, 4.308670192996144, 4.308670192996144, 4.478012227991184, 8.468908573531964, 34.31134529597432, 21.161424801792904, 6.9435154223881534, 6.9435154223881534, 10.99354743241669, 12.467885839512313, 5.020083646876865, 10.23084163357531, 10.23084163357531, 10.23084163357531, 16.805492163554966, 7.670732387049512, 2.9526231819041016, 2.7832651961411643, 2.562661060298479, 2.5626602029549654, 2.5626593455366944, 1.9102439269167555, 1.9102439269167555, 1.9102439269167555, 1.9102439269167555, 1.9102439269167555, 1.9102439269167555, 1.9102439269167555, 1.9102425897446083, 1.9102425897446083, 1.9102425897446083, 1.9102425897446083, 1.9102425897446083, 1.9102425897446083, 1.9102425897446083, 1.9102425897446083, 1.9102425897446083, 1.9102425897446083, 1.9102425897446083, 1.9102425897446083, 1.9102425897446083, 1.9102425897446083, 1.9102425897446083, 1.9102425897446083, 1.9102425897446083, 1.9102425897446083, 1.91024125238786, 1.91024125238786, 4.689102991394671, 4.740435285691115, 4.740446623412425, 8.865572799908703, 34.31134529597432, 12.975384440402072, 5.849926358403384, 2.8572760546893905, 5.020083646876865, 2.7319946281268326, 7.670732387049512, 3.5538465821597507, 3.4356368846210086, 6.722950157792192, 3.435648911213199, 0.7901122042591775, 0.7901122042591775, 0.7901122042591775, 0.7901122042591775, 0.7901122042591775, 0.7901122042591775, 0.7901122042591775, 0.7901122042591775, 0.7901122042591775, 0.7901122042591775, 0.7901122042591775, 0.7901122042591775, 0.7901122042591775, 0.7901122042591775, 0.7901122042591775, 0.7901122042591775, 0.7901122042591775, 0.7901122042591775, 1.6116919082803922, 2.8572760546893905, 1.2578237121758822, 1.2578237121758822, 1.2578237121758822, 1.2578237121758822, 1.2578237121758822, 1.2578237121758822, 1.2578237121758822, 1.2578237121758822, 1.2578237121758822, 1.2578237121758822, 7.670732387049512, 8.865572799908703, 12.975384440402072, 34.31134529597432, 9.35810234783905, 4.655451310573609, 5.020083646876865, 6.722950157792192, 12.467885839512313, 4.545206301822688], \"Category\": [\"Default\", \"Default\", \"Default\", \"Default\", \"Default\", \"Default\", \"Default\", \"Default\", \"Default\", \"Default\", \"Default\", \"Default\", \"Default\", \"Default\", \"Default\", \"Default\", \"Default\", \"Default\", \"Default\", \"Default\", \"Default\", \"Default\", \"Default\", \"Default\", \"Default\", \"Default\", \"Default\", \"Default\", \"Default\", \"Default\", \"Topic1\", \"Topic1\", \"Topic1\", \"Topic1\", \"Topic1\", \"Topic1\", \"Topic1\", \"Topic1\", \"Topic1\", \"Topic1\", \"Topic1\", \"Topic1\", \"Topic1\", \"Topic1\", \"Topic1\", \"Topic1\", \"Topic1\", \"Topic1\", \"Topic1\", \"Topic1\", \"Topic1\", \"Topic1\", \"Topic1\", \"Topic1\", \"Topic1\", \"Topic1\", \"Topic1\", \"Topic1\", \"Topic1\", \"Topic1\", \"Topic1\", \"Topic1\", \"Topic1\", \"Topic1\", \"Topic1\", \"Topic1\", \"Topic1\", \"Topic1\", \"Topic1\", \"Topic1\", \"Topic1\", \"Topic1\", \"Topic1\", \"Topic1\", \"Topic1\", \"Topic1\", \"Topic1\", \"Topic1\", \"Topic1\", \"Topic1\", \"Topic1\", \"Topic1\", \"Topic1\", \"Topic1\", \"Topic1\", \"Topic1\", \"Topic1\", \"Topic1\", \"Topic1\", \"Topic1\", \"Topic2\", \"Topic2\", \"Topic2\", \"Topic2\", \"Topic2\", \"Topic2\", \"Topic2\", \"Topic2\", \"Topic2\", \"Topic2\", \"Topic2\", \"Topic2\", \"Topic2\", \"Topic2\", \"Topic2\", \"Topic2\", \"Topic2\", \"Topic2\", \"Topic2\", \"Topic2\", \"Topic2\", \"Topic2\", \"Topic2\", \"Topic2\", \"Topic2\", \"Topic2\", \"Topic2\", \"Topic2\", \"Topic2\", \"Topic2\", \"Topic2\", \"Topic2\", \"Topic2\", \"Topic2\", \"Topic2\", \"Topic2\", \"Topic2\", \"Topic2\", \"Topic2\", \"Topic2\", \"Topic2\", \"Topic2\", \"Topic2\", \"Topic2\", \"Topic2\", \"Topic2\", \"Topic2\", \"Topic2\", \"Topic3\", \"Topic3\", \"Topic3\", \"Topic3\", \"Topic3\", \"Topic3\", \"Topic3\", \"Topic3\", \"Topic3\", \"Topic3\", \"Topic3\", \"Topic3\", \"Topic3\", \"Topic3\", \"Topic3\", \"Topic3\", \"Topic3\", \"Topic3\", \"Topic3\", \"Topic3\", \"Topic3\", \"Topic3\", \"Topic3\", \"Topic3\", \"Topic3\", \"Topic3\", \"Topic3\", \"Topic3\", \"Topic3\", \"Topic3\", \"Topic3\", \"Topic3\", \"Topic3\", \"Topic3\", \"Topic3\", \"Topic3\", \"Topic3\", \"Topic3\", \"Topic3\", \"Topic3\", \"Topic3\", \"Topic3\", \"Topic3\", \"Topic3\", \"Topic3\", \"Topic4\", \"Topic4\", \"Topic4\", \"Topic4\", \"Topic4\", \"Topic4\", \"Topic4\", \"Topic4\", \"Topic4\", \"Topic4\", \"Topic4\", \"Topic4\", \"Topic4\", \"Topic4\", \"Topic4\", \"Topic4\", \"Topic4\", \"Topic4\", \"Topic4\", \"Topic4\", \"Topic4\", \"Topic4\", \"Topic4\", \"Topic4\", \"Topic4\", \"Topic4\", \"Topic4\", \"Topic4\", \"Topic4\", \"Topic4\", \"Topic4\", \"Topic4\", \"Topic4\", \"Topic4\", \"Topic4\", \"Topic4\", \"Topic4\", \"Topic4\", \"Topic4\", \"Topic4\"], \"logprob\": [30.0, 29.0, 28.0, 27.0, 26.0, 25.0, 24.0, 23.0, 22.0, 21.0, 20.0, 19.0, 18.0, 17.0, 16.0, 15.0, 14.0, 13.0, 12.0, 11.0, 10.0, 9.0, 8.0, 7.0, 6.0, 5.0, 4.0, 3.0, 2.0, 1.0, -5.0656, -5.0656, -5.0656, -5.0656, -5.0656, -5.0656, -5.0656, -5.0656, -5.0656, -5.0656, -5.0656, -5.0656, -5.0656, -5.0656, -5.0656, -5.0656, -5.0656, -5.0656, -5.0656, -5.0656, -5.0656, -5.0656, -5.0656, -5.0656, -5.0656, -5.0656, -5.0656, -5.0656, -5.0656, -5.3338, -3.7244, -4.4022, -4.4022, -4.4022, -3.3239, -3.7243, -4.4021, -4.4023, -4.4023, -4.4023, -4.2878, -4.2877, -4.4023, -5.0654, -5.0655, -5.0655, -5.0655, -5.0656, -5.0656, -5.0656, -5.0656, -5.0656, -5.0656, -5.0656, -5.0656, -5.0656, -5.0656, -5.0656, -5.0656, -5.0656, -3.6336, -4.7707, -4.7707, -4.7707, -4.7707, -4.7707, -4.7707, -4.7707, -4.7707, -5.0389, -5.0389, -5.0389, -5.4067, -5.4067, -5.4067, -5.4067, -5.4067, -5.4067, -5.4067, -5.4067, -5.4067, -5.4067, -5.4067, -5.4067, -5.4067, -5.4067, -5.4067, -5.4067, -5.4067, -5.4067, -4.7706, -4.7706, -4.7705, -4.3849, -3.7971, -4.1073, -4.7706, -4.7706, -4.5594, -4.5594, -5.0388, -4.7707, -4.7707, -4.7707, -4.7709, -5.0389, -5.4065, -5.4065, -4.6488, -4.6488, -4.6488, -5.0166, -5.0166, -5.0166, -5.0166, -5.0166, -5.0166, -5.0166, -5.0166, -5.0166, -5.0166, -5.0166, -5.0166, -5.0166, -5.0166, -5.0166, -5.0166, -5.0166, -5.0166, -5.0166, -5.0166, -5.0166, -5.0166, -5.0166, -5.0166, -5.0166, -5.0166, -5.0166, -4.169, -4.3805, -4.3805, -4.1688, -3.7171, -4.1688, -4.6488, -5.0161, -5.0164, -5.0164, -5.0164, -5.0165, -5.0165, -5.0165, -5.0166, -4.7432, -4.7432, -4.7432, -4.7432, -4.7432, -4.7432, -4.7432, -4.7432, -4.7432, -4.7432, -4.7432, -4.7432, -4.7432, -4.7432, -4.7432, -4.7432, -4.7432, -4.7432, -4.7428, -4.7428, -6.3525, -6.3525, -6.3525, -6.3525, -6.3525, -6.3525, -6.3525, -6.3525, -6.3525, -6.3525, -4.7437, -4.7445, -4.7453, -4.1581, -6.3525, -6.3525, -6.3525, -6.3525, -6.3525, -6.3525], \"loglift\": [30.0, 29.0, 28.0, 27.0, 26.0, 25.0, 24.0, 23.0, 22.0, 21.0, 20.0, 19.0, 18.0, 17.0, 16.0, 15.0, 14.0, 13.0, 12.0, 11.0, 10.0, 9.0, 8.0, 7.0, 6.0, 5.0, 4.0, 3.0, 2.0, 1.0, 0.652, 0.652, 0.652, 0.652, 0.652, 0.652, 0.652, 0.652, 0.652, 0.652, 0.652, 0.652, 0.652, 0.652, 0.652, 0.652, 0.652, 0.652, 0.652, 0.652, 0.652, 0.652, 0.652, 0.652, 0.652, 0.652, 0.652, 0.652, 0.652, 0.6208, 0.5306, 0.5105, 0.5105, 0.5105, 0.2173, 0.3002, 0.4383, 0.349, 0.349, 0.349, 0.2657, 0.2259, 0.2771, 0.4732, 0.4971, -0.0263, 0.4731, 0.2076, 0.2076, 0.3213, 0.3213, 0.3213, 0.3213, 0.3213, 0.3213, 0.3213, 0.3213, 0.3213, 0.3213, 0.3213, 1.0897, 1.0095, 1.0095, 1.0095, 1.0095, 1.0095, 1.0095, 1.0095, 1.0095, 0.9752, 0.9752, 0.9752, 0.9135, 0.9135, 0.9135, 0.9135, 0.9135, 0.9135, 0.9135, 0.9135, 0.9135, 0.9135, 0.9135, 0.9135, 0.9135, 0.9135, 0.9135, 0.9135, 0.9135, 0.9135, 0.8454, 0.8454, 0.807, 0.5553, -0.256, -0.0828, 0.3682, 0.3682, 0.12, -0.0059, 0.4244, -0.0194, -0.0194, -0.0194, -0.5159, 0.0003, 0.5874, 0.6465, 1.4868, 1.4868, 1.4868, 1.4129, 1.4129, 1.4129, 1.4129, 1.4129, 1.4129, 1.4129, 1.4129, 1.4129, 1.4129, 1.4129, 1.4129, 1.4129, 1.4129, 1.4129, 1.4129, 1.4129, 1.4129, 1.4129, 1.4129, 1.4129, 1.4129, 1.4129, 1.4129, 1.4129, 1.4129, 1.4129, 1.3624, 1.1401, 1.14, 0.7257, -0.1759, 0.3448, 0.6614, 1.0107, 0.4468, 1.0552, 0.0228, 0.7922, 0.826, 0.1546, 0.8259, 2.5691, 2.5691, 2.5691, 2.5691, 2.5691, 2.5691, 2.5691, 2.5691, 2.5691, 2.5691, 2.5691, 2.5691, 2.5691, 2.5691, 2.5691, 2.5691, 2.5691, 2.5691, 1.8565, 1.284, 0.4947, 0.4947, 0.4947, 0.4947, 0.4947, 0.4947, 0.4947, 0.4947, 0.4947, 0.4947, 0.2956, 0.15, -0.2317, -0.6169, -1.5121, -0.8139, -0.8893, -1.1814, -1.799, -0.7899]}, \"token.table\": {\"Topic\": [1, 2, 3, 1, 1, 2, 1, 1, 1, 1, 2, 2, 1, 2, 3, 2, 1, 2, 1, 1, 2, 3, 1, 2, 1, 3, 1, 2, 2, 2, 2, 2, 3, 2, 2, 1, 2, 1, 2, 1, 1, 2, 1, 1, 2, 1, 1, 2, 3, 1, 2, 1, 2, 3, 1, 2, 3, 1, 2, 3, 2, 1, 2, 1, 2, 2, 3, 1, 2, 3, 3, 1, 2, 3, 1, 2, 2, 2, 1, 1, 2, 1, 2, 3, 2, 3, 3, 1, 2, 3, 2, 3, 2, 1, 3, 1, 2, 1, 1, 2, 3, 3, 3, 2, 3, 2, 3, 1, 2, 3, 1, 2, 1, 2, 3, 3, 3, 3, 1, 3, 2, 1, 2, 3, 1, 2, 3, 2, 1, 2, 1, 1, 2, 3, 1, 3, 3, 1, 2, 2, 3, 2, 1, 2, 3, 3, 1, 2, 3, 1, 1, 1, 1, 2, 3, 1, 1, 2, 1, 2, 3, 3, 1, 3, 3, 2, 1, 3, 3, 3, 3, 2, 1, 1, 3, 3, 3, 3, 3, 3, 1, 3, 1, 1, 1, 2, 3, 3, 1, 2, 1, 2, 2, 2, 3, 1, 2, 3, 3, 2, 2, 1, 1, 3, 2, 3, 1, 2, 3, 2, 3, 2], \"Freq\": [0.44623267012070134, 0.2974884467471342, 0.1487442233735671, 0.7706714864989486, 0.43205780033655916, 0.43205780033655916, 0.7706714864989486, 0.7706714864989486, 0.7706714864989486, 0.7706714864989486, 0.9386052798063094, 0.9386052798063094, 0.8040940073091809, 0.22974114494548029, 0.5234940868070823, 0.9386052798063094, 0.6367371444961514, 0.3638497968549436, 0.7706714864989486, 0.8040940073091809, 0.22974114494548029, 0.5234933538640052, 0.68420568421542, 0.2932310075208943, 0.366032930557276, 0.366032930557276, 0.5536972987157043, 0.36913153247713615, 0.9386052798063094, 0.9386052798063094, 0.9386052798063094, 0.9386052798063094, 0.7950239690346762, 0.9386052798063094, 0.9386052798063094, 0.7706714864989486, 0.691197758262019, 0.5536972987157043, 0.36913153247713615, 0.7706714864989486, 0.5536972987157043, 0.36913153247713615, 0.7706714864989486, 0.5536972987157043, 0.36913153247713615, 0.7706714864989486, 0.5536972987157043, 0.36913153247713615, 0.5234933538640052, 0.644405837343053, 0.21480194578101766, 0.5536972987157043, 0.36913153247713615, 0.7804390132151854, 0.6143253642778616, 0.28353478351285916, 0.0472557972521432, 0.7706714864989486, 0.34998368406118474, 0.34998368406118474, 0.9386052798063094, 0.7706714864989486, 0.9386052798063094, 0.5536972987157043, 0.36913153247713615, 0.5821316588759817, 0.29106582943799086, 0.494189387279993, 0.3294595915199953, 0.16472979575999766, 0.5234937203099926, 0.5536972987157043, 0.36913153247713615, 0.5234933538640052, 0.5536972987157043, 0.36913153247713615, 0.9386052755073401, 0.9386052798063094, 0.7706714864989486, 0.5536972987157043, 0.36913153247713615, 0.3910969446756996, 0.2607312964504664, 0.1303656482252332, 0.5821336966524691, 0.29106684832623453, 0.7950239690346762, 0.7706714864989486, 0.6962705116944384, 0.23209017056481282, 0.7185804654090756, 0.3592902327045378, 0.9386052798063094, 0.7706714658217778, 0.7804392743355995, 0.7706714864989486, 0.9386052798063094, 0.7706714864989486, 0.5536972987157043, 0.36913153247713615, 0.5234937203099926, 0.780438752117713, 0.5234937203099926, 0.9386052798063094, 0.5234937203099926, 0.8205162780762889, 0.5234937203099926, 0.7706714864989486, 0.8205162780762889, 0.5234937203099926, 0.7706714864989486, 0.8205162780762889, 0.33838761101041254, 0.22559174067360835, 0.33838761101041254, 0.5234937203099926, 0.7950239690346762, 0.5234937203099926, 0.56277049494482, 0.28138524747241, 0.9386052798063094, 0.68420568421542, 0.2932310075208943, 0.5234937203099926, 0.7480149008646418, 0.2137185431041834, 0.1068592715520917, 0.9386052798063094, 0.22331336965745524, 0.6699401089723658, 0.7706714864989486, 0.43205780033655916, 0.43205780033655916, 0.5234933538640052, 0.6600360469439991, 0.2200120156479997, 0.5234937203099926, 0.8040940073091809, 0.22974114494548029, 0.6962705116944384, 0.23209017056481282, 0.6911990610654793, 0.6416484801815384, 0.3208242400907692, 0.0802060600226923, 0.7950239690346762, 0.6444090267328856, 0.21480300891096188, 0.5234933538640052, 0.7706714864989486, 0.7706714864989486, 0.7706714864989486, 0.494189387279993, 0.3294595915199953, 0.16472979575999766, 0.7706714864989486, 0.68420568421542, 0.2932310075208943, 0.582897575932313, 0.2623039091695408, 0.14572439398307824, 0.5234937203099926, 0.7706714864989486, 0.5234937203099926, 0.7950239690346762, 0.6911990610654793, 0.6204659804161691, 0.5234937203099926, 0.5234937203099926, 0.7950239690346762, 0.7950239690346762, 0.8205162780762889, 0.7706714864989486, 0.21326040435349275, 0.6397812130604782, 0.5234933538640052, 0.7950239690346762, 0.5234937203099926, 0.7950239690346762, 0.5234937203099926, 0.9769176122743368, 0.5234940868070823, 0.7706714864989486, 0.7706714864989486, 0.6165520595359024, 0.1541380148839756, 0.2312070223259634, 0.7950239690346762, 0.33868189009987903, 0.6773637801997581, 0.7735566369304137, 0.17851307006086467, 0.8205162780762889, 0.8205162780762889, 0.5234933538640052, 0.19919986803847944, 0.3983997360769589, 0.19919986803847944, 0.5234937203099926, 0.9505166464187863, 0.8205162780762889, 0.7706714864989486, 0.5128269684438879, 0.3418846456292586, 0.4219011749066576, 0.6328517623599864, 0.3542369095087359, 0.5903948491812265, 0.5234937203099926, 0.42190218396967677, 0.6328532759545151, 0.8205162780762889], \"Term\": [\"0313304042\", \"0313304042\", \"0313304042\", \"1029\\uc77c\\uae4c\\uc9c0\", \"11\", \"11\", \"111\\uc218\\uc9c0\\uc6d0\\uc11c\", \"113\\uae08\", \"116\\uc6d4\", \"1210\\uc218\\uae4c\\uc9c0\", \"16\\uba85\", \"1\\ubc18\\uc5d0\", \"1\\uc8fc\\ucc28\", \"1\\uc8fc\\ucc28\", \"2021\", \"2\\uac1c\\ubc18\", \"2\\uc8fc\\ucc28\", \"2\\uc8fc\\ucc28\", \"3\\uac1c\\uc6d4\", \"3\\uc8fc\\ucc28\", \"3\\uc8fc\\ucc28\", \"4\\uac1c\", \"4\\uc8fc\\ucc28\", \"4\\uc8fc\\ucc28\", \"5\\uc8fc\", \"5\\uc8fc\", \"5\\uc8fc\\ucc28\", \"5\\uc8fc\\ucc28\", \"611\\uc77c\\uae4c\\uc9c0\", \"626\\uc6d4\", \"628\\uc218\", \"73\\uc6d4\", \"79\\uba85\\uc744\", \"87\\uc6d4\\uae4c\\uc9c0\", \"8\\uba85\\uc73c\\ub85c\", \"8\\uba85\\uc9c0\\uc6d0\\uc790\\uc758\", \"b2b\", \"head312hufsackr\", \"head312hufsackr\", \"hufsability\", \"ot\", \"ot\", \"qa\", \"qr\", \"qr\", \"qr\\ucf54\\ub4dc\", \"zoom\\uc73c\\ub85c\", \"zoom\\uc73c\\ub85c\", \"\\uac00\\ub2a5\", \"\\uac15\\uc758\", \"\\uac15\\uc758\", \"\\uac15\\ud654\", \"\\uac15\\ud654\", \"\\uacbd\\ud5d8\", \"\\uacfc\\uc81c\", \"\\uacfc\\uc81c\", \"\\uacfc\\uc81c\", \"\\uacfc\\uc81c\\ubc1c\\ud45c\", \"\\uad00\\ub828\", \"\\uad00\\ub828\", \"\\uae30\\ub300\\ud6a8\\uacfc\", \"\\uae30\\ud68c\", \"\\ub300\\ube44\", \"\\ub300\\uc0c1\", \"\\ub300\\uc0c1\", \"\\ub3d9\\uc548\", \"\\ub3d9\\uc548\", \"\\ub429\\ub2c8\\ub2e4\", \"\\ub429\\ub2c8\\ub2e4\", \"\\ub429\\ub2c8\\ub2e4\", \"\\ub4dc\\ub824\\uc694\", \"\\ub530\\ub77c\", \"\\ub530\\ub77c\", \"\\ub9ac\\uc2a4\\ud2b8xlsx\", \"\\ub9c8\\uac10\", \"\\ub9c8\\uac10\", \"\\ub9c8\\ub828\", \"\\ub9ce\\uc740\", \"\\uba58\\ud1a0\\ub9c1\\uc744\", \"\\ubaa8\\uc758\", \"\\ubaa8\\uc758\", \"\\ubb38\\uc758\", \"\\ubb38\\uc758\", \"\\ubb38\\uc758\", \"\\ubc14\\ub78d\\ub2c8\\ub2e4\", \"\\ubc14\\ub78d\\ub2c8\\ub2e4\", \"\\ubc1b\\uc544\", \"\\ubc1b\\uc73c\\uba70\", \"\\ubc1b\\uc744\", \"\\ubc1b\\uc744\", \"\\ubc29\\ubc95\", \"\\ubc29\\ubc95\", \"\\ubc29\\ud559\", \"\\ubcf4\\uace0\", \"\\ubd80\\ud2b8\", \"\\ubd80\\ud2b8\\ucea0\\ud504\\ub97c\", \"\\ube44\\uace0\", \"\\ube44\\uad50\\uacfc\", \"\\ube44\\ub300\\uba74\", \"\\ube44\\ub300\\uba74\", \"\\uc0ac\\ud56d\", \"\\uc120\\ubc1c\", \"\\uc120\\ubc1c\\ub418\\uba74\", \"\\uc120\\ubc1c\\uc9c0\\uc6d0\\uc790\\uc758\", \"\\uc120\\ubc1c\\ud558\\uc5ec\", \"\\uc18c\\uac1c\", \"\\uc218\\uac15\", \"\\uc218\\ud589\", \"\\uc218\\ud589\\uc5d0\", \"\\uc218\\ud589\\uc73c\\ub85c\", \"\\uc218\\ud589\\ud558\\ub294\", \"\\uc218\\ud589\\ud558\\uba70\", \"\\uc2e0\\uccad\", \"\\uc2e0\\uccad\", \"\\uc2e0\\uccad\", \"\\uc2e0\\uccad\\uc11c\", \"\\uc2e0\\uccad\\ud559\\uc0dd\", \"\\uc2e0\\uccad\\ud55c\\ub2e4\", \"\\uc2e4\\ubb34\", \"\\uc2e4\\ubb34\", \"\\uc2e4\\ubb34\\ub97c\", \"\\uc2ec\\uc0ac\", \"\\uc2ec\\uc0ac\", \"\\uc313\\ub294\", \"\\uc544\\ub798\", \"\\uc544\\ub798\", \"\\uc544\\ub798\", \"\\uc544\\ub798\\uc758\", \"\\uc5c5\\ubb34\", \"\\uc5c5\\ubb34\", \"\\uc5d0\\uc13c\\uc2a4\", \"\\uc5ed\\ub7c9\", \"\\uc5ed\\ub7c9\", \"\\uc6d0\\ud558\\ub294\", \"\\uc774\\uc6a9\", \"\\uc774\\uc6a9\", \"\\uc774\\uc6a9\\uad8c\\uc744\", \"\\uc774\\uc6a9\\ud558\\uc5ec\", \"\\uc774\\uc6a9\\ud558\\uc5ec\", \"\\uc788\\uc2b5\\ub2c8\\ub2e4\", \"\\uc788\\uc2b5\\ub2c8\\ub2e4\", \"\\uc790\\uae30\\uc18c\\uac1c\\uc11c\", \"\\uc791\\uc131\", \"\\uc791\\uc131\", \"\\uc791\\uc131\", \"\\uc791\\uc131\\ud55c\\ub2e4\", \"\\uc804\\ub7b5\", \"\\uc804\\ub7b5\", \"\\uc804\\uc6a9\", \"\\uc81c\\uacf5\", \"\\uc81c\\ucd9c\", \"\\uc81c\\ud55c\", \"\\uc878\\uc5c5\\uc0dd\", \"\\uc878\\uc5c5\\uc0dd\", \"\\uc878\\uc5c5\\uc0dd\", \"\\uc911\\ub3c4\", \"\\uc9c0\\uc6d0\\uc11c\", \"\\uc9c0\\uc6d0\\uc11c\", \"\\uc9c1\\ubb34\", \"\\uc9c1\\ubb34\", \"\\uc9c1\\ubb34\", \"\\uc9c1\\ubb34\\uad50\\uc721\", \"\\uc9c1\\ubb34\\ub97c\", \"\\uc9c1\\ubb34\\ubd80\\ud2b8\\ucea0\\ud504\\uc5d0\", \"\\uc9c1\\ubb34\\ubd80\\ud2b8\\ucea0\\ud504\\ucc38\\uac00\\uc2e0\\uccad\\uc11c_\\ud64d\\uae38\\ub3d9hwp\", \"\\uc9c1\\ubb34\\uc5ed\\ub7c9\", \"\\uc9c1\\ubb34\\uc758\", \"\\ucc38\\uc5ec\", \"\\ucc38\\uc5ec\\ud55c\\ub2e4\", \"\\ucca8\\ubd80\\ub41c\", \"\\ucca8\\ubd80\\ud558\\uc5ec\", \"\\ucde8\\uc5c5\\uc744\", \"\\ucea0\\ud37c\\uc2a4\", \"\\ucea0\\ud504\", \"\\ucea0\\ud504\", \"\\ucea0\\ud504\\uac00\", \"\\ucea0\\ud504\\ucf54\\uba58\\ud1a0\", \"\\ucf54\\ub4dc\\ub97c\", \"\\ucf54\\uba58\\ud1a0httpswwwcomentokr\", \"\\ucf54\\uba58\\ud1a0\\uc5d0\\uc11c\", \"\\ucf58\\ud150\\uce20\", \"\\ud30c\\uc77c\\uc744\", \"\\ud3ec\\uae30\", \"\\ud3ec\\uc2a4\\ud130\\uc758\", \"\\ud504\\ub85c\\uadf8\\ub7a8\", \"\\ud504\\ub85c\\uadf8\\ub7a8\", \"\\ud504\\ub85c\\uadf8\\ub7a8\", \"\\ud504\\ub85c\\uadf8\\ub7a8\\uc5d0\", \"\\ud504\\ub85c\\uc138\\uc2a4\", \"\\ud504\\ub85c\\uc138\\uc2a4\", \"\\ud53c\\ub4dc\\ubc31\", \"\\ud53c\\ub4dc\\ubc31\", \"\\ud53c\\ub4dc\\ubc31\\uc744\", \"\\ud544\\uc694\\ud55c\", \"\\ud55c\\uad6d\\uc678\\uad6d\\uc5b4\\ub300\\ud559\\uad50\", \"\\ud568\\uaed8\", \"\\ud568\\uaed8\", \"\\ud568\\uaed8\", \"\\ud568\\uaed8\\ud558\\ub294\", \"\\ud574\\uc678\\uc601\\uc5c5\", \"\\ud574\\uc678\\uc601\\uc5c5\\ubd80\\uc11c\", \"\\ud604\\uc5c5\", \"\\ud604\\uc9c1\\uc790\", \"\\ud604\\uc9c1\\uc790\", \"\\ud604\\uc9c1\\uc790\\uc640\", \"\\ud604\\uc9c1\\uc790\\uc640\", \"\\ud604\\uc9c1\\uc790\\uc758\", \"\\ud604\\uc9c1\\uc790\\uc758\", \"\\ud611\\uc5c5\", \"\\ud655\\uc778\", \"\\ud655\\uc778\", \"\\ud76c\\ub9dd\\ud558\\ub294\"]}, \"R\": 30, \"lambda.step\": 0.01, \"plot.opts\": {\"xlab\": \"PC1\", \"ylab\": \"PC2\"}, \"topic.order\": [1, 3, 2, 4]};\n",
              "\n",
              "function LDAvis_load_lib(url, callback){\n",
              "  var s = document.createElement('script');\n",
              "  s.src = url;\n",
              "  s.async = true;\n",
              "  s.onreadystatechange = s.onload = callback;\n",
              "  s.onerror = function(){console.warn(\"failed to load library \" + url);};\n",
              "  document.getElementsByTagName(\"head\")[0].appendChild(s);\n",
              "}\n",
              "\n",
              "if(typeof(LDAvis) !== \"undefined\"){\n",
              "   // already loaded: just create the visualization\n",
              "   !function(LDAvis){\n",
              "       new LDAvis(\"#\" + \"ldavis_el5171356902406465442760060756\", ldavis_el5171356902406465442760060756_data);\n",
              "   }(LDAvis);\n",
              "}else if(typeof define === \"function\" && define.amd){\n",
              "   // require.js is available: use it to load d3/LDAvis\n",
              "   require.config({paths: {d3: \"https://d3js.org/d3.v5\"}});\n",
              "   require([\"d3\"], function(d3){\n",
              "      window.d3 = d3;\n",
              "      LDAvis_load_lib(\"https://cdn.jsdelivr.net/gh/bmabey/pyLDAvis@3.4.0/pyLDAvis/js/ldavis.v3.0.0.js\", function(){\n",
              "        new LDAvis(\"#\" + \"ldavis_el5171356902406465442760060756\", ldavis_el5171356902406465442760060756_data);\n",
              "      });\n",
              "    });\n",
              "}else{\n",
              "    // require.js not available: dynamically load d3 & LDAvis\n",
              "    LDAvis_load_lib(\"https://d3js.org/d3.v5.js\", function(){\n",
              "         LDAvis_load_lib(\"https://cdn.jsdelivr.net/gh/bmabey/pyLDAvis@3.4.0/pyLDAvis/js/ldavis.v3.0.0.js\", function(){\n",
              "                 new LDAvis(\"#\" + \"ldavis_el5171356902406465442760060756\", ldavis_el5171356902406465442760060756_data);\n",
              "            })\n",
              "         });\n",
              "}\n",
              "</script>"
            ]
          },
          "metadata": {},
          "execution_count": 65
        }
      ]
    },
    {
      "cell_type": "markdown",
      "source": [
        "#### 목표와 프로그램만 포함 시킨 경우"
      ],
      "metadata": {
        "id": "-XyZeKq8SgMS"
      }
    },
    {
      "cell_type": "code",
      "source": [
        "workshop['soup'] = workshop.apply(create_soup, weight = [0,1,0,0], axis=1)\n",
        "count = CountVectorizer()\n",
        "count_matrix = count.fit_transform(workshop['soup'])\n",
        "indices = pd.Series(workshop.index, index=workshop['프로그램명'])\n",
        "# cosine 유사도 구하기\n",
        "cosine_sim2 = cosine_similarity(count_matrix, count_matrix)"
      ],
      "metadata": {
        "id": "xEqh2dmbSnwE",
        "colab": {
          "base_uri": "https://localhost:8080/"
        },
        "outputId": "7884b994-543a-4c46-d328-1c29c37ee152"
      },
      "execution_count": 66,
      "outputs": [
        {
          "output_type": "stream",
          "name": "stderr",
          "text": [
            "/usr/local/lib/python3.10/dist-packages/ipykernel/ipkernel.py:283: DeprecationWarning:\n",
            "\n",
            "`should_run_async` will not call `transform_cell` automatically in the future. Please pass the result to `transformed_cell` argument and any exception that happen during thetransform in `preprocessing_exc_tuple` in IPython 7.17 and above.\n",
            "\n"
          ]
        }
      ]
    },
    {
      "cell_type": "code",
      "source": [
        "target = workshop.iloc[20]\n",
        "\n",
        "print('프로그램명 : ',target['프로그램명'])\n",
        "print('추천 목록: ')\n",
        "recom_df = get_recommendations(workshop, indices, target['프로그램명'], cosine_sim2)\n",
        "print(recom_df['프로그램명'])"
      ],
      "metadata": {
        "id": "XhKEY0JHSnwF",
        "colab": {
          "base_uri": "https://localhost:8080/"
        },
        "outputId": "86ddd02e-be67-4ac7-f6d4-92fbe1ea9861"
      },
      "execution_count": 67,
      "outputs": [
        {
          "output_type": "stream",
          "name": "stdout",
          "text": [
            "프로그램명 :  직무 부트캠프GMP 전체를 보는 눈과 핵심 개념으로 제약공장 품질QAQC업무알기\n",
            "추천 목록: \n",
            "23            직무 부트캠프무역 프로세스 완벽 이해하기  서류 작성부터 클레임 대처까지\n",
            "22                직무 부트캠프GMP환경 학교에선 알려주지 않는 환경 실무 이해하기\n",
            "24         직무 부트캠프10년차 현직 PD와 함께 방송 영상 콘텐츠 기획제작연출 이해하기\n",
            "21      직무 부트캠프이것이 찐현실 콘텐츠 마케팅 실무 5주 완성 병아리 콘텐츠 마케터 캠프\n",
            "165                 하계방학 대비 해외영업 직무 부트캠프해외영업 시장분석 전략수립\n",
            "166              하계방학 대비 해외영업 직무 부트캠프제조업 B2B 해외영업 프로세스\n",
            "1206                              2021 현직자 직무 부트 캠프코멘토\n",
            "894                     2022 현직자 직무 부트캠프코멘토_한국외대 전용 개설\n",
            "791                                 자소서LAB 2 _ 직무역량 작성\n",
            "896                   2022 동계방학 4차산업혁명 역량강화프로그램 파이썬SQL\n",
            "Name: 프로그램명, dtype: object\n"
          ]
        },
        {
          "output_type": "stream",
          "name": "stderr",
          "text": [
            "/usr/local/lib/python3.10/dist-packages/ipykernel/ipkernel.py:283: DeprecationWarning:\n",
            "\n",
            "`should_run_async` will not call `transform_cell` automatically in the future. Please pass the result to `transformed_cell` argument and any exception that happen during thetransform in `preprocessing_exc_tuple` in IPython 7.17 and above.\n",
            "\n"
          ]
        }
      ]
    },
    {
      "cell_type": "code",
      "source": [
        "LDA_result = LDA(recom_df, topic_num = 4)\n",
        "table_header, table_cells = get_topic(LDA_result)\n",
        "create_dash_app(recom_df, workshop, table_header, table_cells)"
      ],
      "metadata": {
        "id": "a8MFKqmaTzES",
        "colab": {
          "base_uri": "https://localhost:8080/",
          "height": 781
        },
        "outputId": "e5e45ac4-e33b-4ea4-c1dc-c155d153af6f"
      },
      "execution_count": 68,
      "outputs": [
        {
          "output_type": "stream",
          "name": "stderr",
          "text": [
            "/usr/local/lib/python3.10/dist-packages/ipykernel/ipkernel.py:283: DeprecationWarning:\n",
            "\n",
            "`should_run_async` will not call `transform_cell` automatically in the future. Please pass the result to `transformed_cell` argument and any exception that happen during thetransform in `preprocessing_exc_tuple` in IPython 7.17 and above.\n",
            "\n"
          ]
        },
        {
          "output_type": "display_data",
          "data": {
            "text/plain": [
              "<IPython.core.display.Javascript object>"
            ],
            "application/javascript": [
              "(async (port, path, width, height, cache, element) => {\n",
              "    if (!google.colab.kernel.accessAllowed && !cache) {\n",
              "      return;\n",
              "    }\n",
              "    element.appendChild(document.createTextNode(''));\n",
              "    const url = await google.colab.kernel.proxyPort(port, {cache});\n",
              "    const iframe = document.createElement('iframe');\n",
              "    iframe.src = new URL(path, url).toString();\n",
              "    iframe.height = height;\n",
              "    iframe.width = width;\n",
              "    iframe.style.border = 0;\n",
              "    iframe.allow = [\n",
              "        'accelerometer',\n",
              "        'autoplay',\n",
              "        'camera',\n",
              "        'clipboard-read',\n",
              "        'clipboard-write',\n",
              "        'gyroscope',\n",
              "        'magnetometer',\n",
              "        'microphone',\n",
              "        'serial',\n",
              "        'usb',\n",
              "        'xr-spatial-tracking',\n",
              "    ].join('; ');\n",
              "    element.appendChild(iframe);\n",
              "  })(8050, \"/\", \"100%\", 650, false, window.element)"
            ]
          },
          "metadata": {}
        },
        {
          "output_type": "execute_result",
          "data": {
            "text/plain": [
              "<dash.dash.Dash at 0x7b6915be4220>"
            ]
          },
          "metadata": {},
          "execution_count": 68
        }
      ]
    },
    {
      "cell_type": "code",
      "source": [
        "# LDA 토픽 모델링 결과를 시각화\n",
        "pyLDAvis.enable_notebook\n",
        "visualization = pyLDAvis.lda_model.prepare(LDA_result['lda'], LDA_result['recom_vec'], LDA_result['count_vectorizer'])\n",
        "pyLDAvis.display(visualization)"
      ],
      "metadata": {
        "id": "K39zHGBqQuUq",
        "colab": {
          "base_uri": "https://localhost:8080/",
          "height": 953
        },
        "outputId": "9ce16b38-2ceb-4aef-c55c-954e695a1a63"
      },
      "execution_count": 69,
      "outputs": [
        {
          "output_type": "stream",
          "name": "stderr",
          "text": [
            "/usr/local/lib/python3.10/dist-packages/ipykernel/ipkernel.py:283: DeprecationWarning:\n",
            "\n",
            "`should_run_async` will not call `transform_cell` automatically in the future. Please pass the result to `transformed_cell` argument and any exception that happen during thetransform in `preprocessing_exc_tuple` in IPython 7.17 and above.\n",
            "\n"
          ]
        },
        {
          "output_type": "execute_result",
          "data": {
            "text/plain": [
              "<IPython.core.display.HTML object>"
            ],
            "text/html": [
              "\n",
              "<link rel=\"stylesheet\" type=\"text/css\" href=\"https://cdn.jsdelivr.net/gh/bmabey/pyLDAvis@3.4.0/pyLDAvis/js/ldavis.v1.0.0.css\">\n",
              "\n",
              "\n",
              "<div id=\"ldavis_el5171356902785426246097343451\" style=\"background-color:white;\"></div>\n",
              "<script type=\"text/javascript\">\n",
              "\n",
              "var ldavis_el5171356902785426246097343451_data = {\"mdsDat\": {\"x\": [0.036809423001812024, -0.15279413953943982, 0.08373736291495079, 0.032247353622676965], \"y\": [-0.09065064698973031, 0.017503906432481075, 0.0709361597224449, 0.002210580834804378], \"topics\": [1, 2, 3, 4], \"cluster\": [1, 1, 1, 1], \"Freq\": [47.94937462575059, 42.77732297675582, 9.081337163104141, 0.19196523438944094]}, \"tinfo\": {\"Term\": [\"\\ud574\\uc678\\uc601\\uc5c5\", \"\\ud53c\\ub4dc\\ubc31\", \"\\ud604\\uc9c1\\uc790\\uc640\", \"\\uc9c1\\ubb34\", \"\\ud604\\uc9c1\\uc790\", \"\\ud568\\uaed8\", \"\\ud655\\uc778\", \"\\uc791\\uc131\", \"\\ubb38\\uc758\", \"\\uc2e0\\uccad\", \"\\ubc14\\ub78d\\ub2c8\\ub2e4\", \"\\uc788\\uc2b5\\ub2c8\\ub2e4\", \"\\ubc1b\\uc744\", \"\\uac15\\uc758\", \"\\uc774\\uc6a9\", \"\\uc544\\ub798\", \"\\uc774\\uc6a9\\ud558\\uc5ec\", \"1\\uc8fc\\ucc28\", \"3\\uc8fc\\ucc28\", \"\\uc790\\uae30\\uc18c\\uac1c\\uc11c\", \"\\uc9c1\\ubb34\\uc5ed\\ub7c9\", \"\\uc218\\ud589\", \"\\uba58\\ud1a0\\ub9c1\\uc744\", \"qr\\ucf54\\ub4dc\", \"3\\uac1c\\uc6d4\", \"\\uc218\\ud589\\ud558\\ub294\", \"\\ube44\\uad50\\uacfc\", \"\\ubd80\\ud2b8\\ucea0\\ud504\\ub97c\", \"\\uc5d0\\uc13c\\uc2a4\", \"\\ubc1b\\uc73c\\uba70\", \"\\ud574\\uc678\\uc601\\uc5c5\", \"\\ud655\\uc778\", \"\\ubc1b\\uc744\", \"\\uc788\\uc2b5\\ub2c8\\ub2e4\", \"\\ubc14\\ub78d\\ub2c8\\ub2e4\", \"\\uc18c\\uac1c\", \"\\uc218\\ud589\\uc5d0\", \"\\uc218\\ud589\\ud558\\uba70\", \"\\ucde8\\uc5c5\\uc744\", \"\\ud53c\\ub4dc\\ubc31\\uc744\", \"\\ud544\\uc694\\ud55c\", \"\\ud574\\uc678\\uc601\\uc5c5\\ubd80\\uc11c\", \"\\ud76c\\ub9dd\\ud558\\ub294\", \"\\uc120\\ubc1c\", \"2022\", \"\\uc313\\uae30\", \"\\ud504\\ub85c\\uadf8\\ub7a8\\uc740\", \"b2b\", \"4\\uac1c\", \"\\uac00\\ub2a5\", \"\\ub9ac\\uc2a4\\ud2b8xlsx\", \"\\uc6d0\\ud558\\ub294\", \"\\uc804\\uc6a9\", \"\\ucea0\\ud504\\uac00\", \"\\ud55c\\uad6d\\uc678\\uad6d\\uc5b4\\ub300\\ud559\\uad50\", \"\\uc120\\ud0dd\", \"\\ub9c8\\ub828\", \"16\\uba85\", \"1\\ubc18\\uc5d0\", \"2\\uac1c\\ubc18\", \"\\uc5c5\\ubb34\", \"\\ud604\\uc9c1\\uc790\\uc640\", \"\\ub3d9\\uc548\", \"\\ucea0\\ud504\", \"\\ud604\\uc9c1\\uc790\\uc758\", \"\\uc9c1\\ubb34\", \"\\uc2e0\\uccad\", \"\\uacfc\\uc81c\", \"\\ud504\\ub85c\\uadf8\\ub7a8\", \"\\uc878\\uc5c5\\uc0dd\", \"11\", \"\\uc5ed\\ub7c9\", \"\\ubb38\\uc758\", \"4\\uc8fc\\ucc28\", \"\\uc2ec\\uc0ac\", \"\\uc9c0\\uc6d0\\uc11c\", \"2\\uc8fc\\ucc28\", \"\\ubcf4\\uace0\", \"1029\\uc77c\\uae4c\\uc9c0\", \"111\\uc218\\uc9c0\\uc6d0\\uc11c\", \"113\\uae08\", \"116\\uc6d4\", \"1210\\uc218\\uae4c\\uc9c0\", \"3\\uac1c\\uc6d4\", \"8\\uba85\\uc9c0\\uc6d0\\uc790\\uc758\", \"qa\", \"qr\\ucf54\\ub4dc\", \"\\uacfc\\uc81c\\ubc1c\\ud45c\", \"\\uae30\\ud68c\", \"\\uba58\\ud1a0\\ub9c1\\uc744\", \"\\ubc1b\\uc73c\\uba70\", \"\\ubd80\\ud2b8\\ucea0\\ud504\\ub97c\", \"\\ube44\\uad50\\uacfc\", \"\\uc218\\ud589\", \"\\uc218\\ud589\\ud558\\ub294\", \"\\uc5d0\\uc13c\\uc2a4\", \"\\uc81c\\ucd9c\", \"\\uc81c\\ud55c\", \"\\uc911\\ub3c4\", \"\\uc9c1\\ubb34\\ub97c\", \"\\ud3ec\\uae30\", \"\\ud3ec\\uc2a4\\ud130\\uc758\", \"\\ud604\\uc5c5\", \"\\uc774\\ud574\\ud558\\uae30\", \"\\uae30\\ud68d\", \"imc\", \"\\uacfc\\uc81c\\ube0c\\ub79c\\ub4dc\", \"\\ud53c\\ub4dc\\ubc31\", \"\\uc774\\uc6a9\", \"\\uac15\\uc758\", \"1\\uc8fc\\ucc28\", \"3\\uc8fc\\ucc28\", \"\\uc774\\uc6a9\\ud558\\uc5ec\", \"\\uc9c1\\ubb34\", \"\\uc544\\ub798\", \"\\uacfc\\uc81c\", \"\\uc791\\uc131\", \"4\\uc8fc\\ucc28\", \"\\uc2ec\\uc0ac\", \"\\uc9c0\\uc6d0\\uc11c\", \"2\\uc8fc\\ucc28\", \"\\ud504\\ub85c\\uadf8\\ub7a8\", \"\\uc804\\ub7b5\", \"hufsability\", \"\\uc81c\\uacf5\", \"\\ucea0\\ud37c\\uc2a4\", \"0313304042\", \"\\ucee4\\ub9ac\\ud058\\ub7fc\", \"5\\uc8fc\\ucc28\", \"head312hufsackr\", \"ot\", \"qr\", \"zoom\\uc73c\\ub85c\", \"\\uac15\\ud654\", \"\\ub300\\uc0c1\", \"\\ub530\\ub77c\", \"\\ub9c8\\uac10\", \"\\ubaa8\\uc758\", \"\\ube44\\ub300\\uba74\", \"\\uc790\\uae30\\uc18c\\uac1c\\uc11c\", \"\\uc9c1\\ubb34\\uc5ed\\ub7c9\", \"\\ud56d\\ubaa9\\ubcc4\", \"2021\", \"\\ud30c\\uc77c\\uc744\", \"0313304686\", \"1\\uc8fc\\uc77c\\uc804\", \"4\\uc8fc\", \"jobhunter1hufsackr\", \"\\uac01\\uac01\\uc758\", \"\\uae30\\uc5c5\\uc5d0\", \"\\uae30\\ud68d\\uc785\\ub2c8\\ub2e4\", \"\\ub098\\ub9cc\", \"\\ub098\\uc758\", \"\\ub530\\ub85c\", \"\\uba54\\uc77c\", \"\\ubc29\\ubc95\\uc740\", \"\\ubcf8\\ub2e4\", \"\\ubd80\\uac01\", \"\\ubd84\\uc11d\\uc73c\\ub85c\", \"\\uc0ac\\ub840\\ub97c\", \"\\uc0ac\\ub840\\ubcf4\\uba70\", \"\\uc218\\uc2dc\\ucc44\\uc6a9\", \"\\uc2dc\\ub9ac\\uc988\", \"\\uc2e0\\uccad\\ud569\\ub2c8\\ub2e4\\uac15\\uc758\", \"\\uc2e0\\uccad\\ud574\", \"\\uc54c\\uace0\", \"\\uc5b4\\ud544\\ud558\\ub294\", \"\\uc5c6\\uc744\\uae4c\", \"\\uc5ed\\ub7c9\\uc744\", \"\\uad00\\ub828\", \"\\ubd80\\ud2b8\", \"\\ud568\\uaed8\", \"\\ud604\\uc9c1\\uc790\\uc640\", \"\\uc9c1\\ubb34\", \"\\ud604\\uc9c1\\uc790\", \"\\ubb38\\uc758\", \"\\uc2e0\\uccad\", \"\\uc791\\uc131\", \"5\\uc8fc\", \"\\ubd84\\uc11d\", \"\\uc788\\ub294\", \"\\uc2e4\\ubb34\", \"\\ub4dc\\ub824\\uc694\", \"\\uc0ac\\ud56d\", \"\\uc120\\ubc1c\\ub418\\uba74\", \"\\uc120\\ubc1c\\ud558\\uc5ec\", \"\\uc218\\ud589\\uc73c\\ub85c\", \"\\uc2e0\\uccad\\uc11c\", \"\\uc2e0\\uccad\\ud55c\\ub2e4\", \"\\uc313\\ub294\", \"\\uc774\\uc6a9\\uad8c\\uc744\", \"\\uc9c1\\ubb34\\uad50\\uc721\", \"\\uc9c1\\ubb34\\ubd80\\ud2b8\\ucea0\\ud504\\uc5d0\", \"\\ucc38\\uc5ec\", \"79\\uba85\\uc744\", \"\\ubc1b\\uc544\", \"\\uc2e0\\uccad\\ud559\\uc0dd\", \"\\uc791\\uc131\\ud55c\\ub2e4\", \"\\uc9c1\\ubb34\\ubd80\\ud2b8\\ucea0\\ud504\\ucc38\\uac00\\uc2e0\\uccad\\uc11c_\\ud64d\\uae38\\ub3d9hwp\", \"\\ucca8\\ubd80\\ub41c\", \"\\ucca8\\ubd80\\ud558\\uc5ec\", \"\\ucea0\\ud504\\ucf54\\uba58\\ud1a0\", \"\\ucf54\\uba58\\ud1a0httpswwwcomentokr\", \"\\ud504\\ub85c\\uadf8\\ub7a8\\uc5d0\", \"0313304686\", \"1\\uc8fc\\uc77c\\uc804\", \"4\\uc8fc\", \"jobhunter1hufsackr\", \"\\uac01\\uac01\\uc758\", \"\\uae30\\uc5c5\\uc5d0\", \"\\uae30\\ud68d\\uc785\\ub2c8\\ub2e4\", \"\\ub098\\ub9cc\", \"\\ub098\\uc758\", \"\\ub530\\ub85c\", \"\\uba54\\uc77c\", \"\\ubc29\\ubc95\\uc740\", \"\\ubcf8\\ub2e4\", \"\\ubd80\\uac01\", \"\\ubd84\\uc11d\\uc73c\\ub85c\", \"\\uc0ac\\ub840\\ub97c\", \"\\uc0ac\\ub840\\ubcf4\\uba70\", \"\\uc218\\uc2dc\\ucc44\\uc6a9\", \"\\uc2dc\\ub9ac\\uc988\", \"\\uc2e0\\uccad\\ud569\\ub2c8\\ub2e4\\uac15\\uc758\", \"5\\uc8fc\", \"\\ubd84\\uc11d\", \"\\uc2e4\\ubb34\", \"\\ucea0\\ud504\", \"\\ud604\\uc9c1\\uc790\", \"\\ud568\\uaed8\", \"\\uc544\\ub798\", \"0313304042\", \"\\ud504\\ub85c\\uadf8\\ub7a8\", \"\\uacfc\\uc81c\", \"2\\uc8fc\\ucc28\", \"\\ubb38\\uc758\", \"\\uc2e0\\uccad\", \"\\uc791\\uc131\", \"\\uc9c1\\ubb34\", \"\\uc788\\ub294\", \"hufsability\", \"\\uc81c\\uacf5\", \"\\ucea0\\ud37c\\uc2a4\", \"\\ucf58\\ud150\\uce20\", \"\\ucee4\\ubba4\\ub2c8\\ucf00\\uc774\\uc158\", \"\\ud504\\ub85c\\uc138\\uc2a4\", \"\\ub4dc\\ub824\\uc694\", \"\\uc0ac\\ud56d\", \"\\uc120\\ubc1c\\ub418\\uba74\", \"\\uc120\\ubc1c\\ud558\\uc5ec\", \"\\uc218\\ud589\\uc73c\\ub85c\", \"\\uc2e0\\uccad\\uc11c\", \"\\uc2e0\\uccad\\ud55c\\ub2e4\", \"\\uc313\\ub294\"], \"Freq\": [11.0, 16.0, 4.0, 33.0, 5.0, 4.0, 5.0, 11.0, 7.0, 9.0, 4.0, 4.0, 4.0, 4.0, 4.0, 8.0, 8.0, 8.0, 8.0, 1.0, 1.0, 3.0, 3.0, 3.0, 3.0, 3.0, 3.0, 3.0, 3.0, 3.0, 10.800083917730017, 5.094373033127807, 4.279271460506354, 4.279271460506354, 4.279271084549644, 3.464169821479032, 3.464169821479032, 3.464169821479032, 3.464169821479032, 3.464169821479032, 3.464169821479032, 3.464169821479032, 3.464169821479032, 3.4641693083345615, 3.4641684318341173, 2.649068047717957, 2.649068047717957, 2.6490680335315213, 1.8339660092294596, 1.8339660092294596, 1.8339660092294596, 1.8339660092294596, 1.8339660092294596, 1.8339660092294596, 1.8339660092294596, 1.833966028343711, 1.8339661299193717, 1.833966088686114, 1.833966088686114, 1.833966088686114, 3.46449277116502, 3.464060491167591, 2.649150247890353, 3.4646649249122747, 5.094458677535162, 12.429395601700985, 5.094587650271616, 9.169994740349516, 5.909691025278364, 3.464099917437995, 3.4640652690270453, 3.4640652690270453, 3.4639589340793835, 3.4635795663049276, 3.4635795663049276, 3.4635795663049276, 3.46371538813072, 3.388439658715099, 3.3884394765756625, 3.3884394765756625, 3.3884394765756625, 3.3884394765756625, 3.3884394765756625, 3.3884394765756625, 3.3884394765756625, 3.3884394765756625, 3.3884394765756625, 3.3884394765756625, 3.3884394765756625, 3.3884394765756625, 3.3884394765756625, 3.3884394765756625, 3.3884394765756625, 3.3884394765756625, 3.3884394765756625, 3.3884394765756625, 3.3884394765756625, 3.3884394765756625, 3.3884394765756625, 3.3884394765756625, 3.3884394765756625, 3.3884394765756625, 3.3884394765756625, 2.5911565750046712, 1.7938739043025609, 1.7938738524480953, 1.7938738524480953, 12.957347400610413, 3.38866091470487, 3.3886023611498883, 6.578376600257651, 6.578376600257651, 6.578376600257651, 19.33654753411324, 6.579047311284512, 12.9581832016003, 7.375818723693854, 6.578150481081173, 6.578150481081173, 6.578150481081173, 6.57870048748825, 7.37590764105762, 3.388888380010306, 3.388845634180751, 3.388845634180751, 3.388845634180751, 3.3888284320694444, 3.388765426473173, 3.3887478685354373, 3.3887478685354373, 3.3887478685354373, 3.3887478685354373, 3.3887478685354373, 3.3887478685354373, 3.3887478685354373, 3.3887478685354373, 3.3887478685354373, 3.3887478685354373, 3.3887478685354373, 1.4903944523884822, 1.4903944523884822, 1.031809946739324, 1.031809525913461, 1.031809525913461, 0.5732250847501406, 0.5732250847501406, 0.5732250847501406, 0.5732250847501406, 0.5732250847501406, 0.5732250847501406, 0.5732250847501406, 0.5732250847501406, 0.5732250847501406, 0.5732250847501406, 0.5732250847501406, 0.5732250847501406, 0.5732250847501406, 0.5732250847501406, 0.5732250847501406, 0.5732250847501406, 0.5732250847501406, 0.5732250847501406, 0.5732250847501406, 0.5732250847501406, 0.5732250847501406, 0.5732250847501406, 0.5732250847501406, 0.5732250847501406, 0.5732250847501406, 1.0321001911385002, 1.0320966893172867, 1.0321892118098825, 1.0318739131576968, 1.9480745728015547, 1.0321375236484296, 1.0319476982076774, 1.0318125638219164, 1.0317123153762113, 0.5734101169431816, 0.5734065610821087, 0.573338553885764, 0.5733365769792951, 0.5733265868399735, 0.5733265868399735, 0.5733265868399735, 0.5733265868399735, 0.5733265868399735, 0.5733265868399735, 0.5733265868399735, 0.5733265868399735, 0.5733265868399735, 0.5733265868399735, 0.5733265868399735, 0.5733265868399735, 0.004459620404119994, 0.004459620404119994, 0.004459620404119994, 0.004459620404119994, 0.004459620404119994, 0.004459620404119994, 0.004459620404119994, 0.004459620404119994, 0.004459620404119994, 0.004459620404119994, 0.00445961258387248, 0.00445961258387248, 0.00445961258387248, 0.00445961258387248, 0.00445961258387248, 0.00445961258387248, 0.00445961258387248, 0.00445961258387248, 0.00445961258387248, 0.00445961258387248, 0.00445961258387248, 0.00445961258387248, 0.00445961258387248, 0.00445961258387248, 0.00445961258387248, 0.00445961258387248, 0.00445961258387248, 0.00445961258387248, 0.00445961258387248, 0.00445961258387248, 0.004459952422689561, 0.004459946191921525, 0.0044599391988349064, 0.0044599275765500185, 0.004459914254105268, 0.0044599105969552405, 0.0044599102081980145, 0.004459908646371683, 0.004459900719390194, 0.004459899316479189, 0.0044598939503292575, 0.004459893834678639, 0.0044598918098009265, 0.004459877681301343, 0.004459866905175013, 0.0044598105771467365, 0.004459809484307293, 0.004459809484307293, 0.004459809484307293, 0.0044598085432868695, 0.004459798063482751, 0.0044597903454378415, 0.004459783030677363, 0.004459783030677363, 0.004459783030677363, 0.004459783030677363, 0.004459783030677363, 0.004459783030677363, 0.004459783030677363, 0.004459783030677363], \"Total\": [11.0, 16.0, 4.0, 33.0, 5.0, 4.0, 5.0, 11.0, 7.0, 9.0, 4.0, 4.0, 4.0, 4.0, 4.0, 8.0, 8.0, 8.0, 8.0, 1.0, 1.0, 3.0, 3.0, 3.0, 3.0, 3.0, 3.0, 3.0, 3.0, 3.0, 11.118513779011833, 5.4128029062623755, 4.597701411316792, 4.597701411316792, 4.597701065377835, 3.7825998388627187, 3.7825998388627187, 3.7825998388627187, 3.7825998388627187, 3.7825998388627187, 3.7825998388627187, 3.7825998388627187, 3.7825998388627187, 3.782599312148571, 3.782598614714561, 2.967498107358521, 2.967498107358521, 2.967498141557063, 2.152396149702448, 2.152396149702448, 2.152396149702448, 2.152396149702448, 2.152396149702448, 2.152396149702448, 2.152396149702448, 2.152396230423373, 2.15239636590727, 2.15239633852508, 2.15239633852508, 2.15239633852508, 4.579879824347872, 4.699717747261943, 3.4261152179241203, 5.038475811970021, 8.60192726831946, 33.71847757552095, 9.51909701418478, 22.704452686336804, 13.862562068903916, 6.9717202577906745, 6.9717199278038855, 6.9717199278038855, 7.888784785873373, 10.160839901531219, 10.160839901531219, 10.160839901531219, 10.619713622401989, 3.7113240979682525, 3.7113239741051496, 3.7113239741051496, 3.7113239741051496, 3.7113239741051496, 3.7113239741051496, 3.7113239741051496, 3.7113239741051496, 3.7113239741051496, 3.7113239741051496, 3.7113239741051496, 3.7113239741051496, 3.7113239741051496, 3.7113239741051496, 3.7113239741051496, 3.7113239741051496, 3.7113239741051496, 3.7113239741051496, 3.7113239741051496, 3.7113239741051496, 3.7113239741051496, 3.7113239741051496, 3.7113239741051496, 3.7113239741051496, 3.7113239741051496, 3.7113239741051496, 2.9140411649083897, 2.116758533633925, 2.1167585043649546, 2.1167585043649546, 16.53907980284892, 4.169999171625032, 4.169974384156202, 8.530631349391616, 8.530631349391616, 8.530631349391616, 33.71847757552095, 8.989488835219234, 22.704452686336804, 11.8753593702955, 10.160839901531219, 10.160839901531219, 10.160839901531219, 10.619713622401989, 13.862562068903916, 4.5264065218785055, 4.526405402355242, 4.526405402355242, 4.526405402355242, 6.61532728820557, 4.526408835035119, 5.341511889676012, 5.341511889676012, 5.341511889676012, 5.341511889676012, 5.341511889676012, 5.341511889676012, 5.341511889676012, 5.341511889676012, 5.341511889676012, 5.341511889676012, 5.341511889676012, 1.8979523634317885, 1.8979523634317885, 1.4393679540280953, 1.4393679625367963, 1.4393679625367963, 0.9807833759508229, 0.9807833759508229, 0.9807833759508229, 0.9807833759508229, 0.9807833759508229, 0.9807833759508229, 0.9807833759508229, 0.9807833759508229, 0.9807833759508229, 0.9807833759508229, 0.9807833759508229, 0.9807833759508229, 0.9807833759508229, 0.9807833759508229, 0.9807833759508229, 0.9807833759508229, 0.9807833759508229, 0.9807833759508229, 0.9807833759508229, 0.9807833759508229, 0.9807833759508229, 0.9807833759508229, 0.9807833759508229, 0.9807833759508229, 0.9807833759508229, 2.254236360137235, 2.2542389233042686, 4.681660526928381, 4.699717747261943, 33.71847757552095, 5.443325466693717, 7.888784785873373, 9.51909701418478, 11.8753593702955, 2.593011811021705, 2.5930145556550768, 1.7957877846991683, 3.39034684025078, 1.7957983213077318, 1.7957983213077318, 1.7957983213077318, 1.7957983213077318, 1.7957983213077318, 1.7957983213077318, 1.7957983213077318, 1.7957983213077318, 1.7957983213077318, 1.7957983213077318, 1.7957983213077318, 1.7957983213077318, 0.9807833854142199, 0.9807833854142199, 0.9807833854142199, 0.9807833854142199, 0.9807833854142199, 0.9807833854142199, 0.9807833854142199, 0.9807833854142199, 0.9807833854142199, 0.9807833854142199, 0.9807833759508229, 0.9807833759508229, 0.9807833759508229, 0.9807833759508229, 0.9807833759508229, 0.9807833759508229, 0.9807833759508229, 0.9807833759508229, 0.9807833759508229, 0.9807833759508229, 0.9807833759508229, 0.9807833759508229, 0.9807833759508229, 0.9807833759508229, 0.9807833759508229, 0.9807833759508229, 0.9807833759508229, 0.9807833759508229, 0.9807833759508229, 0.9807833759508229, 2.593011811021705, 2.5930145556550768, 3.39034684025078, 5.038475811970021, 5.443325466693717, 4.681660526928381, 8.989488835219234, 6.61532728820557, 13.862562068903916, 22.704452686336804, 10.619713622401989, 7.888784785873373, 9.51909701418478, 11.8753593702955, 33.71847757552095, 1.7957877846991683, 4.526405402355242, 4.526405402355242, 4.526405402355242, 3.7291256668851034, 2.1345666786984623, 2.949671365545799, 1.7957983213077318, 1.7957983213077318, 1.7957983213077318, 1.7957983213077318, 1.7957983213077318, 1.7957983213077318, 1.7957983213077318, 1.7957983213077318], \"Category\": [\"Default\", \"Default\", \"Default\", \"Default\", \"Default\", \"Default\", \"Default\", \"Default\", \"Default\", \"Default\", \"Default\", \"Default\", \"Default\", \"Default\", \"Default\", \"Default\", \"Default\", \"Default\", \"Default\", \"Default\", \"Default\", \"Default\", \"Default\", \"Default\", \"Default\", \"Default\", \"Default\", \"Default\", \"Default\", \"Default\", \"Topic1\", \"Topic1\", \"Topic1\", \"Topic1\", \"Topic1\", \"Topic1\", \"Topic1\", \"Topic1\", \"Topic1\", \"Topic1\", \"Topic1\", \"Topic1\", \"Topic1\", \"Topic1\", \"Topic1\", \"Topic1\", \"Topic1\", \"Topic1\", \"Topic1\", \"Topic1\", \"Topic1\", \"Topic1\", \"Topic1\", \"Topic1\", \"Topic1\", \"Topic1\", \"Topic1\", \"Topic1\", \"Topic1\", \"Topic1\", \"Topic1\", \"Topic1\", \"Topic1\", \"Topic1\", \"Topic1\", \"Topic1\", \"Topic1\", \"Topic1\", \"Topic1\", \"Topic1\", \"Topic1\", \"Topic1\", \"Topic1\", \"Topic1\", \"Topic1\", \"Topic1\", \"Topic1\", \"Topic2\", \"Topic2\", \"Topic2\", \"Topic2\", \"Topic2\", \"Topic2\", \"Topic2\", \"Topic2\", \"Topic2\", \"Topic2\", \"Topic2\", \"Topic2\", \"Topic2\", \"Topic2\", \"Topic2\", \"Topic2\", \"Topic2\", \"Topic2\", \"Topic2\", \"Topic2\", \"Topic2\", \"Topic2\", \"Topic2\", \"Topic2\", \"Topic2\", \"Topic2\", \"Topic2\", \"Topic2\", \"Topic2\", \"Topic2\", \"Topic2\", \"Topic2\", \"Topic2\", \"Topic2\", \"Topic2\", \"Topic2\", \"Topic2\", \"Topic2\", \"Topic2\", \"Topic2\", \"Topic2\", \"Topic2\", \"Topic2\", \"Topic2\", \"Topic2\", \"Topic2\", \"Topic2\", \"Topic2\", \"Topic2\", \"Topic2\", \"Topic2\", \"Topic2\", \"Topic2\", \"Topic2\", \"Topic2\", \"Topic2\", \"Topic2\", \"Topic2\", \"Topic2\", \"Topic2\", \"Topic2\", \"Topic2\", \"Topic3\", \"Topic3\", \"Topic3\", \"Topic3\", \"Topic3\", \"Topic3\", \"Topic3\", \"Topic3\", \"Topic3\", \"Topic3\", \"Topic3\", \"Topic3\", \"Topic3\", \"Topic3\", \"Topic3\", \"Topic3\", \"Topic3\", \"Topic3\", \"Topic3\", \"Topic3\", \"Topic3\", \"Topic3\", \"Topic3\", \"Topic3\", \"Topic3\", \"Topic3\", \"Topic3\", \"Topic3\", \"Topic3\", \"Topic3\", \"Topic3\", \"Topic3\", \"Topic3\", \"Topic3\", \"Topic3\", \"Topic3\", \"Topic3\", \"Topic3\", \"Topic3\", \"Topic3\", \"Topic3\", \"Topic3\", \"Topic3\", \"Topic3\", \"Topic3\", \"Topic3\", \"Topic3\", \"Topic3\", \"Topic3\", \"Topic3\", \"Topic3\", \"Topic3\", \"Topic3\", \"Topic3\", \"Topic3\", \"Topic4\", \"Topic4\", \"Topic4\", \"Topic4\", \"Topic4\", \"Topic4\", \"Topic4\", \"Topic4\", \"Topic4\", \"Topic4\", \"Topic4\", \"Topic4\", \"Topic4\", \"Topic4\", \"Topic4\", \"Topic4\", \"Topic4\", \"Topic4\", \"Topic4\", \"Topic4\", \"Topic4\", \"Topic4\", \"Topic4\", \"Topic4\", \"Topic4\", \"Topic4\", \"Topic4\", \"Topic4\", \"Topic4\", \"Topic4\", \"Topic4\", \"Topic4\", \"Topic4\", \"Topic4\", \"Topic4\", \"Topic4\", \"Topic4\", \"Topic4\", \"Topic4\", \"Topic4\", \"Topic4\", \"Topic4\", \"Topic4\", \"Topic4\", \"Topic4\", \"Topic4\", \"Topic4\", \"Topic4\", \"Topic4\", \"Topic4\", \"Topic4\", \"Topic4\", \"Topic4\", \"Topic4\", \"Topic4\", \"Topic4\", \"Topic4\", \"Topic4\", \"Topic4\", \"Topic4\"], \"logprob\": [30.0, 29.0, 28.0, 27.0, 26.0, 25.0, 24.0, 23.0, 22.0, 21.0, 20.0, 19.0, 18.0, 17.0, 16.0, 15.0, 14.0, 13.0, 12.0, 11.0, 10.0, 9.0, 8.0, 7.0, 6.0, 5.0, 4.0, 3.0, 2.0, 1.0, -4.0509, -4.8023, -4.9767, -4.9767, -4.9767, -5.188, -5.188, -5.188, -5.188, -5.188, -5.188, -5.188, -5.188, -5.188, -5.188, -5.4563, -5.4563, -5.4563, -5.824, -5.824, -5.824, -5.824, -5.824, -5.824, -5.824, -5.824, -5.824, -5.824, -5.824, -5.824, -5.1879, -5.188, -5.4562, -5.1879, -4.8023, -3.9104, -4.8023, -4.2145, -4.6539, -5.188, -5.188, -5.188, -5.1881, -5.1882, -5.1882, -5.1882, -5.1881, -5.096, -5.096, -5.096, -5.096, -5.096, -5.096, -5.096, -5.096, -5.096, -5.096, -5.096, -5.096, -5.096, -5.096, -5.096, -5.096, -5.096, -5.096, -5.096, -5.096, -5.096, -5.096, -5.096, -5.096, -5.096, -5.096, -5.3642, -5.732, -5.732, -5.732, -3.7547, -5.0959, -5.0959, -4.4325, -4.4325, -4.4325, -3.3543, -4.4324, -3.7546, -4.3181, -4.4326, -4.4326, -4.4326, -4.4325, -4.3181, -5.0958, -5.0958, -5.0958, -5.0958, -5.0958, -5.0959, -5.0959, -5.0959, -5.0959, -5.0959, -5.0959, -5.0959, -5.0959, -5.0959, -5.0959, -5.0959, -5.0959, -4.3675, -4.3675, -4.7352, -4.7352, -4.7352, -5.323, -5.323, -5.323, -5.323, -5.323, -5.323, -5.323, -5.323, -5.323, -5.323, -5.323, -5.323, -5.323, -5.323, -5.323, -5.323, -5.323, -5.323, -5.323, -5.323, -5.323, -5.323, -5.323, -5.323, -5.323, -4.7349, -4.735, -4.7349, -4.7352, -4.0997, -4.7349, -4.7351, -4.7352, -4.7353, -5.3227, -5.3227, -5.3228, -5.3228, -5.3228, -5.3228, -5.3228, -5.3228, -5.3228, -5.3228, -5.3228, -5.3228, -5.3228, -5.3228, -5.3228, -5.3228, -6.3226, -6.3226, -6.3226, -6.3226, -6.3226, -6.3226, -6.3226, -6.3226, -6.3226, -6.3226, -6.3226, -6.3226, -6.3226, -6.3226, -6.3226, -6.3226, -6.3226, -6.3226, -6.3226, -6.3226, -6.3226, -6.3226, -6.3226, -6.3226, -6.3226, -6.3226, -6.3226, -6.3226, -6.3226, -6.3226, -6.3225, -6.3225, -6.3225, -6.3225, -6.3225, -6.3225, -6.3225, -6.3225, -6.3225, -6.3225, -6.3225, -6.3225, -6.3225, -6.3225, -6.3225, -6.3225, -6.3225, -6.3225, -6.3225, -6.3225, -6.3225, -6.3225, -6.3225, -6.3225, -6.3225, -6.3225, -6.3225, -6.3225, -6.3225, -6.3225], \"loglift\": [30.0, 29.0, 28.0, 27.0, 26.0, 25.0, 24.0, 23.0, 22.0, 21.0, 20.0, 19.0, 18.0, 17.0, 16.0, 15.0, 14.0, 13.0, 12.0, 11.0, 10.0, 9.0, 8.0, 7.0, 6.0, 5.0, 4.0, 3.0, 2.0, 1.0, 0.706, 0.6744, 0.6633, 0.6633, 0.6633, 0.6471, 0.6471, 0.6471, 0.6471, 0.6471, 0.6471, 0.6471, 0.6471, 0.6471, 0.6471, 0.6215, 0.6215, 0.6215, 0.5749, 0.5749, 0.5749, 0.5749, 0.5749, 0.5749, 0.5749, 0.5749, 0.5749, 0.5749, 0.5749, 0.5749, 0.4559, 0.43, 0.4778, 0.3605, 0.2112, -0.263, 0.1099, -0.1716, -0.1176, 0.0356, 0.0356, 0.0356, -0.088, -0.3412, -0.3412, -0.3412, -0.3853, 0.7581, 0.7581, 0.7581, 0.7581, 0.7581, 0.7581, 0.7581, 0.7581, 0.7581, 0.7581, 0.7581, 0.7581, 0.7581, 0.7581, 0.7581, 0.7581, 0.7581, 0.7581, 0.7581, 0.7581, 0.7581, 0.7581, 0.7581, 0.7581, 0.7581, 0.7581, 0.7317, 0.6837, 0.6837, 0.6837, 0.6051, 0.6417, 0.6417, 0.5893, 0.5893, 0.5893, 0.2931, 0.537, 0.2883, 0.3729, 0.4144, 0.4144, 0.4144, 0.3703, 0.2182, 0.5597, 0.5597, 0.5597, 0.5597, 0.1803, 0.5597, 0.3941, 0.3941, 0.3941, 0.3941, 0.3941, 0.3941, 0.3941, 0.3941, 0.3941, 0.3941, 0.3941, 2.1572, 2.1572, 2.0661, 2.0661, 2.0661, 1.8619, 1.8619, 1.8619, 1.8619, 1.8619, 1.8619, 1.8619, 1.8619, 1.8619, 1.8619, 1.8619, 1.8619, 1.8619, 1.8619, 1.8619, 1.8619, 1.8619, 1.8619, 1.8619, 1.8619, 1.8619, 1.8619, 1.8619, 1.8619, 1.8619, 1.6177, 1.6177, 0.887, 0.8828, -0.4523, 0.7362, 0.365, 0.177, -0.0443, 0.89, 0.89, 1.2572, 0.6217, 1.2572, 1.2572, 1.2572, 1.2572, 1.2572, 1.2572, 1.2572, 1.2572, 1.2572, 1.2572, 1.2572, 1.2572, 0.8623, 0.8623, 0.8623, 0.8623, 0.8623, 0.8623, 0.8623, 0.8623, 0.8623, 0.8623, 0.8623, 0.8623, 0.8623, 0.8623, 0.8623, 0.8623, 0.8623, 0.8623, 0.8623, 0.8623, 0.8623, 0.8623, 0.8623, 0.8623, 0.8623, 0.8623, 0.8623, 0.8623, 0.8623, 0.8623, -0.1098, -0.1098, -0.3779, -0.7741, -0.8514, -0.7007, -1.3531, -1.0464, -1.7862, -2.2796, -1.5197, -1.2225, -1.4103, -1.6315, -2.6751, 0.2575, -0.667, -0.667, -0.667, -0.4732, 0.0847, -0.2387, 0.2575, 0.2575, 0.2575, 0.2575, 0.2575, 0.2575, 0.2575, 0.2575]}, \"token.table\": {\"Topic\": [1, 2, 3, 3, 2, 1, 2, 2, 2, 2, 2, 1, 1, 3, 1, 2, 3, 1, 1, 1, 2, 3, 2, 1, 2, 1, 3, 1, 2, 1, 2, 3, 1, 2, 3, 2, 1, 1, 2, 1, 2, 2, 3, 1, 2, 2, 1, 2, 2, 1, 2, 1, 3, 2, 3, 1, 2, 1, 2, 3, 2, 2, 1, 3, 3, 2, 2, 3, 3, 3, 1, 2, 1, 3, 1, 3, 1, 2, 3, 1, 1, 2, 1, 3, 2, 1, 2, 1, 2, 3, 1, 3, 2, 1, 3, 2, 3, 3, 1, 3, 2, 1, 2, 3, 3, 2, 1, 2, 3, 3, 1, 3, 1, 1, 3, 1, 3, 1, 1, 3, 2, 1, 1, 3, 2, 1, 3, 1, 2, 3, 1, 3, 3, 1, 3, 3, 3, 1, 2, 3, 1, 2, 1, 1, 3, 1, 2, 3, 3, 3, 1, 2, 3, 2, 1, 2, 3, 1, 2, 3, 1, 3, 1, 2, 2, 1, 3, 1, 3, 1, 2, 3, 3, 1, 2, 1, 1, 2, 2, 2, 1, 2, 2, 1, 2, 1, 2, 3, 1, 3, 2, 1, 3, 3, 3, 1, 3, 3, 3, 1, 1, 2, 1, 2, 3, 1, 3, 1, 2, 1, 2, 3, 1, 2, 3, 2, 2, 1, 2, 3, 3, 1, 1, 2, 1, 2, 1, 1, 1, 1, 2, 3, 3, 1, 1, 2, 1, 2, 3, 1, 3, 1, 2, 1, 1], \"Freq\": [0.45349230193775647, 0.45349230193775647, 0.15116410064591881, 1.0195931380163816, 0.8083368687109405, 0.4303098849447054, 0.4303098849447054, 0.8083368687109405, 0.8083368687109405, 0.8083368687109405, 0.8083368687109405, 0.9291968975242223, 0.9291968975242223, 1.0195931380163816, 0.2344492357113328, 0.8205723249896648, 0.6947493803027006, 0.7931055619620331, 0.9291968975242223, 0.2824934933905924, 0.6591514845780488, 0.09416449779686413, 0.8083368687109405, 0.2344492357113328, 0.8205723249896648, 0.9291969790396086, 1.0195931380163816, 0.29525118288183105, 0.6889194267242724, 0.38565192636202356, 0.38565192636202356, 0.38565192636202356, 0.3744258257415036, 0.5616387386122554, 1.0195931281785164, 0.8083368687109405, 1.0109526129057265, 0.3744258257415036, 0.5616387386122554, 0.22092585862496233, 0.6627775758748871, 0.9448408951119424, 1.0195931380163816, 0.3744258257415036, 0.5616387386122554, 0.8083368687109405, 0.3744258257415036, 0.5616387386122554, 0.8083368687109405, 0.3744258257415036, 0.5616387386122554, 0.9291969790396086, 1.0195931380163816, 0.7194288798028319, 0.23980962660094396, 0.3744258257415036, 0.5616387386122554, 0.3963980160339238, 0.572574912049001, 0.044044224003769304, 0.8083368687109405, 0.9448408951119424, 0.44360920517630253, 0.44360920517630253, 1.0195931380163816, 0.8083368687109405, 0.9448408820473817, 1.0195931380163816, 1.0195931380163816, 1.0195931380163816, 0.3744258257415036, 0.5616387386122554, 0.8756272948163422, 0.2918757649387807, 0.556855404159072, 0.556855404159072, 0.3744258257415036, 0.5616387386122554, 1.0195931380163816, 0.9291969790396086, 0.3744258257415036, 0.5616387386122554, 0.929196885703237, 1.0195931380163816, 0.8083368687109405, 0.3744258257415036, 0.5616387386122554, 0.3802867084639156, 0.3802867084639156, 0.12676223615463852, 0.8700000159038794, 1.0195931281785164, 0.8083368687109405, 0.8699999504435828, 1.0195931380163816, 0.8083368417332069, 1.0195931380163816, 1.0195931380163816, 0.44360870077347336, 0.44360870077347336, 0.8083368687109405, 0.3856515181602475, 0.3856515181602475, 0.3856515181602475, 1.0195931380163816, 0.8083368687109405, 0.3744258257415036, 0.5616387386122554, 1.0195931380163816, 1.0195931380163816, 0.556855404159072, 0.556855404159072, 0.7931054157295758, 0.556855404159072, 0.556855404159072, 0.556855404159072, 0.556855404159072, 0.9291969441921032, 0.7931053052923472, 1.0195931380163816, 0.8083368687109405, 0.7931053052923472, 0.556855404159072, 0.556855404159072, 0.8083368687109405, 0.7931053052923472, 1.0195931380163816, 0.5252599056979148, 0.31515594341874886, 0.10505198113958296, 0.556855404159072, 0.556855404159072, 1.0195931281785164, 0.556855404159072, 0.556855404159072, 1.0195931380163816, 1.0195931380163816, 0.2949550730703503, 0.5899101461407006, 0.2949550730703503, 0.29525118288183105, 0.6889194267242724, 1.010952624556317, 0.556855404159072, 0.556855404159072, 0.2224820606222183, 0.7786872121777639, 0.11124103031110914, 1.0195931380163816, 1.0195931380163816, 0.6550390217776444, 0.21834634059254815, 1.0195931380163816, 0.8083368687109405, 0.4303098849447054, 0.4303098849447054, 1.0195931380163816, 0.9291969790396086, 0.7194246033461229, 0.23980820111537432, 0.556855404159072, 0.556855404159072, 0.2344492357113328, 0.8205723249896648, 1.0294981540160613, 0.5568586714534984, 0.5568586714534984, 0.8699999504435828, 0.5268836137656515, 0.252623933849452, 0.5894558456487212, 0.08420797794981733, 1.0195931281785164, 0.2209258039830213, 0.6627774119490639, 0.9291969790396086, 0.22092585862496233, 0.6627775758748871, 0.8083368687109405, 0.8083368687109405, 0.4303098645771961, 0.4303098645771961, 0.8083368687109405, 0.29525118288183105, 0.6889194267242724, 0.3558879541083373, 0.563489260671534, 0.059314659018056215, 0.556855404159072, 0.556855404159072, 0.8083368687109405, 0.556855404159072, 0.556855404159072, 1.0195931281785164, 0.5268836137656515, 0.556855404159072, 0.556855404159072, 1.0195931281785164, 1.0195931281785164, 0.7931053052923472, 0.22092585862496233, 0.6627775758748871, 0.5954181605621351, 0.19847272018737835, 0.19847272018737835, 0.9291969790396086, 1.0195931281785164, 0.22092569108204324, 0.6627770732461298, 0.46847915784469346, 0.46847915784469346, 1.0195931281785164, 0.26815937282030206, 0.8044781184609062, 0.6947493803027006, 0.8083368687109405, 0.8083368687109405, 0.4328204245490103, 0.5049571619738454, 0.07213673742483506, 1.0195931281785164, 1.010952624556317, 0.6780416365570019, 0.33902081827850095, 0.18138856791072733, 0.7860171276131517, 0.7931053052923472, 0.7931053052923472, 0.9291969790396086, 0.640798277180573, 0.21359942572685767, 0.21359942572685767, 0.6947493844096524, 0.9893408614345968, 0.7931053052923472, 0.8083368687109405, 0.1837112269179453, 0.551133680753836, 0.1837112269179453, 0.638336206838762, 0.21277873561292066, 0.5812650867689606, 0.34875905206137636, 0.9237358327263716, 0.7931053052923472], \"Term\": [\"0313304042\", \"0313304042\", \"0313304042\", \"0313304686\", \"1029\\uc77c\\uae4c\\uc9c0\", \"11\", \"11\", \"111\\uc218\\uc9c0\\uc6d0\\uc11c\", \"113\\uae08\", \"116\\uc6d4\", \"1210\\uc218\\uae4c\\uc9c0\", \"16\\uba85\", \"1\\ubc18\\uc5d0\", \"1\\uc8fc\\uc77c\\uc804\", \"1\\uc8fc\\ucc28\", \"1\\uc8fc\\ucc28\", \"2021\", \"2022\", \"2\\uac1c\\ubc18\", \"2\\uc8fc\\ucc28\", \"2\\uc8fc\\ucc28\", \"2\\uc8fc\\ucc28\", \"3\\uac1c\\uc6d4\", \"3\\uc8fc\\ucc28\", \"3\\uc8fc\\ucc28\", \"4\\uac1c\", \"4\\uc8fc\", \"4\\uc8fc\\ucc28\", \"4\\uc8fc\\ucc28\", \"5\\uc8fc\", \"5\\uc8fc\", \"5\\uc8fc\", \"5\\uc8fc\\ucc28\", \"5\\uc8fc\\ucc28\", \"79\\uba85\\uc744\", \"8\\uba85\\uc9c0\\uc6d0\\uc790\\uc758\", \"b2b\", \"head312hufsackr\", \"head312hufsackr\", \"hufsability\", \"hufsability\", \"imc\", \"jobhunter1hufsackr\", \"ot\", \"ot\", \"qa\", \"qr\", \"qr\", \"qr\\ucf54\\ub4dc\", \"zoom\\uc73c\\ub85c\", \"zoom\\uc73c\\ub85c\", \"\\uac00\\ub2a5\", \"\\uac01\\uac01\\uc758\", \"\\uac15\\uc758\", \"\\uac15\\uc758\", \"\\uac15\\ud654\", \"\\uac15\\ud654\", \"\\uacfc\\uc81c\", \"\\uacfc\\uc81c\", \"\\uacfc\\uc81c\", \"\\uacfc\\uc81c\\ubc1c\\ud45c\", \"\\uacfc\\uc81c\\ube0c\\ub79c\\ub4dc\", \"\\uad00\\ub828\", \"\\uad00\\ub828\", \"\\uae30\\uc5c5\\uc5d0\", \"\\uae30\\ud68c\", \"\\uae30\\ud68d\", \"\\uae30\\ud68d\\uc785\\ub2c8\\ub2e4\", \"\\ub098\\ub9cc\", \"\\ub098\\uc758\", \"\\ub300\\uc0c1\", \"\\ub300\\uc0c1\", \"\\ub3d9\\uc548\", \"\\ub3d9\\uc548\", \"\\ub4dc\\ub824\\uc694\", \"\\ub4dc\\ub824\\uc694\", \"\\ub530\\ub77c\", \"\\ub530\\ub77c\", \"\\ub530\\ub85c\", \"\\ub9ac\\uc2a4\\ud2b8xlsx\", \"\\ub9c8\\uac10\", \"\\ub9c8\\uac10\", \"\\ub9c8\\ub828\", \"\\uba54\\uc77c\", \"\\uba58\\ud1a0\\ub9c1\\uc744\", \"\\ubaa8\\uc758\", \"\\ubaa8\\uc758\", \"\\ubb38\\uc758\", \"\\ubb38\\uc758\", \"\\ubb38\\uc758\", \"\\ubc14\\ub78d\\ub2c8\\ub2e4\", \"\\ubc1b\\uc544\", \"\\ubc1b\\uc73c\\uba70\", \"\\ubc1b\\uc744\", \"\\ubc29\\ubc95\\uc740\", \"\\ubcf4\\uace0\", \"\\ubcf8\\ub2e4\", \"\\ubd80\\uac01\", \"\\ubd80\\ud2b8\", \"\\ubd80\\ud2b8\", \"\\ubd80\\ud2b8\\ucea0\\ud504\\ub97c\", \"\\ubd84\\uc11d\", \"\\ubd84\\uc11d\", \"\\ubd84\\uc11d\", \"\\ubd84\\uc11d\\uc73c\\ub85c\", \"\\ube44\\uad50\\uacfc\", \"\\ube44\\ub300\\uba74\", \"\\ube44\\ub300\\uba74\", \"\\uc0ac\\ub840\\ub97c\", \"\\uc0ac\\ub840\\ubcf4\\uba70\", \"\\uc0ac\\ud56d\", \"\\uc0ac\\ud56d\", \"\\uc120\\ubc1c\", \"\\uc120\\ubc1c\\ub418\\uba74\", \"\\uc120\\ubc1c\\ub418\\uba74\", \"\\uc120\\ubc1c\\ud558\\uc5ec\", \"\\uc120\\ubc1c\\ud558\\uc5ec\", \"\\uc120\\ud0dd\", \"\\uc18c\\uac1c\", \"\\uc218\\uc2dc\\ucc44\\uc6a9\", \"\\uc218\\ud589\", \"\\uc218\\ud589\\uc5d0\", \"\\uc218\\ud589\\uc73c\\ub85c\", \"\\uc218\\ud589\\uc73c\\ub85c\", \"\\uc218\\ud589\\ud558\\ub294\", \"\\uc218\\ud589\\ud558\\uba70\", \"\\uc2dc\\ub9ac\\uc988\", \"\\uc2e0\\uccad\", \"\\uc2e0\\uccad\", \"\\uc2e0\\uccad\", \"\\uc2e0\\uccad\\uc11c\", \"\\uc2e0\\uccad\\uc11c\", \"\\uc2e0\\uccad\\ud559\\uc0dd\", \"\\uc2e0\\uccad\\ud55c\\ub2e4\", \"\\uc2e0\\uccad\\ud55c\\ub2e4\", \"\\uc2e0\\uccad\\ud569\\ub2c8\\ub2e4\\uac15\\uc758\", \"\\uc2e0\\uccad\\ud574\", \"\\uc2e4\\ubb34\", \"\\uc2e4\\ubb34\", \"\\uc2e4\\ubb34\", \"\\uc2ec\\uc0ac\", \"\\uc2ec\\uc0ac\", \"\\uc313\\uae30\", \"\\uc313\\ub294\", \"\\uc313\\ub294\", \"\\uc544\\ub798\", \"\\uc544\\ub798\", \"\\uc544\\ub798\", \"\\uc54c\\uace0\", \"\\uc5b4\\ud544\\ud558\\ub294\", \"\\uc5c5\\ubb34\", \"\\uc5c5\\ubb34\", \"\\uc5c6\\uc744\\uae4c\", \"\\uc5d0\\uc13c\\uc2a4\", \"\\uc5ed\\ub7c9\", \"\\uc5ed\\ub7c9\", \"\\uc5ed\\ub7c9\\uc744\", \"\\uc6d0\\ud558\\ub294\", \"\\uc774\\uc6a9\", \"\\uc774\\uc6a9\", \"\\uc774\\uc6a9\\uad8c\\uc744\", \"\\uc774\\uc6a9\\uad8c\\uc744\", \"\\uc774\\uc6a9\\ud558\\uc5ec\", \"\\uc774\\uc6a9\\ud558\\uc5ec\", \"\\uc774\\ud574\\ud558\\uae30\", \"\\uc788\\ub294\", \"\\uc788\\ub294\", \"\\uc788\\uc2b5\\ub2c8\\ub2e4\", \"\\uc790\\uae30\\uc18c\\uac1c\\uc11c\", \"\\uc791\\uc131\", \"\\uc791\\uc131\", \"\\uc791\\uc131\", \"\\uc791\\uc131\\ud55c\\ub2e4\", \"\\uc804\\ub7b5\", \"\\uc804\\ub7b5\", \"\\uc804\\uc6a9\", \"\\uc81c\\uacf5\", \"\\uc81c\\uacf5\", \"\\uc81c\\ucd9c\", \"\\uc81c\\ud55c\", \"\\uc878\\uc5c5\\uc0dd\", \"\\uc878\\uc5c5\\uc0dd\", \"\\uc911\\ub3c4\", \"\\uc9c0\\uc6d0\\uc11c\", \"\\uc9c0\\uc6d0\\uc11c\", \"\\uc9c1\\ubb34\", \"\\uc9c1\\ubb34\", \"\\uc9c1\\ubb34\", \"\\uc9c1\\ubb34\\uad50\\uc721\", \"\\uc9c1\\ubb34\\uad50\\uc721\", \"\\uc9c1\\ubb34\\ub97c\", \"\\uc9c1\\ubb34\\ubd80\\ud2b8\\ucea0\\ud504\\uc5d0\", \"\\uc9c1\\ubb34\\ubd80\\ud2b8\\ucea0\\ud504\\uc5d0\", \"\\uc9c1\\ubb34\\ubd80\\ud2b8\\ucea0\\ud504\\ucc38\\uac00\\uc2e0\\uccad\\uc11c_\\ud64d\\uae38\\ub3d9hwp\", \"\\uc9c1\\ubb34\\uc5ed\\ub7c9\", \"\\ucc38\\uc5ec\", \"\\ucc38\\uc5ec\", \"\\ucca8\\ubd80\\ub41c\", \"\\ucca8\\ubd80\\ud558\\uc5ec\", \"\\ucde8\\uc5c5\\uc744\", \"\\ucea0\\ud37c\\uc2a4\", \"\\ucea0\\ud37c\\uc2a4\", \"\\ucea0\\ud504\", \"\\ucea0\\ud504\", \"\\ucea0\\ud504\", \"\\ucea0\\ud504\\uac00\", \"\\ucea0\\ud504\\ucf54\\uba58\\ud1a0\", \"\\ucee4\\ub9ac\\ud058\\ub7fc\", \"\\ucee4\\ub9ac\\ud058\\ub7fc\", \"\\ucee4\\ubba4\\ub2c8\\ucf00\\uc774\\uc158\", \"\\ucee4\\ubba4\\ub2c8\\ucf00\\uc774\\uc158\", \"\\ucf54\\uba58\\ud1a0httpswwwcomentokr\", \"\\ucf58\\ud150\\uce20\", \"\\ucf58\\ud150\\uce20\", \"\\ud30c\\uc77c\\uc744\", \"\\ud3ec\\uae30\", \"\\ud3ec\\uc2a4\\ud130\\uc758\", \"\\ud504\\ub85c\\uadf8\\ub7a8\", \"\\ud504\\ub85c\\uadf8\\ub7a8\", \"\\ud504\\ub85c\\uadf8\\ub7a8\", \"\\ud504\\ub85c\\uadf8\\ub7a8\\uc5d0\", \"\\ud504\\ub85c\\uadf8\\ub7a8\\uc740\", \"\\ud504\\ub85c\\uc138\\uc2a4\", \"\\ud504\\ub85c\\uc138\\uc2a4\", \"\\ud53c\\ub4dc\\ubc31\", \"\\ud53c\\ub4dc\\ubc31\", \"\\ud53c\\ub4dc\\ubc31\\uc744\", \"\\ud544\\uc694\\ud55c\", \"\\ud55c\\uad6d\\uc678\\uad6d\\uc5b4\\ub300\\ud559\\uad50\", \"\\ud568\\uaed8\", \"\\ud568\\uaed8\", \"\\ud568\\uaed8\", \"\\ud56d\\ubaa9\\ubcc4\", \"\\ud574\\uc678\\uc601\\uc5c5\", \"\\ud574\\uc678\\uc601\\uc5c5\\ubd80\\uc11c\", \"\\ud604\\uc5c5\", \"\\ud604\\uc9c1\\uc790\", \"\\ud604\\uc9c1\\uc790\", \"\\ud604\\uc9c1\\uc790\", \"\\ud604\\uc9c1\\uc790\\uc640\", \"\\ud604\\uc9c1\\uc790\\uc640\", \"\\ud604\\uc9c1\\uc790\\uc758\", \"\\ud604\\uc9c1\\uc790\\uc758\", \"\\ud655\\uc778\", \"\\ud76c\\ub9dd\\ud558\\ub294\"]}, \"R\": 30, \"lambda.step\": 0.01, \"plot.opts\": {\"xlab\": \"PC1\", \"ylab\": \"PC2\"}, \"topic.order\": [1, 4, 3, 2]};\n",
              "\n",
              "function LDAvis_load_lib(url, callback){\n",
              "  var s = document.createElement('script');\n",
              "  s.src = url;\n",
              "  s.async = true;\n",
              "  s.onreadystatechange = s.onload = callback;\n",
              "  s.onerror = function(){console.warn(\"failed to load library \" + url);};\n",
              "  document.getElementsByTagName(\"head\")[0].appendChild(s);\n",
              "}\n",
              "\n",
              "if(typeof(LDAvis) !== \"undefined\"){\n",
              "   // already loaded: just create the visualization\n",
              "   !function(LDAvis){\n",
              "       new LDAvis(\"#\" + \"ldavis_el5171356902785426246097343451\", ldavis_el5171356902785426246097343451_data);\n",
              "   }(LDAvis);\n",
              "}else if(typeof define === \"function\" && define.amd){\n",
              "   // require.js is available: use it to load d3/LDAvis\n",
              "   require.config({paths: {d3: \"https://d3js.org/d3.v5\"}});\n",
              "   require([\"d3\"], function(d3){\n",
              "      window.d3 = d3;\n",
              "      LDAvis_load_lib(\"https://cdn.jsdelivr.net/gh/bmabey/pyLDAvis@3.4.0/pyLDAvis/js/ldavis.v3.0.0.js\", function(){\n",
              "        new LDAvis(\"#\" + \"ldavis_el5171356902785426246097343451\", ldavis_el5171356902785426246097343451_data);\n",
              "      });\n",
              "    });\n",
              "}else{\n",
              "    // require.js not available: dynamically load d3 & LDAvis\n",
              "    LDAvis_load_lib(\"https://d3js.org/d3.v5.js\", function(){\n",
              "         LDAvis_load_lib(\"https://cdn.jsdelivr.net/gh/bmabey/pyLDAvis@3.4.0/pyLDAvis/js/ldavis.v3.0.0.js\", function(){\n",
              "                 new LDAvis(\"#\" + \"ldavis_el5171356902785426246097343451\", ldavis_el5171356902785426246097343451_data);\n",
              "            })\n",
              "         });\n",
              "}\n",
              "</script>"
            ]
          },
          "metadata": {},
          "execution_count": 69
        }
      ]
    }
  ]
}